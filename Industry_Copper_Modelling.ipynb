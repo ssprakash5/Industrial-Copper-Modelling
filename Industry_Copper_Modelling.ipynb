{
 "cells": [
  {
   "cell_type": "code",
   "execution_count": 1,
   "id": "ad1f19df",
   "metadata": {
    "id": "ad1f19df"
   },
   "outputs": [],
   "source": [
    "import pandas as pd"
   ]
  },
  {
   "cell_type": "code",
   "execution_count": 2,
   "id": "ee702708",
   "metadata": {
    "colab": {
     "base_uri": "https://localhost:8080/"
    },
    "id": "ee702708",
    "outputId": "6629507a-b060-4d25-cbcf-8a84c6cda92b"
   },
   "outputs": [
    {
     "name": "stderr",
     "output_type": "stream",
     "text": [
      "C:\\Users\\Admin\\AppData\\Local\\Temp\\ipykernel_8016\\1832273383.py:1: DtypeWarning: Columns (2) have mixed types. Specify dtype option on import or set low_memory=False.\n",
      "  df=pd.read_csv(\"D:\\Industry Copper Modelling\\Copper_Set.xlsx - Result 1.csv\")\n"
     ]
    }
   ],
   "source": [
    "df=pd.read_csv(\"D:\\Industry Copper Modelling\\Copper_Set.xlsx - Result 1.csv\")"
   ]
  },
  {
   "cell_type": "code",
   "execution_count": 3,
   "id": "7bd5bcef",
   "metadata": {
    "colab": {
     "base_uri": "https://localhost:8080/",
     "height": 947
    },
    "id": "7bd5bcef",
    "outputId": "c27b2b9f-0e27-47ae-9c14-ccfcdd6a3af3"
   },
   "outputs": [
    {
     "data": {
      "text/html": [
       "<div>\n",
       "<style scoped>\n",
       "    .dataframe tbody tr th:only-of-type {\n",
       "        vertical-align: middle;\n",
       "    }\n",
       "\n",
       "    .dataframe tbody tr th {\n",
       "        vertical-align: top;\n",
       "    }\n",
       "\n",
       "    .dataframe thead th {\n",
       "        text-align: right;\n",
       "    }\n",
       "</style>\n",
       "<table border=\"1\" class=\"dataframe\">\n",
       "  <thead>\n",
       "    <tr style=\"text-align: right;\">\n",
       "      <th></th>\n",
       "      <th>id</th>\n",
       "      <th>item_date</th>\n",
       "      <th>quantity tons</th>\n",
       "      <th>customer</th>\n",
       "      <th>country</th>\n",
       "      <th>status</th>\n",
       "      <th>item type</th>\n",
       "      <th>application</th>\n",
       "      <th>thickness</th>\n",
       "      <th>width</th>\n",
       "      <th>material_ref</th>\n",
       "      <th>product_ref</th>\n",
       "      <th>delivery date</th>\n",
       "      <th>selling_price</th>\n",
       "    </tr>\n",
       "  </thead>\n",
       "  <tbody>\n",
       "    <tr>\n",
       "      <th>0</th>\n",
       "      <td>EC06F063-9DF0-440C-8764-0B0C05A4F6AE</td>\n",
       "      <td>20210401.0</td>\n",
       "      <td>54.151139</td>\n",
       "      <td>30156308.0</td>\n",
       "      <td>28.0</td>\n",
       "      <td>Won</td>\n",
       "      <td>W</td>\n",
       "      <td>10.0</td>\n",
       "      <td>2.00</td>\n",
       "      <td>1500.0</td>\n",
       "      <td>DEQ1 S460MC</td>\n",
       "      <td>1670798778</td>\n",
       "      <td>20210701.0</td>\n",
       "      <td>854.00</td>\n",
       "    </tr>\n",
       "    <tr>\n",
       "      <th>1</th>\n",
       "      <td>4E5F4B3D-DDDF-499D-AFDE-A3227EC49425</td>\n",
       "      <td>20210401.0</td>\n",
       "      <td>768.024839</td>\n",
       "      <td>30202938.0</td>\n",
       "      <td>25.0</td>\n",
       "      <td>Won</td>\n",
       "      <td>W</td>\n",
       "      <td>41.0</td>\n",
       "      <td>0.80</td>\n",
       "      <td>1210.0</td>\n",
       "      <td>0000000000000000000000000000000000104991</td>\n",
       "      <td>1668701718</td>\n",
       "      <td>20210401.0</td>\n",
       "      <td>1047.00</td>\n",
       "    </tr>\n",
       "    <tr>\n",
       "      <th>2</th>\n",
       "      <td>E140FF1B-2407-4C02-A0DD-780A093B1158</td>\n",
       "      <td>20210401.0</td>\n",
       "      <td>386.127949</td>\n",
       "      <td>30153963.0</td>\n",
       "      <td>30.0</td>\n",
       "      <td>Won</td>\n",
       "      <td>WI</td>\n",
       "      <td>28.0</td>\n",
       "      <td>0.38</td>\n",
       "      <td>952.0</td>\n",
       "      <td>S0380700</td>\n",
       "      <td>628377</td>\n",
       "      <td>20210101.0</td>\n",
       "      <td>644.33</td>\n",
       "    </tr>\n",
       "    <tr>\n",
       "      <th>3</th>\n",
       "      <td>F8D507A0-9C62-4EFE-831E-33E1DA53BB50</td>\n",
       "      <td>20210401.0</td>\n",
       "      <td>202.411065</td>\n",
       "      <td>30349574.0</td>\n",
       "      <td>32.0</td>\n",
       "      <td>Won</td>\n",
       "      <td>S</td>\n",
       "      <td>59.0</td>\n",
       "      <td>2.30</td>\n",
       "      <td>1317.0</td>\n",
       "      <td>DX51D+ZM310MAO 2.3X1317</td>\n",
       "      <td>1668701718</td>\n",
       "      <td>20210101.0</td>\n",
       "      <td>768.00</td>\n",
       "    </tr>\n",
       "    <tr>\n",
       "      <th>4</th>\n",
       "      <td>4E1C4E78-152B-430A-8094-ADD889C9D0AD</td>\n",
       "      <td>20210401.0</td>\n",
       "      <td>785.526262</td>\n",
       "      <td>30211560.0</td>\n",
       "      <td>28.0</td>\n",
       "      <td>Won</td>\n",
       "      <td>W</td>\n",
       "      <td>10.0</td>\n",
       "      <td>4.00</td>\n",
       "      <td>2000.0</td>\n",
       "      <td>2_S275JR+AR-CL1</td>\n",
       "      <td>640665</td>\n",
       "      <td>20210301.0</td>\n",
       "      <td>577.00</td>\n",
       "    </tr>\n",
       "    <tr>\n",
       "      <th>...</th>\n",
       "      <td>...</td>\n",
       "      <td>...</td>\n",
       "      <td>...</td>\n",
       "      <td>...</td>\n",
       "      <td>...</td>\n",
       "      <td>...</td>\n",
       "      <td>...</td>\n",
       "      <td>...</td>\n",
       "      <td>...</td>\n",
       "      <td>...</td>\n",
       "      <td>...</td>\n",
       "      <td>...</td>\n",
       "      <td>...</td>\n",
       "      <td>...</td>\n",
       "    </tr>\n",
       "    <tr>\n",
       "      <th>181668</th>\n",
       "      <td>DE633116-D1DF-4846-982E-55EFC3658A76</td>\n",
       "      <td>20200702.0</td>\n",
       "      <td>102.4824216</td>\n",
       "      <td>30200854.0</td>\n",
       "      <td>25.0</td>\n",
       "      <td>Won</td>\n",
       "      <td>W</td>\n",
       "      <td>41.0</td>\n",
       "      <td>0.96</td>\n",
       "      <td>1220.0</td>\n",
       "      <td>0000000000000000000000000000000001000777</td>\n",
       "      <td>164141591</td>\n",
       "      <td>20200701.0</td>\n",
       "      <td>591.00</td>\n",
       "    </tr>\n",
       "    <tr>\n",
       "      <th>181669</th>\n",
       "      <td>A48374B1-E6DB-45F2-889A-1F9C27C099EB</td>\n",
       "      <td>20200702.0</td>\n",
       "      <td>208.0864686</td>\n",
       "      <td>30200854.0</td>\n",
       "      <td>25.0</td>\n",
       "      <td>Won</td>\n",
       "      <td>W</td>\n",
       "      <td>41.0</td>\n",
       "      <td>0.95</td>\n",
       "      <td>1500.0</td>\n",
       "      <td>0000000000000000000000000000000001000227</td>\n",
       "      <td>164141591</td>\n",
       "      <td>20200701.0</td>\n",
       "      <td>589.00</td>\n",
       "    </tr>\n",
       "    <tr>\n",
       "      <th>181670</th>\n",
       "      <td>91643238-5C7B-4237-9A5F-63AE3D35F320</td>\n",
       "      <td>20200702.0</td>\n",
       "      <td>4.235593568</td>\n",
       "      <td>30200854.0</td>\n",
       "      <td>25.0</td>\n",
       "      <td>Won</td>\n",
       "      <td>W</td>\n",
       "      <td>41.0</td>\n",
       "      <td>0.71</td>\n",
       "      <td>1250.0</td>\n",
       "      <td>0000000000000000000000000000000001004216</td>\n",
       "      <td>164141591</td>\n",
       "      <td>20200701.0</td>\n",
       "      <td>619.00</td>\n",
       "    </tr>\n",
       "    <tr>\n",
       "      <th>181671</th>\n",
       "      <td>7AFFD323-01D9-4E15-B80D-7D1B03498FC8</td>\n",
       "      <td>20200702.0</td>\n",
       "      <td>-2000</td>\n",
       "      <td>30200854.0</td>\n",
       "      <td>25.0</td>\n",
       "      <td>Won</td>\n",
       "      <td>W</td>\n",
       "      <td>41.0</td>\n",
       "      <td>0.85</td>\n",
       "      <td>1250.0</td>\n",
       "      <td>0000000000000000000000000000000001001149</td>\n",
       "      <td>164141591</td>\n",
       "      <td>20200701.0</td>\n",
       "      <td>601.00</td>\n",
       "    </tr>\n",
       "    <tr>\n",
       "      <th>181672</th>\n",
       "      <td>AD0CA853-AE3C-4B2F-9FBB-8B0B965F84BC</td>\n",
       "      <td>20200702.0</td>\n",
       "      <td>406.6865384</td>\n",
       "      <td>30200854.0</td>\n",
       "      <td>25.0</td>\n",
       "      <td>Won</td>\n",
       "      <td>W</td>\n",
       "      <td>41.0</td>\n",
       "      <td>0.71</td>\n",
       "      <td>1240.0</td>\n",
       "      <td>0000000000000000000000000000000001005439</td>\n",
       "      <td>164141591</td>\n",
       "      <td>20200701.0</td>\n",
       "      <td>607.00</td>\n",
       "    </tr>\n",
       "  </tbody>\n",
       "</table>\n",
       "<p>181673 rows × 14 columns</p>\n",
       "</div>"
      ],
      "text/plain": [
       "                                          id   item_date quantity tons  \\\n",
       "0       EC06F063-9DF0-440C-8764-0B0C05A4F6AE  20210401.0     54.151139   \n",
       "1       4E5F4B3D-DDDF-499D-AFDE-A3227EC49425  20210401.0    768.024839   \n",
       "2       E140FF1B-2407-4C02-A0DD-780A093B1158  20210401.0    386.127949   \n",
       "3       F8D507A0-9C62-4EFE-831E-33E1DA53BB50  20210401.0    202.411065   \n",
       "4       4E1C4E78-152B-430A-8094-ADD889C9D0AD  20210401.0    785.526262   \n",
       "...                                      ...         ...           ...   \n",
       "181668  DE633116-D1DF-4846-982E-55EFC3658A76  20200702.0   102.4824216   \n",
       "181669  A48374B1-E6DB-45F2-889A-1F9C27C099EB  20200702.0   208.0864686   \n",
       "181670  91643238-5C7B-4237-9A5F-63AE3D35F320  20200702.0   4.235593568   \n",
       "181671  7AFFD323-01D9-4E15-B80D-7D1B03498FC8  20200702.0         -2000   \n",
       "181672  AD0CA853-AE3C-4B2F-9FBB-8B0B965F84BC  20200702.0   406.6865384   \n",
       "\n",
       "          customer  country status item type  application  thickness   width  \\\n",
       "0       30156308.0     28.0    Won         W         10.0       2.00  1500.0   \n",
       "1       30202938.0     25.0    Won         W         41.0       0.80  1210.0   \n",
       "2       30153963.0     30.0    Won        WI         28.0       0.38   952.0   \n",
       "3       30349574.0     32.0    Won         S         59.0       2.30  1317.0   \n",
       "4       30211560.0     28.0    Won         W         10.0       4.00  2000.0   \n",
       "...            ...      ...    ...       ...          ...        ...     ...   \n",
       "181668  30200854.0     25.0    Won         W         41.0       0.96  1220.0   \n",
       "181669  30200854.0     25.0    Won         W         41.0       0.95  1500.0   \n",
       "181670  30200854.0     25.0    Won         W         41.0       0.71  1250.0   \n",
       "181671  30200854.0     25.0    Won         W         41.0       0.85  1250.0   \n",
       "181672  30200854.0     25.0    Won         W         41.0       0.71  1240.0   \n",
       "\n",
       "                                    material_ref  product_ref  delivery date  \\\n",
       "0                                    DEQ1 S460MC   1670798778     20210701.0   \n",
       "1       0000000000000000000000000000000000104991   1668701718     20210401.0   \n",
       "2                                       S0380700       628377     20210101.0   \n",
       "3                        DX51D+ZM310MAO 2.3X1317   1668701718     20210101.0   \n",
       "4                                2_S275JR+AR-CL1       640665     20210301.0   \n",
       "...                                          ...          ...            ...   \n",
       "181668  0000000000000000000000000000000001000777    164141591     20200701.0   \n",
       "181669  0000000000000000000000000000000001000227    164141591     20200701.0   \n",
       "181670  0000000000000000000000000000000001004216    164141591     20200701.0   \n",
       "181671  0000000000000000000000000000000001001149    164141591     20200701.0   \n",
       "181672  0000000000000000000000000000000001005439    164141591     20200701.0   \n",
       "\n",
       "        selling_price  \n",
       "0              854.00  \n",
       "1             1047.00  \n",
       "2              644.33  \n",
       "3              768.00  \n",
       "4              577.00  \n",
       "...               ...  \n",
       "181668         591.00  \n",
       "181669         589.00  \n",
       "181670         619.00  \n",
       "181671         601.00  \n",
       "181672         607.00  \n",
       "\n",
       "[181673 rows x 14 columns]"
      ]
     },
     "execution_count": 3,
     "metadata": {},
     "output_type": "execute_result"
    }
   ],
   "source": [
    "df"
   ]
  },
  {
   "cell_type": "code",
   "execution_count": 4,
   "id": "7cfc9daa",
   "metadata": {
    "colab": {
     "base_uri": "https://localhost:8080/"
    },
    "id": "7cfc9daa",
    "outputId": "05a51dd6-0815-4b9d-eb06-60a0ad2dec9e"
   },
   "outputs": [
    {
     "data": {
      "text/plain": [
       "181671"
      ]
     },
     "execution_count": 4,
     "metadata": {},
     "output_type": "execute_result"
    }
   ],
   "source": [
    "df['id'].nunique()"
   ]
  },
  {
   "cell_type": "code",
   "execution_count": 5,
   "id": "e125a1dc",
   "metadata": {
    "colab": {
     "base_uri": "https://localhost:8080/"
    },
    "id": "e125a1dc",
    "outputId": "4af80b8f-9fe7-450c-aa9a-00f3d63808fa"
   },
   "outputs": [
    {
     "data": {
      "text/plain": [
       "17"
      ]
     },
     "execution_count": 5,
     "metadata": {},
     "output_type": "execute_result"
    }
   ],
   "source": [
    "df['country'].nunique()"
   ]
  },
  {
   "cell_type": "code",
   "execution_count": 6,
   "id": "2bc90caf",
   "metadata": {
    "colab": {
     "base_uri": "https://localhost:8080/"
    },
    "id": "2bc90caf",
    "outputId": "9eed3e1d-980e-405c-abcf-cb11ea83604f"
   },
   "outputs": [
    {
     "data": {
      "text/plain": [
       "array([ 28.,  25.,  30.,  32.,  38.,  78.,  27.,  77., 113.,  79.,  26.,\n",
       "        39.,  40.,  84.,  80., 107.,  89.,  nan])"
      ]
     },
     "execution_count": 6,
     "metadata": {},
     "output_type": "execute_result"
    }
   ],
   "source": [
    "df['country'].unique()"
   ]
  },
  {
   "cell_type": "code",
   "execution_count": 7,
   "id": "ce094ab2",
   "metadata": {
    "colab": {
     "base_uri": "https://localhost:8080/"
    },
    "id": "ce094ab2",
    "outputId": "a731bb5f-ea8b-41f2-e727-62d11421f245"
   },
   "outputs": [
    {
     "data": {
      "text/plain": [
       "array(['W', 'WI', 'S', 'Others', 'PL', 'IPL', 'SLAWR'], dtype=object)"
      ]
     },
     "execution_count": 7,
     "metadata": {},
     "output_type": "execute_result"
    }
   ],
   "source": [
    "df['item type'].unique()"
   ]
  },
  {
   "cell_type": "code",
   "execution_count": 8,
   "id": "3b5d856c",
   "metadata": {
    "colab": {
     "base_uri": "https://localhost:8080/"
    },
    "id": "3b5d856c",
    "outputId": "2a2b8020-9f67-4981-d4c0-3e178d7dd675"
   },
   "outputs": [
    {
     "data": {
      "text/plain": [
       "7"
      ]
     },
     "execution_count": 8,
     "metadata": {},
     "output_type": "execute_result"
    }
   ],
   "source": [
    "df['item type'].nunique()"
   ]
  },
  {
   "cell_type": "code",
   "execution_count": 9,
   "id": "56ead1db",
   "metadata": {
    "colab": {
     "base_uri": "https://localhost:8080/"
    },
    "id": "56ead1db",
    "outputId": "cd8f2544-d60a-47ee-eec3-9db8f80579fd"
   },
   "outputs": [
    {
     "data": {
      "text/plain": [
       "array(['DEQ1 S460MC', '0000000000000000000000000000000000104991',\n",
       "       'S0380700', ..., 'MAS65550', '4.11043_1060X5_BRE',\n",
       "       '202006170005.IO.1.1'], dtype=object)"
      ]
     },
     "execution_count": 9,
     "metadata": {},
     "output_type": "execute_result"
    }
   ],
   "source": [
    "df['material_ref'].unique()"
   ]
  },
  {
   "cell_type": "code",
   "execution_count": 10,
   "id": "6d9bd444",
   "metadata": {
    "colab": {
     "base_uri": "https://localhost:8080/"
    },
    "id": "6d9bd444",
    "outputId": "29965321-6889-47b2-a528-59b9fc584d66"
   },
   "outputs": [
    {
     "data": {
      "text/plain": [
       "16563"
      ]
     },
     "execution_count": 10,
     "metadata": {},
     "output_type": "execute_result"
    }
   ],
   "source": [
    "df['material_ref'].nunique()"
   ]
  },
  {
   "cell_type": "code",
   "execution_count": 11,
   "id": "6778576a",
   "metadata": {
    "colab": {
     "base_uri": "https://localhost:8080/"
    },
    "id": "6778576a",
    "outputId": "e112bc83-39ea-4401-991f-a338f39814e2"
   },
   "outputs": [
    {
     "data": {
      "text/plain": [
       "33"
      ]
     },
     "execution_count": 11,
     "metadata": {},
     "output_type": "execute_result"
    }
   ],
   "source": [
    "df['product_ref'].nunique()"
   ]
  },
  {
   "cell_type": "code",
   "execution_count": 12,
   "id": "70c0fd9d",
   "metadata": {
    "colab": {
     "base_uri": "https://localhost:8080/"
    },
    "id": "70c0fd9d",
    "outputId": "708f796e-bc3a-4f2d-8fb1-c3353f0a7cca"
   },
   "outputs": [
    {
     "data": {
      "text/plain": [
       "array([1670798778, 1668701718,     628377,     640665,     611993,\n",
       "       1668701376,  164141591, 1671863738, 1332077137,     640405,\n",
       "       1693867550, 1665572374, 1282007633, 1668701698,     628117,\n",
       "       1690738206,     628112,     640400, 1671876026,  164336407,\n",
       "        164337175, 1668701725, 1665572032,     611728, 1721130331,\n",
       "       1693867563,     611733, 1690738219, 1722207579,  929423819,\n",
       "       1665584320, 1665584662, 1665584642], dtype=int64)"
      ]
     },
     "execution_count": 12,
     "metadata": {},
     "output_type": "execute_result"
    }
   ],
   "source": [
    "df['product_ref'].unique()"
   ]
  },
  {
   "cell_type": "code",
   "execution_count": 13,
   "id": "284dcc98",
   "metadata": {
    "colab": {
     "base_uri": "https://localhost:8080/"
    },
    "id": "284dcc98",
    "outputId": "60dacbf6-b402-4cde-d0e3-c4048293a850"
   },
   "outputs": [
    {
     "data": {
      "text/plain": [
       "array([10., 41., 28., 59., 15.,  4., 38., 56., 42., 26., 27., 19., 20.,\n",
       "       66., 29., 22., 40., 25., 67., 79.,  3., 99.,  2.,  5., 39., 69.,\n",
       "       70., 65., 58., 68., nan])"
      ]
     },
     "execution_count": 13,
     "metadata": {},
     "output_type": "execute_result"
    }
   ],
   "source": [
    "df['application'].unique()"
   ]
  },
  {
   "cell_type": "code",
   "execution_count": 14,
   "id": "3b41d82a",
   "metadata": {
    "colab": {
     "base_uri": "https://localhost:8080/"
    },
    "id": "3b41d82a",
    "outputId": "d7ce1edd-83db-4117-f8df-10ab683d0e99"
   },
   "outputs": [
    {
     "data": {
      "text/plain": [
       "30"
      ]
     },
     "execution_count": 14,
     "metadata": {},
     "output_type": "execute_result"
    }
   ],
   "source": [
    "df['application'].nunique()"
   ]
  },
  {
   "cell_type": "code",
   "execution_count": 15,
   "id": "64af2abc",
   "metadata": {
    "colab": {
     "base_uri": "https://localhost:8080/"
    },
    "id": "64af2abc",
    "outputId": "799f367e-1583-42c1-857e-34c12458ac6f"
   },
   "outputs": [
    {
     "data": {
      "text/plain": [
       "count    181672.000000\n",
       "mean          2.564827\n",
       "std           6.572321\n",
       "min           0.180000\n",
       "25%           0.700000\n",
       "50%           1.500000\n",
       "75%           3.000000\n",
       "max        2500.000000\n",
       "Name: thickness, dtype: float64"
      ]
     },
     "execution_count": 15,
     "metadata": {},
     "output_type": "execute_result"
    }
   ],
   "source": [
    "df['thickness'].describe()"
   ]
  },
  {
   "cell_type": "code",
   "execution_count": 16,
   "id": "9d7e3ac5",
   "metadata": {
    "colab": {
     "base_uri": "https://localhost:8080/"
    },
    "id": "9d7e3ac5",
    "outputId": "f7d0d764-47f5-40da-fffe-09066e05b4dc"
   },
   "outputs": [
    {
     "data": {
      "text/plain": [
       "count    181673.000000\n",
       "mean       1295.286724\n",
       "std         261.631754\n",
       "min           1.000000\n",
       "25%        1180.000000\n",
       "50%        1250.000000\n",
       "75%        1500.000000\n",
       "max        2990.000000\n",
       "Name: width, dtype: float64"
      ]
     },
     "execution_count": 16,
     "metadata": {},
     "output_type": "execute_result"
    }
   ],
   "source": [
    "df['width'].describe()"
   ]
  },
  {
   "cell_type": "code",
   "execution_count": 17,
   "id": "17599f2d",
   "metadata": {
    "colab": {
     "base_uri": "https://localhost:8080/"
    },
    "id": "17599f2d",
    "outputId": "7cb38000-0dd7-4e77-f0e3-18381ca16186"
   },
   "outputs": [
    {
     "data": {
      "text/plain": [
       "array([20210701., 20210401., 20210101., 20210301., 20210601., 20210501.,\n",
       "       20210801., 30310101., 20210901., 20211001., 20211101., 20220101.,\n",
       "       20200701., 20201001., 20200101., 20210201., 20211201., 20190701.,\n",
       "       20200801., 20201101., 20201201., 20190401., 20200601., 20200401.,\n",
       "       20200901., 20200501.,       nan, 20212222., 20191001.])"
      ]
     },
     "execution_count": 17,
     "metadata": {},
     "output_type": "execute_result"
    }
   ],
   "source": [
    "df['delivery date'].unique()"
   ]
  },
  {
   "cell_type": "code",
   "execution_count": 18,
   "id": "61350222",
   "metadata": {
    "id": "61350222"
   },
   "outputs": [],
   "source": [
    "import pandas as pd\n",
    "\n",
    "# Assuming df is your DataFrame with a column named 'delivery date'\n",
    "df['delivery date'] = pd.to_datetime(df['delivery date'], format='%Y%m%d', errors='coerce')\n",
    "\n",
    "# Now, 'delivery date' is in datetime format, and invalid dates are replaced with NaT\n"
   ]
  },
  {
   "cell_type": "code",
   "execution_count": 19,
   "id": "BoVDd6TpBN2S",
   "metadata": {
    "colab": {
     "base_uri": "https://localhost:8080/"
    },
    "id": "BoVDd6TpBN2S",
    "outputId": "98637f49-f3ba-425b-a04b-2861a9e13d94"
   },
   "outputs": [
    {
     "data": {
      "text/plain": [
       "0        2021-07-01\n",
       "1        2021-04-01\n",
       "2        2021-01-01\n",
       "3        2021-01-01\n",
       "4        2021-03-01\n",
       "            ...    \n",
       "181668   2020-07-01\n",
       "181669   2020-07-01\n",
       "181670   2020-07-01\n",
       "181671   2020-07-01\n",
       "181672   2020-07-01\n",
       "Name: delivery date, Length: 181673, dtype: datetime64[ns]"
      ]
     },
     "execution_count": 19,
     "metadata": {},
     "output_type": "execute_result"
    }
   ],
   "source": [
    "df['delivery date']"
   ]
  },
  {
   "cell_type": "code",
   "execution_count": 20,
   "id": "5C5eOyMJ_0Dw",
   "metadata": {
    "id": "5C5eOyMJ_0Dw"
   },
   "outputs": [],
   "source": [
    "df['item_date'] = pd.to_datetime(df['item_date'], format='%Y%m%d', errors='coerce')\n",
    "\n"
   ]
  },
  {
   "cell_type": "code",
   "execution_count": 21,
   "id": "mZwpWSQVAeJR",
   "metadata": {
    "colab": {
     "base_uri": "https://localhost:8080/"
    },
    "id": "mZwpWSQVAeJR",
    "outputId": "527e96a6-4d43-4a8a-b152-db8106826776"
   },
   "outputs": [
    {
     "data": {
      "text/plain": [
       "0        2021-04-01\n",
       "1        2021-04-01\n",
       "2        2021-04-01\n",
       "3        2021-04-01\n",
       "4        2021-04-01\n",
       "            ...    \n",
       "181668   2020-07-02\n",
       "181669   2020-07-02\n",
       "181670   2020-07-02\n",
       "181671   2020-07-02\n",
       "181672   2020-07-02\n",
       "Name: item_date, Length: 181673, dtype: datetime64[ns]"
      ]
     },
     "execution_count": 21,
     "metadata": {},
     "output_type": "execute_result"
    }
   ],
   "source": [
    "df['item_date']"
   ]
  },
  {
   "cell_type": "code",
   "execution_count": 22,
   "id": "92e07cde",
   "metadata": {
    "colab": {
     "base_uri": "https://localhost:8080/",
     "height": 947
    },
    "id": "92e07cde",
    "outputId": "dd05b52a-58cd-4855-f950-8c82ad1bab1c"
   },
   "outputs": [
    {
     "data": {
      "text/html": [
       "<div>\n",
       "<style scoped>\n",
       "    .dataframe tbody tr th:only-of-type {\n",
       "        vertical-align: middle;\n",
       "    }\n",
       "\n",
       "    .dataframe tbody tr th {\n",
       "        vertical-align: top;\n",
       "    }\n",
       "\n",
       "    .dataframe thead th {\n",
       "        text-align: right;\n",
       "    }\n",
       "</style>\n",
       "<table border=\"1\" class=\"dataframe\">\n",
       "  <thead>\n",
       "    <tr style=\"text-align: right;\">\n",
       "      <th></th>\n",
       "      <th>id</th>\n",
       "      <th>item_date</th>\n",
       "      <th>quantity tons</th>\n",
       "      <th>customer</th>\n",
       "      <th>country</th>\n",
       "      <th>status</th>\n",
       "      <th>item type</th>\n",
       "      <th>application</th>\n",
       "      <th>thickness</th>\n",
       "      <th>width</th>\n",
       "      <th>material_ref</th>\n",
       "      <th>product_ref</th>\n",
       "      <th>delivery date</th>\n",
       "      <th>selling_price</th>\n",
       "    </tr>\n",
       "  </thead>\n",
       "  <tbody>\n",
       "    <tr>\n",
       "      <th>0</th>\n",
       "      <td>EC06F063-9DF0-440C-8764-0B0C05A4F6AE</td>\n",
       "      <td>2021-04-01</td>\n",
       "      <td>54.151139</td>\n",
       "      <td>30156308.0</td>\n",
       "      <td>28.0</td>\n",
       "      <td>Won</td>\n",
       "      <td>W</td>\n",
       "      <td>10.0</td>\n",
       "      <td>2.00</td>\n",
       "      <td>1500.0</td>\n",
       "      <td>DEQ1 S460MC</td>\n",
       "      <td>1670798778</td>\n",
       "      <td>2021-07-01</td>\n",
       "      <td>854.00</td>\n",
       "    </tr>\n",
       "    <tr>\n",
       "      <th>1</th>\n",
       "      <td>4E5F4B3D-DDDF-499D-AFDE-A3227EC49425</td>\n",
       "      <td>2021-04-01</td>\n",
       "      <td>768.024839</td>\n",
       "      <td>30202938.0</td>\n",
       "      <td>25.0</td>\n",
       "      <td>Won</td>\n",
       "      <td>W</td>\n",
       "      <td>41.0</td>\n",
       "      <td>0.80</td>\n",
       "      <td>1210.0</td>\n",
       "      <td>0000000000000000000000000000000000104991</td>\n",
       "      <td>1668701718</td>\n",
       "      <td>2021-04-01</td>\n",
       "      <td>1047.00</td>\n",
       "    </tr>\n",
       "    <tr>\n",
       "      <th>2</th>\n",
       "      <td>E140FF1B-2407-4C02-A0DD-780A093B1158</td>\n",
       "      <td>2021-04-01</td>\n",
       "      <td>386.127949</td>\n",
       "      <td>30153963.0</td>\n",
       "      <td>30.0</td>\n",
       "      <td>Won</td>\n",
       "      <td>WI</td>\n",
       "      <td>28.0</td>\n",
       "      <td>0.38</td>\n",
       "      <td>952.0</td>\n",
       "      <td>S0380700</td>\n",
       "      <td>628377</td>\n",
       "      <td>2021-01-01</td>\n",
       "      <td>644.33</td>\n",
       "    </tr>\n",
       "    <tr>\n",
       "      <th>3</th>\n",
       "      <td>F8D507A0-9C62-4EFE-831E-33E1DA53BB50</td>\n",
       "      <td>2021-04-01</td>\n",
       "      <td>202.411065</td>\n",
       "      <td>30349574.0</td>\n",
       "      <td>32.0</td>\n",
       "      <td>Won</td>\n",
       "      <td>S</td>\n",
       "      <td>59.0</td>\n",
       "      <td>2.30</td>\n",
       "      <td>1317.0</td>\n",
       "      <td>DX51D+ZM310MAO 2.3X1317</td>\n",
       "      <td>1668701718</td>\n",
       "      <td>2021-01-01</td>\n",
       "      <td>768.00</td>\n",
       "    </tr>\n",
       "    <tr>\n",
       "      <th>4</th>\n",
       "      <td>4E1C4E78-152B-430A-8094-ADD889C9D0AD</td>\n",
       "      <td>2021-04-01</td>\n",
       "      <td>785.526262</td>\n",
       "      <td>30211560.0</td>\n",
       "      <td>28.0</td>\n",
       "      <td>Won</td>\n",
       "      <td>W</td>\n",
       "      <td>10.0</td>\n",
       "      <td>4.00</td>\n",
       "      <td>2000.0</td>\n",
       "      <td>2_S275JR+AR-CL1</td>\n",
       "      <td>640665</td>\n",
       "      <td>2021-03-01</td>\n",
       "      <td>577.00</td>\n",
       "    </tr>\n",
       "    <tr>\n",
       "      <th>...</th>\n",
       "      <td>...</td>\n",
       "      <td>...</td>\n",
       "      <td>...</td>\n",
       "      <td>...</td>\n",
       "      <td>...</td>\n",
       "      <td>...</td>\n",
       "      <td>...</td>\n",
       "      <td>...</td>\n",
       "      <td>...</td>\n",
       "      <td>...</td>\n",
       "      <td>...</td>\n",
       "      <td>...</td>\n",
       "      <td>...</td>\n",
       "      <td>...</td>\n",
       "    </tr>\n",
       "    <tr>\n",
       "      <th>181668</th>\n",
       "      <td>DE633116-D1DF-4846-982E-55EFC3658A76</td>\n",
       "      <td>2020-07-02</td>\n",
       "      <td>102.4824216</td>\n",
       "      <td>30200854.0</td>\n",
       "      <td>25.0</td>\n",
       "      <td>Won</td>\n",
       "      <td>W</td>\n",
       "      <td>41.0</td>\n",
       "      <td>0.96</td>\n",
       "      <td>1220.0</td>\n",
       "      <td>0000000000000000000000000000000001000777</td>\n",
       "      <td>164141591</td>\n",
       "      <td>2020-07-01</td>\n",
       "      <td>591.00</td>\n",
       "    </tr>\n",
       "    <tr>\n",
       "      <th>181669</th>\n",
       "      <td>A48374B1-E6DB-45F2-889A-1F9C27C099EB</td>\n",
       "      <td>2020-07-02</td>\n",
       "      <td>208.0864686</td>\n",
       "      <td>30200854.0</td>\n",
       "      <td>25.0</td>\n",
       "      <td>Won</td>\n",
       "      <td>W</td>\n",
       "      <td>41.0</td>\n",
       "      <td>0.95</td>\n",
       "      <td>1500.0</td>\n",
       "      <td>0000000000000000000000000000000001000227</td>\n",
       "      <td>164141591</td>\n",
       "      <td>2020-07-01</td>\n",
       "      <td>589.00</td>\n",
       "    </tr>\n",
       "    <tr>\n",
       "      <th>181670</th>\n",
       "      <td>91643238-5C7B-4237-9A5F-63AE3D35F320</td>\n",
       "      <td>2020-07-02</td>\n",
       "      <td>4.235593568</td>\n",
       "      <td>30200854.0</td>\n",
       "      <td>25.0</td>\n",
       "      <td>Won</td>\n",
       "      <td>W</td>\n",
       "      <td>41.0</td>\n",
       "      <td>0.71</td>\n",
       "      <td>1250.0</td>\n",
       "      <td>0000000000000000000000000000000001004216</td>\n",
       "      <td>164141591</td>\n",
       "      <td>2020-07-01</td>\n",
       "      <td>619.00</td>\n",
       "    </tr>\n",
       "    <tr>\n",
       "      <th>181671</th>\n",
       "      <td>7AFFD323-01D9-4E15-B80D-7D1B03498FC8</td>\n",
       "      <td>2020-07-02</td>\n",
       "      <td>-2000</td>\n",
       "      <td>30200854.0</td>\n",
       "      <td>25.0</td>\n",
       "      <td>Won</td>\n",
       "      <td>W</td>\n",
       "      <td>41.0</td>\n",
       "      <td>0.85</td>\n",
       "      <td>1250.0</td>\n",
       "      <td>0000000000000000000000000000000001001149</td>\n",
       "      <td>164141591</td>\n",
       "      <td>2020-07-01</td>\n",
       "      <td>601.00</td>\n",
       "    </tr>\n",
       "    <tr>\n",
       "      <th>181672</th>\n",
       "      <td>AD0CA853-AE3C-4B2F-9FBB-8B0B965F84BC</td>\n",
       "      <td>2020-07-02</td>\n",
       "      <td>406.6865384</td>\n",
       "      <td>30200854.0</td>\n",
       "      <td>25.0</td>\n",
       "      <td>Won</td>\n",
       "      <td>W</td>\n",
       "      <td>41.0</td>\n",
       "      <td>0.71</td>\n",
       "      <td>1240.0</td>\n",
       "      <td>0000000000000000000000000000000001005439</td>\n",
       "      <td>164141591</td>\n",
       "      <td>2020-07-01</td>\n",
       "      <td>607.00</td>\n",
       "    </tr>\n",
       "  </tbody>\n",
       "</table>\n",
       "<p>181673 rows × 14 columns</p>\n",
       "</div>"
      ],
      "text/plain": [
       "                                          id  item_date quantity tons  \\\n",
       "0       EC06F063-9DF0-440C-8764-0B0C05A4F6AE 2021-04-01     54.151139   \n",
       "1       4E5F4B3D-DDDF-499D-AFDE-A3227EC49425 2021-04-01    768.024839   \n",
       "2       E140FF1B-2407-4C02-A0DD-780A093B1158 2021-04-01    386.127949   \n",
       "3       F8D507A0-9C62-4EFE-831E-33E1DA53BB50 2021-04-01    202.411065   \n",
       "4       4E1C4E78-152B-430A-8094-ADD889C9D0AD 2021-04-01    785.526262   \n",
       "...                                      ...        ...           ...   \n",
       "181668  DE633116-D1DF-4846-982E-55EFC3658A76 2020-07-02   102.4824216   \n",
       "181669  A48374B1-E6DB-45F2-889A-1F9C27C099EB 2020-07-02   208.0864686   \n",
       "181670  91643238-5C7B-4237-9A5F-63AE3D35F320 2020-07-02   4.235593568   \n",
       "181671  7AFFD323-01D9-4E15-B80D-7D1B03498FC8 2020-07-02         -2000   \n",
       "181672  AD0CA853-AE3C-4B2F-9FBB-8B0B965F84BC 2020-07-02   406.6865384   \n",
       "\n",
       "          customer  country status item type  application  thickness   width  \\\n",
       "0       30156308.0     28.0    Won         W         10.0       2.00  1500.0   \n",
       "1       30202938.0     25.0    Won         W         41.0       0.80  1210.0   \n",
       "2       30153963.0     30.0    Won        WI         28.0       0.38   952.0   \n",
       "3       30349574.0     32.0    Won         S         59.0       2.30  1317.0   \n",
       "4       30211560.0     28.0    Won         W         10.0       4.00  2000.0   \n",
       "...            ...      ...    ...       ...          ...        ...     ...   \n",
       "181668  30200854.0     25.0    Won         W         41.0       0.96  1220.0   \n",
       "181669  30200854.0     25.0    Won         W         41.0       0.95  1500.0   \n",
       "181670  30200854.0     25.0    Won         W         41.0       0.71  1250.0   \n",
       "181671  30200854.0     25.0    Won         W         41.0       0.85  1250.0   \n",
       "181672  30200854.0     25.0    Won         W         41.0       0.71  1240.0   \n",
       "\n",
       "                                    material_ref  product_ref delivery date  \\\n",
       "0                                    DEQ1 S460MC   1670798778    2021-07-01   \n",
       "1       0000000000000000000000000000000000104991   1668701718    2021-04-01   \n",
       "2                                       S0380700       628377    2021-01-01   \n",
       "3                        DX51D+ZM310MAO 2.3X1317   1668701718    2021-01-01   \n",
       "4                                2_S275JR+AR-CL1       640665    2021-03-01   \n",
       "...                                          ...          ...           ...   \n",
       "181668  0000000000000000000000000000000001000777    164141591    2020-07-01   \n",
       "181669  0000000000000000000000000000000001000227    164141591    2020-07-01   \n",
       "181670  0000000000000000000000000000000001004216    164141591    2020-07-01   \n",
       "181671  0000000000000000000000000000000001001149    164141591    2020-07-01   \n",
       "181672  0000000000000000000000000000000001005439    164141591    2020-07-01   \n",
       "\n",
       "        selling_price  \n",
       "0              854.00  \n",
       "1             1047.00  \n",
       "2              644.33  \n",
       "3              768.00  \n",
       "4              577.00  \n",
       "...               ...  \n",
       "181668         591.00  \n",
       "181669         589.00  \n",
       "181670         619.00  \n",
       "181671         601.00  \n",
       "181672         607.00  \n",
       "\n",
       "[181673 rows x 14 columns]"
      ]
     },
     "execution_count": 22,
     "metadata": {},
     "output_type": "execute_result"
    }
   ],
   "source": [
    "df"
   ]
  },
  {
   "cell_type": "code",
   "execution_count": 23,
   "id": "UqXXpUWZdx8d",
   "metadata": {
    "colab": {
     "base_uri": "https://localhost:8080/"
    },
    "id": "UqXXpUWZdx8d",
    "outputId": "fc6b242e-5bbb-4009-c9f4-8a0829a6d7c2"
   },
   "outputs": [
    {
     "data": {
      "text/plain": [
       "Index(['id', 'item_date', 'quantity tons', 'customer', 'country', 'status',\n",
       "       'item type', 'application', 'thickness', 'width', 'material_ref',\n",
       "       'product_ref', 'delivery date', 'selling_price'],\n",
       "      dtype='object')"
      ]
     },
     "execution_count": 23,
     "metadata": {},
     "output_type": "execute_result"
    }
   ],
   "source": [
    "df.columns"
   ]
  },
  {
   "cell_type": "code",
   "execution_count": 24,
   "id": "H2OLs_PqomDc",
   "metadata": {
    "colab": {
     "base_uri": "https://localhost:8080/"
    },
    "id": "H2OLs_PqomDc",
    "outputId": "e6973e92-3626-456d-9b42-1d2ed4262de5"
   },
   "outputs": [
    {
     "data": {
      "text/plain": [
       "customer\n",
       "30157111.0    4988\n",
       "30161088.0    3733\n",
       "30201846.0    3152\n",
       "30165529.0    2728\n",
       "30202938.0    2570\n",
       "              ... \n",
       "30271383.0       1\n",
       "30356502.0       1\n",
       "30357481.0       1\n",
       "30156053.0       1\n",
       "30271291.0       1\n",
       "Name: count, Length: 1169, dtype: int64"
      ]
     },
     "execution_count": 24,
     "metadata": {},
     "output_type": "execute_result"
    }
   ],
   "source": [
    "df['customer'].value_counts()"
   ]
  },
  {
   "cell_type": "code",
   "execution_count": 26,
   "id": "hB6G_OuGd2zj",
   "metadata": {
    "colab": {
     "base_uri": "https://localhost:8080/"
    },
    "id": "hB6G_OuGd2zj",
    "outputId": "cd54a4da-9a24-43ee-a3b0-d3e01b8371d5"
   },
   "outputs": [
    {
     "name": "stdout",
     "output_type": "stream",
     "text": [
      "No of Unique values in id:181671\n",
      "No of Unique values in item_date:250\n",
      "No of Unique values in quantity tons:181673\n",
      "No of Unique values in customer:1169\n",
      "No of Unique values in country:17\n",
      "No of Unique values in status:9\n",
      "No of Unique values in item type:7\n",
      "No of Unique values in application:30\n",
      "No of Unique values in thickness:594\n",
      "No of Unique values in width:1386\n",
      "No of Unique values in material_ref:16563\n",
      "No of Unique values in product_ref:33\n",
      "No of Unique values in delivery date:26\n",
      "No of Unique values in selling_price:9795\n"
     ]
    }
   ],
   "source": [
    "columns=['id', 'item_date', 'quantity tons', 'customer', 'country', 'status',\n",
    "       'item type', 'application', 'thickness', 'width', 'material_ref',\n",
    "       'product_ref', 'delivery date', 'selling_price']\n",
    "for column in columns:\n",
    "  nunique_values=df[column].nunique()\n",
    "  print(f\"No of Unique values in {column}:{nunique_values}\")"
   ]
  },
  {
   "cell_type": "code",
   "execution_count": 27,
   "id": "99634a49",
   "metadata": {
    "colab": {
     "base_uri": "https://localhost:8080/",
     "height": 300
    },
    "id": "99634a49",
    "outputId": "6a46ef7d-5564-4e7b-ba97-573028ab329c"
   },
   "outputs": [
    {
     "data": {
      "text/html": [
       "<div>\n",
       "<style scoped>\n",
       "    .dataframe tbody tr th:only-of-type {\n",
       "        vertical-align: middle;\n",
       "    }\n",
       "\n",
       "    .dataframe tbody tr th {\n",
       "        vertical-align: top;\n",
       "    }\n",
       "\n",
       "    .dataframe thead th {\n",
       "        text-align: right;\n",
       "    }\n",
       "</style>\n",
       "<table border=\"1\" class=\"dataframe\">\n",
       "  <thead>\n",
       "    <tr style=\"text-align: right;\">\n",
       "      <th></th>\n",
       "      <th>item_date</th>\n",
       "      <th>customer</th>\n",
       "      <th>country</th>\n",
       "      <th>application</th>\n",
       "      <th>thickness</th>\n",
       "      <th>width</th>\n",
       "      <th>product_ref</th>\n",
       "      <th>delivery date</th>\n",
       "      <th>selling_price</th>\n",
       "    </tr>\n",
       "  </thead>\n",
       "  <tbody>\n",
       "    <tr>\n",
       "      <th>count</th>\n",
       "      <td>181670</td>\n",
       "      <td>1.816720e+05</td>\n",
       "      <td>181645.000000</td>\n",
       "      <td>181649.000000</td>\n",
       "      <td>181672.000000</td>\n",
       "      <td>181673.000000</td>\n",
       "      <td>1.816730e+05</td>\n",
       "      <td>181670</td>\n",
       "      <td>1.816720e+05</td>\n",
       "    </tr>\n",
       "    <tr>\n",
       "      <th>mean</th>\n",
       "      <td>2020-11-26 22:56:58.127374080</td>\n",
       "      <td>3.051221e+07</td>\n",
       "      <td>44.893022</td>\n",
       "      <td>25.615809</td>\n",
       "      <td>2.564827</td>\n",
       "      <td>1295.286724</td>\n",
       "      <td>4.739679e+08</td>\n",
       "      <td>2021-01-25 22:44:26.223372032</td>\n",
       "      <td>1.918036e+03</td>\n",
       "    </tr>\n",
       "    <tr>\n",
       "      <th>min</th>\n",
       "      <td>2020-07-02 00:00:00</td>\n",
       "      <td>1.245800e+04</td>\n",
       "      <td>25.000000</td>\n",
       "      <td>2.000000</td>\n",
       "      <td>0.180000</td>\n",
       "      <td>1.000000</td>\n",
       "      <td>6.117280e+05</td>\n",
       "      <td>2019-04-01 00:00:00</td>\n",
       "      <td>-1.160000e+03</td>\n",
       "    </tr>\n",
       "    <tr>\n",
       "      <th>25%</th>\n",
       "      <td>2020-09-29 00:00:00</td>\n",
       "      <td>3.019688e+07</td>\n",
       "      <td>26.000000</td>\n",
       "      <td>10.000000</td>\n",
       "      <td>0.700000</td>\n",
       "      <td>1180.000000</td>\n",
       "      <td>6.119930e+05</td>\n",
       "      <td>2020-11-01 00:00:00</td>\n",
       "      <td>6.690000e+02</td>\n",
       "    </tr>\n",
       "    <tr>\n",
       "      <th>50%</th>\n",
       "      <td>2020-11-30 00:00:00</td>\n",
       "      <td>3.020524e+07</td>\n",
       "      <td>30.000000</td>\n",
       "      <td>15.000000</td>\n",
       "      <td>1.500000</td>\n",
       "      <td>1250.000000</td>\n",
       "      <td>6.406650e+05</td>\n",
       "      <td>2021-01-01 00:00:00</td>\n",
       "      <td>8.120000e+02</td>\n",
       "    </tr>\n",
       "    <tr>\n",
       "      <th>75%</th>\n",
       "      <td>2021-02-03 00:00:00</td>\n",
       "      <td>3.028042e+07</td>\n",
       "      <td>78.000000</td>\n",
       "      <td>41.000000</td>\n",
       "      <td>3.000000</td>\n",
       "      <td>1500.000000</td>\n",
       "      <td>1.332077e+09</td>\n",
       "      <td>2021-04-01 00:00:00</td>\n",
       "      <td>9.530000e+02</td>\n",
       "    </tr>\n",
       "    <tr>\n",
       "      <th>max</th>\n",
       "      <td>2021-04-01 00:00:00</td>\n",
       "      <td>2.147484e+09</td>\n",
       "      <td>113.000000</td>\n",
       "      <td>99.000000</td>\n",
       "      <td>2500.000000</td>\n",
       "      <td>2990.000000</td>\n",
       "      <td>1.722208e+09</td>\n",
       "      <td>2022-01-01 00:00:00</td>\n",
       "      <td>1.000010e+08</td>\n",
       "    </tr>\n",
       "    <tr>\n",
       "      <th>std</th>\n",
       "      <td>NaN</td>\n",
       "      <td>2.433382e+07</td>\n",
       "      <td>24.404214</td>\n",
       "      <td>17.754175</td>\n",
       "      <td>6.572321</td>\n",
       "      <td>261.631754</td>\n",
       "      <td>7.175101e+08</td>\n",
       "      <td>NaN</td>\n",
       "      <td>3.317956e+05</td>\n",
       "    </tr>\n",
       "  </tbody>\n",
       "</table>\n",
       "</div>"
      ],
      "text/plain": [
       "                           item_date      customer        country  \\\n",
       "count                         181670  1.816720e+05  181645.000000   \n",
       "mean   2020-11-26 22:56:58.127374080  3.051221e+07      44.893022   \n",
       "min              2020-07-02 00:00:00  1.245800e+04      25.000000   \n",
       "25%              2020-09-29 00:00:00  3.019688e+07      26.000000   \n",
       "50%              2020-11-30 00:00:00  3.020524e+07      30.000000   \n",
       "75%              2021-02-03 00:00:00  3.028042e+07      78.000000   \n",
       "max              2021-04-01 00:00:00  2.147484e+09     113.000000   \n",
       "std                              NaN  2.433382e+07      24.404214   \n",
       "\n",
       "         application      thickness          width   product_ref  \\\n",
       "count  181649.000000  181672.000000  181673.000000  1.816730e+05   \n",
       "mean       25.615809       2.564827    1295.286724  4.739679e+08   \n",
       "min         2.000000       0.180000       1.000000  6.117280e+05   \n",
       "25%        10.000000       0.700000    1180.000000  6.119930e+05   \n",
       "50%        15.000000       1.500000    1250.000000  6.406650e+05   \n",
       "75%        41.000000       3.000000    1500.000000  1.332077e+09   \n",
       "max        99.000000    2500.000000    2990.000000  1.722208e+09   \n",
       "std        17.754175       6.572321     261.631754  7.175101e+08   \n",
       "\n",
       "                       delivery date  selling_price  \n",
       "count                         181670   1.816720e+05  \n",
       "mean   2021-01-25 22:44:26.223372032   1.918036e+03  \n",
       "min              2019-04-01 00:00:00  -1.160000e+03  \n",
       "25%              2020-11-01 00:00:00   6.690000e+02  \n",
       "50%              2021-01-01 00:00:00   8.120000e+02  \n",
       "75%              2021-04-01 00:00:00   9.530000e+02  \n",
       "max              2022-01-01 00:00:00   1.000010e+08  \n",
       "std                              NaN   3.317956e+05  "
      ]
     },
     "execution_count": 27,
     "metadata": {},
     "output_type": "execute_result"
    }
   ],
   "source": [
    "df.describe()"
   ]
  },
  {
   "cell_type": "code",
   "execution_count": 28,
   "id": "6e3f1b2b",
   "metadata": {
    "colab": {
     "base_uri": "https://localhost:8080/",
     "height": 441
    },
    "id": "6e3f1b2b",
    "outputId": "fe1de69a-7fe4-4e93-a6d0-8e8bebe3d08a"
   },
   "outputs": [
    {
     "data": {
      "text/html": [
       "<div>\n",
       "<style scoped>\n",
       "    .dataframe tbody tr th:only-of-type {\n",
       "        vertical-align: middle;\n",
       "    }\n",
       "\n",
       "    .dataframe tbody tr th {\n",
       "        vertical-align: top;\n",
       "    }\n",
       "\n",
       "    .dataframe thead th {\n",
       "        text-align: right;\n",
       "    }\n",
       "</style>\n",
       "<table border=\"1\" class=\"dataframe\">\n",
       "  <thead>\n",
       "    <tr style=\"text-align: right;\">\n",
       "      <th></th>\n",
       "      <th>id</th>\n",
       "      <th>item_date</th>\n",
       "      <th>quantity tons</th>\n",
       "      <th>customer</th>\n",
       "      <th>country</th>\n",
       "      <th>status</th>\n",
       "      <th>item type</th>\n",
       "      <th>application</th>\n",
       "      <th>thickness</th>\n",
       "      <th>width</th>\n",
       "      <th>material_ref</th>\n",
       "      <th>product_ref</th>\n",
       "      <th>delivery date</th>\n",
       "      <th>selling_price</th>\n",
       "    </tr>\n",
       "  </thead>\n",
       "  <tbody>\n",
       "    <tr>\n",
       "      <th>0</th>\n",
       "      <td>False</td>\n",
       "      <td>False</td>\n",
       "      <td>False</td>\n",
       "      <td>False</td>\n",
       "      <td>False</td>\n",
       "      <td>False</td>\n",
       "      <td>False</td>\n",
       "      <td>False</td>\n",
       "      <td>False</td>\n",
       "      <td>False</td>\n",
       "      <td>False</td>\n",
       "      <td>False</td>\n",
       "      <td>False</td>\n",
       "      <td>False</td>\n",
       "    </tr>\n",
       "    <tr>\n",
       "      <th>1</th>\n",
       "      <td>False</td>\n",
       "      <td>False</td>\n",
       "      <td>False</td>\n",
       "      <td>False</td>\n",
       "      <td>False</td>\n",
       "      <td>False</td>\n",
       "      <td>False</td>\n",
       "      <td>False</td>\n",
       "      <td>False</td>\n",
       "      <td>False</td>\n",
       "      <td>False</td>\n",
       "      <td>False</td>\n",
       "      <td>False</td>\n",
       "      <td>False</td>\n",
       "    </tr>\n",
       "    <tr>\n",
       "      <th>2</th>\n",
       "      <td>False</td>\n",
       "      <td>False</td>\n",
       "      <td>False</td>\n",
       "      <td>False</td>\n",
       "      <td>False</td>\n",
       "      <td>False</td>\n",
       "      <td>False</td>\n",
       "      <td>False</td>\n",
       "      <td>False</td>\n",
       "      <td>False</td>\n",
       "      <td>False</td>\n",
       "      <td>False</td>\n",
       "      <td>False</td>\n",
       "      <td>False</td>\n",
       "    </tr>\n",
       "    <tr>\n",
       "      <th>3</th>\n",
       "      <td>False</td>\n",
       "      <td>False</td>\n",
       "      <td>False</td>\n",
       "      <td>False</td>\n",
       "      <td>False</td>\n",
       "      <td>False</td>\n",
       "      <td>False</td>\n",
       "      <td>False</td>\n",
       "      <td>False</td>\n",
       "      <td>False</td>\n",
       "      <td>False</td>\n",
       "      <td>False</td>\n",
       "      <td>False</td>\n",
       "      <td>False</td>\n",
       "    </tr>\n",
       "    <tr>\n",
       "      <th>4</th>\n",
       "      <td>False</td>\n",
       "      <td>False</td>\n",
       "      <td>False</td>\n",
       "      <td>False</td>\n",
       "      <td>False</td>\n",
       "      <td>False</td>\n",
       "      <td>False</td>\n",
       "      <td>False</td>\n",
       "      <td>False</td>\n",
       "      <td>False</td>\n",
       "      <td>False</td>\n",
       "      <td>False</td>\n",
       "      <td>False</td>\n",
       "      <td>False</td>\n",
       "    </tr>\n",
       "    <tr>\n",
       "      <th>...</th>\n",
       "      <td>...</td>\n",
       "      <td>...</td>\n",
       "      <td>...</td>\n",
       "      <td>...</td>\n",
       "      <td>...</td>\n",
       "      <td>...</td>\n",
       "      <td>...</td>\n",
       "      <td>...</td>\n",
       "      <td>...</td>\n",
       "      <td>...</td>\n",
       "      <td>...</td>\n",
       "      <td>...</td>\n",
       "      <td>...</td>\n",
       "      <td>...</td>\n",
       "    </tr>\n",
       "    <tr>\n",
       "      <th>181668</th>\n",
       "      <td>False</td>\n",
       "      <td>False</td>\n",
       "      <td>False</td>\n",
       "      <td>False</td>\n",
       "      <td>False</td>\n",
       "      <td>False</td>\n",
       "      <td>False</td>\n",
       "      <td>False</td>\n",
       "      <td>False</td>\n",
       "      <td>False</td>\n",
       "      <td>False</td>\n",
       "      <td>False</td>\n",
       "      <td>False</td>\n",
       "      <td>False</td>\n",
       "    </tr>\n",
       "    <tr>\n",
       "      <th>181669</th>\n",
       "      <td>False</td>\n",
       "      <td>False</td>\n",
       "      <td>False</td>\n",
       "      <td>False</td>\n",
       "      <td>False</td>\n",
       "      <td>False</td>\n",
       "      <td>False</td>\n",
       "      <td>False</td>\n",
       "      <td>False</td>\n",
       "      <td>False</td>\n",
       "      <td>False</td>\n",
       "      <td>False</td>\n",
       "      <td>False</td>\n",
       "      <td>False</td>\n",
       "    </tr>\n",
       "    <tr>\n",
       "      <th>181670</th>\n",
       "      <td>False</td>\n",
       "      <td>False</td>\n",
       "      <td>False</td>\n",
       "      <td>False</td>\n",
       "      <td>False</td>\n",
       "      <td>False</td>\n",
       "      <td>False</td>\n",
       "      <td>False</td>\n",
       "      <td>False</td>\n",
       "      <td>False</td>\n",
       "      <td>False</td>\n",
       "      <td>False</td>\n",
       "      <td>False</td>\n",
       "      <td>False</td>\n",
       "    </tr>\n",
       "    <tr>\n",
       "      <th>181671</th>\n",
       "      <td>False</td>\n",
       "      <td>False</td>\n",
       "      <td>False</td>\n",
       "      <td>False</td>\n",
       "      <td>False</td>\n",
       "      <td>False</td>\n",
       "      <td>False</td>\n",
       "      <td>False</td>\n",
       "      <td>False</td>\n",
       "      <td>False</td>\n",
       "      <td>False</td>\n",
       "      <td>False</td>\n",
       "      <td>False</td>\n",
       "      <td>False</td>\n",
       "    </tr>\n",
       "    <tr>\n",
       "      <th>181672</th>\n",
       "      <td>False</td>\n",
       "      <td>False</td>\n",
       "      <td>False</td>\n",
       "      <td>False</td>\n",
       "      <td>False</td>\n",
       "      <td>False</td>\n",
       "      <td>False</td>\n",
       "      <td>False</td>\n",
       "      <td>False</td>\n",
       "      <td>False</td>\n",
       "      <td>False</td>\n",
       "      <td>False</td>\n",
       "      <td>False</td>\n",
       "      <td>False</td>\n",
       "    </tr>\n",
       "  </tbody>\n",
       "</table>\n",
       "<p>181673 rows × 14 columns</p>\n",
       "</div>"
      ],
      "text/plain": [
       "           id  item_date  quantity tons  customer  country  status  item type  \\\n",
       "0       False      False          False     False    False   False      False   \n",
       "1       False      False          False     False    False   False      False   \n",
       "2       False      False          False     False    False   False      False   \n",
       "3       False      False          False     False    False   False      False   \n",
       "4       False      False          False     False    False   False      False   \n",
       "...       ...        ...            ...       ...      ...     ...        ...   \n",
       "181668  False      False          False     False    False   False      False   \n",
       "181669  False      False          False     False    False   False      False   \n",
       "181670  False      False          False     False    False   False      False   \n",
       "181671  False      False          False     False    False   False      False   \n",
       "181672  False      False          False     False    False   False      False   \n",
       "\n",
       "        application  thickness  width  material_ref  product_ref  \\\n",
       "0             False      False  False         False        False   \n",
       "1             False      False  False         False        False   \n",
       "2             False      False  False         False        False   \n",
       "3             False      False  False         False        False   \n",
       "4             False      False  False         False        False   \n",
       "...             ...        ...    ...           ...          ...   \n",
       "181668        False      False  False         False        False   \n",
       "181669        False      False  False         False        False   \n",
       "181670        False      False  False         False        False   \n",
       "181671        False      False  False         False        False   \n",
       "181672        False      False  False         False        False   \n",
       "\n",
       "        delivery date  selling_price  \n",
       "0               False          False  \n",
       "1               False          False  \n",
       "2               False          False  \n",
       "3               False          False  \n",
       "4               False          False  \n",
       "...               ...            ...  \n",
       "181668          False          False  \n",
       "181669          False          False  \n",
       "181670          False          False  \n",
       "181671          False          False  \n",
       "181672          False          False  \n",
       "\n",
       "[181673 rows x 14 columns]"
      ]
     },
     "execution_count": 28,
     "metadata": {},
     "output_type": "execute_result"
    }
   ],
   "source": [
    "df.isnull()"
   ]
  },
  {
   "cell_type": "code",
   "execution_count": 29,
   "id": "5c6822bc",
   "metadata": {
    "colab": {
     "base_uri": "https://localhost:8080/"
    },
    "id": "5c6822bc",
    "outputId": "9a6d20d9-95d3-49a2-acf8-bccb8f7933b5"
   },
   "outputs": [
    {
     "name": "stdout",
     "output_type": "stream",
     "text": [
      "id                   2\n",
      "item_date            3\n",
      "quantity tons        0\n",
      "customer             1\n",
      "country             28\n",
      "status               2\n",
      "item type            0\n",
      "application         24\n",
      "thickness            1\n",
      "width                0\n",
      "material_ref     77919\n",
      "product_ref          0\n",
      "delivery date        3\n",
      "selling_price        1\n",
      "dtype: int64\n"
     ]
    }
   ],
   "source": [
    "# Check for null values in each column\n",
    "null_values = df.isnull()\n",
    "\n",
    "# Count total null values in each column\n",
    "total_null_per_column = null_values.sum()\n",
    "\n",
    "# Display the result\n",
    "print(total_null_per_column)\n"
   ]
  },
  {
   "cell_type": "code",
   "execution_count": 30,
   "id": "603e836c",
   "metadata": {
    "colab": {
     "base_uri": "https://localhost:8080/"
    },
    "id": "603e836c",
    "outputId": "9bb15a1d-b285-42d7-90bc-854ee4d901c5"
   },
   "outputs": [
    {
     "name": "stdout",
     "output_type": "stream",
     "text": [
      "<class 'pandas.core.frame.DataFrame'>\n",
      "RangeIndex: 181673 entries, 0 to 181672\n",
      "Data columns (total 14 columns):\n",
      " #   Column         Non-Null Count   Dtype         \n",
      "---  ------         --------------   -----         \n",
      " 0   id             181671 non-null  object        \n",
      " 1   item_date      181670 non-null  datetime64[ns]\n",
      " 2   quantity tons  181673 non-null  object        \n",
      " 3   customer       181672 non-null  float64       \n",
      " 4   country        181645 non-null  float64       \n",
      " 5   status         181671 non-null  object        \n",
      " 6   item type      181673 non-null  object        \n",
      " 7   application    181649 non-null  float64       \n",
      " 8   thickness      181672 non-null  float64       \n",
      " 9   width          181673 non-null  float64       \n",
      " 10  material_ref   103754 non-null  object        \n",
      " 11  product_ref    181673 non-null  int64         \n",
      " 12  delivery date  181670 non-null  datetime64[ns]\n",
      " 13  selling_price  181672 non-null  float64       \n",
      "dtypes: datetime64[ns](2), float64(6), int64(1), object(5)\n",
      "memory usage: 19.4+ MB\n"
     ]
    }
   ],
   "source": [
    "df.info()"
   ]
  },
  {
   "cell_type": "code",
   "execution_count": null,
   "id": "3XbxsPCGchzi",
   "metadata": {
    "id": "3XbxsPCGchzi"
   },
   "outputs": [],
   "source": []
  },
  {
   "cell_type": "code",
   "execution_count": 31,
   "id": "18afdda8",
   "metadata": {
    "colab": {
     "base_uri": "https://localhost:8080/"
    },
    "id": "18afdda8",
    "outputId": "e9a5837f-0661-4507-ef7c-61cd2d2dc0a4"
   },
   "outputs": [
    {
     "name": "stdout",
     "output_type": "stream",
     "text": [
      "[54.15113862 768.0248392 386.1279489 ... '4.235593568' '-2000'\n",
      " '406.6865384']\n",
      "['DEQ1 S460MC' '0000000000000000000000000000000000104991' 'S0380700' ...\n",
      " 'MAS65550' '4.11043_1060X5_BRE' '202006170005.IO.1.1']\n"
     ]
    }
   ],
   "source": [
    "print(df['quantity tons'].unique())\n",
    "print(df['material_ref'].unique())"
   ]
  },
  {
   "cell_type": "code",
   "execution_count": 32,
   "id": "27028b1c",
   "metadata": {
    "colab": {
     "base_uri": "https://localhost:8080/"
    },
    "id": "27028b1c",
    "outputId": "ce50e280-a6f9-448d-876b-96eaa6ed6531"
   },
   "outputs": [
    {
     "data": {
      "text/plain": [
       "quantity tons\n",
       "54.15113862    1\n",
       "75.11072642    1\n",
       "32.43164392    1\n",
       "31.92534499    1\n",
       "132.3113848    1\n",
       "              ..\n",
       "13.86959008    1\n",
       "2.738535634    1\n",
       "233.2640131    1\n",
       "11.94017945    1\n",
       "406.6865384    1\n",
       "Name: count, Length: 181673, dtype: int64"
      ]
     },
     "execution_count": 32,
     "metadata": {},
     "output_type": "execute_result"
    }
   ],
   "source": [
    "df['quantity tons'].value_counts()"
   ]
  },
  {
   "cell_type": "code",
   "execution_count": 33,
   "id": "tqTMRPptbFCi",
   "metadata": {
    "id": "tqTMRPptbFCi"
   },
   "outputs": [],
   "source": [
    "import numpy as np\n",
    "df['quantity tons']=pd.to_numeric(df['quantity tons'],errors='coerce')\n",
    "df.loc[df['quantity tons']==-2000, 'quantity tons'] = float('nan')"
   ]
  },
  {
   "cell_type": "code",
   "execution_count": 34,
   "id": "dInUS-a0ds4W",
   "metadata": {
    "colab": {
     "base_uri": "https://localhost:8080/"
    },
    "id": "dInUS-a0ds4W",
    "outputId": "55992f3b-b260-41b4-bed6-b7db0cf568d5"
   },
   "outputs": [
    {
     "name": "stderr",
     "output_type": "stream",
     "text": [
      "IOPub data rate exceeded.\n",
      "The notebook server will temporarily stop sending output\n",
      "to the client in order to avoid crashing it.\n",
      "To change this limit, set the config variable\n",
      "`--NotebookApp.iopub_data_rate_limit`.\n",
      "\n",
      "Current values:\n",
      "NotebookApp.iopub_data_rate_limit=1000000.0 (bytes/sec)\n",
      "NotebookApp.rate_limit_window=3.0 (secs)\n",
      "\n"
     ]
    },
    {
     "name": "stdout",
     "output_type": "stream",
     "text": [
      "Encoded Mapping for status:\n",
      "{'Draft': 0, 'Lost': 1, 'Not lost for AM': 2, 'Offerable': 3, 'Offered': 4, 'Revised': 5, 'To be approved': 6, 'Won': 7, 'Wonderful': 8, 'unknown': 9}\n",
      "Encoded Mapping for item type:\n",
      "{'IPL': 0, 'Others': 1, 'PL': 2, 'S': 3, 'SLAWR': 4, 'W': 5, 'WI': 6}\n",
      "Encoded Mapping for product_ref:\n",
      "{'1282007633': 0, '1332077137': 1, '164141591': 2, '164336407': 3, '164337175': 4, '1665572032': 5, '1665572374': 6, '1665584320': 7, '1665584642': 8, '1665584662': 9, '1668701376': 10, '1668701698': 11, '1668701718': 12, '1668701725': 13, '1670798778': 14, '1671863738': 15, '1671876026': 16, '1690738206': 17, '1690738219': 18, '1693867550': 19, '1693867563': 20, '1721130331': 21, '1722207579': 22, '611728': 23, '611733': 24, '611993': 25, '628112': 26, '628117': 27, '628377': 28, '640400': 29, '640405': 30, '640665': 31, '929423819': 32}\n",
      "Encoded Mapping for material_ref:\n",
      "{'-': 0, '.': 1, '0,35X1050': 2, '0,37X1260': 3, '0,3X935 DC01 NET GENT': 4, '0,40X1000': 5, '0,40X1000_DC01': 6, '0,40X1210_DC01': 7, '0,40X1310_DC01': 8, '0,45X1250MM DX51D Z275 MAC': 9, '0,47X1250 HDS G7016': 10, '0,47X1250 HDS G7021': 11, '0,47X1250 HDS G9006': 12, '0,4X1290_IKEA_BL TABL E9130': 13, '0,4X530_IKEA_BL TABL E9130': 14, '0,4X641_IKEA_BL TABL': 15, '0,4X641_IKEA_BL TABL E9130': 16, '0,4X678_IKEA_BL TABL': 17, '0,4X678_IKEA_BL TABL E9130': 18, '0,4X935 DC01 NET KR': 19, '0,50X1000': 20, '0,50X1250MM DX51D Z275 MAC': 21, '0,53X1250 GR RAIN 19105': 22, '0,5X1155 DC01CS NET MAX10,5 KR': 23, '0,5X815 DC01 NET KR': 24, '0,5X935 DC01 NET MAX 7 KR': 25, '0,60X1000': 26, '0,60X1000MM S220GD Z100 MBC': 27, '0,60X1250': 28, '0,60X1250 HDS G7016': 29, '0,60X1250 HDS G9006': 30, '0,60X1250 HDS G9007': 31, '0,60X1250MM DX51D Z350 MAC': 32, '0,6X1155 DC01CS NET MAX10,5 KR': 33, '0,6X320 DC01EK 8071540': 34, '0,6X815 DC01 NET KR': 35, '0,70X1000': 36, '0,70X1250MM DX51D Z275 MAC': 37, '0,77*910 HC180CS MAX 7T EKO': 38, '0,77X1175 DC01 NET MAX7 KR': 39, '0,77X1215 DC01 NET MAX7 KR': 40, '0,77X910 DC01 NET MAX7 KR': 41, '0,77X916 DC01 NET MAX7 KR': 42, '0,77X916 HC180CS NET MAX7': 43, '0,77X925 DC01 NET MAX7 KR': 44, '0,77X925 HC180CS MAX 7T EKO': 45, '0,77X977 DC01 NET MAX7 KR': 46, '0,7X910 DC01 NET KR': 47, '0,80X1000': 48, '0,87*910 HC180CS MAX 7T EKO': 49, '0,87X1215 DC01 NET MAX 7 KR': 50, '0,87X1220 HC180MAX7T FCE': 51, '0,87X910 DC01 NET MAX 7 KR': 52, '0,87X916 DC01 NET MAX 7 KR': 53, '0,8X910 DC01 NET KR': 54, '0,8X910 HC180MAX7T FCE': 55, '0,90X910 HC180MAX7T FCE': 56, '0,97X1175 DC01 NET MAX 7T KR': 57, '0,97X1175 HC180 NET MAX 7T EKO': 58, '0,97X1215 DC01 NET MAX 7T KR': 59, '0,97X1220 HC180 NET MAX 7T EKO': 60, '0,97X910 DC01 NET MAX 7 KR': 61, '0,97X910 HC180CS MAX 7T EKO': 62, '0,9X910 DC01 NETE KR': 63, '0,9X912 DC01 NET KR': 64, '0.38 X1168': 65, '0.4 X 705': 66, '0.45X1073 Z225 G9006': 67, '0.45X1220 N N9209 WHITE': 68, '0.45X1225_MIN': 69, '0.45X1250_MIN': 70, '0.45X1500 9010': 71, '0.45X1500 N N9209 WHITE': 72, '0.48X1425 9002': 73, '0.5 X 705': 74, '0.50X1250_MIN': 75, '0.58X1000 KORATAC FL104 ADHES': 76, '0.58X1250 KORATAC FL104 ADHES': 77, '0.6 X 935': 78, '0.60X1230_MIN': 79, '0.60X1230_NORM': 80, '0.60X1250_MIN': 81, '0.60X1250_NORM': 82, '0.63X1247 N N7954 GOOSEWING': 83, '0.63X1248 HDX': 84, '0.63X1248 HDX 07616 ALASKA': 85, '0.63X1248 HDX 07617 ANTHRACITE': 86, '0.63X1248 HDX 07618 SLATE GREY': 87, '0.63X1248 HDX 19529 SILVER': 88, '0.63X1248 HDX 19532 SILVER': 89, '0.63X1248 HDX 19537 WHITE': 90, '0.63X1248 HDX 19844, +/- RAL 9005 JET BL': 91, '0.63X1248 HDX G7035 OYSTER': 92, '0.63X1248 HDX GREYROCK': 93, '0.63X1248 N 01364 AZTEC YELLOW': 94, '0.63X1248 N 05410 WEDGEWOOD': 95, '0.63X1248 N 06583 MEADOWLAND': 96, '0.63X1248 N 07618 SLATE BLUE': 97, '0.63X1248 N 07641 ANTHRACITE': 98, '0.63X1248 N N3314 POPPY RED': 99, '0.63X1248 N N5408 SLATE BLUE': 100, '0.63X1248 N N6115 JUNIPERGREEN': 101, '0.63X1248 N N6544 MOORLAND': 102, '0.63X1248 N N7425 MUSHROOM': 103, '0.63X1248 N N7954 GOOSEWING': 104, '0.63X1248 N N7964 MERLIN': 105, '0.63X1248 N N7970 ALBATROSS': 106, '0.63X1248 N N9209 WHITE': 107, '0.63X1248 N N9801 BLACK': 108, '0.63X1250 N 19617 HAMLET': 109, '0.63X1250 N N7954 GOOSEWING': 110, '0.63X1250 N N8711 VANDYKEBROWN': 111, '0.63X1250 N N9801 BLACK': 112, '0.63X1498 HDX 19537 WHITE': 113, '0.63X1498 N 19617 HAMLET': 114, '0.63X1498 N N7954 GOOSEWING': 115, '0.65X1250 N 19617 HAMLET': 116, '0.65X1250 N7954 GOOSEWING GREY': 117, '0.675X1250 ESTETIC LIGHT WHITE': 118, '0.6X1220_MIN': 119, '0.6X1230_NORM': 120, '0.6X1250_MIN': 121, '0.6X1250_NORM': 122, '0.70X1250 HDX GREYROCK': 123, '0.70X1270_MIN': 124, '0.7X1000_MIN': 125, '0.7X1010_MIN': 126, '0.85X1248 N 17033 OYSTER': 127, '0.85X1248 N N7954 GOOSEWING': 128, '0.85X1248 N N8711 VANDYKEBROWN': 129, '0.875X1250 ESTETIC TEX WHITE': 130, '0.90 6775 WHITE': 131, '0.9X1240_MIN': 132, '00.890E.7000.21': 133, '0000000000000000000000000000000000000001': 134, '0000000000000000000000000000000000000002': 135, '0000000000000000000000000000000000000003': 136, '0000000000000000000000000000000000000004': 137, '0000000000000000000000000000000000000005': 138, '0000000000000000000000000000000000000006': 139, '0000000000000000000000000000000000000007': 140, '0000000000000000000000000000000000000008': 141, '0000000000000000000000000000000000000009': 142, '0000000000000000000000000000000000000010': 143, '0000000000000000000000000000000000000011': 144, '0000000000000000000000000000000000000012': 145, '0000000000000000000000000000000000000013': 146, '0000000000000000000000000000000000000014': 147, '0000000000000000000000000000000000000016': 148, '0000000000000000000000000000000000000017': 149, '0000000000000000000000000000000000000018': 150, '0000000000000000000000000000000000000019': 151, '0000000000000000000000000000000000000020': 152, '0000000000000000000000000000000000000021': 153, '0000000000000000000000000000000000000022': 154, '0000000000000000000000000000000000000023': 155, '0000000000000000000000000000000000000025': 156, '0000000000000000000000000000000000000026': 157, '0000000000000000000000000000000000000028': 158, '0000000000000000000000000000000000000029': 159, '0000000000000000000000000000000000000030': 160, '0000000000000000000000000000000000000031': 161, '0000000000000000000000000000000000000032': 162, '0000000000000000000000000000000000000033': 163, '0000000000000000000000000000000000000034': 164, '0000000000000000000000000000000000000035': 165, '0000000000000000000000000000000000000036': 166, '0000000000000000000000000000000000000037': 167, '0000000000000000000000000000000000000038': 168, '0000000000000000000000000000000000000039': 169, '0000000000000000000000000000000000000040': 170, '0000000000000000000000000000000000000041': 171, '0000000000000000000000000000000000000042': 172, '0000000000000000000000000000000000000043': 173, '0000000000000000000000000000000000000044': 174, '0000000000000000000000000000000000000045': 175, '0000000000000000000000000000000000000046': 176, '0000000000000000000000000000000000000047': 177, '0000000000000000000000000000000000000048': 178, '0000000000000000000000000000000000000049': 179, '0000000000000000000000000000000000000050': 180, '0000000000000000000000000000000000000051': 181, '0000000000000000000000000000000000000052': 182, '0000000000000000000000000000000000000053': 183, '0000000000000000000000000000000000000054': 184, '0000000000000000000000000000000000000055': 185, '0000000000000000000000000000000000000056': 186, '0000000000000000000000000000000000000057': 187, '0000000000000000000000000000000000000058': 188, '0000000000000000000000000000000000000059': 189, '0000000000000000000000000000000000000060': 190, '0000000000000000000000000000000000000061': 191, '0000000000000000000000000000000000000062': 192, '0000000000000000000000000000000000000063': 193, '0000000000000000000000000000000000000064': 194, '0000000000000000000000000000000000000065': 195, '0000000000000000000000000000000000000066': 196, '0000000000000000000000000000000000000067': 197, '0000000000000000000000000000000000000068': 198, '0000000000000000000000000000000000000069': 199, '0000000000000000000000000000000000000070': 200, '0000000000000000000000000000000000000071': 201, '0000000000000000000000000000000000000072': 202, '0000000000000000000000000000000000000073': 203, '0000000000000000000000000000000000000075': 204, '0000000000000000000000000000000000000076': 205, '0000000000000000000000000000000000000077': 206, '0000000000000000000000000000000000000078': 207, '0000000000000000000000000000000000000079': 208, '0000000000000000000000000000000000000080': 209, '0000000000000000000000000000000000000081': 210, '0000000000000000000000000000000000000082': 211, '0000000000000000000000000000000000000083': 212, '0000000000000000000000000000000000000084': 213, '0000000000000000000000000000000000000085': 214, '0000000000000000000000000000000000000086': 215, '0000000000000000000000000000000000000087': 216, '0000000000000000000000000000000000000088': 217, '0000000000000000000000000000000000000089': 218, '0000000000000000000000000000000000000090': 219, '0000000000000000000000000000000000000091': 220, '0000000000000000000000000000000000000092': 221, '0000000000000000000000000000000000000093': 222, '0000000000000000000000000000000000000094': 223, '0000000000000000000000000000000000000095': 224, '0000000000000000000000000000000000000101': 225, '0000000000000000000000000000000000000102': 226, '0000000000000000000000000000000000000103': 227, '0000000000000000000000000000000000000104': 228, '0000000000000000000000000000000000000105': 229, '0000000000000000000000000000000000000106': 230, '0000000000000000000000000000000000000107': 231, '0000000000000000000000000000000000000108': 232, '0000000000000000000000000000000000000109': 233, '0000000000000000000000000000000000000110': 234, '0000000000000000000000000000000000000111': 235, '0000000000000000000000000000000000000112': 236, '0000000000000000000000000000000000000113': 237, '0000000000000000000000000000000000000114': 238, '0000000000000000000000000000000000000115': 239, '0000000000000000000000000000000000000116': 240, '0000000000000000000000000000000000000117': 241, '0000000000000000000000000000000000000118': 242, '0000000000000000000000000000000000000119': 243, '0000000000000000000000000000000000000120': 244, '0000000000000000000000000000000000000121': 245, '0000000000000000000000000000000000000122': 246, '0000000000000000000000000000000000000123': 247, '0000000000000000000000000000000000000124': 248, '0000000000000000000000000000000000000125': 249, '0000000000000000000000000000000000000126': 250, '0000000000000000000000000000000000000150': 251, '0000000000000000000000000000000000000200': 252, '0000000000000000000000000000000000000290': 253, '0000000000000000000000000000000000000296': 254, '0000000000000000000000000000000000000311': 255, '0000000000000000000000000000000000000341': 256, '0000000000000000000000000000000000000347': 257, '0000000000000000000000000000000000000396': 258, '0000000000000000000000000000000000000430': 259, '0000000000000000000000000000000000000535': 260, '0000000000000000000000000000000000000540': 261, '0000000000000000000000000000000000000547': 262, '0000000000000000000000000000000000000548': 263, '0000000000000000000000000000000000000549': 264, '0000000000000000000000000000000000000550': 265, '0000000000000000000000000000000000000551': 266, '0000000000000000000000000000000000000552': 267, '0000000000000000000000000000000000000553': 268, '0000000000000000000000000000000000000554': 269, '0000000000000000000000000000000000000555': 270, '0000000000000000000000000000000000000556': 271, '0000000000000000000000000000000000000557': 272, '0000000000000000000000000000000000000558': 273, '0000000000000000000000000000000000000559': 274, '0000000000000000000000000000000000000560': 275, '0000000000000000000000000000000000000561': 276, '0000000000000000000000000000000000000562': 277, '0000000000000000000000000000000000000563': 278, '0000000000000000000000000000000000000564': 279, '0000000000000000000000000000000000000565': 280, '0000000000000000000000000000000000000566': 281, '0000000000000000000000000000000000000567': 282, '0000000000000000000000000000000000000568': 283, '0000000000000000000000000000000000000569': 284, '0000000000000000000000000000000000000570': 285, '0000000000000000000000000000000000000571': 286, '0000000000000000000000000000000000000572': 287, '0000000000000000000000000000000000000573': 288, '0000000000000000000000000000000000000574': 289, '0000000000000000000000000000000000000575': 290, '0000000000000000000000000000000000000577': 291, '0000000000000000000000000000000000000579': 292, '0000000000000000000000000000000000000580': 293, '0000000000000000000000000000000000000581': 294, '0000000000000000000000000000000000000582': 295, '0000000000000000000000000000000000000583': 296, '0000000000000000000000000000000000000584': 297, '0000000000000000000000000000000000000585': 298, '0000000000000000000000000000000000000586': 299, '0000000000000000000000000000000000000587': 300, '0000000000000000000000000000000000000588': 301, '0000000000000000000000000000000000000589': 302, '0000000000000000000000000000000000000590': 303, '0000000000000000000000000000000000000591': 304, '0000000000000000000000000000000000000592': 305, '0000000000000000000000000000000000000593': 306, '0000000000000000000000000000000000000594': 307, '0000000000000000000000000000000000000595': 308, '0000000000000000000000000000000000000596': 309, '0000000000000000000000000000000000000597': 310, '0000000000000000000000000000000000000598': 311, '0000000000000000000000000000000000000599': 312, '0000000000000000000000000000000000000600': 313, '0000000000000000000000000000000000000601': 314, '0000000000000000000000000000000000000602': 315, '0000000000000000000000000000000000000603': 316, '0000000000000000000000000000000000000604': 317, '0000000000000000000000000000000000000605': 318, '0000000000000000000000000000000000000606': 319, '0000000000000000000000000000000000000607': 320, '0000000000000000000000000000000000000608': 321, '0000000000000000000000000000000000000609': 322, '0000000000000000000000000000000000000610': 323, '0000000000000000000000000000000000000611': 324, '0000000000000000000000000000000000000614': 325, '0000000000000000000000000000000000000615': 326, '0000000000000000000000000000000000000616': 327, '0000000000000000000000000000000000000618': 328, '0000000000000000000000000000000000000619': 329, '0000000000000000000000000000000000000620': 330, '0000000000000000000000000000000000000621': 331, '0000000000000000000000000000000000000622': 332, '0000000000000000000000000000000000000623': 333, '0000000000000000000000000000000000000625': 334, '0000000000000000000000000000000000000626': 335, '0000000000000000000000000000000000000627': 336, '0000000000000000000000000000000000000628': 337, '0000000000000000000000000000000000000629': 338, '0000000000000000000000000000000000000630': 339, '0000000000000000000000000000000000000631': 340, '0000000000000000000000000000000000000632': 341, '0000000000000000000000000000000000000634': 342, '0000000000000000000000000000000000000636': 343, '0000000000000000000000000000000000000637': 344, '0000000000000000000000000000000000000639': 345, '0000000000000000000000000000000000000640': 346, '0000000000000000000000000000000000000641': 347, '0000000000000000000000000000000000000642': 348, '0000000000000000000000000000000000000643': 349, '0000000000000000000000000000000000000644': 350, '0000000000000000000000000000000000000645': 351, '0000000000000000000000000000000000000646': 352, '0000000000000000000000000000000000000647': 353, '0000000000000000000000000000000000000648': 354, '0000000000000000000000000000000000000649': 355, '0000000000000000000000000000000000000650': 356, '0000000000000000000000000000000000000651': 357, '0000000000000000000000000000000000000652': 358, '0000000000000000000000000000000000000653': 359, '0000000000000000000000000000000000000654': 360, '0000000000000000000000000000000000000656': 361, '0000000000000000000000000000000000000657': 362, '0000000000000000000000000000000000000658': 363, '0000000000000000000000000000000000000660': 364, '0000000000000000000000000000000000000662': 365, '0000000000000000000000000000000000000663': 366, '0000000000000000000000000000000000000665': 367, '0000000000000000000000000000000000000668': 368, '0000000000000000000000000000000000000669': 369, '0000000000000000000000000000000000000670': 370, '0000000000000000000000000000000000000671': 371, '0000000000000000000000000000000000000672': 372, '0000000000000000000000000000000000000673': 373, '0000000000000000000000000000000000000675': 374, '0000000000000000000000000000000000000700': 375, '0000000000000000000000000000000000000710': 376, '0000000000000000000000000000000000000731': 377, '0000000000000000000000000000000000000732': 378, '0000000000000000000000000000000000000733': 379, '0000000000000000000000000000000000000734': 380, '0000000000000000000000000000000000000735': 381, '0000000000000000000000000000000000000736': 382, '0000000000000000000000000000000000000740': 383, '0000000000000000000000000000000000000742': 384, '0000000000000000000000000000000000000743': 385, '0000000000000000000000000000000000000752': 386, '0000000000000000000000000000000000000753': 387, '0000000000000000000000000000000000000757': 388, '0000000000000000000000000000000000000758': 389, '0000000000000000000000000000000000000759': 390, '0000000000000000000000000000000000000763': 391, '0000000000000000000000000000000000000764': 392, '0000000000000000000000000000000000000770': 393, '0000000000000000000000000000000000000771': 394, '0000000000000000000000000000000000000780': 395, '0000000000000000000000000000000000000888': 396, '0000000000000000000000000000000000000891': 397, '0000000000000000000000000000000000000892': 398, '0000000000000000000000000000000000001166': 399, '0000000000000000000000000000000000001351': 400, '0000000000000000000000000000000000001358': 401, '0000000000000000000000000000000000001372': 402, '0000000000000000000000000000000000001684': 403, '0000000000000000000000000000000000001685': 404, '0000000000000000000000000000000000001686': 405, '0000000000000000000000000000000000001752': 406, '0000000000000000000000000000000000001816': 407, '0000000000000000000000000000000000001898': 408, '0000000000000000000000000000000000001900': 409, '0000000000000000000000000000000000001943': 410, '0000000000000000000000000000000000001967': 411, '0000000000000000000000000000000000001970': 412, '0000000000000000000000000000000000002037': 413, '0000000000000000000000000000000000002039': 414, '0000000000000000000000000000000000002045': 415, '0000000000000000000000000000000000002050': 416, '0000000000000000000000000000000000002055': 417, '0000000000000000000000000000000000002060': 418, '0000000000000000000000000000000000002070': 419, '0000000000000000000000000000000000002075': 420, '0000000000000000000000000000000000002080': 421, '0000000000000000000000000000000000002090': 422, '0000000000000000000000000000000000002152': 423, '0000000000000000000000000000000000002165': 424, '0000000000000000000000000000000000002171': 425, '0000000000000000000000000000000000002221': 426, '0000000000000000000000000000000000002312': 427, '0000000000000000000000000000000000002316': 428, '0000000000000000000000000000000000002467': 429, '0000000000000000000000000000000000002483': 430, '0000000000000000000000000000000000002574': 431, '0000000000000000000000000000000000002575': 432, '0000000000000000000000000000000000002576': 433, '0000000000000000000000000000000000002596': 434, '0000000000000000000000000000000000002634': 435, '0000000000000000000000000000000000002645': 436, '0000000000000000000000000000000000002647': 437, '0000000000000000000000000000000000002712': 438, '0000000000000000000000000000000000002742': 439, '0000000000000000000000000000000000002895': 440, '0000000000000000000000000000000000003005': 441, '0000000000000000000000000000000000003071': 442, '0000000000000000000000000000000000003216': 443, '0000000000000000000000000000000000003221': 444, '0000000000000000000000000000000000003222': 445, '0000000000000000000000000000000000003224': 446, '0000000000000000000000000000000000003226': 447, '0000000000000000000000000000000000003229': 448, '0000000000000000000000000000000000003230': 449, '0000000000000000000000000000000000003234': 450, '0000000000000000000000000000000000003236': 451, '0000000000000000000000000000000000003237': 452, '0000000000000000000000000000000000003239': 453, '0000000000000000000000000000000000003241': 454, '0000000000000000000000000000000000003282': 455, '0000000000000000000000000000000000003300': 456, '0000000000000000000000000000000000003557': 457, '0000000000000000000000000000000000003841': 458, '0000000000000000000000000000000000003919': 459, '0000000000000000000000000000000000004649': 460, '0000000000000000000000000000000000004658': 461, '0000000000000000000000000000000000004756': 462, '0000000000000000000000000000000000004810': 463, '0000000000000000000000000000000000004879': 464, '0000000000000000000000000000000000004913': 465, '0000000000000000000000000000000000004914': 466, '0000000000000000000000000000000000004916': 467, '0000000000000000000000000000000000004991': 468, '0000000000000000000000000000000000005981': 469, '0000000000000000000000000000000000006020': 470, '0000000000000000000000000000000000006799': 471, '0000000000000000000000000000000000007035': 472, '0000000000000000000000000000000000007040': 473, '0000000000000000000000000000000000007047': 474, '0000000000000000000000000000000000007510': 475, '0000000000000000000000000000000000007581': 476, '0000000000000000000000000000000000008727': 477, '0000000000000000000000000000000000009001': 478, '0000000000000000000000000000000000009002': 479, '0000000000000000000000000000000000009005': 480, '0000000000000000000000000000000000009006': 481, '0000000000000000000000000000000000009489': 482, '0000000000000000000000000000000000010041': 483, '0000000000000000000000000000000000010134': 484, '0000000000000000000000000000000000010417': 485, '0000000000000000000000000000000000010419': 486, '0000000000000000000000000000000000010604': 487, '0000000000000000000000000000000000010755': 488, '0000000000000000000000000000000000011006': 489, '0000000000000000000000000000000000011977': 490, '0000000000000000000000000000000000012201': 491, '0000000000000000000000000000000000012202': 492, '0000000000000000000000000000000000012203': 493, '0000000000000000000000000000000000012204': 494, '0000000000000000000000000000000000012205': 495, '0000000000000000000000000000000000012922': 496, '0000000000000000000000000000000000013904': 497, '0000000000000000000000000000000000014155': 498, '0000000000000000000000000000000000014169': 499, '0000000000000000000000000000000000016305': 500, '0000000000000000000000000000000000016375': 501, '0000000000000000000000000000000000016378': 502, '0000000000000000000000000000000000016559': 503, '0000000000000000000000000000000000017660': 504, '0000000000000000000000000000000000018743': 505, '0000000000000000000000000000000000019094': 506, '0000000000000000000000000000000000019488': 507, '0000000000000000000000000000000000019940': 508, '0000000000000000000000000000000000019945': 509, '0000000000000000000000000000000000019952': 510, '0000000000000000000000000000000000019979': 511, '0000000000000000000000000000000000019980': 512, '0000000000000000000000000000000000020629': 513, '0000000000000000000000000000000000020770': 514, '0000000000000000000000000000000000020795': 515, '0000000000000000000000000000000000020847': 516, '0000000000000000000000000000000000021178': 517, '0000000000000000000000000000000000021363': 518, '0000000000000000000000000000000000021763': 519, '0000000000000000000000000000000000022081': 520, '0000000000000000000000000000000000022234': 521, '0000000000000000000000000000000000023284': 522, '0000000000000000000000000000000000023290': 523, '0000000000000000000000000000000000023292': 524, '0000000000000000000000000000000000023425': 525, '0000000000000000000000000000000000023504': 526, '0000000000000000000000000000000000024076': 527, '0000000000000000000000000000000000024272': 528, '0000000000000000000000000000000000024274': 529, '0000000000000000000000000000000000025305': 530, '0000000000000000000000000000000000026404': 531, '0000000000000000000000000000000000026968': 532, '0000000000000000000000000000000000026969': 533, '0000000000000000000000000000000000027720': 534, '0000000000000000000000000000000000027824': 535, '0000000000000000000000000000000000027897': 536, '0000000000000000000000000000000000027898': 537, '0000000000000000000000000000000000027900': 538, '0000000000000000000000000000000000027901': 539, '0000000000000000000000000000000000027902': 540, '0000000000000000000000000000000000027937': 541, '0000000000000000000000000000000000028140': 542, '0000000000000000000000000000000000028141': 543, '0000000000000000000000000000000000028142': 544, '0000000000000000000000000000000000028144': 545, '0000000000000000000000000000000000028203': 546, '0000000000000000000000000000000000029416': 547, '0000000000000000000000000000000000031306': 548, '0000000000000000000000000000000000032624': 549, '0000000000000000000000000000000000032626': 550, '0000000000000000000000000000000000032629': 551, '0000000000000000000000000000000000032662': 552, '0000000000000000000000000000000000033210': 553, '0000000000000000000000000000000000034077': 554, '0000000000000000000000000000000000035605': 555, '0000000000000000000000000000000000036007': 556, '0000000000000000000000000000000000037086': 557, '0000000000000000000000000000000000037844': 558, '0000000000000000000000000000000000038001': 559, '0000000000000000000000000000000000038213': 560, '0000000000000000000000000000000000038358': 561, '0000000000000000000000000000000000038366': 562, '0000000000000000000000000000000000038691': 563, '0000000000000000000000000000000000039461': 564, '0000000000000000000000000000000000041684': 565, '0000000000000000000000000000000000042919': 566, '0000000000000000000000000000000000043163': 567, '0000000000000000000000000000000000043164': 568, '0000000000000000000000000000000000044392': 569, '0000000000000000000000000000000000044394': 570, '0000000000000000000000000000000000044536': 571, '0000000000000000000000000000000000044537': 572, '0000000000000000000000000000000000044729': 573, '0000000000000000000000000000000000044819': 574, '0000000000000000000000000000000000044820': 575, '0000000000000000000000000000000000044821': 576, '0000000000000000000000000000000000044822': 577, '0000000000000000000000000000000000046415': 578, '0000000000000000000000000000000000046445': 579, '0000000000000000000000000000000000046560': 580, '0000000000000000000000000000000000048065': 581, '0000000000000000000000000000000000048120': 582, '0000000000000000000000000000000000048383': 583, '0000000000000000000000000000000000048606': 584, '0000000000000000000000000000000000048612': 585, '0000000000000000000000000000000000048676': 586, '0000000000000000000000000000000000049294': 587, '0000000000000000000000000000000000049316': 588, '0000000000000000000000000000000000049317': 589, '0000000000000000000000000000000000049337': 590, '0000000000000000000000000000000000049339': 591, '0000000000000000000000000000000000049480': 592, '0000000000000000000000000000000000049481': 593, '0000000000000000000000000000000000049482': 594, '0000000000000000000000000000000000049484': 595, '0000000000000000000000000000000000049534': 596, '0000000000000000000000000000000000049607': 597, '0000000000000000000000000000000000050176': 598, '0000000000000000000000000000000000050177': 599, '0000000000000000000000000000000000050178': 600, '0000000000000000000000000000000000050213': 601, '0000000000000000000000000000000000050614': 602, '0000000000000000000000000000000000050635': 603, '0000000000000000000000000000000000051025': 604, '0000000000000000000000000000000000051507': 605, '0000000000000000000000000000000000052294': 606, '0000000000000000000000000000000000052313': 607, '0000000000000000000000000000000000052314': 608, '0000000000000000000000000000000000052315': 609, '0000000000000000000000000000000000052316': 610, '0000000000000000000000000000000000052478': 611, '0000000000000000000000000000000000052482': 612, '0000000000000000000000000000000000053375': 613, '0000000000000000000000000000000000054284': 614, '0000000000000000000000000000000000054519': 615, '0000000000000000000000000000000000054892': 616, '0000000000000000000000000000000000055045': 617, '0000000000000000000000000000000000055206': 618, '0000000000000000000000000000000000055374': 619, '0000000000000000000000000000000000055486': 620, '0000000000000000000000000000000000055780': 621, '0000000000000000000000000000000000055834': 622, '0000000000000000000000000000000000055913': 623, '0000000000000000000000000000000000055931': 624, '0000000000000000000000000000000000055940': 625, '0000000000000000000000000000000000056015': 626, '0000000000000000000000000000000000056413': 627, '0000000000000000000000000000000000056440': 628, '0000000000000000000000000000000000056470': 629, '0000000000000000000000000000000000057319': 630, '0000000000000000000000000000000000057390': 631, '0000000000000000000000000000000000057419': 632, '0000000000000000000000000000000000057559': 633, '0000000000000000000000000000000000057763': 634, '0000000000000000000000000000000000057801': 635, '0000000000000000000000000000000000058172': 636, '0000000000000000000000000000000000059242': 637, '0000000000000000000000000000000000059266': 638, '0000000000000000000000000000000000059330': 639, '0000000000000000000000000000000000059340': 640, '0000000000000000000000000000000000059406': 641, '0000000000000000000000000000000000060028': 642, '0000000000000000000000000000000000060367': 643, '0000000000000000000000000000000000060450': 644, '0000000000000000000000000000000000060546': 645, '0000000000000000000000000000000000060547': 646, '0000000000000000000000000000000000060769': 647, '0000000000000000000000000000000000061825': 648, '0000000000000000000000000000000000062200': 649, '0000000000000000000000000000000000062201': 650, '0000000000000000000000000000000000062205': 651, '0000000000000000000000000000000000062208': 652, '0000000000000000000000000000000000062445': 653, '0000000000000000000000000000000000062519': 654, '0000000000000000000000000000000000062520': 655, '0000000000000000000000000000000000062959': 656, '0000000000000000000000000000000000063134': 657, '0000000000000000000000000000000000063301': 658, '0000000000000000000000000000000000063435': 659, '0000000000000000000000000000000000063774': 660, '0000000000000000000000000000000000063850': 661, '0000000000000000000000000000000000064005': 662, '0000000000000000000000000000000000065146': 663, '0000000000000000000000000000000000065800': 664, '0000000000000000000000000000000000065910': 665, '0000000000000000000000000000000000066175': 666, '0000000000000000000000000000000000066466': 667, '0000000000000000000000000000000000067048': 668, '0000000000000000000000000000000000067060': 669, '0000000000000000000000000000000000067518': 670, '0000000000000000000000000000000000067714': 671, '0000000000000000000000000000000000067775': 672, '0000000000000000000000000000000000067808': 673, '0000000000000000000000000000000000067835': 674, '0000000000000000000000000000000000068051': 675, '0000000000000000000000000000000000068440': 676, '0000000000000000000000000000000000068571': 677, '0000000000000000000000000000000000069392': 678, '0000000000000000000000000000000000069442': 679, '0000000000000000000000000000000000069549': 680, '0000000000000000000000000000000000070003': 681, '0000000000000000000000000000000000070004': 682, '0000000000000000000000000000000000070506': 683, '0000000000000000000000000000000000070856': 684, '0000000000000000000000000000000000071281': 685, '0000000000000000000000000000000000071284': 686, '0000000000000000000000000000000000071289': 687, '0000000000000000000000000000000000071382': 688, '0000000000000000000000000000000000071711': 689, '0000000000000000000000000000000000071713': 690, '0000000000000000000000000000000000071742': 691, '0000000000000000000000000000000000072593': 692, '0000000000000000000000000000000000073078': 693, '0000000000000000000000000000000000073221': 694, '0000000000000000000000000000000000073620': 695, '0000000000000000000000000000000000073644': 696, '0000000000000000000000000000000000074164': 697, '0000000000000000000000000000000000074340': 698, '0000000000000000000000000000000000074908': 699, '0000000000000000000000000000000000075217': 700, '0000000000000000000000000000000000075482': 701, '0000000000000000000000000000000000075709': 702, '0000000000000000000000000000000000076643': 703, '0000000000000000000000000000000000076647': 704, '0000000000000000000000000000000000076769': 705, '0000000000000000000000000000000000076857': 706, '0000000000000000000000000000000000077420': 707, '0000000000000000000000000000000000077482': 708, '0000000000000000000000000000000000077549': 709, '0000000000000000000000000000000000077566': 710, '0000000000000000000000000000000000077742': 711, '0000000000000000000000000000000000077988': 712, '0000000000000000000000000000000000078010': 713, '0000000000000000000000000000000000078014': 714, '0000000000000000000000000000000000078135': 715, '0000000000000000000000000000000000078313': 716, '0000000000000000000000000000000000078568': 717, '0000000000000000000000000000000000078692': 718, '0000000000000000000000000000000000078743': 719, '0000000000000000000000000000000000079222': 720, '0000000000000000000000000000000000079483': 721, '0000000000000000000000000000000000079528': 722, '0000000000000000000000000000000000079560': 723, '0000000000000000000000000000000000079580': 724, '0000000000000000000000000000000000079692': 725, '0000000000000000000000000000000000080437': 726, '0000000000000000000000000000000000080744': 727, '0000000000000000000000000000000000080805': 728, '0000000000000000000000000000000000081095': 729, '0000000000000000000000000000000000081096': 730, '0000000000000000000000000000000000081154': 731, '0000000000000000000000000000000000081233': 732, '0000000000000000000000000000000000081388': 733, '0000000000000000000000000000000000081508': 734, '0000000000000000000000000000000000082485': 735, '0000000000000000000000000000000000082487': 736, '0000000000000000000000000000000000082606': 737, '0000000000000000000000000000000000082993': 738, '0000000000000000000000000000000000083612': 739, '0000000000000000000000000000000000083664': 740, '0000000000000000000000000000000000083757': 741, '0000000000000000000000000000000000084353': 742, '0000000000000000000000000000000000084435': 743, '0000000000000000000000000000000000084503': 744, '0000000000000000000000000000000000084572': 745, '0000000000000000000000000000000000084878': 746, '0000000000000000000000000000000000084978': 747, '0000000000000000000000000000000000085107': 748, '0000000000000000000000000000000000085495': 749, '0000000000000000000000000000000000085496': 750, '0000000000000000000000000000000000085497': 751, '0000000000000000000000000000000000085500': 752, '0000000000000000000000000000000000085609': 753, '0000000000000000000000000000000000085698': 754, '0000000000000000000000000000000000085732': 755, '0000000000000000000000000000000000085762': 756, '0000000000000000000000000000000000085763': 757, '0000000000000000000000000000000000085897': 758, '0000000000000000000000000000000000085960': 759, '0000000000000000000000000000000000086124': 760, '0000000000000000000000000000000000086207': 761, '0000000000000000000000000000000000086218': 762, '0000000000000000000000000000000000086228': 763, '0000000000000000000000000000000000087331': 764, '0000000000000000000000000000000000087565': 765, '0000000000000000000000000000000000087568': 766, '0000000000000000000000000000000000087792': 767, '0000000000000000000000000000000000087942': 768, '0000000000000000000000000000000000088172': 769, '0000000000000000000000000000000000088231': 770, '0000000000000000000000000000000000088565': 771, '0000000000000000000000000000000000088566': 772, '0000000000000000000000000000000000088567': 773, '0000000000000000000000000000000000088729': 774, '0000000000000000000000000000000000088897': 775, '0000000000000000000000000000000000088904': 776, '0000000000000000000000000000000000089070': 777, '0000000000000000000000000000000000089280': 778, '0000000000000000000000000000000000089379': 779, '0000000000000000000000000000000000089940': 780, '0000000000000000000000000000000000090046': 781, '0000000000000000000000000000000000090195': 782, '0000000000000000000000000000000000090471': 783, '0000000000000000000000000000000000090495': 784, '0000000000000000000000000000000000090631': 785, '0000000000000000000000000000000000090632': 786, '0000000000000000000000000000000000090633': 787, '0000000000000000000000000000000000090682': 788, '0000000000000000000000000000000000090759': 789, '0000000000000000000000000000000000090945': 790, '0000000000000000000000000000000000090991': 791, '0000000000000000000000000000000000091166': 792, '0000000000000000000000000000000000091167': 793, '0000000000000000000000000000000000091168': 794, '0000000000000000000000000000000000091309': 795, '0000000000000000000000000000000000091507': 796, '0000000000000000000000000000000000091508': 797, '0000000000000000000000000000000000091900': 798, '0000000000000000000000000000000000091940': 799, '0000000000000000000000000000000000091941': 800, '0000000000000000000000000000000000091943': 801, '0000000000000000000000000000000000091944': 802, '0000000000000000000000000000000000091946': 803, '0000000000000000000000000000000000091947': 804, '0000000000000000000000000000000000091950': 805, '0000000000000000000000000000000000092032': 806, '0000000000000000000000000000000000092040': 807, '0000000000000000000000000000000000092042': 808, '0000000000000000000000000000000000092044': 809, '0000000000000000000000000000000000092054': 810, '0000000000000000000000000000000000092070': 811, '0000000000000000000000000000000000092074': 812, '0000000000000000000000000000000000092195': 813, '0000000000000000000000000000000000092204': 814, '0000000000000000000000000000000000092240': 815, '0000000000000000000000000000000000092434': 816, '0000000000000000000000000000000000092697': 817, '0000000000000000000000000000000000093135': 818, '0000000000000000000000000000000000093724': 819, '0000000000000000000000000000000000094303': 820, '0000000000000000000000000000000000094369': 821, '0000000000000000000000000000000000094371': 822, '0000000000000000000000000000000000095186': 823, '0000000000000000000000000000000000095437': 824, '0000000000000000000000000000000000095439': 825, '0000000000000000000000000000000000095672': 826, '0000000000000000000000000000000000095677': 827, '0000000000000000000000000000000000095793': 828, '0000000000000000000000000000000000095932': 829, '0000000000000000000000000000000000095969': 830, '0000000000000000000000000000000000096064': 831, '0000000000000000000000000000000000096892': 832, '0000000000000000000000000000000000097596': 833, '0000000000000000000000000000000000097785': 834, '0000000000000000000000000000000000098448': 835, '0000000000000000000000000000000000098739': 836, '0000000000000000000000000000000000098808': 837, '0000000000000000000000000000000000098910': 838, '0000000000000000000000000000000000100005': 839, '0000000000000000000000000000000000100011': 840, '0000000000000000000000000000000000100012': 841, '0000000000000000000000000000000000100028': 842, '0000000000000000000000000000000000100030': 843, '0000000000000000000000000000000000100034': 844, '0000000000000000000000000000000000100048': 845, '0000000000000000000000000000000000100060': 846, '0000000000000000000000000000000000100076': 847, '0000000000000000000000000000000000100091': 848, '0000000000000000000000000000000000100206': 849, '0000000000000000000000000000000000100239': 850, '0000000000000000000000000000000000100255': 851, '0000000000000000000000000000000000100257': 852, '0000000000000000000000000000000000100312': 853, '0000000000000000000000000000000000100315': 854, '0000000000000000000000000000000000100317': 855, '0000000000000000000000000000000000100360': 856, '0000000000000000000000000000000000100413': 857, '0000000000000000000000000000000000100545': 858, '0000000000000000000000000000000000100547': 859, '0000000000000000000000000000000000100553': 860, '0000000000000000000000000000000000100574': 861, '0000000000000000000000000000000000100575': 862, '0000000000000000000000000000000000100582': 863, '0000000000000000000000000000000000100583': 864, '0000000000000000000000000000000000100615': 865, '0000000000000000000000000000000000100616': 866, '0000000000000000000000000000000000100620': 867, '0000000000000000000000000000000000100621': 868, '0000000000000000000000000000000000100667': 869, '0000000000000000000000000000000000100911': 870, '0000000000000000000000000000000000100919': 871, '0000000000000000000000000000000000101200': 872, '0000000000000000000000000000000000101201': 873, '0000000000000000000000000000000000101202': 874, '0000000000000000000000000000000000101225': 875, '0000000000000000000000000000000000101298': 876, '0000000000000000000000000000000000101399': 877, '0000000000000000000000000000000000101401': 878, '0000000000000000000000000000000000101403': 879, '0000000000000000000000000000000000101404': 880, '0000000000000000000000000000000000101439': 881, '0000000000000000000000000000000000101560': 882, '0000000000000000000000000000000000101563': 883, '0000000000000000000000000000000000101567': 884, '0000000000000000000000000000000000101603': 885, '0000000000000000000000000000000000101612': 886, '0000000000000000000000000000000000101673': 887, '0000000000000000000000000000000000101676': 888, '0000000000000000000000000000000000101680': 889, '0000000000000000000000000000000000101686': 890, '0000000000000000000000000000000000101688': 891, '0000000000000000000000000000000000101693': 892, '0000000000000000000000000000000000101698': 893, '0000000000000000000000000000000000101724': 894, '0000000000000000000000000000000000101748': 895, '0000000000000000000000000000000000101753': 896, '0000000000000000000000000000000000101757': 897, '0000000000000000000000000000000000101763': 898, '0000000000000000000000000000000000101766': 899, '0000000000000000000000000000000000101767': 900, '0000000000000000000000000000000000101769': 901, '0000000000000000000000000000000000101770': 902, '0000000000000000000000000000000000101772': 903, '0000000000000000000000000000000000101774': 904, '0000000000000000000000000000000000101786': 905, '0000000000000000000000000000000000101787': 906, '0000000000000000000000000000000000101790': 907, '0000000000000000000000000000000000101797': 908, '0000000000000000000000000000000000101800': 909, '0000000000000000000000000000000000101802': 910, '0000000000000000000000000000000000101804': 911, '0000000000000000000000000000000000101806': 912, '0000000000000000000000000000000000101807': 913, '0000000000000000000000000000000000101809': 914, '0000000000000000000000000000000000101811': 915, '0000000000000000000000000000000000101812': 916, '0000000000000000000000000000000000101813': 917, '0000000000000000000000000000000000101814': 918, '0000000000000000000000000000000000101816': 919, '0000000000000000000000000000000000101818': 920, '0000000000000000000000000000000000101828': 921, '0000000000000000000000000000000000101831': 922, '0000000000000000000000000000000000101833': 923, '0000000000000000000000000000000000101834': 924, '0000000000000000000000000000000000101835': 925, '0000000000000000000000000000000000101836': 926, '0000000000000000000000000000000000101841': 927, '0000000000000000000000000000000000101843': 928, '0000000000000000000000000000000000101854': 929, '0000000000000000000000000000000000101863': 930, '0000000000000000000000000000000000101865': 931, '0000000000000000000000000000000000101885': 932, '0000000000000000000000000000000000101887': 933, '0000000000000000000000000000000000101888': 934, '0000000000000000000000000000000000101889': 935, '0000000000000000000000000000000000101890': 936, '0000000000000000000000000000000000101891': 937, '0000000000000000000000000000000000101892': 938, '0000000000000000000000000000000000101893': 939, '0000000000000000000000000000000000101894': 940, '0000000000000000000000000000000000101895': 941, '0000000000000000000000000000000000101896': 942, '0000000000000000000000000000000000101897': 943, '0000000000000000000000000000000000101898': 944, '0000000000000000000000000000000000101899': 945, '0000000000000000000000000000000000101908': 946, '0000000000000000000000000000000000101912': 947, '0000000000000000000000000000000000101916': 948, '0000000000000000000000000000000000101940': 949, '0000000000000000000000000000000000101941': 950, '0000000000000000000000000000000000101944': 951, '0000000000000000000000000000000000101948': 952, '0000000000000000000000000000000000101952': 953, '0000000000000000000000000000000000101953': 954, '0000000000000000000000000000000000101957': 955, '0000000000000000000000000000000000101960': 956, '0000000000000000000000000000000000101961': 957, '0000000000000000000000000000000000101966': 958, '0000000000000000000000000000000000101967': 959, '0000000000000000000000000000000000101968': 960, '0000000000000000000000000000000000101969': 961, '0000000000000000000000000000000000101970': 962, '0000000000000000000000000000000000101971': 963, '0000000000000000000000000000000000101973': 964, '0000000000000000000000000000000000101974': 965, '0000000000000000000000000000000000101977': 966, '0000000000000000000000000000000000101980': 967, '0000000000000000000000000000000000101999': 968, '0000000000000000000000000000000000102001': 969, '0000000000000000000000000000000000102007': 970, '0000000000000000000000000000000000102008': 971, '0000000000000000000000000000000000102010': 972, '0000000000000000000000000000000000102014': 973, '0000000000000000000000000000000000102020': 974, '0000000000000000000000000000000000102025': 975, '0000000000000000000000000000000000102027': 976, '0000000000000000000000000000000000102028': 977, '0000000000000000000000000000000000102030': 978, '0000000000000000000000000000000000102031': 979, '0000000000000000000000000000000000102032': 980, '0000000000000000000000000000000000102035': 981, '0000000000000000000000000000000000102037': 982, '0000000000000000000000000000000000102040': 983, '0000000000000000000000000000000000102041': 984, '0000000000000000000000000000000000102042': 985, '0000000000000000000000000000000000102048': 986, '0000000000000000000000000000000000102050': 987, '0000000000000000000000000000000000102052': 988, '0000000000000000000000000000000000102054': 989, '0000000000000000000000000000000000102056': 990, '0000000000000000000000000000000000102058': 991, '0000000000000000000000000000000000102061': 992, '0000000000000000000000000000000000102062': 993, '0000000000000000000000000000000000102063': 994, '0000000000000000000000000000000000102064': 995, '0000000000000000000000000000000000102066': 996, '0000000000000000000000000000000000102070': 997, '0000000000000000000000000000000000102078': 998, '0000000000000000000000000000000000102082': 999, '0000000000000000000000000000000000102084': 1000, '0000000000000000000000000000000000102085': 1001, '0000000000000000000000000000000000102086': 1002, '0000000000000000000000000000000000102096': 1003, '0000000000000000000000000000000000102102': 1004, '0000000000000000000000000000000000102104': 1005, '0000000000000000000000000000000000102105': 1006, '0000000000000000000000000000000000102109': 1007, '0000000000000000000000000000000000102110': 1008, '0000000000000000000000000000000000102111': 1009, '0000000000000000000000000000000000102112': 1010, '0000000000000000000000000000000000102114': 1011, '0000000000000000000000000000000000102124': 1012, '0000000000000000000000000000000000102135': 1013, '0000000000000000000000000000000000102153': 1014, '0000000000000000000000000000000000102164': 1015, '0000000000000000000000000000000000102165': 1016, '0000000000000000000000000000000000102166': 1017, '0000000000000000000000000000000000102167': 1018, '0000000000000000000000000000000000102168': 1019, '0000000000000000000000000000000000102170': 1020, '0000000000000000000000000000000000102190': 1021, '0000000000000000000000000000000000102208': 1022, '0000000000000000000000000000000000102237': 1023, '0000000000000000000000000000000000102250': 1024, '0000000000000000000000000000000000102251': 1025, '0000000000000000000000000000000000102325': 1026, '0000000000000000000000000000000000102338': 1027, '0000000000000000000000000000000000102361': 1028, '0000000000000000000000000000000000102363': 1029, '0000000000000000000000000000000000102379': 1030, '0000000000000000000000000000000000102418': 1031, '0000000000000000000000000000000000102501': 1032, '0000000000000000000000000000000000102522': 1033, '0000000000000000000000000000000000102542': 1034, '0000000000000000000000000000000000102543': 1035, '0000000000000000000000000000000000102544': 1036, '0000000000000000000000000000000000102568': 1037, '0000000000000000000000000000000000102569': 1038, '0000000000000000000000000000000000102642': 1039, '0000000000000000000000000000000000102653': 1040, '0000000000000000000000000000000000102654': 1041, '0000000000000000000000000000000000102662': 1042, '0000000000000000000000000000000000102686': 1043, '0000000000000000000000000000000000102690': 1044, '0000000000000000000000000000000000102699': 1045, '0000000000000000000000000000000000102735': 1046, '0000000000000000000000000000000000102780': 1047, '0000000000000000000000000000000000102837': 1048, '0000000000000000000000000000000000102838': 1049, '0000000000000000000000000000000000102839': 1050, '0000000000000000000000000000000000102840': 1051, '0000000000000000000000000000000000102841': 1052, '0000000000000000000000000000000000102842': 1053, '0000000000000000000000000000000000102843': 1054, '0000000000000000000000000000000000102844': 1055, '0000000000000000000000000000000000102845': 1056, '0000000000000000000000000000000000102846': 1057, '0000000000000000000000000000000000102847': 1058, '0000000000000000000000000000000000102848': 1059, '0000000000000000000000000000000000102925': 1060, '0000000000000000000000000000000000102954': 1061, '0000000000000000000000000000000000102977': 1062, '0000000000000000000000000000000000103002': 1063, '0000000000000000000000000000000000103006': 1064, '0000000000000000000000000000000000103011': 1065, '0000000000000000000000000000000000103018': 1066, '0000000000000000000000000000000000103031': 1067, '0000000000000000000000000000000000103042': 1068, '0000000000000000000000000000000000103053': 1069, '0000000000000000000000000000000000103076': 1070, '0000000000000000000000000000000000103077': 1071, '0000000000000000000000000000000000103081': 1072, '0000000000000000000000000000000000103082': 1073, '0000000000000000000000000000000000103095': 1074, '0000000000000000000000000000000000103100': 1075, '0000000000000000000000000000000000103102': 1076, '0000000000000000000000000000000000103130': 1077, '0000000000000000000000000000000000103162': 1078, '0000000000000000000000000000000000103192': 1079, '0000000000000000000000000000000000103201': 1080, '0000000000000000000000000000000000103246': 1081, '0000000000000000000000000000000000103257': 1082, '0000000000000000000000000000000000103265': 1083, '0000000000000000000000000000000000103310': 1084, '0000000000000000000000000000000000103341': 1085, '0000000000000000000000000000000000103360': 1086, '0000000000000000000000000000000000103373': 1087, '0000000000000000000000000000000000103378': 1088, '0000000000000000000000000000000000103456': 1089, '0000000000000000000000000000000000103467': 1090, '0000000000000000000000000000000000103470': 1091, '0000000000000000000000000000000000103481': 1092, '0000000000000000000000000000000000103484': 1093, '0000000000000000000000000000000000103492': 1094, '0000000000000000000000000000000000103493': 1095, '0000000000000000000000000000000000103549': 1096, '0000000000000000000000000000000000103583': 1097, '0000000000000000000000000000000000103623': 1098, '0000000000000000000000000000000000103655': 1099, '0000000000000000000000000000000000103673': 1100, '0000000000000000000000000000000000103701': 1101, '0000000000000000000000000000000000103732': 1102, '0000000000000000000000000000000000103753': 1103, '0000000000000000000000000000000000103754': 1104, '0000000000000000000000000000000000103773': 1105, '0000000000000000000000000000000000103774': 1106, '0000000000000000000000000000000000103782': 1107, '0000000000000000000000000000000000103796': 1108, '0000000000000000000000000000000000103797': 1109, '0000000000000000000000000000000000103818': 1110, '0000000000000000000000000000000000103819': 1111, '0000000000000000000000000000000000103821': 1112, '0000000000000000000000000000000000103822': 1113, '0000000000000000000000000000000000103823': 1114, '0000000000000000000000000000000000103824': 1115, '0000000000000000000000000000000000103825': 1116, '0000000000000000000000000000000000103832': 1117, '0000000000000000000000000000000000103833': 1118, '0000000000000000000000000000000000103836': 1119, '0000000000000000000000000000000000103865': 1120, '0000000000000000000000000000000000103873': 1121, '0000000000000000000000000000000000103874': 1122, '0000000000000000000000000000000000103889': 1123, '0000000000000000000000000000000000103891': 1124, '0000000000000000000000000000000000103892': 1125, '0000000000000000000000000000000000103924': 1126, '0000000000000000000000000000000000103934': 1127, '0000000000000000000000000000000000104001': 1128, '0000000000000000000000000000000000104003': 1129, '0000000000000000000000000000000000104004': 1130, '0000000000000000000000000000000000104007': 1131, '0000000000000000000000000000000000104020': 1132, '0000000000000000000000000000000000104040': 1133, '0000000000000000000000000000000000104064': 1134, '0000000000000000000000000000000000104079': 1135, '0000000000000000000000000000000000104082': 1136, '0000000000000000000000000000000000104104': 1137, '0000000000000000000000000000000000104106': 1138, '0000000000000000000000000000000000104107': 1139, '0000000000000000000000000000000000104131': 1140, '0000000000000000000000000000000000104150': 1141, '0000000000000000000000000000000000104166': 1142, '0000000000000000000000000000000000104176': 1143, '0000000000000000000000000000000000104177': 1144, '0000000000000000000000000000000000104198': 1145, '0000000000000000000000000000000000104199': 1146, '0000000000000000000000000000000000104204': 1147, '0000000000000000000000000000000000104218': 1148, '0000000000000000000000000000000000104219': 1149, '0000000000000000000000000000000000104220': 1150, '0000000000000000000000000000000000104221': 1151, '0000000000000000000000000000000000104223': 1152, '0000000000000000000000000000000000104224': 1153, '0000000000000000000000000000000000104229': 1154, '0000000000000000000000000000000000104242': 1155, '0000000000000000000000000000000000104260': 1156, '0000000000000000000000000000000000104265': 1157, '0000000000000000000000000000000000104266': 1158, '0000000000000000000000000000000000104290': 1159, '0000000000000000000000000000000000104292': 1160, '0000000000000000000000000000000000104303': 1161, '0000000000000000000000000000000000104315': 1162, '0000000000000000000000000000000000104329': 1163, '0000000000000000000000000000000000104330': 1164, '0000000000000000000000000000000000104336': 1165, '0000000000000000000000000000000000104510': 1166, '0000000000000000000000000000000000104620': 1167, '0000000000000000000000000000000000104622': 1168, '0000000000000000000000000000000000104687': 1169, '0000000000000000000000000000000000104695': 1170, '0000000000000000000000000000000000104703': 1171, '0000000000000000000000000000000000104704': 1172, '0000000000000000000000000000000000104705': 1173, '0000000000000000000000000000000000104716': 1174, '0000000000000000000000000000000000104787': 1175, '0000000000000000000000000000000000104804': 1176, '0000000000000000000000000000000000104807': 1177, '0000000000000000000000000000000000104820': 1178, '0000000000000000000000000000000000104890': 1179, '0000000000000000000000000000000000104908': 1180, '0000000000000000000000000000000000104912': 1181, '0000000000000000000000000000000000104919': 1182, '0000000000000000000000000000000000104958': 1183, '0000000000000000000000000000000000104991': 1184, '0000000000000000000000000000000000105002': 1185, '0000000000000000000000000000000000105003': 1186, '0000000000000000000000000000000000105004': 1187, '0000000000000000000000000000000000105006': 1188, '0000000000000000000000000000000000105013': 1189, '0000000000000000000000000000000000105241': 1190, '0000000000000000000000000000000000105455': 1191, '0000000000000000000000000000000000105501': 1192, '0000000000000000000000000000000000105608': 1193, '0000000000000000000000000000000000105637': 1194, '0000000000000000000000000000000000105723': 1195, '0000000000000000000000000000000000105724': 1196, '0000000000000000000000000000000000105726': 1197, '0000000000000000000000000000000000105921': 1198, '0000000000000000000000000000000000106003': 1199, '0000000000000000000000000000000000106004': 1200, '0000000000000000000000000000000000106009': 1201, '0000000000000000000000000000000000106011': 1202, '0000000000000000000000000000000000106019': 1203, '0000000000000000000000000000000000106020': 1204, '0000000000000000000000000000000000106028': 1205, '0000000000000000000000000000000000106038': 1206, '0000000000000000000000000000000000106062': 1207, '0000000000000000000000000000000000106200': 1208, '0000000000000000000000000000000000106201': 1209, '0000000000000000000000000000000000106257': 1210, '0000000000000000000000000000000000106322': 1211, '0000000000000000000000000000000000106419': 1212, '0000000000000000000000000000000000106455': 1213, '0000000000000000000000000000000000106737': 1214, '0000000000000000000000000000000000106753': 1215, '0000000000000000000000000000000000106755': 1216, '0000000000000000000000000000000000106771': 1217, '0000000000000000000000000000000000106786': 1218, '0000000000000000000000000000000000106915': 1219, '0000000000000000000000000000000000106949': 1220, '0000000000000000000000000000000000106952': 1221, '0000000000000000000000000000000000106957': 1222, '0000000000000000000000000000000000106999': 1223, '0000000000000000000000000000000000107143': 1224, '0000000000000000000000000000000000107339': 1225, '0000000000000000000000000000000000107895': 1226, '0000000000000000000000000000000000107977': 1227, '0000000000000000000000000000000000108037': 1228, '0000000000000000000000000000000000108072': 1229, '0000000000000000000000000000000000108385': 1230, '0000000000000000000000000000000000108431': 1231, '0000000000000000000000000000000000108432': 1232, '0000000000000000000000000000000000108539': 1233, '0000000000000000000000000000000000108540': 1234, '0000000000000000000000000000000000108552': 1235, '0000000000000000000000000000000000108711': 1236, '0000000000000000000000000000000000108762': 1237, '0000000000000000000000000000000000108820': 1238, '0000000000000000000000000000000000108821': 1239, '0000000000000000000000000000000000108822': 1240, '0000000000000000000000000000000000108823': 1241, '0000000000000000000000000000000000108828': 1242, '0000000000000000000000000000000000108837': 1243, '0000000000000000000000000000000000108838': 1244, '0000000000000000000000000000000000108839': 1245, '0000000000000000000000000000000000108841': 1246, '0000000000000000000000000000000000108846': 1247, '0000000000000000000000000000000000109149': 1248, '0000000000000000000000000000000000109150': 1249, '0000000000000000000000000000000000109156': 1250, '0000000000000000000000000000000000109384': 1251, '0000000000000000000000000000000000109500': 1252, '0000000000000000000000000000000000109712': 1253, '0000000000000000000000000000000000109713': 1254, '0000000000000000000000000000000000109842': 1255, '0000000000000000000000000000000000109918': 1256, '0000000000000000000000000000000000109935': 1257, '0000000000000000000000000000000000109961': 1258, '0000000000000000000000000000000000110209': 1259, '0000000000000000000000000000000000110235': 1260, '0000000000000000000000000000000000110384': 1261, '0000000000000000000000000000000000110549': 1262, '0000000000000000000000000000000000110551': 1263, '0000000000000000000000000000000000110660': 1264, '0000000000000000000000000000000000110677': 1265, '0000000000000000000000000000000000110747': 1266, '0000000000000000000000000000000000110860': 1267, '0000000000000000000000000000000000110990': 1268, '0000000000000000000000000000000000111032': 1269, '0000000000000000000000000000000000111103': 1270, '0000000000000000000000000000000000111145': 1271, '0000000000000000000000000000000000111310': 1272, '0000000000000000000000000000000000111355': 1273, '0000000000000000000000000000000000111448': 1274, '0000000000000000000000000000000000111598': 1275, '0000000000000000000000000000000000111677': 1276, '0000000000000000000000000000000000111700': 1277, '0000000000000000000000000000000000111722': 1278, '0000000000000000000000000000000000111807': 1279, '0000000000000000000000000000000000111835': 1280, '0000000000000000000000000000000000111895': 1281, '0000000000000000000000000000000000112372': 1282, '0000000000000000000000000000000000112400': 1283, '0000000000000000000000000000000000112428': 1284, '0000000000000000000000000000000000112521': 1285, '0000000000000000000000000000000000112544': 1286, '0000000000000000000000000000000000112545': 1287, '0000000000000000000000000000000000113046': 1288, '0000000000000000000000000000000000113227': 1289, '0000000000000000000000000000000000113366': 1290, '0000000000000000000000000000000000113369': 1291, '0000000000000000000000000000000000113408': 1292, '0000000000000000000000000000000000113409': 1293, '0000000000000000000000000000000000113410': 1294, '0000000000000000000000000000000000113648': 1295, '0000000000000000000000000000000000113741': 1296, '0000000000000000000000000000000000113801': 1297, '0000000000000000000000000000000000114051': 1298, '0000000000000000000000000000000000114273': 1299, '0000000000000000000000000000000000114274': 1300, '0000000000000000000000000000000000114793': 1301, '0000000000000000000000000000000000114881': 1302, '0000000000000000000000000000000000115298': 1303, '0000000000000000000000000000000000115299': 1304, '0000000000000000000000000000000000115300': 1305, '0000000000000000000000000000000000115301': 1306, '0000000000000000000000000000000000115302': 1307, '0000000000000000000000000000000000115561': 1308, '0000000000000000000000000000000000115575': 1309, '0000000000000000000000000000000000115627': 1310, '0000000000000000000000000000000000116481': 1311, '0000000000000000000000000000000000116540': 1312, '0000000000000000000000000000000000116623': 1313, '0000000000000000000000000000000000116626': 1314, '0000000000000000000000000000000000116730': 1315, '0000000000000000000000000000000000116731': 1316, '0000000000000000000000000000000000116732': 1317, '0000000000000000000000000000000000116733': 1318, '0000000000000000000000000000000000116748': 1319, '0000000000000000000000000000000000116751': 1320, '0000000000000000000000000000000000116753': 1321, '0000000000000000000000000000000000116812': 1322, '0000000000000000000000000000000000116895': 1323, '0000000000000000000000000000000000116896': 1324, '0000000000000000000000000000000000116899': 1325, '0000000000000000000000000000000000116900': 1326, '0000000000000000000000000000000000116905': 1327, '0000000000000000000000000000000000116907': 1328, '0000000000000000000000000000000000116908': 1329, '0000000000000000000000000000000000116950': 1330, '0000000000000000000000000000000000116951': 1331, '0000000000000000000000000000000000116952': 1332, '0000000000000000000000000000000000116954': 1333, '0000000000000000000000000000000000116955': 1334, '0000000000000000000000000000000000116989': 1335, '0000000000000000000000000000000000117055': 1336, '0000000000000000000000000000000000117056': 1337, '0000000000000000000000000000000000117058': 1338, '0000000000000000000000000000000000117076': 1339, '0000000000000000000000000000000000117077': 1340, '0000000000000000000000000000000000117079': 1341, '0000000000000000000000000000000000117082': 1342, '0000000000000000000000000000000000117104': 1343, '0000000000000000000000000000000000117126': 1344, '0000000000000000000000000000000000117200': 1345, '0000000000000000000000000000000000117201': 1346, '0000000000000000000000000000000000117202': 1347, '0000000000000000000000000000000000117203': 1348, '0000000000000000000000000000000000117228': 1349, '0000000000000000000000000000000000117231': 1350, '0000000000000000000000000000000000117233': 1351, '0000000000000000000000000000000000117250': 1352, '0000000000000000000000000000000000117266': 1353, '0000000000000000000000000000000000117323': 1354, '0000000000000000000000000000000000117383': 1355, '0000000000000000000000000000000000117443': 1356, '0000000000000000000000000000000000117445': 1357, '0000000000000000000000000000000000117446': 1358, '0000000000000000000000000000000000117492': 1359, '0000000000000000000000000000000000117528': 1360, '0000000000000000000000000000000000117530': 1361, '0000000000000000000000000000000000117531': 1362, '0000000000000000000000000000000000117532': 1363, '0000000000000000000000000000000000117533': 1364, '0000000000000000000000000000000000117534': 1365, '0000000000000000000000000000000000117535': 1366, '0000000000000000000000000000000000117536': 1367, '0000000000000000000000000000000000117537': 1368, '0000000000000000000000000000000000117590': 1369, '0000000000000000000000000000000000117603': 1370, '0000000000000000000000000000000000117605': 1371, '0000000000000000000000000000000000117606': 1372, '0000000000000000000000000000000000117607': 1373, '0000000000000000000000000000000000117608': 1374, '0000000000000000000000000000000000117613': 1375, '0000000000000000000000000000000000117630': 1376, '0000000000000000000000000000000000117682': 1377, '0000000000000000000000000000000000117687': 1378, '0000000000000000000000000000000000117711': 1379, '0000000000000000000000000000000000117739': 1380, '0000000000000000000000000000000000117758': 1381, '0000000000000000000000000000000000117765': 1382, '0000000000000000000000000000000000117867': 1383, '0000000000000000000000000000000000117876': 1384, '0000000000000000000000000000000000117977': 1385, '0000000000000000000000000000000000118540': 1386, '0000000000000000000000000000000000118541': 1387, '0000000000000000000000000000000000118808': 1388, '0000000000000000000000000000000000118880': 1389, '0000000000000000000000000000000000118881': 1390, '0000000000000000000000000000000000118891': 1391, '0000000000000000000000000000000000119011': 1392, '0000000000000000000000000000000000119012': 1393, '0000000000000000000000000000000000119020': 1394, '0000000000000000000000000000000000119722': 1395, '0000000000000000000000000000000000120430': 1396, '0000000000000000000000000000000000120578': 1397, '0000000000000000000000000000000000120741': 1398, '0000000000000000000000000000000000120847': 1399, '0000000000000000000000000000000000120865': 1400, '0000000000000000000000000000000000120867': 1401, '0000000000000000000000000000000000120879': 1402, '0000000000000000000000000000000000121205': 1403, '0000000000000000000000000000000000121210': 1404, '0000000000000000000000000000000000121215': 1405, '0000000000000000000000000000000000121500': 1406, '0000000000000000000000000000000000121637': 1407, '0000000000000000000000000000000000122732': 1408, '0000000000000000000000000000000000122733': 1409, '0000000000000000000000000000000000123249': 1410, '0000000000000000000000000000000000123253': 1411, '0000000000000000000000000000000000123875': 1412, '0000000000000000000000000000000000124112': 1413, '0000000000000000000000000000000000124197': 1414, '0000000000000000000000000000000000124198': 1415, '0000000000000000000000000000000000124200': 1416, '0000000000000000000000000000000000124430': 1417, '0000000000000000000000000000000000124572': 1418, '0000000000000000000000000000000000124608': 1419, '0000000000000000000000000000000000124633': 1420, '0000000000000000000000000000000000124716': 1421, '0000000000000000000000000000000000125335': 1422, '0000000000000000000000000000000000125500': 1423, '0000000000000000000000000000000000125501': 1424, '0000000000000000000000000000000000125502': 1425, '0000000000000000000000000000000000126021': 1426, '0000000000000000000000000000000000126169': 1427, '0000000000000000000000000000000000127502': 1428, '0000000000000000000000000000000000127503': 1429, '0000000000000000000000000000000000127668': 1430, '0000000000000000000000000000000000132013': 1431, '0000000000000000000000000000000000140824': 1432, '0000000000000000000000000000000000143666': 1433, '0000000000000000000000000000000000146733': 1434, '0000000000000000000000000000000000146753': 1435, '0000000000000000000000000000000000147677': 1436, '0000000000000000000000000000000000148681': 1437, '0000000000000000000000000000000000149257': 1438, '0000000000000000000000000000000000150083': 1439, '0000000000000000000000000000000000150416': 1440, '0000000000000000000000000000000000150607': 1441, '0000000000000000000000000000000000151223': 1442, '0000000000000000000000000000000000152536': 1443, '0000000000000000000000000000000000153189': 1444, '0000000000000000000000000000000000153606': 1445, '0000000000000000000000000000000000154124': 1446, '0000000000000000000000000000000000154532': 1447, '0000000000000000000000000000000000154729': 1448, '0000000000000000000000000000000000154797': 1449, '0000000000000000000000000000000000155262': 1450, '0000000000000000000000000000000000155317': 1451, '0000000000000000000000000000000000156095': 1452, '0000000000000000000000000000000000156207': 1453, '0000000000000000000000000000000000156282': 1454, '0000000000000000000000000000000000156405': 1455, '0000000000000000000000000000000000156407': 1456, '0000000000000000000000000000000000157153': 1457, '0000000000000000000000000000000000157440': 1458, '0000000000000000000000000000000000157441': 1459, '0000000000000000000000000000000000157516': 1460, '0000000000000000000000000000000000157625': 1461, '0000000000000000000000000000000000157851': 1462, '0000000000000000000000000000000000158291': 1463, '0000000000000000000000000000000000158303': 1464, '0000000000000000000000000000000000158483': 1465, '0000000000000000000000000000000000158507': 1466, '0000000000000000000000000000000000158889': 1467, '0000000000000000000000000000000000159132': 1468, '0000000000000000000000000000000000159261': 1469, '0000000000000000000000000000000000159317': 1470, '0000000000000000000000000000000000159343': 1471, '0000000000000000000000000000000000159344': 1472, '0000000000000000000000000000000000159447': 1473, '0000000000000000000000000000000000159526': 1474, '0000000000000000000000000000000000160421': 1475, '0000000000000000000000000000000000160440': 1476, '0000000000000000000000000000000000163637': 1477, '0000000000000000000000000000000000164450': 1478, '0000000000000000000000000000000000166376': 1479, '0000000000000000000000000000000000166796': 1480, '0000000000000000000000000000000000175203': 1481, '0000000000000000000000000000000000176120': 1482, '0000000000000000000000000000000000181884': 1483, '0000000000000000000000000000000000185308': 1484, '0000000000000000000000000000000000185334': 1485, '0000000000000000000000000000000000186928': 1486, '0000000000000000000000000000000000194262': 1487, '0000000000000000000000000000000000196956': 1488, '0000000000000000000000000000000000196958': 1489, '0000000000000000000000000000000000198835': 1490, '0000000000000000000000000000000000198856': 1491, '0000000000000000000000000000000000198871': 1492, '0000000000000000000000000000000000199245': 1493, '0000000000000000000000000000000000199277': 1494, '0000000000000000000000000000000000199297': 1495, '0000000000000000000000000000000000199653': 1496, '0000000000000000000000000000000000199675': 1497, '0000000000000000000000000000000000199692': 1498, '0000000000000000000000000000000000201686': 1499, '0000000000000000000000000000000000202321': 1500, '0000000000000000000000000000000000202719': 1501, '0000000000000000000000000000000000202723': 1502, '0000000000000000000000000000000000208776': 1503, '0000000000000000000000000000000000209987': 1504, '0000000000000000000000000000000000210423': 1505, '0000000000000000000000000000000000214204': 1506, '0000000000000000000000000000000000216004': 1507, '0000000000000000000000000000000000217158': 1508, '0000000000000000000000000000000000218030': 1509, '0000000000000000000000000000000000218191': 1510, '0000000000000000000000000000000000221405': 1511, '0000000000000000000000000000000000221421': 1512, '0000000000000000000000000000000000221441': 1513, '0000000000000000000000000000000000221445': 1514, '0000000000000000000000000000000000221457': 1515, '0000000000000000000000000000000000231408': 1516, '0000000000000000000000000000000000232877': 1517, '0000000000000000000000000000000000235023': 1518, '0000000000000000000000000000000000237039': 1519, '0000000000000000000000000000000000239744': 1520, '0000000000000000000000000000000000239745': 1521, '0000000000000000000000000000000000240086': 1522, '0000000000000000000000000000000000240092': 1523, '0000000000000000000000000000000000240098': 1524, '0000000000000000000000000000000000243230': 1525, '0000000000000000000000000000000000243243': 1526, '0000000000000000000000000000000000243244': 1527, '0000000000000000000000000000000000249265': 1528, '0000000000000000000000000000000000259136': 1529, '0000000000000000000000000000000000266546': 1530, '0000000000000000000000000000000000266549': 1531, '0000000000000000000000000000000000270044': 1532, '0000000000000000000000000000000000270045': 1533, '0000000000000000000000000000000000270387': 1534, '0000000000000000000000000000000000270388': 1535, '0000000000000000000000000000000000270389': 1536, '0000000000000000000000000000000000270390': 1537, '0000000000000000000000000000000000270391': 1538, '0000000000000000000000000000000000270964': 1539, '0000000000000000000000000000000000270967': 1540, '0000000000000000000000000000000000270973': 1541, '0000000000000000000000000000000000270975': 1542, '0000000000000000000000000000000000270977': 1543, '0000000000000000000000000000000000270979': 1544, '0000000000000000000000000000000000270980': 1545, '0000000000000000000000000000000000270982': 1546, '0000000000000000000000000000000000270983': 1547, '0000000000000000000000000000000000270984': 1548, '0000000000000000000000000000000000270986': 1549, '0000000000000000000000000000000000270987': 1550, '0000000000000000000000000000000000270988': 1551, '0000000000000000000000000000000000270990': 1552, '0000000000000000000000000000000000270991': 1553, '0000000000000000000000000000000000270992': 1554, '0000000000000000000000000000000000276485': 1555, '0000000000000000000000000000000000279133': 1556, '0000000000000000000000000000000000294079': 1557, '0000000000000000000000000000000000294081': 1558, '0000000000000000000000000000000000294082': 1559, '0000000000000000000000000000000000294083': 1560, '0000000000000000000000000000000000294084': 1561, '0000000000000000000000000000000000300344': 1562, '0000000000000000000000000000000000300346': 1563, '0000000000000000000000000000000000300349': 1564, '0000000000000000000000000000000000300350': 1565, '0000000000000000000000000000000000300351': 1566, '0000000000000000000000000000000000300352': 1567, '0000000000000000000000000000000000300354': 1568, '0000000000000000000000000000000000300434': 1569, '0000000000000000000000000000000000300741': 1570, '0000000000000000000000000000000000300822': 1571, '0000000000000000000000000000000000300979': 1572, '0000000000000000000000000000000000300980': 1573, '0000000000000000000000000000000000300981': 1574, '0000000000000000000000000000000000300982': 1575, '0000000000000000000000000000000000300983': 1576, '0000000000000000000000000000000000302355': 1577, '0000000000000000000000000000000000302711': 1578, '0000000000000000000000000000000000304023': 1579, '0000000000000000000000000000000000310025': 1580, '0000000000000000000000000000000000310189': 1581, '0000000000000000000000000000000000310190': 1582, '0000000000000000000000000000000000310191': 1583, '0000000000000000000000000000000000310192': 1584, '0000000000000000000000000000000000310193': 1585, '0000000000000000000000000000000000310194': 1586, '0000000000000000000000000000000000319494': 1587, '0000000000000000000000000000000000319507': 1588, '0000000000000000000000000000000000319511': 1589, '0000000000000000000000000000000000319515': 1590, '0000000000000000000000000000000000319522': 1591, '0000000000000000000000000000000000319533': 1592, '0000000000000000000000000000000000320795': 1593, '0000000000000000000000000000000000320796': 1594, '0000000000000000000000000000000000321045': 1595, '0000000000000000000000000000000000321355': 1596, '0000000000000000000000000000000000325502': 1597, '0000000000000000000000000000000000331444': 1598, '0000000000000000000000000000000000338130': 1599, '0000000000000000000000000000000000344626': 1600, '0000000000000000000000000000000000352356': 1601, '0000000000000000000000000000000000362391': 1602, '0000000000000000000000000000000000367388': 1603, '0000000000000000000000000000000000384495': 1604, '0000000000000000000000000000000000402609': 1605, '0000000000000000000000000000000000402610': 1606, '0000000000000000000000000000000000402617': 1607, '0000000000000000000000000000000000402618': 1608, '0000000000000000000000000000000000411624': 1609, '0000000000000000000000000000000000411625': 1610, '0000000000000000000000000000000000412214': 1611, '0000000000000000000000000000000000413841': 1612, '0000000000000000000000000000000000415341': 1613, '0000000000000000000000000000000000415343': 1614, '0000000000000000000000000000000000420105': 1615, '0000000000000000000000000000000000420125': 1616, '0000000000000000000000000000000000420147': 1617, '0000000000000000000000000000000000420152': 1618, '0000000000000000000000000000000000420163': 1619, '0000000000000000000000000000000000420180': 1620, '0000000000000000000000000000000000420182': 1621, '0000000000000000000000000000000000420192': 1622, '0000000000000000000000000000000000420257': 1623, '0000000000000000000000000000000000420265': 1624, '0000000000000000000000000000000000420270': 1625, '0000000000000000000000000000000000420355': 1626, '0000000000000000000000000000000000420361': 1627, '0000000000000000000000000000000000420365': 1628, '0000000000000000000000000000000000420371': 1629, '0000000000000000000000000000000000427315': 1630, '0000000000000000000000000000000000427316': 1631, '0000000000000000000000000000000000427317': 1632, '0000000000000000000000000000000000427318': 1633, '0000000000000000000000000000000000441423': 1634, '0000000000000000000000000000000000441701': 1635, '0000000000000000000000000000000000450053': 1636, '0000000000000000000000000000000000451611': 1637, '0000000000000000000000000000000000452030': 1638, '0000000000000000000000000000000000452032': 1639, '0000000000000000000000000000000000452033': 1640, '0000000000000000000000000000000000452034': 1641, '0000000000000000000000000000000000452035': 1642, '0000000000000000000000000000000000452037': 1643, '0000000000000000000000000000000000452038': 1644, '0000000000000000000000000000000000455023': 1645, '0000000000000000000000000000000000459144': 1646, '0000000000000000000000000000000000460011': 1647, '0000000000000000000000000000000000460095': 1648, '0000000000000000000000000000000000460104': 1649, '0000000000000000000000000000000000460109': 1650, '0000000000000000000000000000000000460130': 1651, '0000000000000000000000000000000000460131': 1652, '0000000000000000000000000000000000460132': 1653, '0000000000000000000000000000000000460195': 1654, '0000000000000000000000000000000000461141': 1655, '0000000000000000000000000000000000461142': 1656, '0000000000000000000000000000000000461144': 1657, '0000000000000000000000000000000000461145': 1658, '0000000000000000000000000000000000461146': 1659, '0000000000000000000000000000000000461148': 1660, '0000000000000000000000000000000000461149': 1661, '0000000000000000000000000000000000461150': 1662, '0000000000000000000000000000000000461152': 1663, '0000000000000000000000000000000000461153': 1664, '0000000000000000000000000000000000461155': 1665, '0000000000000000000000000000000000461157': 1666, '0000000000000000000000000000000000461160': 1667, '0000000000000000000000000000000000461163': 1668, '0000000000000000000000000000000000461164': 1669, '0000000000000000000000000000000000461165': 1670, '0000000000000000000000000000000000461167': 1671, '0000000000000000000000000000000000461168': 1672, '0000000000000000000000000000000000461169': 1673, '0000000000000000000000000000000000461170': 1674, '0000000000000000000000000000000000461171': 1675, '0000000000000000000000000000000000461172': 1676, '0000000000000000000000000000000000461173': 1677, '0000000000000000000000000000000000461175': 1678, '0000000000000000000000000000000000480703': 1679, '0000000000000000000000000000000000481440': 1680, '0000000000000000000000000000000000495077': 1681, '0000000000000000000000000000000000500001': 1682, '0000000000000000000000000000000000500182': 1683, '0000000000000000000000000000000000500301': 1684, '0000000000000000000000000000000000500309': 1685, '0000000000000000000000000000000000500311': 1686, '0000000000000000000000000000000000500312': 1687, '0000000000000000000000000000000000500314': 1688, '0000000000000000000000000000000000500315': 1689, '0000000000000000000000000000000000500316': 1690, '0000000000000000000000000000000000500317': 1691, '0000000000000000000000000000000000500318': 1692, '0000000000000000000000000000000000501736': 1693, '0000000000000000000000000000000000502936': 1694, '0000000000000000000000000000000000503574': 1695, '0000000000000000000000000000000000503948': 1696, '0000000000000000000000000000000000504457': 1697, '0000000000000000000000000000000000504587': 1698, '0000000000000000000000000000000000504613': 1699, '0000000000000000000000000000000000504614': 1700, '0000000000000000000000000000000000504615': 1701, '0000000000000000000000000000000000504616': 1702, '0000000000000000000000000000000000504617': 1703, '0000000000000000000000000000000000504618': 1704, '0000000000000000000000000000000000504619': 1705, '0000000000000000000000000000000000504620': 1706, '0000000000000000000000000000000000504622': 1707, '0000000000000000000000000000000000504623': 1708, '0000000000000000000000000000000000504834': 1709, '0000000000000000000000000000000000504835': 1710, '0000000000000000000000000000000000504836': 1711, '0000000000000000000000000000000000504837': 1712, '0000000000000000000000000000000000505319': 1713, '0000000000000000000000000000000000505320': 1714, '0000000000000000000000000000000000505903': 1715, '0000000000000000000000000000000000521909': 1716, '0000000000000000000000000000000000529647': 1717, '0000000000000000000000000000000000540745': 1718, '0000000000000000000000000000000000550121': 1719, '0000000000000000000000000000000000550122': 1720, '0000000000000000000000000000000000550591': 1721, '0000000000000000000000000000000000551792': 1722, '0000000000000000000000000000000000558120': 1723, '0000000000000000000000000000000000558121': 1724, '0000000000000000000000000000000000558127': 1725, '0000000000000000000000000000000000559942': 1726, '0000000000000000000000000000000000561281': 1727, '0000000000000000000000000000000000561282': 1728, '0000000000000000000000000000000000579691': 1729, '0000000000000000000000000000000000579693': 1730, '0000000000000000000000000000000000579694': 1731, '0000000000000000000000000000000000579695': 1732, '0000000000000000000000000000000000579696': 1733, '0000000000000000000000000000000000631323': 1734, '0000000000000000000000000000000000631349': 1735, '0000000000000000000000000000000000631350': 1736, '0000000000000000000000000000000000631832': 1737, '0000000000000000000000000000000000632521': 1738, '0000000000000000000000000000000000632780': 1739, '0000000000000000000000000000000000633025': 1740, '0000000000000000000000000000000000633031': 1741, '0000000000000000000000000000000000633047': 1742, '0000000000000000000000000000000000633056': 1743, '0000000000000000000000000000000000633064': 1744, '0000000000000000000000000000000000633743': 1745, '0000000000000000000000000000000000633749': 1746, '0000000000000000000000000000000000682574': 1747, '0000000000000000000000000000000000687607': 1748, '0000000000000000000000000000000000691146': 1749, '0000000000000000000000000000000000691147': 1750, '0000000000000000000000000000000000691435': 1751, '0000000000000000000000000000000000692559': 1752, '0000000000000000000000000000000000699422': 1753, '0000000000000000000000000000000000700005': 1754, '0000000000000000000000000000000000700006': 1755, '0000000000000000000000000000000000700008': 1756, '0000000000000000000000000000000000700010': 1757, '0000000000000000000000000000000000700012': 1758, '0000000000000000000000000000000000700017': 1759, '0000000000000000000000000000000000700169': 1760, '0000000000000000000000000000000000700200': 1761, '0000000000000000000000000000000000700201': 1762, '0000000000000000000000000000000000700202': 1763, '0000000000000000000000000000000000700216': 1764, '0000000000000000000000000000000000700229': 1765, '0000000000000000000000000000000000700246': 1766, '0000000000000000000000000000000000700259': 1767, '0000000000000000000000000000000000700268': 1768, '0000000000000000000000000000000000700269': 1769, '0000000000000000000000000000000000700283': 1770, '0000000000000000000000000000000000700287': 1771, '0000000000000000000000000000000000700295': 1772, '0000000000000000000000000000000000700296': 1773, '0000000000000000000000000000000000700298': 1774, '0000000000000000000000000000000000700299': 1775, '0000000000000000000000000000000000700304': 1776, '0000000000000000000000000000000000700306': 1777, '0000000000000000000000000000000000700308': 1778, '0000000000000000000000000000000000700315': 1779, '0000000000000000000000000000000000700317': 1780, '0000000000000000000000000000000000700321': 1781, '0000000000000000000000000000000000700322': 1782, '0000000000000000000000000000000000700323': 1783, '0000000000000000000000000000000000700325': 1784, '0000000000000000000000000000000000700326': 1785, '0000000000000000000000000000000000700331': 1786, '0000000000000000000000000000000000700371': 1787, '0000000000000000000000000000000000700398': 1788, '0000000000000000000000000000000000700402': 1789, '0000000000000000000000000000000000700421': 1790, '0000000000000000000000000000000000700422': 1791, '0000000000000000000000000000000000700424': 1792, '0000000000000000000000000000000000700451': 1793, '0000000000000000000000000000000000700459': 1794, '0000000000000000000000000000000000700460': 1795, '0000000000000000000000000000000000700480': 1796, '0000000000000000000000000000000000700668': 1797, '0000000000000000000000000000000000700669': 1798, '0000000000000000000000000000000000700670': 1799, '0000000000000000000000000000000000700699': 1800, '0000000000000000000000000000000000700700': 1801, '0000000000000000000000000000000000700701': 1802, '0000000000000000000000000000000000700724': 1803, '0000000000000000000000000000000000700780': 1804, '0000000000000000000000000000000000700784': 1805, '0000000000000000000000000000000000700832': 1806, '0000000000000000000000000000000000700895': 1807, '0000000000000000000000000000000000700898': 1808, '0000000000000000000000000000000000700899': 1809, '0000000000000000000000000000000000700900': 1810, '0000000000000000000000000000000000700901': 1811, '0000000000000000000000000000000000700965': 1812, '0000000000000000000000000000000000700966': 1813, '0000000000000000000000000000000000700967': 1814, '0000000000000000000000000000000000701753': 1815, '0000000000000000000000000000000000702443': 1816, '0000000000000000000000000000000000702789': 1817, '0000000000000000000000000000000000703307': 1818, '0000000000000000000000000000000000703992': 1819, '0000000000000000000000000000000000704097': 1820, '0000000000000000000000000000000000704187': 1821, '0000000000000000000000000000000000704188': 1822, '0000000000000000000000000000000000704318': 1823, '0000000000000000000000000000000000704710': 1824, '0000000000000000000000000000000000704711': 1825, '0000000000000000000000000000000000704872': 1826, '0000000000000000000000000000000000704909': 1827, '0000000000000000000000000000000000704966': 1828, '0000000000000000000000000000000000707845': 1829, '0000000000000000000000000000000000708562': 1830, '0000000000000000000000000000000000709389': 1831, '0000000000000000000000000000000000709416': 1832, '0000000000000000000000000000000000709417': 1833, '0000000000000000000000000000000000709503': 1834, '0000000000000000000000000000000000709504': 1835, '0000000000000000000000000000000000709505': 1836, '0000000000000000000000000000000000709748': 1837, '0000000000000000000000000000000000709750': 1838, '0000000000000000000000000000000000709906': 1839, '0000000000000000000000000000000000709907': 1840, '0000000000000000000000000000000000709908': 1841, '0000000000000000000000000000000000709909': 1842, '0000000000000000000000000000000000709910': 1843, '0000000000000000000000000000000000709911': 1844, '0000000000000000000000000000000000710130': 1845, '0000000000000000000000000000000000710133': 1846, '0000000000000000000000000000000000710219': 1847, '0000000000000000000000000000000000710220': 1848, '0000000000000000000000000000000000710221': 1849, '0000000000000000000000000000000000710222': 1850, '0000000000000000000000000000000000710223': 1851, '0000000000000000000000000000000000710224': 1852, '0000000000000000000000000000000000710225': 1853, '0000000000000000000000000000000000710226': 1854, '0000000000000000000000000000000000710227': 1855, '0000000000000000000000000000000000710228': 1856, '0000000000000000000000000000000000710292': 1857, '0000000000000000000000000000000000710293': 1858, '0000000000000000000000000000000000710388': 1859, '0000000000000000000000000000000000710978': 1860, '0000000000000000000000000000000000720000': 1861, '0000000000000000000000000000000000781532': 1862, '0000000000000000000000000000000000781533': 1863, '0000000000000000000000000000000000781996': 1864, '0000000000000000000000000000000000781997': 1865, '0000000000000000000000000000000000781998': 1866, '0000000000000000000000000000000000781999': 1867, '0000000000000000000000000000000000801500': 1868, '0000000000000000000000000000000000801501': 1869, '0000000000000000000000000000000000801504': 1870, '0000000000000000000000000000000000801507': 1871, '0000000000000000000000000000000000801511': 1872, '0000000000000000000000000000000000801512': 1873, '0000000000000000000000000000000000801515': 1874, '0000000000000000000000000000000000801519': 1875, '0000000000000000000000000000000000801520': 1876, '0000000000000000000000000000000000805024': 1877, '0000000000000000000000000000000000805027': 1878, '0000000000000000000000000000000000805039': 1879, '0000000000000000000000000000000000805067': 1880, '0000000000000000000000000000000000805910': 1881, '0000000000000000000000000000000000806091': 1882, '0000000000000000000000000000000000806569': 1883, '0000000000000000000000000000000000806570': 1884, '0000000000000000000000000000000000808087': 1885, '0000000000000000000000000000000000808088': 1886, '0000000000000000000000000000000000870416': 1887, '0000000000000000000000000000000000870417': 1888, '0000000000000000000000000000000000874131': 1889, '0000000000000000000000000000000000874816': 1890, '0000000000000000000000000000000000888046': 1891, '0000000000000000000000000000000000888063': 1892, '0000000000000000000000000000000000888149': 1893, '0000000000000000000000000000000000890003': 1894, '0000000000000000000000000000000000890005': 1895, '0000000000000000000000000000000000890007': 1896, '0000000000000000000000000000000000890008': 1897, '0000000000000000000000000000000000890010': 1898, '0000000000000000000000000000000000890093': 1899, '0000000000000000000000000000000000890094': 1900, '0000000000000000000000000000000000890106': 1901, '0000000000000000000000000000000000890107': 1902, '0000000000000000000000000000000000890108': 1903, '0000000000000000000000000000000000890109': 1904, '0000000000000000000000000000000000890110': 1905, '0000000000000000000000000000000000890111': 1906, '0000000000000000000000000000000000890112': 1907, '0000000000000000000000000000000000890204': 1908, '0000000000000000000000000000000000890211': 1909, '0000000000000000000000000000000000890307': 1910, '0000000000000000000000000000000000890309': 1911, '0000000000000000000000000000000000890313': 1912, '0000000000000000000000000000000000890334': 1913, '0000000000000000000000000000000000890355': 1914, '0000000000000000000000000000000000890535': 1915, '0000000000000000000000000000000000890537': 1916, '0000000000000000000000000000000000890540': 1917, '0000000000000000000000000000000000890541': 1918, '0000000000000000000000000000000000890547': 1919, '0000000000000000000000000000000000890550': 1920, '0000000000000000000000000000000000907971': 1921, '0000000000000000000000000000000000907974': 1922, '0000000000000000000000000000000001000004': 1923, '0000000000000000000000000000000001000007': 1924, '0000000000000000000000000000000001000012': 1925, '0000000000000000000000000000000001000025': 1926, '0000000000000000000000000000000001000026': 1927, '0000000000000000000000000000000001000034': 1928, '0000000000000000000000000000000001000037': 1929, '0000000000000000000000000000000001000039': 1930, '0000000000000000000000000000000001000042': 1931, '0000000000000000000000000000000001000047': 1932, '0000000000000000000000000000000001000055': 1933, '0000000000000000000000000000000001000057': 1934, '0000000000000000000000000000000001000060': 1935, '0000000000000000000000000000000001000061': 1936, '0000000000000000000000000000000001000062': 1937, '0000000000000000000000000000000001000063': 1938, '0000000000000000000000000000000001000068': 1939, '0000000000000000000000000000000001000071': 1940, '0000000000000000000000000000000001000086': 1941, '0000000000000000000000000000000001000087': 1942, '0000000000000000000000000000000001000089': 1943, '0000000000000000000000000000000001000092': 1944, '0000000000000000000000000000000001000093': 1945, '0000000000000000000000000000000001000098': 1946, '0000000000000000000000000000000001000103': 1947, '0000000000000000000000000000000001000104': 1948, '0000000000000000000000000000000001000109': 1949, '0000000000000000000000000000000001000112': 1950, '0000000000000000000000000000000001000113': 1951, '0000000000000000000000000000000001000119': 1952, '0000000000000000000000000000000001000129': 1953, '0000000000000000000000000000000001000132': 1954, '0000000000000000000000000000000001000154': 1955, '0000000000000000000000000000000001000155': 1956, '0000000000000000000000000000000001000164': 1957, '0000000000000000000000000000000001000179': 1958, '0000000000000000000000000000000001000184': 1959, '0000000000000000000000000000000001000219': 1960, '0000000000000000000000000000000001000221': 1961, '0000000000000000000000000000000001000222': 1962, '0000000000000000000000000000000001000224': 1963, '0000000000000000000000000000000001000225': 1964, '0000000000000000000000000000000001000226': 1965, '0000000000000000000000000000000001000227': 1966, '0000000000000000000000000000000001000228': 1967, '0000000000000000000000000000000001000309': 1968, '0000000000000000000000000000000001000351': 1969, '0000000000000000000000000000000001000357': 1970, '0000000000000000000000000000000001000366': 1971, '0000000000000000000000000000000001000373': 1972, '0000000000000000000000000000000001000380': 1973, '0000000000000000000000000000000001000467': 1974, '0000000000000000000000000000000001000472': 1975, '0000000000000000000000000000000001000514': 1976, '0000000000000000000000000000000001000542': 1977, '0000000000000000000000000000000001000546': 1978, '0000000000000000000000000000000001000550': 1979, '0000000000000000000000000000000001000554': 1980, '0000000000000000000000000000000001000558': 1981, '0000000000000000000000000000000001000562': 1982, '0000000000000000000000000000000001000574': 1983, '0000000000000000000000000000000001000578': 1984, '0000000000000000000000000000000001000582': 1985, '0000000000000000000000000000000001000586': 1986, '0000000000000000000000000000000001000590': 1987, '0000000000000000000000000000000001000598': 1988, '0000000000000000000000000000000001000661': 1989, '0000000000000000000000000000000001000663': 1990, '0000000000000000000000000000000001000688': 1991, '0000000000000000000000000000000001000699': 1992, '0000000000000000000000000000000001000703': 1993, '0000000000000000000000000000000001000704': 1994, '0000000000000000000000000000000001000706': 1995, '0000000000000000000000000000000001000709': 1996, '0000000000000000000000000000000001000710': 1997, '0000000000000000000000000000000001000713': 1998, '0000000000000000000000000000000001000714': 1999, '0000000000000000000000000000000001000716': 2000, '0000000000000000000000000000000001000717': 2001, '0000000000000000000000000000000001000732': 2002, '0000000000000000000000000000000001000776': 2003, '0000000000000000000000000000000001000777': 2004, '0000000000000000000000000000000001000805': 2005, '0000000000000000000000000000000001000812': 2006, '0000000000000000000000000000000001000840': 2007, '0000000000000000000000000000000001000841': 2008, '0000000000000000000000000000000001000854': 2009, '0000000000000000000000000000000001000856': 2010, '0000000000000000000000000000000001000919': 2011, '0000000000000000000000000000000001000921': 2012, '0000000000000000000000000000000001000922': 2013, '0000000000000000000000000000000001000923': 2014, '0000000000000000000000000000000001000924': 2015, '0000000000000000000000000000000001000927': 2016, '0000000000000000000000000000000001000934': 2017, '0000000000000000000000000000000001000940': 2018, '0000000000000000000000000000000001000941': 2019, '0000000000000000000000000000000001000943': 2020, '0000000000000000000000000000000001000944': 2021, '0000000000000000000000000000000001000947': 2022, '0000000000000000000000000000000001000949': 2023, '0000000000000000000000000000000001000950': 2024, '0000000000000000000000000000000001000952': 2025, '0000000000000000000000000000000001000953': 2026, '0000000000000000000000000000000001000956': 2027, '0000000000000000000000000000000001000960': 2028, '0000000000000000000000000000000001000962': 2029, '0000000000000000000000000000000001000963': 2030, '0000000000000000000000000000000001000974': 2031, '0000000000000000000000000000000001000977': 2032, '0000000000000000000000000000000001001053': 2033, '0000000000000000000000000000000001001061': 2034, '0000000000000000000000000000000001001104': 2035, '0000000000000000000000000000000001001129': 2036, '0000000000000000000000000000000001001149': 2037, '0000000000000000000000000000000001001170': 2038, '0000000000000000000000000000000001001171': 2039, '0000000000000000000000000000000001001173': 2040, '0000000000000000000000000000000001001174': 2041, '0000000000000000000000000000000001001175': 2042, '0000000000000000000000000000000001001194': 2043, '0000000000000000000000000000000001001207': 2044, '0000000000000000000000000000000001001208': 2045, '0000000000000000000000000000000001001210': 2046, '0000000000000000000000000000000001001233': 2047, '0000000000000000000000000000000001001249': 2048, '0000000000000000000000000000000001001278': 2049, '0000000000000000000000000000000001001283': 2050, '0000000000000000000000000000000001001308': 2051, '0000000000000000000000000000000001001312': 2052, '0000000000000000000000000000000001001315': 2053, '0000000000000000000000000000000001001316': 2054, '0000000000000000000000000000000001001343': 2055, '0000000000000000000000000000000001001351': 2056, '0000000000000000000000000000000001001353': 2057, '0000000000000000000000000000000001001355': 2058, '0000000000000000000000000000000001001488': 2059, '0000000000000000000000000000000001001561': 2060, '0000000000000000000000000000000001001565': 2061, '0000000000000000000000000000000001001567': 2062, '0000000000000000000000000000000001001583': 2063, '0000000000000000000000000000000001001595': 2064, '0000000000000000000000000000000001001703': 2065, '0000000000000000000000000000000001001743': 2066, '0000000000000000000000000000000001002026': 2067, '0000000000000000000000000000000001002044': 2068, '0000000000000000000000000000000001002075': 2069, '0000000000000000000000000000000001002086': 2070, '0000000000000000000000000000000001002185': 2071, '0000000000000000000000000000000001002186': 2072, '0000000000000000000000000000000001002228': 2073, '0000000000000000000000000000000001002229': 2074, '0000000000000000000000000000000001002230': 2075, '0000000000000000000000000000000001002260': 2076, '0000000000000000000000000000000001002306': 2077, '0000000000000000000000000000000001002307': 2078, '0000000000000000000000000000000001002308': 2079, '0000000000000000000000000000000001002313': 2080, '0000000000000000000000000000000001002319': 2081, '0000000000000000000000000000000001002323': 2082, '0000000000000000000000000000000001002325': 2083, '0000000000000000000000000000000001002331': 2084, '0000000000000000000000000000000001002333': 2085, '0000000000000000000000000000000001002334': 2086, '0000000000000000000000000000000001002391': 2087, '0000000000000000000000000000000001002452': 2088, '0000000000000000000000000000000001002477': 2089, '0000000000000000000000000000000001002481': 2090, '0000000000000000000000000000000001002483': 2091, '0000000000000000000000000000000001002484': 2092, '0000000000000000000000000000000001002485': 2093, '0000000000000000000000000000000001002486': 2094, '0000000000000000000000000000000001002554': 2095, '0000000000000000000000000000000001002563': 2096, '0000000000000000000000000000000001002568': 2097, '0000000000000000000000000000000001002570': 2098, '0000000000000000000000000000000001002678': 2099, '0000000000000000000000000000000001002688': 2100, '0000000000000000000000000000000001002721': 2101, '0000000000000000000000000000000001002805': 2102, '0000000000000000000000000000000001002846': 2103, '0000000000000000000000000000000001002865': 2104, '0000000000000000000000000000000001002867': 2105, '0000000000000000000000000000000001002870': 2106, '0000000000000000000000000000000001002875': 2107, '0000000000000000000000000000000001002889': 2108, '0000000000000000000000000000000001002906': 2109, '0000000000000000000000000000000001002939': 2110, '0000000000000000000000000000000001002957': 2111, '0000000000000000000000000000000001002988': 2112, '0000000000000000000000000000000001002989': 2113, '0000000000000000000000000000000001002990': 2114, '0000000000000000000000000000000001002991': 2115, '0000000000000000000000000000000001003025': 2116, '0000000000000000000000000000000001003029': 2117, '0000000000000000000000000000000001003030': 2118, '0000000000000000000000000000000001003035': 2119, '0000000000000000000000000000000001003109': 2120, '0000000000000000000000000000000001003110': 2121, '0000000000000000000000000000000001003113': 2122, '0000000000000000000000000000000001003114': 2123, '0000000000000000000000000000000001003126': 2124, '0000000000000000000000000000000001003135': 2125, '0000000000000000000000000000000001003177': 2126, '0000000000000000000000000000000001003276': 2127, '0000000000000000000000000000000001003277': 2128, '0000000000000000000000000000000001003279': 2129, '0000000000000000000000000000000001003280': 2130, '0000000000000000000000000000000001003347': 2131, '0000000000000000000000000000000001003390': 2132, '0000000000000000000000000000000001003391': 2133, '0000000000000000000000000000000001003407': 2134, '0000000000000000000000000000000001003419': 2135, '0000000000000000000000000000000001003420': 2136, '0000000000000000000000000000000001003424': 2137, '0000000000000000000000000000000001003425': 2138, '0000000000000000000000000000000001003493': 2139, '0000000000000000000000000000000001003513': 2140, '0000000000000000000000000000000001003581': 2141, '0000000000000000000000000000000001003623': 2142, '0000000000000000000000000000000001003626': 2143, '0000000000000000000000000000000001003637': 2144, '0000000000000000000000000000000001003676': 2145, '0000000000000000000000000000000001003679': 2146, '0000000000000000000000000000000001003700': 2147, '0000000000000000000000000000000001003739': 2148, '0000000000000000000000000000000001003741': 2149, '0000000000000000000000000000000001003742': 2150, '0000000000000000000000000000000001003747': 2151, '0000000000000000000000000000000001003777': 2152, '0000000000000000000000000000000001003802': 2153, '0000000000000000000000000000000001003854': 2154, '0000000000000000000000000000000001003882': 2155, '0000000000000000000000000000000001003928': 2156, '0000000000000000000000000000000001003945': 2157, '0000000000000000000000000000000001003955': 2158, '0000000000000000000000000000000001003956': 2159, '0000000000000000000000000000000001004026': 2160, '0000000000000000000000000000000001004027': 2161, '0000000000000000000000000000000001004028': 2162, '0000000000000000000000000000000001004029': 2163, '0000000000000000000000000000000001004035': 2164, '0000000000000000000000000000000001004037': 2165, '0000000000000000000000000000000001004038': 2166, '0000000000000000000000000000000001004043': 2167, '0000000000000000000000000000000001004046': 2168, '0000000000000000000000000000000001004047': 2169, '0000000000000000000000000000000001004048': 2170, '0000000000000000000000000000000001004049': 2171, '0000000000000000000000000000000001004050': 2172, '0000000000000000000000000000000001004051': 2173, '0000000000000000000000000000000001004058': 2174, '0000000000000000000000000000000001004059': 2175, '0000000000000000000000000000000001004060': 2176, '0000000000000000000000000000000001004076': 2177, '0000000000000000000000000000000001004079': 2178, '0000000000000000000000000000000001004088': 2179, '0000000000000000000000000000000001004089': 2180, '0000000000000000000000000000000001004090': 2181, '0000000000000000000000000000000001004092': 2182, '0000000000000000000000000000000001004102': 2183, '0000000000000000000000000000000001004104': 2184, '0000000000000000000000000000000001004120': 2185, '0000000000000000000000000000000001004124': 2186, '0000000000000000000000000000000001004125': 2187, '0000000000000000000000000000000001004126': 2188, '0000000000000000000000000000000001004127': 2189, '0000000000000000000000000000000001004129': 2190, '0000000000000000000000000000000001004131': 2191, '0000000000000000000000000000000001004133': 2192, '0000000000000000000000000000000001004134': 2193, '0000000000000000000000000000000001004135': 2194, '0000000000000000000000000000000001004141': 2195, '0000000000000000000000000000000001004144': 2196, '0000000000000000000000000000000001004156': 2197, '0000000000000000000000000000000001004158': 2198, '0000000000000000000000000000000001004162': 2199, '0000000000000000000000000000000001004216': 2200, '0000000000000000000000000000000001004229': 2201, '0000000000000000000000000000000001004233': 2202, '0000000000000000000000000000000001004235': 2203, '0000000000000000000000000000000001004249': 2204, '0000000000000000000000000000000001004251': 2205, '0000000000000000000000000000000001004255': 2206, '0000000000000000000000000000000001004256': 2207, '0000000000000000000000000000000001004262': 2208, '0000000000000000000000000000000001004267': 2209, '0000000000000000000000000000000001004325': 2210, '0000000000000000000000000000000001004328': 2211, '0000000000000000000000000000000001004340': 2212, '0000000000000000000000000000000001004342': 2213, '0000000000000000000000000000000001004346': 2214, '0000000000000000000000000000000001004352': 2215, '0000000000000000000000000000000001004353': 2216, '0000000000000000000000000000000001004355': 2217, '0000000000000000000000000000000001004375': 2218, '0000000000000000000000000000000001004380': 2219, '0000000000000000000000000000000001004381': 2220, '0000000000000000000000000000000001004386': 2221, '0000000000000000000000000000000001004432': 2222, '0000000000000000000000000000000001004434': 2223, '0000000000000000000000000000000001004441': 2224, '0000000000000000000000000000000001004442': 2225, '0000000000000000000000000000000001004468': 2226, '0000000000000000000000000000000001004473': 2227, '0000000000000000000000000000000001004495': 2228, '0000000000000000000000000000000001004505': 2229, '0000000000000000000000000000000001004598': 2230, '0000000000000000000000000000000001004616': 2231, '0000000000000000000000000000000001004619': 2232, '0000000000000000000000000000000001004621': 2233, '0000000000000000000000000000000001004622': 2234, '0000000000000000000000000000000001004625': 2235, '0000000000000000000000000000000001004626': 2236, '0000000000000000000000000000000001004627': 2237, '0000000000000000000000000000000001004629': 2238, '0000000000000000000000000000000001004630': 2239, '0000000000000000000000000000000001004631': 2240, '0000000000000000000000000000000001004632': 2241, '0000000000000000000000000000000001004853': 2242, '0000000000000000000000000000000001004862': 2243, '0000000000000000000000000000000001004863': 2244, '0000000000000000000000000000000001005095': 2245, '0000000000000000000000000000000001005097': 2246, '0000000000000000000000000000000001005235': 2247, '0000000000000000000000000000000001005238': 2248, '0000000000000000000000000000000001005239': 2249, '0000000000000000000000000000000001005254': 2250, '0000000000000000000000000000000001005255': 2251, '0000000000000000000000000000000001005256': 2252, '0000000000000000000000000000000001005257': 2253, '0000000000000000000000000000000001005258': 2254, '0000000000000000000000000000000001005339': 2255, '0000000000000000000000000000000001005403': 2256, '0000000000000000000000000000000001005406': 2257, '0000000000000000000000000000000001005439': 2258, '0000000000000000000000000000000001005487': 2259, '0000000000000000000000000000000001005516': 2260, '0000000000000000000000000000000001005517': 2261, '0000000000000000000000000000000001005518': 2262, '0000000000000000000000000000000001005519': 2263, '0000000000000000000000000000000001005522': 2264, '0000000000000000000000000000000001005523': 2265, '0000000000000000000000000000000001005531': 2266, '0000000000000000000000000000000001005539': 2267, '0000000000000000000000000000000001005580': 2268, '0000000000000000000000000000000001005609': 2269, '0000000000000000000000000000000001005629': 2270, '0000000000000000000000000000000001005632': 2271, '0000000000000000000000000000000001005638': 2272, '0000000000000000000000000000000001005708': 2273, '0000000000000000000000000000000001005712': 2274, '0000000000000000000000000000000001005714': 2275, '0000000000000000000000000000000001005717': 2276, '0000000000000000000000000000000001005724': 2277, '0000000000000000000000000000000001005727': 2278, '0000000000000000000000000000000001005728': 2279, '0000000000000000000000000000000001005734': 2280, '0000000000000000000000000000000001005740': 2281, '0000000000000000000000000000000001005747': 2282, '0000000000000000000000000000000001005749': 2283, '0000000000000000000000000000000001005750': 2284, '0000000000000000000000000000000001005754': 2285, '0000000000000000000000000000000001005779': 2286, '0000000000000000000000000000000001005789': 2287, '0000000000000000000000000000000001005829': 2288, '0000000000000000000000000000000001005964': 2289, '0000000000000000000000000000000001005973': 2290, '0000000000000000000000000000000001005989': 2291, '0000000000000000000000000000000001005992': 2292, '0000000000000000000000000000000001005993': 2293, '0000000000000000000000000000000001006000': 2294, '0000000000000000000000000000000001006008': 2295, '0000000000000000000000000000000001006048': 2296, '0000000000000000000000000000000001006068': 2297, '0000000000000000000000000000000001006069': 2298, '0000000000000000000000000000000001006088': 2299, '0000000000000000000000000000000001006089': 2300, '0000000000000000000000000000000001006094': 2301, '0000000000000000000000000000000001006100': 2302, '0000000000000000000000000000000001006130': 2303, '0000000000000000000000000000000001006148': 2304, '0000000000000000000000000000000001006151': 2305, '0000000000000000000000000000000001006152': 2306, '0000000000000000000000000000000001006154': 2307, '0000000000000000000000000000000001006232': 2308, '0000000000000000000000000000000001006241': 2309, '0000000000000000000000000000000001006327': 2310, '0000000000000000000000000000000001006331': 2311, '0000000000000000000000000000000001006350': 2312, '0000000000000000000000000000000001006351': 2313, '0000000000000000000000000000000001006360': 2314, '0000000000000000000000000000000001006380': 2315, '0000000000000000000000000000000001006400': 2316, '0000000000000000000000000000000001006410': 2317, '0000000000000000000000000000000001006462': 2318, '0000000000000000000000000000000001006473': 2319, '0000000000000000000000000000000001006492': 2320, '0000000000000000000000000000000001006500': 2321, '0000000000000000000000000000000001006502': 2322, '0000000000000000000000000000000001006513': 2323, '0000000000000000000000000000000001006521': 2324, '0000000000000000000000000000000001006523': 2325, '0000000000000000000000000000000001006548': 2326, '0000000000000000000000000000000001006592': 2327, '0000000000000000000000000000000001006647': 2328, '0000000000000000000000000000000001006651': 2329, '0000000000000000000000000000000001006661': 2330, '0000000000000000000000000000000001006680': 2331, '0000000000000000000000000000000001006684': 2332, '0000000000000000000000000000000001006691': 2333, '0000000000000000000000000000000001006692': 2334, '0000000000000000000000000000000001006725': 2335, '0000000000000000000000000000000001006726': 2336, '0000000000000000000000000000000001006732': 2337, '0000000000000000000000000000000001006733': 2338, '0000000000000000000000000000000001006734': 2339, '0000000000000000000000000000000001006791': 2340, '0000000000000000000000000000000001006792': 2341, '0000000000000000000000000000000001006793': 2342, '0000000000000000000000000000000001006796': 2343, '0000000000000000000000000000000001006802': 2344, '0000000000000000000000000000000001006803': 2345, '0000000000000000000000000000000001006811': 2346, '0000000000000000000000000000000001006812': 2347, '0000000000000000000000000000000001006816': 2348, '0000000000000000000000000000000001006914': 2349, '0000000000000000000000000000000001006924': 2350, '0000000000000000000000000000000001006925': 2351, '0000000000000000000000000000000001008944': 2352, '0000000000000000000000000000000001008945': 2353, '0000000000000000000000000000000001008946': 2354, '0000000000000000000000000000000001008948': 2355, '0000000000000000000000000000000001008951': 2356, '0000000000000000000000000000000001008953': 2357, '0000000000000000000000000000000001008954': 2358, '0000000000000000000000000000000001008955': 2359, '0000000000000000000000000000000001008956': 2360, '0000000000000000000000000000000001008957': 2361, '0000000000000000000000000000000001008962': 2362, '0000000000000000000000000000000001008964': 2363, '0000000000000000000000000000000001008978': 2364, '0000000000000000000000000000000001008979': 2365, '0000000000000000000000000000000001009996': 2366, '0000000000000000000000000000000001009997': 2367, '0000000000000000000000000000000001020540': 2368, '0000000000000000000000000000000001020641': 2369, '0000000000000000000000000000000001020726': 2370, '0000000000000000000000000000000001020772': 2371, '0000000000000000000000000000000001020778': 2372, '0000000000000000000000000000000001020813': 2373, '0000000000000000000000000000000001020872': 2374, '0000000000000000000000000000000001020893': 2375, '0000000000000000000000000000000001020902': 2376, '0000000000000000000000000000000001020903': 2377, '0000000000000000000000000000000001020914': 2378, '0000000000000000000000000000000001020918': 2379, '0000000000000000000000000000000001020923': 2380, '0000000000000000000000000000000001020929': 2381, '0000000000000000000000000000000001020936': 2382, '0000000000000000000000000000000001020972': 2383, '0000000000000000000000000000000001021176': 2384, '0000000000000000000000000000000001021188': 2385, '0000000000000000000000000000000001021189': 2386, '0000000000000000000000000000000001021203': 2387, '0000000000000000000000000000000001021205': 2388, '0000000000000000000000000000000001021212': 2389, '0000000000000000000000000000000001021213': 2390, '0000000000000000000000000000000001021216': 2391, '0000000000000000000000000000000001021271': 2392, '0000000000000000000000000000000001029931': 2393, '0000000000000000000000000000000001029940': 2394, '0000000000000000000000000000000001054651': 2395, '0000000000000000000000000000000001054661': 2396, '0000000000000000000000000000000001054681': 2397, '0000000000000000000000000000000001057510': 2398, '0000000000000000000000000000000001057610': 2399, '0000000000000000000000000000000001057720': 2400, '0000000000000000000000000000000001097036': 2401, '0000000000000000000000000000000001097102': 2402, '0000000000000000000000000000000001097103': 2403, '0000000000000000000000000000000001097107': 2404, '0000000000000000000000000000000001100001': 2405, '0000000000000000000000000000000001100004': 2406, '0000000000000000000000000000000001100008': 2407, '0000000000000000000000000000000001100009': 2408, '0000000000000000000000000000000001100010': 2409, '0000000000000000000000000000000001100011': 2410, '0000000000000000000000000000000001100012': 2411, '0000000000000000000000000000000001100025': 2412, '0000000000000000000000000000000001100026': 2413, '0000000000000000000000000000000001101067': 2414, '0000000000000000000000000000000001101068': 2415, '0000000000000000000000000000000001107007': 2416, '0000000000000000000000000000000001119221': 2417, '0000000000000000000000000000000001119400': 2418, '0000000000000000000000000000000001121488': 2419, '0000000000000000000000000000000001131991': 2420, '0000000000000000000000000000000001131992': 2421, '0000000000000000000000000000000001170427': 2422, '0000000000000000000000000000000001170462': 2423, '0000000000000000000000000000000001170472': 2424, '0000000000000000000000000000000001170580': 2425, '0000000000000000000000000000000001170581': 2426, '0000000000000000000000000000000001170600': 2427, '0000000000000000000000000000000001170606': 2428, '0000000000000000000000000000000001170607': 2429, '0000000000000000000000000000000001170610': 2430, '0000000000000000000000000000000001170612': 2431, '0000000000000000000000000000000001170618': 2432, '0000000000000000000000000000000001170625': 2433, '0000000000000000000000000000000001170631': 2434, '0000000000000000000000000000000001170633': 2435, '0000000000000000000000000000000001170805': 2436, '0000000000000000000000000000000001174849': 2437, '0000000000000000000000000000000001174857': 2438, '0000000000000000000000000000000001174881': 2439, '0000000000000000000000000000000001174909': 2440, '0000000000000000000000000000000001174933': 2441, '0000000000000000000000000000000001174960': 2442, '0000000000000000000000000000000001174979': 2443, '0000000000000000000000000000000001174996': 2444, '0000000000000000000000000000000001174998': 2445, '0000000000000000000000000000000001308960': 2446, '0000000000000000000000000000000001308961': 2447, '0000000000000000000000000000000001308962': 2448, '0000000000000000000000000000000001308964': 2449, '0000000000000000000000000000000001308988': 2450, '0000000000000000000000000000000001456544': 2451, '0000000000000000000000000000000001456570': 2452, '0000000000000000000000000000000001456571': 2453, '0000000000000000000000000000000001456628': 2454, '0000000000000000000000000000000001456676': 2455, '0000000000000000000000000000000001504017': 2456, '0000000000000000000000000000000001520975': 2457, '0000000000000000000000000000000001561580': 2458, '0000000000000000000000000000000001561592': 2459, '0000000000000000000000000000000001561594': 2460, '0000000000000000000000000000000001561595': 2461, '0000000000000000000000000000000001671482': 2462, '0000000000000000000000000000000001999916': 2463, '0000000000000000000000000000000001999917': 2464, '0000000000000000000000000000000002000016': 2465, '0000000000000000000000000000000002000048': 2466, '0000000000000000000000000000000002000445': 2467, '0000000000000000000000000000000002010369': 2468, '0000000000000000000000000000000002010376': 2469, '0000000000000000000000000000000002010385': 2470, '0000000000000000000000000000000002010388': 2471, '0000000000000000000000000000000002010399': 2472, '0000000000000000000000000000000002010413': 2473, '0000000000000000000000000000000002012936': 2474, '0000000000000000000000000000000002012940': 2475, '0000000000000000000000000000000002014612': 2476, '0000000000000000000000000000000002018216': 2477, '0000000000000000000000000000000002018217': 2478, '0000000000000000000000000000000002018218': 2479, '0000000000000000000000000000000002018225': 2480, '0000000000000000000000000000000002018226': 2481, '0000000000000000000000000000000002018228': 2482, '0000000000000000000000000000000002019828': 2483, '0000000000000000000000000000000002019831': 2484, '0000000000000000000000000000000002019832': 2485, '0000000000000000000000000000000002019868': 2486, '0000000000000000000000000000000002019871': 2487, '0000000000000000000000000000000002020207': 2488, '0000000000000000000000000000000002021246': 2489, '0000000000000000000000000000000002021386': 2490, '0000000000000000000000000000000002026202': 2491, '0000000000000000000000000000000002028699': 2492, '0000000000000000000000000000000002030399': 2493, '0000000000000000000000000000000002032164': 2494, '0000000000000000000000000000000002040587': 2495, '0000000000000000000000000000000002041523': 2496, '0000000000000000000000000000000002044065': 2497, '0000000000000000000000000000000002044369': 2498, '0000000000000000000000000000000002056185': 2499, '0000000000000000000000000000000002061221': 2500, '0000000000000000000000000000000002061231': 2501, '0000000000000000000000000000000002061325': 2502, '0000000000000000000000000000000002061422': 2503, '0000000000000000000000000000000002061535': 2504, '0000000000000000000000000000000002061544': 2505, '0000000000000000000000000000000002061566': 2506, '0000000000000000000000000000000002061568': 2507, '0000000000000000000000000000000002061579': 2508, '0000000000000000000000000000000002071091': 2509, '0000000000000000000000000000000002071092': 2510, '0000000000000000000000000000000002071093': 2511, '0000000000000000000000000000000002071094': 2512, '0000000000000000000000000000000002071095': 2513, '0000000000000000000000000000000002071105': 2514, '0000000000000000000000000000000002071106': 2515, '0000000000000000000000000000000002071174': 2516, '0000000000000000000000000000000002071175': 2517, '0000000000000000000000000000000002071205': 2518, '0000000000000000000000000000000002071219': 2519, '0000000000000000000000000000000002071230': 2520, '0000000000000000000000000000000002071241': 2521, '0000000000000000000000000000000002071833': 2522, '0000000000000000000000000000000002071836': 2523, '0000000000000000000000000000000002071918': 2524, '0000000000000000000000000000000002072423': 2525, '0000000000000000000000000000000002075736': 2526, '0000000000000000000000000000000002075739': 2527, '0000000000000000000000000000000002075750': 2528, '0000000000000000000000000000000002075751': 2529, '0000000000000000000000000000000002075815': 2530, '0000000000000000000000000000000002076542': 2531, '0000000000000000000000000000000002076565': 2532, '0000000000000000000000000000000002077881': 2533, '0000000000000000000000000000000002077976': 2534, '0000000000000000000000000000000002081863': 2535, '0000000000000000000000000000000002083135': 2536, '0000000000000000000000000000000002111402': 2537, '0000000000000000000000000000000002111436': 2538, '0000000000000000000000000000000002111447': 2539, '0000000000000000000000000000000002111449': 2540, '0000000000000000000000000000000002111472': 2541, '0000000000000000000000000000000002111484': 2542, '0000000000000000000000000000000002111485': 2543, '0000000000000000000000000000000002111487': 2544, '0000000000000000000000000000000002132205': 2545, '0000000000000000000000000000000002174791': 2546, '0000000000000000000000000000000002174792': 2547, '0000000000000000000000000000000002174793': 2548, '0000000000000000000000000000000002194411': 2549, '0000000000000000000000000000000002500085': 2550, '0000000000000000000000000000000002500112': 2551, '0000000000000000000000000000000002500124': 2552, '0000000000000000000000000000000002500125': 2553, '0000000000000000000000000000000002500180': 2554, '0000000000000000000000000000000003004233': 2555, '0000000000000000000000000000000003010041': 2556, '0000000000000000000000000000000003010075': 2557, '0000000000000000000000000000000003010110': 2558, '0000000000000000000000000000000003010130': 2559, '0000000000000000000000000000000003010190': 2560, '0000000000000000000000000000000003010200': 2561, '0000000000000000000000000000000003010220': 2562, '0000000000000000000000000000000003010250': 2563, '0000000000000000000000000000000003010260': 2564, '0000000000000000000000000000000003010300': 2565, '0000000000000000000000000000000003010360': 2566, '0000000000000000000000000000000003010390': 2567, '0000000000000000000000000000000003010480': 2568, '0000000000000000000000000000000003010620': 2569, '0000000000000000000000000000000003010648': 2570, '0000000000000000000000000000000003010759': 2571, '0000000000000000000000000000000003010760': 2572, '0000000000000000000000000000000003010780': 2573, '0000000000000000000000000000000003010990': 2574, '0000000000000000000000000000000003011000': 2575, '0000000000000000000000000000000003011016': 2576, '0000000000000000000000000000000003011017': 2577, '0000000000000000000000000000000003011040': 2578, '0000000000000000000000000000000003011060': 2579, '0000000000000000000000000000000003011069': 2580, '0000000000000000000000000000000003011070': 2581, '0000000000000000000000000000000003011230': 2582, '0000000000000000000000000000000003011310': 2583, '0000000000000000000000000000000003011376': 2584, '0000000000000000000000000000000003011389': 2585, '0000000000000000000000000000000003011399': 2586, '0000000000000000000000000000000003011448': 2587, '0000000000000000000000000000000003011449': 2588, '0000000000000000000000000000000003011450': 2589, '0000000000000000000000000000000003011451': 2590, '0000000000000000000000000000000003014953': 2591, '0000000000000000000000000000000003016457': 2592, '0000000000000000000000000000000003016459': 2593, '0000000000000000000000000000000003016460': 2594, '0000000000000000000000000000000003016463': 2595, '0000000000000000000000000000000003016954': 2596, '0000000000000000000000000000000003019507': 2597, '0000000000000000000000000000000003024930': 2598, '0000000000000000000000000000000003026848': 2599, '0000000000000000000000000000000003027140': 2600, '0000000000000000000000000000000003027590': 2601, '0000000000000000000000000000000003028087': 2602, '0000000000000000000000000000000003030212': 2603, '0000000000000000000000000000000003030366': 2604, '0000000000000000000000000000000003030846': 2605, '0000000000000000000000000000000003033435': 2606, '0000000000000000000000000000000003033436': 2607, '0000000000000000000000000000000003034855': 2608, '0000000000000000000000000000000003035523': 2609, '0000000000000000000000000000000003038705': 2610, '0000000000000000000000000000000003040982': 2611, '0000000000000000000000000000000003041525': 2612, '0000000000000000000000000000000003041527': 2613, '0000000000000000000000000000000003042010': 2614, '0000000000000000000000000000000003042972': 2615, '0000000000000000000000000000000003042973': 2616, '0000000000000000000000000000000003043208': 2617, '0000000000000000000000000000000003043288': 2618, '0000000000000000000000000000000003043381': 2619, '0000000000000000000000000000000003043658': 2620, '0000000000000000000000000000000003045030': 2621, '0000000000000000000000000000000003046063': 2622, '0000000000000000000000000000000003047878': 2623, '0000000000000000000000000000000003047880': 2624, '0000000000000000000000000000000003048023': 2625, '0000000000000000000000000000000003049291': 2626, '0000000000000000000000000000000003049943': 2627, '0000000000000000000000000000000003050080': 2628, '0000000000000000000000000000000003050294': 2629, '0000000000000000000000000000000003050295': 2630, '0000000000000000000000000000000003050772': 2631, '0000000000000000000000000000000003050773': 2632, '0000000000000000000000000000000003050774': 2633, '0000000000000000000000000000000003053006': 2634, '0000000000000000000000000000000003055896': 2635, '0000000000000000000000000000000003075923': 2636, '0000000000000000000000000000000003075924': 2637, '0000000000000000000000000000000003075925': 2638, '0000000000000000000000000000000003075926': 2639, '0000000000000000000000000000000003075927': 2640, '0000000000000000000000000000000003075928': 2641, '0000000000000000000000000000000003075929': 2642, '0000000000000000000000000000000003075946': 2643, '0000000000000000000000000000000003076167': 2644, '0000000000000000000000000000000003076267': 2645, '0000000000000000000000000000000003076304': 2646, '0000000000000000000000000000000003076306': 2647, '0000000000000000000000000000000003081489': 2648, '0000000000000000000000000000000003090654': 2649, '0000000000000000000000000000000003090655': 2650, '0000000000000000000000000000000003093333': 2651, '0000000000000000000000000000000003094346': 2652, '0000000000000000000000000000000003094347': 2653, '0000000000000000000000000000000003094535': 2654, '0000000000000000000000000000000003094536': 2655, '0000000000000000000000000000000004000123': 2656, '0000000000000000000000000000000004000274': 2657, '0000000000000000000000000000000004000340': 2658, '0000000000000000000000000000000004000356': 2659, '0000000000000000000000000000000004000363': 2660, '0000000000000000000000000000000004000367': 2661, '0000000000000000000000000000000004000376': 2662, '0000000000000000000000000000000004001067': 2663, '0000000000000000000000000000000004001568': 2664, '0000000000000000000000000000000004001711': 2665, '0000000000000000000000000000000004003929': 2666, '0000000000000000000000000000000004003991': 2667, '0000000000000000000000000000000004003993': 2668, '0000000000000000000000000000000004004120': 2669, '0000000000000000000000000000000004004123': 2670, '0000000000000000000000000000000004004132': 2671, '0000000000000000000000000000000004005019': 2672, '0000000000000000000000000000000004011948': 2673, '0000000000000000000000000000000004011949': 2674, '0000000000000000000000000000000004013706': 2675, '0000000000000000000000000000000004014458': 2676, '0000000000000000000000000000000004014821': 2677, '0000000000000000000000000000000004019006': 2678, '0000000000000000000000000000000004151106': 2679, '0000000000000000000000000000000005001696': 2680, '0000000000000000000000000000000005001729': 2681, '0000000000000000000000000000000005001730': 2682, '0000000000000000000000000000000005001732': 2683, '0000000000000000000000000000000005001733': 2684, '0000000000000000000000000000000005001736': 2685, '0000000000000000000000000000000005001737': 2686, '0000000000000000000000000000000005001738': 2687, '0000000000000000000000000000000005001739': 2688, '0000000000000000000000000000000005001741': 2689, '0000000000000000000000000000000005001743': 2690, '0000000000000000000000000000000005001745': 2691, '0000000000000000000000000000000005001746': 2692, '0000000000000000000000000000000005003691': 2693, '0000000000000000000000000000000005003693': 2694, '0000000000000000000000000000000005003698': 2695, '0000000000000000000000000000000005003709': 2696, '0000000000000000000000000000000005003710': 2697, '0000000000000000000000000000000005003721': 2698, '0000000000000000000000000000000005003725': 2699, '0000000000000000000000000000000005003735': 2700, '0000000000000000000000000000000006001880': 2701, '0000000000000000000000000000000006001993': 2702, '0000000000000000000000000000000006003115': 2703, '0000000000000000000000000000000006005477': 2704, '0000000000000000000000000000000006006522': 2705, '0000000000000000000000000000000006008648': 2706, '0000000000000000000000000000000006011120': 2707, '0000000000000000000000000000000006011122': 2708, '0000000000000000000000000000000006011123': 2709, '0000000000000000000000000000000006025440': 2710, '0000000000000000000000000000000006025451': 2711, '0000000000000000000000000000000006025452': 2712, '0000000000000000000000000000000006025453': 2713, '0000000000000000000000000000000006025833': 2714, '0000000000000000000000000000000006025834': 2715, '0000000000000000000000000000000006025836': 2716, '0000000000000000000000000000000006027127': 2717, '0000000000000000000000000000000006027128': 2718, '0000000000000000000000000000000006027129': 2719, '0000000000000000000000000000000006027130': 2720, '0000000000000000000000000000000006034607': 2721, '0000000000000000000000000000000006043304': 2722, '0000000000000000000000000000000006043411': 2723, '0000000000000000000000000000000006043412': 2724, '0000000000000000000000000000000006049420': 2725, '0000000000000000000000000000000006050363': 2726, '0000000000000000000000000000000006050364': 2727, '0000000000000000000000000000000006050365': 2728, '0000000000000000000000000000000006050366': 2729, '0000000000000000000000000000000006050367': 2730, '0000000000000000000000000000000006050368': 2731, '0000000000000000000000000000000006051450': 2732, '0000000000000000000000000000000006059003': 2733, '0000000000000000000000000000000006741490': 2734, '0000000000000000000000000000000007013560': 2735, '0000000000000000000000000000000008150508': 2736, '0000000000000000000000000000000008150608': 2737, '0000000000000000000000000000000008150808': 2738, '0000000000000000000000000000000008151008': 2739, '0000000000000000000000000000000008601834': 2740, '0000000000000000000000000000000008601835': 2741, '0000000000000000000000000000000008601836': 2742, '0000000000000000000000000000000008601837': 2743, '0000000000000000000000000000000008601838': 2744, '0000000000000000000000000000000008601839': 2745, '0000000000000000000000000000000008601840': 2746, '0000000000000000000000000000000008601841': 2747, '0000000000000000000000000000000008601846': 2748, '0000000000000000000000000000000008601847': 2749, '0000000000000000000000000000000008601848': 2750, '0000000000000000000000000000000008601850': 2751, '0000000000000000000000000000000008601852': 2752, '0000000000000000000000000000000008601853': 2753, '0000000000000000000000000000000008601859': 2754, '0000000000000000000000000000000008601868': 2755, '0000000000000000000000000000000008601873': 2756, '0000000000000000000000000000000008601874': 2757, '0000000000000000000000000000000008601875': 2758, '0000000000000000000000000000000008601876': 2759, '0000000000000000000000000000000008601877': 2760, '0000000000000000000000000000000008601886': 2761, '0000000000000000000000000000000008601887': 2762, '0000000000000000000000000000000008601888': 2763, '0000000000000000000000000000000008601894': 2764, '0000000000000000000000000000000008601895': 2765, '0000000000000000000000000000000008601896': 2766, '0000000000000000000000000000000008601897': 2767, '0000000000000000000000000000000008601898': 2768, '0000000000000000000000000000000008601900': 2769, '0000000000000000000000000000000008601903': 2770, '0000000000000000000000000000000008601908': 2771, '0000000000000000000000000000000008601909': 2772, '0000000000000000000000000000000008601918': 2773, '0000000000000000000000000000000008601921': 2774, '0000000000000000000000000000000008601923': 2775, '0000000000000000000000000000000008601924': 2776, '0000000000000000000000000000000008601931': 2777, '0000000000000000000000000000000008601933': 2778, '0000000000000000000000000000000008601934': 2779, '0000000000000000000000000000000008601935': 2780, '0000000000000000000000000000000008601936': 2781, '0000000000000000000000000000000008601949': 2782, '0000000000000000000000000000000008601951': 2783, '0000000000000000000000000000000008601953': 2784, '0000000000000000000000000000000008601966': 2785, '0000000000000000000000000000000008601969': 2786, '0000000000000000000000000000000008601970': 2787, '0000000000000000000000000000000008601975': 2788, '0000000000000000000000000000000008601976': 2789, '0000000000000000000000000000000008601977': 2790, '0000000000000000000000000000000008602261': 2791, '0000000000000000000000000000000008602298': 2792, '0000000000000000000000000000000008602299': 2793, '0000000000000000000000000000000008602300': 2794, '0000000000000000000000000000000008603152': 2795, '0000000000000000000000000000000008617657': 2796, '0000000000000000000000000000000008622808': 2797, '0000000000000000000000000000000008623259': 2798, '0000000000000000000000000000000008625787': 2799, '0000000000000000000000000000000009000545': 2800, '0000000000000000000000000000000009010001': 2801, '0000000000000000000000000000000009010004': 2802, '0000000000000000000000000000000009010006': 2803, '0000000000000000000000000000000009010007': 2804, '0000000000000000000000000000000009010008': 2805, '0000000000000000000000000000000009010012': 2806, '0000000000000000000000000000000009010015': 2807, '0000000000000000000000000000000009010020': 2808, '0000000000000000000000000000000009010060': 2809, '0000000000000000000000000000000009010062': 2810, '0000000000000000000000000000000009010064': 2811, '0000000000000000000000000000000009010080': 2812, '0000000000000000000000000000000009010392': 2813, '0000000000000000000000000000000009010393': 2814, '0000000000000000000000000000000009010575': 2815, '0000000000000000000000000000000009010783': 2816, '0000000000000000000000000000000009010950': 2817, '0000000000000000000000000000000009010976': 2818, '0000000000000000000000000000000009011152': 2819, '0000000000000000000000000000000009011156': 2820, '0000000000000000000000000000000009011157': 2821, '0000000000000000000000000000000009011159': 2822, '0000000000000000000000000000000009011160': 2823, '0000000000000000000000000000000009011232': 2824, '0000000000000000000000000000000009011233': 2825, '0000000000000000000000000000000009011239': 2826, '0000000000000000000000000000000009011270': 2827, '0000000000000000000000000000000009011280': 2828, '0000000000000000000000000000000009011311': 2829, '0000000000000000000000000000000009011392': 2830, '0000000000000000000000000000000009011398': 2831, '0000000000000000000000000000000009011399': 2832, '0000000000000000000000000000000009011424': 2833, '0000000000000000000000000000000009011425': 2834, '0000000000000000000000000000000009011542': 2835, '0000000000000000000000000000000009011618': 2836, '0000000000000000000000000000000009011700': 2837, '0000000000000000000000000000000009011710': 2838, '0000000000000000000000000000000009011720': 2839, '0000000000000000000000000000000009011750': 2840, '0000000000000000000000000000000009011755': 2841, '0000000000000000000000000000000009011760': 2842, '0000000000000000000000000000000009011765': 2843, '0000000000000000000000000000000009011766': 2844, '0000000000000000000000000000000009011768': 2845, '0000000000000000000000000000000009011769': 2846, '0000000000000000000000000000000009011776': 2847, '0000000000000000000000000000000009023078': 2848, '0000000000000000000000000000000009023079': 2849, '0000000000000000000000000000000009023080': 2850, '0000000000000000000000000000000009023081': 2851, '0000000000000000000000000000000009309700': 2852, '0000000000000000000000000000000009309841': 2853, '0000000000000000000000000000000009356170': 2854, '0000000000000000000000000000000009397530': 2855, '0000000000000000000000000000000009397540': 2856, '0000000000000000000000000000000009397550': 2857, '0000000000000000000000000000000009516305': 2858, '0000000000000000000000000000000009516485': 2859, '0000000000000000000000000000000009516653': 2860, '0000000000000000000000000000000009577190': 2861, '0000000000000000000000000000000009577315': 2862, '0000000000000000000000000000000009577710': 2863, '0000000000000000000000000000000009609215': 2864, '0000000000000000000000000000000009609462': 2865, '0000000000000000000000000000000009624593': 2866, '0000000000000000000000000000000009624919': 2867, '0000000000000000000000000000000009637281': 2868, '0000000000000000000000000000000009638734': 2869, '0000000000000000000000000000000009638740': 2870, '0000000000000000000000000000000009638741': 2871, '0000000000000000000000000000000009639045': 2872, '0000000000000000000000000000000009639416': 2873, '0000000000000000000000000000000009639982': 2874, '0000000000000000000000000000000009640111': 2875, '0000000000000000000000000000000009640250': 2876, '0000000000000000000000000000000009640873': 2877, '0000000000000000000000000000000009642474': 2878, '0000000000000000000000000000000009643285': 2879, '0000000000000000000000000000000009643286': 2880, '0000000000000000000000000000000009643730': 2881, '0000000000000000000000000000000009645862': 2882, '0000000000000000000000000000000009645979': 2883, '0000000000000000000000000000000009653247': 2884, '0000000000000000000000000000000009653894': 2885, '0000000000000000000000000000000009656455': 2886, '0000000000000000000000000000000009656456': 2887, '0000000000000000000000000000000009656750': 2888, '0000000000000000000000000000000009664668': 2889, '0000000000000000000000000000000009665068': 2890, '0000000000000000000000000000000009665069': 2891, '0000000000000000000000000000000009665070': 2892, '0000000000000000000000000000000009665071': 2893, '0000000000000000000000000000000009665072': 2894, '0000000000000000000000000000000009665073': 2895, '0000000000000000000000000000000009665075': 2896, '0000000000000000000000000000000009668842': 2897, '0000000000000000000000000000000009668844': 2898, '0000000000000000000000000000000009669240': 2899, '0000000000000000000000000000000009669350': 2900, '0000000000000000000000000000000009675323': 2901, '0000000000000000000000000000000009676966': 2902, '0000000000000000000000000000000009681603': 2903, '0000000000000000000000000000000009685249': 2904, '0000000000000000000000000000000009688213': 2905, '0000000000000000000000000000000009688389': 2906, '0000000000000000000000000000000009690961': 2907, '0000000000000000000000000000000009691011': 2908, '0000000000000000000000000000000009691838': 2909, '0000000000000000000000000000000009691840': 2910, '0000000000000000000000000000000009691841': 2911, '0000000000000000000000000000000009691842': 2912, '0000000000000000000000000000000009695837': 2913, '0000000000000000000000000000000009695840': 2914, '0000000000000000000000000000000009697010': 2915, '0000000000000000000000000000000009697011': 2916, '0000000000000000000000000000000009697012': 2917, '0000000000000000000000000000000009700386': 2918, '0000000000000000000000000000000009700388': 2919, '0000000000000000000000000000000009700390': 2920, '0000000000000000000000000000000009700391': 2921, '0000000000000000000000000000000009700420': 2922, '0000000000000000000000000000000009700632': 2923, '0000000000000000000000000000000009700682': 2924, '0000000000000000000000000000000009701255': 2925, '0000000000000000000000000000000009701256': 2926, '0000000000000000000000000000000009702324': 2927, '0000000000000000000000000000000009702386': 2928, '0000000000000000000000000000000010000067': 2929, '0000000000000000000000000000000010000068': 2930, '0000000000000000000000000000000010000069': 2931, '0000000000000000000000000000000010000078': 2932, '0000000000000000000000000000000010000095': 2933, '0000000000000000000000000000000010000099': 2934, '0000000000000000000000000000000010000103': 2935, '0000000000000000000000000000000010000126': 2936, '0000000000000000000000000000000010000129': 2937, '0000000000000000000000000000000010000130': 2938, '0000000000000000000000000000000010000135': 2939, '0000000000000000000000000000000010000157': 2940, '0000000000000000000000000000000010000161': 2941, '0000000000000000000000000000000010000192': 2942, '0000000000000000000000000000000010000196': 2943, '0000000000000000000000000000000010000207': 2944, '0000000000000000000000000000000010000213': 2945, '0000000000000000000000000000000010000247': 2946, '0000000000000000000000000000000010000320': 2947, '0000000000000000000000000000000010000381': 2948, '0000000000000000000000000000000010000382': 2949, '0000000000000000000000000000000010000400': 2950, '0000000000000000000000000000000010000446': 2951, '0000000000000000000000000000000010000452': 2952, '0000000000000000000000000000000010000455': 2953, '0000000000000000000000000000000010000462': 2954, '0000000000000000000000000000000010000467': 2955, '0000000000000000000000000000000010000469': 2956, '0000000000000000000000000000000010000480': 2957, '0000000000000000000000000000000010000489': 2958, '0000000000000000000000000000000010000490': 2959, '0000000000000000000000000000000010000491': 2960, '0000000000000000000000000000000010000503': 2961, '0000000000000000000000000000000010000561': 2962, '0000000000000000000000000000000010000577': 2963, '0000000000000000000000000000000010000582': 2964, '0000000000000000000000000000000010000598': 2965, '0000000000000000000000000000000010000603': 2966, '0000000000000000000000000000000010000683': 2967, '0000000000000000000000000000000010000699': 2968, '0000000000000000000000000000000010000704': 2969, '0000000000000000000000000000000010000746': 2970, '0000000000000000000000000000000010000750': 2971, '0000000000000000000000000000000010001371': 2972, '0000000000000000000000000000000010002037': 2973, '0000000000000000000000000000000010002200': 2974, '0000000000000000000000000000000010002219': 2975, '0000000000000000000000000000000010002221': 2976, '0000000000000000000000000000000010002232': 2977, '0000000000000000000000000000000010002234': 2978, '0000000000000000000000000000000010002236': 2979, '0000000000000000000000000000000010002245': 2980, '0000000000000000000000000000000010002247': 2981, '0000000000000000000000000000000010002252': 2982, '0000000000000000000000000000000010002261': 2983, '0000000000000000000000000000000010002268': 2984, '0000000000000000000000000000000010002270': 2985, '0000000000000000000000000000000010002273': 2986, '0000000000000000000000000000000010002274': 2987, '0000000000000000000000000000000010002275': 2988, '0000000000000000000000000000000010002279': 2989, '0000000000000000000000000000000010002283': 2990, '0000000000000000000000000000000010002285': 2991, '0000000000000000000000000000000010002288': 2992, '0000000000000000000000000000000010002289': 2993, '0000000000000000000000000000000010002290': 2994, '0000000000000000000000000000000010002291': 2995, '0000000000000000000000000000000010002292': 2996, '0000000000000000000000000000000010002294': 2997, '0000000000000000000000000000000010002295': 2998, '0000000000000000000000000000000010002358': 2999, '0000000000000000000000000000000010002359': 3000, '0000000000000000000000000000000010002360': 3001, '0000000000000000000000000000000010002436': 3002, '0000000000000000000000000000000010002438': 3003, '0000000000000000000000000000000010002440': 3004, '0000000000000000000000000000000010002441': 3005, '0000000000000000000000000000000010002443': 3006, '0000000000000000000000000000000010002446': 3007, '0000000000000000000000000000000010002447': 3008, '0000000000000000000000000000000010002449': 3009, '0000000000000000000000000000000010002451': 3010, '0000000000000000000000000000000010002454': 3011, '0000000000000000000000000000000010002455': 3012, '0000000000000000000000000000000010002459': 3013, '0000000000000000000000000000000010002462': 3014, '0000000000000000000000000000000010002463': 3015, '0000000000000000000000000000000010002464': 3016, '0000000000000000000000000000000010002465': 3017, '0000000000000000000000000000000010002466': 3018, '0000000000000000000000000000000010002500': 3019, '0000000000000000000000000000000010002502': 3020, '0000000000000000000000000000000010002505': 3021, '0000000000000000000000000000000010002506': 3022, '0000000000000000000000000000000010002510': 3023, '0000000000000000000000000000000010002511': 3024, '0000000000000000000000000000000010002514': 3025, '0000000000000000000000000000000010002518': 3026, '0000000000000000000000000000000010002519': 3027, '0000000000000000000000000000000010002520': 3028, '0000000000000000000000000000000010002521': 3029, '0000000000000000000000000000000010002522': 3030, '0000000000000000000000000000000010002523': 3031, '0000000000000000000000000000000010002524': 3032, '0000000000000000000000000000000010002525': 3033, '0000000000000000000000000000000010002526': 3034, '0000000000000000000000000000000010002527': 3035, '0000000000000000000000000000000010002528': 3036, '0000000000000000000000000000000010002529': 3037, '0000000000000000000000000000000010002530': 3038, '0000000000000000000000000000000010002531': 3039, '0000000000000000000000000000000010002532': 3040, '0000000000000000000000000000000010002546': 3041, '0000000000000000000000000000000010002548': 3042, '0000000000000000000000000000000010002549': 3043, '0000000000000000000000000000000010002550': 3044, '0000000000000000000000000000000010002555': 3045, '0000000000000000000000000000000010002556': 3046, '0000000000000000000000000000000010002559': 3047, '0000000000000000000000000000000010002560': 3048, '0000000000000000000000000000000010002564': 3049, '0000000000000000000000000000000010002567': 3050, '0000000000000000000000000000000010002570': 3051, '0000000000000000000000000000000010002571': 3052, '0000000000000000000000000000000010002572': 3053, '0000000000000000000000000000000010002573': 3054, '0000000000000000000000000000000010002574': 3055, '0000000000000000000000000000000010002575': 3056, '0000000000000000000000000000000010002577': 3057, '0000000000000000000000000000000010002578': 3058, '0000000000000000000000000000000010002579': 3059, '0000000000000000000000000000000010002580': 3060, '0000000000000000000000000000000010002582': 3061, '0000000000000000000000000000000010002583': 3062, '0000000000000000000000000000000010002584': 3063, '0000000000000000000000000000000010002585': 3064, '0000000000000000000000000000000010002586': 3065, '0000000000000000000000000000000010002593': 3066, '0000000000000000000000000000000010002594': 3067, '0000000000000000000000000000000010002595': 3068, '0000000000000000000000000000000010002596': 3069, '0000000000000000000000000000000010002597': 3070, '0000000000000000000000000000000010002598': 3071, '0000000000000000000000000000000010002600': 3072, '0000000000000000000000000000000010002601': 3073, '0000000000000000000000000000000010002602': 3074, '0000000000000000000000000000000010002603': 3075, '0000000000000000000000000000000010002681': 3076, '0000000000000000000000000000000010002682': 3077, '0000000000000000000000000000000010002686': 3078, '0000000000000000000000000000000010002687': 3079, '0000000000000000000000000000000010002688': 3080, '0000000000000000000000000000000010002690': 3081, '0000000000000000000000000000000010002691': 3082, '0000000000000000000000000000000010002692': 3083, '0000000000000000000000000000000010002693': 3084, '0000000000000000000000000000000010002694': 3085, '0000000000000000000000000000000010002695': 3086, '0000000000000000000000000000000010002696': 3087, '0000000000000000000000000000000010002698': 3088, '0000000000000000000000000000000010002699': 3089, '0000000000000000000000000000000010002700': 3090, '0000000000000000000000000000000010002701': 3091, '0000000000000000000000000000000010002705': 3092, '0000000000000000000000000000000010002707': 3093, '0000000000000000000000000000000010002708': 3094, '0000000000000000000000000000000010002709': 3095, '0000000000000000000000000000000010002748': 3096, '0000000000000000000000000000000010002770': 3097, '0000000000000000000000000000000010002774': 3098, '0000000000000000000000000000000010002786': 3099, '0000000000000000000000000000000010002787': 3100, '0000000000000000000000000000000010003090': 3101, '0000000000000000000000000000000010003105': 3102, '0000000000000000000000000000000010004131': 3103, '0000000000000000000000000000000010005492': 3104, '0000000000000000000000000000000010005506': 3105, '0000000000000000000000000000000010005509': 3106, '0000000000000000000000000000000010005536': 3107, '0000000000000000000000000000000010066902': 3108, '0000000000000000000000000000000010066943': 3109, '0000000000000000000000000000000010066990': 3110, '0000000000000000000000000000000010067357': 3111, '0000000000000000000000000000000010070910': 3112, '0000000000000000000000000000000010070964': 3113, '0000000000000000000000000000000010072400': 3114, '0000000000000000000000000000000010072403': 3115, '0000000000000000000000000000000010076589': 3116, '0000000000000000000000000000000010076624': 3117, '0000000000000000000000000000000010076625': 3118, '0000000000000000000000000000000010076628': 3119, '0000000000000000000000000000000010076638': 3120, '0000000000000000000000000000000010076641': 3121, '0000000000000000000000000000000010080795': 3122, '0000000000000000000000000000000010080910': 3123, '0000000000000000000000000000000010080970': 3124, '0000000000000000000000000000000010082350': 3125, '0000000000000000000000000000000010082352': 3126, '0000000000000000000000000000000010082353': 3127, '0000000000000000000000000000000010082354': 3128, '0000000000000000000000000000000010082357': 3129, '0000000000000000000000000000000010082358': 3130, '0000000000000000000000000000000010082359': 3131, '0000000000000000000000000000000010082360': 3132, '0000000000000000000000000000000010082361': 3133, '0000000000000000000000000000000010082367': 3134, '0000000000000000000000000000000010084928': 3135, '0000000000000000000000000000000010084940': 3136, '0000000000000000000000000000000010084976': 3137, '0000000000000000000000000000000010084979': 3138, '0000000000000000000000000000000010084981': 3139, '0000000000000000000000000000000010084983': 3140, '0000000000000000000000000000000010085023': 3141, '0000000000000000000000000000000010085039': 3142, '0000000000000000000000000000000010088152': 3143, '0000000000000000000000000000000010090648': 3144, '0000000000000000000000000000000010090649': 3145, '0000000000000000000000000000000010090910': 3146, '0000000000000000000000000000000010091965': 3147, '0000000000000000000000000000000010096950': 3148, '0000000000000000000000000000000010100960': 3149, '0000000000000000000000000000000010106097': 3150, '0000000000000000000000000000000010106098': 3151, '0000000000000000000000000000000010106360': 3152, '0000000000000000000000000000000010106361': 3153, '0000000000000000000000000000000010110477': 3154, '0000000000000000000000000000000010110478': 3155, '0000000000000000000000000000000010110479': 3156, '0000000000000000000000000000000010110481': 3157, '0000000000000000000000000000000010110482': 3158, '0000000000000000000000000000000010110484': 3159, '0000000000000000000000000000000010110485': 3160, '0000000000000000000000000000000010110487': 3161, '0000000000000000000000000000000010110488': 3162, '0000000000000000000000000000000010110490': 3163, '0000000000000000000000000000000010110491': 3164, '0000000000000000000000000000000010110494': 3165, '0000000000000000000000000000000010110497': 3166, '0000000000000000000000000000000010118428': 3167, '0000000000000000000000000000000010118700': 3168, '0000000000000000000000000000000010118701': 3169, '0000000000000000000000000000000010118702': 3170, '0000000000000000000000000000000010118703': 3171, '0000000000000000000000000000000010118704': 3172, '0000000000000000000000000000000010126162': 3173, '0000000000000000000000000000000010126163': 3174, '0000000000000000000000000000000010126164': 3175, '0000000000000000000000000000000010127736': 3176, '0000000000000000000000000000000010131632': 3177, '0000000000000000000000000000000010137684': 3178, '0000000000000000000000000000000010138883': 3179, '0000000000000000000000000000000010138884': 3180, '0000000000000000000000000000000010143605': 3181, '0000000000000000000000000000000010153605': 3182, '0000000000000000000000000000000010157108': 3183, '0000000000000000000000000000000010160784': 3184, '0000000000000000000000000000000010161021': 3185, '0000000000000000000000000000000010161022': 3186, '0000000000000000000000000000000010161423': 3187, '0000000000000000000000000000000010161424': 3188, '0000000000000000000000000000000010161425': 3189, '0000000000000000000000000000000010164294': 3190, '0000000000000000000000000000000010164295': 3191, '0000000000000000000000000000000010164447': 3192, '0000000000000000000000000000000010167328': 3193, '0000000000000000000000000000000010167329': 3194, '0000000000000000000000000000000010168981': 3195, '0000000000000000000000000000000010170392': 3196, '0000000000000000000000000000000010173769': 3197, '0000000000000000000000000000000010173771': 3198, '0000000000000000000000000000000010173778': 3199, '0000000000000000000000000000000010175219': 3200, '0000000000000000000000000000000010175372': 3201, '0000000000000000000000000000000010176867': 3202, '0000000000000000000000000000000010179718': 3203, '0000000000000000000000000000000010180746': 3204, '0000000000000000000000000000000010181912': 3205, '0000000000000000000000000000000010182677': 3206, '0000000000000000000000000000000010187289': 3207, '0000000000000000000000000000000010190258': 3208, '0000000000000000000000000000000010202716': 3209, '0000000000000000000000000000000010206082': 3210, '0000000000000000000000000000000010206083': 3211, '0000000000000000000000000000000010206084': 3212, '0000000000000000000000000000000010215497': 3213, '0000000000000000000000000000000010215498': 3214, '0000000000000000000000000000000010215499': 3215, '0000000000000000000000000000000010215500': 3216, '0000000000000000000000000000000010215501': 3217, '0000000000000000000000000000000010215503': 3218, '0000000000000000000000000000000010215504': 3219, '0000000000000000000000000000000010228800': 3220, '0000000000000000000000000000000010228900': 3221, '0000000000000000000000000000000010270479': 3222, '0000000000000000000000000000000010270480': 3223, '0000000000000000000000000000000010270481': 3224, '0000000000000000000000000000000010272273': 3225, '0000000000000000000000000000000010272274': 3226, '0000000000000000000000000000000010272275': 3227, '0000000000000000000000000000000010275998': 3228, '0000000000000000000000000000000010278146': 3229, '0000000000000000000000000000000010281957': 3230, '0000000000000000000000000000000010293222': 3231, '0000000000000000000000000000000010293225': 3232, '0000000000000000000000000000000010293270': 3233, '0000000000000000000000000000000010293272': 3234, '0000000000000000000000000000000010300336': 3235, '0000000000000000000000000000000010325057': 3236, '0000000000000000000000000000000010330139': 3237, '0000000000000000000000000000000010330161': 3238, '0000000000000000000000000000000010334265': 3239, '0000000000000000000000000000000010352871': 3240, '0000000000000000000000000000000010837620': 3241, '0000000000000000000000000000000010863700': 3242, '0000000000000000000000000000000011000054': 3243, '0000000000000000000000000000000011000684': 3244, '0000000000000000000000000000000011000717': 3245, '0000000000000000000000000000000011001003': 3246, '0000000000000000000000000000000011001004': 3247, '0000000000000000000000000000000011001005': 3248, '0000000000000000000000000000000011001862': 3249, '0000000000000000000000000000000011001895': 3250, '0000000000000000000000000000000011002056': 3251, '0000000000000000000000000000000011002057': 3252, '0000000000000000000000000000000011002066': 3253, '0000000000000000000000000000000011002076': 3254, '0000000000000000000000000000000011002078': 3255, '0000000000000000000000000000000011002079': 3256, '0000000000000000000000000000000011002161': 3257, '0000000000000000000000000000000011005373': 3258, '0000000000000000000000000000000011005374': 3259, '0000000000000000000000000000000011005375': 3260, '0000000000000000000000000000000011005376': 3261, '0000000000000000000000000000000011005377': 3262, '0000000000000000000000000000000011005378': 3263, '0000000000000000000000000000000011005379': 3264, '0000000000000000000000000000000011005380': 3265, '0000000000000000000000000000000011005381': 3266, '0000000000000000000000000000000011005382': 3267, '0000000000000000000000000000000011005384': 3268, '0000000000000000000000000000000011005385': 3269, '0000000000000000000000000000000011007699': 3270, '0000000000000000000000000000000011008543': 3271, '0000000000000000000000000000000011008698': 3272, '0000000000000000000000000000000011008972': 3273, '0000000000000000000000000000000011009283': 3274, '0000000000000000000000000000000011009284': 3275, '0000000000000000000000000000000011712360': 3276, '0000000000000000000000000000000011751373': 3277, '0000000000000000000000000000000012006023': 3278, '0000000000000000000000000000000012006123': 3279, '0000000000000000000000000000000012507261': 3280, '0000000000000000000000000000000012507340': 3281, '0000000000000000000000000000000012507649': 3282, '0000000000000000000000000000000012507726': 3283, '0000000000000000000000000000000012507811': 3284, '0000000000000000000000000000000012507839': 3285, '0000000000000000000000000000000012507874': 3286, '0000000000000000000000000000000012507875': 3287, '0000000000000000000000000000000013140200': 3288, '0000000000000000000000000000000015000254': 3289, '0000000000000000000000000000000015000255': 3290, '0000000000000000000000000000000015000256': 3291, '0000000000000000000000000000000015000257': 3292, '0000000000000000000000000000000015000258': 3293, '0000000000000000000000000000000015000263': 3294, '0000000000000000000000000000000015000264': 3295, '0000000000000000000000000000000015000744': 3296, '0000000000000000000000000000000015000746': 3297, '0000000000000000000000000000000015000748': 3298, '0000000000000000000000000000000015000749': 3299, '0000000000000000000000000000000015000751': 3300, '0000000000000000000000000000000015000754': 3301, '0000000000000000000000000000000015000756': 3302, '0000000000000000000000000000000015000758': 3303, '0000000000000000000000000000000015000759': 3304, '0000000000000000000000000000000015000760': 3305, '0000000000000000000000000000000015000761': 3306, '0000000000000000000000000000000015000763': 3307, '0000000000000000000000000000000015001161': 3308, '0000000000000000000000000000000015001872': 3309, '0000000000000000000000000000000015001913': 3310, '0000000000000000000000000000000015002048': 3311, '0000000000000000000000000000000015002063': 3312, '0000000000000000000000000000000015002072': 3313, '0000000000000000000000000000000015002073': 3314, '0000000000000000000000000000000015002088': 3315, '0000000000000000000000000000000015002134': 3316, '0000000000000000000000000000000015002167': 3317, '0000000000000000000000000000000015002171': 3318, '0000000000000000000000000000000015002622': 3319, '0000000000000000000000000000000015002626': 3320, '0000000000000000000000000000000015002628': 3321, '0000000000000000000000000000000015003736': 3322, '0000000000000000000000000000000015006317': 3323, '0000000000000000000000000000000015006353': 3324, '0000000000000000000000000000000015006470': 3325, '0000000000000000000000000000000015006735': 3326, '0000000000000000000000000000000015007660': 3327, '0000000000000000000000000000000015007746': 3328, '0000000000000000000000000000000015007929': 3329, '0000000000000000000000000000000015008378': 3330, '0000000000000000000000000000000015009591': 3331, '0000000000000000000000000000000015009630': 3332, '0000000000000000000000000000000015009820': 3333, '0000000000000000000000000000000015012775': 3334, '0000000000000000000000000000000015014177': 3335, '0000000000000000000000000000000015017379': 3336, '0000000000000000000000000000000015017913': 3337, '0000000000000000000000000000000015018466': 3338, '0000000000000000000000000000000015020337': 3339, '0000000000000000000000000000000015022740': 3340, '0000000000000000000000000000000015025002': 3341, '0000000000000000000000000000000015025710': 3342, '0000000000000000000000000000000015026269': 3343, '0000000000000000000000000000000015026270': 3344, '0000000000000000000000000000000015026693': 3345, '0000000000000000000000000000000015027274': 3346, '0000000000000000000000000000000015027275': 3347, '0000000000000000000000000000000015027276': 3348, '0000000000000000000000000000000015027989': 3349, '0000000000000000000000000000000015027996': 3350, '0000000000000000000000000000000015028075': 3351, '0000000000000000000000000000000015028300': 3352, '0000000000000000000000000000000015029184': 3353, '0000000000000000000000000000000015029357': 3354, '0000000000000000000000000000000015029564': 3355, '0000000000000000000000000000000015030299': 3356, '0000000000000000000000000000000015030659': 3357, '0000000000000000000000000000000015030661': 3358, '0000000000000000000000000000000015031246': 3359, '0000000000000000000000000000000015031478': 3360, '0000000000000000000000000000000015031768': 3361, '0000000000000000000000000000000015031785': 3362, '0000000000000000000000000000000015032100': 3363, '0000000000000000000000000000000015032797': 3364, '0000000000000000000000000000000015033191': 3365, '0000000000000000000000000000000015033342': 3366, '0000000000000000000000000000000015033386': 3367, '0000000000000000000000000000000015034169': 3368, '0000000000000000000000000000000015034278': 3369, '0000000000000000000000000000000015034829': 3370, '0000000000000000000000000000000015035036': 3371, '0000000000000000000000000000000015035063': 3372, '0000000000000000000000000000000015035244': 3373, '0000000000000000000000000000000015035245': 3374, '0000000000000000000000000000000015035738': 3375, '0000000000000000000000000000000015037540': 3376, '0000000000000000000000000000000015038881': 3377, '0000000000000000000000000000000015039819': 3378, '0000000000000000000000000000000015039870': 3379, '0000000000000000000000000000000015039873': 3380, '0000000000000000000000000000000015039874': 3381, '0000000000000000000000000000000015039880': 3382, '0000000000000000000000000000000015039881': 3383, '0000000000000000000000000000000015039883': 3384, '0000000000000000000000000000000015039884': 3385, '0000000000000000000000000000000015039887': 3386, '0000000000000000000000000000000015039889': 3387, '0000000000000000000000000000000015040901': 3388, '0000000000000000000000000000000015040932': 3389, '0000000000000000000000000000000015040947': 3390, '0000000000000000000000000000000015041381': 3391, '0000000000000000000000000000000015041668': 3392, '0000000000000000000000000000000015041673': 3393, '0000000000000000000000000000000015042157': 3394, '0000000000000000000000000000000015042248': 3395, '0000000000000000000000000000000015042250': 3396, '0000000000000000000000000000000015042386': 3397, '0000000000000000000000000000000015042604': 3398, '0000000000000000000000000000000015042919': 3399, '0000000000000000000000000000000015043207': 3400, '0000000000000000000000000000000015043829': 3401, '0000000000000000000000000000000015043955': 3402, '0000000000000000000000000000000015044026': 3403, '0000000000000000000000000000000015044112': 3404, '0000000000000000000000000000000015044124': 3405, '0000000000000000000000000000000015044158': 3406, '0000000000000000000000000000000015044380': 3407, '0000000000000000000000000000000015044469': 3408, '0000000000000000000000000000000015045082': 3409, '0000000000000000000000000000000015045780': 3410, '0000000000000000000000000000000015046120': 3411, '0000000000000000000000000000000015046130': 3412, '0000000000000000000000000000000015046131': 3413, '0000000000000000000000000000000015046140': 3414, '0000000000000000000000000000000015046342': 3415, '0000000000000000000000000000000015046659': 3416, '0000000000000000000000000000000015046995': 3417, '0000000000000000000000000000000015047103': 3418, '0000000000000000000000000000000015047188': 3419, '0000000000000000000000000000000015047306': 3420, '0000000000000000000000000000000015047670': 3421, '0000000000000000000000000000000015047671': 3422, '0000000000000000000000000000000015047857': 3423, '0000000000000000000000000000000015047916': 3424, '0000000000000000000000000000000015047958': 3425, '0000000000000000000000000000000015048488': 3426, '0000000000000000000000000000000015048691': 3427, '0000000000000000000000000000000015049010': 3428, '0000000000000000000000000000000015049011': 3429, '0000000000000000000000000000000015049306': 3430, '0000000000000000000000000000000015049383': 3431, '0000000000000000000000000000000015049384': 3432, '0000000000000000000000000000000015049761': 3433, '0000000000000000000000000000000015050028': 3434, '0000000000000000000000000000000015050600': 3435, '0000000000000000000000000000000015051111': 3436, '0000000000000000000000000000000015051114': 3437, '0000000000000000000000000000000015051122': 3438, '0000000000000000000000000000000015051246': 3439, '0000000000000000000000000000000015051274': 3440, '0000000000000000000000000000000015051933': 3441, '0000000000000000000000000000000015052214': 3442, '0000000000000000000000000000000015052618': 3443, '0000000000000000000000000000000015052959': 3444, '0000000000000000000000000000000015052987': 3445, '0000000000000000000000000000000015053092': 3446, '0000000000000000000000000000000015053403': 3447, '0000000000000000000000000000000015053408': 3448, '0000000000000000000000000000000015053532': 3449, '0000000000000000000000000000000015053534': 3450, '0000000000000000000000000000000015053635': 3451, '0000000000000000000000000000000015053672': 3452, '0000000000000000000000000000000015053673': 3453, '0000000000000000000000000000000015054331': 3454, '0000000000000000000000000000000015054359': 3455, '0000000000000000000000000000000015054419': 3456, '0000000000000000000000000000000015055289': 3457, '0000000000000000000000000000000015055308': 3458, '0000000000000000000000000000000015055402': 3459, '0000000000000000000000000000000015055484': 3460, '0000000000000000000000000000000015055712': 3461, '0000000000000000000000000000000015055772': 3462, '0000000000000000000000000000000015056082': 3463, '0000000000000000000000000000000015056083': 3464, '0000000000000000000000000000000015056084': 3465, '0000000000000000000000000000000015056085': 3466, '0000000000000000000000000000000015056086': 3467, '0000000000000000000000000000000015056316': 3468, '0000000000000000000000000000000015056393': 3469, '0000000000000000000000000000000015056466': 3470, '0000000000000000000000000000000015056581': 3471, '0000000000000000000000000000000015056652': 3472, '0000000000000000000000000000000015056657': 3473, '0000000000000000000000000000000015056658': 3474, '0000000000000000000000000000000015056661': 3475, '0000000000000000000000000000000015056662': 3476, '0000000000000000000000000000000015056694': 3477, '0000000000000000000000000000000015056701': 3478, '0000000000000000000000000000000015056702': 3479, '0000000000000000000000000000000015056709': 3480, '0000000000000000000000000000000015056744': 3481, '0000000000000000000000000000000015057081': 3482, '0000000000000000000000000000000015057082': 3483, '0000000000000000000000000000000015057083': 3484, '0000000000000000000000000000000015057084': 3485, '0000000000000000000000000000000015057085': 3486, '0000000000000000000000000000000015057239': 3487, '0000000000000000000000000000000015057240': 3488, '0000000000000000000000000000000015057242': 3489, '0000000000000000000000000000000015057282': 3490, '0000000000000000000000000000000015057284': 3491, '0000000000000000000000000000000015057379': 3492, '0000000000000000000000000000000015057400': 3493, '0000000000000000000000000000000015057438': 3494, '0000000000000000000000000000000015057557': 3495, '0000000000000000000000000000000015057627': 3496, '0000000000000000000000000000000015057633': 3497, '0000000000000000000000000000000015057641': 3498, '0000000000000000000000000000000015057695': 3499, '0000000000000000000000000000000015057760': 3500, '0000000000000000000000000000000015057809': 3501, '0000000000000000000000000000000015057810': 3502, '0000000000000000000000000000000015057824': 3503, '0000000000000000000000000000000015057837': 3504, '0000000000000000000000000000000015057867': 3505, '0000000000000000000000000000000015057892': 3506, '0000000000000000000000000000000015057897': 3507, '0000000000000000000000000000000015057898': 3508, '0000000000000000000000000000000015057924': 3509, '0000000000000000000000000000000015057934': 3510, '0000000000000000000000000000000015057938': 3511, '0000000000000000000000000000000015057942': 3512, '0000000000000000000000000000000015057943': 3513, '0000000000000000000000000000000015057953': 3514, '0000000000000000000000000000000015057970': 3515, '0000000000000000000000000000000015057980': 3516, '0000000000000000000000000000000015058034': 3517, '0000000000000000000000000000000015058089': 3518, '0000000000000000000000000000000015058092': 3519, '0000000000000000000000000000000015058263': 3520, '0000000000000000000000000000000015058265': 3521, '0000000000000000000000000000000015058280': 3522, '0000000000000000000000000000000015058286': 3523, '0000000000000000000000000000000015058431': 3524, '0000000000000000000000000000000015058438': 3525, '0000000000000000000000000000000015058542': 3526, '0000000000000000000000000000000015058698': 3527, '0000000000000000000000000000000015058795': 3528, '0000000000000000000000000000000015058818': 3529, '0000000000000000000000000000000015058851': 3530, '0000000000000000000000000000000015058900': 3531, '0000000000000000000000000000000015058907': 3532, '0000000000000000000000000000000015058973': 3533, '0000000000000000000000000000000015058977': 3534, '0000000000000000000000000000000015058985': 3535, '0000000000000000000000000000000015058986': 3536, '0000000000000000000000000000000015059091': 3537, '0000000000000000000000000000000015059337': 3538, '0000000000000000000000000000000015059468': 3539, '0000000000000000000000000000000015059530': 3540, '0000000000000000000000000000000015059605': 3541, '0000000000000000000000000000000015059808': 3542, '0000000000000000000000000000000015059809': 3543, '0000000000000000000000000000000015059811': 3544, '0000000000000000000000000000000015059879': 3545, '0000000000000000000000000000000015059961': 3546, '0000000000000000000000000000000015059998': 3547, '0000000000000000000000000000000015060022': 3548, '0000000000000000000000000000000015060165': 3549, '0000000000000000000000000000000015060168': 3550, '0000000000000000000000000000000015060270': 3551, '0000000000000000000000000000000015060308': 3552, '0000000000000000000000000000000015060309': 3553, '0000000000000000000000000000000015060315': 3554, '0000000000000000000000000000000015060372': 3555, '0000000000000000000000000000000015060387': 3556, '0000000000000000000000000000000015060631': 3557, '0000000000000000000000000000000015060632': 3558, '0000000000000000000000000000000015060633': 3559, '0000000000000000000000000000000015060646': 3560, '0000000000000000000000000000000015060657': 3561, '0000000000000000000000000000000015060844': 3562, '0000000000000000000000000000000015060987': 3563, '0000000000000000000000000000000015061157': 3564, '0000000000000000000000000000000015061174': 3565, '0000000000000000000000000000000015061237': 3566, '0000000000000000000000000000000015061246': 3567, '0000000000000000000000000000000015061460': 3568, '0000000000000000000000000000000015061654': 3569, '0000000000000000000000000000000015061719': 3570, '0000000000000000000000000000000015061876': 3571, '0000000000000000000000000000000015062081': 3572, '0000000000000000000000000000000015062156': 3573, '0000000000000000000000000000000015062168': 3574, '0000000000000000000000000000000015062203': 3575, '0000000000000000000000000000000015062323': 3576, '0000000000000000000000000000000015062545': 3577, '0000000000000000000000000000000015062593': 3578, '0000000000000000000000000000000015062655': 3579, '0000000000000000000000000000000015062659': 3580, '0000000000000000000000000000000015062989': 3581, '0000000000000000000000000000000015063134': 3582, '0000000000000000000000000000000015063245': 3583, '0000000000000000000000000000000015063281': 3584, '0000000000000000000000000000000015063299': 3585, '0000000000000000000000000000000015063334': 3586, '0000000000000000000000000000000015063335': 3587, '0000000000000000000000000000000015063486': 3588, '0000000000000000000000000000000015063517': 3589, '0000000000000000000000000000000015063786': 3590, '0000000000000000000000000000000015063788': 3591, '0000000000000000000000000000000015063789': 3592, '0000000000000000000000000000000015063792': 3593, '0000000000000000000000000000000015063793': 3594, '0000000000000000000000000000000015063794': 3595, '0000000000000000000000000000000015063795': 3596, '0000000000000000000000000000000015063866': 3597, '0000000000000000000000000000000015063871': 3598, '0000000000000000000000000000000015063872': 3599, '0000000000000000000000000000000015063944': 3600, '0000000000000000000000000000000015064200': 3601, '0000000000000000000000000000000015064204': 3602, '0000000000000000000000000000000015064205': 3603, '0000000000000000000000000000000015064212': 3604, '0000000000000000000000000000000015064340': 3605, '0000000000000000000000000000000015064444': 3606, '0000000000000000000000000000000015064452': 3607, '0000000000000000000000000000000015064453': 3608, '0000000000000000000000000000000015064500': 3609, '0000000000000000000000000000000015064653': 3610, '0000000000000000000000000000000015064685': 3611, '0000000000000000000000000000000015064686': 3612, '0000000000000000000000000000000015064687': 3613, '0000000000000000000000000000000015064688': 3614, '0000000000000000000000000000000015064689': 3615, '0000000000000000000000000000000015064690': 3616, '0000000000000000000000000000000015064691': 3617, '0000000000000000000000000000000015064825': 3618, '0000000000000000000000000000000015064826': 3619, '0000000000000000000000000000000015064849': 3620, '0000000000000000000000000000000015064896': 3621, '0000000000000000000000000000000015064898': 3622, '0000000000000000000000000000000015064902': 3623, '0000000000000000000000000000000015064914': 3624, '0000000000000000000000000000000015064940': 3625, '0000000000000000000000000000000015064941': 3626, '0000000000000000000000000000000015064942': 3627, '0000000000000000000000000000000015064975': 3628, '0000000000000000000000000000000015065019': 3629, '0000000000000000000000000000000015065112': 3630, '0000000000000000000000000000000015065427': 3631, '0000000000000000000000000000000015065773': 3632, '0000000000000000000000000000000015065812': 3633, '0000000000000000000000000000000015065908': 3634, '0000000000000000000000000000000015066011': 3635, '0000000000000000000000000000000015066063': 3636, '0000000000000000000000000000000015066064': 3637, '0000000000000000000000000000000015066065': 3638, '0000000000000000000000000000000015066180': 3639, '0000000000000000000000000000000015066181': 3640, '0000000000000000000000000000000015066368': 3641, '0000000000000000000000000000000015066370': 3642, '0000000000000000000000000000000015066371': 3643, '0000000000000000000000000000000015066372': 3644, '0000000000000000000000000000000015066374': 3645, '0000000000000000000000000000000015066376': 3646, '0000000000000000000000000000000015066381': 3647, '0000000000000000000000000000000015066619': 3648, '0000000000000000000000000000000015066620': 3649, '0000000000000000000000000000000015066699': 3650, '0000000000000000000000000000000015066767': 3651, '0000000000000000000000000000000015067045': 3652, '0000000000000000000000000000000015067072': 3653, '0000000000000000000000000000000015067081': 3654, '0000000000000000000000000000000015067087': 3655, '0000000000000000000000000000000015067089': 3656, '0000000000000000000000000000000015068185': 3657, '0000000000000000000000000000000015068711': 3658, '0000000000000000000000000000000015068780': 3659, '0000000000000000000000000000000015069041': 3660, '0000000000000000000000000000000015069042': 3661, '0000000000000000000000000000000015069046': 3662, '0000000000000000000000000000000015069175': 3663, '0000000000000000000000000000000015069177': 3664, '0000000000000000000000000000000015069178': 3665, '0000000000000000000000000000000015069179': 3666, '0000000000000000000000000000000015069180': 3667, '0000000000000000000000000000000015069329': 3668, '0000000000000000000000000000000015195452': 3669, '0000000000000000000000000000000020000027': 3670, '0000000000000000000000000000000020000029': 3671, '0000000000000000000000000000000020000030': 3672, '0000000000000000000000000000000020000039': 3673, '0000000000000000000000000000000020000063': 3674, '0000000000000000000000000000000020000068': 3675, '0000000000000000000000000000000020000069': 3676, '0000000000000000000000000000000020000070': 3677, '0000000000000000000000000000000020000072': 3678, '0000000000000000000000000000000020000075': 3679, '0000000000000000000000000000000020000083': 3680, '0000000000000000000000000000000020000210': 3681, '0000000000000000000000000000000020000270': 3682, '0000000000000000000000000000000020000305': 3683, '0000000000000000000000000000000020000370': 3684, '0000000000000000000000000000000020000371': 3685, '0000000000000000000000000000000020000372': 3686, '0000000000000000000000000000000020000373': 3687, '0000000000000000000000000000000020000374': 3688, '0000000000000000000000000000000020000375': 3689, '0000000000000000000000000000000020000376': 3690, '0000000000000000000000000000000020000377': 3691, '0000000000000000000000000000000020000378': 3692, '0000000000000000000000000000000020000379': 3693, '0000000000000000000000000000000020000380': 3694, '0000000000000000000000000000000020000382': 3695, '0000000000000000000000000000000020000383': 3696, '0000000000000000000000000000000020000384': 3697, '0000000000000000000000000000000020000388': 3698, '0000000000000000000000000000000020000440': 3699, '0000000000000000000000000000000020000441': 3700, '0000000000000000000000000000000020000450': 3701, '0000000000000000000000000000000020000640': 3702, '0000000000000000000000000000000020000740': 3703, '0000000000000000000000000000000020000750': 3704, '0000000000000000000000000000000020001074': 3705, '0000000000000000000000000000000020015345': 3706, '0000000000000000000000000000000020075155': 3707, '0000000000000000000000000000000020187153': 3708, '0000000000000000000000000000000021103251': 3709, '0000000000000000000000000000000021103290': 3710, '0000000000000000000000000000000021103587': 3711, '0000000000000000000000000000000023000004': 3712, '0000000000000000000000000000000023000085': 3713, '0000000000000000000000000000000023000089': 3714, '0000000000000000000000000000000023000092': 3715, '0000000000000000000000000000000023000099': 3716, '0000000000000000000000000000000023000414': 3717, '0000000000000000000000000000000023000415': 3718, '0000000000000000000000000000000033918006': 3719, '0000000000000000000000000000000036605004': 3720, '0000000000000000000000000000000050100068': 3721, '0000000000000000000000000000000050273690': 3722, '0000000000000000000000000000000050273694': 3723, '0000000000000000000000000000000050273698': 3724, '0000000000000000000000000000000050274377': 3725, '0000000000000000000000000000000050500010': 3726, '0000000000000000000000000000000051100183': 3727, '0000000000000000000000000000000052100206': 3728, '0000000000000000000000000000000052100628': 3729, '0000000000000000000000000000000052103017': 3730, '0000000000000000000000000000000052103664': 3731, '0000000000000000000000000000000052104435': 3732, '0000000000000000000000000000000052104917': 3733, '0000000000000000000000000000000052107269': 3734, '0000000000000000000000000000000053101498': 3735, '0000000000000000000000000000000055500010': 3736, '0000000000000000000000000000000061981008': 3737, '0000000000000000000000000000000061982015': 3738, '0000000000000000000000000000000061983016': 3739, '0000000000000000000000000000000061985004': 3740, '0000000000000000000000000000000061987047': 3741, '0000000000000000000000000000000061987055': 3742, '0000000000000000000000000000000061987059': 3743, '0000000000000000000000000000000061987062': 3744, '0000000000000000000000000000000061987063': 3745, '0000000000000000000000000000000061987068': 3746, '0000000000000000000000000000000061987071': 3747, '0000000000000000000000000000000061987079': 3748, '0000000000000000000000000000000061987080': 3749, '0000000000000000000000000000000070026578': 3750, '0000000000000000000000000000000070052373': 3751, '0000000000000000000000000000000070061344': 3752, '0000000000000000000000000000000070079288': 3753, '0000000000000000000000000000000070079290': 3754, '0000000000000000000000000000000070079293': 3755, '0000000000000000000000000000000070079307': 3756, '0000000000000000000000000000000070180322': 3757, '0000000000000000000000000000000070183613': 3758, '0000000000000000000000000000000070187427': 3759, '0000000000000000000000000000000070190912': 3760, '0000000000000000000000000000000070209280': 3761, '0000000000000000000000000000000070245164': 3762, '0000000000000000000000000000000070268028': 3763, '0000000000000000000000000000000070275742': 3764, '0000000000000000000000000000000070285229': 3765, '0000000000000000000000000000000070416322': 3766, '0000000000000000000000000000000070566260': 3767, '0000000000000000000000000000000070741663': 3768, '0000000000000000000000000000000070741664': 3769, '0000000000000000000000000000000074001106': 3770, '0000000000000000000000000000000074001107': 3771, '0000000000000000000000000000000074001111': 3772, '0000000000000000000000000000000074001117': 3773, '0000000000000000000000000000000074001461': 3774, '0000000000000000000000000000000074581837': 3775, '0000000000000000000000000000000074583698': 3776, '0000000000000000000000000000000074616483': 3777, '0000000000000000000000000000000080020055': 3778, '0000000000000000000000000000000080500001': 3779, '0000000000000000000000000000000080500002': 3780, '0000000000000000000000000000000080500005': 3781, '0000000000000000000000000000000080500006': 3782, '0000000000000000000000000000000080500007': 3783, '0000000000000000000000000000000080500009': 3784, '0000000000000000000000000000000080500010': 3785, '0000000000000000000000000000000080500011': 3786, '0000000000000000000000000000000080500061': 3787, '0000000000000000000000000000000080500062': 3788, '0000000000000000000000000000000080500063': 3789, '0000000000000000000000000000000080500064': 3790, '0000000000000000000000000000000080500065': 3791, '0000000000000000000000000000000080500066': 3792, '0000000000000000000000000000000080500067': 3793, '0000000000000000000000000000000080500068': 3794, '0000000000000000000000000000000080500070': 3795, '0000000000000000000000000000000080500071': 3796, '0000000000000000000000000000000080500072': 3797, '0000000000000000000000000000000080500073': 3798, '0000000000000000000000000000000080500074': 3799, '0000000000000000000000000000000080500075': 3800, '0000000000000000000000000000000080500076': 3801, '0000000000000000000000000000000080500077': 3802, '0000000000000000000000000000000080500078': 3803, '0000000000000000000000000000000080500079': 3804, '0000000000000000000000000000000080500080': 3805, '0000000000000000000000000000000080500081': 3806, '0000000000000000000000000000000080500083': 3807, '0000000000000000000000000000000080500084': 3808, '0000000000000000000000000000000080500085': 3809, '0000000000000000000000000000000080500092': 3810, '0000000000000000000000000000000080500093': 3811, '0000000000000000000000000000000080500095': 3812, '0000000000000000000000000000000080500130': 3813, '0000000000000000000000000000000080500133': 3814, '0000000000000000000000000000000080500134': 3815, '0000000000000000000000000000000080500152': 3816, '0000000000000000000000000000000080500323': 3817, '0000000000000000000000000000000080500424': 3818, '0000000000000000000000000000000080500425': 3819, '0000000000000000000000000000000080500426': 3820, '0000000000000000000000000000000090151495': 3821, '0000000000000000000000000000000090151692': 3822, '0000000000000000000000000000000090151695': 3823, '0000000000000000000000000000000090151895': 3824, '0000000000000000000000000000000090151896': 3825, '0000000000000000000000000000000090152096': 3826, '0000000000000000000000000000000090152295': 3827, '0000000000000000000000000000000090152495': 3828, '0000000000000000000000000000000090152496': 3829, '0000000000000000000000000000000090155858': 3830, '0000000000000000000000000000000090160796': 3831, '0000000000000000000000000000000090160895': 3832, '0000000000000000000000000000000090161295': 3833, '0000000000000000000000000000000090161296': 3834, '0000000000000000000000000000000090161495': 3835, '0000000000000000000000000000000090161496': 3836, '0000000000000000000000000000000090161595': 3837, '0000000000000000000000000000000090161695': 3838, '0000000000000000000000000000000090161696': 3839, '0000000000000000000000000000000090440101': 3840, '0000000000000000000000000000000090440202': 3841, '0000000000000000000000000000000090440602': 3842, '0000000000000000000000000000000090440801': 3843, '0000000000000000000000000000000090440901': 3844, '0000000000000000000000000000000090441001': 3845, '0000000000000000000000000000000090441101': 3846, '0000000000000000000000000000000090441201': 3847, '0000000000000000000000000000000092910008': 3848, '0000000000000000000000000000000092910032': 3849, '0000000000000000000000000000000092910035': 3850, '0000000000000000000000000000000092910037': 3851, '0000000000000000000000000000000092910038': 3852, '0000000000000000000000000000000092910039': 3853, '0000000000000000000000000000000092911022': 3854, '0000000000000000000000000000000096105601': 3855, '0000000000000000000000000000000100026413': 3856, '0000000000000000000000000000000100122014': 3857, '0000000000000000000000000000000100125014': 3858, '0000000000000000000000000000000100130014': 3859, '0000000000000000000000000000000100130022': 3860, '0000000000000000000000000000000100132515': 3861, '0000000000000000000000000000000100132518': 3862, '0000000000000000000000000000000100132522': 3863, '0000000000000000000000000000000100140022': 3864, '0000000000000000000000000000000100501160': 3865, '0000000000000000000000000000000100601174': 3866, '0000000000000000000000000000000100701040': 3867, '0000000000000000000000000000000100701150': 3868, '0000000000000000000000000000000100701214': 3869, '0000000000000000000000000000000100761062': 3870, '0000000000000000000000000000000100761065': 3871, '0000000000000000000000000000000100761070': 3872, '0000000000000000000000000000000100801160': 3873, '0000000000000000000000000000000100801214': 3874, '0000000000000000000000000000000100901150': 3875, '0000000000000000000000000000000101001214': 3876, '0000000000000000000000000000000101090009': 3877, '0000000000000000000000000000000101100009': 3878, '0000000000000000000000000000000101102009': 3879, '0000000000000000000000000000000101110012': 3880, '0000000000000000000000000000000111510195': 3881, '0000000000000000000000000000000111570355': 3882, '0000000000000000000000000000000112070314': 3883, '0000000000000000000000000000000112070354': 3884, '0000000000000000000000000000000112090105': 3885, '0000000000000000000000000000000116390023': 3886, '0000000000000000000000000000000116390101': 3887, '0000000000000000000000000000000116390103': 3888, '0000000000000000000000000000000117530033': 3889, '0000000000000000000000000000000117530043': 3890, '0000000000000000000000000000000117550083': 3891, '0000000000000000000000000000000117570393': 3892, '0000000000000000000000000000000117570403': 3893, '0000000000000000000000000000000117570423': 3894, '0000000000000000000000000000000117580125': 3895, '0000000000000000000000000000000117590061': 3896, '0000000000000000000000000000000117590064': 3897, '0000000000000000000000000000000117590073': 3898, '0000000000000000000000000000000141003801': 3899, '0000000000000000000000000000000141017800': 3900, '0000000000000000000000000000000141018000': 3901, '0000000000000000000000000000000141018600': 3902, '0000000000000000000000000000000146100000': 3903, '0000000000000000000000000000000146300000': 3904, '0000000000000000000000000000000147500000': 3905, '0000000000000000000000000000000201003000': 3906, '0000000000000000000000000000000201003200': 3907, '0000000000000000000000000000000201003500': 3908, '0000000000000000000000000000000201003600': 3909, '0000000000000000000000000000000201011700': 3910, '0000000000000000000000000000000201020800': 3911, '0000000000000000000000000000000339486835': 3912, '0000000000000000000000000000000400010384': 3913, '0000000000000000000000000000000400010484': 3914, '0000000000000000000000000000000400012097': 3915, '0000000000000000000000000000000630167068': 3916, '0000000000000000000000000000000630187664': 3917, '0000000000000000000000000000000701000056': 3918, '0000000000000000000000000000000701000100': 3919, '0000000000000000000000000000000701000133': 3920, '0000000000000000000000000000000701000135': 3921, '0000000000000000000000000000000701000137': 3922, '0000000000000000000000000000000701000144': 3923, '0000000000000000000000000000000701000146': 3924, '0000000000000000000000000000000701000149': 3925, '0000000000000000000000000000000701001201': 3926, '0000000000000000000000000000000701001202': 3927, '0000000000000000000000000000000701001361': 3928, '0000000000000000000000000000000701001476': 3929, '0000000000000000000000000000000701002686': 3930, '0000000000000000000000000000000701003135': 3931, '0000000000000000000000000000000701003503': 3932, '0000000000000000000000000000000701004107': 3933, '0000000000000000000000000000000701005230': 3934, '0000000000000000000000000000000701006253': 3935, '0000000000000000000000000000000701006819': 3936, '0000000000000000000000000000000701007016': 3937, '0000000000000000000000000000000701007409': 3938, '0000000000000000000000000000000701007700': 3939, '0000000000000000000000000000000706012500': 3940, '0000000000000000000000000000000708512452': 3941, '0000000000000000000000000000000710012452': 3942, '0000000000000000000000000000000712510002': 3943, '0000000000000000000000000000000712512422': 3944, '0000000000000000000000000000000715012402': 3945, '0000000000000000000000000000000717512402': 3946, '0000000000000000000000000000000720012402': 3947, '0000000000000000000000000000000725012302': 3948, '0000000000000000000000000000000730010002': 3949, '0000000000000000000000000000000730012302': 3950, '0000000000000000000000000000000735010002': 3951, '0000000000000000000000000000000735012302': 3952, '0000000000000000000000000000000740012442': 3953, '0000000000000000000000000000000800000070': 3954, '0000000000000000000000000000000800000077': 3955, '0000000000000000000000000000000800000083': 3956, '0000000000000000000000000000000800000094': 3957, '0000000000000000000000000000000800000264': 3958, '0000000000000000000000000000000800000292': 3959, '0000000000000000000000000000000800000300': 3960, '0000000000000000000000000000000800000313': 3961, '0000000000000000000000000000000800000315': 3962, '0000000000000000000000000000000800000320': 3963, '0000000000000000000000000000000800000328': 3964, '0000000000000000000000000000000800000372': 3965, '0000000000000000000000000000000800000374': 3966, '0000000000000000000000000000000800000375': 3967, '0000000000000000000000000000000800000377': 3968, '0000000000000000000000000000000800000378': 3969, '0000000000000000000000000000000800000387': 3970, '0000000000000000000000000000000800000388': 3971, '0000000000000000000000000000000800000390': 3972, '0000000000000000000000000000000800000393': 3973, '0000000000000000000000000000000800000400': 3974, '0000000000000000000000000000000800000470': 3975, '0000000000000000000000000000000800000475': 3976, '0000000000000000000000000000000800000494': 3977, '0000000000000000000000000000000800000497': 3978, '0000000000000000000000000000000800000498': 3979, '0000000000000000000000000000000800000499': 3980, '0000000000000000000000000000000800000500': 3981, '0000000000000000000000000000000800000501': 3982, '0000000000000000000000000000000800000506': 3983, '0000000000000000000000000000000800000510': 3984, '0000000000000000000000000000000800000517': 3985, '0000000000000000000000000000000800000520': 3986, '0000000000000000000000000000000800000524': 3987, '0000000000000000000000000000000800000525': 3988, '0000000000000000000000000000000800000527': 3989, '0000000000000000000000000000000800000528': 3990, '0000000000000000000000000000000800000535': 3991, '0000000000000000000000000000000800000540': 3992, '0000000000000000000000000000000800000541': 3993, '0000000000000000000000000000000800000560': 3994, '0000000000000000000000000000000800000587': 3995, '0000000000000000000000000000000800000596': 3996, '0000000000000000000000000000000800000668': 3997, '0000000000000000000000000000000800000669': 3998, '0000000000000000000000000000000800000696': 3999, '0000000000000000000000000000000800000729': 4000, '0000000000000000000000000000000800000734': 4001, '0000000000000000000000000000000800000747': 4002, '0000000000000000000000000000000800000779': 4003, '0000000000000000000000000000000800000780': 4004, '0000000000000000000000000000000800000789': 4005, '0000000000000000000000000000000800000792': 4006, '0000000000000000000000000000000800000816': 4007, '0000000000000000000000000000000800000823': 4008, '0000000000000000000000000000000800000839': 4009, '0000000000000000000000000000000800000868': 4010, '0000000000000000000000000000000800000879': 4011, '0000000000000000000000000000000800000884': 4012, '0000000000000000000000000000000800000899': 4013, '0000000000000000000000000000000800000938': 4014, '0000000000000000000000000000000800000962': 4015, '0000000000000000000000000000000800000974': 4016, '0000000000000000000000000000000800001017': 4017, '0000000000000000000000000000000800001036': 4018, '0000000000000000000000000000000800001061': 4019, '0000000000000000000000000000000800001098': 4020, '0000000000000000000000000000000800001157': 4021, '0000000000000000000000000000000800001199': 4022, '0000000000000000000000000000000800001201': 4023, '0000000000000000000000000000000800001215': 4024, '0000000000000000000000000000000800001217': 4025, '0000000000000000000000000000000800001225': 4026, '0000000000000000000000000000000800001227': 4027, '0000000000000000000000000000000800001286': 4028, '0000000000000000000000000000000800001316': 4029, '0000000000000000000000000000000800001324': 4030, '0000000000000000000000000000000800001333': 4031, '0000000000000000000000000000000800001361': 4032, '0000000000000000000000000000000800001369': 4033, '0000000000000000000000000000000800001377': 4034, '0000000000000000000000000000000800001378': 4035, '0000000000000000000000000000000800001385': 4036, '0000000000000000000000000000000800001386': 4037, '0000000000000000000000000000000800001388': 4038, '0000000000000000000000000000000800001391': 4039, '0000000000000000000000000000000800001392': 4040, '0000000000000000000000000000000800001393': 4041, '0000000000000000000000000000000800001398': 4042, '0000000000000000000000000000000800001401': 4043, '0000000000000000000000000000000800001405': 4044, '0000000000000000000000000000000800001408': 4045, '0000000000000000000000000000000800001415': 4046, '0000000000000000000000000000000800001416': 4047, '0000000000000000000000000000000800001418': 4048, '0000000000000000000000000000000800001423': 4049, '0000000000000000000000000000000800001426': 4050, '0000000000000000000000000000000800001438': 4051, '0000000000000000000000000000000800001442': 4052, '0000000000000000000000000000000800001443': 4053, '0000000000000000000000000000000800001465': 4054, '0000000000000000000000000000000800001475': 4055, '0000000000000000000000000000000800001482': 4056, '0000000000000000000000000000000800001483': 4057, '0000000000000000000000000000000800001492': 4058, '0000000000000000000000000000000800001495': 4059, '0000000000000000000000000000000800001499': 4060, '0000000000000000000000000000000800001512': 4061, '0000000000000000000000000000000800001525': 4062, '0000000000000000000000000000000800001527': 4063, '0000000000000000000000000000000800001528': 4064, '0000000000000000000000000000000800001531': 4065, '0000000000000000000000000000000800001541': 4066, '0000000000000000000000000000000800001545': 4067, '0000000000000000000000000000000800001549': 4068, '0000000000000000000000000000000800001562': 4069, '0000000000000000000000000000000800001565': 4070, '0000000000000000000000000000000800001566': 4071, '0000000000000000000000000000000800001597': 4072, '0000000000000000000000000000000800001601': 4073, '0000000000000000000000000000000800001602': 4074, '0000000000000000000000000000000800001609': 4075, '0000000000000000000000000000000800001624': 4076, '0000000000000000000000000000000800001627': 4077, '0000000000000000000000000000000800001634': 4078, '0000000000000000000000000000000800001635': 4079, '0000000000000000000000000000000800001636': 4080, '0000000000000000000000000000000800001639': 4081, '0000000000000000000000000000000800001644': 4082, '0000000000000000000000000000000800001645': 4083, '0000000000000000000000000000000800001651': 4084, '0000000000000000000000000000000800001652': 4085, '0000000000000000000000000000000800001659': 4086, '0000000000000000000000000000000800001665': 4087, '0000000000000000000000000000000800001666': 4088, '0000000000000000000000000000000800001667': 4089, '0000000000000000000000000000000800001668': 4090, '0000000000000000000000000000000800001677': 4091, '0000000000000000000000000000000800001678': 4092, '0000000000000000000000000000000800001679': 4093, '0000000000000000000000000000000800001682': 4094, '0000000000000000000000000000000800001686': 4095, '0000000000000000000000000000000800001691': 4096, '0000000000000000000000000000000800001693': 4097, '0000000000000000000000000000000800001694': 4098, '0000000000000000000000000000000800001697': 4099, '0000000000000000000000000000000800001700': 4100, '0000000000000000000000000000000800001705': 4101, '0000000000000000000000000000000800001708': 4102, '0000000000000000000000000000000800001709': 4103, '0000000000000000000000000000000800001730': 4104, '0000000000000000000000000000000800001732': 4105, '0000000000000000000000000000000800001734': 4106, '0000000000000000000000000000000800001735': 4107, '0000000000000000000000000000000800001737': 4108, '0000000000000000000000000000000800001743': 4109, '0000000000000000000000000000000800001744': 4110, '0000000000000000000000000000000800001758': 4111, '0000000000000000000000000000000800001759': 4112, '0000000000000000000000000000000800001760': 4113, '0000000000000000000000000000000800001773': 4114, '0000000000000000000000000000000800001774': 4115, '0000000000000000000000000000000800001775': 4116, '0000000000000000000000000000000800001778': 4117, '0000000000000000000000000000000800001783': 4118, '0000000000000000000000000000000800001785': 4119, '0000000000000000000000000000000800001786': 4120, '0000000000000000000000000000000800001787': 4121, '0000000000000000000000000000000800001794': 4122, '0000000000000000000000000000000800001799': 4123, '0000000000000000000000000000000800001800': 4124, '0000000000000000000000000000000800001803': 4125, '0000000000000000000000000000000800001804': 4126, '0000000000000000000000000000000800001807': 4127, '0000000000000000000000000000000800001808': 4128, '0000000000000000000000000000000800001809': 4129, '0000000000000000000000000000000800001811': 4130, '0000000000000000000000000000000800001812': 4131, '0000000000000000000000000000000800001814': 4132, '0000000000000000000000000000000800001838': 4133, '0000000000000000000000000000000800001842': 4134, '0000000000000000000000000000000800001843': 4135, '0000000000000000000000000000000800001845': 4136, '0000000000000000000000000000000800001846': 4137, '0000000000000000000000000000000800001862': 4138, '0000000000000000000000000000000800001863': 4139, '0000000000000000000000000000000800001877': 4140, '0000000000000000000000000000000836789002': 4141, '0000000000000000000000000000000900500415': 4142, '0000000000000000000000000000000900600012': 4143, '0000000000000000000000000000000900600026': 4144, '0000000000000000000000000000000900600050': 4145, '0000000000000000000000000000000900600051': 4146, '0000000000000000000000000000000900600052': 4147, '0000000000000000000000000000000900600094': 4148, '0000000000000000000000000000000900700030': 4149, '0000000000000000000000000000000900700040': 4150, '0000000000000000000000000000000901000007': 4151, '0000000000000000000000000000000901000012': 4152, '0000000000000000000000000000000901000018': 4153, '0000000000000000000000000000000901000026': 4154, '0000000000000000000000000000000901000027': 4155, '0000000000000000000000000000000901000035': 4156, '0000000000000000000000000000000901000038': 4157, '0000000000000000000000000000000901000040': 4158, '0000000000000000000000000000000901000044': 4159, '0000000000000000000000000000000901000049': 4160, '0000000000000000000000000000000901000054': 4161, '0000000000000000000000000000000901000056': 4162, '0000000000000000000000000000000901000065': 4163, '0000000000000000000000000000000901000077': 4164, '0000000000000000000000000000000901000082': 4165, '0000000000000000000000000000000901000083': 4166, '0000000000000000000000000000000901000097': 4167, '0000000000000000000000000000000901000098': 4168, '0000000000000000000000000000000901000101': 4169, '0000000000000000000000000000000901000102': 4170, '0000000000000000000000000000000901000212': 4171, '0000000000000000000000000000000901000215': 4172, '0000000000000000000000000000000901000216': 4173, '0000000000000000000000000000000901000223': 4174, '0000000000000000000000000000000901000227': 4175, '0000000000000000000000000000000901000228': 4176, '0000000000000000000000000000000901000232': 4177, '0000000000000000000000000000000901000233': 4178, '0000000000000000000000000000000901000234': 4179, '0000000000000000000000000000000901000237': 4180, '0000000000000000000000000000000901000241': 4181, '0000000000000000000000000000000901000242': 4182, '0000000000000000000000000000000901000245': 4183, '0000000000000000000000000000000901000257': 4184, '0000000000000000000000000000000901000259': 4185, '0000000000000000000000000000000901000262': 4186, '0000000000000000000000000000000901000279': 4187, '0000000000000000000000000000000901000281': 4188, '0000000000000000000000000000000901000284': 4189, '0000000000000000000000000000000901000291': 4190, '0000000000000000000000000000000901000296': 4191, '0000000000000000000000000000000901000299': 4192, '0000000000000000000000000000000901000301': 4193, '0000000000000000000000000000000901000306': 4194, '0000000000000000000000000000000901000311': 4195, '0000000000000000000000000000000901000315': 4196, '0000000000000000000000000000000901000317': 4197, '0000000000000000000000000000000901000322': 4198, '0000000000000000000000000000000901000331': 4199, '0000000000000000000000000000000901000335': 4200, '0000000000000000000000000000000901000338': 4201, '0000000000000000000000000000000901000342': 4202, '0000000000000000000000000000000901000357': 4203, '0000000000000000000000000000000901000358': 4204, '0000000000000000000000000000000901000360': 4205, '0000000000000000000000000000000901000363': 4206, '0000000000000000000000000000000901000364': 4207, '0000000000000000000000000000000901000365': 4208, '0000000000000000000000000000000901000366': 4209, '0000000000000000000000000000000901000367': 4210, '0000000000000000000000000000000901000371': 4211, '0000000000000000000000000000000901000372': 4212, '0000000000000000000000000000000901000373': 4213, '0000000000000000000000000000000901000376': 4214, '0000000000000000000000000000000901000377': 4215, '0000000000000000000000000000000901000380': 4216, '0000000000000000000000000000000901000381': 4217, '0000000000000000000000000000000901000383': 4218, '0000000000000000000000000000000901000384': 4219, '0000000000000000000000000000000901000385': 4220, '0000000000000000000000000000000901000386': 4221, '0000000000000000000000000000000901000387': 4222, '0000000000000000000000000000000901000461': 4223, '0000000000000000000000000000000901000462': 4224, '0000000000000000000000000000000901000470': 4225, '0000000000000000000000000000000901000475': 4226, '0000000000000000000000000000000901000482': 4227, '0000000000000000000000000000000901000484': 4228, '0000000000000000000000000000000901000486': 4229, '0000000000000000000000000000000901000500': 4230, '0000000000000000000000000000000901000507': 4231, '0000000000000000000000000000000901000508': 4232, '0000000000000000000000000000000901000516': 4233, '0000000000000000000000000000000901000522': 4234, '0000000000000000000000000000000901000523': 4235, '0000000000000000000000000000000901000524': 4236, '0000000000000000000000000000000901000526': 4237, '0000000000000000000000000000000901000527': 4238, '0000000000000000000000000000000901000555': 4239, '0000000000000000000000000000000901000557': 4240, '0000000000000000000000000000000901000558': 4241, '0000000000000000000000000000000901000560': 4242, '0000000000000000000000000000000901000562': 4243, '0000000000000000000000000000000901000563': 4244, '0000000000000000000000000000000901000565': 4245, '0000000000000000000000000000000901000567': 4246, '0000000000000000000000000000000901000568': 4247, '0000000000000000000000000000000901000569': 4248, '0000000000000000000000000000000901000582': 4249, '0000000000000000000000000000000901000583': 4250, '0000000000000000000000000000000901000584': 4251, '0000000000000000000000000000000901000653': 4252, '0000000000000000000000000000000901000657': 4253, '0000000000000000000000000000000901000668': 4254, '0000000000000000000000000000000901000669': 4255, '0000000000000000000000000000000901000674': 4256, '0000000000000000000000000000000901000675': 4257, '0000000000000000000000000000000901000678': 4258, '0000000000000000000000000000000901000684': 4259, '0000000000000000000000000000000901000705': 4260, '0000000000000000000000000000000901000706': 4261, '0000000000000000000000000000000901000707': 4262, '0000000000000000000000000000000901000708': 4263, '0000000000000000000000000000000901000710': 4264, '0000000000000000000000000000000901000712': 4265, '0000000000000000000000000000000901000715': 4266, '0000000000000000000000000000000901000719': 4267, '0000000000000000000000000000000901000723': 4268, '0000000000000000000000000000000901000725': 4269, '0000000000000000000000000000000901000726': 4270, '0000000000000000000000000000000901000730': 4271, '0000000000000000000000000000000901000732': 4272, '0000000000000000000000000000000901000739': 4273, '0000000000000000000000000000000901000741': 4274, '0000000000000000000000000000000901000791': 4275, '0000000000000000000000000000000901000792': 4276, '0000000000000000000000000000000901000889': 4277, '0000000000000000000000000000000901001815': 4278, '0000000000000000000000000000000901001886': 4279, '0000000000000000000000000000000901001931': 4280, '0000000000000000000000000000000901001932': 4281, '0000000000000000000000000000000901001933': 4282, '0000000000000000000000000000000901001938': 4283, '0000000000000000000000000000000901001949': 4284, '0000000000000000000000000000000901001957': 4285, '0000000000000000000000000000000901001958': 4286, '0000000000000000000000000000000901001964': 4287, '0000000000000000000000000000000901001969': 4288, '0000000000000000000000000000000901001973': 4289, '0000000000000000000000000000000901001976': 4290, '0000000000000000000000000000000901001977': 4291, '0000000000000000000000000000000901001979': 4292, '0000000000000000000000000000000901001987': 4293, '0000000000000000000000000000000901001988': 4294, '0000000000000000000000000000000901001993': 4295, '0000000000000000000000000000000901002956': 4296, '0000000000000000000000000000000901002971': 4297, '0000000000000000000000000000000901100325': 4298, '0000000000000000000000000000000901100329': 4299, '0000000000000000000000000000000901100340': 4300, '0000000000000000000000000000000901100354': 4301, '0000000000000000000000000000000901100362': 4302, '0000000000000000000000000000000901100379': 4303, '0000000000000000000000000000000901100389': 4304, '0000000000000000000000000000000901100395': 4305, '0000000000000000000000000000000901100399': 4306, '0000000000000000000000000000000901100403': 4307, '0000000000000000000000000000000901100415': 4308, '0000000000000000000000000000000901100419': 4309, '0000000000000000000000000000000901100432': 4310, '0000000000000000000000000000000901100442': 4311, '0000000000000000000000000000000901100458': 4312, '0000000000000000000000000000000901200160': 4313, '0000000000000000000000000000000901200161': 4314, '0000000000000000000000000000000901200167': 4315, '0000000000000000000000000000000901200168': 4316, '0000000000000000000000000000000901200169': 4317, '0000000000000000000000000000000901200172': 4318, '0000000000000000000000000000000901200173': 4319, '0000000000000000000000000000000901200376': 4320, '0000000000000000000000000000000901200378': 4321, '0000000000000000000000000000000901200835': 4322, '0000000000000000000000000000000909071250': 4323, '0000000000000000000000000000000909101250': 4324, '0000000000000000000000000000000909101500': 4325, '0000000000000000000000000000000909151250': 4326, '0000000000000000000000000000000909151500': 4327, '0000000000000000000000000000000909151510': 4328, '0000000000000000000000000000000909201210': 4329, '0000000000000000000000000000000909201250': 4330, '0000000000000000000000000000000909201500': 4331, '0000000000000000000000000000000909201510': 4332, '0000000000000000000000000000000909251250': 4333, '0000000000000000000000000000000909301000': 4334, '0000000000000000000000000000000909301250': 4335, '0000000000000000000000000000000909401000': 4336, '0000000000000000000000000000000909401250': 4337, '0000000000000000000000000000000910071250': 4338, '0000000000000000000000000000000910101250': 4339, '0000000000000000000000000000000910101500': 4340, '0000000000000000000000000000000910151250': 4341, '0000000000000000000000000000000910151500': 4342, '0000000000000000000000000000000910201000': 4343, '0000000000000000000000000000000910201250': 4344, '0000000000000000000000000000000910201500': 4345, '0000000000000000000000000000000910251000': 4346, '0000000000000000000000000000000910251250': 4347, '0000000000000000000000000000000910301000': 4348, '0000000000000000000000000000000910301250': 4349, '0000000000000000000000000000000910301500': 4350, '0000000000000000000000000000000910401000': 4351, '0000000000000000000000000000000910401250': 4352, '0000000000000000000000000000000918071250': 4353, '0000000000000000000000000000000918101250': 4354, '0000000000000000000000000000000918101500': 4355, '0000000000000000000000000000000940003044': 4356, '0000000000000000000000000000000940003797': 4357, '0000000000000000000000000000000940004118': 4358, '0000000000000000000000000000000940012450': 4359, '0000000000000000000000000000000940015491': 4360, '0000000000000000000000000000000940015522': 4361, '0000000000000000000000000000000940020720': 4362, '0000000000000000000000000000000940022483': 4363, '0000000000000000000000000000000940022534': 4364, '0000000000000000000000000000000940022541': 4365, '0000000000000000000000000000000940022688': 4366, '0000000000000000000000000000000940025030': 4367, '0000000000000000000000000000000940025133': 4368, '0000000000000000000000000000000940025411': 4369, '0000000000000000000000000000000940028433': 4370, '0000000000000000000000000000000940031910': 4371, '0000000000000000000000000000000940033000': 4372, '0000000000000000000000000000000940033001': 4373, '0000000000000000000000000000000940033044': 4374, '0000000000000000000000000000000940033777': 4375, '0000000000000000000000000000000940037706': 4376, '0000000000000000000000000000000940039896': 4377, '0000000000000000000000000000000940040328': 4378, '0000000000000000000000000000000940040701': 4379, '0000000000000000000000000000000940040716': 4380, '0000000000000000000000000000000940040754': 4381, '0000000000000000000000000000000940040758': 4382, '0000000000000000000000000000000940040858': 4383, '0000000000000000000000000000000940041001': 4384, '0000000000000000000000000000000940041002': 4385, '0000000000000000000000000000000940041003': 4386, '0000000000000000000000000000000940041004': 4387, '0000000000000000000000000000000940041005': 4388, '0000000000000000000000000000000940041007': 4389, '0000000000000000000000000000000940041690': 4390, '0000000000000000000000000000000940042566': 4391, '0000000000000000000000000000000940054481': 4392, '0000000000000000000000000000000940054482': 4393, '0000000000000000000000000000000940054483': 4394, '0000000000000000000000000000000940054978': 4395, '0000000000000000000000000000000940056146': 4396, '0000000000000000000000000000000940056147': 4397, '0000000000000000000000000000000940056435': 4398, '0000000000000000000000000000000940056568': 4399, '0000000000000000000000000000000940056626': 4400, '0000000000000000000000000000000940057492': 4401, '0000000000000000000000000000000940057493': 4402, '0000000000000000000000000000000940058201': 4403, '0000000000000000000000000000000940058525': 4404, '0000000000000000000000000000000940059311': 4405, '0000000000000000000000000000000940059898': 4406, '0000000000000000000000000000000940060583': 4407, '0000000000000000000000000000000940060624': 4408, '0000000000000000000000000000000940060625': 4409, '0000000000000000000000000000000940103328': 4410, '0000000000000000000000000000000940106315': 4411, '0000000000000000000000000000000940116590': 4412, '0000000000000000000000000000000940116600': 4413, '0000000000000000000000000000000940116611': 4414, '0000000000000000000000000000000940116618': 4415, '0000000000000000000000000000000940116619': 4416, '0000000000000000000000000000000940116774': 4417, '0000000000000000000000000000000940116827': 4418, '0000000000000000000000000000000940116842': 4419, '0000000000000000000000000000000940116892': 4420, '0000000000000000000000000000000940116914': 4421, '0000000000000000000000000000000940116919': 4422, '0000000000000000000000000000000940116957': 4423, '0000000000000000000000000000000940116968': 4424, '0000000000000000000000000000000940116975': 4425, '0000000000000000000000000000000940116999': 4426, '0000000000000000000000000000000940117004': 4427, '0000000000000000000000000000000940117005': 4428, '0000000000000000000000000000000940117021': 4429, '0000000000000000000000000000000940117038': 4430, '0000000000000000000000000000000940117039': 4431, '0000000000000000000000000000000940117040': 4432, '0000000000000000000000000000000940117048': 4433, '0000000000000000000000000000001003020035': 4434, '0000000000000000000000000000001003020036': 4435, '0000000000000000000000000000001003050021': 4436, '0000000000000000000000000000001100009456': 4437, '0000000000000000000000000000001100009749': 4438, '0000000000000000000000000000001100009773': 4439, '0000000000000000000000000000001100009783': 4440, '0000000000000000000000000000001100014676': 4441, '0000000000000000000000000000001100014677': 4442, '0000000000000000000000000000001100014678': 4443, '0000000000000000000000000000001100014680': 4444, '0000000000000000000000000000001100015984': 4445, '0000000000000000000000000000001100016077': 4446, '0000000000000000000000000000001100016078': 4447, '0000000000000000000000000000001100016222': 4448, '0000000000000000000000000000001100016223': 4449, '0000000000000000000000000000001100016224': 4450, '0000000000000000000000000000001100016226': 4451, '0000000000000000000000000000001100016228': 4452, '0000000000000000000000000000001100016370': 4453, '0000000000000000000000000000001100016581': 4454, '0000000000000000000000000000001100016735': 4455, '0000000000000000000000000000001100017202': 4456, '0000000000000000000000000000001100017205': 4457, '0000000000000000000000000000001100017207': 4458, '0000000000000000000000000000001100017208': 4459, '0000000000000000000000000000001100017210': 4460, '0000000000000000000000000000001100017231': 4461, '0000000000000000000000000000001100017232': 4462, '0000000000000000000000000000001100017233': 4463, '0000000000000000000000000000001100017234': 4464, '0000000000000000000000000000001100017236': 4465, '0000000000000000000000000000001100017239': 4466, '0000000000000000000000000000001100017242': 4467, '0000000000000000000000000000001100017245': 4468, '0000000000000000000000000000001100017248': 4469, '0000000000000000000000000000001100017250': 4470, '0000000000000000000000000000001124202613': 4471, '0000000000000000000000000000001124202621': 4472, '0000000000000000000000000000001124202629': 4473, '0000000000000000000000000000001124202638': 4474, '0000000000000000000000000000001124202644': 4475, '0000000000000000000000000000001124202651': 4476, '0000000000000000000000000000001124202662': 4477, '0000000000000000000000000000001124203013': 4478, '0000000000000000000000000000001124203021': 4479, '0000000000000000000000000000001124203029': 4480, '0000000000000000000000000000001124203038': 4481, '0000000000000000000000000000001124203044': 4482, '0000000000000000000000000000001124203051': 4483, '0000000000000000000000000000001124203062': 4484, '0000000000000000000000000000001124204001': 4485, '0000000000000000000000000000001124204007': 4486, '0000000000000000000000000000001124204014': 4487, '0000000000000000000000000000001124204021': 4488, '0000000000000000000000000000001124204029': 4489, '0000000000000000000000000000001124204045': 4490, '0000000000000000000000000000001124204053': 4491, '0000000000000000000000000000001124204062': 4492, '0000000000000000000000000000001124204096': 4493, '0000000000000000000000000000001124205006': 4494, '0000000000000000000000000000001124206024': 4495, '0000000000000000000000000000001124206059': 4496, '0000000000000000000000000000001124253002': 4497, '0000000000000000000000000000001124254038': 4498, '0000000000000000000000000000001128202081': 4499, '0000000000000000000000000000001128202091': 4500, '0000000000000000000000000000001136405050': 4501, '0000000000000000000000000000001136406055': 4502, '0000000000000000000000000000001139003048': 4503, '0000000000000000000000000000001139003099': 4504, '0000000000000000000000000000001139004020': 4505, '0000000000000000000000000000001139004033': 4506, '0000000000000000000000000000001139004047': 4507, '0000000000000000000000000000001139004062': 4508, '0000000000000000000000000000001139005015': 4509, '0000000000000000000000000000001139005045': 4510, '0000000000000000000000000000001139005062': 4511, '0000000000000000000000000000001139006040': 4512, '0000000000000000000000000000001139006062': 4513, '0000000000000000000000000000001139053022': 4514, '0000000000000000000000000000001150002509': 4515, '0000000000000000000000000000001150002597': 4516, '0000000000000000000000000000001150003048': 4517, '0000000000000000000000000000001150004020': 4518, '0000000000000000000000000000001150004033': 4519, '0000000000000000000000000000001150004047': 4520, '0000000000000000000000000000001150004062': 4521, '0000000000000000000000000000001150005062': 4522, '0000000000000000000000000000001150053022': 4523, '0000000000000000000000000000001150053054': 4524, '0000000000000000000000000000001150055045': 4525, '0000000000000000000000000000002101101005': 4526, '0000000000000000000000000000002101101020': 4527, '0000000000000000000000000000002101101033': 4528, '0000000000000000000000000000002101103250': 4529, '0000000000000000000000000000002101103260': 4530, '0000000000000000000000000000002101103380': 4531, '0000000000000000000000000000002101151260': 4532, '0000000000000000000000000000002101153850': 4533, '0000000000000000000000000000002101155025': 4534, '0000000000000000000000000000002101155055': 4535, '0000000000000000000000000000002101155070': 4536, '0000000000000000000000000000002101155125': 4537, '0000000000000000000000000000002101155175': 4538, '0000000000000000000000000000002101155180': 4539, '0000000000000000000000000000002101155225': 4540, '0000000000000000000000000000002101155275': 4541, '0000000000000000000000000000002101155375': 4542, '0000000000000000000000000000002101155425': 4543, '0000000000000000000000000000002101155431': 4544, '0000000000000000000000000000002101155475': 4545, '0000000000000000000000000000002101155525': 4546, '0000000000000000000000000000002101155532': 4547, '0000000000000000000000000000002101155575': 4548, '0000000000000000000000000000002101155625': 4549, '0000000000000000000000000000002101155675': 4550, '0000000000000000000000000000002101155725': 4551, '0000000000000000000000000000002101201220': 4552, '0000000000000000000000000000002101201660': 4553, '0000000000000000000000000000002101202375': 4554, '0000000000000000000000000000002101203035': 4555, '0000000000000000000000000000002101203145': 4556, '0000000000000000000000000000002101203255': 4557, '0000000000000000000000000000002101203640': 4558, '0000000000000000000000000000002101204080': 4559, '0000000000000000000000000000002101256885': 4560, '0000000000000000000000000000002101257215': 4561, '0000000000000000000000000000002101257325': 4562, '0000000000000000000000000000002101257545': 4563, '0000000000000000000000000000002101257655': 4564, '0000000000000000000000000000002101257765': 4565, '0000000000000000000000000000002101257820': 4566, '0000000000000000000000000000002101257930': 4567, '0000000000000000000000000000002101258040': 4568, '0000000000000000000000000000002101258370': 4569, '0000000000000000000000000000002101258590': 4570, '0000000000000000000000000000002101258595': 4571, '0000000000000000000000000000002101421275': 4572, '0000000000000000000000000000002101421330': 4573, '0000000000000000000000000000002101421385': 4574, '0000000000000000000000000000002101421605': 4575, '0000000000000000000000000000002101421825': 4576, '0000000000000000000000000000002101430502': 4577, '0000000000000000000000000000002101430507': 4578, '0000000000000000000000000000002101430512': 4579, '0000000000000000000000000000002101433585': 4580, '0000000000000000000000000000002101433590': 4581, '0000000000000000000000000000002101433805': 4582, '0000000000000000000000000000002101433810': 4583, '0000000000000000000000000000002101434025': 4584, '0000000000000000000000000000002101434030': 4585, '0000000000000000000000000000002101434355': 4586, '0000000000000000000000000000002101434360': 4587, '0000000000000000000000000000002101434685': 4588, '0000000000000000000000000000002101434695': 4589, '0000000000000000000000000000002101435125': 4590, '0000000000000000000000000000002101435160': 4591, '0000000000000000000000000000002101435565': 4592, '0000000000000000000000000000002101501191': 4593, '0000000000000000000000000000002101501681': 4594, '0000000000000000000000000000002101503020': 4595, '0000000000000000000000000000002101504055': 4596, '0000000000000000000000000000002101504150': 4597, '0000000000000000000000000000002101504250': 4598, '0000000000000000000000000000002101504449': 4599, '0000000000000000000000000000002101504451': 4600, '0000000000000000000000000000002101504545': 4601, '0000000000000000000000000000002101504550': 4602, '0000000000000000000000000000002101504555': 4603, '0000000000000000000000000000002101504560': 4604, '0000000000000000000000000000002101750050': 4605, '0000000000000000000000000000002101750080': 4606, '0000000000000000000000000000002101750083': 4607, '0000000000000000000000000000002101750110': 4608, '0000000000000000000000000000002101750170': 4609, '0000000000000000000000000000002101750230': 4610, '0000000000000000000000000000002101750290': 4611, '0000000000000000000000000000002101750325': 4612, '0000000000000000000000000000002101750350': 4613, '0000000000000000000000000000002101750410': 4614, '0000000000000000000000000000002101750445': 4615, '0000000000000000000000000000002101750560': 4616, '0000000000000000000000000000002101750680': 4617, '0000000000000000000000000000002102140002': 4618, '0000000000000000000000000000002106101225': 4619, '0000000000000000000000000000002106101500': 4620, '0000000000000000000000000000002106104020': 4621, '0000000000000000000000000000002106154031': 4622, '0000000000000000000000000000002191257328': 4623, '0000000000000000000000000000002191434100': 4624, '0000000000000000000000000000002191505300': 4625, '0000000000000000000000000000002196102000': 4626, '0000000000000000000000000000002196454025': 4627, '0000000000000000000000000000002196454031': 4628, '0000000000000000000000000000002196454050': 4629, '0000000000000000000000000000002196505000': 4630, '0000000000000000000000000000002196505100': 4631, '0000000000000000000000000000002196505200': 4632, '0000000000000000000000000000002196505300': 4633, '0000000000000000000000000000002201152190': 4634, '0000000000000000000000000000002201152750': 4635, '0000000000000000000000000000002201154740': 4636, '0000000000000000000000000000002202104502': 4637, '0000000000000000000000000000002202104503': 4638, '0000000000000000000000000000002202104572': 4639, '0000000000000000000000000000002202104573': 4640, '0000000000000000000000000000002202104750': 4641, '0000000000000000000000000000002202104751': 4642, '0000000000000000000000000000002202104752': 4643, '0000000000000000000000000000002202104816': 4644, '0000000000000000000000000000002202105110': 4645, '0000000000000000000000000000002202105112': 4646, '0000000000000000000000000000002202105114': 4647, '0000000000000000000000000000002202105168': 4648, '0000000000000000000000000000002202105795': 4649, '0000000000000000000000000000002202106670': 4650, '0000000000000000000000000000002202106775': 4651, '0000000000000000000000000000002202106985': 4652, '0000000000000000000000000000002202107055': 4653, '0000000000000000000000000000002202107125': 4654, '0000000000000000000000000000002202107615': 4655, '0000000000000000000000000000002202107685': 4656, '0000000000000000000000000000002202107825': 4657, '0000000000000000000000000000002202107930': 4658, '0000000000000000000000000000002202108105': 4659, '0000000000000000000000000000002202400125': 4660, '0000000000000000000000000000002202401060': 4661, '0000000000000000000000000000002202401150': 4662, '0000000000000000000000000000002202401270': 4663, '0000000000000000000000000000002202401660': 4664, '0000000000000000000000000000002202402310': 4665, '0000000000000000000000000000002202402541': 4666, '0000000000000000000000000000002202402550': 4667, '0000000000000000000000000000002202402700': 4668, '0000000000000000000000000000002202402759': 4669, '0000000000000000000000000000002202402925': 4670, '0000000000000000000000000000002202403035': 4671, '0000000000000000000000000000002202405180': 4672, '0000000000000000000000000000002202501170': 4673, '0000000000000000000000000000002202501510': 4674, '0000000000000000000000000000002202501595': 4675, '0000000000000000000000000000002202502900': 4676, '0000000000000000000000000000002202502911': 4677, '0000000000000000000000000000002203502170': 4678, '0000000000000000000000000000002203502200': 4679, '0000000000000000000000000000002203502201': 4680, '0000000000000000000000000000002203502250': 4681, '0000000000000000000000000000002203502270': 4682, '0000000000000000000000000000002292104702': 4683, '0000000000000000000000000000002292129516': 4684, '0000000000000000000000000000002292400165': 4685, '0000000000000000000000000000002292401600': 4686, '0000000000000000000000000000002292401647': 4687, '0000000000000000000000000000002292401660': 4688, '0000000000000000000000000000002292401670': 4689, '0000000000000000000000000000002292401715': 4690, '0000000000000000000000000000002292401880': 4691, '0000000000000000000000000000002292402220': 4692, '0000000000000000000000000000002292402546': 4693, '0000000000000000000000000000002292402762': 4694, '0000000000000000000000000000002292406891': 4695, '0000000000000000000000000000002292406893': 4696, '0000000000000000000000000000002292408840': 4697, '0000000000000000000000000000002292408846': 4698, '0000000000000000000000000000002292408847': 4699, '0000000000000000000000000000002292408850': 4700, '0000000000000000000000000000002292408851': 4701, '0000000000000000000000000000002292408853': 4702, '0000000000000000000000000000002292408854': 4703, '0000000000000000000000000000002292431007': 4704, '0000000000000000000000000000002292431601': 4705, '0000000000000000000000000000002292431603': 4706, '0000000000000000000000000000002292431606': 4707, '0000000000000000000000000000002292431609': 4708, '0000000000000000000000000000002292431614': 4709, '0000000000000000000000000000002292431615': 4710, '0000000000000000000000000000002292431620': 4711, '0000000000000000000000000000002292431625': 4712, '0000000000000000000000000000002292431626': 4713, '0000000000000000000000000000002292431627': 4714, '0000000000000000000000000000002292431630': 4715, '0000000000000000000000000000002292431631': 4716, '0000000000000000000000000000002292431660': 4717, '0000000000000000000000000000002292433636': 4718, '0000000000000000000000000000002292502800': 4719, '0000000000000000000000000000002292502900': 4720, '0000000000000000000000000000002292502901': 4721, '0000000000000000000000000000002292502902': 4722, '0000000000000000000000000000002292502903': 4723, '0000000000000000000000000000002292502904': 4724, '0000000000000000000000000000002292502910': 4725, '0000000000000000000000000000002292502911': 4726, '0000000000000000000000000000002292900007': 4727, '0000000000000000000000000000002292900011': 4728, '0000000000000000000000000000002293501596': 4729, '0000000000000000000000000000002293502115': 4730, '0000000000000000000000000000003000492772': 4731, '0000000000000000000000000000003000492856': 4732, '0000000000000000000000000000003136408841': 4733, '0000000000000000000000000000003136408842': 4734, '0000000000000000000000000000003136408845': 4735, '0000000000000000000000000000003139004003': 4736, '0000000000000000000000000000003139004004': 4737, '0000000000000000000000000000003139004006': 4738, '0000000000000000000000000000003139004007': 4739, '0000000000000000000000000000003139004008': 4740, '0000000000000000000000000000003139005003': 4741, '0000000000000000000000000000003139005007': 4742, '0000000000000000000000000000003139005010': 4743, '0000000000000000000000000000003139006003': 4744, '0000000000000000000000000000003139006004': 4745, '0000000000000000000000000000003139006007': 4746, '0000000000000000000000000000003139006008': 4747, '0000000000000000000000000000003211301204': 4748, '0000000000000000000000000000003213300904': 4749, '0000000000000000000000000000003213301204': 4750, '0000000000000000000000000000003214500904': 4751, '0000000000000000000000000000003294401187': 4752, '0000000000000000000000000000003294801187': 4753, '0000000000000000000000000000003295201187': 4754, '0000000000000000000000000000003500034255': 4755, '0000000000000000000000000000003728237692': 4756, '0000000000000000000000000000003728237697': 4757, '0000000000000000000000000000004210172407': 4758, '0000000000000000000000000000004210173007': 4759, '0000000000000000000000000000004210371457': 4760, '0000000000000000000000000000004210371657': 4761, '0000000000000000000000000000004210371907': 4762, '0000000000000000000000000000004210972407': 4763, '0000000000000000000000000000004210973007': 4764, '0000000000000000000000000000004211181457': 4765, '0000000000000000000000000000004211181657': 4766, '0000000000000000000000000000004211181907': 4767, '0000000000000000000000000000004211371457': 4768, '0000000000000000000000000000004211371907': 4769, '0000000000000000000000000000004211972407': 4770, '0000000000000000000000000000004211973007': 4771, '0000000000000000000000000000004212081457': 4772, '0000000000000000000000000000004212081707': 4773, '0000000000000000000000000000004212081907': 4774, '0000000000000000000000000000004212082407': 4775, '0000000000000000000000000000004212141904': 4776, '0000000000000000000000000000004212171707': 4777, '0000000000000000000000000000004212171907': 4778, '0000000000000000000000000000004212571457': 4779, '0000000000000000000000000000004212571907': 4780, '0000000000000000000000000000004212703014': 4781, '0000000000000000000000000000004212851204': 4782, '0000000000000000000000000000004212981457': 4783, '0000000000000000000000000000004212981907': 4784, '0000000000000000000000000000004212982407': 4785, '0000000000000000000000000000004212983007': 4786, '0000000000000000000000000000004213652407': 4787, '0000000000000000000000000000004213771457': 4788, '0000000000000000000000000000004213771907': 4789, '0000000000000000000000000000004213783014': 4790, '0000000000000000000000000000004213851707': 4791, '0000000000000000000000000000004213851907': 4792, '0000000000000000000000000000004295303807': 4793, '0000000000000000000000000000004295803807': 4794, '0000000000000000000000000000004296653807': 4795, '0000000000000000000000000000004297153807': 4796, '0000000000000000000000000000004500030083': 4797, '0000000000000000000000000000004500030510': 4798, '0000000000000000000000000000004774163807': 4799, '0000000000000000000000000000004774503807': 4800, '0000000000000000000000000000004775003807': 4801, '0000000000000000000000000000004775503807': 4802, '0000000000000000000000000000004776003807': 4803, '0000000000000000000000000000005010017813': 4804, '0000000000000000000000000000005010144000': 4805, '0000000000000000000000000000005110033302': 4806, '0000000000000000000000000000005110033805': 4807, '0000000000000000000000000000005110033903': 4808, '0000000000000000000000000000005110033906': 4809, '0000000000000000000000000000005110056902': 4810, '0000000000000000000000000000005110056908': 4811, '0000000000000000000000000000005110108601': 4812, '0000000000000000000000000000005110146700': 4813, '0000000000000000000000000000005110192200': 4814, '0000000000000000000000000000005210011101': 4815, '0000000000000000000000000000005210177100': 4816, '0000000000000000000000000000005210615600': 4817, '0000000000000000000000000000005210615701': 4818, '0000000000000000000000000000005210615801': 4819, '0000000000000000000000000000005210615900': 4820, '0000000000000000000000000000005210728600': 4821, '0000000000000000000000000000005210820200': 4822, '0000000000000000000000000000005310019000': 4823, '0000000000000000000000000000005310117100': 4824, '0000000000000000000000000000007208529900': 4825, '0000000000000000000000000000008001172600': 4826, '0000000000000000000000000000009001174243': 4827, '0000000000000000000000000000011471371180': 4828, '0000000000000000000000000000011759006900': 4829, '0000000000000000000000000000050063196303': 4830, '0000000000000000000000000000050063234803': 4831, '0000000000000000000000000000050063285803': 4832, '0000000000000000000000000000050063311803': 4833, '0000000000000000000000000000050063324503': 4834, '0000000000000000000000000000050070324503': 4835, '0000000000000000000000000000050080119603': 4836, '0000000000000000000000000000050080131002': 4837, '0000000000000000000000000000050080196303': 4838, '0000000000000000000000000000050080234803': 4839, '0000000000000000000000000000050080261003': 4840, '0000000000000000000000000000050080285803': 4841, '0000000000000000000000000000050080311803': 4842, '0000000000000000000000000000050080324503': 4843, '0000000000000000000000000000050083324503': 4844, '0000000000000000000000000000050087285803': 4845, '0000000000000000000000000000050090285803': 4846, '0000000000000000000000000000050090311803': 4847, '0000000000000000000000000000050090324503': 4848, '0000000000000000000000000000050090324504': 4849, '0000000000000000000000000000050100324503': 4850, '0000000000000000000000000000050112324503': 4851, '0000000000000000000000000000050127324503': 4852, '0000000000000000000000000000090101250045': 4853, '0000000000000000000000000000097035071250': 4854, '0000000000000000000000000000097035101250': 4855, '0000000000000000000000000000099002071500': 4856, '0000000000000000000000000000099002101250': 4857, '0000000000000000000000000000099002101500': 4858, '0000000000000000000000000000099002150750': 4859, '0000000000000000000000000000099002150850': 4860, '0000000000000000000000000000099002151000': 4861, '0000000000000000000000000000099002151250': 4862, '0000000000000000000000000000099002151500': 4863, '0000000000000000000000000000099002200700': 4864, '0000000000000000000000000000099002200750': 4865, '0000000000000000000000000000099002200800': 4866, '0000000000000000000000000000099002200850': 4867, '0000000000000000000000000000099002201000': 4868, '0000000000000000000000000000099002201250': 4869, '0000000000000000000000000000099002250750': 4870, '0000000000000000000000000000099002250800': 4871, '0000000000000000000000000000099002250850': 4872, '0000000000000000000000000000099002250900': 4873, '0000000000000000000000000000099002300750': 4874, '0000000000000000000000000000099002300800': 4875, '0000000000000000000000000000099002300850': 4876, '0000000000000000000000000000099002301000': 4877, '0000000000000000000000000000099007071250': 4878, '0000000000000000000000000000099007101250': 4879, '0000000000000000000000000000099007151250': 4880, '0000000000000000000000000000099010071250': 4881, '0000000000000000000000000000099010101250': 4882, '0000000000000000000000000000099010151250': 4883, '0000000000000000000000000000099010200750': 4884, '0000000000000000000000000000099010200800': 4885, '0000000000000000000000000000099010201250': 4886, '0000000000000000000000000000099010301000': 4887, '0000000000000000000000000000099016151250': 4888, '0000000000000000000000000000101000501250': 4889, '0000000000000000000000000000101000701000': 4890, '0000000000000000000000000000101000701250': 4891, '0000000000000000000000000000101000701259': 4892, '0000000000000000000000000000101000701500': 4893, '0000000000000000000000000000101000801000': 4894, '0000000000000000000000000000101000801250': 4895, '0000000000000000000000000000101000801500': 4896, '0000000000000000000000000000101000901000': 4897, '0000000000000000000000000000101000901500': 4898, '0000000000000000000000000000101001001250': 4899, '0000000000000000000000000000101001251000': 4900, '0000000000000000000000000000101001251500': 4901, '0000000000000000000000000000101002001000': 4902, '0000000000000000000000000000101002001250': 4903, '0000000000000000000000000000101002001500': 4904, '0000000000000000000000000000101002501000': 4905, '0000000000000000000000000000101002501250': 4906, '0000000000000000000000000000101002501500': 4907, '0000000000000000000000000000101003001000': 4908, '0000000000000000000000000000101003001250': 4909, '0000000000000000000000000000101003001500': 4910, '0000000000000000000000000000104001001000': 4911, '0000000000000000000000000000104001001500': 4912, '0000000000000000000000000000104001251500': 4913, '0000000000000000000000000000104001501000': 4914, '0000000000000000000000000000104001501250': 4915, '0000000000000000000000000000104001501500': 4916, '0000000000000000000000000000104002001000': 4917, '0000000000000000000000000000104002001250': 4918, '0000000000000000000000000000104002001500': 4919, '0000000000000000000000000000104003001500': 4920, '0000000000000000000000000000110001501406': 4921, '0000000000000000000000000000111002001260': 4922, '0000000000000000000000000000111002001308': 4923, '0000000000000000000000000000111003001304': 4924, '0000000000000000000000000000112001001494': 4925, '0000000000000000000000000000112001501500': 4926, '0000000000000000000000000000112002001290': 4927, '0000000000000000000000000000114001501378': 4928, '0000000000000000000000000000114002001138': 4929, '0000000000000000000000000000114002501108': 4930, '0000000000000000000000000000120220000302': 4931, '0000000000000000000000000000120220000402': 4932, '0000000000000000000000000000120220002700': 4933, '0000000000000000000000000000120220003701': 4934, '0000000000000000000000000000120220004000': 4935, '0000000000000000000000000000120220005701': 4936, '0000000000000000000000000000120220005702': 4937, '0000000000000000000000000000120220005801': 4938, '0000000000000000000000000000120220005802': 4939, '0000000000000000000000000000120220006301': 4940, '0000000000000000000000000000120220006401': 4941, '0000000000000000000000000000120220007001': 4942, '0000000000000000000000000000120220007101': 4943, '0000000000000000000000000000120220007300': 4944, '0000000000000000000000000000120230001001': 4945, '0000000000000000000000000000120230001200': 4946, '0000000000000000000000000000124220001400': 4947, '0000000000000000000000000000124220001600': 4948, '0000000000000000000000000000136000132000': 4949, '0000000000000000000000000000136000136001': 4950, '0000000000000000000000000000136210054000': 4951, '0000000000000000000000000000136210059001': 4952, '0000000000000000000000000000136210122000': 4953, '0000000000000000000000000000136210123001': 4954, '0000000000000000000000000000136210138001': 4955, '0000000000000000000000000000136210168000': 4956, '0000000000000000000000000000136210190001': 4957, '0000000000000000000000000000136210205001': 4958, '0000000000000000000000000000136210213001': 4959, '0000000000000000000000000000137110253001': 4960, '0000000000000000000000000000162800100000': 4961, '0000000000000000000000000000162802200000': 4962, '0000000000000000000000000000162805200000': 4963, '0000000000000000000000000000162807700000': 4964, '0000000000000000000000000000311002001250': 4965, '0000000000000000000000000000311002501250': 4966, '0000000000000000000000000000311003001250': 4967, '0000000000000000000000000000311004001250': 4968, '0000000000000000000000000000320001500850': 4969, '0000000000000000000000000000321003001500': 4970, '0000000000000000000000000000321004001250': 4971, '0000000000000000000000000000321302501250': 4972, '0000000000000000000000000000322002001340': 4973, '0000000000000000000000000000322002001435': 4974, '0000000000000000000000000000322002001448': 4975, '0000000000000000000000000000322002501275': 4976, '0000000000000000000000000000322003001272': 4977, '0000000000000000000000000000322004001220': 4978, '0000000000000000000000000000324003001105': 4979, '0000000000000000000000000000401000701250': 4980, '0000000000000000000000000000401000901250': 4981, '0000000000000000000000000000401001001250': 4982, '0000000000000000000000000000401001201223': 4983, '0000000000000000000000000000401001251250': 4984, '0000000000000000000000000000401001501250': 4985, '0000000000000000000000000000401002001250': 4986, '0000000000000000000000000000401030501250': 4987, '0000000000000000000000000000401030601250': 4988, '0000000000000000000000000000401030701000': 4989, '0000000000000000000000000000401030701250': 4990, '0000000000000000000000000000401030701500': 4991, '0000000000000000000000000000401030801250': 4992, '0000000000000000000000000000401030901000': 4993, '0000000000000000000000000000401030901250': 4994, '0000000000000000000000000000401030901500': 4995, '0000000000000000000000000000401031001000': 4996, '0000000000000000000000000000401031001250': 4997, '0000000000000000000000000000401031001500': 4998, '0000000000000000000000000000401031251000': 4999, '0000000000000000000000000000401031251250': 5000, '0000000000000000000000000000401031251500': 5001, '0000000000000000000000000000401031501000': 5002, '0000000000000000000000000000401031501250': 5003, '0000000000000000000000000000401031501500': 5004, '0000000000000000000000000000401032001000': 5005, '0000000000000000000000000000401032001250': 5006, '0000000000000000000000000000401032501250': 5007, '0000000000000000000000000000401033001000': 5008, '0000000000000000000000000000401033001250': 5009, '0000000000000000000000000000401033001500': 5010, '0000000000000000000000000000401034001373': 5011, '0000000000000000000000000000401070901250': 5012, '0000000000000000000000000000401081001250': 5013, '0000000000000000000000000000401081251250': 5014, '0000000000000000000000000000401081501250': 5015, '0000000000000000000000000000401081501500': 5016, '0000000000000000000000000000401082001000': 5017, '0000000000000000000000000000401082001250': 5018, '0000000000000000000000000000401082001500': 5019, '0000000000000000000000000000401083001250': 5020, '0000000000000000000000000000401083001500': 5021, '0000000000000000000000000000401101001208': 5022, '0000000000000000000000000000404133001500': 5023, '0000000000000000000000000000410081001250': 5024, '0000000000000000000000000000410081501250': 5025, '0000000000000000000000000000410082001250': 5026, '0000000000000000000000000000414081501213': 5027, '0000000000000000000000000000420001501147': 5028, '0000000000000000000000000000420101501268': 5029, '0000000000000000000000000000420132001353': 5030, '0000000000000000000000000000422000501368': 5031, '0000000000000000000000000000422002001500': 5032, '0000000000000000000000000000422003001233': 5033, '0000000000000000000000000000422101001333': 5034, '0000000000000000000000000000422102501192': 5035, '0000000000000000000000000000424001001300': 5036, '0000000000000000000000000000424001501300': 5037, '0000000000000000000000000000424002001373': 5038, '0000000000000000000000000000424032001500': 5039, '0000000000000000000000000000434202001171': 5040, '0000000000000000000000000000503051001418': 5041, '0000000000000000000000000000601000501250': 5042, '0000000000000000000000000000601000701250': 5043, '0000000000000000000000000000601000751260': 5044, '0000000000000000000000000000601000901000': 5045, '0000000000000000000000000000601001251000': 5046, '0000000000000000000000000000601001251250': 5047, '0000000000000000000000000000601001501250': 5048, '0000000000000000000000000000601002001250': 5049, '0000000000000000000000000000700011705910': 5050, '0000000000000000000000000000700011706060': 5051, '0000000000000000000000000000710010651500': 5052, '0000000000000000000000000000710170750988': 5053, '0000000000000000000000000000710280401143': 5054, '0000000000000000000000000000710280450924': 5055, '0000000000000000000000000000710300601258': 5056, '0000000000000000000000000000710301001106': 5057, '0000000000000000000000000000710350450913': 5058, '0000000000000000000000000000710360371143': 5059, '0000000000000000000000000000710371001250': 5060, '0000000000000000000000000000710401001250': 5061, '0000000000000000000000000000710420371143': 5062, '0000000000000000000000000000740030461210': 5063, '0000000000000000000000000000740030501250': 5064, '0000000000000000000000000000740030501500': 5065, '0000000000000000000000000000740080501250': 5066, '0000000000000000000000000000740090601250': 5067, '0000000000000000000000000000740120601250': 5068, '0000000000000000000000000000740150601250': 5069, '0000000000000000000000000002160008837969': 5070, '0000000000000000000000000021300100038664': 5071, '0000000000000000000000000750080000116682': 5072, '0000000000000000000000000830080000109380': 5073, '0000000000000000000000001010005012700674': 5074, '0000000000000000000000001010005012940674': 5075, '0000000000000000000000001010006014400666': 5076, '0000000000000000000000001010007012061221': 5077, '0000000000000000000000001010007014101360': 5078, '0000000000000000000000001010009012501221': 5079, '0000000000000000000000001010009013801360': 5080, '0000000000000000000000001040007011651221': 5081, '0000000000000000000000001040007012950262': 5082, '0000000000000000000000001040007014261221': 5083, '0000000000000000000000001040017512520086': 5084, '0000000000000000000000001110007012181221': 5085, '0000000000000000000000001110014010000167': 5086, '0000000000000000000000001120030014460383': 5087, '0000000000000000000000001140019711520409': 5088, '0000000000000000000000001620007012501221': 5089, '0000000000000000000000001620007014701221': 5090, '0000000000000000000000001620012512501221': 5091, '0000000000000000000000002000105000116735': 5092, '0000000000000000000000002000113000109208': 5093, '0000000000000000000000002000115000108383': 5094, '0000000000000000000000002000115000116649': 5095, '0000000000000000000000002000123300106497': 5096, '0000000000000000000000002000150000115138': 5097, '0000000000000000000000002000150000115141': 5098, '0000000000000000000000002500115000108384': 5099, '0000000000000000000000002500115000114809': 5100, '0000000000000000000000002500150000115139': 5101, '0000000000000000000000002500150000115142': 5102, '0000000000000000000000002500152000117385': 5103, '0000000000000000000000003000025013470422': 5104, '0000000000000000000000003000115000109287': 5105, '0000000000000000000000003110040010002000': 5106, '0000000000000000000000003110040013600162': 5107, '0000000000000000000000003110050010002000': 5108, '0000000000000000000000003110050012502500': 5109, '0000000000000000000000003110060012502500': 5110, '0000000000000000000000003213030012502500': 5111, '0000000000000000000000003213030015003000': 5112, '0000000000000000000000003213040012502500': 5113, '0000000000000000000000003213040015003000': 5114, '0000000000000000000000003213050012502500': 5115, '0000000000000000000000003213050015003000': 5116, '0000000000000000000000003213060012502500': 5117, '0000000000000000000000003213060015003000': 5118, '0000000000000000000000003230040013520383': 5119, '0000000000000000000000003240030012680437': 5120, '0000000000000000000000003240060010040383': 5121, '0000000000000000000000003260060010300331': 5122, '0000000000000000000000003260060010350331': 5123, '0000000000000000000000003260060011900331': 5124, '0000000000000000000000004010012513981490': 5125, '0000000000000000000000004010012514961490': 5126, '0000000000000000000000004010307512501339': 5127, '0000000000000000000000004010312515250615': 5128, '0000000000000000000000004010330013460189': 5129, '0000000000000000000000004010340015000705': 5130, '0000000000000000000000004010620012500881': 5131, '0000000000000000000000004010629011000881': 5132, '0000000000000000000000004010815014080325': 5133, '0000000000000000000000004012310013681339': 5134, '0000000000000000000000004020640013160881': 5135, '0000000000000000000000004020815013920079': 5136, '0000000000000000000000004033625010100898': 5137, '0000000000000000000000004040207012590262': 5138, '0000000000000000000000004100004011101493': 5139, '0000000000000000000000004100004013351671': 5140, '0000000000000000000000004100004511211493': 5141, '0000000000000000000000004100010012500325': 5142, '0000000000000000000000004100309013640325': 5143, '0000000000000000000000004100809012500079': 5144, '0000000000000000000000004140320011080807': 5145, '0000000000000000000000004140815015000226': 5146, '0000000000000000000000004140820015000226': 5147, '0000000000000000000000004220015011010206': 5148, '0000000000000000000000004220020013580383': 5149, '0000000000000000000000004220025013640037': 5150, '0000000000000000000000004220040012320014': 5151, '0000000000000000000000004220620012560881': 5152, '0000000000000000000000004220625012330881': 5153, '0000000000000000000000004221320012190383': 5154, '0000000000000000000000004222030013280125': 5155, '0000000000000000000000004222320013721339': 5156, '0000000000000000000000004240120012760162': 5157, '0000000000000000000000004240120013680162': 5158, '0000000000000000000000004240810014350325': 5159, '0000000000000000000000004240810014410325': 5160, '0000000000000000000000004240820012180409': 5161, '0000000000000000000000004242110013160162': 5162, '0000000000000000000000004242315012581339': 5163, '0000000000000000000000004342018010330125': 5164, '0000000000000000000000004342018012530125': 5165, '0000000000000000000000004342020012480125': 5166, '0000000000000000000000004500150000115140': 5167, '0000000000000000000000004500150000115143': 5168, '0000000000000000000000005021312510000012': 5169, '0000000000000000000000005021312515000012': 5170, '0000000000000000000000005021410015000012': 5171, '0000000000000000000000005041415011780776': 5172, '0000000000000000000000006063209015200898': 5173, '0000000000000000000000006063209015300898': 5174, '0000000000000000000000007103007512501509': 5175, '0000000000000000000000007103010009750833': 5176, '0000000000000000000000007103010012341509': 5177, '0000000000000000000000007103010013700833': 5178, '0000000000000000000000007103015014800833': 5179, '0000000000000000000000007103110011501722': 5180, '0000000000000000000000007103410010750833': 5181, '0000000000000000000000007103410012500833': 5182, '0000000000000000000000007103410013700833': 5183, '0000000000000000000000007103415014800833': 5184, '0000000000000000000000007103907512501509': 5185, '0000000000000000000000043420180112530125': 5186, '0000000000000000000015140605631729001000': 5187, '0000000000000000000015400616031729001000': 5188, '0000000000000000000040043020010501200003': 5189, '0000000000000000000070008040016501090001': 5190, '0000000000000000000070008050017000800001': 5191, '0000000000000000000070008050017001090001': 5192, '0000000000000000000070008050017001280001': 5193, '0000000000000000000070008050017001290001': 5194, '0000000120Z0C5N1000': 5195, '0000000540Z0C45N1248': 5196, '0000000640Z0C5N1248': 5197, '0000000650Z0C5N1248': 5198, '0000000650Z0C6N1248': 5199, '0000000840Z0C75N1000': 5200, '0000000900Z0C8N1500': 5201, '00020002A5QF14SID': 5202, '001004547_Z': 5203, '0012M3503101490020000000': 5204, '0016368_UP BLACK_DOWN WHITE': 5205, '002-06-2017/US/Serwistal': 5206, '0020188472-1': 5207, '0024A140': 5208, '0024A191': 5209, '0024A290': 5210, '0024A293': 5211, '0024A295': 5212, '0024A296': 5213, '0024A307': 5214, '0024A46': 5215, '0024A77': 5216, '0024A812': 5217, '0024A813': 5218, '0024A822': 5219, '0024A840': 5220, '0024A856': 5221, '0024A860': 5222, '0024A870': 5223, '0024CM741': 5224, '0024K275': 5225, '0024K433': 5226, '0024K434': 5227, '0024K435': 5228, '0024V482': 5229, '0024V84': 5230, '004 EAC 0.38X1105 G9010 WHITE': 5231, '004-00001': 5232, '00415 NON HUILE': 5233, '005-00021': 5234, '005-00022': 5235, '005-00023': 5236, '005-00026': 5237, '005-00029': 5238, '005-00030': 5239, '005-00031': 5240, '005-10-2020-US-Konsorcjum Stali-Alusi': 5241, '00571_AVEC EMBALLAGE': 5242, '007 AA 0,4 X 1143 WHITE LINER': 5243, '007 AA 0,465X1290 WHITE LINER': 5244, '007 AA 0,66X1290 WHITE LINER': 5245, '007 AA ZMO 0,4 X 1143 WHITELIN': 5246, '007 AA ZMO 0,465X1290 WHITELIN': 5247, '008-10-2018-US': 5248, '008-10-2020-US-Konsorcjum Stali-HRC': 5249, '008-12-2018-US-Konsorcjum Stali-CRC': 5250, '01021203.': 5251, '0104/50/0104/25/1026/0,74': 5252, '01130B08': 5253, '01130C07_GENT': 5254, '01130C08': 5255, '01130F07_SESTAO': 5256, '01130F10': 5257, '01130G10_SESTAO': 5258, '01130H07': 5259, '01130H08': 5260, '01130L08': 5261, '01130Q08': 5262, '01419/08783/35/35/1000/0.62': 5263, '01419/08783/35/35/1000/0.74': 5264, '01419/08783/35/35/1240/0.74': 5265, '01419/1019/35/35/1240/0.74': 5266, '01419/9006/35/35/1240/0.62': 5267, '01419/G9006/35/35/1240/0.62': 5268, '01500 AZTEC YEL LG SOL 17294': 5269, '017-06-2019-US-Serwistal-Magnelis': 5270, '01B22T03-2': 5271, '01B27T02-1': 5272, '01B27T02.5-1': 5273, '01B27T03-1': 5274, '01B27T03.5-1': 5275, '01B27T04-1': 5276, '01B27T04-2': 5277, '01B27T05-2': 5278, '01B27T06-2': 5279, '01B27T06.35-2': 5280, '01B27T07-2': 5281, '01B38T02.5-2': 5282, '01B38T03-2': 5283, '0208A1310ZM310': 5284, '0208A1650ZM310': 5285, '0208A990Z6': 5286, '02100002349F60MED': 5287, '021000029OGF60MED': 5288, '02110002067F60': 5289, '02110002067FE1': 5290, '02110002349F60ATL': 5291, '02110002349F60MED': 5292, '02110002349FE1SID': 5293, '021200 070 STD ZM 0 0': 5294, '021250 060 EMK ZM 0 0': 5295, '021250 060 STD ZM 0 0': 5296, '021250 060 STF ZM 0 0': 5297, '021250 100 STD ZM 0 0': 5298, '021350 060 EMK ZM 0 0': 5299, '02180128466F60SES': 5300, '02280118067FI7MED': 5301, '02280118067US3ATL': 5302, '02280382349F46ATL': 5303, '02310128087F46SID': 5304, '02310128466US3BRE': 5305, '02380002908F42SID': 5306, '023800029SCF42ATL': 5307, '023801189EMUS3SID': 5308, '02420002908F42ATL': 5309, '02420002ADHF42': 5310, '024300029KWF60MED': 5311, '025-01-2019-US-Serwistal-HDG': 5312, '025101289TLF42BRE': 5313, '02550128466FI7KRA': 5314, '02570128087F73KRA': 5315, '02570128087FE1ATL': 5316, '02570128466F60AST': 5317, '02570128466F60ATL': 5318, '02570128466F60MED': 5319, '02570128466FE1ATL': 5320, '02570128466US3MED': 5321, '025701289Z7F42BRE': 5322, '02570128AFCF73KRA': 5323, '02570128AFDF73KRA': 5324, '02570128AFEF73KRA': 5325, '02890128087FI7BRE': 5326, '02900128087F46ATL': 5327, '02900128466F60AST': 5328, '02900128466F60MED': 5329, '029010989DEF60MED': 5330, '03-09-2018': 5331, '031-05-2019-US-Serwistal-CRC': 5332, '03150128087FI7BRE': 5333, '03150128A6AF73KRA': 5334, '03150128AFCF73KRA': 5335, '03150128AFDF73KRA': 5336, '03160128087FI7BRE': 5337, '03160128087FI7KRA': 5338, '03160128AFCF73KRA': 5339, '0321PI1045': 5340, '0321RS1100NUOVO': 5341, '03425/03430/35/35/1240/0.62': 5342, '03425/8012/35/35/1240/0.74': 5343, '03425/8012/35/35/1240/074': 5344, '03425/9002/25/25/1000/0.62': 5345, '03425/9002/35/35/1000/0.62': 5346, '03425/9002/35/35/1240/0.62': 5347, '03425/9002/35/35/1240/0.74': 5348, '03425/G70035/35/35/1240/0.74': 5349, '03425/G9002/35/35/1000/0.62': 5350, '03430/03425/35/35/1240/074': 5351, '03430/03432/35/35/1000/0.62': 5352, '03430/G9002/35/35/1240/062': 5353, '03431/ 9002/55/55/1240/0.74': 5354, '03431/03425/35/35/1240/0.62': 5355, '03431/03425/35/35/1240/074': 5356, '03431/07633/35/35/1240/0.74': 5357, '03431/07633/35/35/1240/074': 5358, '03431/9002/55/55/1240/074': 5359, '03432/01419/35/35/1240/0.62': 5360, '03432/01419/35/35/1240/0.74': 5361, '03432/03425/35/35/1000/0.62': 5362, '03432/03425/35/35/1000/0.74': 5363, '03432/03425/35/35/1240/0.62': 5364, '03432/03425/35/35/1240/0.74': 5365, '03432/03425/35/35/1240/062': 5366, '03432/03430/35/35/1000/0.62': 5367, '03432/03430/35/35/1240/0.62': 5368, '03432/03430/35/35/1240/0.74': 5369, '03432/08783/35/35/1240/0.74': 5370, '03432/9002/35/35/1000/0.62': 5371, '03432/9002/35/35/1240/0.62': 5372, '03432/9002/35/35/1240/0.74': 5373, '03512/9002/35/35/1240/0.62': 5374, '0351AV1045NUOVO': 5375, '0351BG1045': 5376, '0351BH1045': 5377, '0351RS1060NUOVO': 5378, '03550128466FI7KRA': 5379, '03560128466US3ATL': 5380, '035X1245A606T4': 5381, '036001289C6F35BRE': 5382, '039400029GZF42SID': 5383, '039400029STF42ATL': 5384, '039400029STF42SID': 5385, '039400029Z8F42ATL': 5386, '039400029ZLF42': 5387, '039400029ZLF42SID': 5388, '03940002A35F42ATL': 5389, '03940002A35F42SID': 5390, '03940002A6UF42ATL': 5391, '03940002A6UF42SID': 5392, '03940002A8UF42SID': 5393, '03940002AGTF42SID': 5394, '03940002AH7F42': 5395, '04010128087FI7BRE': 5396, '04010128466F60': 5397, '04010128466FI7KRA': 5398, '040101289X4FI7KRA': 5399, '040101289Z1F42BRE': 5400, '040101289ZMF42BRE': 5401, '04010128ACYF42BRE': 5402, '04140002938F42SID': 5403, '041400029Q8F42SID': 5404, '041400029Z8F42SID': 5405, '04140002A6PF43SID': 5406, '04140002AEQF42SID': 5407, '0415CH000300100000020000': 5408, '0415CH000400100000020000': 5409, '04200128089US3ATL': 5410, '04260002067US3ATL': 5411, '0431AV1045NUOVO': 5412, '0431AV1100NUOVO': 5413, '0431B41040NUOVO': 5414, '0431B41099NUOVO': 5415, '0431B41100NUOVO': 5416, '0431BG1040': 5417, '0431BG1060': 5418, '0431BG1100': 5419, '0431G51100': 5420, '0431GN1100': 5421, '0431LE1040': 5422, '0431LG1040': 5423, '0431MU1050NUOVO': 5424, '0431R21040': 5425, '0431R21100': 5426, '0431R21250': 5427, '0431RS1100NUOVO': 5428, '0431TM1100': 5429, '04380128087FI7BRE': 5430, '043810989FTF73MED': 5431, '043X1060S250GDZ100BG BF7': 5432, '043X1060S250GDZ100PW BF7': 5433, '043X1085S250GDZ100BG': 5434, '043X1085S250GDZ100PW': 5435, '043X1192S250GDZ100PW BF7': 5436, '043X1192S250GDZ200PW BF7': 5437, '043X1245S250GDZ100BG BF7': 5438, '043X1245S250GDZ100GRIGIO96': 5439, '043X1245S250GDZ100PW': 5440, '043X1245S250GDZ100PW BF7': 5441, '043X1245S250GDZ100TDM BF7': 5442, '043X1248S250GDZ100BG BF7': 5443, '045-02-2018-US-Konsorcjum Stali': 5444, '0451160.UO.NTR.PAC SMALL CW': 5445, '0451170.UO.TR.PAC SMALL CW': 5446, '0451180.UO.NTR.PAC SMALL CW': 5447, '0451AV1100NUOVO': 5448, '0451BG1100': 5449, '0451GN1100': 5450, '0451GN1100HD275': 5451, '0451GX1100275': 5452, '0451PI1100HDX55': 5453, '0451RS1100NUOVO': 5454, '0451TM1100HD275': 5455, '045900.UO.TR.PAC': 5456, '045HTG1100': 5457, '0481BG1100': 5458, '04A1/55/04A1/35/1026/0.75': 5459, '05.03..2021': 5460, '050592-RAINHDS-Z275-RAL6005': 5461, '05151.0050.1040': 5462, '05151.0080.1360': 5463, '05477/05481/35/35/1000/0.74': 5464, '05477/05481/35/35/1000X/0.62': 5465, '05477/05481/35/35/1240/0.74': 5466, '05477/05481/35/35/1240/062': 5467, '05477/06660/35/35/1240/0.74': 5468, '05477/9002/35/35/1240/0.74': 5469, '05477/G9002/35/35/1240/0.74': 5470, '05481/05477/35/35/1000/062': 5471, '05481/05477/35/35/1240/0.74': 5472, '05481/05477/35/35/1240/074': 5473, '05481/19793/35/35/1240/0.62': 5474, '05481/5014/35/35/1240/0.74': 5475, '05481/5014/35/35/1240/074': 5476, '05481/9002/35/35/1000/0,62': 5477, '05481/9002/35/35/1000/062': 5478, '05481/9002/35/35/1240/0.74': 5479, '05481/9002/35/35/1240/062': 5480, '05481/9002/35/35/1240/074': 5481, '05481/9002/35/35/1240X0,62': 5482, '05481/9006/35/35/1240/0.62': 5483, '05482/05477/35/35/1000/0,62': 5484, '05482/05477/35/35/1240/0,62': 5485, '05482/05477/35/35/1240/0.62': 5486, '05482/05481/35/35/1240/0,62': 5487, '05483/05483/35/35/1000/0.62': 5488, '05483/19793/35/35/1000/062': 5489, '0551B41040': 5490, '0551B41060275': 5491, '0551B41095HDX55': 5492, '0551B4110055275': 5493, '0551B41100NUOVO': 5494, '0551B41250275': 5495, '0551B81100NUOVO': 5496, '0551BG1040': 5497, '0551BG1050': 5498, '0551BG1100': 5499, '0551GA1100': 5500, '0551GE1100NUOVO': 5501, '0551GN1100': 5502, '0551GN1100HD275': 5503, '0551GN1150275': 5504, '0551GN1250Z275': 5505, '0551GX1100NUOVO': 5506, '0551MU1100NUOVO': 5507, '0551NS1100': 5508, '0551PI1050': 5509, '0551R1060Z275': 5510, '0551R21050': 5511, '0551RF1100': 5512, '0551RS1100': 5513, '0551RS1100NUOVO': 5514, '0551TM1100': 5515, '0551TM1100HD275': 5516, '05551 N 0.65X1220 CORNFLOWER': 5517, '05586/G9002/35/35/1240/062': 5518, '055HTG1100': 5519, '055LZM1250ZM310': 5520, '055X1060S250GDZ100BG BF7': 5521, '055X1060S250GDZ100PW': 5522, '055X1060S250GDZ100PW BF7': 5523, '055X1085S250GDZ100BG': 5524, '055X1125A606T4': 5525, '055X1125S250GDZ100WA': 5526, '055X1215S250GDZ100BG BF7': 5527, '055X1215S250GDZ100PW BF7': 5528, '055X1245S250GDZ100BG': 5529, '055X1245S250GDZ100BG BF7': 5530, '055X1245S250GDZ100OR': 5531, '055X1245S250GDZ100PW BF7': 5532, '06300150499F42SID': 5533, '0651BG1250': 5534, '06590096128FI7EKO': 5535, '06590509128FI7EKO': 5536, '06630097128FI7SID': 5537, '06657 GSTD 0.45X1220 JUNIPER': 5538, '06657 GSTD 0.63X1220 JUNIPER': 5539, '06660/05477/35/35/1240/0.62': 5540, '06660/05477/35/35/1240/0.74': 5541, '06660/05481/35/35/1240/0.74': 5542, '06660/G9010/35/35/1000/0,62': 5543, '06660/G9010/35/35/1000/0.74': 5544, '06663 GSTD 0.45X1220 OLIVE': 5545, '06663 GSTD 0.63X1220 OLIVE': 5546, '06665/06666/35/35/1000/0,62': 5547, '06665/06666/35/35/1240/0.74': 5548, '06665/06775/35/35/1240/0.62': 5549, '06665/06775/35/35/1240/0.74': 5550, '06665/9002/35/35/1240/0.62': 5551, '06665/9002/35/35/1240/0.74': 5552, '06665/9002/35/35/1240/074': 5553, '06667/06668/35/35/1000/0,62': 5554, '06667/06668/35/35/1240/0.74': 5555, '06668/06669/35/35/1000/0,62': 5556, '06668/06669/35/35/1000/0.74': 5557, '06668/06669/35/35/1240/0.62': 5558, '06668/06669/35/35/1240/0.74': 5559, '06668/17100/35/35/1240/0.74': 5560, '06668/9002/35/35/1240/0.62': 5561, '06668/9002/35/35/1240/0.74': 5562, '06668/G9002/35/35/1240/0.74': 5563, '06669/06775/35/35/1240/0.62': 5564, '06669/06775/35/35/1240/0.74': 5565, '06669/9002/35/35/1000/0.74': 5566, '06669/9002/35/35/1000/062': 5567, '06669/G9002/35/35/1000/0.62': 5568, '06741*SPE*0.595X1164 EMERALD': 5569, '06775/06665/35/35/1000/0.62': 5570, '06775/06665/35/35/1240/0.74': 5571, '06775/06669/35/35/1000/062': 5572, '06775/06669/35/35/1240/0.62': 5573, '06775/06669/35/35/1240/0.74': 5574, '06775/7035/35/35/1240/0.62': 5575, '06854/G9002/35/35/1000/062': 5576, '06870097128FI7EKO': 5577, '06870840311F60SAG': 5578, '06890150992US3CSA': 5579, '06950150311F42SID': 5580, '06950150499F42SID': 5581, '069501509D7F42SID': 5582, '06950150AICF42BRE': 5583, '06950150AICF42SID': 5584, '06950204311US3SID': 5585, '06950245311F60SAG': 5586, '06950840311F60SAG': 5587, '069600949IUF42BRE': 5588, '06960097311FI7KRA': 5589, '06960150128US3LOR': 5590, '06960725311F35LOR': 5591, '06960840311F60SAG': 5592, '07.01': 5593, '0700/2.00/388.0': 5594, '0700/3.50/436.0': 5595, '07000840311F60SAG': 5596, '07010097AI3US3LOR': 5597, '0711IS1500': 5598, '0719110199TF35LOR': 5599, '071965/001_': 5600, '072046/001_': 5601, '072046/002_': 5602, '072046/005_': 5603, '0724228199NF16LOR': 5604, '07280150128US3LOR': 5605, '07280840311F60SAG': 5606, '07380578A28F14CSA': 5607, '07380578A28F14SID': 5608, '073X1060S250GDZ100BG': 5609, '0751B41050': 5610, '0751BG1100': 5611, '0751GN1065NUOVO': 5612, '0751GN1150NUOVO': 5613, '0751GN1250NUOVO': 5614, '0751PI1100': 5615, '0751RS1100NUOVO': 5616, '0751TM1100': 5617, '075BG1248': 5618, '07616 HDX 0.65X1220 RAL 7000': 5619, '07617 HDX 0.65X1220 ANTHRACITE': 5620, '07617 HDX 0.65X1220 RAL 7016': 5621, '07617 HDX 0.65X1250 RAL 7016': 5622, '07618 HDX 0.65X1220 RAL 7012': 5623, '07618 HDX 0.65X1250 RAL 7012': 5624, '07633/03431/35/35/1000/062': 5625, '07633/03431/35/35/1240/0.62': 5626, '07633/03431/35/35/1240/062': 5627, '07633/9002/35/35/1240/062': 5628, '07633/9005/35/35/1240/0.74': 5629, '078789-HDX-ZA265-RAL7024': 5630, '079457-HDGRAINED-ZA265-RR32': 5631, '080 ENG WH EST FLEX Z140 B7032': 5632, '08292/200/1250/0.50': 5633, '0841IS1500': 5634, '084866-HDGRAINED-ZA265-RAL7024': 5635, '08682/200/1250/0.50': 5636, '08783/01419/35/35/1240/0.62': 5637, '08783/01419/35/35/1240/0.74': 5638, '08783/3020/35/35/1240/0.74': 5639, '08783/9002/35/35/1240/0.74': 5640, '08784 GSTD 0.45X1220 VAN DYKE': 5641, '091C12-1009X0.63': 5642, '091C12-1040X0.75': 5643, '091C12-1054X0.63': 5644, '091C12-1054X0.75': 5645, '091C12-1064X0.63': 5646, '091C12-1070X0.63': 5647, '091C12-1070X0.75': 5648, '091C12-1070X0.85': 5649, '091C12-1084X0.63': 5650, '091C12-1084X0.75': 5651, '091C12-1100X0.63': 5652, '091C12-1100X0.75': 5653, '091C12-1100X0.85': 5654, '091C12-1113X0.63': 5655, '091C12-1113X0.75': 5656, '091C12-1139X0.58': 5657, '091C12-1148X0.68': 5658, '091C12-1148X0.78': 5659, '091C12-1154X0.63': 5660, '091C12-1170X0.63': 5661, '091C12-1170X0.75': 5662, '091C12-1200X0.63': 5663, '091C12-1213X0.63': 5664, '091C12-1254X0.63': 5665, '091C12-1254X0.75': 5666, '091C12-1270X0.63': 5667, '091C12-1270X0.75': 5668, '091C12-1270X0.85': 5669, '091C12-1310X0.75': 5670, '091C12-1312X0.75': 5671, '091C12-1313X0.75': 5672, '091C12-1320X0.63': 5673, '091C12-1320X0.75': 5674, '091C12-1350X0.63': 5675, '091C12-1350X0.75': 5676, '091C12-1422X0.75': 5677, '091C12-1513X0.63': 5678, '091C12-739X0.58': 5679, '091C12-748X0.78': 5680, '091C12-839X0.58': 5681, '091C12-848X0.68': 5682, '091C12-854X0.63': 5683, '091C12-870X0.63': 5684, '091C12-900X0.63': 5685, '091C12-939X0.58': 5686, '091C12-948X0.68': 5687, '091C12-948X0.78': 5688, '091C12-954X0.63': 5689, '091C12-970X0.63': 5690, '091C12-970X0.75': 5691, '091C12-970X0.78': 5692, '091C12-SPECX0.63': 5693, '091C13-1168X0.63': 5694, '091C13-968X0.63': 5695, '091C32-1009X0.63': 5696, '091C32-1278X0.85': 5697, '091C32-779X0.63': 5698, '091C32-879X0.63': 5699, '09500002AGXF42ATL': 5700, '09500002AGXF42SID': 5701, '099 SP 930X0,56': 5702, '0B220061220': 5703, '0B230061220': 5704, '0B340081140': 5705, '0B340100905': 5706, '0B340101140': 5707, '0B340120905': 5708, '0B340121140': 5709, '0B340150905': 5710, '0B340151140': 5711, '0B340170905': 5712, '0B340171140': 5713, '0B340200905': 5714, '0B340201140': 5715, '0B340220905': 5716, '0B340221140': 5717, '0B340250905': 5718, '0B340251140': 5719, '0B340270905': 5720, '0B340271140': 5721, '0B340300905': 5722, '0B360081140': 5723, '0B360121140': 5724, '0B360151000': 5725, '0B360151140': 5726, '0B360171140': 5727, '0B360301000': 5728, '0B360301140': 5729, '0R330150870': 5730, '0R330200870': 5731, '0R330300870': 5732, '0W00054': 5733, '1,00X1000': 5734, '1,00X1215 DC01 NET MAX 7T KR': 5735, '1,00X1220 HC180 MAX7T FCE': 5736, '1,06X1215 DC01 NET MAX 7T KR': 5737, '1,06X1220 HC180 NET MAX 7T EKO': 5738, '1,0X1000MM DX51D Z275 MAC': 5739, '1,0X1250MM DX51D Z275 MAC': 5740, '1,0X1250MM GRANITE STD FOIL': 5741, '1,0X1250MM RAL9010 WITH FOIL': 5742, '1,16X1220 HC180 MAX7T FCE': 5743, '1,16X910 DC01 NET MAX 7 KR': 5744, '1,2X1250MM DX51D Z275 MAC': 5745, '1,40X1250 DC05EK-B(SIDMAR)': 5746, '1,4X1300 DC05EK-B(SIDMAR)': 5747, '1,5 MM ZM 350': 5748, '1,5 MM ZM430': 5749, '1,5X1000MM DX51D Z275 MAC': 5750, '1,5X1250MM DX51D Z275 MAC': 5751, '1,5X1325 DC05EK-B(SIDMAR)': 5752, '1,5X1500MM DX51D Z275 MAC': 5753, '1,6 X 660 22MNB5 DKP': 5754, '1,6X1400 DC05EK-B(SIDMAR)': 5755, '1.00X1248 HDX 07618 SLATE GREY': 5756, '1.0X1000_MIN': 5757, '1.0X1150_MIN': 5758, '1.0X1230_MIN': 5759, '1.0X1250_MIN': 5760, '1.15X1000 KORATAC FL104 ADHES': 5761, '1.15X1248 N N6115 JUNIPERGREEN': 5762, '1.15X1248 N N7954 GOOSEWING': 5763, '1.15X1250 KORATAC FL104 ADHES': 5764, '1.15X1475 KORATAC FL104 ADHES': 5765, '1.16X1215 NET NOL KRA': 5766, '1.25X1250_MIN': 5767, '1.25X1250_NORM': 5768, '1.2X1310': 5769, '1.2X870': 5770, '1.42X1250_MIN': 5771, '1.45X1248 HDX 19532 SILVER': 5772, '1.45X1248 N N6115 JUNIPERGREEN': 5773, '1.45X1248 N N8711 VANDYKEBROWN': 5774, '1.45X1250 KORATAC FL104 ADHES': 5775, '1.45X1250 N N8711 VANDYKEBROWN': 5776, '1.45X1475 KORATAC FL104 ADHES': 5777, '1.4X1180': 5778, '1.4X1250 M': 5779, '1.4X1250_MIN': 5780, '1.4X1250_NORM': 5781, '1.5/692/s320/25/7': 5782, '1.5/980/S320/Z225/6011': 5783, '1.5X1250_MIN': 5784, '1.5X1255_MIN': 5785, '1.6X1240': 5786, '1.70X1175_NORM': 5787, '1.70X1250_MIN': 5788, '1.70X1250_NORM': 5789, '1.7X1175_MIN': 5790, '1.7X1250_MIN': 5791, '1.7X1280_MIN': 5792, '1.8974': 5793, '1.90X1250_MIN': 5794, '1.90X1250_SWI': 5795, '1.92X1250_MIN': 5796, '1.92X1250_NORM': 5797, '1.9X1250_MIN': 5798, '1.9X1250_NORM': 5799, '1/987/S320/Z225/6011': 5800, '10-10-000913': 5801, '10-10-000926': 5802, '10-10-000927': 5803, '10-10-001082': 5804, '1000/3.20/409.0': 5805, '1001/25/9010/25/1220/0.75': 5806, '1001GAL1.65': 5807, '1001GAL2.00': 5808, '1001GAL2.50': 5809, '1001GAL2.70': 5810, '1001GAL3.00': 5811, '100405 0,6/1233/RAL9002': 5812, '100X1170S250GDZ100PW': 5813, '101-050-905': 5814, '101-070-1074': 5815, '101-070-1082': 5816, '101-080-1082': 5817, '101001251250XL': 5818, '1013/25/9010/25/1220/0.63': 5819, '1015/17/996/0.50': 5820, '1015/25/1220/0.62': 5821, '1015/5008/35/25/1220/0.62': 5822, '1015/GHDX': 5823, '1015MAGNE4': 5824, '10179718 FORSTER': 5825, '1019/25/1220/0.55': 5826, '1019/25/1220/0.74': 5827, '102-050-1092': 5828, '102-050-810': 5829, '102-060-1093-5': 5830, '102-070-1074': 5831, '102-070-1082': 5832, '102-080-1082': 5833, '102042_BODYWORK TRUCKS': 5834, '1020MAGNE4': 5835, '1020MAGNE5': 5836, '1020ZM1205': 5837, '1022 DC01': 5838, '1022 HC180CA': 5839, '1022 HC300LA NORM ROUGHN': 5840, '1024 HC180CA': 5841, '1024 HC180CS': 5842, '10242083_GF': 5843, '1035/35/1035/35/1026/0.75': 5844, '10352865_GF': 5845, '104003001000XL': 5846, '104069HXXX': 5847, '104077HXXX': 5848, '1040912.O.TR.NPAC': 5849, '1041132.O.TR.NPAC': 5850, '1041175.O.TR.NPAC': 5851, '1041222 HC260LA NOPACK': 5852, '104246 30 MNB 5': 5853, '104246 C67S': 5854, '104246 C67S A W': 5855, '104246 S355J2+N-CL1': 5856, '1049 HC180CS': 5857, '104966.O.TR.NPAC': 5858, '105/06/20/RBB': 5859, '105414HXXX': 5860, '1057615/TEARDROP': 5861, '1057625/TEARDROP': 5862, '1057715/TEARDROP': 5863, '1057725/TEARDROP': 5864, '1057730/TEARDROP': 5865, '1065AAPMM00559010063': 5866, '107 WHITE CC EST MAT B7032': 5867, '1073EASYE920': 5868, '107758HXXX': 5869, '109/06/20/RBB': 5870, '11-100004': 5871, '11-100011': 5872, '11-100013': 5873, '11-100014': 5874, '11-100015': 5875, '11-100016': 5876, '11-100017': 5877, '11-100027': 5878, '11-100028': 5879, '11-100030': 5880, '11-100031': 5881, '11-100032': 5882, '11-100033': 5883, '11-100034': 5884, '11-100035': 5885, '11-100040': 5886, '11-100041': 5887, '11-100042': 5888, '11-100044': 5889, '11-100046': 5890, '11-100052': 5891, '11-100053': 5892, '11-100054': 5893, '11-100055': 5894, '11-100057': 5895, '11-100070': 5896, '11-100071': 5897, '11-110025': 5898, '11-110027': 5899, '11-120001': 5900, '110/06/20/RBB': 5901, '1100009151-CL3 CERT3.1': 5902, '1100009154-CL3 CERT 3.1': 5903, '1100009668-CL3 CERT 3.1': 5904, '1100009669-CL3 CERT 3.1': 5905, '1100009700-CL3 CERT 3.1': 5906, '1100009701-CL3 CERT3.1': 5907, '1100009702-CL3 CERT3.1': 5908, '1100009703-CL3 CERT 3.1': 5909, '1100009704-CL3 CERT 3.1': 5910, '1100009706-CL3 CERT3.1': 5911, '1100009707-CL3 CERT 3.1': 5912, '1100009708-CL3 CERT 3.1': 5913, '1100009709-CL3 CERT3.1': 5914, '1100010524-CL3 CERT 3.1': 5915, '1100013396-CL3 3.1 CERT': 5916, '1100013397-CL3 CERT 3.1': 5917, '1100015983-CL3 CERT 3.1': 5918, '1100016225 -CL3': 5919, '1100016235-CL3': 5920, '11030097311FI7SID': 5921, '11030840128F60SAG': 5922, '11030840311F60SAG': 5923, '110308409IEF60SAG': 5924, '11109006T5': 5925, '11109016EF4': 5926, '11109016T5': 5927, '1110DF8807F5': 5928, '1110DF9010F5_OMIA': 5929, '1110OPAL4': 5930, '1110OPAL5': 5931, '1110PET551': 5932, '111103HXXX': 5933, '11155986T5': 5934, '11159006T5': 5935, '11159016T5': 5936, '1115DF8807F5': 5937, '1115DF90054': 5938, '1115DF9010F5_OMIA': 5939, '1115OPAL5': 5940, '1115PRIM4': 5941, '1116580-20': 5942, '111668HXXX': 5943, '1124 HC300LA NORM ROUGHN': 5944, '112745HXXX': 5945, '112748HXXX': 5946, '112749HXXX': 5947, '113096HXXX': 5948, '11370118349F60MED': 5949, '114782HXXX': 5950, '114783HXXX': 5951, '115/07/20/RBB': 5952, '1160PET553': 5953, '116368BB3': 5954, '11639016T3': 5955, '117/07/Ekoinstal': 5956, '1174909 JETSKIN': 5957, '1174960 JETSKIN': 5958, '1174979 JETSKIN': 5959, '11757016T968': 5960, '11759005Z1005': 5961, '11759016EF3': 5962, '1175DF9010F3': 5963, '1175OPAL3': 5964, '1175OPAL5': 5965, '1175OPALT968': 5966, '1175PRIM3': 5967, '1175PRIM5': 5968, '1175PRIM968': 5969, '118.1158,0.160.00': 5970, '118.1170,0.150.00': 5971, '118.1260,0.250.00': 5972, '118.1290,0.200.00': 5973, '118.1300,0.160.00': 5974, '1180LFSB': 5975, '1180LFSE': 5976, '1180LFSG': 5977, '1180UFSB': 5978, '119.0970,0.150.00': 5979, '119.1160,0.160.00': 5980, '119.1175,0.160.00': 5981, '119.1185,0.150.00': 5982, '119.1215,0.150.00': 5983, '119.1280,0.242.00': 5984, '119.1290,0.250.00': 5985, '119.1310,0.200.00': 5986, '119.1316,0.160.00': 5987, '11907024TGT4': 5988, '11907024TGT5': 5989, '11AE1000050': 5990, '12-100': 5991, '12-103010': 5992, '12-104010': 5993, '12-105010': 5994, '12-106010': 5995, '12-106020': 5996, '12-106035': 5997, '12-106040': 5998, '12-106510': 5999, '12-106520': 6000, '12-107020': 6001, '12-107510': 6002, '12-108020': 6003, '12-108510': 6004, '12-111510': 6005, '12-112510': 6006, '12-115510': 6007, '12-116510': 6008, '12-117510': 6009, '12-118510': 6010, '12-142': 6011, '12-150': 6012, '120-125': 6013, '120.1200,0.325.00': 6014, '120.1303,0.0.400.00': 6015, '120.1309,0.200.00': 6016, '120.1315,0.325.00 TENNECO': 6017, '120.1318,0.275.00': 6018, '120.1320,0.250.00': 6019, '120.1325,0.275.00': 6020, '120.1330,0.220.00': 6021, '120.1335,0.200.00': 6022, '120.1335,0.220.00': 6023, '120/07/20/RBB': 6024, '1200/5.00/428.0': 6025, '1201IS1500': 6026, '120220005701.': 6027, '120220005800 1.4 DRYLUB': 6028, '120220005801.': 6029, '120220007300.': 6030, '120230001200.': 6031, '120370HXXX': 6032, '120371HXXX': 6033, '120372HXXX': 6034, '120373HXXX': 6035, '120374HXXX': 6036, '120375HXXX': 6037, '120376HXXX': 6038, '120377HXXX': 6039, '120378HXXX': 6040, '120379HXXX': 6041, '120380HXXX': 6042, '120381HXXX': 6043, '120382HXXX': 6044, '120383HXXX': 6045, '120384HXXX': 6046, '120385HXXX': 6047, '120386HXXX': 6048, '120387HXXX': 6049, '120388HXXX': 6050, '120389HXXX': 6051, '120390HXXX': 6052, '120391HXXX': 6053, '120428HXXX': 6054, '121.1210,0.150.00': 6055, '121.1270,0.250.00': 6056, '121.1325,0.220.00': 6057, '121.1330,0.175.00': 6058, '121.1350,0.500.00': 6059, '121.1393,0.350.00': 6060, '121.1398,0.300.00': 6061, '121.1405,0.200.00': 6062, '121.1415,0.350.00': 6063, '121.1435,0.275.00': 6064, '121039HXXX': 6065, '12112000070W0-101RE': 6066, '12112500070W0-101RE': 6067, '12114000070W0-101RE': 6068, '121222HXXX': 6069, '12122B0002': 6070, '12122B0006': 6071, '12122B0014': 6072, '12122B0018': 6073, '12122F0071': 6074, '12122F0074': 6075, '12122P0011': 6076, '12122P0025': 6077, '12123T0001': 6078, '12123T0003': 6079, '12124B0001': 6080, '121883HXXX GAMME LIGHT': 6081, '121884HXXX': 6082, '12190245311US3': 6083, '122.1300,0.450.00': 6084, '122.1316,0.300.00': 6085, '122.1330,0.500.00': 6086, '122.1402,0.375.00': 6087, '122.1448,0.250.00': 6088, '122.1495,0.500.00': 6089, '1220/0.75/S320/Z140': 6090, '1220/0.75/S320/Z275': 6091, '12200840311F60': 6092, '122082HXXX': 6093, '12211F0032': 6094, '12211J0001': 6095, '12211Q0016': 6096, '12211R0005': 6097, '12211R0012': 6098, '12211R0018': 6099, '12211U0002': 6100, '12211U0010': 6101, '12211U0014': 6102, '12211U0018': 6103, '1222 HC180CA': 6104, '1222 HC300LA NORM ROUGHN': 6105, '1224 HC180CS': 6106, '122700HXXX': 6107, '122701HXXX': 6108, '122702HXXX': 6109, '122703HXXX': 6110, '12312000070W2-101RE': 6111, '1232/ASTD/FILM': 6112, '1234 DC01': 6113, '1234 HC180CA': 6114, '1234 HC300LA NORM ROUGHN': 6115, '1235JRANTL34G': 6116, '1235JRCBLNTU34B': 6117, '1235JRCETU34B': 6118, '1235JRCETU34G': 6119, '1235JRCNTL34B': 6120, '1235JRCNTU34B': 6121, '1235JRCNTU34G': 6122, '1235JRCNTV34B': 6123, '1235JRCNTV34G': 6124, '124.1106,0.150.00': 6125, '1246 HC180CA': 6126, '1246 HC300LA NORM ROUGHN': 6127, '12482000070W0-101RE': 6128, '12482500070W0-101RE': 6129, '12483500070W0-101RE': 6130, '12484500070W0-101RE': 6131, '1249 HC180CS': 6132, '125 AA 0,32X1064 LIGHTGREY': 6133, '125 AA ZMO 0,32X1064 LIGHTGREY': 6134, '1250/0.74/S320/Z180': 6135, '12501022.O.TR.NPAC': 6136, '12501134.O.TR.NPAC': 6137, '1250AFPMM00559002060': 6138, '1250AFPMM00559010050': 6139, '12601234.O.TR.NPAC': 6140, '1260A100L6FSL': 6141, '1260B100L6FSA': 6142, '1260B100L6FSL': 6143, '1260LALFSG': 6144, '1264 DC01 A W': 6145, '1264 DX52D A W': 6146, '1264 HCT780X A W': 6147, '1264 S220GD A W': 6148, '1264 S350GD A W': 6149, '1275JRCNTU34G': 6150, '1275X1.50_LIE': 6151, '128/07/20': 6152, '1280/ASTD/FILM': 6153, '129 BLANC': 6154, '129 WHITE EST MAT 129 WHITE': 6155, '129 WHITE EST MAT B7032': 6156, '1299X2,15 S235Q1': 6157, '1300 HC180CS': 6158, '1300A275P6FSA': 6159, '1300A275P6FSG': 6160, '130614939B2F60HEA': 6161, '130621509G0F98CSA': 6162, '130621549G0F98CSA': 6163, '130623349B2F60HEA': 6164, '13062469238US3ATL': 6165, '130625049B2F60HEA': 6166, '130626069B2F60ATL': 6167, '13062881238US3CSA': 6168, '13062950238F40CSA': 6169, '13062980950F40SID': 6170, '130631279B2F40CSA': 6171, '130631349B2FI7SID': 6172, '130631529B2FI7EKO': 6173, '130631999B2F60': 6174, '130925939B2F60HEA': 6175, '130928209B2F60HEA': 6176, '13092896AAOF40CSA': 6177, '13092921AAOF40CSA': 6178, '130931419B2F60HEA': 6179, '131027359B2FI7SWI': 6180, '131027369B2FI7SWI': 6181, '131027389B2FI7SWI': 6182, '131027579B2FI7SWI': 6183, '13102981950F40SID': 6184, '131030089B2FI7EKO': 6185, '131030109B2FI7EKO': 6186, '131030119B2FI7EKO': 6187, '131030949V1F40CSA': 6188, '131031879B2FI7EKO': 6189, '131031889B2FI7EKO': 6190, '131031899B2FI7EKO': 6191, '131031909B2FI7EKO': 6192, '131031919B2FI7EKO': 6193, '131031929B2FI7EKO': 6194, '131031939B2FI7EKO': 6195, '131031949B2FI7EKO': 6196, '13120476238US3CSA': 6197, '13120477238US3CSA': 6198, '13121214238US3ATL': 6199, '13121253238US3ATL': 6200, '131219049B2FI7SWI': 6201, '131220549B2FI7SWI': 6202, '131220559B2FI7SWI': 6203, '131220589B2FI7SWI': 6204, '131220649B2FI7SWI': 6205, '131220659B2FI7SWI': 6206, '13122066238FI7SWI': 6207, '131220669B2FI7SWI': 6208, '131220679B2FI7SWI': 6209, '131220729B2FI7SWI': 6210, '131220739B2FI7SWI': 6211, '131220759B2FI7SWI': 6212, '131220769B2FI7SWI': 6213, '131220779B2FI7SWI': 6214, '131220849B2FI7SWI': 6215, '131220939B2FI7SWI': 6216, '131220999B2FI7SWI': 6217, '131221269B2F60HEA': 6218, '131221999B2FI7SWI': 6219, '131222099B2FI7SWI': 6220, '131222869B2FI7SWI': 6221, '131223569B2F60ATL': 6222, '131223759B2FI7SWI': 6223, '131224559B2FI7SWI': 6224, '131226329B2FI7SWI': 6225, '131226569B2FI7SWI': 6226, '131227479B2FI7SWI': 6227, '131229079B2FI7SWI': 6228, '131231479B2F60HEA': 6229, '131231609B2FI7SWI': 6230, '131231619B2FI7SWI': 6231, '131231629B2FI7SWI': 6232, '131231669B2FI7SWI': 6233, '131231679B2FI7SWI': 6234, '131231689B2FI7SWI': 6235, '131232009B2FI7SWI': 6236, '132601289TQF42BRE': 6237, '1340A100L6FSA': 6238, '1340A100L6FSB': 6239, '1340A100P6VAL10A': 6240, '1340A250PFSL': 6241, '1340A275P6FSA': 6242, '1340A275P6FSG': 6243, '1340A275P6FSL': 6244, '1340B100L6FSL': 6245, '1340B100P6FSB': 6246, '1340B100P6FSL': 6247, '1340X3_SWB': 6248, '13560128087F73BRE': 6249, '13560128087FI7': 6250, '13560128087FI7BRE': 6251, '135900029GSF16EKO': 6252, '13690840311F60SAG': 6253, '137.1288,0.350.00': 6254, '138/08/20-Tesko': 6255, '1383X2,15 S235Q1': 6256, '13S250A310PFSB': 6257, '13S250A310PFSL': 6258, '14.10.2020': 6259, '140/08/20/RBB': 6260, '141.1195,0.150.00': 6261, '141.1220,0.200.00': 6262, '141.1225,0.160.00': 6263, '141.1230,0.160.00': 6264, '141.1242,0.475.00': 6265, '141.1242,0.510.00': 6266, '141.1246,0.510.00': 6267, '141.1275,0.450.00': 6268, '141.1295,0.220.00': 6269, '141.1296,0.220.00': 6270, '141.1300,0.175.00': 6271, '141.1300,0.300.00': 6272, '141.1329,0.220.00': 6273, '141.1360,0.600.00': 6274, '141.1370,0.550.00': 6275, '141.1385,0.350.00': 6276, '141.1425,0.450.00': 6277, '141.1428,0.220.00': 6278, '141.1442,0.250.00': 6279, '141.1505,0.300.00': 6280, '141.1538,0.250.00': 6281, '141/08/20/RBB': 6282, '14180LFSE': 6283, '142/08/20-Tesko': 6284, '1420A100P6FSL': 6285, '1420A275P6HHA': 6286, '1420A275P6HHG': 6287, '1420A310PFSL': 6288, '1420A310PHHL': 6289, '1420B100L6FSL': 6290, '1420LALVALG': 6291, '1422 DC01': 6292, '1422 HC180CA': 6293, '1422 HC300LA NORM ROUGHN': 6294, '143/08/20/INSBUD': 6295, '1430X3_SWB_AMSTRONG': 6296, '14310002067F16EKO': 6297, '1435 HC180CA': 6298, '1437 HC180CA': 6299, '1439 205 08': 6300, '14480750AETF14ATL': 6301, '14480848351F40ATL': 6302, '1460A310PFSL': 6303, '1460B310PHHB': 6304, '1460LALFSG': 6305, '14960052269US3LOR': 6306, '14980726363F35CSA': 6307, '14980726363F35SID': 6308, '149807269BUF35CSA': 6309, '149807269BWF35CSA': 6310, '14990161102F16GAL': 6311, '14990161363F42CSA': 6312, '14990161363F42GAL': 6313, '14990161363US3CSA': 6314, '14990161363US3GAL': 6315, '14X1250 S235JR+AR': 6316, '15%/3000/35/1268/0.97': 6317, '15%/3003/35/1268/0.97': 6318, '15%/7016/7032/35/5/615/1.50': 6319, '15%/7016/7032/35/5/715/1.5': 6320, '15%/7022/7032/35/5/615/1.50': 6321, '15%/7042/35/1268/0.97': 6322, '15%/9005/7035/35/35/715/1.5': 6323, '15%/9006/35/1268/0.97': 6324, '15%/9007/35/1268/0.97': 6325, '15%/9007/7032/35/5/615/1.50': 6326, '15%/9007/7032/35/5/715/1.50': 6327, '15%/9010/7032/35/5/715/1.5': 6328, '15%DM/7016/7032/35/5/1220/0.74': 6329, '150/09/Elektrometal': 6330, '1500-0810-3001950': 6331, '15010161A71US3CSA': 6332, '150207269BWF35CSA': 6333, '1515X2,55 S235Q1': 6334, '152/09/20/RBB': 6335, '15200433351F60AST': 6336, '15200750AETF14ATL': 6337, '15230007351F42CSA': 6338, '15230007351F43CSA': 6339, '15230007351US3CSA': 6340, '15230007932US3CSA': 6341, '152300079QXF42BRE': 6342, '152300129I7F42BRE': 6343, '15230013351F42ATL': 6344, '15230379351F35': 6345, '15230433037FI7': 6346, '155/09/20/RBB': 6347, '1550HPA600P6FSB': 6348, '1550HPA600P6HHB': 6349, '1550HPA600P6HHL': 6350, '157/09/20/ELEKTROMETAL': 6351, '15790840311F60SAG': 6352, '158807509IOF14SID': 6353, '15MY 9002': 6354, '160/10/20-Tesko': 6355, '1600.1004.30': 6356, '1600.1007.30': 6357, '1600.1512.30': 6358, '1600.1513.30': 6359, '1600.1519.30': 6360, '1600.1520.30': 6361, '1600.1521.30': 6362, '1600.1525.30': 6363, '1600.1527.30': 6364, '1600.1529.30': 6365, '1600.1530.30': 6366, '1600.1546.30': 6367, '1600.1547.30': 6368, '1600.1550.30': 6369, '1600.1551.30': 6370, '1600.1552.30': 6371, '1600.1553.30': 6372, '1600.1555.30': 6373, '1600.1558.30': 6374, '1600.1574.30': 6375, '1600XA100L6FSB': 6376, '1600XA100P6FSB': 6377, '1600XA100P6FSG': 6378, '16040727269F35GAL': 6379, '161/10/20/Ekoinstal': 6380, '1610STAH': 6381, '16110727269F35GAL': 6382, '16110727269F35LOR': 6383, '161107279BTF35GAL': 6384, '16180UFSB': 6385, '162/10/20/RBB': 6386, '162100 A9002': 6387, '162100 G7016': 6388, '162100 G8012': 6389, '162100 G9002': 6390, '162100 G9006': 6391, '162100 G9007': 6392, '163/10/20 - Ekoinstal': 6393, '164/10/20/RBB': 6394, '16470727013F35GAL': 6395, '16510727013F35GAL': 6396, '16520727269F35LOR': 6397, '165909619EDF46SID': 6398, '167/10/20/RBB': 6399, '168/10/20/RBB': 6400, '16MNCR5-26673': 6401, '16MO3': 6402, '16MO3 KLV-NR. 1: R2': 6403, '16S220A600P6FSB': 6404, '17/01/21-Ekoinstal': 6405, '170.800': 6406, '170.950': 6407, '170.980': 6408, '17053 GSTD 0.45X1220 MERLIN': 6409, '17053 GSTD 0.63X1220 MERLIN': 6410, '17090002A5QF14': 6411, '17105/9002/35/35/1240/0.62': 6412, '17146/9002/35/35/1240/0.62': 6413, '172/10/20/RBB': 6414, '17200748351F60': 6415, '17268/17323/35/35/1240/0.74': 6416, '17294 GREY DOUBLE SIDED': 6417, '17323/17268/35/35/1240/0.74': 6418, '17348 GOOSEWING GREY HDX B7032': 6419, '17348 GOOSWING GREY HDX': 6420, '173903799D3F46BRE': 6421, '174/10/20/Tesko': 6422, '175/10/20/Tesko': 6423, '176 WHTE CCS EST CASA 404 GOLD': 6424, '17721458238US3ATL': 6425, '17740555422US3ATL': 6426, '17740558422US3ATL': 6427, '17742212238US3CSA': 6428, '17742763238US3CSA': 6429, '17742891238F40SID': 6430, '17770379351F35ATL': 6431, '17780506238US3ATL': 6432, '17780548238US3ATL': 6433, '17782928238US3ATL': 6434, '17790244037US3ATL': 6435, '1780XB100O6FSG': 6436, '179/10/20 - Elektrometal': 6437, '17950433351F60AST': 6438, '17952022351F60BRE': 6439, '18/01/21/Tesko': 6440, '181030319B2F60HEA': 6441, '18110538238US3ATL': 6442, '18110542238US3ATL': 6443, '183/10/20/RBB': 6444, '18370433351F60AST': 6445, '18370433351F60HEA': 6446, '18370748351F60AST': 6447, '18370748351F60ATL': 6448, '18370748351F60BRE': 6449, '18380007746F42': 6450, '188/11/20/RBB': 6451, '188100079CMUS3ATL': 6452, '188100079CMUS3LOR': 6453, '19.0812 MK-S240C-MEKA': 6454, '190/11/20/RBB': 6455, '19076 +/- RAL 9010': 6456, '19283 HDX 0.65X1220 GREYROCK 907': 6457, '194/11/20/Ekoinstal': 6458, '19435030Z3101365': 6459, '19435030Z3101510': 6460, '19435040Z3101100': 6461, '19435040Z3101340': 6462, '19435050Z3101315': 6463, '19451D15Z3101425': 6464, '19451D20Z3101510': 6465, '19451D25Z3101450': 6466, '19529*HDX*0.65X1220 GREYALU': 6467, '19532 HDX 0.65X1220 WHITEALU': 6468, '19532 LIGHT SILVER HDX B7032.': 6469, '19537 HDX 0.65X1220 PEARL 013 (RAL 9010)': 6470, '19537 HDX 0.65X1220 WHITE': 6471, '19544*SPE*0.595X1164 GRAPHITE': 6472, '19550 GSTD 0.45X1220 BLACK': 6473, '19550 GSTD 0.63X1220 BLACK': 6474, '19558/05481/35/35/1000/062': 6475, '19558/05481/35/35/1240/062': 6476, '19558/05481/35/35/1240/074': 6477, '19602 +/- RAL 9005': 6478, '19617 N 0.48X1220 IVORY': 6479, '19617 NX 0.595 X 1164 GREYWHI': 6480, '19793/05481/35/35/1000/0,62': 6481, '19793/05481/35/35/1240/062': 6482, '19793/05483/35/35/1240/074': 6483, '19844 HDX 0.65X1220 RAL 9005': 6484, '19857/9006/35/35/1240/0.74': 6485, '19857/9006/35/35/1240/074': 6486, '19895 AA 0,32X1064 WHITE': 6487, '1AMS280NTL34A': 6488, '1AMS355NTL13G': 6489, '1AMS355NTL34B': 6490, '1AMS355NTL34G': 6491, '1AMS355NTLHHG': 6492, '1AMS420NTL34G': 6493, '1AMS500NTL34G': 6494, '1AMS500NTV34G': 6495, '1AMS550NTLFSG': 6496, '1DC01LFSB': 6497, '1DC01LFSE': 6498, '1DC01LFSG': 6499, '1DC04ESLFSG': 6500, '1DC04LFSB': 6501, '1DC04LFSG': 6502, '1DC07UFSG': 6503, '1DP600LFSG': 6504, '1HE450MNTLFSG': 6505, '1M2ZC080': 6506, '1PR1A1000050N2FCT1': 6507, '1PR1A1000060N2FCB3': 6508, '1PR1A1000060N2FCG1': 6509, '1PR1A1000060N2FCR1': 6510, '1PR1A1000060N2FCV1': 6511, '1PR1A1000080N2FCB1': 6512, '1PR1A1250060N2FCB1': 6513, '1PR1A1250060N2FCV1': 6514, '1PR1A1250080N2FCG1': 6515, '1PR1A1340060N2FCS1': 6516, '1PR1A1500060N2FCT1': 6517, '1PR1B1005055N2FBG1': 6518, '1PR1B1005055N2FBT1': 6519, '1PR1M1000055N2FCR8': 6520, '1PR1M1000075N2FCR8': 6521, '1PR1M1005055N2FCT1': 6522, '1PR1M1250055N2FCG1': 6523, '1PR1M1250055N2FCR8': 6524, '1PR1M1250055N2FCT1': 6525, '1PR1M1250055N2FCZ1': 6526, '1PR5M1340055N2FCR8': 6527, '1PR5M1340055N2FCZ1': 6528, '1S220A100P6FSA': 6529, '1S220A100P6FSB': 6530, '1S220A100P6FSE': 6531, '1S220A200P6FSA': 6532, '1S220A275P6FSA': 6533, '1S220A275P6FSB': 6534, '1S220A275P6FSL': 6535, '1S220A310PFSB': 6536, '1S220A310PFSL': 6537, '1S240DETU34B': 6538, '1S240DNTL34A': 6539, '1S240DNTL34B': 6540, '1S240DNTL34G': 6541, '1S250A310PFSB': 6542, '1S250A310PFSL': 6543, '1S250A600P6FSA': 6544, '1S280A200P6FSA': 6545, '1S350A100E6FSG': 6546, '1S350A140P6FSREA': 6547, '1S350A140P6FSREB': 6548, '1S350A250PFSB': 6549, '1S350A275P6FSA': 6550, '1S350A275P6FSL': 6551, '1S350A275P6HHL': 6552, '1S350A310PFSB': 6553, '1S350A310PFSL': 6554, '1X51A100P6FSA': 6555, '1X51A120OFSF': 6556, '1X51A250PFSB': 6557, '1X51A250PFSL': 6558, '1X51A275E6FSG': 6559, '1X51A275E6FSL': 6560, '1X51A275P6FSB': 6561, '1X51A275P6FSL': 6562, '1X51A310PFSL': 6563, '1X53A100L6FSA': 6564, '1X53A100P6FSA': 6565, '1X54A100P6FSA': 6566, '1X54A275P6FSA': 6567, '1X54A310PFSB': 6568, '1X54B200P6FSA': 6569, '1X54B275P6FSG': 6570, '1X56B200P6FSA': 6571, '1X56B275P6FSA': 6572, '1X57B200P6FSA': 6573, '1X910 DC01 NET KR': 6574, '1Z203060': 6575, '1Z204060': 6576, '1Z205050': 6577, '1Z205060': 6578, '1Z205080': 6579, '1Z28J060': 6580, '1Z9050601515': 6581, '1Z9050801515': 6582, '1ZN1W1250055N': 6583, '1ZN5Z1250060N': 6584, '1_DD11-CL1': 6585, '1_P355NH-CAT_A': 6586, '1_S235JR+AR-CL1': 6587, '1_S355J2+AR-CL1': 6588, '1_S355J2+N-CL1': 6589, '1_S355MC-CAT_A': 6590, '1_S420MC-CAT_A': 6591, '1_S460MC-CAT_A': 6592, '1_S500MC-CAT_A': 6593, '2,0 MM ZM 350': 6594, '2,0X1000MM DX51D Z275 MAC': 6595, '2,0X1250MM DX51D Z275 MAC': 6596, '2,0X1250MM DX51D Z275 MBC': 6597, '2,0X1500MM DX51D Z275 MBC': 6598, '2,2X1060 DC01EK-B(SIDMAR)OILED': 6599, '2,2X1140 DC01EK-B(SIDMED)OILED': 6600, '2,5 MM ZM430': 6601, '2,5X1000MM DX51D Z275 MAC': 6602, '2,80X1450 DC05EK-B(SIDMAR)': 6603, '2,8X1060 DC01EK (SIDMAR)': 6604, '2,8X1140 DC01EK-B(SIDMED)OILED': 6605, '2,8X1140 DC01EK-S(SIDMAR)OILED': 6606, '2,8X1325 DC05EK-B(SIDMAR)': 6607, '2,8X1400 DC05EK-B(SIDMAR)': 6608, '2,8X950 DC01EK-B(SIDMAR)': 6609, '2,8X950 DC01EK-B(SIDMED)OILDED': 6610, '2.00X960_MIN': 6611, '2.0X1210_MIN': 6612, '2.132T00.00AF': 6613, '2.20X1193_EP': 6614, '2.40X1010_NORM': 6615, '2.40X1109_EP': 6616, '2.40X1109_NORM': 6617, '2.42X1109_EP': 6618, '2.42X1230_MIN': 6619, '2.42X1260_BREMEN': 6620, '2.4X1010_MIN': 6621, '2.610T00.00AF': 6622, '2.90X1094_EP': 6623, '2.92X1094_EP': 6624, '2.9X1211_MIN': 6625, '2000062S': 6626, '200012S': 6627, '2001/25/1220/0.62': 6628, '2008030001.IO.1.1': 6629, '201.031': 6630, '201.032': 6631, '201.035': 6632, '201.036': 6633, '2018 03 30 Polyester NCS S502-Y': 6634, '2018 04 22 Zapytania PK i M?.': 6635, '201806200011.IO.1.1': 6636, '201806200012.IO.1.1': 6637, '201901140008.IO.1.1': 6638, '201903210026.IO.1.1': 6639, '201904160007.IO.0.0': 6640, '201904250026.IO.1.1': 6641, '201905090015.IO.1.1': 6642, '201905280013.IO.0.0': 6643, '201908160010.IO.1.1': 6644, '201908160012.IO.1.1': 6645, '201908290017.IO.1.1': 6646, '201911210005.IO.1.2': 6647, '202002200012.IO.1.1': 6648, '202002210003.IO.1.1': 6649, '202003020015.IO.1.1': 6650, '202003090004.IO.1.1': 6651, '202003090019.IO.1.1': 6652, '202003200007.IO.1.1': 6653, '202003310001.1.1': 6654, '202006080002.IO.1.1': 6655, '202006170004.IO.1.1': 6656, '202006170005.IO.1.1': 6657, '202006170014.IO.1.1': 6658, '202006250011.IO.1.1': 6659, '202006260002.IO.1.1': 6660, '202007020012.IO.1.1': 6661, '202007020013.IO.1.1': 6662, '202007070010.IO.1.1': 6663, '202007080002.IO.1.1': 6664, '202008060025.IO.1.1': 6665, '202008070007.IO.1.1': 6666, '202008070009.IO.1.1': 6667, '202008120017.IO.1.1': 6668, '202008180003.IO.1.1': 6669, '202009080001.IO.1.1': 6670, '202009090007.IO.1.1': 6671, '202009110004.IO.1.1': 6672, '202009110008.IO.1.1': 6673, '202009110009.IO.1.1': 6674, '202009110010.IO.1.1': 6675, '202009110011.IO.1.1': 6676, '202009180005.IO.1.1': 6677, '202009180007.IO.1.1': 6678, '202009250010.IO.1.1': 6679, '202010010006.IO.1.1': 6680, '202010010007.IO.1.1': 6681, '202010010011.IO.1.1': 6682, '202010010018.IO.1.1': 6683, '202010070017.IO.1.1': 6684, '202010190007.IO.1.1': 6685, '202010190010.IO.1.1': 6686, '202010220007.IO.1.1': 6687, '202011050014.IO.1.1': 6688, '202011050016.IO.1.1': 6689, '202011100010.IO.1.1': 6690, '202011110010.IO.1.1': 6691, '202011110016.IO.1.1': 6692, '202011120001.IO.1.1': 6693, '202011120012.IO.1.1': 6694, '202011120014.IO.1.1': 6695, '202011190002.IO.1.1': 6696, '202011190003.IO.1.1': 6697, '202011200010.IO.1.1': 6698, '202011200011.IO.1.1': 6699, '202011200020.IO.1.1': 6700, '202012030008.IO.1.1': 6701, '202012030014.IO.1.1': 6702, '202012100013.IO.1.1': 6703, '202012100014.IO.1.1': 6704, '202012100018.IO.1.1': 6705, '202012230024.IO.1.1': 6706, '202101130035.IO.1.1': 6707, '202101200011.IO.1.1': 6708, '202101260001.IO.1.1': 6709, '202102040010.IO.1.1': 6710, '202102040011.IO.1.1': 6711, '202102040019.IO.1.1': 6712, '202102040024.IO.1.1': 6713, '202102040026.IO.1.1': 6714, '202102040041.IO.1.1': 6715, '202102050008.IO.1.1': 6716, '202102050009.IO.1.1': 6717, '202102170019.IO.1.1': 6718, '202103040037.IO.1.1': 6719, '202103100003.IO.1.1': 6720, '202103110008.IO.1.1': 6721, '202103120001.IO.1.1': 6722, '202103120003.IO.1.1': 6723, '202103120007.IO.1.1': 6724, '202103120009.IO.1.1': 6725, '202103120024.IO.1.1': 6726, '202103120028.IO.1.1': 6727, '202103120033.IO.1.1': 6728, '202103120034.IO.1.1': 6729, '202103120037.IO.1.1': 6730, '202103170013.IO.1.1': 6731, '202103170014.IO.1.1': 6732, '202103170015.IO.1.1': 6733, '202103170016.IO.1.1': 6734, '202103170017.IO.1.1': 6735, '202103170018.IO.1.1': 6736, '202103170019.IO.1.1': 6737, '202103240002.IO.1.1': 6738, '202103240003.IO.1.1': 6739, '202103240004.IO.1.1': 6740, '202103240005.IO.1.1': 6741, '202103240006.IO.1.1': 6742, '202103240007.IO.1.1': 6743, '202103240008.IO.1.1': 6744, '202103240009.IO.1.1': 6745, '203/11/20/Tesko': 6746, '205/12/20/RBB': 6747, '20784868KRA': 6748, '20784868KRA_AMSTRONG': 6749, '20910051269US3LOR': 6750, '210.0108': 6751, '210083A': 6752, '2101433810 4789 3.1': 6753, '2101435565 4789 3.1': 6754, '210167G': 6755, '2101750080 4789 3.1': 6756, '2101750170 4789 3.1': 6757, '2101750205 4789': 6758, '2101750290 4789 3.1': 6759, '2101750410 4789 3.1': 6760, '21030128AG7F42BRE': 6761, '210302401530M': 6762, '210402401530M': 6763, '210502401530M': 6764, '2106101510 4789 3.1': 6765, '21210002067F42SID': 6766, '21210002938F42SID': 6767, '212100029I5F42SID': 6768, '212676U': 6769, '212679X': 6770, '212680Y': 6771, '212710C': 6772, '212711D': 6773, '212712E': 6774, '21330052013US3LOR': 6775, '21370693238US3ATL': 6776, '213P120005': 6777, '214153J': 6778, '215193P': 6779, '215304W': 6780, '215814M': 6781, '215815N': 6782, '215817P': 6783, '215818Q': 6784, '215819R': 6785, '216271C': 6786, '21A3/50/1000/0.75': 6787, '2200/2.00/366.0': 6788, '2200/2.70/402.0': 6789, '2200/4.00/452.0': 6790, '2202104571 2482': 6791, '2202104752 4789': 6792, '2202105114 4789': 6793, '2202107055 4789': 6794, '2202107125 4789': 6795, '2202400150 75395': 6796, '2202400160 75395': 6797, '2202400220 74509': 6798, '2202400230 74509': 6799, '2202401055 76071': 6800, '2202401130 75395': 6801, '2202401140 75395': 6802, '2202401150 75395': 6803, '2202401330 75395': 6804, '2202401495 74509': 6805, '2202402240 109599': 6806, '2202402315 4789': 6807, '2202402555 4789': 6808, '2202404080 76071': 6809, '2202404575 2482': 6810, '2202404960 75395': 6811, '2202405015 76071': 6812, '2202405180 75395': 6813, '2202405235 74511': 6814, '2202405400 75428': 6815, '2202405510 75428': 6816, '2202405950 75395': 6817, '2202406060 75395': 6818, '2202406065 75395': 6819, '2202406115 75428': 6820, '2202406225 75395 3.1': 6821, '2202406280 76071': 6822, '2203500250 4789': 6823, '2203501001 4789': 6824, '2203501005 4789': 6825, '2203501100 4789': 6826, '2203501120 4789': 6827, '2203501130 4789': 6828, '2203501171 4789': 6829, '2203501341 4789': 6830, '2203501350 4789': 6831, '2203501426 4789': 6832, '2203501596 4789': 6833, '2203501600 4789': 6834, '2203501681 4789': 6835, '2203501851 4789': 6836, '2203501936 4789': 6837, '2203502021 4789': 6838, '2203502050 4789': 6839, '2203502080 4789': 6840, '2203502140 4789': 6841, '22050007351US3ATL': 6842, '220500079CMUS3ATL': 6843, '220500079CMUS3LOR': 6844, '220503799EDF46SID': 6845, '22050433351F60AST': 6846, '22050433351F60CSA': 6847, '22050433351F60HEA': 6848, '22050748351F60ATL': 6849, '223022509B2F60HEA': 6850, '22660007351US3ATL': 6851, '22710007351US3ATL': 6852, '2292401580 4789': 6853, '2292401647 75394': 6854, '2292402546 76071': 6855, '2292402547 2482': 6856, '2292402549 2482': 6857, '2292402551 2482': 6858, '2292402556 2482': 6859, '2292402702 2482': 6860, '2292402757 2482': 6861, '2292402758 2482': 6862, '2292402762 2482': 6863, '2292402763 2482': 6864, '2292406313 2482': 6865, '2292406316 2482': 6866, '2292406463 4789': 6867, '2292406465 2482': 6868, '2292408845 2482 3.1': 6869, '2292431605 4789': 6870, '2292431606 4789': 6871, '2292431610 4789': 6872, '2292431614 4789': 6873, '2292431615 4789': 6874, '2292431620 4789': 6875, '2292431621 4789': 6876, '2292431626 84392': 6877, '2292431627 84392': 6878, '2292431630 84392': 6879, '2292431631 84392': 6880, '2292431650 4789': 6881, '22990585238US3ATL': 6882, '2300-0048-31512': 6883, '2300-0048-3154': 6884, '2300-0048-3158': 6885, '2300-0403-3154': 6886, '2300-0823-3001035': 6887, '2300-0823-3001315': 6888, '2300-0844-20001500': 6889, '2300-0845-2001065': 6890, '2300-0845-3001500': 6891, '2300-0845-4001500': 6892, '2300-0845-5001500': 6893, '2300-0845-6001500': 6894, '2300-0845-8001500': 6895, '2340B100L6FSA': 6896, '23890775539US3CSA': 6897, '23890793238US3CSA': 6898, '23891087539US3CSA': 6899, '23891598539US3ATL': 6900, '23892914238US3CSA': 6901, '23892914634US3CSA': 6902, '23893155AHAF40CSA': 6903, '238931849V1F40CSA': 6904, '24020097311FI7KRA': 6905, '24070002A5QF14SID': 6906, '241901189EMUS3MED': 6907, '24710204311US3SID': 6908, '25142966885US3CSA': 6909, '25143165885US3CSA': 6910, '25710682890US3ATL': 6911, '257109029D4US3CSA': 6912, '25970002349F60MED': 6913, '25D4-41C4/35/9010/25/1220/0.63': 6914, '26/02/21-Ekoinstal': 6915, '26070051013US3LOR': 6916, '26080051269US3LOR': 6917, '266222919UWF40SID': 6918, '26930118067FI7ATL': 6919, '27510002484F42SID': 6920, '275JR+AR-CL1_PROF.A FROID': 6921, '278500029S8F42SID': 6922, '27850002AHRF42SID': 6923, '279314249XRUS2MED': 6924, '27MNCRB5': 6925, '28.104807': 6926, '28/02/21/Tesko': 6927, '28300128087FI7ATL': 6928, '28300128087FI7KRA': 6929, '28460002737F42SID': 6930, '28580750871F42CSA': 6931, '29070150311US3SID': 6932, '290705789WNF42SID': 6933, '290AM5592': 6934, '290AM6752': 6935, '290AM7452': 6936, '290AN7220': 6937, '290AN7238': 6938, '290AN7290': 6939, '290AN7360': 6940, '290AN7362': 6941, '290AN7730': 6942, '29660727269F35GAL': 6943, '29660727269F35LOR': 6944, '296607279BSF35GAL': 6945, '296607279BSF35LOR': 6946, '296607279BTF35GAL': 6947, '296607279BTF35LOR': 6948, '29710161749F42SID': 6949, '299601289C6F35SID': 6950, '2AMS355NTL34G': 6951, '2N0455N': 6952, '2N1099H': 6953, '2N2203': 6954, '2N2203K': 6955, '2N2205M': 6956, '2N2254J': 6957, '2N613E': 6958, '2N614F': 6959, '2S0138Y': 6960, '2S0139Z': 6961, '2S0140A': 6962, '2S0175J': 6963, '2S0256M': 6964, '2S240DNTL34G': 6965, '2X53A100L6FSA': 6966, '2X870': 6967, '2_30MNB5+CR': 6968, '2_33MNCRB5': 6969, '2_AMSTRONG_700MCT': 6970, '2_AMSTRONG_700MCT_A': 6971, '2_C45E': 6972, '2_P355NH': 6973, '2_S235JR+AR-CL1': 6974, '2_S275J2+N-CL1': 6975, '2_S275JR+AR-CL1': 6976, '2_S355J0WP+AR': 6977, '2_S355J2+AR-CL1': 6978, '2_S355J2+N-CL1': 6979, '2_S355MC-CAT_A': 6980, '2_S420MC-CAT_A': 6981, '2_S500MC-CAT_A': 6982, '2_S700MC-KCV40': 6983, '3,0 MM ZM 310': 6984, '3,0 MM ZM430': 6985, '3.2': 6986, '30%/9016/35/1268/0.97': 6987, '30%7047/15%9010/35/35/1268/097': 6988, '3000/25/1220/0.74': 6989, '3000161165-00': 6990, '30002600274-00': 6991, '30003000480-00': 6992, '30003000527-00': 6993, '30003000630-00': 6994, '30010118067FI7': 6995, '3003/25/1220/0.74': 6996, '3003/25/1220/0.75': 6997, '3011/3012/17/17/1240/062': 6998, '3011/9002/35/35/1240/0.62': 6999, '30140128085US1MED': 7000, '3020/25/1220/0.74': 7001, '3047312 EKO': 7002, '3047312 GENT': 7003, '3075923-0.3': 7004, '3075923-0.35': 7005, '3075924-0.35': 7006, '3076267-3': 7007, '3076267-4': 7008, '311003001000XL': 7009, '31310051269US3LOR': 7010, '31350750037F14ATL': 7011, '31420750AETF14ATL': 7012, '31710150311US3CSA': 7013, '31710150311US3LOR': 7014, '31710204311US3SID': 7015, '32/02/21/Ekoinstal': 7016, '321004001500XL': 7017, '32210750AETF14ATL': 7018, '32490013846F42ATL': 7019, '325601509YQUS3LOR': 7020, '328526999B2US3ATL': 7021, '32930002349F42SID': 7022, '329300029SCF42SID': 7023, '3300-0027-216': 7024, '3300-0027-251256': 7025, '3300-0810-4001000': 7026, '3300-0810-4001250': 7027, '3300-0810-4001500': 7028, '3300-0810-5001000': 7029, '3300-0810-5001250': 7030, '3300-0810-5001500': 7031, '3300-0810-6001000': 7032, '3300-0810-6001250': 7033, '3300-0810-6001500': 7034, '3300-0810-8001000': 7035, '3300-0810-8001250': 7036, '3300-0810-8001500': 7037, '3300B100L6FSB': 7038, '33070730108F35SID': 7039, '33090128320US3MED': 7040, '33120751238US3CSA': 7041, '33121008ADRF40SID': 7042, '33123195ADRF40SID': 7043, '33133072238US3ATL': 7044, '33150726363F46CSA': 7045, '331507269BUF35CSA': 7046, '33380118349US3ATL': 7047, '33380118349US3MED': 7048, '33440051013US3LOR': 7049, '33660509311F60SAG': 7050, '33712795351F46CSA': 7051, '3393STAH': 7052, '34/02/21/Tesko': 7053, '3430/03425/35/35/1240/062': 7054, '347601189KXF60MED': 7055, '34790150499F42SID': 7056, '34811460A19F60LOR': 7057, '3500STAH': 7058, '35091353311F60LOR': 7059, '35091353311F60SID': 7060, '3512/9002/35/35/1240/0.62': 7061, '3530STAH': 7062, '35322647AHCUS3ATL': 7063, '35370626890US3ATL': 7064, '35370630890US3ATL': 7065, '35370633AHCUS3ATL': 7066, '35382903238US3ATL': 7067, '35382904238US3ATL': 7068, '35740002AGTF42SID': 7069, '35µ 7037/7037': 7070, '36/02/21/Tesko': 7071, '3600XA275P6FS05A': 7072, '36900846047F21CSA': 7073, '36900846282F21CSA': 7074, '37/02/21/Tesko': 7075, '370201289U6F14SID': 7076, '371508459FCF21LOR': 7077, '37200128087FI7KRA': 7078, '37200128466FI7KRA': 7079, '372001289IRF73KRA': 7080, '37262871A7PF40SID': 7081, '37262910A7PF40SID': 7082, '37600128466US3SID': 7083, '37640840311F60SAG': 7084, '37650725311F46SID': 7085, '37890051269US3LOR': 7086, '38030204311US3SID': 7087, '38470118067FI7MED': 7088, '38710007746F42BRE': 7089, '38MNB5-9794': 7090, '39130002349F60MED': 7091, '391501289C6F35ATL': 7092, '391601289C6F35ATL': 7093, '39240002067US3MED': 7094, '399129749B2FI7SWI': 7095, '399129779B2FI7SWI': 7096, '399129789B2FI7SWI': 7097, '39913146238FI7SWI': 7098, '39AC05112050B': 7099, '39AC05112050BG': 7100, '39AC05112057BG': 7101, '39AC05112057RS': 7102, '39AC05112057TM': 7103, '39AC05112057VM': 7104, '39AC05112078B': 7105, '39AC05112078BG': 7106, '39AC05112078RS': 7107, '39AC05112078TM': 7108, '39AC05112078VM': 7109, '39AC05115057BG': 7110, '39AC05115057VM': 7111, '39AC05115075BG': 7112, '3V9809643PLA': 7113, '4.10003_1142X0.40_SID': 7114, '4.10020_1210X0.70_SID': 7115, '4.10020_1520X0.70_SID': 7116, '4.10021_1348X0.80_GIE': 7117, '4.10024_1431X1.00_GENT': 7118, '4.10097_1421X2.5_LIE': 7119, '4.10100_1500X3.00_BRE': 7120, '4.10101_1362X3.50_SWB': 7121, '4.10102_1515X4.00_SWB': 7122, '4.10112_1490X4.00_SWB': 7123, '4.10127_1266X2_LIE': 7124, '4.10146_1250X2.00_BRE Z140': 7125, '4.10147_1540X2.50_LIE': 7126, '4.10156_1180X2.50_SWB': 7127, '4.10301_1460X2.5_25T_BRE': 7128, '4.10301_1460X2.5_BRE': 7129, '4.10302_1391X1.00_SID': 7130, '4.10331_1350X1.50_SWB': 7131, '4.10348_1240X1.50_SWB': 7132, '4.10349_1197X0.60_SID_TT1/2-': 7133, '4.10350_1460X0.75_SID_NO_PACK': 7134, '4.10351_1514X1.00_SWB': 7135, '4.10353_1360X2.00_SWB_TT1/2-': 7136, '4.10354_1382X2.00_SWB': 7137, '4.10367_1362X0.60_SID': 7138, '4.10367_1514X0.60_ATL_TT1/2-': 7139, '4.10389_1396X3.00_LIE_TT1/2-': 7140, '4.10397_1296X1.20_GIE': 7141, '4.10401_1410X0.8_ATL': 7142, '4.10402_1285X1.20_SWB': 7143, '4.10402_1440X1.20_SWB': 7144, '4.10404_1406X1.25_SID': 7145, '4.10411_1425X6.00_SWB': 7146, '4.10419_1300X2_LIE': 7147, '4.10419_1300X3_LIE': 7148, '4.10419_1430X1.65_LIE': 7149, '4.10419_1540X3_BRE': 7150, '4.10420_1225X4.00_LIE': 7151, '4.10420_1285X4.00_LIE': 7152, '4.10420_1320X4.00_LIE': 7153, '4.10420_1375X4.00_LIE': 7154, '4.10426_1475X3.50_SWB': 7155, '4.10430_1268X0.60_SID': 7156, '4.10430_1520X0.60_SID': 7157, '4.10434_1290X1.25_SID': 7158, '4.10435_1275X4.00_SWB': 7159, '4.10435_1385X4.00_SWB': 7160, '4.10442_1106X0.50_SID': 7161, '4.10447_963X0.50_ATL': 7162, '4.10482_1323X5.90_SWB': 7163, '4.10516_1475X3.50_LIE': 7164, '4.10517_1296X1.20_SWB': 7165, '4.10519_1250X0.97_SWB': 7166, '4.10522_1316X2.90_SWB': 7167, '4.10540_1440X2.40_SWB': 7168, '4.10541_1300X0.50_SID': 7169, '4.10541_1340X0.50_SID': 7170, '4.10547_1290X0.50_LIE': 7171, '4.10547_1290X0.57_LIE': 7172, '4.10575_1256X1.50_LIE': 7173, '4.10627_1340X3.90_SWB': 7174, '4.10641=ST 37-2G=S235JR AR': 7175, '4.10657_1305X5.30_SID': 7176, '4.10657_1400X5.30_SID': 7177, '4.10660_1372X3_LIE': 7178, '4.10679_1180X4.15_SWB': 7179, '4.10679_1510X4.15_SWB': 7180, '4.10685_1232X8.00_ATL': 7181, '4.10686_1610X2.00_BRE': 7182, '4.10688_1360X3.35_SWB': 7183, '4.10706_1225X4.00_LIE': 7184, '4.10706_1515X4_LIE': 7185, '4.10724_1360X0.95_LIE': 7186, '4.10726_1410X1.45_LIE': 7187, '4.10726_1410X1.50_BRE': 7188, '4.10727_1300X3.00_BRE': 7189, '4.10727_1630X1.75_BRE': 7190, '4.10743_1410X0.96_DECO_35/10MY': 7191, '4.10762_1180X2.5_SWB': 7192, '4.10766_1500X1.50_SWB': 7193, '4.10770_1420X3_BRE': 7194, '4.10795_1180X3.00_SWB': 7195, '4.10795_1320X3.00_SWB': 7196, '4.10801_1390X3_BRE': 7197, '4.10815_1080X4_LIE': 7198, '4.10820_1140X5.00_LIE': 7199, '4.10820_1415X5.00_SWB': 7200, '4.10821_1180X2.00_LIE': 7201, '4.10821_1350X2.00_BRE': 7202, '4.10824_1475X3_SWB': 7203, '4.10826_1250X0.75_ATL_10/25MY': 7204, '4.10835_1500X2_BRE': 7205, '4.10844_1510X3.00_SWB': 7206, '4.10845_1510X4.00_LIE': 7207, '4.10847_1300X5.00_SID': 7208, '4.10852_1220X0.85_SID': 7209, '4.10853_1220X3.00_SWB': 7210, '4.10854_1500X2.25_SWB': 7211, '4.10864_1110X0.88_SID': 7212, '4.10866_1540X2.50_SWB': 7213, '4.10870_1250X1.00_LIE': 7214, '4.10870_1500X1.00_LIE': 7215, '4.10873_1630X1.80_BRE': 7216, '4.10874_1410X1.50_BRE': 7217, '4.10875_1210X1.20_LIE': 7218, '4.10875_1250X2.00_LIE': 7219, '4.10875_1300X1.50_LIE': 7220, '4.10877_1575X5.00_LIE': 7221, '4.10900_1250X1.8_SWB': 7222, '4.10936_1415X3.00_LIE': 7223, '4.10939_1225X3.50_BRE': 7224, '4.10939_1320X3.50_LIE': 7225, '4.10939_1360X3.50_LIE': 7226, '4.10944_1275X2.30_LIE': 7227, '4.10945_1340X4.00_LIE': 7228, '4.10950_1100X1.80_LIE': 7229, '4.10952_1540X2.5_LIE': 7230, '4.10958_1240X1.70_LIE': 7231, '4.10992_1430X4.50_BRE': 7232, '4.10993_1210X2.50_BRE': 7233, '4.10993_1210X2.50_BRE 1/2 SYMM': 7234, '4.10995_1340X3.90_BRE': 7235, '4.10999_1430X3.00_BRE': 7236, '4.11006_1050X6.00_BRE': 7237, '4.11006_1190X4.00_BRE': 7238, '4.11006_1250X4.00_BRE': 7239, '4.11009_1431X1.00_LIE': 7240, '4.11014_1500X2.50_BRE': 7241, '4.11032_1370X0.96_DECO_35/10MY': 7242, '4.11032_1410X0.96_DECO_35/10MY': 7243, '4.11032_1415X0.96_DECO_35/10MY': 7244, '4.11032_1420X0.96_DECO_35/10MY': 7245, '4.11032_1475X0.96_DECO_35/10MY': 7246, '4.11043_1060X5_BRE': 7247, '4.11044_1080X5_BRE': 7248, '4.11046_1360X3.50_BRE': 7249, '4.11056': 7250, '4.11082_1125X1.50_LIE': 7251, '4.11082_1140X1.50_LIE': 7252, '4.11085_1140X1.25_LIE': 7253, '4.11086_1140X1.80_LIE': 7254, '4.11089_1115X1.25_LIE': 7255, '4.11092_1185X1.75_LIE': 7256, '4.11100_1560X2.50_BRE': 7257, '4.11113_1265X4.00_SWB': 7258, '4.11121_1500X4.00_BRE': 7259, '4.120.001-118': 7260, '4.120.002-055': 7261, '4.120.002-097': 7262, '4.120.002-118': 7263, '4.120.002-128': 7264, '4.120.002-144': 7265, '4.120.002-148': 7266, '4.120.002-149': 7267, '4.120.002-150': 7268, '4.120.002-170': 7269, '4/01/21/Tesko': 7270, '40/02/21/RBB': 7271, '400 130025': 7272, '400 130134': 7273, '400 210470': 7274, '400 210576': 7275, '400 210591': 7276, '4000000816/00040': 7277, '4000000817/00010': 7278, '4000001010/00180': 7279, '4000001018/00060': 7280, '4000001240/00030': 7281, '4000001240/00040': 7282, '4000001240/00050': 7283, '4000001241/00030': 7284, '4000001242/00010': 7285, '4000001242/00020': 7286, '4000001616/00010': 7287, '4000001743/00080': 7288, '4000001775/00060': 7289, '4000001775/00070': 7290, '4000001775/00150': 7291, '4000001797/00010': 7292, '4000001850/00040': 7293, '4000001851/00010': 7294, '4000001851/00020': 7295, '4000001851/00030': 7296, '4000001852/00010': 7297, '4000001852/00020': 7298, '4000001853/00010': 7299, '4000002154/00010': 7300, '4000002154/00020': 7301, '4000002154/00030': 7302, '4000002154/00040': 7303, '4000002155/00010': 7304, '4000002155/00020': 7305, '4000002155/00030': 7306, '4000002155/00040': 7307, '4000002155/00050': 7308, '4000002155/00060': 7309, '4000002155/00070': 7310, '4000002155/00080': 7311, '4000002301/00010': 7312, '4000002301/00020': 7313, '4000002301/00030': 7314, '4000002301/00040': 7315, '4000002301/00050': 7316, '4000002301/00070': 7317, '4000002303/00010': 7318, '4000002303/00020': 7319, '4000002303/00030': 7320, '4000002303/00040': 7321, '4000002303/00050': 7322, '4000002303/00060': 7323, '4000002303/00070': 7324, '4000002303/00080': 7325, '4000002303/00090': 7326, '4000002303/00100': 7327, '4000002303/00110': 7328, '4000002303/00120': 7329, '4000002303/00130': 7330, '4000002304/00010': 7331, '4000002304/00020': 7332, '4000002392/00070': 7333, '4000002393/00010': 7334, '4000002405/00030': 7335, '4000002473/00010': 7336, '4000002473/00020': 7337, '4000002473/00030': 7338, '4000002473/00040': 7339, '4000002473/00050': 7340, '4000002473/00060': 7341, '4000002474/00010': 7342, '4000002474/00020': 7343, '4000002474/00030': 7344, '4000002474/00040': 7345, '4000002474/00050': 7346, '4000002474/00060': 7347, '4000002475/00010': 7348, '4000002557/00010': 7349, '4000002558/00050': 7350, '4000002668/00050': 7351, '4000002792/00010': 7352, '4000002792/00020': 7353, '40000433351F60AST': 7354, '4000061476-1': 7355, '40000748351F60ATL': 7356, '40040128A3HF60SES': 7357, '40080128087FI7KRA': 7358, '40080128466F60AST': 7359, '4011948-1': 7360, '40130382349F45SID': 7361, '40180726A5EF35CSA': 7362, '40350150499F42SID': 7363, '405022519B2F60HEA': 7364, '405023379B2F60HEA': 7365, '405026149B2F60ATL': 7366, '405027069D2F45CSA': 7367, '405028389B2US3ATL': 7368, '405029489B2F60HEA': 7369, '405030179B2F60HEA': 7370, '40503180AI6F40SID': 7371, '40503181AAOF40CSA': 7372, '407501289TLF42BRE': 7373, '409423929B2F60HEA': 7374, '40942773238US3ATL': 7375, '409431209B2F60HEA': 7376, '409431569B2F60HEA': 7377, '41/02/21- Tesko': 7378, '410 210001': 7379, '410 210003': 7380, '410 210004': 7381, '410 210026': 7382, '410 210027': 7383, '410 210028': 7384, '410 210036': 7385, '410 220002': 7386, '410 220003': 7387, '410 220014': 7388, '410 220016': 7389, '410 220024': 7390, '410 520039': 7391, '41010648238F40ATL': 7392, '41081270238US3ATL': 7393, '412314469B2F60ATL': 7394, '412314849B2F60HEA': 7395, '412320879B2FI7SWI': 7396, '41232087AG8FI7SWI': 7397, '412320899B2FI7SWI': 7398, '41232089AG8FI7SWI': 7399, '41232090AG8FI7SWI': 7400, '41232091AG8FI7SWI': 7401, '41232098AG8FI7SWI': 7402, '41232139238F40SID': 7403, '412325659B2F60PIO': 7404, '412326439B2FI7SWI': 7405, '412331519B2FI7SWI': 7406, '415626789UTF40SID': 7407, '41562789238F40SID': 7408, '41562855238F40SID': 7409, '418701189EMUS3SID': 7410, '41F7/35/422A/1220/0.74': 7411, '42260051269US3LOR': 7412, '42560128087F42KRA': 7413, '42560128466F60MED': 7414, '425601289I2F42KRA': 7415, '42570075977US3LOR': 7416, '43280578A28F14SID': 7417, '43500002349F60': 7418, '43500002349F60MED': 7419, '43760145730F42BRE': 7420, '437601459I6F42BRE': 7421, '437601459J3F42BRE': 7422, '437601459TAF42BRE': 7423, '437601459UCF42BRE': 7424, '437601459ZXF60SES': 7425, '43760145AFHF73BRE': 7426, '43760145AFHF73KRA': 7427, '43850007037US3ATL': 7428, '43850007515US3CSA': 7429, '43960118349F60MED': 7430, '44/02/21-Tesko': 7431, '44131143899F40CSA': 7432, '44230002067F16SID': 7433, '44240118067FI7': 7434, '44320118349F60MED': 7435, '44640128466F60AST': 7436, '44832691238US3ATL': 7437, '4500/2.10/410.0': 7438, '4500/3.20/415.0': 7439, '4500258977/K99/191/00020': 7440, '4500266810/K99/191/00040': 7441, '4500266810/K99/191/00070': 7442, '4500267258/K99/191/00010': 7443, '4500267258/K99/191/00020': 7444, '4502242687-305': 7445, '45092746238F40SID': 7446, '45092827238F40SID': 7447, '450AE1241': 7448, '450AE1331': 7449, '450AE1921': 7450, '450AH1341': 7451, '450AH1621': 7452, '450AM2440': 7453, '450AW1010': 7454, '450AW1031': 7455, '450AW1041': 7456, '45120052013US3LOR': 7457, '45170002349F60MED': 7458, '4542/25/1220/0.62 1/2EN': 7459, '4561002JG0': 7460, '45810046269F42LOR': 7461, '45990145730F43BRE': 7462, '45MNB41125X4': 7463, '45MNB41125X6': 7464, '460500029KXF60': 7465, '46050118067FI7': 7466, '46050382349F46SID': 7467, '46160002349F60MED': 7468, '462703799ECF46SID': 7469, '465606489V1F40ATL': 7470, '46561262238US3CSA': 7471, '46562330238F40CSA': 7472, '46562969238US3CSA': 7473, '46562975238US3CSA': 7474, '46670382067F45SID': 7475, '46770128087FI7BRE': 7476, '46860433351F60HEA': 7477, '47/02/21 - Tesko': 7478, '471301289GYUS3BRE': 7479, '471301289GYUS3MED': 7480, '471926289G6US3ATL': 7481, '47240040013US3LOR': 7482, '473013269G8US3MED': 7483, '47380128466FI7KRA': 7484, '4750/25/1220/0.63': 7485, '4750/35/1268/0.97': 7486, '475313269G8US3MED': 7487, '47620150128F42SID': 7488, '47870128087FI7BRE': 7489, '479300029Q8F42SID': 7490, '47943208238F40SID': 7491, '48140/AM': 7492, '48180002349F42SID': 7493, '482101289GYUS3MED': 7494, '48340748351F60AST': 7495, '48341443351F60HEA': 7496, '4847/25/1220/0.75': 7497, '4847/3020/35/35/1220/0.74': 7498, '48490076108US3LOR': 7499, '48690379351F45ATL': 7500, '48789/S220GD/ES 9003/9010': 7501, '48850128691FI7': 7502, '49090128087F60MED': 7503, '49245/AM': 7504, '49380096782F42SID': 7505, '49389/AM': 7506, '49390/AM': 7507, '496100 G9006 WHITE ALLUMINIUM': 7508, '496701189EMUS3SID': 7509, '496701189ENUS3SID': 7510, '496914429XEF68SID': 7511, '49714/AM': 7512, '49990077108US3LOR': 7513, '5%/64BB/35/1268/0.97': 7514, '50/03/21/Tesko': 7515, '5002/25/1220/0.74': 7516, '5008/17/996/0.50': 7517, '5008/25/1160/0.62': 7518, '5008/25/1220/0.62': 7519, '5008/25/1220/0.63': 7520, '5008/25/1220/0.75': 7521, '5008/35/1220/0.74': 7522, '5008/35/1220/0.75': 7523, '5008/5012/17/17/1240/062': 7524, '5008/9010/35/1220/0.74': 7525, '5008/G9006/35/35/1240/0.62': 7526, '5010/25/1220/0.75': 7527, '501010500-08390X057': 7528, '501010500-08590X057': 7529, '501010500-08790X057': 7530, '501010500-08870X057': 7531, '501010500-08960X057': 7532, '501010500-09190X057': 7533, '501010500-09390X057': 7534, '501010500-09400X057': 7535, '501010500-09750X057': 7536, '501010500-09790X057': 7537, '501010500-09940X057': 7538, '501010500-09990X057': 7539, '501010500-10000X057': 7540, '501010500-10170X057': 7541, '501010500-10190X057': 7542, '501010500-10870X057': 7543, '501010500-11160X057': 7544, '501010500-11170X057': 7545, '501010500-11390X057': 7546, '501010500-11590X057': 7547, '501010500-12000X057': 7548, '501010500-12400X057': 7549, '501010900-08300X051': 7550, '501010900-09180X051': 7551, '501010900-09590X051': 7552, '501010900-10200X051': 7553, '501010900-10300X051': 7554, '5011/25/1220/0.74': 7555, '5011/25/1220/0.75': 7556, '5012/7035/25/1220/0.75': 7557, '5012/9006/35/35/1240/0.62': 7558, '5014/55/9002/55/1220/0.75': 7559, '5014/9006/35/35/1240/0.62': 7560, '5015/25/1220/0.75': 7561, '5015/9002/35/35/1240/0.62': 7562, '5017/25/1220/0.74': 7563, '5021/35/1220/0.74': 7564, '502117909JDF35BRE': 7565, '502117909JDF35CSA': 7566, '502117909NNF46': 7567, '5030STAH': 7568, '5031995HXX': 7569, '504010200-11000X125': 7570, '504010200-11000X138': 7571, '504010200-12500X125': 7572, '504010200-12500X138': 7573, '50440128466F60SES': 7574, '50462465238F40SID': 7575, '50462779238F40SID': 7576, '504632079B2F60ATL': 7577, '505900 17312 ANTH. GREY': 7578, '508000PLUS': 7579, '508001PLUS': 7580, '508002PLUS': 7581, '508003PLUS': 7582, '508004PLUS': 7583, '508005PLUS': 7584, '508006PLUS': 7585, '508007PLUS': 7586, '508009PLUS': 7587, '508010PLUS': 7588, '508011PLUS': 7589, '50850002AHNF60MED': 7590, '50880002AGCF60MED': 7591, '509394PLUS': 7592, '510697PLUS': 7593, '510751PLUS': 7594, '5119 DC04 NONIFAMAP A W': 7595, '5119 DC04 NONIFAMAP A W PRLUBE': 7596, '5119 DC05 NON IF A W': 7597, '5119 DX54D A W': 7598, '5119 S220GD A W': 7599, '5119 S350GD A W': 7600, '5119 S350GD B W': 7601, '5119 S550GD_HP A W': 7602, '51210128466F60MED': 7603, '51470150992US3CSA': 7604, '51670128466FI7KRA': 7605, '517913989JDUS3BRE': 7606, '517913989NNUS3BRE': 7607, '51CRV4': 7608, '51Z_0.5X999_ASH_E_610_2.2TI_S': 7609, '51Z_0.6X999_ASH_E_610_2.2TI_S': 7610, '51Z_0.7X999_ASH_E_610_2.2TI_S': 7611, '51Z_0.8X999_ASH_E_610_2.2TI_S': 7612, '51Z_1X999_ASH_E_610_2.2TI_S': 7613, '51Z_5.00X1250X2500_MAC_610_3.1': 7614, '51Z_5.00X1500X3000_MAC_610_3.1': 7615, '52 040900 60N9': 7616, '52 040900 80D8': 7617, '52 040939 60N9': 7618, '52 040939 80D8': 7619, '52 0411250 977': 7620, '52 0431350 977': 7621, '52 0451318 9005': 7622, '52 0451350 8017': 7623, '52 0451350 977': 7624, '52 0551350 977': 7625, '52 090900 977': 7626, '52/03/21/Tesko': 7627, '52162730238F40ATL': 7628, '5220PDA100L6FSA': 7629, '5220YDA100L6FSA': 7630, '52380002A9OF60ATL': 7631, '529422839B2F60HEA': 7632, '53 0501350 977': 7633, '53/03/21/Tesko': 7634, '530010359-13060X047': 7635, '530010359-13060X050': 7636, '5300LALFSB': 7637, '53250051269US3LOR': 7638, '5340A100P6VAL08A': 7639, '5340LALFSG': 7640, '535628099B2FI7SWI': 7641, '535631339B2FI7EKO': 7642, '539503799EDF46SID': 7643, '541312039L5F60SAG': 7644, '5420A100P6FSL': 7645, '5420A100P6HHA': 7646, '5420A100P6VAL11L': 7647, '5420LALFSG': 7648, '5420LALVALG': 7649, '5451STAH': 7650, '54600002349F42MED': 7651, '546913989NNUS3BRE': 7652, '546913989NNUS3CSA': 7653, '546917909JDF35': 7654, '547 GREEN': 7655, '5481/05477/35/35/1240/0.62': 7656, '5481/05477/35/35/1240/062': 7657, '54811675A3LF14CSA': 7658, '54820145A8DF42BRE': 7659, '54820145AIEF42BRE': 7660, '55/12/1220/0.74': 7661, '55/35/1268/0.97': 7662, '55/55/650/1': 7663, '55000128691F73BRE': 7664, '551817909JDF35BRE': 7665, '551817909JDF46BRE': 7666, '551817909NNF45BRE': 7667, '552101189ENUS3SID': 7668, '553 DARK GREEN': 7669, '55470840A24F60SAG': 7670, '559401289GYUS3MED': 7671, '56285 DC01': 7672, '56285 DC01+ZE': 7673, '56285 DX51D+Z MAC': 7674, '56285 DX51D+Z MAC SUB.HRCL_PI': 7675, '56285 S220GD+Z MAC': 7676, '56285 S220GD+Z MBC': 7677, '563317909NNF45BRE': 7678, '563317909NNF46BRE': 7679, '56332294AD6F42': 7680, '56332294AD6F42CSA': 7681, '5669STAH': 7682, '56830433351F60HEA': 7683, '56830748351F60AST': 7684, '5711STAH': 7685, '57240128087FI7KRA': 7686, '57460840311F60SID': 7687, '577026249B2F60HEA': 7688, '577028119B2F60HEA': 7689, '577028329B2F60': 7690, '577028329B2F60HEA': 7691, '577028349B2F60HEA': 7692, '577028989B2F60HEA': 7693, '577031779B2F60HEA': 7694, '580213989NNFI7CSA': 7695, '58021398A5MF42CSA': 7696, '580214549NNFI7': 7697, '580222999JDF60BRE': 7698, '583400029L2F60MED': 7699, '5838STAH': 7700, '58550128087F43BRE': 7701, '58550128087F73BRE': 7702, '585817909JDF45BRE': 7703, '585817909JDF46BRE': 7704, '585822999JDF60BRE': 7705, '58650128087F73KRA': 7706, '58732916A7PF40SID': 7707, '589417909NNF45BRE': 7708, '58990051269US3LOR': 7709, '592412039YBF60SAG': 7710, '59382294AIFF42': 7711, '5946STAH': 7712, '59650128087FI7MED': 7713, '596501289ZMF42SES': 7714, '5966STAH': 7715, '597112039YBF60SAG': 7716, '597621099JDF14CSA': 7717, '599017909JDF35': 7718, '599022829JDF60CSA': 7719, '599022949NNF16CSA': 7720, '599714109JDUS3BRE': 7721, '599717909NNF45': 7722, '599722949NNF42': 7723, '59972294AERF42CSA': 7724, '599722999JDF60BRE': 7725, '6000/1.80/452.0': 7726, '6000/2.00/441.0': 7727, '6000/2.00/452.0': 7728, '6000/3.00/440.0': 7729, '6000/4.50/448.0': 7730, '6005/17/996/0.50': 7731, '6005/25/1220/0.55': 7732, '6005/25/1220/0.62': 7733, '6005/25/1220/0.74': 7734, '6011/17/996/0.50': 7735, '6011/25/1220/0.75': 7736, '601221809B2US3CSA': 7737, '6019/9002/17/17/1240/062': 7738, '6021/25/1220/0.63': 7739, '6021/25/1220/0.75': 7740, '6021/9002/35/35/1240/0.74': 7741, '6029/25/1220/0.74': 7742, '60770128087FI7BRE': 7743, '60910748351F60AST': 7744, '60L5/35/1268/0.97': 7745, '61181173067US3MED': 7746, '615927849B2F60PIO': 7747, '61780128466F60AST': 7748, '61850128087FI7BRE': 7749, '61910128087F42BRE': 7750, '619617909JDF35CSA': 7751, '61987003V': 7752, '62300007932US3ATL': 7753, '625017909JDF35CSA': 7754, '625017909JDF46BRE': 7755, '625017909JDF46CSA': 7756, '625022999JDF60CSA': 7757, '62510096128FI7CSA': 7758, '62670991539US3CSA': 7759, '62671963539US3ATL': 7760, '62681963AHAF40ATL': 7761, '629022999JDF60BRE': 7762, '629022999NNF60BRE': 7763, '62C7 MET GRIS EFLEX Z100 B7032': 7764, '630401289VNF42BRE': 7765, '632139 05410 BLUE': 7766, '63230013037F16EKO': 7767, '63320007932US3ATL': 7768, '63460145A2EF42BRE': 7769, '638601289Z1F42BRE': 7770, '63860128A6TF42BRE': 7771, '64002395238F40ATL': 7772, '64003137238F40CSA': 7773, '64030096782F42SID': 7774, '64040118067FI7': 7775, '640514549NNUS3BRE': 7776, '64710128087F46BRE': 7777, '64710128087FI7KRA': 7778, '64M53B13192600': 7779, '65/03/21/Tesko': 7780, '650217909JDF35CSA': 7781, '65080096128FI7EKO': 7782, '652224719Z7F42BRE': 7783, '65250002349F60ATL': 7784, '652814549NNUS3BRE': 7785, '65760118067FI7ATL': 7786, '65760118067FI7MED': 7787, '658822999JDF60BRE': 7788, '65940150128F16EKO': 7789, '660322949JDF42CSA': 7790, '66110002067F42MED': 7791, '66110002AF1F42MED': 7792, '66153005238F40ATL': 7793, '664514549NNUS3BRE': 7794, '6668/6665/35/35/1240/062': 7795, '6668/6669/35/35/1240/062': 7796, '6668/9002/35/35/1240/062': 7797, '66990433932US3ATL': 7798, '6700/2.00/410.0': 7799, '6700/2.30/424.0': 7800, '6700/3.20/410.0': 7801, '6700/4.00/414.0': 7802, '6700/4.20/450.0': 7803, '67040128087FI7KRA': 7804, '671813989NNUS3BRE': 7805, '672301189ENUS3SID': 7806, '67440727269F35GAL': 7807, '674407279BTF35GAL': 7808, '674407279BTF35LOR': 7809, '6751 DC01 A W': 7810, '6751 DX51D B W': 7811, '6751 S220GD A W': 7812, '6751 S220GD BO W': 7813, '6751 S220GD+Z A P WELDS': 7814, '6751 S275JR+AR-CL1 A W': 7815, '682Q BLANC GR FLEX B7032': 7816, '684Z WHITE ETEX B7032': 7817, '685427059B2F60CSA': 7818, '69208/S220GD/ES 9003/9010': 7819, '69230433351F60': 7820, '694517909NNF45BRE': 7821, '69460748A9HF60': 7822, '69552022351F60ATL': 7823, '69552022351F60CSA': 7824, '69941460A19F60LOR': 7825, '6S220A100P5FSA': 7826, '6S220A100P6FSA': 7827, '6X51A250PFSL': 7828, '70/03/21/RBB': 7829, '70/12/1220/0.75': 7830, '700011706330 A': 7831, '7001/25/7/1000/0.63': 7832, '7001/25/7/1000/0.75': 7833, '7001/55/7/1000/0.63': 7834, '70013988KRA': 7835, '70026578KRA': 7836, '70031163KRA': 7837, '70031528KRA': 7838, '70052372KRA': 7839, '70052373KRA': 7840, '7006/25/1220/0.55': 7841, '7006/25/1220/0.63': 7842, '7006/25/1220/0.74': 7843, '7006/35/10/1268/0.97': 7844, '70061344KRA': 7845, '700617909JDF35BRE': 7846, '700U06415860 A': 7847, '700U06492790 A': 7848, '700U06662260': 7849, '700U06662270': 7850, '700U0671730': 7851, '70138078KRA': 7852, '70138318KRA': 7853, '70138418KRA': 7854, '70138473KRA': 7855, '70138474KRA': 7856, '70142534238F40ATL': 7857, '7015/25/1220/0.63': 7858, '70155592KRA': 7859, '70155592KRA_AMSTRONG': 7860, '7016,8017,8019': 7861, '7016/17/1015/17/975/0.35': 7862, '7016/17/1220/0.60': 7863, '7016/17/1250/0.50': 7864, '7016/17/996/0.50': 7865, '7016/25/1220/0.63': 7866, '7016/25/1220/0.74': 7867, '7016/25/1220/0.75': 7868, '7016/25/1250/1': 7869, '7016/25/7032/7': 7870, '7016/35/1220/0.74': 7871, '7016/35/1220/0.75': 7872, '7016/35/7016/35/1220/0.74': 7873, '7016/35DEEPMAT/1220/0.75': 7874, '7016/40/7016/12/996/0.50': 7875, '7016/40/7016/40/996/0.50': 7876, '7016/45/996/0.50': 7877, '7016/45/996/0.50/CDC15015': 7878, '7016/55/1220/0.63': 7879, '7016/7032/25/5/1220/074': 7880, '7016/9002/35/35/1000/0.74': 7881, '7016/9007/35/35/1240/074': 7882, '70168624KRA': 7883, '70169140KRA': 7884, '70169140KRA_AMSTRONG': 7885, '70190128087F42BRE': 7886, '70190128087F43BRE': 7887, '70195845KRA': 7888, '7021/25/1220/0.75': 7889, '70211411KRA': 7890, '70215589KRA': 7891, '7022/25/1220/0,75': 7892, '7022/25/1220/0.62': 7893, '7022/25/1220/0.63': 7894, '7022/25/1220/0.75': 7895, '7022/25/9002/35/1225/0.75': 7896, '7022/35/7022/35/1026/0.75': 7897, '7022/35/7022/35/1220/0.74': 7898, '70245164KRA': 7899, '70260128089US3BRE': 7900, '70275742KRA': 7901, '70285229KRA': 7902, '70308433KRA': 7903, '70308433KRA_AMSTRONG': 7904, '7032/25/1220/0.75': 7905, '7032/5/7032/7/1026/0.75': 7906, '7032/7/7032/7/1220/0.75': 7907, '7032/7/7032/7/692/1.50': 7908, '70328008KRA': 7909, '7035/25/1220/1.02': 7910, '7035/35/1220/0.75': 7911, '70354515KRA': 7912, '7037/25/1220/0.74': 7913, '70371239238F40ATL': 7914, '70371239238F40CSA': 7915, '70372943238F40ATL': 7916, '70376178KRA': 7917, '7038/7038': 7918, '7039/25/1220/0.74': 7919, '70416322KRA': 7920, '7042/25/1220/0.75': 7921, '7042/35/1220/0.62': 7922, '70429621KRA': 7923, '7044/25/1220/0.75': 7924, '7044/25/9010/25/1500/1': 7925, '7044/25/9010/7/1500/1.5': 7926, '7047/35/1220/0.63': 7927, '70566260KRA': 7928, '70593428KRA': 7929, '70593429KRA': 7930, '70705884KRA': 7931, '70708173KRA': 7932, '70711100363F60SAG': 7933, '70741700KRA': 7934, '70931729238F40ATL': 7935, '70932575238F40ATL': 7936, '70933050238F40ATL': 7937, '713601509YHF42SID': 7938, '71530128087FI7KRA': 7939, '71580866539US3CSA': 7940, '71581599539US3ATL': 7941, '716026379V0F40CSA': 7942, '716026749V0F40CSA': 7943, '716DC': 7944, '716HC': 7945, '72-200': 7946, '72250150855F42SID': 7947, '72442956238F40CSA': 7948, '72442958AFFF40CSA': 7949, '724DC': 7950, '725826319V0F40CSA': 7951, '72590002A5QF14SID': 7952, '727714549NNFI7BRE': 7953, '727717909NNF45BRE': 7954, '727717909NNF46': 7955, '72970002A5QF14SID': 7956, '73200128A91F46BRE': 7957, '73532795037F46': 7958, '746017909JDF35CSA': 7959, '746622829JDF60AST': 7960, '747422949JDF42CSA': 7961, '74742294ABUF42': 7962, '74830161363US3CSA': 7963, '74970002067F14': 7964, '74970002A5QF14SID': 7965, '74980040269US3LOR': 7966, '7500/2.00/410.0': 7967, '7500/3.50/408.0': 7968, '7500/4.50/368.0': 7969, '750928009B2F60HEA': 7970, '754217909JDF46': 7971, '75430051269US3LOR': 7972, '75452022351F60ATL': 7973, '756317909JDF35BRE': 7974, '756317909JDF35CSA': 7975, '757901289TLF42KRA': 7976, '758522829JDF60CSA': 7977, '76030128A6TF42BRE': 7978, '76040128A6TF42BRE': 7979, '7633/9006/35/35/1000/0.62': 7980, '763522999JDF60CSA': 7981, '766816759NNF14BRE': 7982, '766817909NNF45': 7983, '769317909JDF45CSA': 7984, '77-300': 7985, '77260118067FI7': 7986, '77292767238F40CSA': 7987, '77293104238F40CSA': 7988, '77293159238F40CSA': 7989, '77350096311F60SAG': 7990, '77532771AEGF40CSA': 7991, '77540012351F42BRE': 7992, '77790077108US3LOR': 7993, '77790077108US3SID': 7994, '77880128A6TF42BRE': 7995, '78100094A6GF42SID': 7996, '78120128320FI7KRA': 7997, '78130128087FI7BRE': 7998, '78130128087FI7KRA': 7999, '781501509D7F42SID': 8000, '783003799EDF46SID': 8001, '78400840311F60SAG': 8002, '784612039YBF60SAG': 8003, '785700029Q8F42SID': 8004, '785800029Q8F42SID': 8005, '78600002A5LF42': 8006, '786531399V1F40ATL': 8007, '786531869V1F40ATL': 8008, '78690007351US3ATL': 8009, '788101289TIF42BRE': 8010, '788101289UNF42BRE': 8011, '788101289UOF42BRE': 8012, '78810128AFRF42BRE': 8013, '78810128AFSF42BRE': 8014, '788501289TIF42BRE': 8015, '78850128AFRF42BRE': 8016, '79000840128F60SAG': 8017, '79000840311F60SAG': 8018, '79070002AGXF42ATL': 8019, '79070002AHZF42SID': 8020, '79080002AGXF42ATL': 8021, '792209629EDF46SID': 8022, '79521240A8WUS3LOR': 8023, '796302889L3F60SAG': 8024, '796683HXXX': 8025, '79770727013F35GAL': 8026, '79953171238F40CSA': 8027, '7BAZ0293': 8028, '7BAZ0328': 8029, '7BAZ0381': 8030, '7BAZ0428 GENT SEDY': 8031, '7BAZ0573 EKO': 8032, '7BAZ0637': 8033, '7BAZ0648 EKO': 8034, '7BAZ292 GENT': 8035, '7BAZ293 GENT': 8036, '7BAZ370 GENT SEDY': 8037, '7BAZ402 GENT SEDY': 8038, '7BAZ446 GENT': 8039, '7_1585_3748': 8040, '7_1780_3748': 8041, '7_1990_3748': 8042, '8-170.800': 8043, '8-170.950': 8044, '8-170.962': 8045, '8-170.980': 8046, '8-180.380': 8047, '8-180.421': 8048, '8-180.430': 8049, '8-180.450': 8050, '8-180.460': 8051, '8/1250/4400/IMEX 391 L': 8052, '8000-0100-0501000': 8053, '8000-0100-0501250': 8054, '8000-0100-0601000': 8055, '8000-0100-0601250': 8056, '8000-0100-0801000': 8057, '8000-0100-0801050': 8058, '8000-0100-0801100': 8059, '8000-0100-0801150': 8060, '8000-0100-0801250': 8061, '8000-0100-0801300': 8062, '8000-0100-0801500': 8063, '8000-0100-0901000': 8064, '8000-0100-0901050': 8065, '8000-0100-0901100': 8066, '8000-0100-0901250': 8067, '8000-0100-0901350': 8068, '8000-0100-0901450': 8069, '8000-0100-0901500': 8070, '8000-0100-1001000': 8071, '8000-0100-1001050': 8072, '8000-0100-1001100': 8073, '8000-0100-1001200': 8074, '8000-0100-1001250': 8075, '8000-0100-1001300': 8076, '8000-0100-1001350': 8077, '8000-0100-1001400': 8078, '8000-0100-1001500': 8079, '8000-0100-100900': 8080, '8000-0100-1181000': 8081, '8000-0100-1251000': 8082, '8000-0100-1251100': 8083, '8000-0100-1251150': 8084, '8000-0100-1251250': 8085, '8000-0100-1251500': 8086, '8000-0100-1351025': 8087, '8000-0100-1501000': 8088, '8000-0100-1501100': 8089, '8000-0100-1501200': 8090, '8000-0100-1501250': 8091, '8000-0100-1501300': 8092, '8000-0100-1501400': 8093, '8000-0100-1501500': 8094, '8000-0100-1501600': 8095, '8000-0100-150900': 8096, '8000-0100-1761250': 8097, '8000-0100-2001000': 8098, '8000-0100-2001150': 8099, '8000-0100-2001250': 8100, '8000-0100-2001500': 8101, '8000-0100-2001600': 8102, '8000-0100-2002000': 8103, '8000-0100-200900': 8104, '8000-0100-2501000': 8105, '8000-0100-2501250': 8106, '8000-0100-2501330': 8107, '8000-0100-2501500': 8108, '8000-0100-3001000': 8109, '8000-0100-3001250': 8110, '8000-0100-3001500': 8111, '8000-0100-3002000': 8112, '8000-0100-300900': 8113, '8000-0101-100940': 8114, '8000-0101-1251085': 8115, '8000-0108-305960': 8116, '8000-0140-0901305': 8117, '8000-0150-0501000': 8118, '8000-0150-0751000': 8119, '8000-0150-1001000': 8120, '8000-0150-1251000': 8121, '8000-0150-1501000': 8122, '8000-0150-2001000': 8123, '8000-0300-1001000': 8124, '8000-0300-1001250': 8125, '8000-0300-1001500': 8126, '8000-0300-1001515': 8127, '8000-0300-100905': 8128, '8000-0300-1251000': 8129, '8000-0300-1251250': 8130, '8000-0300-1501000': 8131, '8000-0300-1501250': 8132, '8000-0300-1501500': 8133, '8000-0300-2001000': 8134, '8000-0300-2001250': 8135, '8000-0300-2001500': 8136, '8000-0300-2501000': 8137, '8000-0300-2501250': 8138, '8000-0300-3001000': 8139, '8000-0300-3001250': 8140, '8000-0300-3001500': 8141, '8000-0390-0701010': 8142, '8000-0390-0701110': 8143, '8000-0390-0701210': 8144, '8000-0390-0701485': 8145, '8000-0390-0701585': 8146, '8000-0390-0801250': 8147, '8000-0475-0751105': 8148, '8004/17/1015/17/975/0.35': 8149, '8004/25/1220/0.62': 8150, '8004/25/7032/7/1026/0.75': 8151, '8004/40/1250/0.50': 8152, '8004/45/996/0,5': 8153, '80052022351F60ATL': 8154, '800AN9010': 8155, '8012/03425/35/35/1240/0.74': 8156, '8012/17/1220/0.6': 8157, '8012/17/1250/0.50': 8158, '8012/17/996/0.50': 8159, '8012/25/1220/0.58': 8160, '8012/25/1220/0.63': 8161, '8012/25/1220/0.74': 8162, '8012/25/1220/0.75': 8163, '8012/25/1220/0.75/CDC13090L': 8164, '8012/25/9002/35/1225/0.75': 8165, '8012/40/8012/12/996/0.50': 8166, '8012/45/96/0.50/CDC15015': 8167, '801300029Q8F42SID': 8168, '8014/35/1268/0.97': 8169, '801401289GYUS3MED': 8170, '8017 GRANITE RAIN': 8171, '8023/25/1220/0.75': 8172, '8025/25/1220/0.63': 8173, '8025/25/1220/0.75': 8174, '80323111AEGF40CSA': 8175, '803512969G5US3MED': 8176, '80360052013US3LOR': 8177, '80382472A90F60LOR': 8178, '804HC': 8179, '805 HC180CS': 8180, '80500069-SP': 8181, '80521018A93F42': 8182, '8069639 0.6X660 DC04EK': 8183, '80850002A3PF42SID': 8184, '809317909NNF45BRE': 8185, '809317909NNF45CSA': 8186, '80991240A8YUS3LOR': 8187, '8100-0100-0501000': 8188, '8100-0100-0501250': 8189, '8100-0100-0601000': 8190, '8100-0100-0601250': 8191, '8100-0100-0801000': 8192, '8100-0100-0801250': 8193, '8100-0100-0801500': 8194, '8100-0100-0901000': 8195, '8100-0100-0901250': 8196, '8100-0100-0901500': 8197, '8100-0100-1001000': 8198, '8100-0100-1001100': 8199, '8100-0100-1001250': 8200, '8100-0100-1001500': 8201, '8100-0100-1001570': 8202, '8100-0100-1251000': 8203, '8100-0100-1251040': 8204, '8100-0100-1251170': 8205, '8100-0100-1251250': 8206, '8100-0100-1251290': 8207, '8100-0100-1251385': 8208, '8100-0100-1251500': 8209, '8100-0100-1251550': 8210, '8100-0100-1251570': 8211, '8100-0100-125960': 8212, '8100-0100-1501000': 8213, '8100-0100-1501100': 8214, '8100-0100-1501250': 8215, '8100-0100-1501500': 8216, '8100-0100-2001000': 8217, '8100-0100-2001250': 8218, '8100-0100-2001268': 8219, '8100-0100-2001500': 8220, '8100-0100-2501500': 8221, '8100-0100-3001000': 8222, '8100-0100-3001115': 8223, '8100-0100-3001250': 8224, '8100-0100-3001500': 8225, '8100-0110-080940': 8226, '8100-0110-080980': 8227, '8100-0300-0601250': 8228, '8100-0300-1001282': 8229, '8100-0300-1251308': 8230, '8100-0300-1251415': 8231, '8100-0570-1501500': 8232, '81130750A0KF14ATL': 8233, '812017909JDF45': 8234, '813F/55/1220/0.63': 8235, '81420161ABAF42CSA': 8236, '81420726363F35CSA': 8237, '814207269BUF35CSA': 8238, '817DC': 8239, '817HC': 8240, '818322829JDF60AST': 8241, '81920379883F35': 8242, '81920379883F35ATL': 8243, '82/05/20/RBB': 8244, '8200-0032-0451210': 8245, '8200-0034-0451015': 8246, '8200-0090-0451250S220Z225MAC': 8247, '8200-0100-0401250': 8248, '8200-0100-0501000': 8249, '8200-0100-0501250': 8250, '8200-0100-0601000': 8251, '8200-0100-0601250': 8252, '8200-0100-0601500': 8253, '8200-0100-0801000': 8254, '8200-0100-0801250': 8255, '8200-0100-0801500': 8256, '8200-0100-0901000': 8257, '8200-0100-0901250': 8258, '8200-0100-0901500': 8259, '8200-0100-1001000': 8260, '8200-0100-1001100': 8261, '8200-0100-1001250': 8262, '8200-0100-1001500': 8263, '8200-0100-1251000': 8264, '8200-0100-1251085': 8265, '8200-0100-1251250': 8266, '8200-0100-1251500': 8267, '8200-0100-1501000': 8268, '8200-0100-1501100': 8269, '8200-0100-1501250': 8270, '8200-0100-1501305': 8271, '8200-0100-1501500': 8272, '8200-0100-150955': 8273, '8200-0100-2001000': 8274, '8200-0100-2001250': 8275, '8200-0100-2001500': 8276, '8200-0100-2501000': 8277, '8200-0100-2501250': 8278, '8200-0100-2501500': 8279, '8200-0100-3001000': 8280, '8200-0100-3001250': 8281, '8200-0100-3001500': 8282, '8200-0100-4001000': 8283, '8200-0100-4001250': 8284, '8200-0100-4001500': 8285, '8200-0120-1001015': 8286, '8200-0123-0701250': 8287, '8200-0123-1001215': 8288, '8200-0134-0451015': 8289, '8200-0134-0451083': 8290, '8200-0134-0451340': 8291, '8200-0242-1001530': 8292, '8200-0444-1201490': 8293, '8200-0510-0801120': 8294, '8200-0510-1001005': 8295, '8200-0603-1251350VEN': 8296, '8200-0603-2001500VEN': 8297, '8200-0603-2501500VEN': 8298, '8200-0638-1501250': 8299, '8200-0646-0801250': 8300, '8200-0730-050850': 8301, '8200-0732-0401125': 8302, '820AN0250': 8303, '820AN3021': 8304, '820AN8250': 8305, '820AN8350': 8306, '82210007037FI7': 8307, '822800029Q8F42SID': 8308, '82450748037FI7': 8309, '82470145A8DF42BRE': 8310, '8254110199TF35LOR': 8311, '825717909JDF45CSA': 8312, '8260A100L6FSL': 8313, '82630002A2JF42SID': 8314, '82670002718F42SID': 8315, '827101289I2F42BRE': 8316, '829407269BUF35CSA': 8317, '82972294ABUF42BRE': 8318, '82990145A8DF42BRE': 8319, '8300-0100-0801000': 8320, '8300-0100-0801250': 8321, '8300-0100-1001000': 8322, '8300-0100-1001250': 8323, '8300-0100-1001500': 8324, '8300-0100-1251000': 8325, '8300-0100-1251250': 8326, '8300-0100-1501000': 8327, '8300-0100-1501250': 8328, '8300-0100-1501500': 8329, '8300-0100-2001000': 8330, '8300-0100-2001250': 8331, '8300-0100-2001500': 8332, '8300-0110-0801250': 8333, '8300-0201-0951000': 8334, '8300-0402-0901000': 8335, '8300-0402-0901250': 8336, '8300-0410-0901000': 8337, '8300-0410-0901250': 8338, '8300-0702-0751000': 8339, '8300-0702-0751250': 8340, '8300-0702-1001000': 8341, '8300-0702-1001250': 8342, '8300-0702-1251000': 8343, '8300-0702-1251250': 8344, '8300-0702-1251500': 8345, '8300-0702-1501000': 8346, '8300-0702-1501250': 8347, '8300-0702-2001000': 8348, '8300-0702-2001250': 8349, '8300-0710-1701053': 8350, '8300-0710-1701127': 8351, '8300-0710-1701305': 8352, '8300-0710-1701440': 8353, '8300-0710-1701515': 8354, '8300-0710-170807': 8355, '8300-0710-170965': 8356, '8300LALFSB': 8357, '830AN3111': 8358, '830AN3121': 8359, '830AN3151': 8360, '830AN3161': 8361, '83201054037FI7': 8362, '832500029Q8F42SID': 8363, '8340A100L6FSB': 8364, '8340A100L6FSL': 8365, '83490128087FI7KRA': 8366, '83500007351F60HEA': 8367, '83500007351F60SID': 8368, '83650128087F42BRE': 8369, '83650128AG7F42BRE': 8370, '837801289ALUS3MED': 8371, '837801289ALUS3SES': 8372, '837901289CEUS3MED': 8373, '8380A100L6FSL': 8374, '83931054037FI7ATL': 8375, '8400-0100-1501000': 8376, '8400-0100-1501250': 8377, '8400-0100-2001000': 8378, '8400-0100-2001250': 8379, '8400-0100-2001500': 8380, '8400-0100-200920': 8381, '8400-0100-2501000': 8382, '8400-0100-2501250': 8383, '8400-0100-2501500': 8384, '8400-0100-3001000': 8385, '8400-0100-3001250': 8386, '8400-0100-3001455': 8387, '8400-0100-3001500': 8388, '8400-0103-3001515': 8389, '84071100363FI7CSA': 8390, '840711009HXFI7CSA': 8391, '84080007932US3ATL': 8392, '84300161A71US3CSA': 8393, '843817909JDF45CSA': 8394, '843817909NNF45CSA': 8395, '84410891816US3ATL': 8396, '84420891816US3ATL': 8397, '84430382067F46SID': 8398, '84460051013US3LOR': 8399, '84470002A5LF42ATL': 8400, '846001189EMUS3SID': 8401, '8460LALFSG': 8402, '846529929B2FI7SID': 8403, '846529989B2FI7SID': 8404, '846530189B2FI7SID': 8405, '84670786539US3CSA': 8406, '85/05/20/Ekoinstal': 8407, '850 HC180CS': 8408, '851001001-00': 8409, '85153028238US3ATL': 8410, '85153029238US3ATL': 8411, '85153039238US3ATL': 8412, '85153089238US3ATL': 8413, '85153090238US3ATL': 8414, '85153091238US3ATL': 8415, '85153092238US3ATL': 8416, '85153093238US3ATL': 8417, '85153103238US3ATL': 8418, '85153131238US3ATL': 8419, '85310382349F46SID': 8420, '853217909JDF35BRE': 8421, '85343041885US3CSA': 8422, '85343042885US3CSA': 8423, '856223139NNF42': 8424, '85650002737F42SID': 8425, '85700128AFOFI7BRE': 8426, '85741005238F40CSA': 8427, '85783117238F40CSA': 8428, '85870433A2QF60ATL': 8429, '85910726363F46CSA': 8430, '859107269BUF35CSA': 8431, '8600XA100O6FSB': 8432, '86310150499F42SID': 8433, '863817909JDF35BRE': 8434, '86390727269F46LOR': 8435, '86460128AFOFI7BRE': 8436, '8655_AVI_38MNB5': 8437, '86670771037FI7ATL': 8438, '86723129539US3ATL': 8439, '86770128466F60SES': 8440, '87052471A8RF42BRE': 8441, '87600002067US3': 8442, '878401289TQF42BRE': 8443, '878500029Q8F42SID': 8444, '87870128AFOFI7BRE': 8445, '87880379843F46': 8446, '87920150128US3SID': 8447, '880AW2017': 8448, '880AW2047': 8449, '88130128087FI7KRA': 8450, '881516619R7F42CSA': 8451, '88380128AI5US3MED': 8452, '88393170AI6F40SID': 8453, '884103799EDF46SID': 8454, '88563174238F40CSA': 8455, '88650128087FI7BRE': 8456, '88660118067FI7ATL': 8457, '88683179AI6F40SID': 8458, '8870-0515-1251500': 8459, '8870-0622-0751250': 8460, '8870-0622-0751500': 8461, '8870-0622-1501250': 8462, '8870-0622-1501500': 8463, '8870-0622-2001250': 8464, '8870-0622-2001500': 8465, '8870-0622-2501500': 8466, '8870-0622-3001250': 8467, '8870-0622-3001500': 8468, '8870-0622-4001500': 8469, '8870-0625-1251500': 8470, '8870-0626-0601250': 8471, '8870-0626-0601280': 8472, '8870-0626-0601335ESD': 8473, '8870-0626-0751100': 8474, '8870-0626-0751160ESD': 8475, '8870-0626-0751250': 8476, '8870-0626-0751435': 8477, '8870-0626-0751500VEN': 8478, '8870-0626-0801455': 8479, '8870-0626-1001200': 8480, '8870-0626-1001250': 8481, '8870-0626-1001260ESD': 8482, '8870-0626-1001265': 8483, '8870-0626-1001460': 8484, '8870-0626-1001475': 8485, '8870-0626-1001500': 8486, '8870-0626-1001500VEN': 8487, '8870-0626-1251350VEN': 8488, '8870-0626-1251500VEN': 8489, '8870-0626-1501250': 8490, '8870-0626-1501420ESD': 8491, '8870-0626-1501500': 8492, '8870-0626-1501500VEN': 8493, '8870-0626-2001250': 8494, '8870-0626-2001250S': 8495, '8870-0626-2001310': 8496, '8870-0626-2001500': 8497, '8870-0626-2001500VEN': 8498, '8870-0626-2501090': 8499, '8870-0626-2501225': 8500, '8870-0626-2501290': 8501, '8870-0626-2501365': 8502, '8870-0626-2501500': 8503, '8870-0626-2501500VEN': 8504, '8870-0626-3001005': 8505, '8870-0626-3001250': 8506, '8870-0626-3001250VEN': 8507, '8870-0626-3001500': 8508, '8870-0626-3001500VEN': 8509, '8870-0626-4001250': 8510, '8870-0626-4001500': 8511, '8870-0626-4001500VEN': 8512, '8870-0633-1001190': 8513, '8870-0636-2001250': 8514, '8870-0648-2001500': 8515, '8870-0656-2001180': 8516, '8870-0656-2001420': 8517, '8870-0716-2501130': 8518, '8870-0736-2501500': 8519, '8870-0736-3001205': 8520, '88703182AI6F40CSA': 8521, '88713183AI6F40CSA': 8522, '88713196AI6F40CSA': 8523, '88730726363F46CSA': 8524, '887416619NNFI7BRE': 8525, '887613989JDFI7CSA': 8526, '887713989JDFI7CSA': 8527, '88800118067FI7': 8528, '88860840128FI7LOR': 8529, '88940311311F45SID': 8530, '889800029Q8F42SID': 8531, '89080046269F42LOR': 8532, '89090118349FI7': 8533, '890AA3674': 8534, '890AH4385': 8535, '890AN1022': 8536, '890AN2022': 8537, '890AN2024': 8538, '890AN2062': 8539, '890AN2082': 8540, '890AN2844': 8541, '890AN2932': 8542, '890AN3021': 8543, '890AN6020': 8544, '890AN6021': 8545, '89101617363FI7CSA': 8546, '89251460A19F60LOR': 8547, '89340002737F42SID': 8548, '8994STAH': 8549, '8995STAH': 8550, '8X54A100L6FSA': 8551, '8X54A100L6FSB': 8552, '8X54A100O6FSA': 8553, '8X54A140L6FSA': 8554, '8X56A100L6FSB': 8555, '9002/03432/35/35/1240/0.74': 8556, '9002/06660/35/35/1240/0.74': 8557, '9002/06665/35/35/1240/0.74': 8558, '9002/06668/35/35/1240/0.74': 8559, '9002/9002': 8560, '9002/9010/35/35/1240/0.62': 8561, '9002/9010/35/35/1240/0.74': 8562, '9005/15/1220/0.75': 8563, '9005/15/745/0.75': 8564, '9005/25/1220/0.55': 8565, '9005/25/1220/0.74': 8566, '9005/25/9006/25/1500/1.00': 8567, '9005/25/9006/25/1500/1.50': 8568, '9005/35/1220/0.75': 8569, '9005/40/1250/0.50': 8570, '9005/55/9005/55/1220/0.75': 8571, '9005/55/9010/55/1220/0.75': 8572, '9006/05481/35/35/1000/062': 8573, '9006/07633/35/35/1000/0.62': 8574, '9006/07633/35/35/1240/0.62': 8575, '9006/07633/35/35/1240/0.74': 8576, '9006/25/1220/0.62': 8577, '9006/25/1220/0.63': 8578, '9006/25/1220/0.74': 8579, '9006/25/1220/0.75': 8580, '9006/25/1500/0.75': 8581, '9006/25/1500/1': 8582, '9006/25/1500/1.00': 8583, '9006/25/1500/1.50': 8584, '9006/25/9006/25/1220/0.63': 8585, '9006/35/1220/0.63': 8586, '9006/35/1220/0.74': 8587, '9006/35/1220/0.75': 8588, '9006/35/1268/0.97': 8589, '9006/35/1500/1.00': 8590, '9006/35/615/1.50': 8591, '9006/35/9006/35/1026/0.75': 8592, '9006/7016/35/1220/0.74': 8593, '9006/7016/35/35/1240/074': 8594, '9006/7032/25/5/1220/074': 8595, '9006/9002/35/35/1240/0.62': 8596, '9006/9002/35/35/1240/0.74': 8597, '9006/9002/35/35/1240/062': 8598, '9006/9002/35/35/1240/074': 8599, '9006/9006/HDX': 8600, '9006/9010/35/35/1000/062': 8601, '9006/9010/35/35/1240/0.74': 8602, '9006/9010/35/35/1240/062': 8603, '9007/25/1220/0.62': 8604, '9007/25/1220/0.74': 8605, '9007/25/1220/0.75': 8606, '9007/35/1220/0.63': 8607, '9007/35/615/1.50': 8608, '9007/7035/35/35/1000/0.74': 8609, '9007/9002/35/35/1240/0.74': 8610, '9007/HFX/1220/0.63/12': 8611, '9010/15/1220/0.72': 8612, '9010/15/1220/0.75': 8613, '9010/15/1220/0.75/CDC13210 CKS': 8614, '9010/15/650/0.74': 8615, '9010/15/650/1': 8616, '9010/15/745/0.75': 8617, '9010/17/1220/0.60': 8618, '9010/25/1040/0.63': 8619, '9010/25/1220/0.58': 8620, '9010/25/1220/0.63': 8621, '9010/25/1220/0.74': 8622, '9010/25/1220/0.75': 8623, '9010/25/1250/1': 8624, '9010/25/1500/0.75': 8625, '9010/25/1500/1.00': 8626, '9010/25/1500/1.50': 8627, '9010/35/1220/0.74': 8628, '9010/35/1220/0.75': 8629, '9010/35/1268/0.97': 8630, '9010/35/1500/1.00': 8631, '9010/35/1500/1.50': 8632, '9010/35/692/1.5': 8633, '9010/55/9010/55/1220/0.75': 8634, '9010/7032/25/5/1220/074': 8635, '9010/9002/15/ZM70/0.75': 8636, '9010/9002/25/5/1040/062/FILM': 8637, '9010/9002/35/35/1000/062': 8638, '9010/9002/35/35/1240/0.62': 8639, '9010/9002/35/35/1240/0.74': 8640, '9010/9006/35/35/1240/0.62': 8641, '9010/9006/35/35/1240/0.74': 8642, '9010/9010/25/1220/0.74': 8643, '9010/9010/70/35/1220/0.75': 8644, '90101250045HDX': 8645, '9016/35/7022/35/1500/1.5': 8646, '9030CLOUDY/35/1250/0.50': 8647, '905DC': 8648, '905HC': 8649, '91/04/20/RBB': 8650, '910 DC01': 8651, '910 HC180CA': 8652, '910 HC300LA NORM ROUGHN': 8653, '92910039 men T15': 8654, '92911022 but in T15': 8655, '930 X 056': 8656, '9340A250PFSB': 8657, '95_NON HUILE': 8658, '962 HC180CA': 8659, '9667 DD11': 8660, '9667 DX51D+Z A': 8661, '9667 S185+AR CUTT': 8662, '9668 DD11 CUTT': 8663, '9668 DX51D+Z A': 8664, '9701254 / 9701253': 8665, '99002101250 GENT': 8666, '99002101500 GENT': 8667, '99002151250 GENT': 8668, '99002200800 GENT': 8669, '99002200850 GENT': 8670, '99010071250 GENT': 8671, '99010201250 GENT': 8672, '99016151250 GENT': 8673, '99016151500 GENT': 8674, 'A': 8675, 'A00000801250': 8676, 'A001.A02185': 8677, 'A001.A02216': 8678, 'A001.A02219': 8679, 'A001.A02221': 8680, 'A001.A02225': 8681, 'A001.A02229': 8682, 'A001.A02246': 8683, 'A001.A02274': 8684, 'A001.A18185': 8685, 'A002STAH': 8686, 'A044STAH': 8687, 'A10110451250': 8688, 'A12CB0501160': 8689, 'A2RSFDC01400': 8690, 'A2R_TRS3555': 8691, 'A2_BQ_SB': 8692, 'A30090451250': 8693, 'A30090551250': 8694, 'A32TJ0501160': 8695, 'A4T051015/15µ': 8696, 'A4T056011/15µ': 8697, 'A4T058012/15µ': 8698, 'A4T05E6011/15M': 8699, 'A50100450850': 8700, 'A50100451070': 8701, 'A50100451250': 8702, 'A60050450850': 8703, 'A60050451480': 8704, 'A60050601250': 8705, 'A60090450850': 8706, 'A60090451480': 8707, 'A68JG0401160': 8708, 'A6G110751250': 8709, 'A7016': 8710, 'A70160401070': 8711, 'A70160451250': 8712, 'A70160551250': 8713, 'A70350451080': 8714, 'A70360451250': 8715, 'A70370451250': 8716, 'A7B160451250': 8717, 'A7Q160450850': 8718, 'A7Q160451480': 8719, 'A7W160450850': 8720, 'A7W160450977': 8721, 'A80140450977': 8722, 'A80190451070': 8723, 'A80190451250': 8724, 'A80190551250': 8725, 'A8T040451250': 8726, 'A8T040551250': 8727, 'A9002': 8728, 'A90020351070': 8729, 'A90020401420': 8730, 'A90020451070': 8731, 'A90020451080': 8732, 'A90020451160': 8733, 'A90020451250': 8734, 'A90020551070': 8735, 'A90020551080': 8736, 'A90020551250': 8737, 'A90020751500': 8738, 'A9002TEST': 8739, 'A90060401310': 8740, 'A90060401420': 8741, 'A90060451070': 8742, 'A90060451250': 8743, 'A90060451480': 8744, 'A90060501160': 8745, 'A90060501250': 8746, 'A90060551070': 8747, 'A90060551160': 8748, 'A90060551250': 8749, 'A90061001250': 8750, 'A9010': 8751, 'A9010/A9010': 8752, 'A90100351180': 8753, 'A90100351300': 8754, 'A90100401310': 8755, 'A90100451070': 8756, 'A90100551070': 8757, 'A90100551160': 8758, 'A90160450850': 8759, 'A92000401070': 8760, 'A92000401160': 8761, 'A92000501070': 8762, 'A92000501080': 8763, 'A92000501160': 8764, 'A92000501250': 8765, 'A9K060450850': 8766, 'A9K060450977': 8767, 'A9Q160450850': 8768, 'A9Q160451480': 8769, 'AA 9010': 8770, 'AA 9010 ZM': 8771, 'AA00112': 8772, 'AB 9010': 8773, 'AC100002': 8774, 'AC200106': 8775, 'AC200112': 8776, 'AC200201': 8777, 'ACC101010001053Y': 8778, 'ACC101010002032S': 8779, 'ACC101010017042A': 8780, 'ACC101010017053A': 8781, 'ACC101010035053A': 8782, 'ACC101010035055S': 8783, 'ACC101010081042A': 8784, 'ACC101010116052A': 8785, 'ACC101020001030I': 8786, 'ACC101020001032S': 8787, 'ACC101020001032V': 8788, 'ACC101020001042A': 8789, 'ACC101020001042I': 8790, 'ACC101020001042J': 8791, 'ACC101020001042V': 8792, 'ACC101020001045V': 8793, 'ACC101020001045Y': 8794, 'ACC101020001053A': 8795, 'ACC101020001053I': 8796, 'ACC101020001053S': 8797, 'ACC101020001053V': 8798, 'ACC101020002032S': 8799, 'ACC101020002032V': 8800, 'ACC101020002042S': 8801, 'ACC101020002042V': 8802, 'ACC101020003032S': 8803, 'ACC101020003032V': 8804, 'ACC101020003042S': 8805, 'ACC101020003042V': 8806, 'ACC103200062065S4': 8807, 'ACC103200116065S4': 8808, 'ACC401030001030I': 8809, 'ACC501110158042G': 8810, 'ACCESS A': 8811, 'ACCESS A AM': 8812, 'ACCESS A CARDBOARD': 8813, 'ACCESS A SPAIN': 8814, 'ACCESS HD': 8815, 'ACCESS HD AM GLOSS 15': 8816, 'ACCESS HD G9006': 8817, 'ACCESS HD GLOSS 35': 8818, 'ACCESS HD SPAIN': 8819, 'ACCESS STANDARD AM': 8820, 'ACCESS STANDARD AM NO CB': 8821, 'ACCESS STANDARD SP NO CB': 8822, 'ACCESS STANDARD Z100': 8823, 'ACCESS STD AM': 8824, 'ACCESS STD AM CARDBOARD': 8825, 'ACCESS STD FILM': 8826, 'ACCESS STD SPAIN': 8827, 'ACCESS STD SPAIN CB': 8828, 'ACCESS STD SPAIN FILM': 8829, 'ACCESS WOOD': 8830, 'ACIER AU BORE LAC_DKP': 8831, 'ACIGAL00001': 8832, 'ACIGAL00002': 8833, 'ACIGAL00015': 8834, 'ACIJET00001': 8835, 'ACIJET00002': 8836, 'ACIJET00003': 8837, 'ACILAF00004': 8838, 'ACILAF00009': 8839, 'ACILAF00010': 8840, 'ACIPRL00122': 8841, 'ACIPRL00126': 8842, 'ACIPRL00127': 8843, 'ACIPRL00128': 8844, 'ACIPRL00129': 8845, 'ACIPRL00132': 8846, 'ACIPRL00133': 8847, 'ACIPRL00135': 8848, 'ACIPRL00142': 8849, 'ACIPRL00143': 8850, 'ACIPRL00146': 8851, 'ACIPRL00148': 8852, 'ACIPRL00149': 8853, 'ACIPRL00150': 8854, 'ACIPRL00152': 8855, 'ACIPRL00153': 8856, 'ACIPRL00154': 8857, 'ACIPRL00156': 8858, 'ACIPRL00157': 8859, 'ACIPRL00158': 8860, 'ACIPRL00160': 8861, 'ACIPRL00174': 8862, 'ACIPRL00181': 8863, 'ACIPRL00182': 8864, 'ACIPRP00005': 8865, 'ACIPRP00021': 8866, 'ACIPRP00026': 8867, 'ACO00003962': 8868, 'ADV1285X595SPLV': 8869, 'AL DX51DAS': 8870, 'AL DX53DAS': 8871, 'AL DX54DAS': 8872, 'AL DX56DAS': 8873, 'AM1/200/1220/1.02': 8874, 'AMB0910280PB1125': 8875, 'AMP-R1251022L': 8876, 'AMP-R1251244L-BOP': 8877, 'AMP-R1261222L-BOP': 8878, 'AMP-S0500900': 8879, 'AMP-S0501000': 8880, 'AMP-S1250922L': 8881, 'AMP-S1250922L-BOP': 8882, 'AMP1-2/25/1220/25/0.74': 8883, 'AMP1-2/25/9010/25/1220/0.62': 8884, 'AMP1-2/25/AMP1-2/25/1500/1.50': 8885, 'AMP1-2/35/1220/25/0.74': 8886, 'AMP1-2/35/AMP1-2/35/1500/1.50': 8887, 'AMSTONG355MC SKIN 2 X 1045': 8888, 'AMSTRONG': 8889, 'AMSTRONG 315MC': 8890, 'AMSTRONG 355MC': 8891, 'AMSTRONG 390MC': 8892, 'AMSTRONG 420MC': 8893, 'AMSTRONG 460MC': 8894, 'AMSTRONG 500MC': 8895, 'AMSTRONG 500MC LASER': 8896, 'AMSTRONG 550MC': 8897, 'AMSTRONG S355MC': 8898, 'AMSTRONG ULTRA 650MC': 8899, 'AMSTRONG ULTRA 700MC': 8900, 'AMSTRONG315MC': 8901, 'AMSTRONG315MC CUTT': 8902, 'AMSTRONG355-MASC': 8903, 'AMSTRONG355MC': 8904, 'AMSTRONG355MC 3,5 X 1435': 8905, 'AMSTRONG355MC CUTT': 8906, 'AMSTRONG355MC SKIN': 8907, 'AMSTRONG355MC SKIN 1,8 X 1155': 8908, 'AMSTRONG355MC_PICKLED': 8909, 'AMSTRONG420MC': 8910, 'AMSTRONG460MC': 8911, 'AMSTRONG500MC': 8912, 'AMSTRONGS355MC': 8913, 'AMSTRONGS355MC_MASC': 8914, 'ANB1208X595SP': 8915, 'ANT1208X465MSP': 8916, 'AO01G02010003': 8917, 'AO01G02415003': 8918, 'AO01G02514402': 8919, 'AP070048': 8920, 'AP082543': 8921, 'AP179540': 8922, 'AP203540': 8923, 'AP209540': 8924, 'AP220045': 8925, 'AP4-5/55/AP1-2/55/1220/1': 8926, 'APVDF25 AVI BF5': 8927, 'ARC1KB0004': 8928, 'ARC2EV0001': 8929, 'ARC2FV0005': 8930, 'ARC2FV0015': 8931, 'ARC2FV0016': 8932, 'ARC2FV0019': 8933, 'ARC2FV0021': 8934, 'ARC2FV0022': 8935, 'ARC2FV0034': 8936, 'ARC2FV0035': 8937, 'ARC2FV0038': 8938, 'ARC2FV0051': 8939, 'ARC2FV0056': 8940, 'ARC2FV0060': 8941, 'ARC2FV0066': 8942, 'ARC2FV0068': 8943, 'ARC2FV0069': 8944, 'ARC2FV0071': 8945, 'ARC2WB0013': 8946, 'ARC2WB0020': 8947, 'ARC2WB0023': 8948, 'ARC2WB0025': 8949, 'ARCELORMITTAL16': 8950, 'ARMSTONG 700': 8951, 'ART.-NR.S.38.06': 8952, 'ART.-NR.S.38.10': 8953, 'ART.-NR.S.38.11': 8954, 'ART.-NR.S.38.13': 8955, 'ART.-NR.S.38.14': 8956, 'ART.-NR.S.38.15': 8957, 'ART.-NR.S.38.16': 8958, 'ART.-NR.S.38.17': 8959, 'ART.-NR.S.38.18': 8960, 'ART.-NR.S.38.19': 8961, 'ART.-NR.S.38.20': 8962, 'ART.-NR.S.38.50': 8963, 'ART.-NR.S.38.51': 8964, 'ART.-NR.S.38.52': 8965, 'ART.-NR.S.38.53': 8966, 'ART.-NR.S.38.54': 8967, 'ART.-NR.S.38.55': 8968, 'ASSC00185RC12AW30--S------DES1': 8969, 'ASSC00217RC67AW30--S------DES1': 8970, 'ASSC00236RC67AW30--S------DES1': 8971, 'ASSC02261CA32AB10---------DES1': 8972, 'ASSC09839RC67BC30--S------DES1': 8973, 'ASSC09876RD67BK30--S------DES2': 8974, 'ASSC13288RC67AW30--S------DES1': 8975, 'ASSC13299RC12AQ30--S------DES1': 8976, 'ASSC13906LC67AW30-CR------DES1': 8977, 'ASSC13929LC68AW30-CR------DES1': 8978, 'ASSC14071RC67BC30--S------DES1': 8979, 'ASSC14431LC67BC30-CR------DES1': 8980, 'ASSC14488RC67BC30--S------DES1': 8981, 'ASSC14518RC67BC30--S------DES1': 8982, 'ASSC14526RC67AW20--S------DES1': 8983, 'ASSC14537LA32AQ30---------DES1': 8984, 'ASSC14540RC67AW30--S------DES1': 8985, 'ASSC14585RC67BC20--S------DES1': 8986, 'ASSC14611RC67BC30--S------DES1': 8987, 'ASTD_G9010': 8988, 'ASTD_G9106': 8989, 'ASTM A36': 8990, 'AT051015/15/20T': 8991, 'AT055008/25µ': 8992, 'AT06/CAT1-2/25/50T': 8993, 'AT06/CAT3/25/50T': 8994, 'AT06/G9006/25/50T': 8995, 'AT061102/25M': 8996, 'AT061102/25µ': 8997, 'AT066005/25M': 8998, 'AT066021/25M': 8999, 'AT066021/25µ': 9000, 'AT067006/25M': 9001, 'AT067006/25µ': 9002, 'AT069002/25M': 9003, 'AT069006/25M': 9004, 'AT069006/25µ': 9005, 'AT07/CAT1-2/25/50T': 9006, 'AT07/CAT3/25/50T': 9007, 'AT07/G9006/25/50T': 9008, 'AT075008/THD35µ': 9009, 'AT078012/25M': 9010, 'AT079006/25µ': 9011, 'AT079006/THD35M': 9012, 'AT079007/THD35/35': 9013, 'ATF05481.5C1700': 9014, 'ATF05481.5C2100': 9015, 'ATF05481.5C2300': 9016, 'ATF05481.5C2500': 9017, 'ATF05481B1700': 9018, 'ATF05481B1860': 9019, 'ATF05481B2000': 9020, 'ATF05481B2118': 9021, 'ATF05481B2770': 9022, 'ATF05481C2200': 9023, 'ATF05481C2584': 9024, 'ATF05482B2250': 9025, 'ATF05482B3000': 9026, 'ATF05482C1650': 9027, 'ATF05482C2000': 9028, 'ATF05482C2100': 9029, 'ATF05482C2500': 9030, 'ATF071010B3510': 9031, 'ATF28045C3450': 9032, 'ATL DX51D+Z': 9033, 'ATL_26G': 9034, 'ATL_DX51D-YS180+Z140': 9035, 'ATL_DX51D-YS220+Z140': 9036, 'ATL_DX53D+Z MAC': 9037, 'ATL_S420MC_2.25X1465MM': 9038, 'ATL_S420MC_2.25X1500MM': 9039, 'ATL_S420MC_2X1300MM': 9040, 'AX 9010': 9041, 'AZURO 0102/50/1000/0,75': 9042, 'AZURO 0102/50/AZURO 0102/25': 9043, 'AvascoSprinkler - Sheets 5mm': 9044, 'B AS00607210052': 9045, 'B CZ02201545944': 9046, 'B CZ02202745708': 9047, 'B CZ02202745751': 9048, 'B CZ02202745832': 9049, 'B CZ02202745833': 9050, 'B CZ02202745834': 9051, 'B CZ02202745908': 9052, 'B CZ02202745931': 9053, 'B CZ02202745944': 9054, 'B CZ02202745946': 9055, 'B CZ02202745951': 9056, 'B CZ02202745952': 9057, 'B CZ02202763632': 9058, 'B CZ02202788758': 9059, 'B CZ02502265957': 9060, 'B CZ02502793921': 9061, 'B CZ02801047928': 9062, 'B CZ02802747944': 9063, 'B CZ02802762605': 9064, 'B CZ03202731938': 9065, 'B CZ03202745944': 9066, 'B CZ03202745946': 9067, 'B CZ03202746946': 9068, 'B GG101018': 9069, 'B GG101019': 9070, 'B GG102019': 9071, 'B GG103019': 9072, 'B GG105019': 9073, 'B GG120019': 9074, 'B GG230019': 9075, 'B GG232019': 9076, 'B K 017 06070': 9077, 'B WS102019': 9078, 'B WS230019': 9079, 'B WS232019': 9080, 'B WS251019': 9081, 'B WS251112': 9082, 'B WS281': 9083, 'B Z 00701003052': 9084, 'B Z 02202702055': 9085, 'B Z 03506002052': 9086, 'B Z 09306002051': 9087, 'B Z 54202317052': 9088, 'B Z 55502902051': 9089, 'B ZE01407515070': 9090, 'B ZM00302410053': 9091, 'B ZM02204310051': 9092, 'B ZM02503710051': 9093, 'B ZM0320710051': 9094, 'B ZM09002410051': 9095, 'B ZM09402410051': 9096, 'B ZM09402411051': 9097, 'B ZM09404611051': 9098, 'B ZM431037': 9099, 'B0016231': 9100, 'B0016289': 9101, 'B0016290': 9102, 'B0016291': 9103, 'B0016292': 9104, 'B0016295': 9105, 'B0016296': 9106, 'B0016338': 9107, 'B0016353': 9108, 'B0016354': 9109, 'B0016355': 9110, 'B0016361': 9111, 'B0016374': 9112, 'B0133110005001500': 9113, 'B7032/B7032': 9114, 'BA001108': 9115, 'BA001119': 9116, 'BA001131': 9117, 'BAL1208X595SP': 9118, 'BAS1165X465GHD': 9119, 'BAS1265X595SP': 9120, 'BB 24239': 9121, 'BB001123': 9122, 'BB001483': 9123, 'BB005508': 9124, 'BB006038': 9125, 'BB1901250': 9126, 'BB23423': 9127, 'BB23968': 9128, 'BB24233': 9129, 'BB24361': 9130, 'BB24394': 9131, 'BC003570': 9132, 'BC004147': 9133, 'BC009162': 9134, 'BC009195': 9135, 'BCC': 9136, 'BD002646': 9137, 'BD003500': 9138, 'BD003501': 9139, 'BD003502': 9140, 'BD004408': 9141, 'BD004426': 9142, 'BEAFIG': 9143, 'BEARWARD': 9144, 'BG007665': 9145, 'BG007918': 9146, 'BG008777': 9147, 'BG015374': 9148, 'BG017700': 9149, 'BG017705': 9150, 'BG018210': 9151, 'BG027663': 9152, 'BG027726': 9153, 'BG028374': 9154, 'BG028746': 9155, 'BG028953': 9156, 'BH000536': 9157, 'BH000573': 9158, 'BK469': 9159, 'BK474': 9160, 'BL S355JR+AR CL1': 9161, 'BLANCO/ASTD/FILM': 9162, 'BLUA03380LC32AW30---------DES1': 9163, 'BLUA03399LC32AW30---------DES1': 9164, 'BLUA03525LA32AW30---------DES1': 9165, 'BLUA03525LC32AW30---------DES1': 9166, 'BLUA03720LC32AW30---------DES1': 9167, 'BLUA04016LC32AW30---------DES1': 9168, 'BLUA04017LC32AW30---------DES1': 9169, 'BLUA04022LC32AW30---------DES1': 9170, 'BLUA04196LC32AW30---------DES1': 9171, 'BLUA04265LC32AW30---------DES1': 9172, 'BLUA14142RC67BC30--S------DES1': 9173, 'BL_27MNCRB5 TRIAL': 9174, 'BL_28MNB5': 9175, 'BL_30 MNB 5': 9176, 'BL_51CRV4': 9177, 'BL_AMSTRONG355MC': 9178, 'BL_C15E': 9179, 'BL_C22E': 9180, 'BL_C35E LAYDE': 9181, 'BL_C45E LAYDE': 9182, 'BL_C50E LAYDE': 9183, 'BL_C55E': 9184, 'BL_C55E LAYDE': 9185, 'BL_C60E': 9186, 'BL_C60E LAYDE': 9187, 'BL_C75S AFCS': 9188, 'BL_DD11': 9189, 'BL_DD11 CAT_A': 9190, 'BL_S235JR': 9191, 'BL_S235JR+AR-CL1': 9192, 'BL_S235JR+AR-CL1 CRANES': 9193, 'BL_S235JR+AR-CL1 TEAR DIN 59220 T': 9194, 'BL_S235JR+AR-CL1 TEAR DIN BRE': 9195, 'BL_S235JR+AR-CL1 TEAR DIN SES': 9196, 'BL_S235JR+AR_CL1 DIAMOND': 9197, 'BL_S235JR-CL1': 9198, 'BL_S275JR': 9199, 'BL_S275JR+AR-CL1': 9200, 'BL_S3555JR': 9201, 'BL_S3555JR+N': 9202, 'BL_S355J0+AR-CL1': 9203, 'BL_S355J2+N-CL1': 9204, 'BL_S355J2+N-CL1 CUTT': 9205, 'BL_S355J2C+N-CL1': 9206, 'BL_S355J2W+N_ORMAZABAL': 9207, 'BL_S355J2W+N_ORMAZABAL SKIN': 9208, 'BL_S355K2+N-CL1': 9209, 'BL_S355MC': 9210, 'BL_S355MC-CAT_A': 9211, 'BL_S355MC-CAT_A CUTT': 9212, 'BL_S420M-CL1': 9213, 'BL_S420MC': 9214, 'BL_S420MC-CAT_A': 9215, 'BL_S420MC-CAT_A CUTT': 9216, 'BL_S460MC-CAT_A': 9217, 'BL_S500MC': 9218, 'BL_S500MC-CAT_A': 9219, 'BL_S500MC-CAT_A CUTT': 9220, 'BL_S550MC': 9221, 'BL_S700MC-CAT_A': 9222, 'BL_S700MC-CAT_A CUTT': 9223, 'BL_S700MC-CL3 AMSTRONG': 9224, 'BL_SH_S235JR+N-CL1': 9225, 'BL_SH_S355J2+N-CL1': 9226, 'BM0004019': 9227, 'BM001121': 9228, 'BM001123': 9229, 'BM001157': 9230, 'BM001159': 9231, 'BM001160': 9232, 'BM001189': 9233, 'BM001197': 9234, 'BM001201': 9235, 'BM001211': 9236, 'BM001213': 9237, 'BM001216': 9238, 'BM001218': 9239, 'BM001255': 9240, 'BM001267': 9241, 'BM001270': 9242, 'BM001273': 9243, 'BM001276': 9244, 'BM001277': 9245, 'BM001278': 9246, 'BM001281': 9247, 'BM001282': 9248, 'BM001283': 9249, 'BM001295': 9250, 'BM001296': 9251, 'BM001302': 9252, 'BM001305': 9253, 'BM001309': 9254, 'BM001310': 9255, 'BM001312': 9256, 'BM001326': 9257, 'BM0014635': 9258, 'BM0014636': 9259, 'BM0014637': 9260, 'BM0014638': 9261, 'BM280GD3101501250': 9262, 'BMD00001': 9263, 'BN001215': 9264, 'BN001216': 9265, 'BN001217': 9266, 'BN001218': 9267, 'BN001219': 9268, 'BN001321': 9269, 'BN001322': 9270, 'BN001327': 9271, 'BN001375': 9272, 'BN001435': 9273, 'BN001603': 9274, 'BN001607': 9275, 'BN001716': 9276, 'BN001717': 9277, 'BN001827': 9278, 'BN002052': 9279, 'BN002056': 9280, 'BN002057': 9281, 'BN002058': 9282, 'BN002059': 9283, 'BN002100': 9284, 'BN002101': 9285, 'BN002102': 9286, 'BN002104': 9287, 'BN002135': 9288, 'BN002137': 9289, 'BN002759': 9290, 'BN002774': 9291, 'BN003100': 9292, 'BN003231': 9293, 'BN003248': 9294, 'BN003255': 9295, 'BN030000': 9296, 'BN030003': 9297, 'BOB': 9298, 'BOL079005': 9299, 'BOL079105': 9300, 'BOL096055': 9301, 'BOL117455': 9302, 'BOL117506': 9303, 'BP001290': 9304, 'BP001291': 9305, 'BP001379': 9306, 'BP001381': 9307, 'BP001382': 9308, 'BP001383': 9309, 'BP001385': 9310, 'BP001388': 9311, 'BP001403': 9312, 'BP001470': 9313, 'BP001472': 9314, 'BP001477': 9315, 'BP001478': 9316, 'BP001490': 9317, 'BP001491': 9318, 'BP001520': 9319, 'BP001651': 9320, 'BP002018': 9321, 'BP002020': 9322, 'BP002062': 9323, 'BP002068': 9324, 'BP002074': 9325, 'BP002091': 9326, 'BP002098': 9327, 'BRE_S350GD+ZM310_PROF.A FROID': 9328, 'BS160172 1': 9329, 'BS160172 2': 9330, 'BS160172 3': 9331, 'BS160172 4': 9332, 'BS160172 5': 9333, 'BTX5703': 9334, 'BTX6701': 9335, 'BUS1 S235JR': 9336, 'C-1175010': 9337, 'C001010100000': 9338, 'C001010300000': 9339, 'C001010700010': 9340, 'C001040200000': 9341, 'C001040200002': 9342, 'C001040400000': 9343, 'C001040500000': 9344, 'C001040800000': 9345, 'C002070100000': 9346, 'C002070600000': 9347, 'C002090300000-CAT_A': 9348, 'C002090400000': 9349, 'C002091100000': 9350, 'C002110200000': 9351, 'C002110300000': 9352, 'C003130105014': 9353, 'C003150501014000021': 9354, 'C00401015101E': 9355, 'C00401035101E': 9356, 'C005080800160': 9357, 'C007130430011': 9358, 'C007130431011': 9359, 'C007130431014': 9360, 'C007130434024': 9361, 'C007130437024': 9362, 'C007151135023': 9363, 'C007180135023': 9364, 'C0078132': 9365, 'C0086711': 9366, 'C00S0501250025 RAL 6011': 9367, 'C00S0501250025 RAL 6020': 9368, 'C00S0501250025 RAL 7016': 9369, 'C00S0501250025 RAL 8004': 9370, 'C00S0501250025 RAL 8011': 9371, 'C00S0501250025 RAL 8012': 9372, 'C00S0501250025 RAL 9006': 9373, 'C00S0501250050 E8187': 9374, 'C00S0501250050 M9344': 9375, 'C00S0631250025 RAL 6020': 9376, 'C00S0631250025 RAL 7016': 9377, 'C00S0631250025 RAL 8004': 9378, 'C00S0631250025 RAL8012 (GENT)': 9379, 'C00S0631250050 E9999': 9380, 'C00S0631250050 M9344': 9381, 'C00S0751250025 RAL 5010': 9382, 'C00S0751250025 RAL 6005': 9383, 'C00S0751250025 RAL 6011': 9384, 'C00S0751250025 RAL 6020': 9385, 'C00S0751250025 RAL 7035': 9386, 'C00S0751250025 RAL 8011': 9387, 'C00S0751250025 RAL 9010': 9388, 'C00S0751250050 M9344': 9389, 'C00S0881250025 RAL 9002': 9390, 'C0103539': 9391, 'C0103540': 9392, 'C015130168024': 9393, 'C037': 9394, 'C050B1077': 9395, 'C060B1218': 9396, 'C075B1500': 9397, 'C088B1500': 9398, 'C096715A4R': 9399, 'C1.45-1250-53': 9400, 'C1.45-1280-59': 9401, 'C100B1500': 9402, 'C1200800750D': 9403, 'C1201000860D': 9404, 'C1201502000D': 9405, 'C1202002000D': 9406, 'C1202502000D': 9407, 'C125B1500': 9408, 'C128026NC6': 9409, 'C1300751500D': 9410, 'C150B1500': 9411, 'C15E': 9412, 'C22E': 9413, 'C2303001250D': 9414, 'C2304001500D': 9415, 'C2305001250D': 9416, 'C2306001250D': 9417, 'C2306001500D': 9418, 'C35': 9419, 'C35E': 9420, 'C3702001260S': 9421, 'C3702001610S': 9422, 'C3702001660S': 9423, 'C3702501520S': 9424, 'C3702501660S': 9425, 'C3702501830S': 9426, 'C3703001215S': 9427, 'C3703001510S': 9428, 'C3703001610S': 9429, 'C3703001670S': 9430, 'C3703002020S': 9431, 'C3703002040S': 9432, 'C3704001510S': 9433, 'C3704001520S': 9434, 'C3704001710S': 9435, 'C3704002020S': 9436, 'C3705001510S': 9437, 'C3706001510S': 9438, 'C3706001520S': 9439, 'C3706001660S': 9440, 'C3706002020S': 9441, 'C3708001510S': 9442, 'C3708002020S': 9443, 'C3XTJ0501160': 9444, 'C40E': 9445, 'C45E': 9446, 'C45E LAYDE': 9447, 'C45E/CCM/DURS/404 REV.1': 9448, 'C45E/CCM/DURS/404 REV.1 (SE)': 9449, 'C50E': 9450, 'C55E': 9451, 'C55_ARANIA': 9452, 'C60E': 9453, 'C60E LAYDE': 9454, 'C60S/CCM/DURS/509 REV.0': 9455, 'C67S': 9456, 'C6XNV0501160': 9457, 'C6XNV0501250': 9458, 'C75/595': 9459, 'C75S/CCM/DURS/433 REV.4': 9460, 'C9X000501160': 9461, 'CALACC67': 9462, 'CB 1060X0,30 9010 A15-20': 9463, 'CB 1060X0,35 9010 1/2 THICK': 9464, 'CB 1060X0,35 9010 A15-20': 9465, 'CB 1165X0,45 9006 AHD 25 Z100': 9466, 'CB 1250X0,40 8004TXT25': 9467, 'CB S275JR+AR': 9468, 'CB0080001': 9469, 'CB0080114': 9470, 'CB0080119': 9471, 'CB0120092': 9472, 'CB0120095': 9473, 'CBD15012509002T': 9474, 'CBD20012509002T': 9475, 'CBE06312509010ST': 9476, 'CBE06315009002ST': 9477, 'CBE07512507016ST': 9478, 'CBE07512509002ST': 9479, 'CBE07512509010ST': 9480, 'CBE07515007016ST': 9481, 'CBE07515007035ST': 9482, 'CBE07515008012ST': 9483, 'CBE07515009002ST': 9484, 'CBE07515009002T': 9485, 'CBE07515009010ST': 9486, 'CBE10010007016ST': 9487, 'CBE10012507016ST': 9488, 'CBE10012509010ST': 9489, 'CBE10015007016ST': 9490, 'CBE10015007016T': 9491, 'CBE10015009002T': 9492, 'CBE10015009010ST': 9493, 'CBE20014109002ST': 9494, 'CBE20014609002ST': 9495, 'CBE20015109002ST': 9496, 'CBE2808009002ST': 9497, 'CBE2907509002ST': 9498, 'CBE2908509002ST': 9499, 'CBET': 9500, 'CBS15012507016ST': 9501, 'CBS15012507035ST': 9502, 'CBS15012509002ST': 9503, 'CBS15012509002T': 9504, 'CBS15012509010ST': 9505, 'CBS15015007016ST': 9506, 'CBS15015009002ST': 9507, 'CBS15015009010ST': 9508, 'CBS20010009002ST': 9509, 'CBS20012507016ST': 9510, 'CBS20012509002T': 9511, 'CBS20012509010ST': 9512, 'CBS20015009010ST': 9513, 'CBS25012009002ST': 9514, 'CBS2908509002ST': 9515, 'CBS30010009002ST': 9516, 'CBS3007509002ST': 9517, 'CBS3007509010ST': 9518, 'CBS3009009002ST': 9519, 'CC 7016M': 9520, 'CC 7016P': 9521, 'CC 7024M': 9522, 'CC 7035P': 9523, 'CC 7039M': 9524, 'CC 9005M': 9525, 'CC 9010': 9526, 'CC 9010 ZM': 9527, 'CC 9016P': 9528, 'CC PRIM': 9529, 'CCE 7016E': 9530, 'CCE 9016E': 9531, 'CCE 9016E RVV': 9532, 'CCE 9016E ZM': 9533, 'CD15125': 9534, 'CD15150': 9535, 'CD18125': 9536, 'CD20100': 9537, 'CD20125': 9538, 'CD20150': 9539, 'CD3125': 9540, 'CD3150': 9541, 'CE0200871320ZV1': 9542, 'CE0200871415ZV1': 9543, 'CE2005013501': 9544, 'CE2006015001': 9545, 'CE2007510001': 9546, 'CE2007512501': 9547, 'CE2008711201': 9548, 'CE2008712501': 9549, 'CE2010010001': 9550, 'CE2010012501': 9551, 'CE2010015001': 9552, 'CE2012510001': 9553, 'CE2012512501': 9554, 'CE2015010001': 9555, 'CE2015012501': 9556, 'CE2015015001': 9557, 'CE2020012501': 9558, 'CE2020015001': 9559, 'CE2025015001': 9560, 'CE2030012501': 9561, 'CE2030015001': 9562, 'CHA1208X595SP': 9563, 'CHC1208X465SOLNX': 9564, 'CHC1365X595SP': 9565, 'CKE 7016E': 9566, 'CL 7016M': 9567, 'CL 7016P': 9568, 'CL 7024M': 9569, 'CL 7039M': 9570, 'CL 9010': 9571, 'CL 9016P': 9572, 'CL PRIM': 9573, 'CL-R7016-00001': 9574, 'CL-R7035-00001': 9575, 'CL-R7037-00001': 9576, 'CL-R7037-00201': 9577, 'CL-R8004-00001': 9578, 'CL-R8012-00001': 9579, 'CL-R9006-00015': 9580, 'CL-R9006-00201': 9581, 'CL-R9007-00201': 9582, 'CL-R9007-00215': 9583, 'CLANL=CLOUDY ANTICATO LIGHT': 9584, 'CLAUDY TERRACOTTA': 9585, 'CLE 7016E': 9586, 'CLE 9016E': 9587, 'CLE 9016E RVV': 9588, 'CLHVI010581250': 9589, 'CLOUDY TERRACOTTA/7032': 9590, 'CLOUDY/35/1250/0.50': 9591, 'CLS.000.001 - 1230': 9592, 'CLS.000.003 - 1230': 9593, 'CLS.000.003 - 1250': 9594, 'CLS05 S500MC/000003': 9595, 'CLS05 S500MC/000004': 9596, 'CLS05 S500MC/000019': 9597, 'CLS05/000019': 9598, 'CLS05/000025': 9599, 'CLS05/000234': 9600, 'CLS05/000419': 9601, 'CLS05/000420': 9602, 'CLS05/000478': 9603, 'CLS05/000507': 9604, 'CLS05/000508': 9605, 'CLS05QS355JOWP/000004': 9606, 'CLS05S700MC/000003': 9607, 'CLS05S700MC/000011': 9608, 'CLS05S700MC/000019': 9609, 'CLS05S700MC/000094': 9610, 'CLS05S700MC/000418': 9611, 'CLS07/000002': 9612, 'CLS07/000013': 9613, 'CLS07/000023': 9614, 'CLS07/000025': 9615, 'CLS07/000027': 9616, 'CLS07/000208': 9617, 'CLS07/000216': 9618, 'CLS07/000230': 9619, 'CLS07/000401': 9620, 'CLS07/000403': 9621, 'CLS07/000404': 9622, 'CLS07/000433': 9623, 'CLS07/000454': 9624, 'CLS10 INDATEN/000478': 9625, 'CLS10 INDATEN/000488': 9626, 'CM09125': 9627, 'CMN A VENIR': 9628, 'CNV38': 9629, 'CNV45': 9630, 'CNVD': 9631, 'CNVD30': 9632, 'CNVD38': 9633, 'CNVD45': 9634, 'CO0301101AC': 9635, 'CO0301251AC': 9636, 'CO0401101AC': 9637, 'CO0401251EC': 9638, 'CO0501101AC': 9639, 'CO0501251AC': 9640, 'CO100N0000992': 9641, 'CO100N0005073': 9642, 'CO100N0007721': 9643, 'CO100N0020000001': 9644, 'CO100N0030699': 9645, 'CO100N0031169': 9646, 'CO200N0010655': 9647, 'CO200N0013436': 9648, 'CO200N0013681': 9649, 'CO200N0013682': 9650, 'CO200N0013683': 9651, 'CO200N0013684': 9652, 'CO200N0013685': 9653, 'CO200N0014070': 9654, 'CO200N0014072': 9655, 'CO200N0014329': 9656, 'CO200N0015250': 9657, 'CO200N0015728': 9658, 'CO200N0016357': 9659, 'CO200N0018540': 9660, 'CO200N0019894': 9661, 'CO200N0020518': 9662, 'CO200N0020520': 9663, 'CO200N0021504': 9664, 'CO200N0022785': 9665, 'CO200N0023159': 9666, 'CO200N0023164': 9667, 'CO200N0023169': 9668, 'CO200N0023170': 9669, 'CO200N0023171': 9670, 'CO200N0023174': 9671, 'CO200N0023175': 9672, 'CO200N0023176': 9673, 'CO200N0023177': 9674, 'CO200N0023178': 9675, 'CO200N0023179': 9676, 'CO200N0023186': 9677, 'CO200N0023187': 9678, 'CO200N0023188': 9679, 'CO200N0023203': 9680, 'CO200N0023208': 9681, 'CO200N0023221': 9682, 'CO200N0023235': 9683, 'CO200N0023236': 9684, 'CO200N0023249': 9685, 'CO200N0023250': 9686, 'CO200N0023251': 9687, 'CO200N0023252': 9688, 'CO200N0023300': 9689, 'CO200N0023301': 9690, 'CO200N0023306': 9691, 'CO200N0023410': 9692, 'CO200N0023636': 9693, 'CO200N0023638': 9694, 'CO200N0023654': 9695, 'CO200N0023655': 9696, 'CO200N0023663': 9697, 'CO200N0023670': 9698, 'CO200N0023804': 9699, 'CO200N0023985': 9700, 'CO200N0024149': 9701, 'CO200N0024153': 9702, 'CO200N0024213': 9703, 'CO200N0024230': 9704, 'CO200N0024304': 9705, 'CO200N0024414': 9706, 'CO200N0024517': 9707, 'CO200N0024593': 9708, 'CO200N0024625': 9709, 'CO200N0024626': 9710, 'CO200N0024648': 9711, 'CO200N0024653': 9712, 'CO200N0024654': 9713, 'CO200N0024724': 9714, 'CO200N0024725': 9715, 'CO200N0024728': 9716, 'CO200N0024729': 9717, 'CO200N0024746': 9718, 'CO200N0024751': 9719, 'CO200N0024768': 9720, 'CO200N0024806': 9721, 'CO200N0024807': 9722, 'CO200N0024808': 9723, 'CO200N0024830': 9724, 'CO200N0024895': 9725, 'CO200N0024920': 9726, 'CO200N0024958': 9727, 'CO200N0024967': 9728, 'CO200N0025047': 9729, 'CO200N0025094': 9730, 'CO200N0025162': 9731, 'CO200N0025163': 9732, 'CO200N0025444': 9733, 'CO200N0025934': 9734, 'CO200N0025960': 9735, 'CO200N0026147': 9736, 'CO200N0026234': 9737, 'CO200N0026443': 9738, 'CO200N0026467': 9739, 'CO200N0026756': 9740, 'CO200N0026766': 9741, 'CO200N0026767': 9742, 'CO200N0027051': 9743, 'CO200N0027141': 9744, 'CO200N0027145': 9745, 'CO200N0027146': 9746, 'CO200N0027710': 9747, 'CO200N0027998': 9748, 'CO200N0028173': 9749, 'CO200N0028412': 9750, 'CO200N0028544': 9751, 'CO200N0028595': 9752, 'CO200N0029094': 9753, 'CO200N0029374': 9754, 'CO200N0029421': 9755, 'CO200N0029464': 9756, 'CO200N0029465': 9757, 'CO200N0029512': 9758, 'CO200N0029588': 9759, 'CO200N0029589': 9760, 'CO200N0029590': 9761, 'CO200N0029591': 9762, 'CO200N0029592': 9763, 'CO200N0029593': 9764, 'CO200N0029711': 9765, 'CO200N0029765': 9766, 'CO200N0029766': 9767, 'CO200N0030052': 9768, 'CO200N0030065': 9769, 'CO200N0030333': 9770, 'CO200N0030655': 9771, 'CO200N0030686': 9772, 'CO200N0030687': 9773, 'CO200N0030786': 9774, 'CO200N0031045': 9775, 'CO200N0031081': 9776, 'CO200N0031243': 9777, 'CO200N0031298': 9778, 'CO200N0031446': 9779, 'CO200N0031454': 9780, 'CO200N0031541': 9781, 'CO200N0031542': 9782, 'CO200N0031543': 9783, 'CO200N0031544': 9784, 'CO200N0031545': 9785, 'CO200N0031547': 9786, 'CO200N0031565': 9787, 'CO200N0031566': 9788, 'CO200N0031643': 9789, 'CO200N0031644': 9790, 'CO200N0031645': 9791, 'CO200N0031649': 9792, 'CO200N0031660': 9793, 'CO200N0031687': 9794, 'CO200N0031693': 9795, 'CO200N0031796': 9796, 'CO200N0031797': 9797, 'CO200N0031812': 9798, 'CO200N0031823': 9799, 'CO200N0032088': 9800, 'CO200N0032155': 9801, 'CO200N0032466': 9802, 'CO200N0032468': 9803, 'CO200N0032613': 9804, 'CO200N0032614': 9805, 'CO200N0032615': 9806, 'CO200N0032654': 9807, 'CO200N0032703': 9808, 'CO200N0032814': 9809, 'CO200N0032815': 9810, 'CO200N0032877': 9811, 'CO200N0032950': 9812, 'CO200N0032951': 9813, 'CO200N0033008': 9814, 'CO200N0033020': 9815, 'CO200N0033021': 9816, 'CO200N0033031': 9817, 'CO200N0033055': 9818, 'CO200N0033056': 9819, 'CO200N0033102': 9820, 'CO200N0033103': 9821, 'CO200N0033104': 9822, 'CO200N0033108': 9823, 'CO200N0033112': 9824, 'CO200N0033147': 9825, 'CO200N0033300': 9826, 'CO200N0033301': 9827, 'CO200N0033302': 9828, 'CO200N0033303': 9829, 'CO200N0033380': 9830, 'CO200N0033440': 9831, 'CO200N0033456': 9832, 'CO200N0033457': 9833, 'CO200N0033460': 9834, 'CO200N0033461': 9835, 'CO200N0033465': 9836, 'CO200N0033466': 9837, 'CO200N0033467': 9838, 'CO200N0033551': 9839, 'CO200N0033554': 9840, 'CO200N0033647': 9841, 'CO200N0033648': 9842, 'CO200N0033649': 9843, 'CO200N0033729': 9844, 'CO300N0002404': 9845, 'CO300N0014067': 9846, 'CO300N0025575': 9847, 'CO300N0026404': 9848, 'CO300N0032256': 9849, 'CO300N0032258': 9850, 'CO300N0033174': 9851, 'CO500N0013451': 9852, 'CO70351000890MA': 9853, 'CO70351001250MA': 9854, 'CO70351001500MA': 9855, 'COACS060L1000BG00DF': 9856, 'COACS060L1250BG00': 9857, 'COACS080L1250BG00DF': 9858, 'COACS080L1250MAGN': 9859, 'COACS080L1370MAGN': 9860, 'COACS080L1500MAGN': 9861, 'COACS120L1000BG00DF': 9862, 'COACS150L1000BG00': 9863, 'COB.100.0890': 9864, 'COB.100.1250': 9865, 'CODC010751000E': 9866, 'CODC010751250E': 9867, 'CODC010751500E': 9868, 'CODC011001000': 9869, 'CODC011001000E': 9870, 'CODC011001250': 9871, 'CODC011001250E': 9872, 'CODC011001500': 9873, 'CODC011001500E': 9874, 'CODC011251000E': 9875, 'CODC011251250E': 9876, 'CODC011251500': 9877, 'CODC011251500E': 9878, 'CODC011501000E': 9879, 'CODC011501250': 9880, 'CODC011501250E': 9881, 'CODC011501500': 9882, 'CODC011501500E': 9883, 'CODC011502000': 9884, 'CODC011901850': 9885, 'CODC012001000E': 9886, 'CODC012001250': 9887, 'CODC012001250E': 9888, 'CODC012001500': 9889, 'CODC012001500E': 9890, 'CODC012002000': 9891, 'CODC012501000': 9892, 'CODC012501250': 9893, 'CODC012501500': 9894, 'CODC012502000': 9895, 'CODC012990900': 9896, 'CODC012991000': 9897, 'CODC012991250': 9898, 'CODC012991500': 9899, 'CODC012991850': 9900, 'CODC012992000': 9901, 'CODC041251000B': 9902, 'CODC041251250B': 9903, 'CODC041251580': 9904, 'CODC041501250': 9905, 'CODC041502000': 9906, 'CODC042001250': 9907, 'CODC042001500': 9908, 'CODC042002000': 9909, 'CODC042501250': 9910, 'CODC042501500': 9911, 'CODC042991500': 9912, 'CODC042992000': 9913, 'CODC051001000B': 9914, 'CODD112502000': 9915, 'CODD113002000': 9916, 'CODD113002020': 9917, 'CODD114001250': 9918, 'CODD114002000': 9919, 'CODE00067S0311001': 9920, 'CODE00120S0310001': 9921, 'CODE00204S0311001': 9922, 'CODE00239S0310001': 9923, 'CODE00239S0310101': 9924, 'CODX510631000MA': 9925, 'CODX510751000MA': 9926, 'CODX510751250MA': 9927, 'CODX510751500MA': 9928, 'CODX511001000MA': 9929, 'CODX511001100MA': 9930, 'CODX511001500MA': 9931, 'CODX511251250MA': 9932, 'CODX511501250MA': 9933, 'CODX511501500MA': 9934, 'CODX511501630MA': 9935, 'CODX512001000MA': 9936, 'CODX512001250MA': 9937, 'CODX512001250ZM': 9938, 'CODX512001500MA': 9939, 'CODX512001680MA': 9940, 'CODX512002000MA': 9941, 'CODX512501280MA': 9942, 'CODX512990950MA': 9943, 'CODX512991250MA': 9944, 'CODX512991400MA': 9945, 'CODX512991500MA': 9946, 'CODX512991500MB': 9947, 'CODX515001250MA': 9948, 'CODX515001500MA': 9949, 'CODX522991000AS': 9950, 'CODX541501250MA': 9951, 'CODX542001250MA': 9952, 'CODX542001500MA': 9953, 'COH3201501250': 9954, 'COIL-LAM9010': 9955, 'COIL201500C': 9956, 'COIL32000A': 9957, 'COIL42000TRA': 9958, 'COK20901396': 9959, 'COK21001396': 9960, 'COL1245X060SP': 9961, 'COLOR TO BE DEFINED': 9962, 'CONE00013S0311001': 9963, 'CONE00025S0311001': 9964, 'CONE00071S0311001': 9965, 'CONE00132S0310000': 9966, 'CONE00132S0310001': 9967, 'CONE00145S0310000': 9968, 'CONE00160S0311000': 9969, 'CONE00244S0310000': 9970, 'CONE00651S0311001': 9971, 'CONE00901S0310001': 9972, 'CONE00901S0310101': 9973, 'CONE01269S0310001': 9974, 'CONE01321S0310000': 9975, 'CONE01572S0311000': 9976, 'CONE02229M3310001': 9977, 'CONE02233M1310000': 9978, 'CONE02309M4310000': 9979, 'CONE92229M3310000': 9980, 'CONSIGNMENT STOCK': 9981, 'COS11001400': 9982, 'COS11501448': 9983, 'COS12501405': 9984, 'COS31251405': 9985, 'COS32001414': 9986, 'COS3502001500ZM': 9987, 'COS3502501500ZM': 9988, 'COS3502991500ZM': 9989, 'COS35M2501500': 9990, 'COS35M3001250': 9991, 'COS35M3001500': 9992, 'COS35M4001500': 9993, 'COS35M4002000': 9994, 'COS420MO20015OOP': 9995, 'COS42M01501500P': 9996, 'COS61501510': 9997, 'COS62001480': 9998, 'COSA2001411': 9999, 'COSC1501379': 10000, 'COSC2001379': 10001, 'COSE1251398': 10002, 'COSE1251449': 10003, 'COSE1251505': 10004, 'COSG1251516': 10005, 'COSG1501384': 10006, 'COSH1501384': 10007, 'COTON 0201/35/COTON 0201/35': 10008, 'COTON 0201/35/PEARL 0208/35': 10009, 'COTON0201/35/35/1026/0,75': 10010, 'COW11501283': 10011, 'CP/1/TIM/2019': 10012, 'CP/2/TIM/2019': 10013, 'CP/3/TIM/2019': 10014, 'CP/7/TIM/2019': 10015, 'CP35504001500NL1': 10016, 'CPB8105100': 10017, 'CPH1000Y800+Z_B': 10018, 'CPR0D X53D0 60125 0Z100 0110A': 10019, 'CPR0DX53D0601250Z1000110A': 10020, 'CPRDX51DC0601250Z100AP00A': 10021, 'CPRDX51DC0601250Z100FP00A': 10022, 'CPRT03125': 10023, 'CPRT045125': 10024, 'CPTM2F06100': 10025, 'CPTM2F06125': 10026, 'CR': 10027, 'CR-1285X0.33-GHDS': 10028, 'CR-EHS-DEC-C-250-3/KS/US': 10029, 'CR-EHS-OCT-C-100-1/KS/US': 10030, 'CR1000-1.42': 10031, 'CR1500-1.42': 10032, 'CR2-GI40/40 WUN': 10033, 'CR2-GI60/60 WUN': 10034, 'CR240LA-GI40/40 WUN': 10035, 'CR300LA-GI40/40 WUN': 10036, 'CR300LA-GI50/50 WUN': 10037, 'CR330Y590T': 10038, 'CRCL': 10039, 'CRCL HC300LA THICK RED': 10040, 'CRCL NORMAL': 10041, 'CRL158': 10042, 'CRL208': 10043, 'CRR0612': 10044, 'CRR061360': 10045, 'CS0406910': 10046, 'CS0506900': 10047, 'CS0507800': 10048, 'CS0507803': 10049, 'CS0508200': 10050, 'CS0508380': 10051, 'CS0508840': 10052, 'CS0510300': 10053, 'CS0510601': 10054, 'CS0510700': 10055, 'CS0511180': 10056, 'CS0511430': 10057, 'CS0512600': 10058, 'CS0513000': 10059, 'CS0607800': 10060, 'CS0608200': 10061, 'CS0608203': 10062, 'CS0608380': 10063, 'CS0609800': 10064, 'CS0610251': 10065, 'CS0610700': 10066, 'CS0610701': 10067, 'CS0611180': 10068, 'CS0611430': 10069, 'CS0707800': 10070, 'CS0708200': 10071, 'CS0709050': 10072, 'CS0709420': 10073, 'CS0709450': 10074, 'CS0709501': 10075, 'CS0710700': 10076, 'CS0711430': 10077, 'CS0712600': 10078, 'CS0809050': 10079, 'CS0909050': 10080, 'CS1006700': 10081, 'CS1009050': 10082, 'CS1009420': 10083, 'CS1009450': 10084, 'CS1012240': 10085, 'CSDX511000890MA': 10086, 'CSDX511001250MA': 10087, 'CSDX511001500MA': 10088, 'CTR1245X088DM': 10089, 'CV 7016P': 10090, 'CV 9010': 10091, 'CVP0751250T': 10092, 'CVP1001250T': 10093, 'CVP1001500T': 10094, 'CVP2001500T': 10095, 'CVP3001250T': 10096, 'CVP3001500T': 10097, 'CVP4001500T': 10098, 'CVS1501250T': 10099, 'CVS1501500T': 10100, 'CVS2001000T': 10101, 'CVS2501250T': 10102, 'CVS2501500T': 10103, 'CVS3001250T': 10104, 'CVS3001500T': 10105, 'CVX2001250T': 10106, 'CVX3001250T': 10107, 'CVX3001500T': 10108, 'CZM2150': 10109, 'CZMMB1001250T': 10110, 'CZMMB2001250T': 10111, 'CZMS2001150T': 10112, 'CZMS3001250T': 10113, 'CZMX3001250T': 10114, 'CZMX3001500T': 10115, 'CZMX4001250T': 10116, 'CZMX4001500T': 10117, 'C_B': 10118, 'D 6020': 10119, 'D 7016M': 10120, 'D 7016P': 10121, 'D 7024M': 10122, 'D 7035P': 10123, 'D 8019': 10124, 'D 9005M': 10125, 'D 9010': 10126, 'D 9016P': 10127, 'D PRIM': 10128, 'D-C00C16-1268X0,45-AL': 10129, 'D-C00C16-944X0,44-AL': 10130, 'D3009': 10131, 'D3011': 10132, 'D305U': 10133, 'D305U Z225': 10134, 'D309U': 10135, 'D309U Z225': 10136, 'D311U': 10137, 'D311U Z225': 10138, 'D6020': 10139, 'D6020 Z225': 10140, 'D605U': 10141, 'D620U': 10142, 'D7016': 10143, 'D7016=E7417': 10144, 'D7024': 10145, 'D7024/9002/35/35/1240/0.62': 10146, 'D7024/9002/35/35/1240/0.74': 10147, 'D7024/G9002/35/35/1240/0.74': 10148, 'D716U': 10149, 'D716U S220GD': 10150, 'D716U Z225': 10151, 'D716X': 10152, 'D724U': 10153, 'D724X': 10154, 'D7T160501250': 10155, 'D7T240501100': 10156, 'D8004': 10157, 'D8004/DEEP MAT 35µ': 10158, 'D8017': 10159, 'D8017 = E8558': 10160, 'D8017/D8017': 10161, 'D8019': 10162, 'D8023/DEEP MAT 35µ': 10163, 'D804U': 10164, 'D804U Z225': 10165, 'D804U/D905U/D716Ud': 10166, 'D817U': 10167, 'D817U Z225': 10168, 'D817X': 10169, 'D819U': 10170, 'D819U Z225': 10171, 'D819U Z275': 10172, 'D819U ZA200': 10173, 'D819U/D819U': 10174, 'D8T040501250': 10175, 'D9005': 10176, 'D9005 Z275': 10177, 'D905U': 10178, 'D905U Z225': 10179, 'D905X': 10180, 'DAIKIN DX53D+ZM MAC': 10181, 'DAIKIN DX53D+ZM MBO': 10182, 'DALOC 310193/107500/8364': 10183, 'DALOC-310190/107501/8361': 10184, 'DC01': 10185, 'DC01 ( RE MIN 170 MPA)': 10186, 'DC01 05X453 T05 8054075': 10187, 'DC01 05X503 8051963': 10188, 'DC01 06X600 8027276': 10189, 'DC01 06X857 8038882': 10190, 'DC01 06X908 8058378': 10191, 'DC01 07X560 8039564': 10192, 'DC01 08X550 T05 8039566': 10193, 'DC01 1,00X1000': 10194, 'DC01 1,00X1250': 10195, 'DC01 1,00X1500': 10196, 'DC01 1,0X1000': 10197, 'DC01 1,50X1000': 10198, 'DC01 1,50X1250': 10199, 'DC01 1,50X1500': 10200, 'DC01 1,5X1250': 10201, 'DC01 2,00X1000': 10202, 'DC01 2,00X1250': 10203, 'DC01 2,00X1500': 10204, 'DC01 2,0X1250': 10205, 'DC01 2,0X1500': 10206, 'DC01 2,99X1000': 10207, 'DC01 2,99X1250': 10208, 'DC01 2,99X1500': 10209, 'DC01 3,0X1250': 10210, 'DC01 3,0X1500': 10211, 'DC01 3.1': 10212, 'DC01 A': 10213, 'DC01 A+ ZX 25/25': 10214, 'DC01 AGRICULT.MACH. EKO 3.1': 10215, 'DC01 BIDONES': 10216, 'DC01 DRY': 10217, 'DC01 EKO 2.2': 10218, 'DC01 EKO 3.1': 10219, 'DC01 GASNICA EKO 3.1': 10220, 'DC01 OILED': 10221, 'DC01 RED.FLAT EKO 2.2': 10222, 'DC01 RED.FLAT FELGI EKO 2.2': 10223, 'DC01 RED.FLAT KUCHNIA EKO 2.2': 10224, 'DC01 RED.FLAT KUCHNIA EKO 3.1': 10225, 'DC01 SLIGHTLY OILED': 10226, 'DC01 UNOILED BARRELS': 10227, 'DC01 ZVI 25/25': 10228, 'DC01+ZE': 10229, 'DC01+ZE 025': 10230, 'DC01+ZE 025 GENT 2.2': 10231, 'DC01+ZE 2,5/2,5': 10232, 'DC01+ZE 25/25': 10233, 'DC01+ZE 3,00X1500': 10234, 'DC01+ZE PH EP': 10235, 'DC01+ZE25/25': 10236, 'DC01+ZE25/25 AC': 10237, 'DC01+ZE25/25 AC 0.400': 10238, 'DC01+ZE_2.99X1250_A_3.1_EC_B': 10239, 'DC01+ZE_2.99X1500_A_3.1_EC_B': 10240, 'DC01+ZV': 10241, 'DC01+ZV 1,50X1500': 10242, 'DC01+ZV 2,00X1500': 10243, 'DC01+ZV-1.60X1178-JB': 10244, 'DC01+ZV25/25': 10245, 'DC01+ZV25/25 AC': 10246, 'DC01+ZV25/25 APC': 10247, 'DC01+ZVI 25/25': 10248, 'DC01+ZVI25/25': 10249, 'DC01+ZVI25/25 EP': 10250, 'DC01+ZV_0.75X1000_A_3.1_EC_B': 10251, 'DC01+ZV_0.88X1500_A_3.1_EC_B': 10252, 'DC01+ZV_1.25X1250_A_3.1_EC_B': 10253, 'DC01+ZV_1.25X1500_A_3.1_EC_B': 10254, 'DC01+ZV_1.5X1000_A_3.1_EC_B': 10255, 'DC01+ZV_1.5X1250_A_3.1_EC_B': 10256, 'DC01+ZV_1.5X1500_A_3.1_EC_B': 10257, 'DC01+ZV_1X1000_A_3.1_EC_B': 10258, 'DC01+ZV_1X1250_A_3.1_EC_B': 10259, 'DC01+ZV_1X1500_A_3.1_EC_B': 10260, 'DC01+ZV_2X1000_A_3.1_EC_B': 10261, 'DC01+ZV_2X1250_A_3.1_EC_B': 10262, 'DC01+ZV_2X1500_A_3.1_EC_B': 10263, 'DC01-00586A': 10264, 'DC01-1015X0.3': 10265, 'DC01-1250X1,5 CCPU': 10266, 'DC01-A BRIGHT 1.2X1102': 10267, 'DC01-AM 0.95X1100': 10268, 'DC01-AM 1.2X1000': 10269, 'DC01-AM 1.5X1205': 10270, 'DC01-CAT_A': 10271, 'DC01-CAT_A C02': 10272, 'DC01-CAT_A NS GALV': 10273, 'DC01CS': 10274, 'DC01CS UNOILED BARRELS': 10275, 'DC01CSD': 10276, 'DC01EK': 10277, 'DC01EK 055X630 8068167': 10278, 'DC01EK 05X500 T05 8056877': 10279, 'DC01EK 05X530 8061876': 10280, 'DC01EK 05X535 T05 8069725': 10281, 'DC01EK 05X565 T05 8069726': 10282, 'DC01EK 06X360 T05 8054496': 10283, 'DC01EK 06X470 8006485': 10284, 'DC01EK 06X570 8071906': 10285, 'DC01EK 07X249 8071977': 10286, 'DC01EK 07X721 8067856': 10287, 'DC01EK 08X736 8027095': 10288, 'DC01NOL RED.FLAT REGAL EKO 2.2': 10289, 'DC01_2.99X1500_A_3.1_EC_B': 10290, 'DC01_25-25_3.00X1500': 10291, 'DC01_PROF.A FROID': 10292, 'DC01_RANO': 10293, 'DC01_SE_PROF.A FROID': 10294, 'DC02 AM-FCE 0.76X1240': 10295, 'DC02 AM-FCE 0.89X1155': 10296, 'DC02 AM-FCE 1.24X1220': 10297, 'DC02 AM-FCE 1X1120': 10298, 'DC02 AM-FCE 1X1265': 10299, 'DC03': 10300, 'DC03 ( RE MIN 170 MPA)': 10301, 'DC03 08X700': 10302, 'DC03 125X1275': 10303, 'DC03 140X1337': 10304, 'DC03 210X1436': 10305, 'DC03 AFCS UNOILED': 10306, 'DC03 EKO 2.2': 10307, 'DC03 EKO 3.1': 10308, 'DC03 GASNICA EKO 3.1': 10309, 'DC03-CAT_A': 10310, 'DC03-CAT_A NS NS': 10311, 'DC03EK': 10312, 'DC04': 10313, 'DC04 ( RE MIN 170 MPA)': 10314, 'DC04 095X1265': 10315, 'DC04 095X1450': 10316, 'DC04 1.5X1290': 10317, 'DC04 AMO 0.800': 10318, 'DC04 CAPL VAILLANT': 10319, 'DC04 ED SOLFER+ MO 0.700': 10320, 'DC04 EKO 3.1': 10321, 'DC04 EST LIGHT HIGHGLOSS 85%': 10322, 'DC04 GASNICA EKO 3.1': 10323, 'DC04 GEBLAUWD GLANZEND': 10324, 'DC04 OILED': 10325, 'DC04+ZE': 10326, 'DC04+ZE 25/25 UNOILED': 10327, 'DC04+ZE ASP A FULL TOL WELDS': 10328, 'DC04+ZE50/50': 10329, 'DC04+ZE75/75': 10330, 'DC04-1020 X 2.00 CCPU': 10331, 'DC04-AM 0.95X1120': 10332, 'DC04-AM 0.9X1100': 10333, 'DC04-AM 0.9X1242': 10334, 'DC04-CAT_A': 10335, 'DC04-CAT_A DD GALV': 10336, 'DC04-ISO-1150X2.5 3.1': 10337, 'DC04BS-NORMAL ROUGHNESS': 10338, 'DC04ED': 10339, 'DC04ED-NORMAL ROUGHNESS': 10340, 'DC04ED.0.60X1316AMLO': 10341, 'DC04ED.0.80X1245AMLO': 10342, 'DC04ED.1X1405AMLO': 10343, 'DC04ED_1250 X 1.50_CCPU': 10344, 'DC04EK': 10345, 'DC04EK 06X360 T05 8054496': 10346, 'DC04EK 06X487 8051190': 10347, 'DC04EK 06X520 8027096': 10348, 'DC04EK 08X620 8065805': 10349, 'DC04EK_1250 X 1.50_CCPU': 10350, 'DC04RB_SB_ARANIA': 10351, 'DC04RB_SB_ARANIA(REROLLING)': 10352, 'DC04_1300X2.5_A_CCPU': 10353, 'DC04_C20MIN_SW': 10354, 'DC05': 10355, 'DC05 NON IF': 10356, 'DC05+ZE': 10357, 'DC06 LIGHTLY OILED': 10358, 'DC06-CAT_A': 10359, 'DC06EK 06X520 8041395': 10360, 'DC06RB': 10361, 'DC6EK_1830X2.20_SID': 10362, 'DD 11': 10363, 'DD 11-CAT A FM': 10364, 'DD 12': 10365, 'DD 12 CUTT': 10366, 'DD 13': 10367, 'DD11': 10368, 'DD11 CL1': 10369, 'DD11 CL1 DIN 59220-T': 10370, 'DD11 CL1 _RED. TOL.': 10371, 'DD11 DKP 1000X2.00': 10372, 'DD11 DKP 1000X2.00 CVLT': 10373, 'DD11 DKP 1000X3.00 CVLT': 10374, 'DD11 DKP 1000X4.00': 10375, 'DD11 DKP 1000X5.00 CVLT': 10376, 'DD11 DKP 1250 X 1.50': 10377, 'DD11 DKP 1250X2.00 CVLT': 10378, 'DD11 DKP 1250X3.00 CVLT': 10379, 'DD11 DKP 1250X5.00 CVLT': 10380, 'DD11 DKP 1280X2.00 CVLT': 10381, 'DD11 DKP 1500X2.00 CVLT': 10382, 'DD11 DKP 1500X3.00': 10383, 'DD11 DKP 1500X3.00 CVLT': 10384, 'DD11 DKP 2000X4.00 CIS CVLT': 10385, 'DD11 EKO': 10386, 'DD11 KRA': 10387, 'DD11 WIHTOUT ULC G1 1.46X1240': 10388, 'DD11 WIHTOUT ULC G1 1.46X1332': 10389, 'DD11 WIHTOUT ULC G1 2.85X1387': 10390, 'DD11 WIHTOUT ULC G1 3.45X1314': 10391, 'DD11-CAT-A_1980X3.00CIS3.1CVLT': 10392, 'DD11-CAT.A_NON CIS_2.2': 10393, 'DD11-CAT_A': 10394, 'DD11-CAT_A_FLAT_RED': 10395, 'DD11-CAT_A_LAGRIMADO': 10396, 'DD11-CL1': 10397, 'DD11-CL1 PICKLED+OILED': 10398, 'DD11-CL1_NON CIS_2.2': 10399, 'DD11/103': 10400, 'DD11CAT.A1.5X1500NO.CI_2.2CVLT': 10401, 'DD11CAT.A_6X1500_NOCISA2.2CVLT': 10402, 'DD11_2X1500_UNBESAUMT': 10403, 'DD11_CAT A': 10404, 'DD11_CAT-A': 10405, 'DD11_CL1': 10406, 'DD12': 10407, 'DD12 CATA': 10408, 'DD12-CAT_A': 10409, 'DD13': 10410, 'DD13 BURDINAK': 10411, 'DD13 EKO': 10412, 'DD13-CAT.A_NON CIS_3.1': 10413, 'DD13-CAT_A': 10414, 'DD13_3.5X1355_NTR_CERT 2.2': 10415, 'DD13_3.5X1360_ NTR_WINTER': 10416, 'DD13_3X1240_NTR_ WINTER': 10417, 'DD14 TI 4.55X1471': 10418, 'DD15': 10419, 'DE 1501500Z000DD11': 10420, 'DE 2001180Z000P355': 10421, 'DE 2751410Z000S355': 10422, 'DE 7016E': 10423, 'DE 9016E': 10424, 'DE 9016E RVV': 10425, 'DEEPMAT-Z275-RAL8019': 10426, 'DEEPMAT-Z275-RR23': 10427, 'DEEPMAT-ZA200-RAL8017': 10428, 'DEEPMT-Z100-RAL3009': 10429, 'DEEPMT-ZA265-RAL3005': 10430, 'DEPANNAGE': 10431, 'DEQ P355NH': 10432, 'DEQ S700MC': 10433, 'DEQ1 DD15': 10434, 'DEQ1 P295GH': 10435, 'DEQ1 P355NH-CAT_A': 10436, 'DEQ1 P355NH-CAT_A/P355NH': 10437, 'DEQ1 S275J2+N': 10438, 'DEQ1 S275JR': 10439, 'DEQ1 S275JR+N': 10440, 'DEQ1 S315MC': 10441, 'DEQ1 S355J2+N': 10442, 'DEQ1 S355MC': 10443, 'DEQ1 S420MC': 10444, 'DEQ1 S460MC': 10445, 'DEQ1 S500MC': 10446, 'DEQ1 S600MC': 10447, 'DEQ1 SA516G60-LOWSI': 10448, 'DES.THICK.': 10449, 'DES1 DD11-CL1AMFCE': 10450, 'DES1 S235J2+N': 10451, 'DES1 S235JR': 10452, 'DES1 S235JR+N': 10453, 'DFSET1.2HD': 10454, 'DFSET2.0HD': 10455, 'DIA1165X465SP': 10456, 'DIA1208X465SP': 10457, 'DIAMOND': 10458, 'DIN 59220-T (teardrop)': 10459, 'DK026H': 10460, 'DK026I': 10461, 'DK033B / F': 10462, 'DK033C': 10463, 'DK033D': 10464, 'DK033E': 10465, 'DK033F': 10466, 'DK033G / B': 10467, 'DK036F': 10468, 'DK037D-O': 10469, 'DK038D-J': 10470, 'DK039F-A': 10471, 'DK040B / B': 10472, 'DK045B / B': 10473, 'DK048A-B': 10474, 'DLY-13535': 10475, 'DLY-13720': 10476, 'DLY13931': 10477, 'DP600': 10478, 'DP600+ZF 2.40X1329': 10479, 'DR51_1.2_S350': 10480, 'DR51_1.2_S350_ZM310': 10481, 'DTR60_0.9_S350': 10482, 'DTR60_0.9_S350_ZM310': 10483, 'DTR60_1.2_S350': 10484, 'DTR80_0.9_S350_ZM310': 10485, 'DTR80_1.2_S350_ZM310': 10486, 'DUALPHASE 600 1.5X960': 10487, 'DUALPHASE 700 2,25x1200': 10488, 'DUALPHASE 700 2x1200': 10489, 'DUALPHASE 980 2x1200': 10490, 'DUMMY': 10491, 'DUMMY ELCL_ZE': 10492, 'DURABOR 30MNB5': 10493, 'DUVET 0202/35/DUVET 0202/35': 10494, 'DX51 EST MAT MT DB FACE 15/20%': 10495, 'DX51 GR FLEX 61E2 GRIS 7016': 10496, 'DX51 GR FLEX 66FF GRIS': 10497, 'DX51 GR STD AM DB FACE': 10498, 'DX51 Z275': 10499, 'DX51 ZM120': 10500, 'DX51+Z100 G016': 10501, 'DX51.GR.FLEX-GRAINE.G30.DF': 10502, 'DX51/ZM90/0.5/996': 10503, 'DX51/ZM90/0.63/996': 10504, 'DX51D': 10505, 'DX51D + ZM175': 10506, 'DX51D +ZM120': 10507, 'DX51D / Z275': 10508, 'DX51D 1/2 ESTFLEX DB FACE MT': 10509, 'DX51D ACC STD DB FACE': 10510, 'DX51D ACC STD MT ACC A MT': 10511, 'DX51D ACC STD MT G30 B5 AM': 10512, 'DX51D APPL STD MTG30 B5AM': 10513, 'DX51D CBF Z100': 10514, 'DX51D CBF+Z275 EA15µ 9010': 10515, 'DX51D EST FLEX MT B10 MT': 10516, 'DX51D EST FLEX MT G40 B5 AM': 10517, 'DX51D EST FLEX MT G40 B5 ROHS': 10518, 'DX51D EST FLEX MT G80 B5 AM': 10519, 'DX51D EST LIGHT MT EST ACC MT': 10520, 'DX51D EST MAT MT 68P9': 10521, 'DX51D EST MAT MT B10 MT': 10522, 'DX51D EST MAT MT G20 B5 AM': 10523, 'DX51D EST WHIPEBOARD MTT B5 AM': 10524, 'DX51D EST.FLEX 25/5': 10525, 'DX51D EST.FLEX GRAINE 25/5': 10526, 'DX51D ESTC ACC MT B5 AM ROHS': 10527, 'DX51D ESTETIC STANDARD BF5': 10528, 'DX51D ESTFLEX B HIGHGLOSS MT': 10529, 'DX51D ESTFLEX DB FACE MT': 10530, 'DX51D GR HD AM G30 B5 AM': 10531, 'DX51D GR HDS MT B5 AM': 10532, 'DX51D GR STD AM G30 B5 AM': 10533, 'DX51D GR STD MT 25M FILM 70': 10534, 'DX51D GR STD MT FILM 60/80': 10535, 'DX51D GR STD MT G15 AM MONO': 10536, 'DX51D GR STD MT G40 B5 AM': 10537, 'DX51D GRAN FLEX MT G40 B25': 10538, 'DX51D KRK1': 10539, 'DX51D Z100': 10540, 'DX51D Z100 25/7 065X1250 G7016': 10541, 'DX51D Z275': 10542, 'DX51D Z275 MAC': 10543, 'DX51D ZM': 10544, 'DX51D+AS ALUSI A PN SA': 10545, 'DX51D+AS MA': 10546, 'DX51D+AS MAC': 10547, 'DX51D+AS120': 10548, 'DX51D+AS120 AO 0.700': 10549, 'DX51D+AS120 MUZ 3.1': 10550, 'DX51D+AS120_C04_2.2': 10551, 'DX51D+Z': 10552, 'DX51D+Z - OIL': 10553, 'DX51D+Z 0.53X1250': 10554, 'DX51D+Z 0.58X1250': 10555, 'DX51D+Z 0.6X1250 SINGLE SIDED': 10556, 'DX51D+Z 0.7X1180': 10557, 'DX51D+Z 0.80X1186 DIAM508': 10558, 'DX51D+Z 0.8X1180': 10559, 'DX51D+Z 0.8X1206': 10560, 'DX51D+Z 0.8X1207': 10561, 'DX51D+Z 1X1260 DOUBLE SIDED': 10562, 'DX51D+Z 275 MAC': 10563, 'DX51D+Z 7M 80B 9966 MONO': 10564, 'DX51D+Z A': 10565, 'DX51D+Z A SHINY': 10566, 'DX51D+Z A SURF': 10567, 'DX51D+Z ACCESS A': 10568, 'DX51D+Z ACCESS A B/G': 10569, 'DX51D+Z ACCESS STD': 10570, 'DX51D+Z ASTD': 10571, 'DX51D+Z B': 10572, 'DX51D+Z B PI WELDS LABEL': 10573, 'DX51D+Z C14S': 10574, 'DX51D+Z ESTRUCTURA': 10575, 'DX51D+Z G9005': 10576, 'DX51D+Z G9073': 10577, 'DX51D+Z M': 10578, 'DX51D+Z MAC': 10579, 'DX51D+Z MAC 1.2X1250 Z 200': 10580, 'DX51D+Z MAC 1.4X1250 Z 200': 10581, 'DX51D+Z MAC AVEC SOUD OTIS': 10582, 'DX51D+Z MAC AVEC SOUDURE': 10583, 'DX51D+Z MAC SANS SOUD OTIS': 10584, 'DX51D+Z MAC SWI': 10585, 'DX51D+Z MAC WIDTH -0/+0,2': 10586, 'DX51D+Z MAC z600': 10587, 'DX51D+Z MBC': 10588, 'DX51D+Z N': 10589, 'DX51D+Z NEW HDG KRA': 10590, 'DX51D+Z NORMES AFCS (Z725)': 10591, 'DX51D+Z SANS SOUDURE': 10592, 'DX51D+Z Z 275': 10593, 'DX51D+Z Z725 AFCS': 10594, 'DX51D+Z-275-MAC 0.8X1362': 10595, 'DX51D+Z-275-MAC 0.95X1110': 10596, 'DX51D+Z-275-MAC 2.35X1267': 10597, 'DX51D+Z-275-MAC 2.75X1265': 10598, 'DX51D+Z-275-MAC 2.75X1270': 10599, 'DX51D+Z/25MY/ASTD/C9QL/NO FILM': 10600, 'DX51D+Z100': 10601, 'DX51D+Z100 0,45X1250 M': 10602, 'DX51D+Z100 0,45X1250 N': 10603, 'DX51D+Z100 0,46X1250 M': 10604, 'DX51D+Z100 0,46X1250 N': 10605, 'DX51D+Z100 0,50X1250 N': 10606, 'DX51D+Z100 0,60X1250 M': 10607, 'DX51D+Z100 0,60X1250 N': 10608, 'DX51D+Z100 0,65X1250 M': 10609, 'DX51D+Z100 0,65X1250 N': 10610, 'DX51D+Z100 0,70X1250 M': 10611, 'DX51D+Z100 0,70X1250 N': 10612, 'DX51D+Z100 0,80X1250 M': 10613, 'DX51D+Z100 0,80X1250 N': 10614, 'DX51D+Z100 0.3*975': 10615, 'DX51D+Z100 0.4*1090 Z100': 10616, 'DX51D+Z100 0.4*975': 10617, 'DX51D+Z100 1,00X1250 N': 10618, 'DX51D+Z100 1.18X1060': 10619, 'DX51D+Z100 1.18X1090': 10620, 'DX51D+Z100 1.18X1250': 10621, 'DX51D+Z100 1.4X1250': 10622, 'DX51D+Z100 1.9X1250': 10623, 'DX51D+Z100 2,00X1250 M': 10624, 'DX51D+Z100 2,00X1250 N': 10625, 'DX51D+Z100 2,4*1051 KRK1': 10626, 'DX51D+Z100 20MY AA': 10627, 'DX51D+Z100 25MY AS': 10628, 'DX51D+Z100 EKO 2.2': 10629, 'DX51D+Z100 G7035': 10630, 'DX51D+Z100 G9010': 10631, 'DX51D+Z100 G9016': 10632, 'DX51D+Z100 MA': 10633, 'DX51D+Z100 MAC': 10634, 'DX51D+Z100 MAC 0.500': 10635, 'DX51D+Z100 MAC 1.000': 10636, 'DX51D+Z100 MAC 1.200': 10637, 'DX51D+Z100 MAC 1.600': 10638, 'DX51D+Z100 MAC 2.500': 10639, 'DX51D+Z100 MAC 3.000': 10640, 'DX51D+Z100 MB': 10641, 'DX51D+Z100 NAC': 10642, 'DX51D+Z100 NEW PASSIV': 10643, 'DX51D+Z100 RAL 7024 EKO': 10644, 'DX51D+Z140': 10645, 'DX51D+Z140 C+J MAE': 10646, 'DX51D+Z140 EKO 2.2': 10647, 'DX51D+Z140 MAC': 10648, 'DX51D+Z140 MAC 0.76X1094': 10649, 'DX51D+Z140 MAC 1X1049': 10650, 'DX51D+Z140_1/3_PROF.A FROID': 10651, 'DX51D+Z140_MBC_1250X0.7': 10652, 'DX51D+Z140_MBE_1025X1.25': 10653, 'DX51D+Z140_MBE_1280X1.25': 10654, 'DX51D+Z150 MAC': 10655, 'DX51D+Z200 1,18*1250 KRA2': 10656, 'DX51D+Z200 1.18X1146 KRA2': 10657, 'DX51D+Z200 1.4X1250': 10658, 'DX51D+Z200 EKO 2.2': 10659, 'DX51D+Z200 MAC 1.4X1250': 10660, 'DX51D+Z200 MAC 1.85X1250': 10661, 'DX51D+Z225 06756': 10662, 'DX51D+Z225 G9006': 10663, 'DX51D+Z275': 10664, 'DX51D+Z275 EKO 2.2': 10665, 'DX51D+Z275 GS25µ 9010': 10666, 'DX51D+Z275 GS25µ7012': 10667, 'DX51D+Z275 GS25µ9010': 10668, 'DX51D+Z275 KRA 2.2': 10669, 'DX51D+Z275 MAC': 10670, 'DX51D+Z275 MAC 1.15X1150': 10671, 'DX51D+Z275 MAC 1.4X1250': 10672, 'DX51D+Z275 MAC 1.5X1265': 10673, 'DX51D+Z275 MAC 1.85X1250': 10674, 'DX51D+Z275 MAC 1ER CHOIX': 10675, 'DX51D+Z275 MAC PW': 10676, 'DX51D+Z275 MAE': 10677, 'DX51D+Z275 MBC': 10678, 'DX51D+Z275 MBC 3.1': 10679, 'DX51D+Z275 NOWELD': 10680, 'DX51D+Z275_0.06_PROF.A FROID': 10681, 'DX51D+Z275_MAE_1000X0.50': 10682, 'DX51D+Z275_MAE_1250X0.50': 10683, 'DX51D+Z275_MAE_1500X0.50': 10684, 'DX51D+Z275_MAE_2.2': 10685, 'DX51D+Z350': 10686, 'DX51D+Z350 GRSTD MT B15 MONO': 10687, 'DX51D+Z600 DES_GALV EDGES': 10688, 'DX51D+ZM': 10689, 'DX51D+ZM 175': 10690, 'DX51D+ZM 195': 10691, 'DX51D+ZM 310': 10692, 'DX51D+ZM 90': 10693, 'DX51D+ZM MAE': 10694, 'DX51D+ZM MBE': 10695, 'DX51D+ZM090': 10696, 'DX51D+ZM120': 10697, 'DX51D+ZM120 SUPEROPTIMIZED': 10698, 'DX51D+ZM120MAC': 10699, 'DX51D+ZM175': 10700, 'DX51D+ZM175 0,50X1250': 10701, 'DX51D+ZM175 0,60X1250': 10702, 'DX51D+ZM175 3.1': 10703, 'DX51D+ZM175 MAE': 10704, 'DX51D+ZM250': 10705, 'DX51D+ZM250 1.4X1292': 10706, 'DX51D+ZM250 1.4X1338': 10707, 'DX51D+ZM250 MAC': 10708, 'DX51D+ZM250 MAE': 10709, 'DX51D+ZM250MAC': 10710, 'DX51D+ZM300 MAC': 10711, 'DX51D+ZM310': 10712, 'DX51D+ZM310 2X1250': 10713, 'DX51D+ZM310 CBF': 10714, 'DX51D+ZM310 MAS': 10715, 'DX51D+ZM310 NOVENCO': 10716, 'DX51D+ZM310MAC': 10717, 'DX51D+ZM310MAC 1X1060': 10718, 'DX51D+ZM310MAO 2.3X1317': 10719, 'DX51D+ZM430': 10720, 'DX51D+ZM430 0,60X1250': 10721, 'DX51D+ZM430 2X1250': 10722, 'DX51D+ZM430MAC': 10723, 'DX51D+ZM_YS220': 10724, 'DX51D+Z_A': 10725, 'DX51D+Z_YS180': 10726, 'DX51D+Z_YS220': 10727, 'DX51D-Z100 SPER 6740': 10728, 'DX51DZ200-1000X1.2': 10729, 'DX51DZ275-1324X0.8': 10730, 'DX51DZ275MAC29012502.212': 10731, 'DX51DZA185-1000X0,6': 10732, 'DX51DZA185-1000X1,20': 10733, 'DX51DZA185-1250X0,6': 10734, 'DX51DZA185-1250X1,20': 10735, 'DX51DZM': 10736, 'DX51DZM12025012502.212': 10737, 'DX51D_Z225_D305U': 10738, 'DX51D_Z225_D309U': 10739, 'DX51D_Z225_D311U': 10740, 'DX51D_Z225_G5010': 10741, 'DX51D_Z275_D305U': 10742, 'DX51Z275 0.45*1160 GLUEING': 10743, 'DX52D + ZM130': 10744, 'DX52D EST.FLEX 25/5': 10745, 'DX52D ZM120': 10746, 'DX52D+AS': 10747, 'DX52D+Z ASPECT A': 10748, 'DX52D+Z MBC': 10749, 'DX52D+Z MBO': 10750, 'DX52D+Z-MA_A': 10751, 'DX52D+Z100 0.3*975': 10752, 'DX52D+Z100 MAO EKO 3.1': 10753, 'DX52D+Z100 MB': 10754, 'DX52D+Z140': 10755, 'DX52D+Z200_0.06_PROF.A FROID': 10756, 'DX52D+Z275+A': 10757, 'DX52D+ZM': 10758, 'DX52D+ZM 120+EASY FILM E': 10759, 'DX52D+ZM 175 + EASY FILM E': 10760, 'DX52D+ZM MBC': 10761, 'DX52D+ZM195 MAC 1.5X1100': 10762, 'DX52D+ZM195MAC 1.2X1120': 10763, 'DX52D-YS260/340+Z 12/5 MICRON': 10764, 'DX52DYS260340+Z 0.95X1144': 10765, 'DX52DZ100-1242X0.3': 10766, 'DX53+Z 05X550 T05 8056586': 10767, 'DX53+ZM': 10768, 'DX53D': 10769, 'DX53D +Z A': 10770, 'DX53D+ Z140': 10771, 'DX53D+AS': 10772, 'DX53D+AS120': 10773, 'DX53D+Z': 10774, 'DX53D+Z 05X575 8055120': 10775, 'DX53D+Z 05X603 T05 8043400': 10776, 'DX53D+Z 05X700 8051961': 10777, 'DX53D+Z 06X528 T05 8054077': 10778, 'DX53D+Z 06X935 8058377': 10779, 'DX53D+Z A WELDS': 10780, 'DX53D+Z ASPECT A': 10781, 'DX53D+Z MBO': 10782, 'DX53D+Z-275-MBC 0.95X1200': 10783, 'DX53D+Z100 SATELLITE 2.2': 10784, 'DX53D+Z350': 10785, 'DX53D+ZM': 10786, 'DX53D+ZM 200 0,7 MM': 10787, 'DX53D+ZM 200+ EASY F. 1,2 mm': 10788, 'DX53D+ZM MA EFE': 10789, 'DX54D+AS120 AC EASYFILM / 1.00': 10790, 'DX54D+Z': 10791, 'DX54D+Z 06X685 T05 8057121': 10792, 'DX54D+Z-100-MBC 0.95X928': 10793, 'DX54D+Z100 MB': 10794, 'DX54D+Z275EKO DRPIPES2.2': 10795, 'DX54D+ZA': 10796, 'DX54D+ZM': 10797, 'DX54D+ZM MAE': 10798, 'DX54D+ZM MBE': 10799, 'DX54D+ZM310': 10800, 'DX54D+ZM310 NOVENCO': 10801, 'DX54D+Z_A': 10802, 'DX54DAS': 10803, 'DX54DAS1200080': 10804, 'DX54DZ100-0,45X1268': 10805, 'DX54DZ100-1194X0.4': 10806, 'DX55D+AS': 10807, 'DX56D+Z ASPECT B': 10808, 'DX56D+ZM': 10809, 'DX56D+ZM MBE': 10810, 'DX56D+ZM175 MAE': 10811, 'Desired Thickness Gent': 10812, 'Desired thickness Gent': 10813, 'E-811-ECAPR-CR': 10814, 'E-PBL001-HM': 10815, 'E-S00744-EJ': 10816, 'E0740': 10817, 'E1106 PRIMER': 10818, 'E1125125025/25': 10819, 'E3339': 10820, 'E3366/E3366': 10821, 'E36-CR 1.31X1125': 10822, 'E36-CR 1.45X1215': 10823, 'E36-CR 1.6X1090': 10824, 'E36-CR 1X1190': 10825, 'E36-CR 2X1165': 10826, 'E3652/E3652': 10827, 'E390 1.2X1100': 10828, 'E390 1.2X1125': 10829, 'E4478': 10830, 'E4478/E8363': 10831, 'E4479/E8555': 10832, 'E7216': 10833, 'E7417': 10834, 'E7417 (7016) - EHS': 10835, 'E7517': 10836, 'E7517 (7016) - EHS': 10837, 'E7570 (7024) - EHS': 10838, 'E7591': 10839, 'E8259': 10840, 'E8400': 10841, 'E8558 (8017) - EHS': 10842, 'E8561/E8561': 10843, 'E9259': 10844, 'E9516 GRANITE FARM': 10845, 'E9516/RAL9002': 10846, 'E9559 (9005) - EHS': 10847, 'EA00000/0382': 10848, 'EAC 0.38X1105 A9010 WHITE': 10849, 'ECHOL': 10850, 'ED DC04ED': 10851, 'ED DC04ED 0,80X1250,00': 10852, 'ED DC04ED 1,00X1250,00': 10853, 'EF 9002': 10854, 'EHSS235JR+N-CL125012503.122': 10855, 'EKO': 10856, 'EKO HC180CS 0,70X 909': 10857, 'EKO HC180CS 0,80X 909': 10858, 'EKO HC180CS 0,80X1206': 10859, 'EKO HC180CS 0,80X1207': 10860, 'EKO HC180CS 0,90X 912': 10861, 'EKO HC180CS 1,00X 1177': 10862, 'EKO HC180CS 1,00X 912': 10863, 'EKO HC180CS 1,00X1206': 10864, 'EKO HC180CS 1,00X1207': 10865, 'EKO HC180CS 1,2X1206': 10866, 'EKO/S250/G9005': 10867, 'EKO/S320/G9002': 10868, 'EKO/S320/G9002/RAD1600': 10869, 'ELCL-ZE 25/25_DC01_2.2': 10870, 'ELCL-ZVI 25/25_DC01_2.2': 10871, 'ELCL-ZX 25/25_DC01_2.2': 10872, 'ELCL_ZE DC04+ZE': 10873, 'ELO G': 10874, 'ELZC1,0X1250+ZE25/25': 10875, 'ELZC1,2X1250+ZE25/25': 10876, 'ELZC2,0X1250+ZE25/25': 10877, 'EME1165X595SP': 10878, 'EN 0701126Z000DCSO+': 10879, 'EN 0701126Z000DCSOL': 10880, 'EN 0701480Z000DCSO+': 10881, 'EN 0701480Z000DCSOL': 10882, 'ENSACOR A': 10883, 'ES21020100': 10884, 'ESP-S355MC DKP/H': 10885, 'ESSAI ESTETIC BIO AIR': 10886, 'EST.CLEAN B 1245X0.600 WHITE': 10887, 'ESTETIC CASA DX52D Z100 27 10': 10888, 'ESTETIC CLEAN BLANCO PIRINEO': 10889, 'ETC200007': 10890, 'ETZ1-COS 2.30 X 1020': 10891, 'ETZ1-COS 2.30 X 1020 1950 EKO': 10892, 'ETZ1-COS 2.30 X 1050': 10893, 'ETZ1-COS FM': 10894, 'ETZ2-COS': 10895, 'ETZ2-COS FM': 10896, 'ETZHIB1 1.80 X 1040': 10897, 'ETZHIB1 2.00 X 1040': 10898, 'EZ 1251165Z000H220B': 10899, 'EZ050017': 10900, 'EZO0450720Z036HC180': 10901, 'EZO0451410Z036HC180': 10902, 'EZO0451470Z036HC180': 10903, 'Esoleo-projekt PAK': 10904, 'F K 018 06052': 10905, 'F WG103 071': 10906, 'F WG105 071': 10907, 'F WG106 071': 10908, 'F WG126 071': 10909, 'F Z 00202702051': 10910, 'F Z 09401003070': 10911, 'F Z 53208117052': 10912, 'F00000000460': 10913, 'F00000000513': 10914, 'F00000000514': 10915, 'F00000000515': 10916, 'F00000000516': 10917, 'F00000000517': 10918, 'F00000000518': 10919, 'F00000000520': 10920, 'F00000000542': 10921, 'F00000000546': 10922, 'F00000000547': 10923, 'F00000000551': 10924, 'F00000000552': 10925, 'F00000000729': 10926, 'F00000000859': 10927, 'F00000000860': 10928, 'F00000000861': 10929, 'F00000000862': 10930, 'F00000000874': 10931, 'F1073F70241326T2': 10932, 'F1073F90061326T2': 10933, 'F1073F90071326T2': 10934, 'F1075290020998T2': 10935, 'F1090290020998T2': 10936, 'FARM 9002 EX GENT': 10937, 'FARM RAL 9006': 10938, 'FARM RAL 9010': 10939, 'FARM9002': 10940, 'FEPA000093': 10941, 'FEPA000188': 10942, 'FEPA000320001873000': 10943, 'FEPA000320001957000': 10944, 'FEPA000320002174000': 10945, 'FEPA000320002356000': 10946, 'FEPA000320002414000': 10947, 'FEPA000320003318370': 10948, 'FEPA000320003691000': 10949, 'FEPA000320004176398': 10950, 'FEPA000320004246398': 10951, 'FEPA000320004288000': 10952, 'FEPA000320004288398': 10953, 'FEPA000320004863000': 10954, 'FEPA000320004863398': 10955, 'FEPA000320005285000': 10956, 'FEPA000320005580000': 10957, 'FEPA000320006442398': 10958, 'FEPA000320006697000': 10959, 'FEPA000320007107000': 10960, 'FEPA000320007231000': 10961, 'FEPA000320007771000': 10962, 'FEPA000320008121000': 10963, 'FEPA000320009862000': 10964, 'FEPA000320010168000': 10965, 'FEPA000320010280000': 10966, 'FEPA000320010390000': 10967, 'FEPA000320010392000': 10968, 'FEPA000320010732000': 10969, 'FEPA000320010796000': 10970, 'FEPA000320010843000': 10971, 'FEPA000320011099000': 10972, 'FEPA000320011099400': 10973, 'FEPA000320011493000': 10974, 'FEPA000320011666000': 10975, 'FEPA000320012172398': 10976, 'FEPA000320012222000': 10977, 'FEPA000320012698000': 10978, 'FEPA000320013920000': 10979, 'FEPA000320014147000': 10980, 'FEPA000320014674000': 10981, 'FEPA000320014850000': 10982, 'FEPA000320015309000': 10983, 'FEPA000320015465000': 10984, 'FEPA000320015992000': 10985, 'FEPA000320015992422': 10986, 'FEPA000320017433000': 10987, 'FEPA000320017597000': 10988, 'FEPA000320017820000': 10989, 'FEPA000320017975000': 10990, 'FEPA000320018608000': 10991, 'FEPA000320019122000': 10992, 'FEPA000320019122400': 10993, 'FEPA000320019715000': 10994, 'FEPA000320020325000': 10995, 'FEPA000321003387000': 10996, 'FEPA000490007231000': 10997, 'FEPA000490014147000': 10998, 'FEPA000490017597000': 10999, 'FEPA000490019073000': 11000, 'FEPA000580004863000': 11001, 'FEPA000580006697000': 11002, 'FEPA000580011443400': 11003, 'FEPA000580011666000': 11004, 'FEPA000580012222000': 11005, 'FEPA000580014147000': 11006, 'FEPA000580014850000': 11007, 'FEPA000580015309000': 11008, 'FEPA000580015379000': 11009, 'FEPA000580015465000': 11010, 'FEPA000580017820000': 11011, 'FEPA000580018986000': 11012, 'FEPA000580019715000': 11013, 'FEPA000581001607000': 11014, 'FEPA000581004731400': 11015, 'FEPA000581005288000': 11016, 'FEPA000610006281000': 11017, 'FEPA000681006791400': 11018, 'FEPA001371': 11019, 'FEPA002334': 11020, 'FEPA002685': 11021, 'FEPA002729': 11022, 'FEPA002743': 11023, 'FEPA002754': 11024, 'FEPA003420007771000': 11025, 'FEPA003420011666000': 11026, 'FEPA003420014147000': 11027, 'FEPA003420015465000': 11028, 'FEPA003420017037000': 11029, 'FEPA003421001473000': 11030, 'FEPA003470015318000': 11031, 'FEPA00580015465000': 11032, 'FEPA00580017820000': 11033, 'FEPA006181001168000': 11034, 'FERH/CCM/DOUX/416 REV.1': 11035, 'FF 9002': 11036, 'FGPA000036': 11037, 'FGPA000039': 11038, 'FGPA001730013935422': 11039, 'FKPA000390004595000': 11040, 'FKPA000390005221000': 11041, 'FKPA000390005285000': 11042, 'FKPA000390005285465': 11043, 'FKPA000390005580000': 11044, 'FKPA000390005726000': 11045, 'FKPA000390006260000': 11046, 'FKPA000390006697000': 11047, 'FKPA000390007231000': 11048, 'FKPA000390007231465': 11049, 'FKPA000390007771000': 11050, 'FKPA000390007771465': 11051, 'FKPA000390010168000': 11052, 'FKPA000390010280000': 11053, 'FKPA000390010392000': 11054, 'FKPA000390011099000': 11055, 'FKPA000390011099465': 11056, 'FKPA000390011455000': 11057, 'FKPA000390011666000': 11058, 'FKPA000390011666465': 11059, 'FKPA000390012222000': 11060, 'FKPA000390012574000': 11061, 'FKPA000390014850465': 11062, 'FKPA000390015465000': 11063, 'FKPA000390018608000': 11064, 'FKPA000390019715000': 11065, 'FKPA000470005285000': 11066, 'FKPA000470005580000': 11067, 'FKPA000470006260000': 11068, 'FKPA000470006697000': 11069, 'FKPA000470007231000': 11070, 'FKPA000470007771000': 11071, 'FKPA000470009269000': 11072, 'FKPA000470009433000': 11073, 'FKPA000470009750000': 11074, 'FKPA000470010168000': 11075, 'FKPA000470010280000': 11076, 'FKPA000470011099000': 11077, 'FKPA000470011455000': 11078, 'FKPA000470011666000': 11079, 'FKPA000470012222000': 11080, 'FKPA000470012574000': 11081, 'FKPA000470014147000': 11082, 'FKPA000470014850000': 11083, 'FKPA000470015465000': 11084, 'FKPA000508': 11085, 'FKPA003431000141000': 11086, 'FKPA006490004636000': 11087, 'FKPA006490007231000': 11088, 'FKPA006490011666000': 11089, 'FKPA006490014147000': 11090, 'FLF2X1600X2500AA/4': 11091, 'FLPA000011': 11092, 'FLPA000320': 11093, 'FLPA000393': 11094, 'FLPA000403': 11095, 'FLPA000920003318329': 11096, 'FLPA000920003691329': 11097, 'FLPA001120003012321': 11098, 'FLPA001120004636353': 11099, 'FLPA001120004636356': 11100, 'FLPA001200004708241': 11101, 'FLPA001200007771321': 11102, 'FLPA001450004636262': 11103, 'FLPA001450004708262': 11104, 'FOR': 11105, 'FREDC3,00X1055': 11106, 'FRPA001380019715000': 11107, 'FRQ1 DC04': 11108, 'FRQ1 DC05': 11109, 'FRS1 DC01': 11110, 'FSPA000045': 11111, 'FSPA000046': 11112, 'FSPA000054': 11113, 'FSPA000373 UNOILED 2.2': 11114, 'FSPA000780012222000': 11115, 'FSPA000780015465000': 11116, 'FSPA000790007231000': 11117, 'FSPA001320007231000': 11118, 'FSPA001320007771000': 11119, 'FSPA001320011666000': 11120, 'FSPA001320012222000': 11121, 'FSPA001680018971000': 11122, 'FTPA000005': 11123, 'FTPA000176': 11124, 'FTPA000189': 11125, 'FTPA000268': 11126, 'FTPA000268 3.1': 11127, 'FTPA000284': 11128, 'FTPA000448': 11129, 'FTPA000471': 11130, 'FTPA000684': 11131, 'FTPA000722': 11132, 'FTPA000730011666187': 11133, 'FTPA000730012222187': 11134, 'FTPA000730014147187': 11135, 'FTPA000730014850187': 11136, 'FTPA000730015465187': 11137, 'FTPA000730017433187': 11138, 'FTPA000730017597187': 11139, 'FTPA000730017820187': 11140, 'FTPA000730018608187': 11141, 'FTPA000730019122187': 11142, 'FTPA000730019715187': 11143, 'FTPA000730021920187': 11144, 'FTPA000730022192187': 11145, 'FTPA000730022623187': 11146, 'FTPA000731004730189': 11147, 'FTPA000731006572189': 11148, 'FTPA000731006789187': 11149, 'FTPA000741006570189': 11150, 'FTPA000750014807187': 11151, 'FTPA000751006568189': 11152, 'FTPA000751006569189': 11153, 'FTPA000766': 11154, 'FTPA000772': 11155, 'FTPA000775': 11156, 'FTPA000781': 11157, 'FTPA000782': 11158, 'FTPA000796': 11159, 'FTPA000801': 11160, 'FTPA004020019715187': 11161, 'FTPA004020022623187': 11162, 'FTPA004130022623187': 11163, 'FTPA004180014850187': 11164, 'FTPA004180015465187': 11165, 'FTPA004180019122187': 11166, 'FTPA004180019715187': 11167, 'FTPA004380017433187': 11168, 'FTPA004381006031187': 11169, 'FTPA004610018478187': 11170, 'FTPA004660022623187': 11171, 'FTPA004690014106189': 11172, 'FTPA004690014147187': 11173, 'FTPA004690014807187': 11174, 'FTPA004690014850187': 11175, 'FTPA004690017597187': 11176, 'FTPA004690018483187': 11177, 'FTPA004690019122187': 11178, 'FTPA004690019715187': 11179, 'FTPA004690022111187': 11180, 'FTPA004690022623187': 11181, 'FTPA004690024123187': 11182, 'FTPA004690024123188': 11183, 'FTPA004691006570189': 11184, 'FTPA004691006571189': 11185, 'FTPA004750018608187': 11186, 'FTPA004760018608187': 11187, 'FTPA004770014850187': 11188, 'FTPA004770019608188': 11189, 'FTPA004770022623187': 11190, 'FTPA004810014850187': 11191, 'FTPL001231': 11192, 'FTPL004020024397188': 11193, 'FTPL004090024393187': 11194, 'FZPA000062': 11195, 'FZPA000076': 11196, 'FZPA000083': 11197, 'FZPA000619': 11198, 'FZPA000930001928000': 11199, 'FZPA000930002464000': 11200, 'FZPA000930003067000': 11201, 'FZPA000930003230000': 11202, 'FZPA000930003318000': 11203, 'FZPA000930003691000': 11204, 'FZPA000930004863000': 11205, 'FZPA000930005285000': 11206, 'FZPA000930005580000': 11207, 'FZPA000930006697000': 11208, 'FZPA000930007231000': 11209, 'FZPA000930007771000': 11210, 'FZPA000930009269000': 11211, 'FZPA000930009433000': 11212, 'FZPA000930009750000': 11213, 'FZPA000930011099000': 11214, 'FZPA000930011666000': 11215, 'FZPA000930019715000': 11216, 'FZPA000930024064000': 11217, 'FZPA000950003318000': 11218, 'FZPA000970003230000': 11219, 'FZPA000970014054000': 11220, 'FZPA001000002414000': 11221, 'FZPA001000002464000': 11222, 'FZPA001000004288000': 11223, 'FZPA001000004399000': 11224, 'FZPA001000004636000': 11225, 'FZPA001000006442000': 11226, 'FZPA001000006697000': 11227, 'FZPA001000007231000': 11228, 'FZPA001000007771000': 11229, 'FZPA001000011099000': 11230, 'FZPA001000011666000': 11231, 'FZPA001000012222000': 11232, 'FZPA001000014147000': 11233, 'FZPA001000014850000': 11234, 'FZPA001000015465000': 11235, 'FZPA001001006207000': 11236, 'FZPA001001006209000': 11237, 'FZPA001010002356000': 11238, 'FZPA001010004082000': 11239, 'FZPA001010006406000': 11240, 'FZPA001030007231000': 11241, 'FZPA001030011666000': 11242, 'FZPA001130002356000': 11243, 'FZPA001130002464000': 11244, 'FZPA001130002962000': 11245, 'FZPA001130003067000': 11246, 'FZPA001130003318000': 11247, 'FZPA001130003546000': 11248, 'FZPA001130003691000': 11249, 'FZPA001130004176000': 11250, 'FZPA001130004288000': 11251, 'FZPA001130004399000': 11252, 'FZPA001130004595000': 11253, 'FZPA001130004863000': 11254, 'FZPA001130005285000': 11255, 'FZPA001130005580000': 11256, 'FZPA001130006442000': 11257, 'FZPA001130006468000': 11258, 'FZPA001130006697000': 11259, 'FZPA001130007231000': 11260, 'FZPA001130007771000': 11261, 'FZPA001130009182000': 11262, 'FZPA001130010168000': 11263, 'FZPA001130010280000': 11264, 'FZPA001130010392000': 11265, 'FZPA001130011099000': 11266, 'FZPA001130011666000': 11267, 'FZPA001130012222000': 11268, 'FZPA001130013898000': 11269, 'FZPA001130014147000': 11270, 'FZPA001130014850000': 11271, 'FZPA001130015465000': 11272, 'FZPA001130017212000': 11273, 'FZPA001130017433000': 11274, 'FZPA001130017597000': 11275, 'FZPA001130018608000': 11276, 'FZPA001130019122000': 11277, 'FZPA001130019715000': 11278, 'FZPA001130022192000': 11279, 'FZPA001150003457000': 11280, 'FZPA001210001873000': 11281, 'FZPA001210001928000': 11282, 'FZPA001210002174000': 11283, 'FZPA001210002356000': 11284, 'FZPA001210002464000': 11285, 'FZPA001210002962000': 11286, 'FZPA001210003012000': 11287, 'FZPA001210003067000': 11288, 'FZPA001210003318000': 11289, 'FZPA001210003546000': 11290, 'FZPA001210003691000': 11291, 'FZPA001210004176000': 11292, 'FZPA001210004288000': 11293, 'FZPA001210004399000': 11294, 'FZPA001210004595000': 11295, 'FZPA001210004636000': 11296, 'FZPA001210004708000': 11297, 'FZPA001210004863000': 11298, 'FZPA001210005162000': 11299, 'FZPA001210005285000': 11300, 'FZPA001210005464000': 11301, 'FZPA001210005580000': 11302, 'FZPA001210006423000': 11303, 'FZPA001210006442000': 11304, 'FZPA001210006468000': 11305, 'FZPA001210006618000': 11306, 'FZPA001210006697000': 11307, 'FZPA001210006697443': 11308, 'FZPA001210007231000': 11309, 'FZPA001210007231443': 11310, 'FZPA001210007771000': 11311, 'FZPA001210007771443': 11312, 'FZPA001210009182000': 11313, 'FZPA001210010168000': 11314, 'FZPA001210010280000': 11315, 'FZPA001210010392000': 11316, 'FZPA001210010732000': 11317, 'FZPA001210010796000': 11318, 'FZPA001210010843000': 11319, 'FZPA001210011099000': 11320, 'FZPA001210011666000': 11321, 'FZPA001210012222000': 11322, 'FZPA001210014147000': 11323, 'FZPA001210014715000': 11324, 'FZPA001210014850000': 11325, 'FZPA001210015465000': 11326, 'FZPA001210017037000': 11327, 'FZPA001210017186000': 11328, 'FZPA001210017433000': 11329, 'FZPA001210017597000': 11330, 'FZPA001210017820000': 11331, 'FZPA001210018608000': 11332, 'FZPA001210019065000': 11333, 'FZPA001210019122000': 11334, 'FZPA001210019715000': 11335, 'FZPA001210021713000': 11336, 'FZPA001210022192000': 11337, 'FZPA001210022623000': 11338, 'FZPA001211002287000': 11339, 'FZPA001211002328000': 11340, 'FZPA001211005887000': 11341, 'FZPA001211006348000': 11342, 'FZPA001250004863000': 11343, 'FZPA001270009433000': 11344, 'FZPA001270009750000': 11345, 'FZPA001430024964000': 11346, 'FZPA001430024965000': 11347, 'FZPA001440004176000': 11348, 'FZPA001560004625000': 11349, 'FZPA001620010121000': 11350, 'FZPA001620011666000': 11351, 'FZPA001620012222000': 11352, 'FZPA001620014147000': 11353, 'FZPA001621004167000': 11354, 'FZPA001770001916000': 11355, 'FZPA001890015465000': 11356, 'FZPA002067': 11357, 'FZPA002330': 11358, 'FZPA002704': 11359, 'FZPA003347': 11360, 'FZPA004126': 11361, 'FZPA004270005580000': 11362, 'FZPA004270008992000': 11363, 'FZPA004270012222000': 11364, 'FZPA004270015465000': 11365, 'FZPA004270019715000': 11366, 'FZPA004270022623000': 11367, 'FZPA004301': 11368, 'FZPA004302': 11369, 'FZPA004520007627400': 11370, 'FZPA004540019122000': 11371, 'FZPA004560012222000': 11372, 'FZPA004560014850000': 11373, 'FZPA004560015465000': 11374, 'FZPA004560017433000': 11375, 'FZPA004560017597000': 11376, 'FZPA004560017820000': 11377, 'FZPA004560018608000': 11378, 'FZPA004560019122000': 11379, 'FZPA004560019715465': 11380, 'FZPA004560022192000': 11381, 'FZPA004560022623465': 11382, 'FZPA004599': 11383, 'FZPA004600': 11384, 'FZPA004640': 11385, 'FZPA004660': 11386, 'FZPA004665': 11387, 'FZPA004702': 11388, 'FZPA004894': 11389, 'FZPA004935': 11390, 'FZPA006230022623000': 11391, 'FZPA006500012222000': 11392, 'G 3005': 11393, 'G 3009 , G 5010': 11394, 'G 7016': 11395, 'G 7035': 11396, 'G 7035 HDX': 11397, 'G 8017': 11398, 'G 8017 , G 9005': 11399, 'G 8019 HDX': 11400, 'G 9002': 11401, 'G 9002 GRSTD': 11402, 'G 9006': 11403, 'G 9006 , G 9007': 11404, 'G 9007': 11405, 'G 9010': 11406, 'G. FARM 9002 ex Gent 10': 11407, 'G. HD G9006/G9007': 11408, 'G.HD G9006/G9007': 11409, 'G0030506': 11410, 'G0037130': 11411, 'G0037131': 11412, 'G0037135': 11413, 'G0037137': 11414, 'G0037142': 11415, 'G0037149': 11416, 'G0037160': 11417, 'G0037161': 11418, 'G0037255': 11419, 'G0038064': 11420, 'G0038065': 11421, 'G0038595': 11422, 'G01CDY0000199487LAC-NER': 11423, 'G01CFJ0000000005LAC-NER': 11424, 'G01CFJ0000003028LAC-NER': 11425, 'G01CFJ0000004405LAC-NER': 11426, 'G01CFJ0000004663LAC-NER': 11427, 'G01CFJ0000004665LAC-NER': 11428, 'G01CFJ0000004751LAC-NER': 11429, 'G01CFJ0000004776LAC-NER': 11430, 'G01CFO0000004659LAC-NER': 11431, 'G01CFO0000004665LAC-NER': 11432, 'G01CFO0000004755LAC-NER': 11433, 'G01CFO0000004776LAC-NER': 11434, 'G01CFO0000005228LAC-NER': 11435, 'G01CFO0000015095LAC-NER': 11436, 'G01CFO0000043231LAC-NER': 11437, 'G01CLE0000004712LAC-NER': 11438, 'G02CBI0000034196LAC-DEC': 11439, 'G02CBM0000004599LAC-DEC': 11440, 'G02CBM0000004792LAC-DEC': 11441, 'G02CBM0000005811LAC-DEC': 11442, 'G02CBM0000006120LAC-DEC': 11443, 'G02CBM0000055253LAC-DEC': 11444, 'G02CDY0000000003LAC-DEC': 11445, 'G02CDY0000004486LAC-DEC': 11446, 'G02CDY0000004659LAC-DEC': 11447, 'G02CDY0000004712LAC-DEC': 11448, 'G02CDY0000004776LAC-DEC': 11449, 'G02CDY0000004851LAC-DEC': 11450, 'G02CDY0000004916LAC-DEC': 11451, 'G02CDY0000006798LAC-DEC': 11452, 'G02CDY0000034196LAC-DEC': 11453, 'G02CDY0000047720LAC-DEC': 11454, 'G02CEZ0000002428LAC-DEC': 11455, 'G02CEZ0000025014LAC-DEC': 11456, 'G02CEZ0000027785LAC-DEC': 11457, 'G02CEZ0000045877LAC-DEC': 11458, 'G02CFF0000005199LAC-DEC': 11459, 'G02CFF0000006931LAC-DEC': 11460, 'G02CFF0000007243LAC-DEC': 11461, 'G02CFF0000013764LAC-DEC': 11462, 'G02CLE0000003028LAC-DEC': 11463, 'G03CDY0000002427LAC-STR': 11464, 'G03CDY0000004405LAC-STR': 11465, 'G03CDY0000005149LAC-STR': 11466, 'G04CDY0000000003LAC-BUG': 11467, 'G04CDY0000001091LAC-BUG': 11468, 'G04CDY0000002427LAC-BUG': 11469, 'G04CDY0000003028LAC-BUG': 11470, 'G04CDY0000004487LAC-BUG': 11471, 'G04CDY0000004592LAC-BUG': 11472, 'G04CDY0000004600LAC-BUG': 11473, 'G04CDY0000004775LAC-BUG': 11474, 'G05FAA0000145793LAF-FRD': 11475, 'G05FBF0000002428LAF-FRD': 11476, 'G05FCP0000004660LAF-FRD': 11477, 'G05FCP0000013272LAF-FRD': 11478, 'G06ZBX0000005141RIV-ZIN': 11479, 'G06ZBX0000005142RIV-ZIN': 11480, 'G06ZBX0000013266RIV-ZIN': 11481, 'G06ZBX0000013267RIV-ZIN': 11482, 'G06ZBX0000013269RIV-ZIN': 11483, 'G06ZBX0000013272RIV-ZIN': 11484, 'G06ZBX0000013274RIV-ZIN': 11485, 'G06ZBX0000020970RIV-ZIN': 11486, 'G06ZRO0000004511RIV-ZIN': 11487, 'G06ZRO0000004590RIV-ZIN': 11488, 'G06ZTP0000004775RIV-ZIN': 11489, 'G08LBX0000050323RIV-ALL': 11490, 'G08LBX0000065599RIV-ALL': 11491, 'G1002': 11492, 'G1002 Z225': 11493, 'G1014': 11494, 'G1015': 11495, 'G1015 Z225': 11496, 'G10401250Z100': 11497, 'G10801100Z100': 11498, 'G10801250Z275': 11499, 'G10801345Z100': 11500, 'G10901000Z100': 11501, 'G10901500Z275': 11502, 'G11001250Z100': 11503, 'G11001302S220Z100': 11504, 'G11001500Z100': 11505, 'G11251250Z100': 11506, 'G11501250Z275': 11507, 'G13001250Z275': 11508, 'G20401250S220Z100': 11509, 'G20451445S220Z100': 11510, 'G20451490220Z100': 11511, 'G20801250S220Z100': 11512, 'G2080842S220Z100': 11513, 'G22501260220Z275': 11514, 'G3000': 11515, 'G3000 (RAL 3000)': 11516, 'G3000 / G5010': 11517, 'G3000+FOIL': 11518, 'G3000/GSTD': 11519, 'G3005': 11520, 'G3005 Z225': 11521, 'G3005 ZA200': 11522, 'G3009': 11523, 'G3009 Z225': 11524, 'G3011': 11525, 'G3011 PRU': 11526, 'G3011 S220GD': 11527, 'G3011 Z225': 11528, 'G3011 ZA200': 11529, 'G3011, G8004 , G300009': 11530, 'G3011,G3000, G8004': 11531, 'G3011,G8017,G9005': 11532, 'G3011/3011': 11533, 'G30801350HX300Z100': 11534, 'G3542/5502/6922': 11535, 'G41501329Z100': 11536, 'G41501495Z100': 11537, 'G42001243Z100': 11538, 'G49580401': 11539, 'G5003': 11540, 'G5008/25/1220/0.63/CDC13080L': 11541, 'G5008/25/1220/0.75/CDC13090L': 11542, 'G5010': 11543, 'G5010 HDX': 11544, 'G5010 Z225': 11545, 'G5010 ZA200': 11546, 'G6002': 11547, 'G6005': 11548, 'G6005 +/- RAL 6005': 11549, 'G6009': 11550, 'G6011': 11551, 'G6020': 11552, 'G6020 colormatching': 11553, 'G6021': 11554, 'G6029': 11555, 'G6757': 11556, 'G6845': 11557, 'G6849': 11558, 'G7004 colormatching': 11559, 'G7011=P7011': 11560, 'G7016': 11561, 'G7016 + FOIL': 11562, 'G7016 / +/- RAL 7016': 11563, 'G7016 GSTD 0.45X1220 SLATE B': 11564, 'G7016 GSTD 0.63X1220 SLATE BL': 11565, 'G7016 HDX': 11566, 'G7016 S220GD': 11567, 'G7016 Z 200': 11568, 'G7016 Z 225': 11569, 'G7016 Z225': 11570, 'G7016 Z275': 11571, 'G7016 ZA200': 11572, 'G7016/25/1220/0.63/CDC13080L': 11573, 'G7016/25/1220/0.75/CDC13090L': 11574, 'G7016/7016': 11575, 'G7016/A9010': 11576, 'G7016/ASTD': 11577, 'G7016/G7016': 11578, 'G7021': 11579, 'G7022': 11580, 'G7022/25/1220/0.63/CDC13080L': 11581, 'G7022/25/1220/0.75/CDC13090L': 11582, 'G7024': 11583, 'G7024=P7024': 11584, 'G7026': 11585, 'G7032/G7032': 11586, 'G7035': 11587, 'G7035 HDX': 11588, 'G7035,G9002': 11589, 'G7035/9002/9010': 11590, 'G7035/G7035': 11591, 'G7035/G9002/G9010': 11592, 'G7040': 11593, 'G7501 GSTD 0.45X1220 GOOSE': 11594, 'G7501 GSTD 0.63X1220 GOOSE': 11595, 'G8004': 11596, 'G8004 Z225': 11597, 'G8004 Z275': 11598, 'G8004 ZA200': 11599, 'G8004/ASTD/': 11600, 'G8004/G8004': 11601, 'G8004/GHDX/': 11602, 'G8012': 11603, 'G8012/25/1220/0.63/CDC13080L': 11604, 'G8012/25/1220/0.75/CDC13090L': 11605, 'G8017': 11606, 'G8017 HDX': 11607, 'G8017 S220GD': 11608, 'G8017 Z225': 11609, 'G8017 ZA200': 11610, 'G8017/G8017': 11611, 'G8019': 11612, 'G8019 HDS': 11613, 'G8701 ACCESS STD': 11614, 'G8717': 11615, 'G9001': 11616, 'G9001 ASTD': 11617, 'G9001/ASTD': 11618, 'G9001/ASTD/': 11619, 'G9001/ASTD/DF': 11620, 'G9002': 11621, 'G9002 , G9010': 11622, 'G9002 ,G9010': 11623, 'G9002 - ASTD': 11624, 'G9002 - G9010': 11625, 'G9002 -1360 mm': 11626, 'G9002 / G9010': 11627, 'G9002 /G9010': 11628, 'G9002 G9010': 11629, 'G9002 GREY WHITE HDX B7032': 11630, 'G9002 GREY WHITE HDX RAL 9002': 11631, 'G9002 HDX': 11632, 'G9002 HDX Z225 S250': 11633, 'G9002, G9010': 11634, 'G9002/03425/35/35/1000/0.62': 11635, 'G9002/05477/35/35/1000/0.62': 11636, 'G9002/06665/35/35/1000/0.62': 11637, 'G9002/35/7032/7/1210/0.51': 11638, 'G9002/66G0 FARM': 11639, 'G9002/9010': 11640, 'G9002/G9002': 11641, 'G9002/G9005': 11642, 'G9002/G9006/35/35/1000/0.62': 11643, 'G9002/G9006/35/35/1000/0.74': 11644, 'G9002/G9010': 11645, 'G9005': 11646, 'G9005 HDX': 11647, 'G9005 Z275': 11648, 'G9005/9005': 11649, 'G9005/G7016/G8017': 11650, 'G9005/GSTD': 11651, 'G9006': 11652, 'G9006 , G 9007': 11653, 'G9006 ,G9007': 11654, 'G9006 ACCESS HD': 11655, 'G9006 GHD': 11656, 'G9006 HDX': 11657, 'G9006 HDX 0.65X1250 RAL 9006': 11658, 'G9006 S220GD': 11659, 'G9006 Z225': 11660, 'G9006 ZA200': 11661, 'G9006 colormatching': 11662, 'G9006, G9007': 11663, 'G9006,G9007': 11664, 'G9006.G9007': 11665, 'G9006/ G 9007 HDX': 11666, 'G9006/35/7032/7/1210/0.51': 11667, 'G9006/AHD': 11668, 'G9006/AHD/': 11669, 'G9006/G9002': 11670, 'G9006/G9006': 11671, 'G9006/G9007': 11672, 'G9006/G9010': 11673, 'G9007': 11674, 'G9007 HDX': 11675, 'G9007 Z225': 11676, 'G9007/G9002': 11677, 'G9010': 11678, 'G9010 + FOIL': 11679, 'G9010 +F': 11680, 'G9010 - ASTD': 11681, 'G9010 BIANCO PURO': 11682, 'G9010 EAC 0.45X1220 WHITE': 11683, 'G9010 EAC 0.63X1220 WHITE': 11684, 'G9010 GRANITE FARM': 11685, 'G9010 GRANITE STD': 11686, 'G9010 HDX': 11687, 'G9010 PVDF': 11688, 'G9010 S220GD': 11689, 'G9010 Z100': 11690, 'G9010 Z225': 11691, 'G9010 ZA200': 11692, 'G9010/25/1220/0.63/CDC13080L': 11693, 'G9010/25/1220/0.75/CDC13090L': 11694, 'G9010/A9010': 11695, 'G9010/ASTD': 11696, 'G9010/ASTD/': 11697, 'G9010/G002': 11698, 'G9010/G7035/35/35/1240/0.74': 11699, 'G9010/G9010': 11700, 'G9010/GHDX': 11701, 'G9010/GSTD': 11702, 'G9010/GSTD/': 11703, 'G9010HDX': 11704, 'G9106 ACCESS STD': 11705, 'GAL1014X125Z45M120': 11706, 'GAL1014X144Z45M120': 11707, 'GAL1014X154Z45M120': 11708, 'GAL1014X173Z45M120': 11709, 'GAL1014X193Z45M120': 11710, 'GAL1104X144Z45M120': 11711, 'GAL1104X154Z45M120': 11712, 'GAL1104X163Z45M120': 11713, 'GAL1104X173Z45M120': 11714, 'GAL1104X193Z45M120': 11715, 'GAL1104X211Z45': 11716, 'GAL1191X134Z45M120': 11717, 'GAL1191X144Z45M120': 11718, 'GAL1191X154Z45M120': 11719, 'GAL1191X163Z45M120': 11720, 'GAL1191X193Z45M120': 11721, 'GAL1191X196Z45': 11722, 'GAL1204X120Z35': 11723, 'GAL1225X290Z45': 11724, 'GAL1230X115Z45': 11725, 'GAL1230X115Z45M120': 11726, 'GAL1230X193Z45M120': 11727, 'GAL1230X196Z45': 11728, 'GAL1281X154Z45M120': 11729, 'GAL1281X173Z45M120': 11730, 'GAL1281X193Z45M120': 11731, 'GAL1281X241Z45': 11732, 'GAL1281X261Z45': 11733, 'GAL1305X084Z45': 11734, 'GAL1305X122Z45M': 11735, 'GALEO 0103/50/0103/25': 11736, 'GALEO 0103/50/1000/0,75': 11737, 'GC0E004001': 11738, 'GC250GD 1.50': 11739, 'GCHX260LAD 1.50': 11740, 'GCHX380LAD 1.75': 11741, 'GCHX380LAD 2.00': 11742, 'GCHX380LAD 3.00': 11743, 'GCHX380LAD 4.00': 11744, 'GCHX380LADSP 4.00': 11745, 'GCHX420 LAD 2.50': 11746, 'GCHX420LAD 1.75': 11747, 'GCHX420LAD 2.50': 11748, 'GCHX420LAD 3.25': 11749, 'GCHX420LAD 3.50': 11750, 'GCHX420LAD2.50ZM': 11751, 'GCS250GD 1.50': 11752, 'GCS250GD 1.50 Z140': 11753, 'GCS250GD 1.75 Z140': 11754, 'GCS250GD 2.00': 11755, 'GCS250GD 2.50': 11756, 'GCS350GD 1.50': 11757, 'GCS350GD 1.75': 11758, 'GCS350GD 1.75 Z140': 11759, 'GCS350GD 2.00': 11760, 'GCS350GD 2.50': 11761, 'GCS350GD 3.00': 11762, 'GCS350GD 6.00': 11763, 'GD10GWM032': 11764, 'GDM230601250A': 11765, 'GDM330501250A': 11766, 'GDM330601250A': 11767, 'GE06GWE001 GE06GWE004': 11768, 'GH0KUNB001': 11769, 'GH0LUNK001': 11770, 'GH10RWE014': 11771, 'GH10RWP002 / Romos': 11772, 'GHD S250GD+Z 0,5X1250 G9006': 11773, 'GHDUM S250GD+Z 0,5X1250 D311U': 11774, 'GHDUM S250GD+ZA 0,5X1250 D716U': 11775, 'GHDUM S250GD+ZA 0,5X1250 D817U': 11776, 'GHDUM S250GD+ZA 0,5X1250 D819U': 11777, 'GHDUM S250GD+ZA 0,5X1250 D905U': 11778, 'GHDX/GHDX': 11779, 'GHDX55 G9010 DS': 11780, 'GHDX55/GHDX55': 11781, 'GHDX_G9106': 11782, 'GOL1208X595SP': 11783, 'GOO1208X595SP': 11784, 'GR FLEX RAL9002': 11785, 'GR. 100 / 3.1 / ADW1 / (-)': 11786, 'GR. 103 / S275 / 3.1 / TEAR': 11787, 'GR. 105 / 3.1': 11788, 'GR. 115 /3.1/ADW1/KAERV/(-)': 11789, 'GR. 120 / 3.1 / KAERV': 11790, 'GR. 120 / S355MC TEARDROP': 11791, 'GR. 125 / 3.1 /ADW1/KAERV/(-)': 11792, 'GR. 160 / 3.1 / (-)': 11793, 'GR. 170 / 3.1 / (-)': 11794, 'GR. 181 / 1391 / 3.1 / KAERV': 11795, 'GR. 313 / Z275 / 3.1': 11796, 'GR. 314 /1047': 11797, 'GR. 320': 11798, 'GR. 320 /1047': 11799, 'GR. 396 / 1744': 11800, 'GR. 397 / 1334': 11801, 'GR. FARM 9002': 11802, 'GR. HD G9006': 11803, 'GR.142 / 85418 / 22MNB5 / 3.1': 11804, 'GR.FARM 9002': 11805, 'GRAFIT QUARTZ': 11806, 'GRANDEEP-Z225-RAL7016': 11807, 'GRANDEEP-Z225-RAL8019': 11808, 'GRANDEEPMAT-Z225-RAL9005': 11809, 'GRANITE DEEP MAT-Z225-RAL7024': 11810, 'GRANITE FARM': 11811, 'GRANITE FARM 9010': 11812, 'GRANITE HDDM RR23 0,50X1250': 11813, 'GRANITE HDS': 11814, 'GRANITE HDX / GRANITE HDX': 11815, 'GRANITE HDX 9106': 11816, 'GRANITE HDX AM': 11817, 'GRANITE HDX AM GLOSS 15': 11818, 'GRANITE HDX AVI BACK12 PREM': 11819, 'GRANITE HDX DX51D Z 275 55 10': 11820, 'GRANITE HDX RR20 0,60X1250': 11821, 'GRANITE HDX RR23 0,50X1250': 11822, 'GRANITE HDX RR23 0,60X1250': 11823, 'GRANITE HDX RR29 0,60X1250': 11824, 'GRANITE HDX RR32 0,50X1250': 11825, 'GRANITE HDX RR32 0,60X1250': 11826, 'GRANITE HDX RR33 0,50X1250': 11827, 'GRANITE HDX RR33 0,60X1250': 11828, 'GRANITE HDX SPAIN': 11829, 'GRANITE HDX SPAIN BACK PREM10': 11830, 'GRANITE HDX SPAIN BACK10': 11831, 'GRANITE HDX_55/10_SPAIN': 11832, 'GRANITE IMPRESSION WOOD': 11833, 'GRANITE PVDF RR21 GRIS': 11834, 'GRANITE RAIN HDS 08623,G8004': 11835, 'GRANITE RAIN HDS 17056,+/- RAL 7024 & 19': 11836, 'GRANITE STD 00002': 11837, 'GRANITE STD SPAIN': 11838, 'GRANITE STORM 716SC': 11839, 'GRANITE STORM 817SC': 11840, 'GRANITE STORM 905SC': 11841, 'GRANITE STORM D309X': 11842, 'GRANITE STORM D716X Z275': 11843, 'GRANITE STORM D804X': 11844, 'GRANITE STORM D905X Z275': 11845, 'GRANITE ULTRA MATT-D8019': 11846, 'GRANITE(R) ULTRAMAT 35Âµ D716U': 11847, 'GRANITE-STD-RAL7024': 11848, 'GRANITE-STD-RAL8017': 11849, 'GRANITE-STD-RAL9005': 11850, 'GRANITE-STD-Z200-RAL7024': 11851, 'GRANITE-STD-Z200-RAL8004': 11852, 'GRANITE_CLOUDY_CLANL': 11853, 'GRANSTD-Z275-RAL8017': 11854, 'GRE1265X595SP': 11855, 'GRSTD P 5003 SWI': 11856, 'GRW1056X037POLB': 11857, 'GRW1195X050POL': 11858, 'GRW1195X050POLB': 11859, 'GRW1195X050SP': 11860, 'GRW1245X050POL': 11861, 'GRW1245X050POLB': 11862, 'GRW1245X050SP': 11863, 'GRW1245X060EST': 11864, 'GRW1245X060POL': 11865, 'GRW1245X060POLB': 11866, 'GRW1245X075POL': 11867, 'GRW1245X075POLB': 11868, 'GST . G9002/ G9010': 11869, 'GST 9010 Z 225': 11870, 'GST 9010 Z 275': 11871, 'GST G9002/G9010': 11872, 'GST25//25': 11873, 'GSTD S250GD+ZA 0,5X1250 G7016': 11874, 'GSTD25/GSTD25': 11875, 'GWPG/35/1220/0.58': 11876, 'H220CA': 11877, 'H220D+Z100': 11878, 'H240': 11879, 'H240D': 11880, 'H240D + Z MAC ATL': 11881, 'H240D+Z': 11882, 'H240D+Z100 2.9X1250 1/2EN': 11883, 'H240D+ZM': 11884, 'H240D+Z_A': 11885, 'H26005TX240': 11886, 'H27016TX240': 11887, 'H28017DX352': 11888, 'H280LA+ZF 1,85X1402': 11889, 'H280LA+ZF 1.40X1284': 11890, 'H280LA+ZF_2.40X1394': 11891, 'H280LA+ZF_2.40X1405': 11892, 'H280LA+ZF_2.75X1398': 11893, 'H280LA+ZF_2.85X1398': 11894, 'H280LA/CCM/DOUX/419 REV.0': 11895, 'H29005TX150': 11896, 'H2ZNMGTX150': 11897, 'H2ZNMGTX152': 11898, 'H2ZNMGTX250': 11899, 'H300LA+ZF_1.40X1284': 11900, 'H300LA+ZF_1.85X1402': 11901, 'H300LA+ZF_1.85X1405': 11902, 'H300LA+ZF_2.40X1405': 11903, 'H300LA+ZF_2.5X1402': 11904, 'H300LA+ZF_2.75X1398': 11905, 'H502X': 11906, 'H700X': 11907, 'H711X': 11908, 'H721X': 11909, 'H721X HDX': 11910, 'H724X': 11911, 'H906X': 11912, 'H916X': 11913, 'HC180': 11914, 'HC180CA': 11915, 'HC180CA LIGHTLY OILED': 11916, 'HC180CA+ZX 1.5 * 1250 GRIS 909': 11917, 'HC180CS': 11918, 'HC180CS 0,90X943': 11919, 'HC180CS 0.8X947': 11920, 'HC180CS AMFCE EKO 3.1': 11921, 'HC180_AMP': 11922, 'HC200': 11923, 'HC220': 11924, 'HC220CA': 11925, 'HC220CS SHELVES EKO 3.1': 11926, 'HC225LA AMP': 11927, 'HC260CA-AM 0.93X1434': 11928, 'HC260CA_RANO': 11929, 'HC260LA': 11930, 'HC260LA - Am': 11931, 'HC260LA 3.1 EKO': 11932, 'HC260LA ASPECT A': 11933, 'HC260LA CAT A 3.1 EKO': 11934, 'HC260LA SHELVE REDFLAT EKO 2.2': 11935, 'HC260LA SHELVE REDFLAT EKO 3.1': 11936, 'HC260LA+ZE75/00': 11937, 'HC260LA-CA 0.43 * 1210': 11938, 'HC280 SHELVES RED.FLAT EKO 3.1': 11939, 'HC300LA': 11940, 'HC300LA EN': 11941, 'HC300LA+ZE A': 11942, 'HC300LA-AM 1.47X1266': 11943, 'HC300LA-AM 1.47X775': 11944, 'HC300LA-AM 1.47X793': 11945, 'HC340 LA': 11946, 'HC340 LA_RANO': 11947, 'HC340 LA_RASEBR': 11948, 'HC340LA': 11949, 'HC340LA 1.25X1295': 11950, 'HC340LA 1X1210': 11951, 'HC340LA SP': 11952, 'HC340LA-AM 0.93X1242': 11953, 'HC340LA-AM 1.25X1250': 11954, 'HC340LA-AM 1X1190': 11955, 'HC340LA-AM 2.5x1170': 11956, 'HC380LA': 11957, 'HC380LA LONGITUDINAL': 11958, 'HC380LA+ZE A': 11959, 'HC380LA-CL1 1.2X1022': 11960, 'HC380LA-CL1_RANO': 11961, 'HC380LA-CL1_RASEBR': 11962, 'HC420LA': 11963, 'HC420LA MOD NS NS': 11964, 'HC420LA NS NS': 11965, 'HC420LA SP': 11966, 'HC420LA+ZE A': 11967, 'HC420LA-AM 1.45X1088': 11968, 'HC420LA_RANO': 11969, 'HC420LA_RASEBR': 11970, 'HC460LA- AM 1.45X1011': 11971, 'HC460LA- AM 1.5X1135': 11972, 'HC550LA+ZV25/25': 11973, 'HD G9006 Z 225': 11974, 'HD G9006 Z 275': 11975, 'HDCL DX51D+Z GTI': 11976, 'HDCL_Z': 11977, 'HDCL_ZM': 11978, 'HDG-SER-JUL-C-92-9/KS/US': 11979, 'HDM 05680': 11980, 'HDM 15914': 11981, 'HDM 15915': 11982, 'HDM 15930': 11983, 'HDS Grey Silver Canada': 11984, 'HDS-Z275-RAL8017': 11985, 'HDSMOOTH-ZA265-RR32': 11986, 'HDT780X + Z 100 MB 1034x1.9': 11987, 'HDX 0,6 -9006/G9007': 11988, 'HDX 7016 S220GD': 11989, 'HDX G 9002 Z 225': 11990, 'HDX G 9005': 11991, 'HDX G 9006 Z 225': 11992, 'HDX G 9010': 11993, 'HDX G 9010 Z 225': 11994, 'HDX G7016': 11995, 'HDX G7035': 11996, 'HDX G7035 Z 225': 11997, 'HDX G8017': 11998, 'HDX G9002': 11999, 'HDX G9002 Z 225': 12000, 'HDX G9005': 12001, 'HDX G9006 / G9007': 12002, 'HDX G9006 Z 275': 12003, 'HDX G9006/G9007': 12004, 'HDX G9010': 12005, 'HDX H916X': 12006, 'HDX RAL 1002': 12007, 'HDX RAL 5003': 12008, 'HDX RAL 5008': 12009, 'HDX RAL 7012': 12010, 'HDX RAL 7021': 12011, 'HDX RAL 7037': 12012, 'HDX RAL 7039': 12013, 'HDX RAL 9011': 12014, 'HDX RAL1035': 12015, 'HD_9010(25MU)_HDX_9010(55MU)': 12016, 'HE450M_LARGEUR:-0/2': 12017, 'HEL125 858X2.5': 12018, 'HEL125 858X3': 12019, 'HEL125 859X1.65': 12020, 'HEL125 859X2': 12021, 'HLES350M4303C3000': 12022, 'HLES350Z1402C2010': 12023, 'HLS350MAG2B2500': 12024, 'HR S235JR': 12025, 'HR S355JR+AR-CL1': 12026, 'HRCL': 12027, 'HRCL AMSTRONG 355 MC': 12028, 'HRCL S275JR+AR-CL1 1.92X1110': 12029, 'HRCL_ S500MC ZALAIN 2.7X1265': 12030, 'HRCL_ S500MC ZALAIN 3X1260': 12031, 'HRCL_22 MN B5 10.9X1380': 12032, 'HRCL_22 MN B5 5.3X1731': 12033, 'HRCL_22 MN B5 6X1398': 12034, 'HRCL_22 MN B5 7.2X1713': 12035, 'HRCL_AMSTRONG 390MC 2.8X1315': 12036, 'HRCL_AMSTRONG 390MC 3.3X1305': 12037, 'HRCL_AMSTRONG 420MC 1.4X990': 12038, 'HRCL_AMSTRONG 420MC 1.8X1200': 12039, 'HRCL_AMSTRONG 420MC 2.5X1250': 12040, 'HRCL_AMSTRONG 420MC 2.60X1265': 12041, 'HRCL_AMSTRONG 420MC 3X1190': 12042, 'HRCL_AMSTRONG 420MC 4X1150': 12043, 'HRCL_AMSTRONG 460MC 2X1124': 12044, 'HRCL_C40E AM FCE 3.7X1165': 12045, 'HRCL_C40E AM FCE 4.51X1265': 12046, 'HRCL_C40E AM FCE 4.5X1165': 12047, 'HRCL_DD 11 1.42X1250': 12048, 'HRCL_DD 11 1.45X1250': 12049, 'HRCL_DD 11 1.85X1250': 12050, 'HRCL_DD 11 1.85X1340': 12051, 'HRCL_DD 11 2.18X1266': 12052, 'HRCL_DD 11 2.18X1312': 12053, 'HRCL_DD 11 2.18X1345': 12054, 'HRCL_DD 11 2.18X1478': 12055, 'HRCL_DD 11 2.18X1513': 12056, 'HRCL_DD 11 2.35X1453': 12057, 'HRCL_DD 11 2.45X1089': 12058, 'HRCL_DD 11 3.2X1504': 12059, 'HRCL_DD 11_CL1 2.5X1160': 12060, 'HRCL_DD 12 1.6X1210': 12061, 'HRCL_DD 12 2.8X764': 12062, 'HRCL_DD 12 2.8X959': 12063, 'HRCL_DD12 + B 1.5X1165': 12064, 'HRCL_DD12+B- SESTAO 1.6X1245': 12065, 'HRCL_DD14 TI 4.55X1135': 12066, 'HRCL_E36 CONDESA 2.01X1160': 12067, 'HRCL_PI': 12068, 'HRCL_PI S235JR+AR-CL1': 12069, 'HRCL_PI S355MC_KCV 1297X2,75': 12070, 'HRCL_PI S355MC_KCV 1477X3.75': 12071, 'HRCL_PI_16MNCR5 3.7X1200': 12072, 'HRCL_PI_AMSTRONG 420MC 1.4X990': 12073, 'HRCL_PI_AMSTRONG 420MC 4X1150': 12074, 'HRCL_PI_AMSTRONG460MC 2X1124': 12075, 'HRCL_PI_DD 11 1.46X1222': 12076, 'HRCL_PI_DD 11 1.85X1434': 12077, 'HRCL_PI_DD 11 3.45X1314': 12078, 'HRCL_PI_DD12+B SESTAO 1.5X1165': 12079, 'HRCL_PI_DP600 1.9X1090': 12080, 'HRCL_PI_DP780 2.9x1200': 12081, 'HRCL_PI_P 235 GH 2.5X1265': 12082, 'HRCL_PI_P 235 GH 2X1265': 12083, 'HRCL_PI_P235GH 1.50X1280': 12084, 'HRCL_PI_S-235-JR 1.46X1318': 12085, 'HRCL_PI_S-235-JR 1.46X1332': 12086, 'HRCL_PI_S-235-JR 1.5X1280': 12087, 'HRCL_PI_S-235-JR 1.61X1265': 12088, 'HRCL_PI_S-235-JR 3.2X1194_3.1': 12089, 'HRCL_PI_S-235-JR 3.4X1196': 12090, 'HRCL_PI_S-235-JR 4X1186_3.1': 12091, 'HRCL_PI_S-235-JR 4X1350_3.1': 12092, 'HRCL_PI_S-275-JR 1.8X1196': 12093, 'HRCL_PI_S-275-JR 1.9X1178': 12094, 'HRCL_PI_S-275-JR 1.9X1202': 12095, 'HRCL_PI_S-315-MC 1.5X1140': 12096, 'HRCL_PI_S-315-MC 1.5X1180': 12097, 'HRCL_PI_S-315-MC 1.85X1309': 12098, 'HRCL_PI_S-315-MC 2X1160': 12099, 'HRCL_PI_S-355-MC 2.9X1093': 12100, 'HRCL_PI_S-355-MC 3.45X1314': 12101, 'HRCL_PI_S-420-MC 5X1145': 12102, 'HRCL_PI_S-460-MC 1.45X1011': 12103, 'HRCL_PI_S-460-MC 6.1X1110_3.1': 12104, 'HRCL_PI_S275JR+AR-CL1 1.5X1196': 12105, 'HRCL_PI_S355MC-CAT_A': 12106, 'HRCL_PI_S390MC-CAT_A': 12107, 'HRCL_PI_TUBE235-SES 1.2X1000': 12108, 'HRCL_PI_TUBE235-SES 1.51X1250': 12109, 'HRCL_PI_TUBE235-SES 1.61X1250': 12110, 'HRCL_PI_TUBE235-SES 1.81X1265': 12111, 'HRCL_PI_TUBE235-SES 2.01X1265': 12112, 'HRCL_PI_TUBE235-SES 3.01X1195': 12113, 'HRCL_PI_TUBE235-SES 3.51X1265': 12114, 'HRCL_PI_TUBE275-SES 1.5X1200': 12115, 'HRCL_PI_TUBE275-SES 1.61X1220': 12116, 'HRCL_PI_TUBE275-SES 1.71X1220': 12117, 'HRCL_PI_TUBE275-SES 2.81X1275': 12118, 'HRCL_PI_TUBE275-SES 2.9X1265': 12119, 'HRCL_PI_TUBE275-SES 2X1180': 12120, 'HRCL_PI_TUBE275-SES 3.01X1230': 12121, 'HRCL_PI_TUBE275-SES 3.01X1315': 12122, 'HRCL_PI_TUBE275-SES 3.31X1265': 12123, 'HRCL_PI_TUBE275-SES 3.31X1285': 12124, 'HRCL_PI_TUBE275-SES 3.61X1275': 12125, 'HRCL_PI_TUBE275-SES 3.95X1210': 12126, 'HRCL_PI_TUBE275-SES 4.01X1210': 12127, 'HRCL_PI_TUBE355-SES 2.01X1160': 12128, 'HRCL_PI_TUBE355-SES 2.51X1200': 12129, 'HRCL_PI_TUBE355-SES 2.51X1245': 12130, 'HRCL_PI_TUBE355-SES 2.5X1325': 12131, 'HRCL_PI_TUBE355-SES 2.85X1250': 12132, 'HRCL_PI_TUBE355-SES 3.01X1305': 12133, 'HRCL_PI_TUBE355-SES 3.51X1250': 12134, 'HRCL_PI_TUBE355-SES 3X1305': 12135, 'HRCL_PI_TUBE355-SES 4X1010': 12136, 'HRCL_RST52NB CONDESA 2.51X1200': 12137, 'HRCL_RST52NB CONDESA 3.51X1250': 12138, 'HRCL_RST52NB CONDESA 3X1305': 12139, 'HRCL_RST52NB CONDESA 4.01X1250': 12140, 'HRCL_RST52NB CONDESA 4.51X1200': 12141, 'HRCL_RST52NB CONDESA 5.91X1270': 12142, 'HRCL_RST52NB CONDESA 5X1180': 12143, 'HRCL_S-235-JR 1.46X1326': 12144, 'HRCL_S-235-JR 1.85X1220': 12145, 'HRCL_S-235-JR 1.85X1387': 12146, 'HRCL_S-235-JR 1.85X1416': 12147, 'HRCL_S-235-JR 1.85X1428': 12148, 'HRCL_S-235-JR 2.05X1345': 12149, 'HRCL_S-235-JR 2.08X1303': 12150, 'HRCL_S-235-JR 2.15X1332': 12151, 'HRCL_S-235-JR 2.35X1042': 12152, 'HRCL_S-235-JR 2.55X1438': 12153, 'HRCL_S-235-JR 2.55X1599': 12154, 'HRCL_S-235-JR 2.5X1515': 12155, 'HRCL_S-235-JR 2.65X1402': 12156, 'HRCL_S-235-JR 2.65X1515': 12157, 'HRCL_S-235-JR 2.75X1260': 12158, 'HRCL_S-235-JR 2.75X1282': 12159, 'HRCL_S-235-JR 2.75X1400': 12160, 'HRCL_S-235-JR 2.75X1443': 12161, 'HRCL_S-235-JR 2.75X1595': 12162, 'HRCL_S-235-JR 2.89X1483': 12163, 'HRCL_S-235-JR 2.89X1483 TOL13': 12164, 'HRCL_S-235-JR 2.8X1405': 12165, 'HRCL_S-235-JR 2.95X1587': 12166, 'HRCL_S-235-JR 3.65X1434': 12167, 'HRCL_S-235-JR 3.65X1575': 12168, 'HRCL_S-235-JR 3.65X1595': 12169, 'HRCL_S-235-JR 3.95X1580': 12170, 'HRCL_S-235-JR 3X1194': 12171, 'HRCL_S-235-JR 3X1590': 12172, 'HRCL_S-235-JR 4.55X1419': 12173, 'HRCL_S-235-JR 4.5X1505': 12174, 'HRCL_S-235-JR 4.75X1004': 12175, 'HRCL_S-235-JR 4X1267': 12176, 'HRCL_S-235-JR 4X1504': 12177, 'HRCL_S-235-JR 6.7X1382': 12178, 'HRCL_S-235-JR 6X1486': 12179, 'HRCL_S-235-JRGC 2.75X1250': 12180, 'HRCL_S-235-JRGC 2.75X1500': 12181, 'HRCL_S-235-JRGC 3.65X1250': 12182, 'HRCL_S-235-JRGC 3.65X1500': 12183, 'HRCL_S-235-JRGC 4.5X1250': 12184, 'HRCL_S-235-JRGC 4.5X1365': 12185, 'HRCL_S-235-JRGC 4.5X1400': 12186, 'HRCL_S-235-JRGC 4.5X1430': 12187, 'HRCL_S-235-JRGC 5.5X1177': 12188, 'HRCL_S-235-JRGC 5.5X1345': 12189, 'HRCL_S-235-JRGC 5.5X1400': 12190, 'HRCL_S-235-Q1 1.46X1318': 12191, 'HRCL_S-235-Q1 1.85X1412': 12192, 'HRCL_S-235-Q1 2.15X1299': 12193, 'HRCL_S-235-Q1 2.15X1383': 12194, 'HRCL_S-235-Q1 2.55X1515': 12195, 'HRCL_S-235-Q1 2.5X1515': 12196, 'HRCL_S-235-Q1 2.65X1315': 12197, 'HRCL_S-235-Q1 2.65X1439': 12198, 'HRCL_S-235-Q1 2.9X1496': 12199, 'HRCL_S-235-Q1 2.9X1511': 12200, 'HRCL_S-235-Q1 3.2X1504': 12201, 'HRCL_S-235-Q1 3.75X1347': 12202, 'HRCL_S-235-Q3B-BREME 3.45X1595': 12203, 'HRCL_S-235-Q3B-BREME 4.95X1480': 12204, 'HRCL_S-275-J0 5.55X1555': 12205, 'HRCL_S-275-J0 7.6X1377': 12206, 'HRCL_S-275-JR 2.5X1342': 12207, 'HRCL_S-275-JR 2.5X1515': 12208, 'HRCL_S-275-JR 2.75X1443': 12209, 'HRCL_S-275-JR 2.9X1496': 12210, 'HRCL_S-275-JR 2.9X1511': 12211, 'HRCL_S-275-JR 3.65X1434': 12212, 'HRCL_S-275-JR 3.65X1542': 12213, 'HRCL_S-275-JR 3.65X1595': 12214, 'HRCL_S-275-JR 3.85X1282': 12215, 'HRCL_S-275-JR 3.95X1595': 12216, 'HRCL_S-275-JR 3X1548': 12217, 'HRCL_S-275-JR 4.55X1419': 12218, 'HRCL_S-275-JR 4.55X1536': 12219, 'HRCL_S-275-JR 4.55X1773': 12220, 'HRCL_S-275-JR 5X1408': 12221, 'HRCL_S-275-JR+AR-CL1 1.86X1088': 12222, 'HRCL_S-275-JRGC 4.5X1500': 12223, 'HRCL_S-315-MC 1.5X1180': 12224, 'HRCL_S-315-MC 2.5X1140': 12225, 'HRCL_S-315-MC 2.95X1511': 12226, 'HRCL_S-315-MC 2X1160': 12227, 'HRCL_S-315-MC 2X1243': 12228, 'HRCL_S-315-MC 3.4X1280': 12229, 'HRCL_S-315-MC 3.4X1395': 12230, 'HRCL_S-315-MC 3.65X1495': 12231, 'HRCL_S-315-MC HYDROF 2.52X1265': 12232, 'HRCL_S-355 JR CL3 3.65X1439': 12233, 'HRCL_S-355 JR CL3 3.65X1575': 12234, 'HRCL_S-355 JR CL3 3.65X1595': 12235, 'HRCL_S-355 JR CL3 4.55X1187': 12236, 'HRCL_S-355 JR CL3 4.55X1271': 12237, 'HRCL_S-355 JR CL3 4.55X1419': 12238, 'HRCL_S-355 JR CL3 4.55X1559': 12239, 'HRCL_S-355 JR CL3 4.55X1584': 12240, 'HRCL_S-355 JR CL3 4.55X1773': 12241, 'HRCL_S-355 JR CL3 4.55X1776': 12242, 'HRCL_S-355 JR CL3 5X1479': 12243, 'HRCL_S-355-HLE-J2H 10X1030': 12244, 'HRCL_S-355-HLE-J2H 10X1290': 12245, 'HRCL_S-355-HLE-J2H 10X1295': 12246, 'HRCL_S-355-HLE-J2H 10X1552': 12247, 'HRCL_S-355-HLE-J2H 12.1X1288': 12248, 'HRCL_S-355-HLE-J2H 12.1X1481': 12249, 'HRCL_S-355-HLE-J2H 12.1X1578': 12250, 'HRCL_S-355-HLE-J2H 12.1X1580': 12251, 'HRCL_S-355-HLE-J2H 12X1180': 12252, 'HRCL_S-355-HLE-J2H 12X1182': 12253, 'HRCL_S-355-HLE-J2H 12X1198': 12254, 'HRCL_S-355-HLE-J2H 12X1375': 12255, 'HRCL_S-355-HLE-J2H 12X1377': 12256, 'HRCL_S-355-HLE-J2H 12X1544': 12257, 'HRCL_S-355-HLE-J2H 12X1549': 12258, 'HRCL_S-355-HLE-J2H 12X1580': 12259, 'HRCL_S-355-HLE-J2H 12X1704': 12260, 'HRCL_S-355-HLE-J2H 12X1744': 12261, 'HRCL_S-355-HLE-J2H 12X862': 12262, 'HRCL_S-355-HLE-J2H 12X882': 12263, 'HRCL_S-355-HLE-J2H 12X905': 12264, 'HRCL_S-355-HLE-J2H 12X980': 12265, 'HRCL_S-355-HLE-J2H 12X982': 12266, 'HRCL_S-355-HLE-J2H 14.7X1168': 12267, 'HRCL_S-355-HLE-J2H 14.7X1169': 12268, 'HRCL_S-355-HLE-J2H 14.7X1263': 12269, 'HRCL_S-355-HLE-J2H 14.7X1369': 12270, 'HRCL_S-355-HLE-J2H 14.7X1370': 12271, 'HRCL_S-355-HLE-J2H 14.7X1500': 12272, 'HRCL_S-355-HLE-J2H 14.7X1569': 12273, 'HRCL_S-355-HLE-J2H 14.7X1570': 12274, 'HRCL_S-355-HLE-J2H 14.7X844': 12275, 'HRCL_S-355-HLE-J2H 14.7X868': 12276, 'HRCL_S-355-HLE-J2H 14.7X962': 12277, 'HRCL_S-355-HLE-J2H 14.7X963': 12278, 'HRCL_S-355-HLE-J2H 14X1275': 12279, 'HRCL_S-355-HLE-J2H 14X1375': 12280, 'HRCL_S-355-HLE-J2H 14X1520': 12281, 'HRCL_S-355-HLE-J2H 14X876': 12282, 'HRCL_S-355-HLE-J2H 5.55X1175': 12283, 'HRCL_S-355-HLE-J2H 5.55X1415': 12284, 'HRCL_S-355-HLE-J2H 5.55X1419': 12285, 'HRCL_S-355-HLE-J2H 5.55X1510': 12286, 'HRCL_S-355-HLE-J2H 5.55X1555': 12287, 'HRCL_S-355-HLE-J2H 5.55X1567': 12288, 'HRCL_S-355-HLE-J2H 5.55X1569': 12289, 'HRCL_S-355-HLE-J2H 5.7X1575': 12290, 'HRCL_S-355-HLE-J2H 5.85X1387': 12291, 'HRCL_S-355-HLE-J2H 5.85X1419': 12292, 'HRCL_S-355-HLE-J2H 5.85X1476': 12293, 'HRCL_S-355-HLE-J2H 5.85X1569': 12294, 'HRCL_S-355-HLE-J2H 5.85X1755': 12295, 'HRCL_S-355-HLE-J2H 5.95X1359': 12296, 'HRCL_S-355-HLE-J2H 5.95X1415': 12297, 'HRCL_S-355-HLE-J2H 5.95X1569': 12298, 'HRCL_S-355-HLE-J2H 5.95X1574': 12299, 'HRCL_S-355-HLE-J2H 5.9X1387': 12300, 'HRCL_S-355-HLE-J2H 5X1387': 12301, 'HRCL_S-355-HLE-J2H 6.1X1000': 12302, 'HRCL_S-355-HLE-J2H 6.1X1375': 12303, 'HRCL_S-355-HLE-J2H 6.1X1729': 12304, 'HRCL_S-355-HLE-J2H 6.1X1734': 12305, 'HRCL_S-355-HLE-J2H 6.1X1769': 12306, 'HRCL_S-355-HLE-J2H 6.1X992': 12307, 'HRCL_S-355-HLE-J2H 6.2X1389': 12308, 'HRCL_S-355-HLE-J2H 6.4X1389': 12309, 'HRCL_S-355-HLE-J2H 6.4X1405': 12310, 'HRCL_S-355-HLE-J2H 6X1029': 12311, 'HRCL_S-355-HLE-J2H 6X1190': 12312, 'HRCL_S-355-HLE-J2H 6X1287': 12313, 'HRCL_S-355-HLE-J2H 6X1612': 12314, 'HRCL_S-355-HLE-J2H 7.5X1167': 12315, 'HRCL_S-355-HLE-J2H 7.5X1299': 12316, 'HRCL_S-355-HLE-J2H 7.5X1365': 12317, 'HRCL_S-355-HLE-J2H 7.5X1367': 12318, 'HRCL_S-355-HLE-J2H 7.5X1409': 12319, 'HRCL_S-355-HLE-J2H 7.5X1425': 12320, 'HRCL_S-355-HLE-J2H 7.5X1483': 12321, 'HRCL_S-355-HLE-J2H 7.5X1629': 12322, 'HRCL_S-355-HLE-J2H 7.5X1743': 12323, 'HRCL_S-355-HLE-J2H 7.5X1759': 12324, 'HRCL_S-355-HLE-J2H 7.6X1187': 12325, 'HRCL_S-355-HLE-J2H 7.6X1192': 12326, 'HRCL_S-355-HLE-J2H 7.6X1345': 12327, 'HRCL_S-355-HLE-J2H 7.6X1367': 12328, 'HRCL_S-355-HLE-J2H 7.6X1399': 12329, 'HRCL_S-355-HLE-J2H 7.6X1429': 12330, 'HRCL_S-355-HLE-J2H 7.6X1559': 12331, 'HRCL_S-355-HLE-J2H 7.6X1564': 12332, 'HRCL_S-355-HLE-J2H 7.6X1719': 12333, 'HRCL_S-355-HLE-J2H 7.6X1724': 12334, 'HRCL_S-355-HLE-J2H 7.6X1759': 12335, 'HRCL_S-355-HLE-J2H 7.6X1764': 12336, 'HRCL_S-355-HLE-J2H 7.6X987': 12337, 'HRCL_S-355-HLE-J2H 7.6X992': 12338, 'HRCL_S-355-HLE-J2H 8.2X1586': 12339, 'HRCL_S-355-HLE-J2H 8.2X1591': 12340, 'HRCL_S-355-HLE-J2H 8X1032': 12341, 'HRCL_S-355-HLE-J2H 8X1290': 12342, 'HRCL_S-355-HLE-J2H 8X1295': 12343, 'HRCL_S-355-HLE-J2H 8X1384': 12344, 'HRCL_S-355-HLE-J2H 8X1389': 12345, 'HRCL_S-355-HLE-J2H 9.5X1240': 12346, 'HRCL_S-355-HLE-J2H 9.5X1289': 12347, 'HRCL_S-355-HLE-J2H 9.5X1343': 12348, 'HRCL_S-355-HLE-J2H 9.5X1394': 12349, 'HRCL_S-355-HLE-J2H 9.5X1412': 12350, 'HRCL_S-355-HLE-J2H 9.5X1468': 12351, 'HRCL_S-355-HLE-J2H 9.5X1583': 12352, 'HRCL_S-355-HLE-J2H 9.5X1724': 12353, 'HRCL_S-355-HLE-J2H 9.6X1182': 12354, 'HRCL_S-355-HLE-J2H 9.6X1187': 12355, 'HRCL_S-355-HLE-J2H 9.6X1350': 12356, 'HRCL_S-355-HLE-J2H 9.6X1382': 12357, 'HRCL_S-355-HLE-J2H 9.6X1387': 12358, 'HRCL_S-355-HLE-J2H 9.6X1394': 12359, 'HRCL_S-355-HLE-J2H 9.6X1552': 12360, 'HRCL_S-355-HLE-J2H 9.6X1557': 12361, 'HRCL_S-355-HLE-J2H 9.6X1580': 12362, 'HRCL_S-355-HLE-J2H 9.6X1585': 12363, 'HRCL_S-355-HLE-J2H 9.6X1714': 12364, 'HRCL_S-355-HLE-J2H 9.6X862': 12365, 'HRCL_S-355-HLE-J2H 9.6X867': 12366, 'HRCL_S-355-HLE-J2H 9.6X879': 12367, 'HRCL_S-355-HLE-J2H 9.6X884': 12368, 'HRCL_S-355-HLE-J2H 9.6X982': 12369, 'HRCL_S-355-HLE-J2H 9.6X987': 12370, 'HRCL_S-355-J2G4 7.5X1111': 12371, 'HRCL_S-355-J2G4 7.5X1134': 12372, 'HRCL_S-355-J2G4 7.5X1360': 12373, 'HRCL_S-355-J2G4 7.5X1387': 12374, 'HRCL_S-355-J2G4 7.5X1465': 12375, 'HRCL_S-355-J2G4 7.5X974': 12376, 'HRCL_S-355-J2G4 9.5X1072': 12377, 'HRCL_S-355-J2G4 9.5X1116': 12378, 'HRCL_S-355-J2G4 9.5X1316': 12379, 'HRCL_S-355-JR 3.29X1305': 12380, 'HRCL_S-355-JR 3.7X1396': 12381, 'HRCL_S-355-JR 3.85X1282': 12382, 'HRCL_S-355-K2 11.2X1380': 12383, 'HRCL_S-355-K2 11.2X1679': 12384, 'HRCL_S-355-K2 12.1X1667': 12385, 'HRCL_S-355-K2 12.5X1667': 12386, 'HRCL_S-355-K2 13.5X1372': 12387, 'HRCL_S-355-MC 1.45X1032': 12388, 'HRCL_S-355-MC 1.5X1032': 12389, 'HRCL_S-355-MC 1.85X1223': 12390, 'HRCL_S-355-MC 2.05X1079': 12391, 'HRCL_S-355-MC 2.05X1333': 12392, 'HRCL_S-355-MC 2.8X959': 12393, 'HRCL_S-355-MC 2X1162': 12394, 'HRCL_S-355-MC 3.3X1317': 12395, 'HRCL_S-355-MC 3.75X1495': 12396, 'HRCL_S-355-MC 3.7X1346': 12397, 'HRCL_S-355-MC 4.55X1776': 12398, 'HRCL_S-355MC-CAT_A 2.8X1179': 12399, 'HRCL_S-420-MC 1.45X1088': 12400, 'HRCL_S-420-MC 1.9X1260': 12401, 'HRCL_S-420-MC 4.8X1390': 12402, 'HRCL_S-420-MC TM 2.55X1365': 12403, 'HRCL_S-420-MC TM 2.75X1356': 12404, 'HRCL_S-460-MC 5.85X1510': 12405, 'HRCL_S-460-MC 5.85X1555': 12406, 'HRCL_S-460-MC 6.55X1749': 12407, 'HRCL_S-460-MC 7.6X987': 12408, 'HRCL_S-500-MC 9.5X1289': 12409, 'HRCL_S-700-MC 2.8 X 1165': 12410, 'HRCL_S-700-MC 2.8X1165': 12411, 'HRCL_S-700-MC 2X1148': 12412, 'HRCL_S235-JR 1.42X1220': 12413, 'HRCL_S235JR+AR-CL1': 12414, 'HRCL_S235JR+AR-CL1 2.1X1410': 12415, 'HRCL_S235JR+AR-CL1 2.6X1318': 12416, 'HRCL_S235JR+AR-CL1 3.4X1350': 12417, 'HRCL_S235JR+AR-CL1 3.65X1255': 12418, 'HRCL_S235JR+AR-CL1 4.9X1312': 12419, 'HRCL_S275JR LC 2.6X1178': 12420, 'HRCL_S275JR+AR-CL1 1.5X1070': 12421, 'HRCL_S275JR+AR-CL1 3X1380': 12422, 'HRCL_S355J2+AR CL3 11.2X1380': 12423, 'HRCL_S355J2+AR CL3 11.2X1679': 12424, 'HRCL_S355J2+AR CL3 4.5X1737': 12425, 'HRCL_S355J2+AR CL3 4.75X1404': 12426, 'HRCL_S355J2+AR CL3 5.6X1731': 12427, 'HRCL_S355J2+AR CL3 5X1731': 12428, 'HRCL_S355J2+AR CL3 6X1398': 12429, 'HRCL_S355J2+AR CL3 7.2X1394': 12430, 'HRCL_S355J2+AR CL3 7.2X1713': 12431, 'HRCL_S355J2+AR CL3 7.5X1391': 12432, 'HRCL_S355J2+AR CL3 7.5X1713': 12433, 'HRCL_S355J2+AR CL3 8.75X1385': 12434, 'HRCL_S355J2+AR CL3 8.75X1692': 12435, 'HRCL_S355J2+AR CL3 9.5X1688': 12436, 'HRCL_S355J2+AR CL3 9.5X1703': 12437, 'HRCL_S355J2CEV0.41MAX 11.5X953': 12438, 'HRCL_S355J2CEV0.41MAX 7.5X1538': 12439, 'HRCL_S355J2CEV0.41MAX 9.5X1516': 12440, 'HRCL_S355JR+AR-CL1 3.65X1405': 12441, 'HRCL_S500MC ZALAIN 2.5X1280': 12442, 'HRCL_ST-37.2 LOWS 1.81X1265': 12443, 'HRCL_ST-37.2 LOWS 2.01X1265': 12444, 'HRCL_ST-37.2 LOWS 2.4X1265': 12445, 'HRCL_ST-37.2 LOWS 2.61X1265': 12446, 'HRCL_ST-37.2 LOWS 3.01X1195': 12447, 'HRCL_ST-37.2 LOWS 3.51X1265': 12448, 'HRCL_ST-37.2 LOWS 4.01X1265': 12449, 'HRCL_ST-37.2 LOWS 5X1265': 12450, 'HRCL_ST-37.2 LOWS 6.01X1265': 12451, 'HRCL_ST-52.3 MODIF 3.3X1195': 12452, 'HRCL_ST-52.3 MODIF 3.51X1160': 12453, 'HRCL_ST-52.3 MODIF 3.51X1190': 12454, 'HRCL_ST-52.3 MODIF 3.85X1190': 12455, 'HRCL_ST-52.3 MODIF 4.21X1190': 12456, 'HRCL_ST-52.3 MODIF 4.51X1170': 12457, 'HRCL_ST-52.3 MODIF 5.51X1170': 12458, 'HRCL_ST-52.3 MODIF 5X1185': 12459, 'HRCL_ST44.3 HIDROF 2.72X1225': 12460, 'HRCL_TUBE S-275 C14 1.5X1200': 12461, 'HRCL_TUBE S-275 C14 2.81X1250': 12462, 'HRCL_TUBE S-275 C14 2.9X1265': 12463, 'HRCL_TUBE S-275 C14 2X1180': 12464, 'HRCL_TUBE S-275 C14 3.01X1315': 12465, 'HRCL_TUBE S-275 C14 3.31X1265': 12466, 'HRCL_TUBE S-275 C14 3.31X1285': 12467, 'HRCL_TUBE S-275 C14 3.61X1275': 12468, 'HRCL_TUBE S-275 C14 3.95X1210': 12469, 'HRCL_TUBE S-275 C14 4.01X1210': 12470, 'HRCL_TUBE S-275 C14 5X1185': 12471, 'HRCL_TUBE235-SES 1.51X1250': 12472, 'HRCL_TUBE235-SES 1.61X1250': 12473, 'HRCL_TUBE235-SES 1.81X1265': 12474, 'HRCL_TUBE235-SES 2.01X1265': 12475, 'HRCL_TUBE235-SES 2.4X1265': 12476, 'HRCL_TUBE235-SES 2.61X1265': 12477, 'HRCL_TUBE235-SES 3.01X1195': 12478, 'HRCL_TUBE235-SES 3.51X1265': 12479, 'HRCL_TUBE235-SES 4.01X1265': 12480, 'HRCL_TUBE235-SES 4.51X1200': 12481, 'HRCL_TUBE235-SES 5X1265': 12482, 'HRCL_TUBE235-SES 6X1265': 12483, 'HRCL_TUBE275-SES 1.5X1200': 12484, 'HRCL_TUBE275-SES 1.61X1220': 12485, 'HRCL_TUBE275-SES 1.71X1220': 12486, 'HRCL_TUBE275-SES 2.81X1275': 12487, 'HRCL_TUBE275-SES 2.9X1265': 12488, 'HRCL_TUBE275-SES 2X1180': 12489, 'HRCL_TUBE275-SES 3.01X1315': 12490, 'HRCL_TUBE275-SES 3.31X1265': 12491, 'HRCL_TUBE275-SES 3.31X1285': 12492, 'HRCL_TUBE275-SES 3.61X1275': 12493, 'HRCL_TUBE275-SES 3.95X1210': 12494, 'HRCL_TUBE275-SES 4.01X1210': 12495, 'HRCL_TUBE355-SES 2.01X1160': 12496, 'HRCL_TUBE355-SES 2.51X1200': 12497, 'HRCL_TUBE355-SES 2.51X1245': 12498, 'HRCL_TUBE355-SES 2.5X1325': 12499, 'HRCL_TUBE355-SES 2.85X1250': 12500, 'HRCL_TUBE355-SES 3.01X1305': 12501, 'HRCL_TUBE355-SES 3.2X1240': 12502, 'HRCL_TUBE355-SES 3.51X1250': 12503, 'HRCL_TUBE355-SES 3.81X1290': 12504, 'HRCL_TUBE355-SES 3X1305': 12505, 'HRCL_TUBE355-SES 4.01X1250': 12506, 'HRCL_TUBE355-SES 4.51X1200': 12507, 'HRCL_TUBE355-SES 4X1010': 12508, 'HRCL_TUBE355-SES 5.91X1270': 12509, 'HRCL_TUBE355-SES 5X1180': 12510, 'HRPI_AMSTRONG420MC 1.8X1200': 12511, 'HRPI_AMSTRONG420MC 2.5X1250': 12512, 'HRPI_AMSTRONG420MC 2.60X1265': 12513, 'HRPI_AMSTRONG460MC 1.5X1135': 12514, 'HRPI_S-315-MC RE 340 1.94X1162': 12515, 'HRPI_S-355-MC-CAT_A 2.4x1104': 12516, 'HRPI_S-355-MC-CAT_A 2.9x1093': 12517, 'HRPI_S-355-MC-CAT_A 2.9x1454': 12518, 'HRPOS235 1.50': 12519, 'HRPOS235 1.75': 12520, 'HRPOS235 2.50': 12521, 'HRPOS235_1.50': 12522, 'HRPOS355 1.50': 12523, 'HRPOS355 1.75': 12524, 'HRPOS355 2.00': 12525, 'HRPOS355 2.50': 12526, 'HRPOS355 3.5': 12527, 'HRPOS355 3.50': 12528, 'HRPOS355 4.00': 12529, 'HRPOS355_1.50': 12530, 'HRPOS355_1.75': 12531, 'HRPOS355_2.50': 12532, 'HRPOS420 3.00': 12533, 'HRSH 10163 A': 12534, 'HRSH_10X3000X1500_EMBALLE': 12535, 'HR_PI_AMSTRONG 390MC 2.8X1315': 12536, 'HR_PI_AMSTRONG 390MC 3.3X1305': 12537, 'HR_PI_TUBE S-275 C14 1.5X1200': 12538, 'HR_PI_TUBE S-275 C14 1.61X1220': 12539, 'HR_PI_TUBE S-275 C14 1.71X1220': 12540, 'HT-52222': 12541, 'HT-54241': 12542, 'HX 260 LAD + Z_A': 12543, 'HX 380 LAD + Z 140': 12544, 'HX 380 LAD + Z 140 MAO': 12545, 'HX220BD+Z B': 12546, 'HX220BD+Z100 MB': 12547, 'HX260LAD ASPECT A WELDS': 12548, 'HX260LAD+Z': 12549, 'HX260LAD+Z B SURF': 12550, 'HX260LAD+Z100 MB': 12551, 'HX300LAD ASPECT A WELDS': 12552, 'HX300LAD+Z MBO': 12553, 'HX300LAD+Z100 MB': 12554, 'HX300LAD+ZF 1.85X1416': 12555, 'HX300LAD+ZM90 ASPECT B 3.1': 12556, 'HX340LAD +ZM MAE': 12557, 'HX340LAD ASPECT A WELDS': 12558, 'HX340LAD+Z': 12559, 'HX340LAD+Z MBO': 12560, 'HX340LAD+Z275+A': 12561, 'HX340LAD+ZAMLO': 12562, 'HX340LAD+ZM': 12563, 'HX340LAD+ZM 250 ASPECT B': 12564, 'HX340LAD+ZM310 1.4X1364': 12565, 'HX340LAD+Z_A': 12566, 'HX380LAD 4.00 IMPROVED': 12567, 'HX380LAD B/PLAN A/SOUD OTIS': 12568, 'HX380LAD B/PLAN S/SOUD OTIS': 12569, 'HX380LAD B/PLANEITE S/SOUD 3.1': 12570, 'HX380LAD+Z': 12571, 'HX380LAD+Z A/SOUDURE OTIS': 12572, 'HX380LAD+Z AVEC SOUDURE': 12573, 'HX380LAD+Z100 MB': 12574, 'HX380LAD+Z140 MB': 12575, 'HX380LAD+Z450 MAC': 12576, 'HX380LAD+Z450 MAC 2.6X1280': 12577, 'HX380LAD+ZM': 12578, 'HX380LAD+ZM310': 12579, 'HX380LADZA300 MA 1.32X1205': 12580, 'HX380LADZA300 MA 1.45X952': 12581, 'HX380LADZA300 MA 1.9X1138': 12582, 'HX380LADZM200MA 1.32X1205': 12583, 'HX380LADZM200MA 1.45X952': 12584, 'HX380LADZM200MA 1.9X1138': 12585, 'HX420 AUTO WELDS ASPECT A': 12586, 'HX420LAD + Z 100 MBO': 12587, 'HX420LAD ASPECT A NO WELDS': 12588, 'HX420LAD ASPECT B NO WELDS': 12589, 'HX420LAD+Z': 12590, 'HX420LAD+Z B SURF': 12591, 'HX420LAD+Z100 MB': 12592, 'HX420LAD+ZM120MAC': 12593, 'HX420LAD+ZM310': 12594, 'HX420LADZ100MAC': 12595, 'HX420LAD_1.20X1225_ABUDHABI': 12596, 'HX460LAD + Z275 MAC': 12597, 'HX460LAD + Z600 MAC': 12598, 'HX460LAD + ZM 310 MAC': 12599, 'HX460LAD + ZM120 MAC': 12600, 'HX460LAD + ZM310 MAC': 12601, 'HX460LAD+Z275MAC 1X1180': 12602, 'HX460LAD+Z_1500X3_BRE': 12603, 'HX460LADZ275MAC 1.95X1135': 12604, 'HX460LADZ600MAC 1.85X1230': 12605, 'HX460LADZ600MAC 2X1230': 12606, 'HX460LADZM310MA 1.8X1220': 12607, 'HX460LADZM310MA 1.8X1230': 12608, 'HX460LADZM310MA 2X1230': 12609, 'HX460LADZM310MAC 1,8x1220': 12610, 'HX460LADZM310MAC 2x1220': 12611, 'HX500LAD + Z': 12612, 'HX500LAD + Z275 MAC': 12613, 'IDENT-NR. 200102': 12614, 'IDENT-NR. 200150': 12615, 'IDENT-NR. 200159': 12616, 'IDENT-NR. 200177': 12617, 'IDENT-NR. 200185': 12618, 'IDENT-NR. 200193': 12619, 'IDENT-NR. 220006': 12620, 'IDENT-NR. 220579': 12621, 'IDENT-NR. 220765': 12622, 'IDENT-NR. 223097': 12623, 'INDATEN': 12624, 'INDATEN HC315': 12625, 'INDATEN HC315WP': 12626, 'IVO1165X595SP': 12627, 'Indaten 355A (S355J2WP)': 12628, 'Indaten HR': 12629, 'Indication': 12630, 'J 9010': 12631, 'JBS06': 12632, 'JBS55': 12633, 'JBS6150': 12634, 'JBS6150-51CRV4': 12635, 'JBS6150/51CRV4': 12636, 'JBS80': 12637, 'JC/5/HiD/2019': 12638, 'JE 9016E': 12639, 'JET BLACK-G9005 GRANITE STD': 12640, 'JETSKIN': 12641, 'JLAFJP1125': 12642, 'JLAJP808': 12643, 'JLMTRIP1001445': 12644, 'JLMTRIP15': 12645, 'JLSCDS50100': 12646, 'JLSCDS50195': 12647, 'JLSCJUL11471BLACK': 12648, 'JLSCJUL11471GREEN': 12649, 'JLSCPF9006': 12650, 'JLSKDC1250055': 12651, 'JLV': 12652, 'JLV C15004S250': 12653, 'JLVCLS118525': 12654, 'JLVCST151250350': 12655, 'JLVDAN111815': 12656, 'JLVDAN122025': 12657, 'JLVDAN12502': 12658, 'JLVDAN133025': 12659, 'JLVDAN133325': 12660, 'JLVPFG1494125': 12661, 'JPM423': 12662, 'JPM425': 12663, 'JPM4DANC84': 12664, 'JPMYSA38C': 12665, 'JPT WEL20003': 12666, 'JVD0450750Z025HC180': 12667, 'K DX51D+Z': 12668, 'K DX51D+Z KRK1': 12669, 'K DX51D+Z MAC': 12670, 'K DX51D+Z PROFILES': 12671, 'K S320GD+Z': 12672, 'K0119': 12673, 'K0120': 12674, 'K0143': 12675, 'K0144': 12676, 'K0145': 12677, 'K0146': 12678, 'K0147': 12679, 'K0150': 12680, 'K0151': 12681, 'K0152': 12682, 'K0153': 12683, 'K0154': 12684, 'K0156': 12685, 'K0159': 12686, 'K0163': 12687, 'K0200': 12688, 'K0201': 12689, 'K0213': 12690, 'K0229': 12691, 'K0233': 12692, 'K0236': 12693, 'K0238': 12694, 'K0239': 12695, 'K0240': 12696, 'K0243': 12697, 'K0248': 12698, 'K0249': 12699, 'K0253': 12700, 'K10401250': 12701, 'K10501250': 12702, 'K10501455HC260LA': 12703, 'K10701400': 12704, 'K10801250': 12705, 'K11001306HC200': 12706, 'K11121117': 12707, 'K11121381': 12708, 'K12001250': 12709, 'K12001500': 12710, 'K122 006': 12711, 'K122 007': 12712, 'K12501500': 12713, 'K13001250': 12714, 'K26305617': 12715, 'K26305619': 12716, 'K33001295HC340': 12717, 'K40701325': 12718, 'K41251230': 12719, 'K41501370': 12720, 'K42001250': 12721, 'K42001395': 12722, 'K42501250': 12723, 'K42501338': 12724, 'K43001250': 12725, 'K43001306': 12726, 'K43001346': 12727, 'K43001364': 12728, 'KATSKU': 12729, 'KBD.060.1012.DC03': 12730, 'KH300027': 12731, 'KH300055': 12732, 'KH300089': 12733, 'KH301501': 12734, 'KH301934': 12735, 'KH301956': 12736, 'KH302110': 12737, 'KJMZN-045R-DX51D-275MAC3-1250': 12738, 'KJMZN-050R-DX51D-275MAC3-1250': 12739, 'KJMZN-050R-S220GD-100MAC3-1250': 12740, 'KJMZN-060R-DX51D-350MAC3-1250': 12741, 'KJMZN-060R-S220GD-100MBC3-1000': 12742, 'KJMZN-060R-S220GD-100MBC3-1250': 12743, 'KJMZN-060R-S220GD-100MBC3-1500': 12744, 'KJMZN-070R-DX51D-275MAC3-1250': 12745, 'KJMZN-075R-DX51D-275MAC3-1250': 12746, 'KJMZN-075R-DX51D-275MAC3-1500': 12747, 'KJMZN-075R-S220GD-100MBC3-1250': 12748, 'KJMZN-080R-DX51D-275MAC3-1250': 12749, 'KJMZN-090R-DX51D-275MAC3-1250': 12750, 'KJMZN-100R-DX51D-100MBC3-1250': 12751, 'KJMZN-100R-DX51D-275MAC3-1000': 12752, 'KJMZN-100R-DX51D-275MAC3-1250': 12753, 'KJMZN-100R-DX51D-275MAC3-1500': 12754, 'KJMZN-120R-DX51D-275MAC3-1250': 12755, 'KJMZN-120R-DX51D-275MAC3-1500': 12756, 'KJMZN-125R-DX51D-275MAC3-1250': 12757, 'KJMZN-150R-DX51D-100MBC3-1250': 12758, 'KJMZN-150R-DX51D-275MAC3-1000': 12759, 'KJMZN-150R-DX51D-275MAC3-1250': 12760, 'KJMZN-150R-DX51D-275MAC3-1500': 12761, 'KJMZN-150R-DX51D-275MBC3-1000': 12762, 'KJMZN-150R-DX51D-275MBC3-1250': 12763, 'KJMZN-150R-DX51D-275MBC3-1500': 12764, 'KJMZN-150R-DX51D-275MBS3-1000': 12765, 'KJMZN-150R-DX51D-275MBS3-1250': 12766, 'KJMZN-150R-DX51D-275MBS3-1500': 12767, 'KJMZN-200R-DX51D-100MBC3-1250': 12768, 'KJMZN-200R-DX51D-275MAC3-1000': 12769, 'KJMZN-200R-DX51D-275MAC3-1250': 12770, 'KJMZN-200R-DX51D-275MAC3-1500': 12771, 'KJMZN-200R-DX51D-275MBC3-1000': 12772, 'KJMZN-200R-DX51D-275MBC3-1250': 12773, 'KJMZN-200R-DX51D-275MBC3-1500': 12774, 'KJMZN-250R-DX51D-100MBC3-1250': 12775, 'KJMZN-250R-DX51D-275MAC3-1000': 12776, 'KJMZN-250R-DX51D-275MAC3-1250': 12777, 'KJMZN-250R-DX51D-275MBC3-1250': 12778, 'KJMZN-300R-DX51D-275MBC3-1000': 12779, 'KJMZN-300R-DX51D-275MBC3-1250': 12780, 'KRA': 12781, 'KRA DX51D+Z': 12782, 'KRA DX51D+Z MAC': 12783, 'KRA DX51D+Z100 1.7X1250': 12784, 'KRA H240': 12785, 'KRA S220GD+Z': 12786, 'KRA S235JR+N-CL1': 12787, 'KRA S235JRC+N-CL1': 12788, 'KRA S250GD': 12789, 'KRA S250GD+Z': 12790, 'KRA S280GD': 12791, 'KRA S280GD+Z': 12792, 'KRA S355J2+N-CL1': 12793, 'KRADX51DZ100MAC04512302.212': 12794, 'KRADX51DZ100MAC10012502.212': 12795, 'KRADX51DZ100MAC12012502.212': 12796, 'KRADX51DZ100MAC14012502.212': 12797, 'KRADX51DZ100NAC04512302.212': 12798, 'KRADX51DZ100NAC0512302.212': 12799, 'KRADX51DZ100NAC06012302.212': 12800, 'KRADX51DZ100NAC0612302.212': 12801, 'KRADX51DZ100NAC10012302.212': 12802, 'KRADX51DZ100NAC10012502.212': 12803, 'KRADX51DZ100NAC12012502.212': 12804, 'KRADX51DZ100NAC14012502.212': 12805, 'KRADX51DZ100NAC16512502.212': 12806, 'KRADX51DZ100NAC18012502.212': 12807, 'KRADX51DZ100NAC19212502.212': 12808, 'KRADX51DZ140MAC10012502.212': 12809, 'KRADX51DZ140MAC12012502.212': 12810, 'KRADX51DZ140MAC14612502.212': 12811, 'KRADX51DZ140NAC10012502.212': 12812, 'KRADX51DZ140NAC12012502.212': 12813, 'KRADX51DZ140NAC14612502.212': 12814, 'KRADX51DZ140NAC16512502.212': 12815, 'KRADX51DZ140NAC19212502.212': 12816, 'KRADX51DZ275MAC10012502.212': 12817, 'KRADX51DZ275MAC12012502.212': 12818, 'KRADX51DZ275MAC14012502.212': 12819, 'KRADX51DZ275NAC12012502.27.5': 12820, 'KRAS235JR+N-CL115012503.122': 12821, 'KRAS235JR+N-CL118012503.122': 12822, 'KRAS235JR+N-CL120012503.122': 12823, 'KRAS235JR+N-CL125012503.122': 12824, 'KRAS280GDZ275MAC12012502.212': 12825, 'KRK1 DX51D+Z100 1.18X1160': 12826, 'KY036': 12827, 'KY046': 12828, 'KY056': 12829, 'KY086': 12830, 'Konsorcjum': 12831, 'Konsorcjum Stali': 12832, 'L PRIM': 12833, 'L360NE 3.1 WT-003 3/4EN': 12834, 'L41588180415151': 12835, 'L41588182615594': 12836, 'L41588890113574': 12837, 'L41588897314727': 12838, 'L4158893812243': 12839, 'L4158893832246': 12840, 'L4158893842245': 12841, 'L4158895263284': 12842, 'L4158895483503': 12843, 'L4158898189825': 12844, 'L4158899965721': 12845, 'LADECO1/000001': 12846, 'LADECO1/000004': 12847, 'LADECO1/000005': 12848, 'LADECO1/000006': 12849, 'LADECO1/000010': 12850, 'LADECO1/000011': 12851, 'LADECO1/000012': 12852, 'LADECO1/000015': 12853, 'LADECO1/000017': 12854, 'LADECO1/000035': 12855, 'LADECO1/000036': 12856, 'LADECO1/000046': 12857, 'LADECO1/000151': 12858, 'LADECO1/000208': 12859, 'LADECO1S700MC/000005': 12860, 'LANECOSB/00000': 12861, 'LANECOSB/000002': 12862, 'LANECOSB/000003': 12863, 'LANECOSB/000010': 12864, 'LANECOSB/000011': 12865, 'LANECOSB/000012': 12866, 'LANERELIA450S0311': 12867, 'LAT': 12868, 'LBL1208X465SP': 12869, 'LBL1208X595SP': 12870, 'LF 0400800Z000D5MA': 12871, 'LF 0400900Z000D5MA': 12872, 'LF 0471350Z000D5MA': 12873, 'LF 0501160Z000D5MA': 12874, 'LF 0501250Z000D5MA': 12875, 'LF 0501280Z000D5MA': 12876, 'LF 0501470Z000D5MA': 12877, 'LF 0601250Z000D5MA': 12878, 'LF 0601358DC04ED': 12879, 'LF 0701190Z000D5MA': 12880, 'LF 0701290Z000DCSOL': 12881, 'LF 0701450Z000DCSOL': 12882, 'LF 0701478DC04ED': 12883, 'LF 0801110Z000DCSO+': 12884, 'LF 0801430Z000DCSO+': 12885, 'LF 0801490Z000DC04D': 12886, 'LF 1001320Z000D5MA': 12887, 'LF 1201232Z000DC01E': 12888, 'LF 1201430Z000DC05': 12889, 'LF 1201480Z000DC05': 12890, 'LF 2000900Z000DC01': 12891, 'LF 3001350Z000DC04': 12892, 'LF000NA08500080001': 12893, 'LF000NA12180080001': 12894, 'LF000NA13100012001': 12895, 'LF000NA16000080001': 12896, 'LF000NA16200120001': 12897, 'LF000NA16900080001': 12898, 'LF000NA18150120001': 12899, 'LF000NA20000080001': 12900, 'LF00233165LAF-FRD': 12901, 'LHB 1437 713': 12902, 'LHB 1439 205 08': 12903, 'LIEA03380LC32AW30---------DES1': 12904, 'LIEA03397LA32AW30---------DES1': 12905, 'LIEA03397LC32AW30---------DES1': 12906, 'LIEA04078LC32AW30---------DES1': 12907, 'LIEA06835CA32AF10---------DES1': 12908, 'LIEA09836RC67BC30--S------DES1': 12909, 'LIEA10004RC67BC30--S------DES1': 12910, 'LIEA14071RC67BC30--S------DES1': 12911, 'LIEA14073RA67BC30--S------DES1': 12912, 'LIEA14073RC67BC30--S------DES1': 12913, 'LIEA14382RC67BC30--S------DES1': 12914, 'LIEDX51DZ275MAC24012502.212': 12915, 'LIEG_S220GD+ZM310_PROF.A FROID': 12916, 'LIES250GDZ275MAC25012502.2212': 12917, 'LIES280GDZ275MAC25012502.212': 12918, 'LIN1065X32AA': 12919, 'LIN1065X32B': 12920, 'LIN1065X465B': 12921, 'LIN1065X50B': 12922, 'LIN1065X595BLONG': 12923, 'LIN1143X38B': 12924, 'LIN1290X66B': 12925, 'LMT 1432 313 05': 12926, 'LMT 1433 053 05': 12927, 'LMT 1433 054 05': 12928, 'LMT 1433 055 05': 12929, 'LOT 1': 12930, 'LOT 2': 12931, 'LOT 3': 12932, 'LR-A': 12933, 'LR2011209': 12934, 'LR2011815': 12935, 'LR3010958': 12936, 'LR3011258': 12937, 'LTG1065X32POLB': 12938, 'LTG1245X60ANT': 12939, 'LU DC01': 12940, 'LU DC04': 12941, 'LWE 1437 901 08': 12942, 'LWE 1437 905 08': 12943, 'LWE 1439 203 08': 12944, 'LWE 1439 204 08': 12945, 'M003973': 12946, 'M004755': 12947, 'M00499': 12948, 'M00503': 12949, 'M005035': 12950, 'M005092': 12951, 'M005506': 12952, 'M006078': 12953, 'M006269': 12954, 'M006270': 12955, 'M009 / 243236': 12956, 'M009 / 243238': 12957, 'M009 / 243246': 12958, 'M02366': 12959, 'M03967': 12960, 'M04062': 12961, 'M04086': 12962, 'M05214': 12963, 'M05215': 12964, 'M05363': 12965, 'M05365': 12966, 'M10058F': 12967, 'M10078Z': 12968, 'M10081C': 12969, 'M10082D': 12970, 'M10191I': 12971, 'M10192J': 12972, 'M10195M': 12973, 'M10196N': 12974, 'M10199Q': 12975, 'M10203U': 12976, 'M10204V': 12977, 'M10252R': 12978, 'M10257W': 12979, 'M10258X': 12980, 'M10281U': 12981, 'M10294H': 12982, 'M10346H': 12983, 'M10347I': 12984, 'M10363Y': 12985, 'M10528N': 12986, 'M13710050 NORMALLY OILED': 12987, 'M13710060 NORMALLY OILED': 12988, 'M13710065 NORMALLY OILED': 12989, 'M13710085 NORMALLY OILED': 12990, 'M13710090 NORMALLY OILED': 12991, 'M13710095 NORMALLY OILED': 12992, 'M13710121 NORMALLY OILED': 12993, 'M13710130 NORMALLY OILED': 12994, 'M13770020 NORMALLY OILED': 12995, 'M13770055 NORMALLY OILED': 12996, 'M13770100 NORMALLY OILED': 12997, 'M13770150 NO KRA': 12998, 'M13770150 NORMALLY OILED': 12999, 'M13770200 NORMALLY OILED': 13000, 'M13770310 NORMALLY OILED': 13001, 'M13770321 HC260LA NO': 13002, 'M13780321 DC01 KRA': 13003, 'M15001D00000000': 13004, 'M20012M': 13005, 'M20014O': 13006, 'M20023X': 13007, 'M20030E': 13008, 'M20042Q': 13009, 'M20043R': 13010, 'M20050Y': 13011, 'M20059H': 13012, 'M20060I': 13013, 'M20066O': 13014, 'M20067P': 13015, 'M20101X': 13016, 'M30045U': 13017, 'M30095S': 13018, 'M30099W': 13019, 'M30103A': 13020, 'M30108F': 13021, 'M30114L': 13022, 'M5647': 13023, 'M5648': 13024, 'M5649': 13025, 'M800-HY': 13026, 'M800-HY 2,15 X 1250': 13027, 'M9129': 13028, 'MA 0701285Z120DX51D': 13029, 'MA0008I': 13030, 'MA0039N': 13031, 'MA0041P': 13032, 'MA0044S': 13033, 'MA0045T': 13034, 'MA0083F': 13035, 'MA0116M': 13036, 'MA0123T': 13037, 'MA0125V': 13038, 'MA0143N': 13039, 'MA0146Q': 13040, 'MA0155Z': 13041, 'MA0174S': 13042, 'MA0175T': 13043, 'MA0176U': 13044, 'MA0177V': 13045, 'MA0195N': 13046, 'MA0198Q': 13047, 'MA0204W': 13048, 'MA0205X': 13049, 'MA0249P': 13050, 'MA0250Q': 13051, 'MA0264E': 13052, 'MA0298M': 13053, 'MA0299N': 13054, 'MA0300O': 13055, 'MA0301P': 13056, 'MA0306U': 13057, 'MA0324M': 13058, 'MA0332U': 13059, 'MA0339B': 13060, 'MA0343F': 13061, 'MA0353P': 13062, 'MA0358U': 13063, 'MA0361X': 13064, 'MA0388Y': 13065, 'MA0410U': 13066, 'MA0415Z': 13067, 'MA0418C': 13068, 'MA0425J': 13069, 'MA0426K': 13070, 'MA0454M': 13071, 'MA0460S': 13072, 'MA0468A': 13073, 'MA0469B': 13074, 'MA0477J': 13075, 'MA0478K': 13076, 'MA0481N': 13077, 'MA0485R': 13078, 'MA0487T': 13079, 'MA0491X': 13080, 'MA0493Z': 13081, 'MA0504K': 13082, 'MA0506M': 13083, 'MA0514U': 13084, 'MA0515V': 13085, 'MA0517X': 13086, 'MA0518Y': 13087, 'MA0519Z': 13088, 'MA0523M': 13089, 'MA0525F': 13090, 'MA0531L': 13091, 'MA0532M': 13092, 'MA0533N': 13093, 'MA0536Q': 13094, 'MA0538S': 13095, 'MA0539T': 13096, 'MA0541V': 13097, 'MA0542W': 13098, 'MA0543X': 13099, 'MA0544Y': 13100, 'MA0548C': 13101, 'MA0580I': 13102, 'MA0581J': 13103, 'MA0582K': 13104, 'MA0598A': 13105, 'MA0601D': 13106, 'MA0615R': 13107, 'MA0617T': 13108, 'MA0641R': 13109, 'MA0655E': 13110, 'MA0666Q': 13111, 'MA0672W': 13112, 'MA0673X': 13113, 'MA0674Y': 13114, 'MA0675Z': 13115, 'MA0678C': 13116, 'MA0690O': 13117, 'MA0727Z': 13118, 'MA0729B': 13119, 'MA0765L': 13120, 'MA0767N': 13121, 'MA0768O': 13122, 'MA0789J': 13123, 'MAGASIN': 13124, 'MAS65210': 13125, 'MAS65220': 13126, 'MAS65240': 13127, 'MAS65270': 13128, 'MAS65550': 13129, 'MAS65605': 13130, 'MAV0701285Z120R9005': 13131, 'MB0039P': 13132, 'MB0083H': 13133, 'MB0098W': 13134, 'MB0105D': 13135, 'MB0119R': 13136, 'MB0142O': 13137, 'MB0143P': 13138, 'MB0292H': 13139, 'MB0393E': 13140, 'MB0412X': 13141, 'MB0491Y': 13142, 'MB0511S': 13143, 'MB0515W': 13144, 'MB0521C': 13145, 'MB0528J': 13146, 'MB0531M': 13147, 'MB0547C': 13148, 'MB0549E': 13149, 'MB0555K': 13150, 'MB0563S': 13151, 'MB0564T': 13152, 'MB0578H': 13153, 'MB0598B': 13154, 'MB0676B': 13155, 'MB0678D': 13156, 'MB0684J': 13157, 'MB0685K': 13158, 'MB0686L': 13159, 'MB0697W': 13160, 'MB0699Y': 13161, 'MB0700Z': 13162, 'MB0701A': 13163, 'MB0702B': 13164, 'MB0720T': 13165, 'MB0725Y': 13166, 'MBLS355MCGF05': 13167, 'MBLS355MCGF06': 13168, 'MBLS355MCGF08': 13169, 'MBLS355MCGF10': 13170, 'MBLS355MCGF12': 13171, 'MBLS460MCGF10': 13172, 'MEDIUMBROWN': 13173, 'METAL 0206/35/METAL 0206/35': 13174, 'METAL 0207/35/METAL 0207/35': 13175, 'MFD03000': 13176, 'MFD12000': 13177, 'MFD12500': 13178, 'MFD13000': 13179, 'MFD32000': 13180, 'MFF02000': 13181, 'MFF02500': 13182, 'MFG10580': 13183, 'MFG21500': 13184, 'MFG22000': 13185, 'MG': 13186, 'MH': 13187, 'MI': 13188, 'MID1208X595SOLNX': 13189, 'MIEA14093RC12BC30--S------DES1': 13190, 'MIEA14100RC12BC30--S------DES1': 13191, 'MIEA14101RC12BC30--S------DES1': 13192, 'MIEA14613RC12BC30--S------DES1': 13193, 'MK S700MC LASER': 13194, 'MK-S240C-MEKA': 13195, 'MK-S420MC-RICHTER': 13196, 'MK-SENZE S250GDZM310': 13197, 'ML': 13198, 'MLF3DMOG972TZL': 13199, 'MLF3DROG972TZL': 13200, 'MLF3E0ME970RZR': 13201, 'MLF3EMME97NBZL': 13202, 'MLF3EMOG972TZL': 13203, 'MLF3FMOG972TZL': 13204, 'MLF3FMOG973WZL': 13205, 'MLF3FSOG972TZL': 13206, 'MLF3FSOG973WZL': 13207, 'MMPA07513H': 13208, 'MOG1208X595POLC': 13209, 'MOG1245X060SP': 13210, 'MONKLE': 13211, 'MP.CBC600.12030': 13212, 'MP.CBC600.12565': 13213, 'MP.CBC600.13520': 13214, 'MP.CBC600.15055': 13215, 'MP.CBC600.15530': 13216, 'MP.CBC600.17050': 13217, 'MP.CBC600.18020': 13218, 'MP.CBCA14.20050': 13219, 'MP.CBCA14.25050': 13220, 'MP.CBCA14.30050': 13221, 'MP.CBDC03.09335': 13222, 'MP.CBDC03.10035': 13223, 'MP.CBDC03.11435': 13224, 'MP.CBDC03.11450': 13225, 'MP.CBDC03.12250': 13226, 'MP.CBDC03.14030': 13227, 'MP.CBDC03.15335': 13228, 'MP.CBDC03.15350': 13229, 'MP.CBDC03.16330': 13230, 'MP.CBDC06.10030': 13231, 'MP.CBDC06.10045': 13232, 'MP.CBDC06.10050': 13233, 'MP.CBH340.14030': 13234, 'MP.CBH340.14050': 13235, 'MP.CBP245.31560': 13236, 'MP.CBP265.19540': 13237, 'MP.CBP265.26070': 13238, 'MP.CBP265.27525': 13239, 'MP.CBP265.29060': 13240, 'MP.CBP265.32515': 13241, 'MP.CBP265.35070': 13242, 'MP.CBP310.20530': 13243, 'MP.CBP310.21530': 13244, 'MP.CBP310.21555': 13245, 'MP.CBP310.22530': 13246, 'MP.CBP310.22555': 13247, 'MP.CBP310.22560': 13248, 'MP.CBP310.22570': 13249, 'MP.CBP310.23520': 13250, 'MP.CBP310.23535': 13251, 'MP.CBP310.23550': 13252, 'MP.CBP310.23570': 13253, 'MP.CBP310.25030': 13254, 'MP.CBP310.25040': 13255, 'MP.CBP310.25060': 13256, 'MP.CBP310.27035': 13257, 'MP.CBP310.27060': 13258, 'MP.CBP310.27090': 13259, 'MP.CBP310.28040': 13260, 'MP.CBP310.29035': 13261, 'MP.CBP310.29040': 13262, 'MP.CBP310.29090': 13263, 'MP.CBP310.31515': 13264, 'MP.CBP310.32015': 13265, 'MP.CBP310.33550': 13266, 'MP.CBP310.35515': 13267, 'MP.CBP310.35550': 13268, 'MP.CBP310.38515': 13269, 'MP.CBP355.25020': 13270, 'MP.CBP355.26020': 13271, 'MP.CBS235.20050': 13272, 'MP.CBS235.25045': 13273, 'MP.CBS235.30045': 13274, 'MP0040GLDAZD1000': 13275, 'MP0050PLDARJ1250': 13276, 'MP0060PODEFS1000': 13277, 'MP0060PODEFS1250': 13278, 'MP0060PODEFS1500': 13279, 'MP0070PODEFS1000': 13280, 'MP0070PODEFS1250': 13281, 'MP0070PODEFS1500': 13282, 'MP0080PODEFS1000': 13283, 'MP0080PODEFS1250': 13284, 'MP0080PODEFS1500': 13285, 'MP0100GLDAZD1000': 13286, 'MP0100GLDAZD1250': 13287, 'MP0100GLDAZD1500': 13288, 'MP0100PODEFS1500': 13289, 'MP0120GLDAZD1000': 13290, 'MP0120GLDAZD1250': 13291, 'MP0120GLDAZD1500': 13292, 'MP0120PODEFS1500': 13293, 'MP0138GLDAZD1250': 13294, 'MP0138GLDAZD1500': 13295, 'MP0150DOSBJR1020': 13296, 'MP0150EZDEZE1000': 13297, 'MP0150EZDEZE1250': 13298, 'MP0150EZDEZE1500': 13299, 'MP0150GLDAZD1500': 13300, 'MP0150PODEFS1000': 13301, 'MP0150PODEFS1250': 13302, 'MP0150PODEFS1500': 13303, 'MP0185GLDAZD1000': 13304, 'MP0185GLDAZD1250': 13305, 'MP0185GLDAZD1500': 13306, 'MP0185PODGNA1132': 13307, 'MP0185PRSBJR1250': 13308, 'MP0200DOSBJR1500': 13309, 'MP0200EZDEZE1500': 13310, 'MP0200PODEFS1000': 13311, 'MP0200PODEFS1250': 13312, 'MP0200PODEFS1500': 13313, 'MP0200PODENA1500': 13314, 'MP0200PRSCJR1500': 13315, 'MP0209DOSEJR1312': 13316, 'MP0215PRSEJR1258': 13317, 'MP0220PRSBJR1250': 13318, 'MP0220PRSIMC1294': 13319, 'MP0245PRDCNA1250': 13320, 'MP0245PRDCNA1500': 13321, 'MP0250EZDEZE1000': 13322, 'MP0250EZDEZE1500': 13323, 'MP0250GLDAZD1250': 13324, 'MP0250GLDAZD1500': 13325, 'MP0250PODEFS1000': 13326, 'MP0250PODEFS1250': 13327, 'MP0250PODEFS1500': 13328, 'MP0280DOSEJR1140': 13329, 'MP0280PRDCNA1250': 13330, 'MP0280PRDCNA1500': 13331, 'MP0280PRSBJR1686': 13332, 'MP0280PRSCJR1000': 13333, 'MP0280PRSCJR1250': 13334, 'MP0280PRSCJR1438': 13335, 'MP0280PRSCJR1500': 13336, 'MP0280PRSCJR1594': 13337, 'MP0280PRSEJR1250': 13338, 'MP0290GLDAZD1000': 13339, 'MP0290GLDAZD1250': 13340, 'MP0290GLDAZD1500': 13341, 'MP0300DOSBJR1250': 13342, 'MP0300DOSBJR1500': 13343, 'MP0300PODEFS1000': 13344, 'MP0300PODEFS1250': 13345, 'MP0300PODEFS1500': 13346, 'MP0300PRSBGT1000': 13347, 'MP0300PRSBGT1250': 13348, 'MP0300PRSBJR2000': 13349, 'MP0300PRSCJR2000': 13350, 'MP0300PRSEMC1375': 13351, 'MP0300PRSTMC1230': 13352, 'MP0365PRSCJR1250': 13353, 'MP0365PRSCJR1409': 13354, 'MP0365PRSCJR1500': 13355, 'MP0365PRSCJR1558': 13356, 'MP0370DOSEJR1325': 13357, 'MP0370PRSBJR1250': 13358, 'MP0370PRSBJR1355': 13359, 'MP0370PRSBJR1500': 13360, 'MP0370PRSBJR1591': 13361, 'MP0370PRSEMC1162': 13362, 'MP0380DOSFMC1425': 13363, 'MP0380PRSEJR1500': 13364, 'MP0400DOSBJR1250': 13365, 'MP0400DOSBJR1500': 13366, 'MP0400DOSEJR1505': 13367, 'MP0400PRSBGT1000': 13368, 'MP0400PRSBGT1250': 13369, 'MP0400PRSCJR2000': 13370, 'MP0460DOSEJR1084': 13371, 'MP0460PRSBJR1570': 13372, 'MP0460PRSCJR1386': 13373, 'MP0460PRSCJR1500': 13374, 'MP0460PRSCJR1528': 13375, 'MP0460PRSCJR1545': 13376, 'MP0460PRSCJR1848': 13377, 'MP0460PRSEJR1500': 13378, 'MP0460PRSEJR1848': 13379, 'MP0500DOSBJR1500': 13380, 'MP0500PRSBGT1250': 13381, 'MP0500PRSBGT1500': 13382, 'MP0500PRSBJR1500': 13383, 'MP0550PRSBJR1720': 13384, 'MP0550PRSBJR1828': 13385, 'MP0550PRSCJR1500': 13386, 'MP0550PRSCJR1540': 13387, 'MP0550PRSCJR1560': 13388, 'MP0550PRSCJR1828': 13389, 'MP0550PRSEJR1560': 13390, 'MP0600DOSBJR1500': 13391, 'MP0600PRSEGT1508': 13392, 'MP0600PRSEJB2000': 13393, 'MP0750PRSEJR1329': 13394, 'MP0750PRSEJR1448': 13395, 'MP0750PRSEJR1534': 13396, 'MP0750PRSEJR1772': 13397, 'MP0750PRSEJR1818': 13398, 'MP0800DOSBJR1500': 13399, 'MP0950PRSEJR1500': 13400, 'MP0950PRSEJR1705': 13401, 'MP1000024': 13402, 'MP1000025': 13403, 'MP1000025 1360X2.5': 13404, 'MP1000027': 13405, 'MP1000028': 13406, 'MP1000029': 13407, 'MP1000030': 13408, 'MP1000034': 13409, 'MP1000035': 13410, 'MP1000038': 13411, 'MP1000040': 13412, 'MP1000041': 13413, 'MP1000042': 13414, 'MP1000045': 13415, 'MP1000046': 13416, 'MP1000047': 13417, 'MP1000048': 13418, 'MP1000050': 13419, 'MP1000051': 13420, 'MP1000053': 13421, 'MP1000055': 13422, 'MP1000057': 13423, 'MP1000059': 13424, 'MP1000060': 13425, 'MP1000061': 13426, 'MP1000063': 13427, 'MP1000064': 13428, 'MP1000066': 13429, 'MP1000068': 13430, 'MP1000070': 13431, 'MP1000071': 13432, 'MP1000072': 13433, 'MP1000073': 13434, 'MP1000074': 13435, 'MP1000075': 13436, 'MP1000077': 13437, 'MP1000079': 13438, 'MP1000080': 13439, 'MP1000082': 13440, 'MP1000084': 13441, 'MP1000086': 13442, 'MP1000087': 13443, 'MP1000088': 13444, 'MP1000091': 13445, 'MP1000092': 13446, 'MP1000093': 13447, 'MP1000094': 13448, 'MP1000097': 13449, 'MP1000098': 13450, 'MP1000099': 13451, 'MP1000100': 13452, 'MP1000101': 13453, 'MP1000102': 13454, 'MP1000103': 13455, 'MP1000105': 13456, 'MP1000106': 13457, 'MP1000108': 13458, 'MP1000110': 13459, 'MP1000111': 13460, 'MP1000113': 13461, 'MP1000115': 13462, 'MP1000117': 13463, 'MP1000120': 13464, 'MP1000122': 13465, 'MP1000124': 13466, 'MP1000129': 13467, 'MP1000133': 13468, 'MP1000134': 13469, 'MP1000136': 13470, 'MP1000138': 13471, 'MP1000140': 13472, 'MP1000142': 13473, 'MP1000143': 13474, 'MP1000148': 13475, 'MP1000186': 13476, 'MP1000191': 13477, 'MP1000202': 13478, 'MP1000226': 13479, 'MP1000231': 13480, 'MP1000238': 13481, 'MP1000252': 13482, 'MP1000258': 13483, 'MP1000274': 13484, 'MP1000278': 13485, 'MP1000279': 13486, 'MP1000282': 13487, 'MP1000283': 13488, 'MP1000289': 13489, 'MP1000302': 13490, 'MP1000313': 13491, 'MP1000316': 13492, 'MP1000327': 13493, 'MP1000329': 13494, 'MP1000341': 13495, 'MP1000DOSBJR1500': 13496, 'MPP907831': 13497, 'MPP907832H': 13498, 'MPP907833': 13499, 'MPP907833H': 13500, 'MPP907851': 13501, 'MPP907851H': 13502, 'MPP907852H': 13503, 'MPP907856H': 13504, 'MPP907876': 13505, 'MPP907885': 13506, 'MPPA07436': 13507, 'MPPA07520': 13508, 'MPPA07545': 13509, 'MPPA07545H': 13510, 'MPPA07560': 13511, 'MPPA07561': 13512, 'MPPA07571': 13513, 'MPPA07571H': 13514, 'MPPVBG*35*1055': 13515, 'MPPVBG*38*1055': 13516, 'MPPVRS*35*1235': 13517, 'MPPVRS*38*1235': 13518, 'MR/08/SRW/2018': 13519, 'MSP050113900001': 13520, 'MSP050114400040': 13521, 'MSP05012500000': 13522, 'MSP060114400042': 13523, 'MSP070117000043': 13524, 'MSP070120000053': 13525, 'MSP080119400001': 13526, 'MSP090131500048': 13527, 'MSP100119400001': 13528, 'MSP101111000001': 13529, 'MSP120118000001': 13530, 'MSP15011950000': 13531, 'MSP150119500001': 13532, 'MSS040105000001': 13533, 'MSS040107000001': 13534, 'MSS050114400110': 13535, 'MSS070117000112': 13536, 'MSS080122500001': 13537, 'MSS095120400001': 13538, 'MSS095150000081': 13539, 'MSS100110500001': 13540, 'MSS115120400088': 13541, 'MSS145110000094': 13542, 'MSS150106000001': 13543, 'MSS150136500001': 13544, 'MSS180119200001': 13545, 'MSS200150000120': 13546, 'MST000064': 13547, 'MST000067': 13548, 'MST000070': 13549, 'MST000072': 13550, 'MZ': 13551, 'MZ2300110': 13552, 'MZ2500125': 13553, 'MZ2500125 JETSKIN': 13554, 'MZ2600005': 13555, 'MZ2600041': 13556, 'MZ2600043': 13557, 'MZ2600045': 13558, 'MZ2600047': 13559, 'MZ2600049': 13560, 'Mardyck PO': 13561, 'N01-0000200': 13562, 'N01-0001005': 13563, 'N01-0001012': 13564, 'N01-0001083': 13565, 'N01-00011096': 13566, 'N01-0001787': 13567, 'N01-0006046': 13568, 'N01-0006170': 13569, 'N01-0006171': 13570, 'N01-0006196': 13571, 'N01-0006233': 13572, 'N01-0006235': 13573, 'N01-0006236': 13574, 'N01-0006241': 13575, 'N01-0006272': 13576, 'N01-0006756': 13577, 'N01-0008037': 13578, 'N01-0008055': 13579, 'N01-0008080': 13580, 'N01-0008117': 13581, 'N01-0008142': 13582, 'N01-0008173': 13583, 'N01-0008360': 13584, 'N01-0008458': 13585, 'N01-0008514': 13586, 'N01-0008515': 13587, 'N01-0008526': 13588, 'N01-0008528': 13589, 'N01-0008529': 13590, 'N01-0008552': 13591, 'N01-0008787': 13592, 'N01-0008845': 13593, 'N01-0008847': 13594, 'N01-0008902': 13595, 'N01-0008913': 13596, 'N01-0008918': 13597, 'N01-0008920': 13598, 'N01-0009001': 13599, 'N01-0009013': 13600, 'N01-0009016': 13601, 'N01-0009134': 13602, 'N01-0009184': 13603, 'N01-0009185': 13604, 'N01-0009290': 13605, 'N01-0009294': 13606, 'N01-0009295': 13607, 'N01-0009298': 13608, 'N01-0009340': 13609, 'N01-0009341': 13610, 'N01-0009457': 13611, 'N01-0009536': 13612, 'N01-0009565': 13613, 'N01-0009569': 13614, 'N01-0009575': 13615, 'N01-0009577': 13616, 'N01-0009578': 13617, 'N01-0009618': 13618, 'N01-0009716': 13619, 'N01-0009779': 13620, 'N01-0009787': 13621, 'N01-0009812': 13622, 'N01-0009815': 13623, 'N01-0009820': 13624, 'N01-0009890': 13625, 'N01-0009892': 13626, 'N01-0009901': 13627, 'N01-0009910': 13628, 'N01-0009961': 13629, 'N01-0009972': 13630, 'N01-0010117': 13631, 'N01-0010165': 13632, 'N01-0010166': 13633, 'N01-0010214': 13634, 'N01-0010225': 13635, 'N01-0010295': 13636, 'N01-0010296': 13637, 'N01-0010307': 13638, 'N01-0010382': 13639, 'N01-0010407': 13640, 'N01-0010415': 13641, 'N01-0010416': 13642, 'N01-0010438': 13643, 'N01-0010484': 13644, 'N01-0010529': 13645, 'N01-0010539': 13646, 'N01-0010540': 13647, 'N01-0010562': 13648, 'N01-0010576': 13649, 'N01-0010577': 13650, 'N01-0010578': 13651, 'N01-0010601': 13652, 'N01-0010602': 13653, 'N01-0010644': 13654, 'N01-0010662': 13655, 'N01-0010664': 13656, 'N01-0010666': 13657, 'N01-0010712': 13658, 'N01-0010821': 13659, 'N01-0010823': 13660, 'N01-0010830': 13661, 'N01-0010856': 13662, 'N01-0010873': 13663, 'N01-0010902': 13664, 'N01-0010937': 13665, 'N01-0010950': 13666, 'N01-0010951': 13667, 'N01-0010952': 13668, 'N01-0011039': 13669, 'N01-0011042': 13670, 'N01-0011049': 13671, 'N01-0011082': 13672, 'N01-0011104': 13673, 'N01-0011117': 13674, 'N01-0011127': 13675, 'N01-0011132': 13676, 'N01-0011141': 13677, 'N01-0011147': 13678, 'N01-0011154': 13679, 'N01-0011155': 13680, 'N01-0011164': 13681, 'N01-0011180': 13682, 'N01-0011190': 13683, 'N01-0011191': 13684, 'N01-0011194': 13685, 'N01-0011200': 13686, 'N01-0011247': 13687, 'N01-0011249': 13688, 'N01-0011250': 13689, 'N01-0011251': 13690, 'N01-0011255': 13691, 'N01-0011256': 13692, 'N01-0011257': 13693, 'N01-0011274': 13694, 'N01-0011275': 13695, 'N01-0011283': 13696, 'N01-0011290': 13697, 'N01-0011294': 13698, 'N01-0011295': 13699, 'N01-0011299': 13700, 'N01-0011303': 13701, 'N01-0011304': 13702, 'N01-0011313': 13703, 'N01-0011333': 13704, 'N01-0011345': 13705, 'N01-0011374': 13706, 'N01-0011417': 13707, 'N01-0011429': 13708, 'N01-0011432': 13709, 'N01-0011437': 13710, 'N01-0011501': 13711, 'N01-0011518': 13712, 'N01-0011519': 13713, 'N01-0011529': 13714, 'N01-0011531': 13715, 'N01-0011541': 13716, 'N01-0011553': 13717, 'N01-0011554': 13718, 'N01-0011560': 13719, 'N01-0011563': 13720, 'N01-0011595': 13721, 'N01-0011600': 13722, 'N01-0011610': 13723, 'N01-0011611': 13724, 'N01-0011617': 13725, 'N01-0011632': 13726, 'N01-0011659': 13727, 'N01-0011661': 13728, 'N01-0011665': 13729, 'N01-0011669': 13730, 'N01-0011675': 13731, 'N01-0011676': 13732, 'N01-0011679': 13733, 'N01-0011697': 13734, 'N01-0011699': 13735, 'N01-0011729': 13736, 'N01-0011730': 13737, 'N01-0011732': 13738, 'N01-0011752': 13739, 'N01-0011759': 13740, 'N01-0011766': 13741, 'N01-0011780': 13742, 'N01-0011781': 13743, 'N01-0011785': 13744, 'N01-0011787': 13745, 'N01-0011788': 13746, 'N01-0011789': 13747, 'N01-0011790': 13748, 'N01-0011791': 13749, 'N01-0011792': 13750, 'N01-0011793': 13751, 'N01-0011794': 13752, 'N01-0011795': 13753, 'N01-0011796': 13754, 'N01-0011802': 13755, 'N01-0011811': 13756, 'N01-0011812': 13757, 'N01-0011815': 13758, 'N01-0011818': 13759, 'N01-0011820': 13760, 'N01-0011823': 13761, 'N01-0011824': 13762, 'N01-0011825': 13763, 'N01-0011826': 13764, 'N01-0011827': 13765, 'N01-0011828': 13766, 'N01-0011829': 13767, 'N01-0011832': 13768, 'N01-0011833': 13769, 'N01-0011834': 13770, 'N01-0011835': 13771, 'N01-0011836': 13772, 'N01-0011837': 13773, 'N01-0011839': 13774, 'N01-0011841': 13775, 'N01-0011851': 13776, 'N01-0011864': 13777, 'N01-0011866': 13778, 'N01-0011887': 13779, 'N01-0011889': 13780, 'N01-0011891': 13781, 'N01-0011895': 13782, 'N01-0011901': 13783, 'N01-0011916': 13784, 'N01-0011927': 13785, 'N01-0011932': 13786, 'N01-0011954': 13787, 'N01-0011976': 13788, 'N01-0011977': 13789, 'N01-0011984': 13790, 'N01-0011987': 13791, 'N01-0012040': 13792, 'N01-0012041': 13793, 'N01-0012132': 13794, 'N01-0012146': 13795, 'N01-0012147': 13796, 'N01-0012149': 13797, 'N0496SOL': 13798, 'N3314 N 0.65X1220 POPPY': 13799, 'N3314 N 065X1220 POPPY RED': 13800, 'N3314 POPPY RED LG SOL 17294': 13801, 'N5253 N 0.65X1220 OCEAN': 13802, 'N5253 N 065X1220 OCEAN BLUE': 13803, 'N5408 N 0.48X1220 SLATE': 13804, 'N5408 N 0.65X1220 SLATE': 13805, 'N6115 N 0.48X1220 JUNIPER': 13806, 'N6115 N 0.65X1220 JUNIPERGR': 13807, 'N6544 N 0.65X1220 MOORLAND': 13808, 'N7016': 13809, 'N7021': 13810, 'N7425 N 0.48X1220 MUSHROOM': 13811, 'N7425 N 0.65X1220 MUSHROOM': 13812, 'N7531 N 0.48X1220 ANTHRACITE': 13813, 'N7531 N 0.65X1220 ANTHRACITE': 13814, 'N7954 N 0.48X1220 GOOSEW': 13815, 'N7954 N 0.65X1220 GOOSWING': 13816, 'N7954 N 065X1220GOOSEWING GREY': 13817, 'N7954 NX 0.465X1060 GOOSEWING': 13818, 'N7954N0.65X1250GOOSEWING GREY': 13819, 'N7964 N 0.48X1220 MERLIN GR': 13820, 'N7964 N 0.65X1220 MERLIN': 13821, 'N7964 N 0.65X1220 MERLIN GREY': 13822, 'N7964 N 0.65X1250 MERLIN GREY': 13823, 'N7970 N 0.65X1220 PIGEON': 13824, 'N8710 N 0.48X1220 TERRACOTTA': 13825, 'N8711 N 0.48X1220 VANDYKE': 13826, 'N8711 N 0.65X1220 VANDYKE': 13827, 'N9005': 13828, 'N9006': 13829, 'N9011': 13830, 'N9016': 13831, 'N9209 N 0.48X1220 WHITE': 13832, 'N9209 N 0.65X1220 WHITE': 13833, 'N9209 N 0.65X1220WHITE': 13834, 'N9209/200/N9209/200/1220/0.75': 13835, 'N9801 N 0.48X1220 BLACK': 13836, 'N9801 N 0.65X1220 BLACK': 13837, 'NABS3JRGS': 13838, 'NADDD11GS': 13839, 'NADS3JRGS': 13840, 'NADS5J3GS': 13841, 'NAFC3OPGS': 13842, 'NAFDC01GS': 13843, 'NAM4/55/AM1-2/7/1220/0.62': 13844, 'NAM5/55/NAM5/55/1.50': 13845, 'NAM5/70/NAM5/12/1.50': 13846, 'NAMP1-2/25/1500/1.50': 13847, 'NAN7GRANITE': 13848, 'NANC3OPGS': 13849, 'NANQ5TMRS': 13850, 'NANS3JRGS': 13851, 'NANS5J3GS': 13852, 'NANS5JRGS': 13853, 'NANS7J0GS': 13854, 'NANS7JRGS': 13855, 'NASB0006': 13856, 'NASG0000': 13857, 'NASS3JRGS': 13858, 'NAST0000': 13859, 'NASTLAM ANCL51220': 13860, 'NASTLAM BG51250': 13861, 'NASTLAM BG81250': 13862, 'NASTLAM BGBG61250': 13863, 'NASTLAM BIBI61000': 13864, 'NASTLAM BIBI61250': 13865, 'NASTLAM GAGA61000': 13866, 'NASTLAM GAGA61250': 13867, 'NASTLAM RC51220': 13868, 'NASTLAM RC51250': 13869, 'NASTLAM RS51250': 13870, 'NASTLAM RS61250': 13871, 'NASTLAM RS81250': 13872, 'NASTLAM RSRS61250': 13873, 'NASTLAM SISI61250': 13874, 'NASTLAM TDM081250': 13875, 'NASTLAM TDM151250': 13876, 'NASTLAM TDM51250': 13877, 'NASTLAM TDM51360': 13878, 'NASTLAM TDM61250': 13879, 'NASTLAM TMTM61000': 13880, 'NASTLAM TMTM61250': 13881, 'NASTLAM TMTM81250': 13882, 'NASTLAM VEMU51250': 13883, 'NASTLAM VEMU61250': 13884, 'NASTLAM0,51150': 13885, 'NASTLAM0,5X11507016': 13886, 'NASTLAM0,5X11509006': 13887, 'NASTLAM0,61000': 13888, 'NASTLAM0,61013': 13889, 'NASTLAM0,6X10007016': 13890, 'NASTLAM0,6X10009010': 13891, 'NASTLAM0,6X12507016': 13892, 'NASTLAM0,6X12509006': 13893, 'NASTLAM0,6X12509010': 13894, 'NASTLAM0,8X12509010': 13895, 'NASTLAM0.6X10009010': 13896, 'NASTLAM0.6X11509010': 13897, 'NASTLAM0.6X12509010': 13898, 'NASTLAMANCL51220': 13899, 'NASTLAMANCV51220': 13900, 'NASTLAMBG0,5X1000': 13901, 'NASTLAMBG0,5X1100': 13902, 'NASTLAMBG0,5X1250': 13903, 'NASTLAMBG0,6X1000': 13904, 'NASTLAMBG0,6X1250': 13905, 'NASTLAMBG0,6X1500': 13906, 'NASTLAMBG0,8X1250': 13907, 'NASTLAMBG0,8X1500': 13908, 'NASTLAMBG0.6X1150': 13909, 'NASTLAMBG51250': 13910, 'NASTLAMBG61250': 13911, 'NASTLAMBG81250': 13912, 'NASTLAMBGBG61000': 13913, 'NASTLAMBGBG61250': 13914, 'NASTLAMBGG0,6X1250': 13915, 'NASTLAMBI81250': 13916, 'NASTLAMBIBI61000': 13917, 'NASTLAMBIBI61250': 13918, 'NASTLAMBL0,6X1250': 13919, 'NASTLAMBN0,45X1190': 13920, 'NASTLAMBP0,6X1250': 13921, 'NASTLAMBP0.6X1000': 13922, 'NASTLAMBP81250': 13923, 'NASTLAMGAGA61000': 13924, 'NASTLAMGAGA61250': 13925, 'NASTLAMGANT0,6X100': 13926, 'NASTLAMGANT0,6X125': 13927, 'NASTLAMNERO,6X1250': 13928, 'NASTLAMRC51220': 13929, 'NASTLAMRC51250': 13930, 'NASTLAMRS0,5X1150': 13931, 'NASTLAMRS0,5X1250': 13932, 'NASTLAMRS0,6X1000': 13933, 'NASTLAMRS0,6X1250T2': 13934, 'NASTLAMRS0,8X1250': 13935, 'NASTLAMRS51250': 13936, 'NASTLAMRS61250': 13937, 'NASTLAMRS81250': 13938, 'NASTLAMRSG0,5X1250': 13939, 'NASTLAMRSG0,6X1250': 13940, 'NASTLAMRSG0.60X1250': 13941, 'NASTLAMRSRS61250': 13942, 'NASTLAMSILV06X1250': 13943, 'NASTLAMSILV08X1250': 13944, 'NASTLAMSISI61000': 13945, 'NASTLAMSISI61250': 13946, 'NASTLAMTDM0,45X1190': 13947, 'NASTLAMTDM0,48X1100': 13948, 'NASTLAMTDM0,55X120': 13949, 'NASTLAMTDM0,55X1250': 13950, 'NASTLAMTDM0,5X1000': 13951, 'NASTLAMTDM0,5X1100': 13952, 'NASTLAMTDM0,5X1190': 13953, 'NASTLAMTDM0,5X1250': 13954, 'NASTLAMTDM0,6X1000': 13955, 'NASTLAMTDM0,6X1150': 13956, 'NASTLAMTDM0,6X1250': 13957, 'NASTLAMTDM0,6X1500': 13958, 'NASTLAMTDM0,8X1000': 13959, 'NASTLAMTDM0,8X1250': 13960, 'NASTLAMTDM0,8X1500': 13961, 'NASTLAMTDM0.6X1000': 13962, 'NASTLAMTDM0.6X1150': 13963, 'NASTLAMTDM0.6X1250': 13964, 'NASTLAMTDM081250': 13965, 'NASTLAMTDM151250': 13966, 'NASTLAMTDM51250': 13967, 'NASTLAMTDM51360': 13968, 'NASTLAMTDM61250': 13969, 'NASTLAMTDM81250': 13970, 'NASTLAMTDMTDM0,8X': 13971, 'NASTLAMTMTM61000': 13972, 'NASTLAMTMTM61250': 13973, 'NASTLAMTMTM81250': 13974, 'NASTLAMVEMU51250': 13975, 'NASTLAMVEMU61250': 13976, 'NASTRO LAM. TM 1000': 13977, 'NASTRO LAM. TM 1250': 13978, 'NASTRO LAM1250X08': 13979, 'NASTVERDE0,X1250': 13980, 'NASTVERDEG0,5X1250': 13981, 'NBG-6': 13982, 'NBP': 13983, 'NBP-08': 13984, 'NBW_L+_1125_0.4': 13985, 'NBW_L+_A_1125_0.4': 13986, 'NBW_WL_1220_0.7': 13987, 'NE000031': 13988, 'NE000133': 13989, 'NE000459': 13990, 'NEQ P355NH': 13991, 'NEQ P355NL1/S355J2+N': 13992, 'NEQ S700MC': 13993, 'NEQ1 P295GH': 13994, 'NEQ1 P355NH-CAT_A': 13995, 'NEQ1 P355NH-CAT_A/P355NH': 13996, 'NEQ1 S275J2+N': 13997, 'NEQ1 S275JR': 13998, 'NEQ1 S275JR+N': 13999, 'NEQ1 S315MC': 14000, 'NEQ1 S355J2+N': 14001, 'NEQ1 S355MC': 14002, 'NEQ1 S420MC': 14003, 'NEQ1 S500MC': 14004, 'NEQ1 SA516G60-LOWSI': 14005, 'NEQX P295GH': 14006, 'NEQX S500MC': 14007, 'NERRO 0104/50/1000X075': 14008, 'NERRO 0104/50/NERRO 0104/25': 14009, 'NERRO0104/50/7032/12/1220/0.63': 14010, 'NES1 DD11-CL1AMFCE': 14011, 'NES1 S235JR': 14012, 'NEW': 14013, 'NL200451375': 14014, 'NL20051500': 14015, 'NL20061150': 14016, 'NL20061250': 14017, 'NL20061500': 14018, 'NL20151250': 14019, 'NL20181000': 14020, 'NL32051250': 14021, 'NL39051500': 14022, 'NL39061000': 14023, 'NL39061250': 14024, 'NL40051500': 14025, 'NL40061500': 14026, 'NL40151250': 14027, 'NL43061250': 14028, 'NL47051375': 14029, 'NL47061250': 14030, 'NL47181000': 14031, 'NL48061000': 14032, 'NL48061250': 14033, 'NMS7GRANITE': 14034, 'NN 9002': 14035, 'NRS': 14036, 'NSM7GRANITE HDX RAL 9006': 14037, 'NST#LZICALGA055': 14038, 'NST#LZIPOL25A55': 14039, 'NT 9010': 14040, 'NTM': 14041, 'NTM-05': 14042, 'NU 9002': 14043, 'NWH7GRANITE': 14044, 'NWS7GRANITE': 14045, 'O 9002': 14046, 'OB230071220': 14047, 'OB2M0071220': 14048, 'OB330151000': 14049, 'OB330201000': 14050, 'OB330251000': 14051, 'OB330301000': 14052, 'OBS1308X595SP': 14053, 'OBS1365X595SP': 14054, 'OC DX51D+Z': 14055, 'OC DX51D+Z FOIL': 14056, 'OG1070/1.50J2M': 14057, 'OG1070/1.80J2M': 14058, 'OG1070/2.00J2M': 14059, 'OG1160/1.50J2M': 14060, 'OG1160/1.60J2M': 14061, 'OG1160/1.80J2M': 14062, 'OG1160/2.00J2M': 14063, 'OG1220/0.75F2M': 14064, 'OG1220/0.90F2M': 14065, 'OG1250/0.50A2M': 14066, 'OG1250/0.80A2M': 14067, 'OG1250/1.00A2M': 14068, 'OG1250/1.00A4M': 14069, 'OG1250/1.20A2M': 14070, 'OG1250/1.50A2M': 14071, 'OG1250/1.50J2M': 14072, 'OG1250/1.80J2M': 14073, 'OG1250/2.00A2M': 14074, 'OG1250/2.00J2M': 14075, 'OG1250/3.00A2M': 14076, 'OG1340/1.50J2M': 14077, 'OG1340/1.60J2M': 14078, 'OG1340/1.80J2M': 14079, 'OG1340/2.00J2M': 14080, 'OG1500/0.50A2M': 14081, 'OG1500/0.80A2M': 14082, 'OG1500/1.00A2M': 14083, 'OG1500/1.50A2M': 14084, 'OG1500/2.00A2M': 14085, 'OG735/0.50A2M': 14086, 'OG910/0.50A2M': 14087, 'OG910/0.55A2M': 14088, 'OG910/0.68A2M': 14089, 'OG980/1.50J2M': 14090, 'OG980/1.80J2M': 14091, 'OG980/2.00J2M': 14092, 'OLI1220X055POL': 14093, 'OM1250/1.00Z2M': 14094, 'OM1250/3.00Z1M': 14095, 'OM1500/0.50Z1M': 14096, 'OMIA DX51D ACC STD B5 AM': 14097, 'OMIA DX51D ACC STD DB F FILM70': 14098, 'OMIA DX51D ACC STD DB FACE': 14099, 'OPS1250/0.50JG': 14100, 'OPS1250/0.70JG': 14101, 'OPY1230/0.50JG': 14102, 'OPY1230/0.50SG': 14103, 'OPY1230/0.60JG': 14104, 'OPY1230/0.60SG': 14105, 'OPY1250/0.50BL': 14106, 'OPY1250/0.50JG': 14107, 'OPY1250/0.50SG': 14108, 'OPY1250/0.50TB': 14109, 'OPY1250/0.60BL': 14110, 'OPY1250/0.60JG': 14111, 'OPY1250/0.60SG': 14112, 'ORCL': 14113, 'ORCL HC180CA+ZX': 14114, 'OSF1070/1.50CW': 14115, 'OSF1100/1.50CW': 14116, 'OSF1100/2.00CW': 14117, 'OSF1130/2.00CW': 14118, 'OSF1230/0.55JG': 14119, 'OSF1230/0.55SG': 14120, 'OSF1250/0.55JG': 14121, 'OSF1250/0.55SG': 14122, 'OSF1250/0.55TB': 14123, 'OSF1250/0.68JG': 14124, 'OSF1250/0.68SG': 14125, 'OSF1250/1.00JG': 14126, 'OSF1250/1.00SG': 14127, 'OSF918/0.55JG': 14128, 'OSF918/0.55SG': 14129, 'OSF918/0.68SG': 14130, 'OSF980/1.20CW': 14131, 'P 7040': 14132, 'P0007564': 14133, 'P0043897': 14134, 'P0044151': 14135, 'P0044152': 14136, 'P0044153': 14137, 'P0044433': 14138, 'P0044572': 14139, 'P0044949': 14140, 'P0045083': 14141, 'P0045730': 14142, 'P0048847': 14143, 'P0050709': 14144, 'P0051194': 14145, 'P0051263': 14146, 'P0052680': 14147, 'P0055677': 14148, 'P0055834': 14149, 'P0055944': 14150, 'P01DD11-T04-1': 14151, 'P1021': 14152, 'P1021 Z225': 14153, 'P12ST1061022L': 14154, 'P12ST1061022L-BOP': 14155, 'P12ST1061122L': 14156, 'P12ST1061122L-BOP': 14157, 'P12ST1061222L-BOP': 14158, 'P12ST1061222O': 14159, 'P12ST106922L-': 14160, 'P12ST107822L': 14161, 'P12ST107822L-BOP': 14162, 'P12ST107911L-': 14163, 'P12ST107911L-BOP': 14164, 'P12ST10812244L-BOP': 14165, 'P12ST1081244O': 14166, 'P16ST1150697': 14167, 'P16ST1150797': 14168, 'P16ST1150997': 14169, 'P16ST1450697': 14170, 'P16ST1450797': 14171, 'P16ST1450997': 14172, 'P17ST0400600': 14173, 'P17ST0400650': 14174, 'P17ST0400700': 14175, 'P17ST0400800': 14176, 'P17ST0400900': 14177, 'P17ST0401000': 14178, 'P17ST0401100': 14179, 'P17ST1150906': 14180, 'P17ST1150908': 14181, 'P17ST1150910': 14182, 'P17ST1150912': 14183, 'P245NB': 14184, 'P24ST1111212': 14185, 'P24ST1111222': 14186, 'P265GH CIS 2X3.1': 14187, 'P265GH+N': 14188, 'P265GH+N ADW1 KRA': 14189, 'P265GH+N-CAT_A': 14190, 'P265GH+N-CAT_A TAGLIO LASER': 14191, 'P3016': 14192, 'P310NB 2.20 X 1085 8,5T BN': 14193, 'P310NB 2.30 X 1235 8,5T': 14194, 'P310NB NOT EDGE TRIMMED': 14195, 'P310NB+N': 14196, 'P311A': 14197, 'P355GH+N': 14198, 'P355GH+N-CAT_A ADW KRA': 14199, 'P355N': 14200, 'P355NB OD1200 2/3 TOL.': 14201, 'P420M': 14202, 'P5003': 14203, 'P5005': 14204, 'P5018': 14205, 'P6018': 14206, 'P6020': 14207, 'P7000': 14208, 'P7004': 14209, 'P7021': 14210, 'P7021 HDX': 14211, 'P7024': 14212, 'P7024 Z225': 14213, 'P7024/P7024': 14214, 'P7024/RAL7024': 14215, 'P7037': 14216, 'P7040': 14217, 'P7040/P7040': 14218, 'P7046': 14219, 'P7047': 14220, 'P8016': 14221, 'P9003': 14222, 'P9003/P9003': 14223, 'P9016': 14224, 'PAL1-2/25/1220/0.63/CDC13080L': 14225, 'PAL1-2/25/1220/0.75/CDC13090L': 14226, 'PAL3/25/1220/0.63/CDC13080L': 14227, 'PAL3/25/1220/0.75/CDC13090L': 14228, 'PAS1245X060SP': 14229, 'PBAND9100822': 14230, 'PBAND9101022': 14231, 'PBAND9141222S': 14232, 'PBANDG9101022': 14233, 'PBANDG9101022S': 14234, 'PE90160701050A': 14235, 'PE90160701504A': 14236, 'PEA1195X050EST': 14237, 'PEA1195X050POL': 14238, 'PEA1195X060POL': 14239, 'PEA1245X050EST': 14240, 'PEA1245X050POL': 14241, 'PEA1245X060EST': 14242, 'PEA1245X060GHD': 14243, 'PEA1245X060POL': 14244, 'PEA1245X060SP': 14245, 'PEA1245X075POL': 14246, 'PEA1265X595SP': 14247, 'PEA1305X90SP': 14248, 'PEARL 0208/35/PEARL 0208/35': 14249, 'PHTALATE-FREE-ZA255': 14250, 'PI DD11-CAT_A': 14251, 'PI DD11-CL1': 14252, 'PICKLED S235JR+AR_CL1': 14253, 'PI_16MnCr5': 14254, 'PI_AMSTRONG315MC': 14255, 'PI_AMSTRONG355MC': 14256, 'PI_CL_S235JR+N-CL1': 14257, 'PI_DD 11': 14258, 'PI_DD11': 14259, 'PI_DD11 SP': 14260, 'PI_DD11-CAT A': 14261, 'PI_DD11-CAT_A': 14262, 'PI_DD11-CL1_CUTT': 14263, 'PI_DD12': 14264, 'PI_DD13': 14265, 'PI_DD14': 14266, 'PI_S235JR': 14267, 'PI_S235JR+AR-CL1': 14268, 'PI_S235JR+N-CL1': 14269, 'PI_S235JR-CL1': 14270, 'PI_S240EK': 14271, 'PI_S275JR': 14272, 'PI_S275JR+AR-CL1': 14273, 'PI_S315MC': 14274, 'PI_S355JR': 14275, 'PI_S355MC': 14276, 'PI_S355MC SP': 14277, 'PI_S420MC': 14278, 'PI_S420MC CAT A': 14279, 'PI_S420MC SP': 14280, 'PI_S460MC': 14281, 'PI_S460MC-CAT_A': 14282, 'PI_S500-CAT A': 14283, 'PI_S500MC': 14284, 'PI_S500MC SP': 14285, 'PI_S700MC': 14286, 'PLASTISOL-ZA20017': 14287, 'PLASTISOLN-Z225-RAL3005': 14288, 'PLASTISOLN-Z225-RAL6005': 14289, 'PLASTISOLN-Z225-RAL7024': 14290, 'PLASTISOLN-Z225-RAL8017': 14291, 'PLASTISOLN-Z225-RAL9010': 14292, 'PLASTISOLN-Z275-RAL8017': 14293, 'PLASTISOLN-Z275-RAL9010': 14294, 'PLASTISOLN-ZA200-RAL9010': 14295, 'PLATINIUM 0206/35/35/1026/0,75': 14296, 'POW1208X595SOLNX': 14297, 'PR000415': 14298, 'PR000422': 14299, 'PR000433': 14300, 'PR000443': 14301, 'PR0004992': 14302, 'PR0006242': 14303, 'PR0006830': 14304, 'PR0006983': 14305, 'PR0008447': 14306, 'PR002844': 14307, 'PR002904': 14308, 'PR003039': 14309, 'PR006017': 14310, 'PR006287': 14311, 'PR007298': 14312, 'PR007374': 14313, 'PR007723': 14314, 'PR007733': 14315, 'PR008089': 14316, 'PR008161': 14317, 'PR008531': 14318, 'PR008532': 14319, 'PR008534': 14320, 'PR008535': 14321, 'PR008536': 14322, 'PR008537': 14323, 'PR008688': 14324, 'PR008693': 14325, 'PR008790': 14326, 'PR009199': 14327, 'PR009369': 14328, 'PR009666': 14329, 'PR010391': 14330, 'PR010393': 14331, 'PR010394': 14332, 'PR010481': 14333, 'PR010766': 14334, 'PR010767': 14335, 'PR010768': 14336, 'PR010770': 14337, 'PR010771': 14338, 'PR010773': 14339, 'PR012054': 14340, 'PR012889': 14341, 'PR012890': 14342, 'PR012964': 14343, 'PR013190': 14344, 'PR013432': 14345, 'PR013726': 14346, 'PR014163': 14347, 'PR014184': 14348, 'PR014185': 14349, 'PR014186': 14350, 'PR014187': 14351, 'PR014188': 14352, 'PR014189': 14353, 'PR014190': 14354, 'PR014191': 14355, 'PR014192': 14356, 'PR014193': 14357, 'PR014195': 14358, 'PR014228': 14359, 'PR014229': 14360, 'PR014242': 14361, 'PR014245': 14362, 'PR014246': 14363, 'PR014249': 14364, 'PR014377': 14365, 'PR014536': 14366, 'PR014537': 14367, 'PR014538': 14368, 'PR014539': 14369, 'PR014540': 14370, 'PR014711': 14371, 'PR014950': 14372, 'PR014951': 14373, 'PR014952': 14374, 'PR015168': 14375, 'PR015271': 14376, 'PR015340': 14377, 'PR015402': 14378, 'PR015403': 14379, 'PR015404': 14380, 'PR015612': 14381, 'PR015663': 14382, 'PR016111': 14383, 'PR016112': 14384, 'PR016190': 14385, 'PR016192': 14386, 'PR016437': 14387, 'PR016592': 14388, 'PR016593': 14389, 'PR016903': 14390, 'PR016904': 14391, 'PR017111': 14392, 'PR017398': 14393, 'PRCB10132F0,6X1250': 14394, 'PRCB10132F0,8X1250': 14395, 'PRCB90101F1,0X1250': 14396, 'PRCB90102F0,6X1000': 14397, 'PRCB90102F0,6X1250': 14398, 'PRCB90102F0,8X1250': 14399, 'PRCB90102F1,0X1250': 14400, 'PRCBG1F0,5X1000': 14401, 'PRCBG1F0,5X1250': 14402, 'PRCBG1F0,5X1500': 14403, 'PRCBG1F1,0X1000': 14404, 'PRCBG1F1,0X1250': 14405, 'PRCBG1F1,0X1500': 14406, 'PRCBG1F1,5X1250': 14407, 'PRCBG2F0,6X1000': 14408, 'PRCBG2F0,6X1250': 14409, 'PRCBG2F0,6X1500': 14410, 'PRCBG2F0,8X1000': 14411, 'PRCBG2F0,8X1250': 14412, 'PRCG70162F0,6X1000': 14413, 'PRCG70162F0,6X1250': 14414, 'PRCG70162F0,8X1250': 14415, 'PRCRS2F0,6X1000': 14416, 'PRCRS2F0,6X1250': 14417, 'PRCTM1F0,8X1410': 14418, 'PRCTM2F0,5X1000': 14419, 'PRCTM2F0,5X1250': 14420, 'PRCTM2F0,6X1000': 14421, 'PRCTM2F0,6X1250': 14422, 'PRCTM2F0,8X1250': 14423, 'PRCV60052F0,6X1250': 14424, 'PRCV60052F0,8X1250': 14425, 'PRNS060TMA1250': 14426, 'PRNS080TMA1000': 14427, 'PRO000000388': 14428, 'PRO000000796': 14429, 'PRO000001037': 14430, 'PRO000001432': 14431, 'PRO000001555': 14432, 'PRO000002876': 14433, 'PRO000002877': 14434, 'PRO000002878': 14435, 'PRO000003101': 14436, 'PRO000003997': 14437, 'PRO000004680': 14438, 'PRO000004832': 14439, 'PRO000004865': 14440, 'PRO000004898': 14441, 'PRO000005377': 14442, 'PRO000005411': 14443, 'PRO000005716': 14444, 'PRO000005767': 14445, 'PRO000005877': 14446, 'PRO000005878': 14447, 'PRO000005879': 14448, 'PRO000005880': 14449, 'PRO000005911': 14450, 'PRO000006061': 14451, 'PRO000006270': 14452, 'PRO000006372': 14453, 'PRO000006542': 14454, 'PRO000006567': 14455, 'PRO000006569': 14456, 'PRO000006608': 14457, 'PRO000006643': 14458, 'PRO100001815': 14459, 'PVDF 35 G9006': 14460, 'Polimex': 14461, 'Price indication': 14462, 'Price indication for Q1-2020': 14463, 'Q2007SOL': 14464, 'Q4643SOL': 14465, 'Q7056SID': 14466, 'Q7056SOL': 14467, 'Q8621SOL': 14468, 'Q8625SOL': 14469, 'QBK01': 14470, 'QBR03': 14471, 'QGY01': 14472, 'QGY01 Z275': 14473, 'QGY01-GREY': 14474, 'QQ 7016P': 14475, 'QUARTZ 45/8004/12/996X05': 14476, 'QUARTZ 9005': 14477, 'QUARTZ HDX-ZA265-RAL7024': 14478, 'QUARTZ QBR03': 14479, 'QUARTZHDX-ZA255-RAL7016': 14480, 'R 9002': 14481, 'R01250-206-050-1400XCOIL': 14482, 'R100587333': 14483, 'R1250822L': 14484, 'R1250822L- BOP': 14485, 'R1250911L': 14486, 'R1250911L- BOP': 14487, 'R1251022L': 14488, 'R1251022L-BOP': 14489, 'R1261222L': 14490, 'R1261222L-BOP': 14491, 'R1261244L': 14492, 'R1261244L-BOP': 14493, 'R2352SOL': 14494, 'R500-030': 14495, 'R500-040': 14496, 'R500-040 PR': 14497, 'R500-050': 14498, 'R500-060': 14499, 'R500-070': 14500, 'R500-100': 14501, 'R501-020 ATL': 14502, 'R501-020 LIE': 14503, 'R501-050 ATL': 14504, 'R501-050 SID': 14505, 'R501-060': 14506, 'R501-060 ATL': 14507, 'R501-070': 14508, 'R501-070 ATL': 14509, 'R511-020 LIE': 14510, 'R511-050': 14511, 'R511-060': 14512, 'R554-020': 14513, 'R588-020': 14514, 'R588-020 ATL': 14515, 'R588-050': 14516, 'R588-050 ATL': 14517, 'R7016': 14518, 'R715X': 14519, 'R716B/R716B': 14520, 'R716X': 14521, 'R7264SOL': 14522, 'R7972SOL': 14523, 'R8BB-040': 14524, 'R8GB-040': 14525, 'R8WB-040': 14526, 'R8WW-040': 14527, 'R8WW-040 ATL': 14528, 'R901-020': 14529, 'R901-050': 14530, 'R901-060': 14531, 'RAIN HDS 17403, RAL 7016': 14532, 'RAIN HDS RAL 8017': 14533, 'RAL 5008': 14534, 'RAL 6007 ,RAL 6019': 14535, 'RAL 6020': 14536, 'RAL 7001': 14537, 'RAL 7015': 14538, 'RAL 7016': 14539, 'RAL 7016 - 17285': 14540, 'RAL 7016 - 17285 -ZA 255': 14541, 'RAL 7024': 14542, 'RAL 7035': 14543, 'RAL 7038': 14544, 'RAL 7047': 14545, 'RAL 8019': 14546, 'RAL 9003': 14547, 'RAL 9005-19468': 14548, 'RAL 9006': 14549, 'RAL 9006 / RAL 9007': 14550, 'RAL 9010': 14551, 'RAL 9011': 14552, 'RAL1015': 14553, 'RAL3009': 14554, 'RAL5010': 14555, 'RAL7012/ASTD/': 14556, 'RAL7016': 14557, 'RAL7016 ANTHRA GREY HDX B7032.': 14558, 'RAL7016FLEX': 14559, 'RAL7023': 14560, 'RAL7024': 14561, 'RAL7040': 14562, 'RAL7047': 14563, 'RAL8017': 14564, 'RAL8017/8017': 14565, 'RAL9002': 14566, 'RAL9002/RAL9010': 14567, 'RAL9005': 14568, 'RAL9005 JET BLACK HDX B7032': 14569, 'RAL9006FLEX': 14570, 'RAL9007': 14571, 'RAL9010': 14572, 'RAL9010/9010': 14573, 'RAL9016/E9191': 14574, 'RALRED': 14575, 'RBB': 14576, 'RBB-08.06.2020': 14577, 'RC01-020': 14578, 'RC01-030': 14579, 'RC01-040': 14580, 'RC01-050': 14581, 'RCB04K05G0000000P': 14582, 'RCB04K90G0000000P': 14583, 'RCB04M65J0000000P': 14584, 'RCB0BO70H0000000P': 14585, 'RCB0BP00L0000000P': 14586, 'RCB0KH00G0000000P': 14587, 'RCB0KI65G0000000P': 14588, 'RCB0KJ25G0000000P': 14589, 'RCB0KJ60G0000000P': 14590, 'RCB0KJ95H0000000P': 14591, 'RCB0KK00H0000000P': 14592, 'RCB0KK97H0000000P': 14593, 'RCB0KL40G0000000P': 14594, 'RCB0KL65H0000000P': 14595, 'RCB0KM20G0000000P': 14596, 'RCB0KM55G0000000P': 14597, 'RCB0KN00G0000000P': 14598, 'RCB0KO00G0000000P': 14599, 'RCB0KS00J0000000P': 14600, 'RCB0KS00Q0000000P': 14601, 'RCB0KS80G0000000P': 14602, 'RCB0KU00L0000000P': 14603, 'RCB0KU00Q0000000P': 14604, 'RCB0VS00O0000000N': 14605, 'RCB0VT00L0000000N': 14606, 'RCB0VT00M0000000N': 14607, 'RCBINL0000000000P': 14608, 'RCBINL0090000000P': 14609, 'RCBINL00A6000000P': 14610, 'RCBINL00A7000000P': 14611, 'RCBINL50D8000000P': 14612, 'RCT03P00L0000000P': 14613, 'REF CDE K22296067': 14614, 'RFB 091': 14615, 'RFB 308': 14616, 'RFB 342': 14617, 'RFB 344': 14618, 'RFB 347': 14619, 'RFB 348': 14620, 'RFB 349': 14621, 'RFB 350': 14622, 'RFB 351': 14623, 'RFB 352': 14624, 'RFB 648': 14625, 'RFB 698': 14626, 'RFB345': 14627, 'RFB346': 14628, 'RFB648': 14629, 'RIB 695X1.65': 14630, 'RM00008015': 14631, 'RM00014430': 14632, 'RM00014494': 14633, 'RM00014508': 14634, 'RM00014509': 14635, 'RM00014620': 14636, 'RM00014971-001': 14637, 'RM00016225': 14638, 'RM00016966': 14639, 'RM00017668': 14640, 'RM00019036': 14641, 'RM_CL_ST_074-008 RAL3009': 14642, 'RM_CL_ST_074-013 RAL7016': 14643, 'RM_CL_ST_074-014 RAL7035': 14644, 'RM_CL_ST_074-016 RAL8004': 14645, 'RM_CL_ST_074-017 RAL8011': 14646, 'RM_CL_ST_074-019 RAL9002': 14647, 'RM_CL_ST_074-020 RAL9006': 14648, 'RM_CL_ST_074-025 E4479': 14649, 'RR 11': 14650, 'RR 32': 14651, 'RR 37': 14652, 'RR20': 14653, 'RR21': 14654, 'RR22': 14655, 'RR23': 14656, 'RR23 0.6': 14657, 'RR29': 14658, 'RR30': 14659, 'RR32': 14660, 'RR32 0.6': 14661, 'RR33': 14662, 'RSB 163': 14663, 'RSB 170': 14664, 'RSB 173': 14665, 'S DX51D+Z': 14666, 'S DX51D+Z PROFILES': 14667, 'S S280GD+Z': 14668, 'S-215G-AMCA 1.24X1240': 14669, 'S-215G-AMCA 1.31X1220': 14670, 'S-215G-AMCA 1.41X1150': 14671, 'S-245G AM 1X1138': 14672, 'S-245G-AMCA 1.41X1220': 14673, 'S0128SID': 14674, 'S0128SOL': 14675, 'S0198SOL': 14676, 'S01G.0413': 14677, 'S01G.0414': 14678, 'S01G.0460': 14679, 'S01G.0461': 14680, 'S01G.1483': 14681, 'S01G.1484': 14682, 'S01G.1493': 14683, 'S01G.9128': 14684, 'S01G.9133': 14685, 'S01G.9136': 14686, 'S01G.9140': 14687, 'S01G.9143': 14688, 'S01G.9145': 14689, 'S01G.9162': 14690, 'S01P.1037': 14691, 'S01P.1146': 14692, 'S01P.1229': 14693, 'S01P.1239': 14694, 'S01P.1262.': 14695, 'S01P.1310': 14696, 'S01P.1312': 14697, 'S01P.1408': 14698, 'S01P.1409': 14699, 'S01P.1411': 14700, 'S01P.1412': 14701, 'S01P.1413': 14702, 'S01P.1430': 14703, 'S01P.1431': 14704, 'S01P.1432': 14705, 'S01P.1433': 14706, 'S01P.1438': 14707, 'S01P.1442': 14708, 'S01P.1443': 14709, 'S01P.1453': 14710, 'S01P.2203': 14711, 'S01P.2281': 14712, 'S01P.9065': 14713, 'S01P.9066': 14714, 'S01P.9067': 14715, 'S01P.9069': 14716, 'S01P.9073': 14717, 'S01P.9075': 14718, 'S01P.9089': 14719, 'S01P.9110': 14720, 'S01P.9111': 14721, 'S01P.9112': 14722, 'S01P.9119': 14723, 'S01P.9120': 14724, 'S01P.9121': 14725, 'S01P.9122': 14726, 'S01P.9123': 14727, 'S01P.9125': 14728, 'S01P.9127': 14729, 'S01P.9130': 14730, 'S01P.9131': 14731, 'S01P.9135': 14732, 'S01P.9139': 14733, 'S01P.9144': 14734, 'S01P.9146': 14735, 'S01P.9147': 14736, 'S01P.9151': 14737, 'S01P.9153': 14738, 'S01P.9159': 14739, 'S01P.9904': 14740, 'S01P.9905': 14741, 'S01X.0570': 14742, 'S01X.0572': 14743, 'S01X.0575': 14744, 'S01X.0576': 14745, 'S01X.0587': 14746, 'S01X.0588': 14747, 'S0351000': 14748, 'S0380700': 14749, 'S0380752': 14750, 'S0380800': 14751, 'S0380812': 14752, 'S0380952': 14753, 'S0381000': 14754, 'S0381100': 14755, 'S0381130': 14756, 'S0401080': 14757, 'S0501000': 14758, 'S0601226L': 14759, 'S0601226L-BOP': 14760, 'S0601238L': 14761, 'S0601238L-BOP': 14762, 'S0601270OL': 14763, 'S0601270OL-BOP': 14764, 'S0601286L': 14765, 'S0601286L-BOP': 14766, 'S0601298L': 14767, 'S0601298L-BOP': 14768, 'S0601302L': 14769, 'S0601302L-BOP': 14770, 'S0701270L': 14771, 'S0701270L-BOP': 14772, 'S1-0912': 14773, 'S1-1025': 14774, 'S1-1224': 14775, 'S1-1424': 14776, 'S1040712': 14777, 'S1040822': 14778, 'S1040922': 14779, 'S1041022': 14780, 'S1041222': 14781, 'S1110712': 14782, 'S1110822': 14783, 'S1110912': 14784, 'S1110922': 14785, 'S1111012': 14786, 'S1111022': 14787, 'S1111072': 14788, 'S1111212': 14789, 'S1111222': 14790, 'S1111392': 14791, 'S1150961L': 14792, 'S1250922L': 14793, 'S185+AR': 14794, 'S185+AR CUTT': 14795, 'S200D': 14796, 'S215G-AMCA 1X1180': 14797, 'S220 ZM310 1065 X 0.465': 14798, 'S220GD': 14799, 'S220GD + Z140 MAC': 14800, 'S220GD + Z225 G7022': 14801, 'S220GD + Z225 G7032': 14802, 'S220GD + Z225 G9006': 14803, 'S220GD + Z275 MAC': 14804, 'S220GD + ZM310 MAC': 14805, 'S220GD + ZM70 MAC': 14806, 'S220GD 0,80X1500': 14807, 'S220GD 0.45X1250': 14808, 'S220GD 0.5X1000': 14809, 'S220GD 0.5X1250': 14810, 'S220GD 0.6X1250': 14811, 'S220GD 0.7X1250': 14812, 'S220GD 0.7X1500': 14813, 'S220GD 0.8X1500': 14814, 'S220GD 1,00X1000': 14815, 'S220GD 1,00X1250': 14816, 'S220GD 1,00X1500': 14817, 'S220GD 1,50X1000': 14818, 'S220GD 1,50X1250': 14819, 'S220GD 1,50X1500': 14820, 'S220GD 1.25X1500': 14821, 'S220GD 1.5X1250': 14822, 'S220GD 1.5X1500': 14823, 'S220GD 1X1000': 14824, 'S220GD 1X1250': 14825, 'S220GD 1X1500': 14826, 'S220GD 2,00X1000': 14827, 'S220GD 2,00X1250': 14828, 'S220GD 2,00X1500': 14829, 'S220GD 3,00X1000': 14830, 'S220GD 3,00X1250': 14831, 'S220GD 3,00X1500': 14832, 'S220GD 64F6 DB FACE': 14833, 'S220GD GR HD AM G30 B5 AM': 14834, 'S220GD GR STD AM G30 B5 AM': 14835, 'S220GD GR STD MT 64F6 MT': 14836, 'S220GD GR STD MT G30 B5 AM': 14837, 'S220GD GR STD MT G40 B5 AM': 14838, 'S220GD GRANITEHDX 55#': 14839, 'S220GD GRSTD AM G30 B5 AM 63G0': 14840, 'S220GD MAC': 14841, 'S220GD Z225 GR STD 5014': 14842, 'S220GD+Z': 14843, 'S220GD+Z A SHINY': 14844, 'S220GD+Z A SHINY 0,5X1250': 14845, 'S220GD+Z A SHINY 0,65X1250': 14846, 'S220GD+Z A SHINY 0,6X1250': 14847, 'S220GD+Z A SHINY 0,7X1102': 14848, 'S220GD+Z A SHINY 0,7X1250': 14849, 'S220GD+Z A SHINY 0,9X1250': 14850, 'S220GD+Z ACCSTD MTG15 B5AM 1/2': 14851, 'S220GD+Z AVEC SOUDURE': 14852, 'S220GD+Z FLAT N': 14853, 'S220GD+Z G9006': 14854, 'S220GD+Z G9010': 14855, 'S220GD+Z GRFLEX25/5 AM + FILM': 14856, 'S220GD+Z MAC': 14857, 'S220GD+Z PI WELDS LABEL': 14858, 'S220GD+Z Z100 ASTD 9010': 14859, 'S220GD+Z-350MAC 1.44X1233': 14860, 'S220GD+Z140 MAC 1.16X1204': 14861, 'S220GD+Z140+A': 14862, 'S220GD+Z225_0,47_HDDEEPMAT35µ': 14863, 'S220GD+Z275': 14864, 'S220GD+Z275 3.1': 14865, 'S220GD+Z275 MAC_GALV EDGES': 14866, 'S220GD+Z275 MAE': 14867, 'S220GD+Z275 RAL7035': 14868, 'S220GD+Z275_PROF.A FROID': 14869, 'S220GD+Z350 2X1000': 14870, 'S220GD+Z350 2X700': 14871, 'S220GD+Z600 MAC_GALV EDGES': 14872, 'S220GD+ZM': 14873, 'S220GD+ZM 120+ EASY FILM E': 14874, 'S220GD+ZM 120+EASY FILM E': 14875, 'S220GD+ZM 175 + EASY FOLM E': 14876, 'S220GD+ZM 175+EASY FILM E': 14877, 'S220GD+ZM 3.1': 14878, 'S220GD+ZM MAE': 14879, 'S220GD+ZM070': 14880, 'S220GD+ZM120': 14881, 'S220GD+ZM310': 14882, 'S220GD+ZM310 MAC': 14883, 'S220GD+ZM310 MAC 1.44X1120': 14884, 'S220GD+ZM90': 14885, 'S220GD+Z_0,7_G7016': 14886, 'S220GD+Z_0,7_G9006': 14887, 'S220GD+Z_275MA_EASYFILM-E': 14888, 'S220GD+Z_A': 14889, 'S220GDZ AHD25 AM FN BF5': 14890, 'S220GDZ AHD25 AM FRED BF5': 14891, 'S220GDZ ASTD25 AM FRED BF5': 14892, 'S220GDZ ASTD25 AVI FN BF5': 14893, 'S220GDZ ASTD25 AVI FRED BF5': 14894, 'S220GDZ EA': 14895, 'S220GDZ EA15 AM FN BF5': 14896, 'S220GDZ EA15 AM FRED BF5': 14897, 'S220GDZ EA15 AVI FRED BF5': 14898, 'S220GDZ EA15 AVI FRED BF5 CB': 14899, 'S220GDZ GHDX55AW AM FN DS': 14900, 'S220GDZ GHDX55AW AM FRED BF5': 14901, 'S220GDZ GHDX55AW AVI FN BF5': 14902, 'S220GDZ100-1080X0.30': 14903, 'S220GDZ200-1250X0.6': 14904, 'S220GDZ200-1250X1.2': 14905, 'S220GDZ200-1300X1.5': 14906, 'S220GDZM31025012502.212': 14907, 'S220GD_Z225_D305U': 14908, 'S220GD_Z225_D311U': 14909, 'S220GD_Z225_E7417': 14910, 'S220GD_Z275_G9006': 14911, 'S235 JR+AR_CL1 DIAMOND': 14912, 'S235DIAMOND': 14913, 'S235DIAMOND FLOOR PLATES': 14914, 'S235JR': 14915, 'S235JR 10X1115': 14916, 'S235JR 3.65X1246': 14917, 'S235JR 3X818': 14918, 'S235JR 3X985': 14919, 'S235JR 4.5 X 809': 14920, 'S235JR 4X1246': 14921, 'S235JR 4X812': 14922, 'S235JR 4X978': 14923, 'S235JR 5X1244': 14924, 'S235JR 5X807': 14925, 'S235JR 5X958': 14926, 'S235JR 5X974': 14927, 'S235JR 6.3X1144': 14928, 'S235JR 6.5X853': 14929, 'S235JR 6.8X1141': 14930, 'S235JR 6X1010': 14931, 'S235JR 6X1140': 14932, 'S235JR 6X1144': 14933, 'S235JR 6X1240': 14934, 'S235JR 6X1242': 14935, 'S235JR 6X1283': 14936, 'S235JR 6X855': 14937, 'S235JR 6X859': 14938, 'S235JR 6X956': 14939, 'S235JR 7X1008': 14940, 'S235JR 7X1140': 14941, 'S235JR 7X1280': 14942, 'S235JR 7X850': 14943, 'S235JR 7X948': 14944, 'S235JR 8X1004': 14945, 'S235JR 8X1135': 14946, 'S235JR 8X1278': 14947, 'S235JR 8X852': 14948, 'S235JR 9X1000': 14949, 'S235JR 9X1125': 14950, 'S235JR+AR': 14951, 'S235JR+AR 1995 X 6.00': 14952, 'S235JR+AR ASTM': 14953, 'S235JR+AR ASTM 786 PATTERN4': 14954, 'S235JR+AR ASTM A786': 14955, 'S235JR+AR ASTM A786 P': 14956, 'S235JR+AR CL1': 14957, 'S235JR+AR CUTT ASTMA786': 14958, 'S235JR+AR CUTT DIN59220T': 14959, 'S235JR+AR DIAMOND': 14960, 'S235JR+AR DIN 59220': 14961, 'S235JR+AR DIN59220R': 14962, 'S235JR+AR DKP CCPU HUIL': 14963, 'S235JR+AR DKP CCPU HUIL CVLT': 14964, 'S235JR+AR DKP/HUIL CVLT 3.1': 14965, 'S235JR+AR EKO': 14966, 'S235JR+AR KRA': 14967, 'S235JR+AR LARG SUP 1000 1ER': 14968, 'S235JR+AR LARG SUP 1500 CVLT': 14969, 'S235JR+AR LARG SUP1000 CVLT': 14970, 'S235JR+AR TEAR ASTM': 14971, 'S235JR+AR TEARDROP': 14972, 'S235JR+AR-CL 1 FM': 14973, 'S235JR+AR-CL1': 14974, 'S235JR+AR-CL1 2.2 WT-003 3/4EN': 14975, 'S235JR+AR-CL1 A': 14976, 'S235JR+AR-CL1 ASTM786': 14977, 'S235JR+AR-CL1 DESIGN T': 14978, 'S235JR+AR-CL1 DIAMOND': 14979, 'S235JR+AR-CL1 DIN TEAR': 14980, 'S235JR+AR-CL1 FLOORPLATE': 14981, 'S235JR+AR-CL1 FLOORPLATES': 14982, 'S235JR+AR-CL1 FN SKIN': 14983, 'S235JR+AR-CL1 KRA': 14984, 'S235JR+AR-CL1 SK': 14985, 'S235JR+AR-CL1 SKIN 1,65 X 1105': 14986, 'S235JR+AR-CL1 TEAR DROP': 14987, 'S235JR+AR-CL1 TEARDROP DIN T': 14988, 'S235JR+AR-CL1 WT-003': 14989, 'S235JR+AR-CL1(TEARDROP)': 14990, 'S235JR+AR-CL1_6X1500_NOCISCVLT': 14991, 'S235JR+AR-CL1_DKP_SOLCLEAN_CIS': 14992, 'S235JR+AR-CL1_MASC': 14993, 'S235JR+AR-CL1_NON CIS_3.1': 14994, 'S235JR+AR-CL1_NON CIS_3.1 CVLT': 14995, 'S235JR+AR-CL1_NON CIS_NON/H': 14996, 'S235JR+AR-CL1_PROF.A FROID': 14997, 'S235JR+AR-CL1_SK_PROF.A FROID': 14998, 'S235JR+AR-CL1_SOLCLEAN_CIS_3.1': 14999, 'S235JR+AR-DESIGN T': 15000, 'S235JR+ARCL1SOLCL+-0.18CISCVLT': 15001, 'S235JR+ARCL1SOLCL+-0.27CISCVLT': 15002, 'S235JR+ARCL1SOLCL+-0.29CISCVLT': 15003, 'S235JR+ARLARSUP12501CHOIX CVLT': 15004, 'S235JR+AR_8X1500X3000_NON CISA': 15005, 'S235JR+AR_CL1': 15006, 'S235JR+AR_CL1 ASTM': 15007, 'S235JR+AR_CL1 DIAMOND': 15008, 'S235JR+AR_CL1 DIAMOND CUTT': 15009, 'S235JR+AR_PAPER': 15010, 'S235JR+N': 15011, 'S235JR+N CL1 DIN TEAR': 15012, 'S235JR+N KRA': 15013, 'S235JR+N-CL1': 15014, 'S235JR+N-CL1 BELOW 3MM': 15015, 'S235JR+N-CL1 KRA': 15016, 'S235JR+N-CL1 TD': 15017, 'S235JR+N_CL1': 15018, 'S235JR-CL1': 15019, 'S235JR-CL1-MASC': 15020, 'S235JR-CL1_MASC': 15021, 'S235JRC + AR - CL1': 15022, 'S235JRC+AR': 15023, 'S235JRC+AR-CL1': 15024, 'S235JRC+N': 15025, 'S235JRC+N-CL1': 15026, 'S235JRC+N-CL1 3.1': 15027, 'S235JRC+N-CL1 KRA': 15028, 'S235JRC+N_CL1': 15029, 'S235JRMOD-CL1': 15030, 'S235JRN CL1': 15031, 'S235Q1 1347X3.75': 15032, 'S235Q1 3.65X1458': 15033, 'S235Q3B 1480X4,95': 15034, 'S240 CLAS': 15035, 'S240 D': 15036, 'S240 D 2.15 X 1235': 15037, 'S240D': 15038, 'S245G-AMCA 1.2X1180': 15039, 'S245G-AMCA 1.31X1220': 15040, 'S250 ZM310 1100 X 0.900': 15041, 'S250/9002/15#/SID': 15042, 'S250G+ZM310 MAC 1.92X1294': 15043, 'S250GD + Z275 MAC': 15044, 'S250GD + Z275 MAO': 15045, 'S250GD + Z450 MAC': 15046, 'S250GD + ZM120 MAC': 15047, 'S250GD + ZM250 MAC': 15048, 'S250GD + ZM250 MAO': 15049, 'S250GD 1,25X1250 3.1': 15050, 'S250GD 1,5X1250 3.1': 15051, 'S250GD GR HDS MT B5 AM': 15052, 'S250GD+Z': 15053, 'S250GD+Z 1500 X 2.00': 15054, 'S250GD+Z 1500 X 3.00': 15055, 'S250GD+Z 2,5 X 1130 MM': 15056, 'S250GD+Z 2,5 X 1474 MM': 15057, 'S250GD+Z 7M 80B 9966 MONO': 15058, 'S250GD+Z A': 15059, 'S250GD+Z A/SOUDURE OTIS': 15060, 'S250GD+Z AVEC SOUDURE': 15061, 'S250GD+Z B/PLAN A/SOUD OTIS': 15062, 'S250GD+Z B/PLANEITE A/SOUDURE': 15063, 'S250GD+Z FLAT N': 15064, 'S250GD+Z GRSTD MT B15 AM MONO': 15065, 'S250GD+Z Z100 AHD 9006': 15066, 'S250GD+Z Z100 ASTD 7016': 15067, 'S250GD+Z Z100 ASTD 9010': 15068, 'S250GD+Z100': 15069, 'S250GD+Z100_NEP_PROF.A FROID': 15070, 'S250GD+Z275 EKO 3.1': 15071, 'S250GD+Z275 GHDS00002': 15072, 'S250GD+Z275 MAC 1.5X1196': 15073, 'S250GD+Z275 MAC 1.8X1196': 15074, 'S250GD+Z275 MAC 2.2X1252': 15075, 'S250GD+Z275 MAC 3.85X1186': 15076, 'S250GD+Z275 MAO 1.2X1233': 15077, 'S250GD+Z275_PROF.A FROID': 15078, 'S250GD+Z450 MAC': 15079, 'S250GD+Z450 MAC 1.16X1260': 15080, 'S250GD+Z450_PROF.A FROID': 15081, 'S250GD+ZM 120': 15082, 'S250GD+ZM MAE': 15083, 'S250GD+ZM120MAC 1.2X1233': 15084, 'S250GD+ZM175 0,5X1250': 15085, 'S250GD+ZM310': 15086, 'S250GD+ZM310 MA': 15087, 'S250GD+ZM310MAC': 15088, 'S250GD+ZM310MAO 1.85X1348': 15089, 'S250GD+ZM310MAO 1.85X1422': 15090, 'S250GD+ZM430': 15091, 'S250GD+ZM430 MAC 1,50X1196': 15092, 'S250GD+ZM430 MAC 1.80X1196': 15093, 'S250GD+ZM90': 15094, 'S250GD+Z_0.5X1250': 15095, 'S250GD+Z_B/PLANEITE S/SOUDURE': 15096, 'S250GD+Z_BONNE PLANEITE': 15097, 'S250GDZ225-1250X0.55': 15098, 'S250GDZ275MAC25012502.212': 15099, 'S250GDZM31020012502.212': 15100, 'S250GDZM31025012502.212': 15101, 'S250M3101.5A1850': 15102, 'S250M3101B2200': 15103, 'S250M3104B2500': 15104, 'S250_0.5X1246_Z275_GHDM_724DC': 15105, 'S250_0.5X1246_Z275_GHDM_817DC': 15106, 'S250_0.5X1246_Z275_GHDM_905DC': 15107, 'S250_0.5X1246_Z275_GHDM_D3009': 15108, 'S250_0.5X1246_Z275_GHDUM_D309U': 15109, 'S250_0.5X1246_Z275_GHD_G9006': 15110, 'S250_0.5X1246_Z275_GST_G3009': 15111, 'S250_0.5X1246_Z275_GST_G6005': 15112, 'S250_0.5X1246_Z275_GST_G7016': 15113, 'S250_0.5X1246_Z275_GST_G8004': 15114, 'S250_0.5X1246_Z275_GST_G8017': 15115, 'S250_0.5X1246_Z275_GST_G9005': 15116, 'S250_0.5X1246_Z275_GST_G9010': 15117, 'S250_0.5X1246_Z275_GST_P311A': 15118, 'S250_0.5X1246_Z275_GST_P7024': 15119, 'S250_0.5X1246_Z275_W2701': 15120, 'S250_0.5X1246_Z275_W6701': 15121, 'S250_0.5X1246_Z275_W7700': 15122, 'S25GD 1,80X1250 3.1': 15123, 'S275J0+AR-CL1': 15124, 'S275J0+AR_CL1': 15125, 'S275J2+N': 15126, 'S275J2+N 1500X3 -0+0.33 3.1': 15127, 'S275J2+N-CL1 3/4 EN + 3.1': 15128, 'S275JO+AR-CL1_PROF.A FROID': 15129, 'S275JR': 15130, 'S275JR 3.65x1246': 15131, 'S275JR 6x1144': 15132, 'S275JR+AR': 15133, 'S275JR+AR 1000 X 3': 15134, 'S275JR+AR CL1': 15135, 'S275JR+AR TEARDROP DIN 59220-T': 15136, 'S275JR+AR-CL1': 15137, 'S275JR+AR-CL1 SKIN': 15138, 'S275JR+AR-CL1 SKIN 1,5 X 1025': 15139, 'S275JR+AR-CL1_PROF.A FROID': 15140, 'S275JR+AR_CL1': 15141, 'S275JR+N+CL1': 15142, 'S275JR-CL1': 15143, 'S280/Z275/0.74/1220': 15144, 'S280G+ZM310MAC 1X1123': 15145, 'S280GD + Z275 MAC': 15146, 'S280GD + ZM250 MAC': 15147, 'S280GD + ZM310 MAC': 15148, 'S280GD 1,5X1250 3.1': 15149, 'S280GD EST FLEX MT B5 AM': 15150, 'S280GD SUPEROPTIMIZED': 15151, 'S280GD+Z': 15152, 'S280GD+Z 1.85X1412': 15153, 'S280GD+Z 1/2 TOL': 15154, 'S280GD+Z FLAT N': 15155, 'S280GD+Z Z200': 15156, 'S280GD+Z-275MAC 2X1138': 15157, 'S280GD+Z100': 15158, 'S280GD+Z100 MA': 15159, 'S280GD+Z275 MAC 1.9X1122': 15160, 'S280GD+Z275 MAC 3.1': 15161, 'S280GD+Z275 MAE': 15162, 'S280GD+Z275 NORMAL G': 15163, 'S280GD+Z275+A': 15164, 'S280GD+Z600_PROF.A FROID': 15165, 'S280GD+ZM': 15166, 'S280GD+ZM MAE': 15167, 'S280GD+ZM200': 15168, 'S280GD+ZM310': 15169, 'S280GD+ZM430 MAC': 15170, 'S280GD+Z_0.61X1250': 15171, 'S280GD+Z_0.72X1250': 15172, 'S280GD+Z_0.77X1250': 15173, 'S280GD+Z_ROXELL1_PROF.A FROID': 15174, 'S280GD+Z_ROXELL2_PROF.A FROID': 15175, 'S280GD+Z_ROXELL3_PROF.A FROID': 15176, 'S280GD+Z_ROXELL4_PROF.A FROID': 15177, 'S280GD+Z_ROXELL5_PROF.A FROID': 15178, 'S280GDZ EA15 AM FN BF5': 15179, 'S280GDZ275MAC12012502.212': 15180, 'S280GDZ275MAC25012502.212': 15181, 'S280_0.61X1246_Z275_GHD_G9006': 15182, 'S280_0.61X1246_Z275_GST_G3011': 15183, 'S280_0.61X1246_Z275_GST_G8017': 15184, 'S280_0.61X1246_Z275_GST_G9010': 15185, 'S280_0.61X1246_Z275_GST_P7024': 15186, 'S280_0.68X1246_Z275_GST_G3011': 15187, 'S280_0.68X1246_Z275_GST_G7016': 15188, 'S280_0.68X1246_Z275_GST_G7035': 15189, 'S280_0.68X1246_Z275_GST_G8017': 15190, 'S280_0.72X1246_Z275_GHD_G9006': 15191, 'S280_0.72X1246_Z275_GST_G9002': 15192, 'S28GD 1,25X1250 3.1': 15193, 'S28GD 1,80X1250 3.1': 15194, 'S315MC': 15195, 'S315MC 3,65X1495': 15196, 'S320+ZM090 1220X0,75': 15197, 'S320+ZM310 1220X0,75': 15198, 'S320+ZM430 1220X0,75': 15199, 'S320/6009/25µ/SID': 15200, 'S320/9002//B9002': 15201, 'S320/G1015': 15202, 'S320/G5010': 15203, 'S320/G6011': 15204, 'S320/G7015': 15205, 'S320/G7016': 15206, 'S320/G7035': 15207, 'S320/G8004': 15208, 'S320/G8011': 15209, 'S320/G8012': 15210, 'S320/G9002': 15211, 'S320/RAL6020': 15212, 'S320/Z180/0.74/1220': 15213, 'S320/Z275/0.63/1220': 15214, 'S320/ZM120/0.63/1220': 15215, 'S320/ZM120/0.7/1000': 15216, 'S320/ZM120/0.72/1220': 15217, 'S320/ZM120/0.96/1220': 15218, 'S320/ZM90/0.74/1220': 15219, 'S320/ZM90/0.75/1220': 15220, 'S320GD + Z100 MAC': 15221, 'S320GD GR DEEPMAT AM B5 AM': 15222, 'S320GD GR FLEX GR G30 B5 AM': 15223, 'S320GD GRANITEHDX 55µ DF': 15224, 'S320GD MBC': 15225, 'S320GD ZM310': 15226, 'S320GD+Z': 15227, 'S320GD+Z A SURF': 15228, 'S320GD+Z ASPECT B': 15229, 'S320GD+Z FLAT N': 15230, 'S320GD+Z MAC': 15231, 'S320GD+Z Z200': 15232, 'S320GD+Z(HEAVY)': 15233, 'S320GD+Z100MAC 1.5X1153': 15234, 'S320GD+Z100MAC 2X1150': 15235, 'S320GD+Z100MAC 2X1153': 15236, 'S320GD+ZM250 3.1': 15237, 'S320GD+ZM310': 15238, 'S320GD+ZM430': 15239, 'S320GD+Z_0.87X1250': 15240, 'S320GD+Z_0.97X1250': 15241, 'S320GD+Z_G9002_GRAN9002_NO CIS': 15242, 'S320GD+Z_HRPI': 15243, 'S320GD+Z_NG': 15244, 'S320GD-ZM': 15245, 'S320_0.88X1250_Z275_GST_G9002': 15246, 'S320_1.00X1250_Z275_GST_G9002': 15247, 'S350': 15248, 'S350/ZM120/1350/1,5': 15249, 'S350G+ZM430 MAC 2.7X1214': 15250, 'S350GD': 15251, 'S350GD + Z200 MAC': 15252, 'S350GD + Z275 MAC': 15253, 'S350GD + Z350 MAC 1ER CHOIX': 15254, 'S350GD + Z600 MAC': 15255, 'S350GD + ZM120 MAC': 15256, 'S350GD + ZM310': 15257, 'S350GD + ZM310 MAC': 15258, 'S350GD + ZM430 MAC': 15259, 'S350GD + ZM620 MAC': 15260, 'S350GD + ZM70 MAC': 15261, 'S350GD GR FLX 35µ GRAINE': 15262, 'S350GD GR FLX GRAI 687F': 15263, 'S350GD GR FLX GRAI DF 687F': 15264, 'S350GD HD RAL1028': 15265, 'S350GD+Z': 15266, 'S350GD+Z 1.5X1400': 15267, 'S350GD+Z MAC': 15268, 'S350GD+Z PI LABEL': 15269, 'S350GD+Z100': 15270, 'S350GD+Z225 06756': 15271, 'S350GD+Z225MAC 0.8X1058_3.1': 15272, 'S350GD+Z275 1.85X1257': 15273, 'S350GD+Z275 3.1': 15274, 'S350GD+Z275 3.65X1436': 15275, 'S350GD+Z275 MAC': 15276, 'S350GD+Z275 MAC 3.85X1394': 15277, 'S350GD+Z275 MAE': 15278, 'S350GD+Z275 MBS PW': 15279, 'S350GD+Z275+A': 15280, 'S350GD+Z275MAC 2X1250': 15281, 'S350GD+Z275MAC 3.65X1436': 15282, 'S350GD+Z275_PROF.A FROID': 15283, 'S350GD+Z450_1360X2.00_BRE': 15284, 'S350GD+Z600+A': 15285, 'S350GD+Z600MAC': 15286, 'S350GD+ZASNC': 15287, 'S350GD+ZM': 15288, 'S350GD+ZM AVILES': 15289, 'S350GD+ZM MAE': 15290, 'S350GD+ZM120': 15291, 'S350GD+ZM195': 15292, 'S350GD+ZM250MAC': 15293, 'S350GD+ZM310': 15294, 'S350GD+ZM310 3.1': 15295, 'S350GD+ZM310 MAC': 15296, 'S350GD+ZM310MAC': 15297, 'S350GD+ZM430': 15298, 'S350GD+ZM430MAC 3X1378': 15299, 'S350GD+ZM_1140X1.25_LIE': 15300, 'S350GD+Z_A': 15301, 'S350GDHDRAL1028 0.8X1058': 15302, 'S350ZM': 15303, 'S355 MC': 15304, 'S355 MC NOIR CCPU': 15305, 'S355 MC NOIR CCPU CVLT': 15306, 'S355 MC-MASC': 15307, 'S355 MC_MASC': 15308, 'S355J0': 15309, 'S355J0 4X1246': 15310, 'S355J0 4X812': 15311, 'S355J0 5,5X855': 15312, 'S355J0 5X867': 15313, 'S355J0 5X958': 15314, 'S355J0 6,5X855': 15315, 'S355J0 6X1144': 15316, 'S355J0 6X1240': 15317, 'S355J0 6X1242': 15318, 'S355J0 6X855': 15319, 'S355J0 6X956': 15320, 'S355J0 7X1140': 15321, 'S355J0 7X850': 15322, 'S355J0 7X855': 15323, 'S355J0 7X948': 15324, 'S355J0 7x1440': 15325, 'S355J0 8,6X1130': 15326, 'S355J0 8X1135': 15327, 'S355J0 9,6X1120': 15328, 'S355J0+AR': 15329, 'S355J0+AR 4,5X870': 15330, 'S355J0+AR 8X1004': 15331, 'S355J0+AR-CL1': 15332, 'S355J0+AR-CL1_PROF.A FROID': 15333, 'S355J0+N-CL1': 15334, 'S355J0WP': 15335, 'S355J0WP+AR': 15336, 'S355J0WP+AR 3,1*1830': 15337, 'S355J0WP+AR 6*2000': 15338, 'S355J0WP+AR FLAT RED': 15339, 'S355J0WP+AR SKIN FLAT RED': 15340, 'S355J2 AMP MOD': 15341, 'S355J2+AR-CL1': 15342, 'S355J2+AR-CL1 3.1': 15343, 'S355J2+AR_CL1': 15344, 'S355J2+AR_CL3': 15345, 'S355J2+N': 15346, 'S355J2+N CL1 A': 15347, 'S355J2+N-CL1': 15348, 'S355J2+N-CL1 3.1': 15349, 'S355J2+N-CL1 BELOW 3MM': 15350, 'S355J2+N-CL1 KRA': 15351, 'S355J2+N-CL1 NON CIS 3.1': 15352, 'S355J2+N_CL1': 15353, 'S355J2AMP MOD': 15354, 'S355J2C+N-CL1': 15355, 'S355J2N CL1': 15356, 'S355J2W+AR': 15357, 'S355J2W+AR SKIN': 15358, 'S355J2W+N': 15359, 'S355J2WP+AR': 15360, 'S355J2WP+AR SKIN': 15361, 'S355JO+CL1': 15362, 'S355JOWP+AR': 15363, 'S355JR': 15364, 'S355JR CL1': 15365, 'S355JR+AR': 15366, 'S355JR+AR 8X1004': 15367, 'S355JR+AR-CL1': 15368, 'S355JR-LCTHIN_DOP': 15369, 'S355K2 2000 X 5 3.1': 15370, 'S355K2+N': 15371, 'S355K2C+N': 15372, 'S355M-CL1': 15373, 'S355MC': 15374, 'S355MC 4X2015': 15375, 'S355MC 5X2015': 15376, 'S355MC DKP 1250 X 5.00 CCPU': 15377, 'S355MC DKP 1500 X 4.00 CCPU': 15378, 'S355MC DKP 1500X6.00 CCPUCVLT': 15379, 'S355MC DKP/H 3.1': 15380, 'S355MC KRA': 15381, 'S355MC PICKLED+OILED': 15382, 'S355MC WALZBLAU ESP': 15383, 'S355MC-CAT A': 15384, 'S355MC-CAT-A_PROF.A FROID': 15385, 'S355MC-CAT.A_3/4_CIS_3.1_CVLT': 15386, 'S355MC-CAT.A_3/4_NONCIS3.1CVLT': 15387, 'S355MC-CAT.A_NON CIS_3.1 CVLT': 15388, 'S355MC-CAT.A_PROF.A FROID': 15389, 'S355MC-CATA A': 15390, 'S355MC-CAT_A': 15391, 'S355MC-CAT_A 3.1': 15392, 'S355MC-CAT_A CUTT': 15393, 'S355MC-CAT_A KRA': 15394, 'S355MC-CAT_A LOIL EKO': 15395, 'S355MC-CAT_A NS GALV': 15396, 'S355MC-CL1': 15397, 'S355MC-CL3': 15398, 'S355MC_CAT A': 15399, 'S355MC_DKP_2X1000CCPUNOCISCVLT': 15400, 'S355MC_MASC': 15401, 'S360MC LASER': 15402, 'S360MC LASER CLASSIC': 15403, 'S360MC LASER CLASSIC 54C': 15404, 'S360MC LASER PREMIUM': 15405, 'S360MC LASER PREMIUM 54P': 15406, 'S390': 15407, 'S390 MC': 15408, 'S390GD + Z350 MAE 1ER CHOIX': 15409, 'S390GD + Z600 MAC': 15410, 'S390GD + ZM310 MAC': 15411, 'S390GD + ZM430 MAC': 15412, 'S390GD + ZM620 MAC': 15413, 'S390GD+Z275+A': 15414, 'S390GD+ZM AC': 15415, 'S390GD+ZM430MAC 3X1260': 15416, 'S390GD+ZM430MAC 3X1312': 15417, 'S390GD+ZM430MAC 3x1250': 15418, 'S390GD+ZM430MAC 3x1380': 15419, 'S390GD+ZM430MAC 4,5x1380': 15420, 'S390GD+ZM430MAC 4.5X1360': 15421, 'S390GD+ZM620MAC 3X958': 15422, 'S390MC CL1': 15423, 'S420 MC': 15424, 'S420GD + Z600 MAC': 15425, 'S420GD + ZM120 MAC': 15426, 'S420GD + ZM310 MAC': 15427, 'S420GD+Z': 15428, 'S420GD+ZM': 15429, 'S420GD+ZM310': 15430, 'S420GD+ZM310MAC 1,8x1160': 15431, 'S420GD+ZM310MAC 1,8x1196': 15432, 'S420GD+ZM310MAC 1,8x1206': 15433, 'S420GD+ZM310MAC 1,8x1215': 15434, 'S420GD+ZM310MAC 1,8x1221': 15435, 'S420GD+ZM310MAC 1,8x1296': 15436, 'S420GD+ZM310MAC 1,8x1318': 15437, 'S420GD+ZM310MAC 2,5x1286': 15438, 'S420GD+ZM310MAC 2,5x1290': 15439, 'S420GD+ZM_1185X1.75_LIE': 15440, 'S420GD+ZM_1330X1.50_LIE': 15441, 'S420GD+ZM_1330X1.75_LIE': 15442, 'S420GD_1372X2.25_BRE': 15443, 'S420M-CL1 EN': 15444, 'S420M-CL1 WT': 15445, 'S420MC': 15446, 'S420MC (JANO)': 15447, 'S420MC 2.55X1365': 15448, 'S420MC 2.75X1356': 15449, 'S420MC 3,65X1495': 15450, 'S420MC CAT_A': 15451, 'S420MC-CAT A': 15452, 'S420MC-CAT.A_PROF.A FROID': 15453, 'S420MC-CAT_A': 15454, 'S420MC-CAT_A RED FLAT': 15455, 'S420MC-CL1 TR': 15456, 'S420MC/334': 15457, 'S420MC_ARANIA': 15458, 'S450 ZM310 1281 X 1.350': 15459, 'S450 ZM310 1281 X 1.470': 15460, 'S450 ZM310 1281 X 1.760': 15461, 'S450 ZM310 1281 X 1.960': 15462, 'S450 ZM310 1281 X 1.970': 15463, 'S450 ZM310 1281 X 2.440': 15464, 'S450 ZM310 1281 X 2.910': 15465, 'S450 ZM310 1281 X 2.940': 15466, 'S450GD + Z450 MAC': 15467, 'S450GD + Z600 MAC': 15468, 'S450GD + ZM310 MAC': 15469, 'S450GD+Z MAC': 15470, 'S460M-CL1': 15471, 'S460MC': 15472, 'S460MC 1382X9.60': 15473, 'S460MC 992X6.10': 15474, 'S460MC CAT_A': 15475, 'S460MC CL1': 15476, 'S460MC-CAT_A': 15477, 'S460MC_CAT-A': 15478, 'S5005SOL': 15479, 'S500MC': 15480, 'S500MC-CAT.A_PROF.A FROID': 15481, 'S500MC-CAT_A': 15482, 'S500MC-CAT_A NS GALV': 15483, 'S500MC-CAT_A RED FLAT': 15484, 'S500MC-CAT_A TRIAL': 15485, 'S500MC_CAT-A NO WELDS': 15486, 'S500MC_TI_ARANIA': 15487, 'S550+ZM_310MA_EPASS': 15488, 'S550GD + Z600 MAC': 15489, 'S550GD + Z750 MAC': 15490, 'S550GD + ZM120 MAC': 15491, 'S550GD + ZM310 MAC': 15492, 'S550GD + ZM430 MAC': 15493, 'S550GD HyPer + ZM310 MAC': 15494, 'S550GD+Z350+A': 15495, 'S550GD+Z600': 15496, 'S550GD+Z600MAC 2.5X910': 15497, 'S550GD+ZM': 15498, 'S550GD+ZM310 HYPER': 15499, 'S550GD+ZM310MAC 2X1204': 15500, 'S550GD_1050X6_BRE': 15501, 'S550GD_2.50X1100_ABUDHABI': 15502, 'S550MC': 15503, 'S550MC-CAT_A': 15504, 'S550MC_CAT-A NO WELDS': 15505, 'S600MC': 15506, 'S700MC': 15507, 'S700MC CATA': 15508, 'S700MC CATA CUTT': 15509, 'S700MC-KCV-20 CL1': 15510, 'S700MC-KCV-20 CL3': 15511, 'S7531/200/1250/0.50': 15512, 'S8445SOL': 15513, 'SA0103901600600': 15514, 'SA0103901600700': 15515, 'SA0103901600800': 15516, 'SA0116203510500': 15517, 'SA0116204010500': 15518, 'SA0116503820600': 15519, 'SA9153913350450': 15520, 'SA9453913300600': 15521, 'SA9453913500450': 15522, 'SAE 1045': 15523, 'SAF1208X595SOLNX': 15524, 'SANPUD': 15525, 'SBAND0910060B': 15526, 'SBAND0910080B': 15527, 'SBAND0910100B': 15528, 'SBAND0914120S': 15529, 'SBAND0914150S': 15530, 'SBAND1055120B': 15531, 'SBAND1055140B': 15532, 'SBAND1055160B': 15533, 'SBAND1055180B': 15534, 'SCHA12126RC67BC30--S------DES1': 15535, 'SCHA12139RC67BC30--S------DES1': 15536, 'SCHA14554RC67AW30--S------DES1': 15537, 'SCHL14638RC67BC30--S------DES1': 15538, 'SDD110040ABPK': 15539, 'SDD110050CBPK': 15540, 'SDD11006012BPK': 15541, 'SDD11008012BPK': 15542, 'SDD110080ABPK': 15543, 'SDD110080BBPK': 15544, 'SDD110080CBPK': 15545, 'SDD11010012BPK': 15546, 'SDD110100ABPK': 15547, 'SDD110100BBPK': 15548, 'SDD110100CBPK': 15549, 'SDX51500AGVH': 15550, 'SDX51500BGVH': 15551, 'SDX51500CGVH': 15552, 'SE-4288': 15553, 'SEBWOJ': 15554, 'SEDY': 15555, 'SH P265GH': 15556, 'SH S235JR+N-CL1': 15557, 'SH S235JR+N-CL1 BELOW 3 MM': 15558, 'SH S235JR+N-CL1 BELOW 3MM': 15559, 'SH S355J2+N-CL1': 15560, 'SH S355MC-CAT_A': 15561, 'SH S355MC_CAT A': 15562, 'SH S420MC-CAT_A': 15563, 'SH S420MC_CAT A': 15564, 'SH16S240DNTU34B': 15565, 'SH1AMS355NTL34B': 15566, 'SI0701000': 15567, 'SI0701250A': 15568, 'SI1001050A': 15569, 'SI1001263EA': 15570, 'SI2001000A': 15571, 'SID_S240EK-CL1_03.50X1000MM': 15572, 'SID_S240EK-CL1_03.50X1400MM': 15573, 'SID_S240EK-CL1_03.50X1585MM': 15574, 'SID_S240EK-CL1_3X1475MM': 15575, 'SID_S240EK-CL1_3X1575MM': 15576, 'SIL1220X055POL': 15577, 'SI_COIL_ED_S': 15578, 'SI_COIL_PV_Q': 15579, 'SI_COIL_PV_S': 15580, 'SK 0501250Z100DX51DYM320': 15581, 'SK 0701500ZMO090DX51DYM320CBF': 15582, 'SK 1201000Z275DX51D': 15583, 'SKB1245X060SP': 15584, 'SKBCCO513': 15585, 'SNG1165X595SP': 15586, 'SNG1208X595SP': 15587, 'SOLANONS-ZA255': 15588, 'SOLNS-Z275-RAL9010': 15589, 'SP045B': 15590, 'SPECIAL_DX51D_0.56_1089': 15591, 'SPECIAL_DX51D_0.56_1089_610': 15592, 'SPECIAL_DX51D_0.56_1110': 15593, 'SPECIAL_DX51D_0.5_1110': 15594, 'SPECIAL_DX51D_0.5_1110_610': 15595, 'SPECIAL_DX51D_0.5_1250': 15596, 'SPECIAL_DX51D_0.5_1250_610': 15597, 'SPECIAL_S220GD_0.6_1250': 15598, 'SPECIAL_S220GD_0.7_1250': 15599, 'SPECIAL_S220GD_0.8_1250': 15600, 'SPECIAL_S280GD_1.5_1250': 15601, 'SPECIAL_S280GD_2.5_1130': 15602, 'SPECIAL_S280GD_2.5_1250': 15603, 'SPECIAL_S280GD_2.5_1250_3.1': 15604, 'SPECIAL_S280GD_2.5_960': 15605, 'SPECIAL_S280GD_2_1130': 15606, 'SPECIAL_S280GD_2_1250': 15607, 'SPECIAL_S280GD_2_1250_3.1': 15608, 'SPECIAL_S280GD_2_960': 15609, 'SPECIAL_S280GD_3_1130': 15610, 'SPECIAL_S280GD_3_1250': 15611, 'SPECIAL_S280GD_3_1250_3.1': 15612, 'SPECIAL_S280GD_3_960': 15613, 'SPECIAL_S320GD_0.8_1250_3.1': 15614, 'SPECIAL_S320GD_1_1250_CERT 3.1': 15615, 'SPECIAL_S350GD_2.5_1250_3.1': 15616, 'SPECIAL_S350GD_2_1250_3.1': 15617, 'SPECIAL_S350GD_3*1250': 15618, 'SPECIAL_S350GD_3_1250_3.1': 15619, 'SPER 68BB': 15620, 'SQ69T015015B': 15621, 'SS235003020B': 15622, 'SS2350030ABPK': 15623, 'SS2350030CBPK': 15624, 'SS2350030M6BEU': 15625, 'SS235004020BPK': 15626, 'SS2350040B': 15627, 'SS2350040BBPK': 15628, 'SS2350040CBPK': 15629, 'SS2350040M4BPK': 15630, 'SS235005015BPK': 15631, 'SS235005020BPK': 15632, 'SS2350050BBPK': 15633, 'SS2350050CBPK': 15634, 'SS2350050M4BPK': 15635, 'SS235006010BPK': 15636, 'SS235006020BPK': 15637, 'SS2350060ABPK': 15638, 'SS2350060BBPK': 15639, 'SS2350060CBPK': 15640, 'SS2350060M4BPK': 15641, 'SS2350080ABPK': 15642, 'SS2350080BBPK': 15643, 'SS2350080CBPK': 15644, 'SS2350100ABPK': 15645, 'SS2350100BBPK': 15646, 'SS2350100CBPK': 15647, 'SS2350120ABPK': 15648, 'SS2350120BBPK': 15649, 'SS2350120CBPK': 15650, 'SS235015010BPK': 15651, 'SS235015012BPK': 15652, 'SS235015015BPK': 15653, 'SS2350150BBPK': 15654, 'SS2350150CBPK': 15655, 'SS23501510BPK': 15656, 'SS235200C01PK': 15657, 'SS23C0050BBPK': 15658, 'SS23C0060BBPK': 15659, 'SS355004020B': 15660, 'SS355005020B': 15661, 'SS355006020B': 15662, 'SS355012012BPK': 15663, 'SS35M005015BPK': 15664, 'SS35M006012BPK': 15665, 'SS35M0060152BPK3': 15666, 'SS35M006015BPK': 15667, 'SS35M008010BPK': 15668, 'SS35M008015BPK': 15669, 'SS35M010015BPK': 15670, 'SS35M012010BPK': 15671, 'SS35M012012BPK': 15672, 'SS35M012015BPK': 15673, 'SS35M015010BPK': 15674, 'SS35M015012BPK': 15675, 'SS35M015015BPK': 15676, 'SS35M020015B': 15677, 'SS42M006015BPK': 15678, 'SS42M008015BPK': 15679, 'SS42M010015BPK': 15680, 'SS42M012012BPK': 15681, 'SS50M004012BPK': 15682, 'SS50M004015BPK': 15683, 'SS50M005012BPK': 15684, 'SS50M005015BPK': 15685, 'SS50M006012BPK': 15686, 'SS50M006015BPK': 15687, 'SS50M008012BPK': 15688, 'SS50M008015BPK': 15689, 'SS50M010012BPK': 15690, 'SS50M010015BPK': 15691, 'SS70M004015B': 15692, 'SS70M005015B': 15693, 'SS70M006015B': 15694, 'SS70M008015B': 15695, 'SS70M010015B': 15696, 'SSC DX54DZ100-908X0.4': 15697, 'SSC-DX54DZ100-1092X0.4': 15698, 'SSC-DX54DZ100-1175X0.4': 15699, 'SSC-DX54DZ100-944X0.4': 15700, 'SSC-DX54DZ100-973X0.4': 15701, 'SSC-MD-0438-V': 15702, 'SSC-MD-0500-V': 15703, 'SSC-MR-0002-V': 15704, 'SSC-MR-0031-V': 15705, 'SSC-MR-0034-V': 15706, 'SSC-MR-0036-V': 15707, 'SSC-MR-0039-V': 15708, 'SSC-MR-0067-V': 15709, 'STCL00010GGG001': 15710, 'STCL00014GGG001': 15711, 'STCL00018GGG001': 15712, 'STCL00033GGG0001': 15713, 'STCL00042GGG0001': 15714, 'STCL00043GGG0001': 15715, 'STCL00044GGG0001': 15716, 'STCL00047GGG0001': 15717, 'STCL00048GGG0001': 15718, 'STCL00049GGG0001': 15719, 'STCL00050GGG0001': 15720, 'STCL00051GGG0001': 15721, 'STCL00052GGG0001': 15722, 'STCL00053GGG0001': 15723, 'STCL00054GGG0001': 15724, 'STCL00054GGG001': 15725, 'STCL00070GGG0001 GNO': 15726, 'STCL00079GGG0001': 15727, 'STCL00079GGG001': 15728, 'STCL00080GGG0001': 15729, 'STCL00080GGG001': 15730, 'STCL00081GGG0001': 15731, 'STCL00081GGG001': 15732, 'STCL00082GGG001': 15733, 'STCL00083GGG001': 15734, 'STCL00090GGG0001': 15735, 'STCL00091GGG0001': 15736, 'STCL00092GGG001': 15737, 'STCL00093GGG0001': 15738, 'STCL00099GGG0001': 15739, 'STCL00170GGG001': 15740, 'STCL00171GGG001': 15741, 'STCL00177GGG001': 15742, 'STCL00178GGG001': 15743, 'STCL00182GGG001': 15744, 'STCL00183GGG001': 15745, 'STCL00185GGG001': 15746, 'STCL00188GGG0001': 15747, 'STCL00190GGG0001': 15748, 'STCL00191GGG001': 15749, 'STCL00192GGG001': 15750, 'STCL00193GGG001': 15751, 'STCL00194GGG001': 15752, 'STCL00195GGG0001': 15753, 'STCL00197GGG0001': 15754, 'STCL00198GGG001': 15755, 'STCL00199GGG001': 15756, 'STCL00200GGG0001': 15757, 'STCL00435GGG0001': 15758, 'STCL00438GGG0001': 15759, 'STCL00452GGG0001': 15760, 'STCL00455GGG0001': 15761, 'STCL00456GGG0001': 15762, 'STCL00473GGG0001': 15763, 'STCL00474GGG0001': 15764, 'STCL00540GGG001': 15765, 'STCL00570GGG0001': 15766, 'STCL00662GGG0001': 15767, 'STLC00105GGG0001': 15768, 'STORM 716X': 15769, 'STORM 905X': 15770, 'STORM D724X': 15771, 'STORM D905X': 15772, 'STW22(DD11)_1100X2.00': 15773, 'STW22(DD11)_1100X2.50': 15774, 'STW22(DD11)_1100X3.25': 15775, 'SUB2.G3009 GRANITE HDS': 15776, 'SUB2.G3009 GRANITE STD': 15777, 'SUB2.G8004 GRANITE STD': 15778, 'SUB2.G9005 GRANITE STD': 15779, 'SUB2.G9006 GRANITE HD': 15780, 'SUB2.G9006 GRANITE HDS': 15781, 'SUB2.G9106 GRANITE STD': 15782, 'SUB2.GRAFHITE0087 GRANITE STD': 15783, 'SUB2GRANITE.HD.5 20-49T.PA': 15784, 'SUB2GRANITE.STD.3 100T.PB': 15785, 'SUB2GRANITE.STD.3 20-49T.PA': 15786, 'SUB4.G1015 GRANITE STD': 15787, 'SUB4.G3009 GRANITE STD': 15788, 'SUB4.G5010 GRANITE STD': 15789, 'SUB4.G6011 GRANITE STD': 15790, 'SUB4.G7035 GRANITE STD': 15791, 'SUB4.G8004 GRANITE STD': 15792, 'SUB4.G8017 GRANITE STD': 15793, 'SUB4.G9005 GRANITE STD': 15794, 'SUB4.G9006 GRANITE HD': 15795, 'SUB4.G9106 GRANITE STD': 15796, 'SUB4.GRAFHITE0087 GRANITE STD': 15797, 'SUB4.GREEN 0510 GRANITE STD': 15798, 'SUB4.RED 0302 GRANITE STD': 15799, 'SUB4.SKYBLUEG5015 GRANITE STD': 15800, 'SUB4GRANITE.HD.5 50-99T.PA': 15801, 'SUB4GRANITE.STD.3 20-49T.PB': 15802, 'SUB4GRANITE.STD.3 50-99T.PA': 15803, 'SUB4GRANITE.STD.3 50-99T.PB': 15804, 'SUB4GRANITE.STD.4 20-49T.PB': 15805, 'SUB6.G1015 GRANITE STD': 15806, 'SUB6.G3009 GRANITE STD': 15807, 'SUB6.G7035 GRANITE STD': 15808, 'SUB6.G8017 GRANITE STD': 15809, 'SUB6.G8717 GRANITE STD': 15810, 'SUB6.G9006 GRANITE HD': 15811, 'SUB6.GRAFHITE0087 GRANITE STD': 15812, 'SUB6.GREEN 0510 GRANITE STD': 15813, 'SUB6GRANITE.STD.3 20-49T.SA': 15814, 'SUB6GRANITE.STD.3 20-49T.SB': 15815, 'SUB6GRANITE.STD.4 20-49T.SA': 15816, 'SUB7.A9106 ESTETIC ACCESS': 15817, 'SUB9.A9106 ESTETIC ACCESS': 15818, 'SWI DX51D+Z': 15819, 'SWI DX51D+Z100 1.18X1160': 15820, 'SWI DX51D+Z100 1.9X1250': 15821, 'SWI DX51D+Z200 1.7X1250': 15822, 'SWI DX51D+Z200 1.9X1250': 15823, 'SWI S220GD+Z': 15824, 'SWIDX51DZ100MAC16512502.212': 15825, 'SWIDX51DZ140MAC16512502.212': 15826, 'SWIDX51DZ275MAC18012502.212': 15827, 'SWIDX51DZ275MAC19012502.212': 15828, 'SWIS280GDZ275MAC18012503.1': 15829, 'SWI_DX51D+Z MAC': 15830, 'SWI_DX52D+Z MAC': 15831, 'SXC1240XXXX0012': 15832, 'SXC1240XXXX0015': 15833, 'SXC1240XXXX0018': 15834, 'SXC1240XXXX0021': 15835, 'SXC1240XXXX0025': 15836, 'SXC1500XXXX0011': 15837, 'Serwistal': 15838, 'Serwistal HC380LA': 15839, 'T35 B15 D6': 15840, 'T35 B7 D6': 15841, 'T4006SOL': 15842, 'T4018SOL': 15843, 'T55 B55 D6': 15844, 'TABLICOWKA ECHOL': 15845, 'TBD': 15846, 'TC/1B2B/2019': 15847, 'TD SH KRA': 15848, 'TD U80112H': 15849, 'TD U80113I': 15850, 'TECHO S220GDZ EM25 AMS BF7': 15851, 'TEST G 7016 EX KR Z 225': 15852, 'TEST G 7016 EX KRAKOW 2tria': 15853, 'TL*S700MC*4650*1500*6': 15854, 'TL*S700MC*6490*1390*5': 15855, 'TL*S700MC*6950*1500*4': 15856, 'TL*S700MC*7230*1390*5': 15857, 'TL*S700MC*7670*1500*4': 15858, 'TL*S700MC*8000*1390*5': 15859, 'TL*S700MC*8000*1500*3': 15860, 'TO DEFINE/35/715/1,5': 15861, 'TOLE_SPE': 15862, 'TR102038810': 15863, 'TR2011226': 15864, 'TR2011236': 15865, 'TR2011526': 15866, 'TR2011536': 15867, 'TR2011536 ROUGH': 15868, 'TR2011554': 15869, 'TR2012709': 15870, 'TR2012909': 15871, 'TRIAL': 15872, 'TRIAL 0.18X996': 15873, 'TRIAL 0.45X1100': 15874, 'TRIAL 0.47X1250': 15875, 'TRIAL 1.17': 15876, 'TRS35501200Z06': 15877, 'TU 9002': 15878, 'Tesko': 15879, 'Tesko - 05.10.2020': 15880, 'Tesko-30.10.2020': 15881, 'Trial': 15882, 'Typical basket': 15883, 'U0501238': 15884, 'U0517980': 15885, 'U0649279': 15886, 'U0698730_SESTAO': 15887, 'U10005E': 15888, 'U10005E FS': 15889, 'U10040N': 15890, 'U10052Z': 15891, 'U10053A': 15892, 'U10070R': 15893, 'U10075W': 15894, 'U10097S': 15895, 'U10109E': 15896, 'U10120P': 15897, 'U10126V': 15898, 'U10136F': 15899, 'U10146P': 15900, 'U10152V': 15901, 'U10154X': 15902, 'U10159C': 15903, 'U10161E': 15904, 'U10167K': 15905, 'U10176T': 15906, 'U10180X': 15907, 'U10192J': 15908, 'U10197O': 15909, 'U10207Y': 15910, 'U10234Z': 15911, 'U10235A': 15912, 'U10236B': 15913, 'U10237C': 15914, 'U10238D': 15915, 'U10243I': 15916, 'U10245K': 15917, 'U10248N': 15918, 'U10250P': 15919, 'U10252R': 15920, 'U10254T': 15921, 'U10255U': 15922, 'U10255U FS': 15923, 'U20031G': 15924, 'U20033I': 15925, 'U20034J': 15926, 'U20041Q': 15927, 'U20051A': 15928, 'U20146R': 15929, 'U20168N': 15930, 'U20351O': 15931, 'U20471B': 15932, 'U20554F': 15933, 'U20559K': 15934, 'U20596V': 15935, 'U20603C': 15936, 'U20608H': 15937, 'U20616P': 15938, 'U20855U': 15939, 'U20880T': 15940, 'U20881U': 15941, 'U20882V': 15942, 'U40065Q': 15943, 'U40068T': 15944, 'U40071W': 15945, 'U40078D': 15946, 'U70039Q': 15947, 'U70099Y': 15948, 'U70112L': 15949, 'U70113M': 15950, 'U70114N': 15951, 'U70116P': 15952, 'U70118R': 15953, 'U70120T': 15954, 'U70125Y': 15955, 'U70127A': 15956, 'U70129C': 15957, 'U70132F': 15958, 'U70135I': 15959, 'U70136J': 15960, 'U70137K': 15961, 'U70140N': 15962, 'U70142P': 15963, 'U70146T': 15964, 'U70147U': 15965, 'U70148V': 15966, 'U70149W': 15967, 'U70151Y': 15968, 'U70153A': 15969, 'U70155C': 15970, 'U70157E': 15971, 'U70158F': 15972, 'U70159G': 15973, 'U70160H': 15974, 'U701611': 15975, 'U70161I': 15976, 'U70162J': 15977, 'U70163K': 15978, 'U70164L': 15979, 'U70165M': 15980, 'U70166N': 15981, 'U70167O': 15982, 'U70168P': 15983, 'U70169Q': 15984, 'U70170R': 15985, 'U70171S': 15986, 'U70173U': 15987, 'U70175W': 15988, 'U70177Y': 15989, 'U70179A': 15990, 'U70180B': 15991, 'U70181C': 15992, 'U70183E': 15993, 'U70186H': 15994, 'U70188J': 15995, 'U70188J FS': 15996, 'U70192N': 15997, 'U70193O': 15998, 'U70194P': 15999, 'U70197S': 16000, 'U70198T': 16001, 'U70199U': 16002, 'U70200V': 16003, 'U70203Y': 16004, 'U70204Z': 16005, 'U70206B': 16006, 'U70211G': 16007, 'U70212H': 16008, 'U70213I': 16009, 'U70214J': 16010, 'U70221Q': 16011, 'U70223S': 16012, 'U70233C': 16013, 'U70234D': 16014, 'U70235E': 16015, 'U70236F': 16016, 'U70237G': 16017, 'U70238H': 16018, 'U70239I': 16019, 'U70240J': 16020, 'U80020T': 16021, 'U80031E': 16022, 'U80050X': 16023, 'U80050Y': 16024, 'U80054B': 16025, 'U80055C': 16026, 'U80060X': 16027, 'U80060Z': 16028, 'U80070R': 16029, 'U80071S': 16030, 'U80072T': 16031, 'U80092N': 16032, 'U80100V': 16033, 'U80107C': 16034, 'U80112H': 16035, 'U80129Y': 16036, 'U80131A': 16037, 'U80133C': 16038, 'U80157A': 16039, 'U80157A TEAR DROP': 16040, 'U80158B': 16041, 'U80159C': 16042, 'U80175S': 16043, 'UIN 101890HS': 16044, 'ULS0464 10MM': 16045, 'ULS0464 4MM': 16046, 'ULS0464 5MM': 16047, 'ULS0512 4MM': 16048, 'ULS0512 8MM': 16049, 'UMB1208X465SOLNX': 16050, 'UMB1245X060PL': 16051, 'UU 9002': 16052, 'V1041SOL': 16053, 'V11B 0.6X1000 BLACK GLUE': 16054, 'V11B 0.6X1250 BLACK GLUE': 16055, 'V11B 0.6X1450 BLACK GLUE': 16056, 'V11B 1.20X1450 BLACK GLUE': 16057, 'V11B 1.2X1250 BLACK GLUE': 16058, 'V11B 1.2X1450 BLACK GLUE': 16059, 'V22001250235JR': 16060, 'V22001310235JR': 16061, 'V22001406235JR': 16062, 'V22001445235JR': 16063, 'V22001455235JR': 16064, 'V22501386240MC': 16065, 'V23001250235JR': 16066, 'V23231274275JR': 16067, 'V32001250355JR': 16068, 'V32501308355JR': 16069, 'V32501419355JR': 16070, 'V33001080355JR': 16071, 'V33001250355MC': 16072, 'V33001406355JR': 16073, 'V33501301355JR': 16074, 'V33501436355JR': 16075, 'V34001250355JR': 16076, 'V34001302355JR': 16077, 'V34001330355JR': 16078, 'V34001334355JR': 16079, 'V34001406355JR': 16080, 'V44001280420MC': 16081, 'VB2.070.1500.JH': 16082, 'VB2.070.1850.MM': 16083, 'VB2.090.1500.JH': 16084, 'VB2.095.1850': 16085, 'VB2.110.1500.JH': 16086, 'VBD.140.1250': 16087, 'VIOPRE': 16088, 'VOLCANO 0101/50/1000/0,75': 16089, 'VRT': 16090, 'VS 0401250Z100DX51D': 16091, 'VS 0401360Z100DX51D': 16092, 'VS 0451365Z100DX51D': 16093, 'VS 0451460Z100DX51D': 16094, 'VS 0500960Z100DX51D': 16095, 'VS 0501030Z100DX51D': 16096, 'VS 0501030Z100DX53D': 16097, 'VS 0501060Z100DX51D': 16098, 'VS 0501170Z100DX51D': 16099, 'VS 0501250Z100DX51D': 16100, 'VS 0600860Z100DX53D': 16101, 'VS 0600960Z100DX53D': 16102, 'VS 0601250Z100DX51D': 16103, 'VS 0601276Z100DX51D': 16104, 'VS 0601276Z100DX52D': 16105, 'VS 0601340Z100DX52D': 16106, 'VS 0601360Z100DX53D': 16107, 'VS 0601410Z100DX53D': 16108, 'VS 0601475Z100DX53D': 16109, 'VS 0701110Z100DX51D': 16110, 'VS 0800930Z100DX51D': 16111, 'VS 0801065Z100DX53D': 16112, 'VS 0801250Z100DX51D': 16113, 'VTS SPT': 16114, 'W 7016P': 16115, 'W 9010': 16116, 'W DX51D+Z': 16117, 'W H240D+Z': 16118, 'W S350GD': 16119, 'W S350GD+Z 3.1': 16120, 'W-0150-11500-113': 16121, 'W-0175-13600-241': 16122, 'W-0200-13760-214': 16123, 'W-0200-14390-113': 16124, 'W-0290-13890-241': 16125, 'W-0300-11440-116': 16126, 'W-0300-14280-241': 16127, 'W-0360-13030-150': 16128, 'W-0360-14510-150': 16129, 'W-0360-14510-152': 16130, 'W-0400-13800-150': 16131, 'W-0400-14230-137': 16132, 'W-0400-15900-150': 16133, 'W-0420-15900-152': 16134, 'W-0450-12930-114': 16135, 'W-0450-13830-150': 16136, 'W-0560-13260-114': 16137, 'W-0630-13840-154': 16138, 'W9102SOL': 16139, 'WEST_S320GD+Z MAC': 16140, 'WEST_S350GD+Z MAC': 16141, 'WEST_S390GD+Z MAC': 16142, 'WHI1165X595BCT5': 16143, 'WHI1165X60EST': 16144, 'WHI1208X60EST': 16145, 'WHI1245X060SP': 16146, 'WHI1245X60EST': 16147, 'WHITE 6880': 16148, 'WILA04346LC32AW30---------DES1': 16149, 'WILA06550CA32AF10---------DES1': 16150, 'WILA06839CA32AF10---------DES1': 16151, 'WILA06841CA32AF10---------DES1': 16152, 'WILA07657CA32AF10---------DES1': 16153, 'WILA07707CA32AF10---------DES1': 16154, 'WILA07708CA32AF10---------DES1': 16155, 'WILA08328CA32AF10---------DES1': 16156, 'WILA08334CA32AF10---------DES1': 16157, 'WILA13691CA32AF10---------DES1': 16158, 'WILA14440CA32AF10---------DES1': 16159, 'WILA14762LC32AW30---------DES1': 16160, 'WOJMAK': 16161, 'Wall panel project DK 120t': 16162, 'X010086': 16163, 'X010151': 16164, 'X010263': 16165, 'X010331': 16166, 'X010332': 16167, 'X01290': 16168, 'X01344': 16169, 'X01351': 16170, 'X01352': 16171, 'X01353': 16172, 'X01373': 16173, 'X01425': 16174, 'X01447': 16175, 'X01479': 16176, 'X01480': 16177, 'X01575': 16178, 'X01601': 16179, 'X01684': 16180, 'X01685': 16181, 'X01750': 16182, 'X01750.': 16183, 'X01761': 16184, 'X01795': 16185, 'X01855': 16186, 'X120MN13': 16187, 'X60M-AMP-20C': 16188, 'X60M_AMP-20C': 16189, 'X70M_S460M_AMP-20C_SOFT': 16190, 'X70M_S500M_AMP-20C': 16191, 'XR102038100': 16192, 'XR102038600': 16193, 'XR102038800': 16194, 'XR102038800 HC180CS': 16195, 'XR35503': 16196, 'XR355038': 16197, 'XR355038P': 16198, 'XR35504': 16199, 'XR355047': 16200, 'XR355048': 16201, 'XR355048P': 16202, 'XR35505': 16203, 'XR355057': 16204, 'XR355058': 16205, 'XR355058P': 16206, 'XR35506': 16207, 'XR355067': 16208, 'XR355068': 16209, 'XR355068P': 16210, 'XR35508': 16211, 'XR355088': 16212, 'XR355088P': 16213, 'XR35510': 16214, 'XR355108': 16215, 'XR355108P': 16216, 'XR355128': 16217, 'XR355128P': 16218, 'XR35515': 16219, 'XR355158': 16220, 'XR355168': 16221, 'XR65004': 16222, 'XR65006': 16223, 'XR65008': 16224, 'XR65010': 16225, 'XR65012': 16226, 'XXX': 16227, 'XXX-XXX': 16228, 'XXXXXX': 16229, 'Y091RSOL': 16230, 'Y1HD3SOL': 16231, 'Y1VFHSOL': 16232, 'YC04235': 16233, 'YZ 9002': 16234, 'YZI 9002': 16235, 'YZR091180': 16236, 'Z 9002': 16237, 'Z0001035': 16238, 'Z01-0004739': 16239, 'Z01-0004740': 16240, 'Z01-0004741': 16241, 'Z0102364': 16242, 'Z225 -G5010': 16243, 'Z225 -G9010': 16244, 'Z45 (S450) 1014 X 1.150': 16245, 'Z45 (S450) 1014 X 1.250': 16246, 'Z45 (S450) 1014 X 1.260': 16247, 'Z45 (S450) 1014 X 1.360': 16248, 'Z45 (S450) 1014 X 1.440': 16249, 'Z45 (S450) 1014 X 1.450': 16250, 'Z45 (S450) 1014 X 1.460': 16251, 'Z45 (S450) 1014 X 1.560': 16252, 'Z45 (S450) 1014 X 1.750': 16253, 'Z45 (S450) 1014 X 1.950': 16254, 'Z45 (S450) 1014 X 1.960': 16255, 'Z45 (S450) 1046 X 2.460': 16256, 'Z45 (S450) 1104 X 1.150': 16257, 'Z45 (S450) 1104 X 1.160': 16258, 'Z45 (S450) 1104 X 1.250': 16259, 'Z45 (S450) 1104 X 1.260': 16260, 'Z45 (S450) 1104 X 1.350': 16261, 'Z45 (S450) 1104 X 1.360': 16262, 'Z45 (S450) 1104 X 1.450': 16263, 'Z45 (S450) 1104 X 1.560': 16264, 'Z45 (S450) 1104 X 1.650': 16265, 'Z45 (S450) 1104 X 1.750': 16266, 'Z45 (S450) 1104 X 1.760': 16267, 'Z45 (S450) 1104 X 1.950': 16268, 'Z45 (S450) 1104 X 1.960': 16269, 'Z45 (S450) 1104 X 2.110': 16270, 'Z45 (S450) 1104 X 2.130': 16271, 'Z45 (S450) 1104 X 2.430': 16272, 'Z45 (S450) 1104 X 2.630': 16273, 'Z45 (S450) 1104 X 2.640': 16274, 'Z45 (S450) 1140 X 1.200': 16275, 'Z45 (S450) 1145 X 1.100': 16276, 'Z45 (S450) 1147 X 0.800': 16277, 'Z45 (S450) 1147 X 0.900': 16278, 'Z45 (S450) 1147 X 1.000': 16279, 'Z45 (S450) 1191 X 1.250': 16280, 'Z45 (S450) 1191 X 1.260': 16281, 'Z45 (S450) 1191 X 1.340': 16282, 'Z45 (S450) 1191 X 1.350': 16283, 'Z45 (S450) 1191 X 1.360': 16284, 'Z45 (S450) 1191 X 1.440': 16285, 'Z45 (S450) 1191 X 1.450': 16286, 'Z45 (S450) 1191 X 1.460': 16287, 'Z45 (S450) 1191 X 1.550': 16288, 'Z45 (S450) 1191 X 1.560': 16289, 'Z45 (S450) 1191 X 1.650': 16290, 'Z45 (S450) 1191 X 1.730': 16291, 'Z45 (S450) 1191 X 1.750': 16292, 'Z45 (S450) 1191 X 1.950': 16293, 'Z45 (S450) 1191 X 2.130': 16294, 'Z45 (S450) 1225 X 2.900': 16295, 'Z45 (S450) 1225 X 2.930': 16296, 'Z45 (S450) 1230 X 1.150': 16297, 'Z45 (S450) 1230 X 1.160': 16298, 'Z45 (S450) 1230 X 1.250': 16299, 'Z45 (S450) 1230 X 1.260': 16300, 'Z45 (S450) 1230 X 1.340': 16301, 'Z45 (S450) 1230 X 1.350': 16302, 'Z45 (S450) 1230 X 1.360': 16303, 'Z45 (S450) 1230 X 1.440': 16304, 'Z45 (S450) 1230 X 1.450': 16305, 'Z45 (S450) 1230 X 1.460': 16306, 'Z45 (S450) 1230 X 1.550': 16307, 'Z45 (S450) 1230 X 1.560': 16308, 'Z45 (S450) 1230 X 1.730': 16309, 'Z45 (S450) 1230 X 1.750': 16310, 'Z45 (S450) 1230 X 1.930': 16311, 'Z45 (S450) 1230 X 1.950': 16312, 'Z45 (S450) 1281 X 1.340': 16313, 'Z45 (S450) 1281 X 1.350': 16314, 'Z45 (S450) 1281 X 1.360': 16315, 'Z45 (S450) 1281 X 1.440': 16316, 'Z45 (S450) 1281 X 1.450': 16317, 'Z45 (S450) 1281 X 1.460': 16318, 'Z45 (S450) 1281 X 1.550': 16319, 'Z45 (S450) 1281 X 1.560': 16320, 'Z45 (S450) 1281 X 1.730': 16321, 'Z45 (S450) 1281 X 1.750': 16322, 'Z45 (S450) 1281 X 1.930': 16323, 'Z45 (S450) 1281 X 1.950': 16324, 'Z45 (S450) 1281 X 1.960': 16325, 'Z45 (S450) 1281 X 2.130': 16326, 'Z45 (S450) 1281 X 2.410': 16327, 'Z45 (S450) 1281 X 2.430': 16328, 'Z45 (S450) 1281 X 2.630': 16329, 'Z45 (S450) 1281 X 2.640': 16330, 'Z45 (S450) 1305 X 0.900': 16331, 'Z45 (S450) 1305 X 1.000': 16332, 'Z45 (S450) 1305 X 1.100': 16333, 'Z45 (S450) 1305 X 1.110': 16334, 'Z45 (S450) 1305 X 1.200': 16335, 'Z45 (S450) 1305 X 1.210': 16336, 'Z45 (S450) 1305 X 1.510': 16337, 'ZA 1001382Z000DX54G': 16338, 'ZA200': 16339, 'ZAPYTANIE / DR': 16340, 'ZAPYTANIE / GNI': 16341, 'ZAPYTANIE / RK': 16342, 'ZAPYTANIE / ZBBR': 16343, 'ZIQ AS250GD+Z': 16344, 'ZIS ADX51D+Z': 16345, 'ZM 0951500Z120DX51D': 16346, 'ZM 2001500ZM120DX51': 16347, 'ZM 90 +EASY FILM E-0,5 MM': 16348, 'ZM 90 -0,5 MM': 16349, 'ZM000NA100000070001': 16350, 'ZM000NA12500070001': 16351, 'ZM120 + EASY FILM E -0,5 MM': 16352, 'ZM120 -0,5 MM': 16353, 'ZM310 S450 1305 X 1.000': 16354, 'ZM310 ZM430 farmy solarne': 16355, 'ZP201NA12500100003': 16356, 'ZP201NA15080100001': 16357, 'ZP605NA12500050001': 16358, 'ZP605NA15000070001': 16359, 'ZP716NA12500050001': 16360, 'ZP716NA12500060LAT': 16361, 'ZP716NA12500080LAT': 16362, 'ZP735NA10540070001': 16363, 'ZP735NA11960070001': 16364, 'ZP735NA12500100004': 16365, 'ZP735NA15000070001': 16366, 'ZP735NA15000080002': 16367, 'ZP735NA15000100002': 16368, 'ZP902NA12500080009': 16369, 'ZP903NA1000005500002': 16370, 'ZP903NA10000055001': 16371, 'ZP903NA10690055001': 16372, 'ZP903NA11940070001': 16373, 'ZP903NA12000070001': 16374, 'ZP903NA12500055001': 16375, 'ZP903NA12500100002': 16376, 'ZP903NA12500100003': 16377, 'ZP903NA15000055001': 16378, 'ZP903NA15000100001': 16379, 'ZP905NA09800100001': 16380, 'ZP905NA12500080001': 16381, 'ZP905NA13730045002': 16382, 'ZP905NA13730045003': 16383, 'ZP905NA15000080001': 16384, 'ZP906NA11000150001': 16385, 'ZP906NA12540150001': 16386, 'ZP906NA14500045001': 16387, 'ZP906NA15090045003': 16388, 'ZP907NA08400080001': 16389, 'ZP910NA12500080001': 16390, 'ZP910NA15000060001': 16391, 'ZPAMSNA08050080001': 16392, 'ZPAMSNA08400070001': 16393, 'ZPAMSNA08400080001': 16394, 'ZPAMSNA09000080001': 16395, 'ZPAMSNA09700080001': 16396, 'ZPAMSNA15040100001': 16397, 'ZPB02NA10000100001': 16398, 'ZPB02NA12500080001': 16399, 'ZPB02NA12500080003': 16400, 'ZPB02NA12500100001': 16401, 'ZPB02NA12500150001': 16402, 'ZPB02NA15000080001': 16403, 'ZPB02NA15000100001': 16404, 'ZPB11NA12500080001': 16405, 'ZPB21NA12500100001': 16406, 'ZPB21NA15000060001': 16407, 'ZPB21NA15000100001': 16408, 'ZPB4XNA12500120001': 16409, 'ZPB4XNA15000100001': 16410, 'ZPB91NA13730045001': 16411, 'ZPB91NA15090045001': 16412, 'ZPB91NA15090045002': 16413, 'ZPBAVNA08340060001': 16414, 'ZPBAVNA08340070001': 16415, 'ZPBAVNA08510045001': 16416, 'ZPBAVNA09360060001': 16417, 'ZPBAVNA09440070001': 16418, 'ZPBAVNA09510045001': 16419, 'ZPBAVNA10360060001': 16420, 'ZPBAVNA10440060001': 16421, 'ZPBAVNA10440070001': 16422, 'ZPBAVNA10450070001': 16423, 'ZPBAVNA10510045001': 16424, 'ZPBAVNA11000100001': 16425, 'ZPBAVNA11200060001': 16426, 'ZPBAVNA11200070001': 16427, 'ZPBAVNA11960070001': 16428, 'ZPBAVNA12310070001': 16429, 'ZPBAVNA13850070001': 16430, 'ZPBAVNA13850070002': 16431, 'ZPBAVNA13850120001': 16432, 'ZPBAVNA13910060001': 16433, 'ZPBAVNA15000070001': 16434, 'ZPBDWNA08800043001': 16435, 'ZPBDWNA10100043001': 16436, 'ZPBDWNA10300043001': 16437, 'ZPBDWNA11100043001': 16438, 'ZPBDWNA11160043001': 16439, 'ZPBDWNA14660043001': 16440, 'ZPBDWNA15000043001': 16441, 'ZPBGENA12160050001': 16442, 'ZPBGRNA10000060002': 16443, 'ZPBGRNA10000060LAT': 16444, 'ZPBGRNA10000080002': 16445, 'ZPBGRNA10000080LAT': 16446, 'ZPBGRNA10000100001': 16447, 'ZPBGRNA10000125001': 16448, 'ZPBGRNA10000150001': 16449, 'ZPBGRNA10080080001': 16450, 'ZPBGRNA12500050002': 16451, 'ZPBGRNA12500050012': 16452, 'ZPBGRNA12500055001': 16453, 'ZPBGRNA12500060002': 16454, 'ZPBGRNA12500060LAT': 16455, 'ZPBGRNA12500070001': 16456, 'ZPBGRNA12500080001': 16457, 'ZPBGRNA12500080016': 16458, 'ZPBGRNA12500080LAT': 16459, 'ZPBGRNA12500100001': 16460, 'ZPBGRNA12500125001': 16461, 'ZPBGRNA12500150001': 16462, 'ZPBGRNA13500070001': 16463, 'ZPBGRNA13700080001': 16464, 'ZPBGRNA15000050001': 16465, 'ZPBGRNA15000060001': 16466, 'ZPBGRNA15000060LAT': 16467, 'ZPBGRNA15000070001': 16468, 'ZPBGRNA15000070LAT': 16469, 'ZPBGRNA15000080001': 16470, 'ZPBGRNA15000080LAT': 16471, 'ZPBGRNA15000100001': 16472, 'ZPBISNA10000068001': 16473, 'ZPBLUNA12600045001': 16474, 'ZPBLUNA15000060002': 16475, 'ZPBLUNA15000150001': 16476, 'ZPBP1NA14930045001': 16477, 'ZPCOMNA13730045001': 16478, 'ZPCOMNA15090045001': 16479, 'ZPEIGNA10440060001': 16480, 'ZPMGDNA12160180001': 16481, 'ZPNELNA12200045002': 16482, 'ZPNELNA12500045001': 16483, 'ZPTEMNA10000055005': 16484, 'ZPTEMNA10000060001': 16485, 'ZPTEMNA10000060004': 16486, 'ZPTEMNA12500080LAT': 16487, 'ZPTEMNA12500150003': 16488, 'ZPTEMNA14900050001': 16489, 'ZPTEMNA15000060LAT': 16490, 'ZPTEMNA15000080LAT': 16491, 'ZRP101017001': 16492, 'ZV 0451000Z100C17/2': 16493, 'ZV 0451250Z100C17/2': 16494, 'ZV 0451320Z100DW': 16495, 'ZV 0501165Z100BCOX4': 16496, 'ZV 0600940Z100C1RW': 16497, 'ZV 0601000Z100C17/2': 16498, 'ZV 0601000Z100C73': 16499, 'ZV 0601040Z100C1RW': 16500, 'ZV 0601040Z100DX51IC': 16501, 'ZV 0601125Z100C1RW': 16502, 'ZV 0601250Z100010': 16503, 'ZV 0601250Z1001013.': 16504, 'ZV 0601250Z100C17/2': 16505, 'ZV 0601250Z100C73': 16506, 'ZV 0601250Z100C73.': 16507, 'ZV 0601250Z100C73/2': 16508, 'ZV 0601250Z100DX51TM': 16509, 'ZV 0601500Z100010': 16510, 'ZV 0601500Z100C73': 16511, 'ZV 0601500Z140R7035': 16512, 'ZV 0700950Z100C1RW': 16513, 'ZV 0701050Z100C1RW': 16514, 'ZV 0701125Z100C1RW': 16515, 'ZV 0701200Z100C1RW': 16516, 'ZV 0701200Z100DX51IC': 16517, 'ZV 0701235Z000RAL91': 16518, 'ZV 0701235Z100DX51D': 16519, 'ZV 0701235Z100RAL91': 16520, 'ZV 0701310Z100C1RW': 16521, 'ZV 0701320Z100T81': 16522, 'ZV 0701390Z100C1RW': 16523, 'ZV 0701500Z100C1RW': 16524, 'ZV 0701500Z100DX51DW': 16525, 'ZV 0801000Z100C17/2': 16526, 'ZV 0801000Z100C73/2': 16527, 'ZV 0801250Z100C17/2': 16528, 'ZV 0801250Z100C73/2': 16529, 'ZV 0801250Z100R9005': 16530, 'ZV 0901500Z100T81': 16531, 'ZV 1001000Z140C21': 16532, 'ZV 1001250Z1009007': 16533, 'ZV 1001250Z100C21': 16534, 'ZV 1001250Z100C73/2': 16535, 'ZV 1001250Z100DX51PW': 16536, 'ZV 1001275Z100RAL91': 16537, 'ZV 1001500Z100010': 16538, 'ZV 1001500Z100R7035': 16539, 'ZV 1501100Z100DX51D': 16540, 'ZV 1501275Z100RAL91': 16541, 'ZV 1800978Z100C17': 16542, 'ZV 2000900Z100C17/2': 16543, 'ZV060001': 16544, 'Zapytanie CR rurki': 16545, 'Zapytanie GW S235J0W': 16546, 'Zapytanie PK S320 x1500 25um 309t.': 16547, 'kregi szerokie CK': 16548, 'serwistal': 16549, 'trial Cornilleau': 16550, 'typical basket': 16551, 'typical item': 16552, 'unknown': 16553, 'update': 16554, 'zap. export': 16555, 'zapytanie CZB': 16556, 'zapytanie KK 06.11.19': 16557, 'zapytanie KP': 16558, 'zapytanie RK': 16559, 'zapytanie TL': 16560, 'zapytanie ofertowe 013-10-2018-US-Serwi': 16561, 'zapytanie ofertowe 043-05-2019-US-Serwis': 16562, 'zapytannie TH': 16563}\n"
     ]
    },
    {
     "name": "stderr",
     "output_type": "stream",
     "text": [
      "C:\\Users\\Admin\\AppData\\Local\\Temp\\ipykernel_8016\\2276621198.py:7: FutureWarning: Setting an item of incompatible dtype is deprecated and will raise in a future error of pandas. Value 'unknown' has dtype incompatible with float64, please explicitly cast to a compatible dtype first.\n",
      "  df[column].fillna('unknown', inplace=True)  # Ensure NaNs are replaced consistently\n"
     ]
    },
    {
     "name": "stdout",
     "output_type": "stream",
     "text": [
      "Encoded Mapping for customer:\n",
      "{'12458.0': 0, '2147483647.0': 1, '30147616.0': 2, '30147620.0': 3, '30147722.0': 4, '30147800.0': 5, '30147802.0': 6, '30147848.0': 7, '30148084.0': 8, '30148135.0': 9, '30148347.0': 10, '30148496.0': 11, '30148586.0': 12, '30148629.0': 13, '30148743.0': 14, '30148806.0': 15, '30148822.0': 16, '30148826.0': 17, '30148849.0': 18, '30148854.0': 19, '30148901.0': 20, '30148907.0': 21, '30149080.0': 22, '30149089.0': 23, '30149105.0': 24, '30149129.0': 25, '30149413.0': 26, '30149530.0': 27, '30150133.0': 28, '30152233.0': 29, '30152417.0': 30, '30152469.0': 31, '30152592.0': 32, '30153176.0': 33, '30153509.0': 34, '30153510.0': 35, '30153739.0': 36, '30153767.0': 37, '30153920.0': 38, '30153956.0': 39, '30153963.0': 40, '30154020.0': 41, '30154025.0': 42, '30155782.0': 43, '30155824.0': 44, '30155835.0': 45, '30155926.0': 46, '30155929.0': 47, '30156053.0': 48, '30156170.0': 49, '30156184.0': 50, '30156261.0': 51, '30156308.0': 52, '30156325.0': 53, '30156496.0': 54, '30156795.0': 55, '30156842.0': 56, '30156952.0': 57, '30157033.0': 58, '30157092.0': 59, '30157104.0': 60, '30157111.0': 61, '30157211.0': 62, '30157511.0': 63, '30157776.0': 64, '30157862.0': 65, '30157952.0': 66, '30158020.0': 67, '30158105.0': 68, '30158107.0': 69, '30158133.0': 70, '30158213.0': 71, '30158293.0': 72, '30158305.0': 73, '30159881.0': 74, '30159894.0': 75, '30160001.0': 76, '30160005.0': 77, '30160016.0': 78, '30160064.0': 79, '30160068.0': 80, '30160113.0': 81, '30160346.0': 82, '30160373.0': 83, '30160375.0': 84, '30160378.0': 85, '30160683.0': 86, '30160788.0': 87, '30160839.0': 88, '30160907.0': 89, '30161088.0': 90, '30161189.0': 91, '30161289.0': 92, '30161350.0': 93, '30161444.0': 94, '30161450.0': 95, '30161536.0': 96, '30161540.0': 97, '30161559.0': 98, '30161656.0': 99, '30161856.0': 100, '30161943.0': 101, '30162058.0': 102, '30162074.0': 103, '30162122.0': 104, '30162145.0': 105, '30162161.0': 106, '30162304.0': 107, '30162329.0': 108, '30162405.0': 109, '30163992.0': 110, '30164100.0': 111, '30164123.0': 112, '30164209.0': 113, '30164235.0': 114, '30164261.0': 115, '30164377.0': 116, '30164464.0': 117, '30164472.0': 118, '30164616.0': 119, '30164630.0': 120, '30164673.0': 121, '30164695.0': 122, '30164696.0': 123, '30164721.0': 124, '30164728.0': 125, '30164779.0': 126, '30164964.0': 127, '30164965.0': 128, '30165029.0': 129, '30165222.0': 130, '30165449.0': 131, '30165489.0': 132, '30165508.0': 133, '30165526.0': 134, '30165529.0': 135, '30165658.0': 136, '30165703.0': 137, '30165716.0': 138, '30165751.0': 139, '30165984.0': 140, '30165992.0': 141, '30166011.0': 142, '30166282.0': 143, '30166288.0': 144, '30166304.0': 145, '30166496.0': 146, '30166502.0': 147, '30166521.0': 148, '30196870.0': 149, '30196884.0': 150, '30196886.0': 151, '30196891.0': 152, '30196960.0': 153, '30196997.0': 154, '30197000.0': 155, '30197016.0': 156, '30197028.0': 157, '30197144.0': 158, '30197193.0': 159, '30197204.0': 160, '30197225.0': 161, '30197265.0': 162, '30197271.0': 163, '30197382.0': 164, '30197392.0': 165, '30197397.0': 166, '30197399.0': 167, '30197445.0': 168, '30197457.0': 169, '30197464.0': 170, '30197482.0': 171, '30197488.0': 172, '30197494.0': 173, '30197496.0': 174, '30197505.0': 175, '30197514.0': 176, '30197529.0': 177, '30197559.0': 178, '30197636.0': 179, '30197770.0': 180, '30197785.0': 181, '30197813.0': 182, '30197899.0': 183, '30197978.0': 184, '30197989.0': 185, '30198007.0': 186, '30198074.0': 187, '30198152.0': 188, '30198267.0': 189, '30198298.0': 190, '30198328.0': 191, '30198408.0': 192, '30198416.0': 193, '30198423.0': 194, '30198485.0': 195, '30198507.0': 196, '30198577.0': 197, '30198586.0': 198, '30198657.0': 199, '30198676.0': 200, '30198682.0': 201, '30198740.0': 202, '30198761.0': 203, '30198776.0': 204, '30198779.0': 205, '30198807.0': 206, '30198808.0': 207, '30198820.0': 208, '30198826.0': 209, '30198838.0': 210, '30198841.0': 211, '30199045.0': 212, '30199048.0': 213, '30199065.0': 214, '30199168.0': 215, '30199169.0': 216, '30199179.0': 217, '30199195.0': 218, '30199248.0': 219, '30199259.0': 220, '30199269.0': 221, '30199273.0': 222, '30199280.0': 223, '30200854.0': 224, '30200964.0': 225, '30201046.0': 226, '30201096.0': 227, '30201113.0': 228, '30201120.0': 229, '30201146.0': 230, '30201223.0': 231, '30201243.0': 232, '30201306.0': 233, '30201322.0': 234, '30201336.0': 235, '30201369.0': 236, '30201370.0': 237, '30201386.0': 238, '30201393.0': 239, '30201478.0': 240, '30201494.0': 241, '30201540.0': 242, '30201547.0': 243, '30201560.0': 244, '30201589.0': 245, '30201606.0': 246, '30201633.0': 247, '30201735.0': 248, '30201744.0': 249, '30201745.0': 250, '30201748.0': 251, '30201752.0': 252, '30201846.0': 253, '30201848.0': 254, '30201860.0': 255, '30201866.0': 256, '30201881.0': 257, '30201911.0': 258, '30201912.0': 259, '30201914.0': 260, '30202053.0': 261, '30202068.0': 262, '30202102.0': 263, '30202105.0': 264, '30202168.0': 265, '30202260.0': 266, '30202312.0': 267, '30202361.0': 268, '30202362.0': 269, '30202369.0': 270, '30202377.0': 271, '30202391.0': 272, '30202501.0': 273, '30202505.0': 274, '30202512.0': 275, '30202517.0': 276, '30202633.0': 277, '30202645.0': 278, '30202665.0': 279, '30202773.0': 280, '30202775.0': 281, '30202778.0': 282, '30202856.0': 283, '30202869.0': 284, '30202870.0': 285, '30202916.0': 286, '30202932.0': 287, '30202934.0': 288, '30202938.0': 289, '30203029.0': 290, '30203034.0': 291, '30203072.0': 292, '30203105.0': 293, '30203120.0': 294, '30203142.0': 295, '30203189.0': 296, '30203192.0': 297, '30203268.0': 298, '30203270.0': 299, '30203273.0': 300, '30203336.0': 301, '30203360.0': 302, '30203366.0': 303, '30203386.0': 304, '30204967.0': 305, '30205061.0': 306, '30205078.0': 307, '30205157.0': 308, '30205158.0': 309, '30205174.0': 310, '30205190.0': 311, '30205242.0': 312, '30205312.0': 313, '30205321.0': 314, '30205376.0': 315, '30205384.0': 316, '30205399.0': 317, '30205434.0': 318, '30205489.0': 319, '30205568.0': 320, '30205638.0': 321, '30205657.0': 322, '30205658.0': 323, '30205681.0': 324, '30205704.0': 325, '30205728.0': 326, '30205732.0': 327, '30205739.0': 328, '30205825.0': 329, '30205832.0': 330, '30205845.0': 331, '30205846.0': 332, '30205847.0': 333, '30205888.0': 334, '30205915.0': 335, '30205925.0': 336, '30205928.0': 337, '30205929.0': 338, '30205952.0': 339, '30205963.0': 340, '30205973.0': 341, '30205990.0': 342, '30206006.0': 343, '30206167.0': 344, '30206182.0': 345, '30206197.0': 346, '30206203.0': 347, '30206229.0': 348, '30206248.0': 349, '30206401.0': 350, '30206504.0': 351, '30206512.0': 352, '30206677.0': 353, '30206736.0': 354, '30206744.0': 355, '30206752.0': 356, '30206951.0': 357, '30207014.0': 358, '30207233.0': 359, '30207273.0': 360, '30207425.0': 361, '30207447.0': 362, '30207448.0': 363, '30209173.0': 364, '30209290.0': 365, '30209332.0': 366, '30209509.0': 367, '30209521.0': 368, '30209544.0': 369, '30209578.0': 370, '30209675.0': 371, '30209681.0': 372, '30209745.0': 373, '30209784.0': 374, '30209814.0': 375, '30209818.0': 376, '30209830.0': 377, '30209985.0': 378, '30210032.0': 379, '30210073.0': 380, '30210087.0': 381, '30210295.0': 382, '30210330.0': 383, '30210549.0': 384, '30210704.0': 385, '30210753.0': 386, '30210839.0': 387, '30210971.0': 388, '30211030.0': 389, '30211047.0': 390, '30211048.0': 391, '30211222.0': 392, '30211223.0': 393, '30211296.0': 394, '30211338.0': 395, '30211350.0': 396, '30211558.0': 397, '30211560.0': 398, '30213626.0': 399, '30213686.0': 400, '30213690.0': 401, '30213691.0': 402, '30214118.0': 403, '30214608.0': 404, '30214640.0': 405, '30214647.0': 406, '30214651.0': 407, '30214705.0': 408, '30214872.0': 409, '30215140.0': 410, '30217269.0': 411, '30217368.0': 412, '30217445.0': 413, '30217477.0': 414, '30217497.0': 415, '30217504.0': 416, '30217604.0': 417, '30217607.0': 418, '30217974.0': 419, '30217988.0': 420, '30217995.0': 421, '30218006.0': 422, '30218009.0': 423, '30218033.0': 424, '30218233.0': 425, '30218244.0': 426, '30218442.0': 427, '30218452.0': 428, '30218453.0': 429, '30218502.0': 430, '30218650.0': 431, '30218705.0': 432, '30218709.0': 433, '30218743.0': 434, '30218794.0': 435, '30218904.0': 436, '30218980.0': 437, '30219153.0': 438, '30219232.0': 439, '30219402.0': 440, '30219717.0': 441, '30219767.0': 442, '30221607.0': 443, '30221611.0': 444, '30221720.0': 445, '30221865.0': 446, '30221960.0': 447, '30222377.0': 448, '30222470.0': 449, '30222741.0': 450, '30222746.0': 451, '30222854.0': 452, '30222982.0': 453, '30222987.0': 454, '30222999.0': 455, '30223001.0': 456, '30223158.0': 457, '30223319.0': 458, '30223382.0': 459, '30223403.0': 460, '30223584.0': 461, '30223670.0': 462, '30223867.0': 463, '30225445.0': 464, '30225461.0': 465, '30225558.0': 466, '30225640.0': 467, '30225641.0': 468, '30225652.0': 469, '30225893.0': 470, '30226059.0': 471, '30226884.0': 472, '30226969.0': 473, '30226992.0': 474, '30227088.0': 475, '30227334.0': 476, '30227446.0': 477, '30227447.0': 478, '30227497.0': 479, '30227513.0': 480, '30227654.0': 481, '30227718.0': 482, '30227866.0': 483, '30229528.0': 484, '30229701.0': 485, '30229766.0': 486, '30229786.0': 487, '30229958.0': 488, '30230059.0': 489, '30230164.0': 490, '30230165.0': 491, '30230282.0': 492, '30230315.0': 493, '30230331.0': 494, '30230560.0': 495, '30230583.0': 496, '30230763.0': 497, '30230775.0': 498, '30230919.0': 499, '30230920.0': 500, '30230922.0': 501, '30231018.0': 502, '30231333.0': 503, '30231432.0': 504, '30231860.0': 505, '30232042.0': 506, '30232058.0': 507, '30233801.0': 508, '30234009.0': 509, '30234070.0': 510, '30234084.0': 511, '30234136.0': 512, '30234265.0': 513, '30234602.0': 514, '30234625.0': 515, '30235401.0': 516, '30235451.0': 517, '30235584.0': 518, '30235673.0': 519, '30235865.0': 520, '30235883.0': 521, '30235913.0': 522, '30236038.0': 523, '30264704.0': 524, '30264784.0': 525, '30264793.0': 526, '30266564.0': 527, '30266576.0': 528, '30266602.0': 529, '30266629.0': 530, '30266641.0': 531, '30266859.0': 532, '30266881.0': 533, '30266897.0': 534, '30266932.0': 535, '30267017.0': 536, '30267018.0': 537, '30267081.0': 538, '30267096.0': 539, '30267125.0': 540, '30267173.0': 541, '30267177.0': 542, '30267268.0': 543, '30267337.0': 544, '30267349.0': 545, '30267367.0': 546, '30267377.0': 547, '30267441.0': 548, '30267449.0': 549, '30267627.0': 550, '30267637.0': 551, '30267668.0': 552, '30267707.0': 553, '30267863.0': 554, '30268176.0': 555, '30268215.0': 556, '30268353.0': 557, '30268369.0': 558, '30268384.0': 559, '30268420.0': 560, '30268656.0': 561, '30268679.0': 562, '30268696.0': 563, '30268729.0': 564, '30268897.0': 565, '30268901.0': 566, '30270496.0': 567, '30270596.0': 568, '30270762.0': 569, '30270777.0': 570, '30270857.0': 571, '30270967.0': 572, '30270976.0': 573, '30270980.0': 574, '30271120.0': 575, '30271174.0': 576, '30271241.0': 577, '30271252.0': 578, '30271273.0': 579, '30271284.0': 580, '30271289.0': 581, '30271291.0': 582, '30271380.0': 583, '30271383.0': 584, '30271386.0': 585, '30271444.0': 586, '30271445.0': 587, '30271448.0': 588, '30271466.0': 589, '30271497.0': 590, '30271498.0': 591, '30271509.0': 592, '30271510.0': 593, '30271624.0': 594, '30271641.0': 595, '30271717.0': 596, '30271764.0': 597, '30271798.0': 598, '30271881.0': 599, '30271892.0': 600, '30272007.0': 601, '30272132.0': 602, '30272135.0': 603, '30272148.0': 604, '30272155.0': 605, '30272192.0': 606, '30272198.0': 607, '30272233.0': 608, '30272234.0': 609, '30272260.0': 610, '30272262.0': 611, '30272289.0': 612, '30272384.0': 613, '30272391.0': 614, '30272395.0': 615, '30272487.0': 616, '30272500.0': 617, '30272503.0': 618, '30272571.0': 619, '30272650.0': 620, '30272666.0': 621, '30272745.0': 622, '30272768.0': 623, '30272821.0': 624, '30272919.0': 625, '30275200.0': 626, '30275216.0': 627, '30275280.0': 628, '30275329.0': 629, '30275480.0': 630, '30275723.0': 631, '30275784.0': 632, '30275880.0': 633, '30276326.0': 634, '30276343.0': 635, '30276344.0': 636, '30276505.0': 637, '30276619.0': 638, '30278661.0': 639, '30278678.0': 640, '30278792.0': 641, '30278965.0': 642, '30279156.0': 643, '30279201.0': 644, '30279382.0': 645, '30279672.0': 646, '30279705.0': 647, '30279818.0': 648, '30280080.0': 649, '30280090.0': 650, '30280155.0': 651, '30280170.0': 652, '30280196.0': 653, '30280416.0': 654, '30280423.0': 655, '30280641.0': 656, '30280697.0': 657, '30280746.0': 658, '30280848.0': 659, '30280854.0': 660, '30280918.0': 661, '30280961.0': 662, '30280970.0': 663, '30281159.0': 664, '30281163.0': 665, '30282753.0': 666, '30282773.0': 667, '30282789.0': 668, '30282890.0': 669, '30282949.0': 670, '30282985.0': 671, '30283144.0': 672, '30283270.0': 673, '30283495.0': 674, '30283543.0': 675, '30283556.0': 676, '30283754.0': 677, '30283830.0': 678, '30283915.0': 679, '30284057.0': 680, '30284064.0': 681, '30284073.0': 682, '30284251.0': 683, '30284310.0': 684, '30284437.0': 685, '30284569.0': 686, '30284689.0': 687, '30284694.0': 688, '30284855.0': 689, '30285108.0': 690, '30285111.0': 691, '30285248.0': 692, '30285306.0': 693, '30286858.0': 694, '30286891.0': 695, '30287088.0': 696, '30287099.0': 697, '30287258.0': 698, '30287304.0': 699, '30287381.0': 700, '30287910.0': 701, '30288101.0': 702, '30288168.0': 703, '30288277.0': 704, '30288320.0': 705, '30288326.0': 706, '30288377.0': 707, '30288390.0': 708, '30288392.0': 709, '30288593.0': 710, '30288790.0': 711, '30288832.0': 712, '30288874.0': 713, '30288891.0': 714, '30289088.0': 715, '30289098.0': 716, '30289108.0': 717, '30290964.0': 718, '30291184.0': 719, '30291449.0': 720, '30291668.0': 721, '30291680.0': 722, '30291686.0': 723, '30291690.0': 724, '30291961.0': 725, '30292171.0': 726, '30292278.0': 727, '30292369.0': 728, '30292440.0': 729, '30292441.0': 730, '30292464.0': 731, '30292608.0': 732, '30292678.0': 733, '30292694.0': 734, '30292762.0': 735, '30292795.0': 736, '30292868.0': 737, '30292933.0': 738, '30292949.0': 739, '30293258.0': 740, '30293300.0': 741, '30293493.0': 742, '30295288.0': 743, '30295447.0': 744, '30295488.0': 745, '30295498.0': 746, '30295512.0': 747, '30295541.0': 748, '30295600.0': 749, '30295605.0': 750, '30295697.0': 751, '30295818.0': 752, '30295830.0': 753, '30295844.0': 754, '30295947.0': 755, '30296071.0': 756, '30296119.0': 757, '30296326.0': 758, '30296635.0': 759, '30297082.0': 760, '30297111.0': 761, '30297241.0': 762, '30297329.0': 763, '30297495.0': 764, '30299175.0': 765, '30299270.0': 766, '30299338.0': 767, '30299349.0': 768, '30299398.0': 769, '30299670.0': 770, '30299911.0': 771, '30299929.0': 772, '30299944.0': 773, '30299962.0': 774, '30300049.0': 775, '30300170.0': 776, '30300202.0': 777, '30300391.0': 778, '30300422.0': 779, '30300423.0': 780, '30300452.0': 781, '30300629.0': 782, '30300649.0': 783, '30300710.0': 784, '30301062.0': 785, '30301129.0': 786, '30301321.0': 787, '30301383.0': 788, '30301412.0': 789, '30301433.0': 790, '30301590.0': 791, '30327942.0': 792, '30328008.0': 793, '30328266.0': 794, '30328272.0': 795, '30328608.0': 796, '30328791.0': 797, '30328875.0': 798, '30329062.0': 799, '30329143.0': 800, '30329286.0': 801, '30329318.0': 802, '30329536.0': 803, '30329591.0': 804, '30329606.0': 805, '30329897.0': 806, '30329913.0': 807, '30329989.0': 808, '30329993.0': 809, '30330056.0': 810, '30330089.0': 811, '30330352.0': 812, '30332041.0': 813, '30332186.0': 814, '30332305.0': 815, '30332407.0': 816, '30332472.0': 817, '30332474.0': 818, '30332631.0': 819, '30332676.0': 820, '30332693.0': 821, '30332881.0': 822, '30332953.0': 823, '30332960.0': 824, '30332976.0': 825, '30333056.0': 826, '30333141.0': 827, '30333168.0': 828, '30333207.0': 829, '30333217.0': 830, '30333322.0': 831, '30333845.0': 832, '30333927.0': 833, '30333936.0': 834, '30333962.0': 835, '30334107.0': 836, '30334154.0': 837, '30334169.0': 838, '30334203.0': 839, '30334215.0': 840, '30336052.0': 841, '30336057.0': 842, '30336279.0': 843, '30336720.0': 844, '30336743.0': 845, '30336761.0': 846, '30336920.0': 847, '30336966.0': 848, '30336971.0': 849, '30337672.0': 850, '30337781.0': 851, '30337802.0': 852, '30337944.0': 853, '30337991.0': 854, '30338025.0': 855, '30338042.0': 856, '30338176.0': 857, '30338330.0': 858, '30338528.0': 859, '30338548.0': 860, '30340120.0': 861, '30340310.0': 862, '30340656.0': 863, '30340816.0': 864, '30340855.0': 865, '30341009.0': 866, '30341065.0': 867, '30341127.0': 868, '30341157.0': 869, '30341254.0': 870, '30341380.0': 871, '30341417.0': 872, '30341428.0': 873, '30341432.0': 874, '30341435.0': 875, '30341512.0': 876, '30341525.0': 877, '30341568.0': 878, '30341590.0': 879, '30341617.0': 880, '30341638.0': 881, '30341656.0': 882, '30341671.0': 883, '30341688.0': 884, '30341846.0': 885, '30341856.0': 886, '30341862.0': 887, '30341921.0': 888, '30341927.0': 889, '30341940.0': 890, '30342017.0': 891, '30342090.0': 892, '30342118.0': 893, '30342137.0': 894, '30342150.0': 895, '30342177.0': 896, '30342192.0': 897, '30342279.0': 898, '30342417.0': 899, '30342432.0': 900, '30342537.0': 901, '30342649.0': 902, '30344219.0': 903, '30344228.0': 904, '30344235.0': 905, '30344240.0': 906, '30344244.0': 907, '30344406.0': 908, '30344408.0': 909, '30344422.0': 910, '30344676.0': 911, '30344725.0': 912, '30344726.0': 913, '30344905.0': 914, '30344937.0': 915, '30344971.0': 916, '30345009.0': 917, '30345351.0': 918, '30345370.0': 919, '30345433.0': 920, '30345456.0': 921, '30345494.0': 922, '30345684.0': 923, '30345696.0': 924, '30345717.0': 925, '30345735.0': 926, '30345767.0': 927, '30345783.0': 928, '30346185.0': 929, '30346196.0': 930, '30346201.0': 931, '30346297.0': 932, '30346485.0': 933, '30346534.0': 934, '30346628.0': 935, '30346629.0': 936, '30346730.0': 937, '30348439.0': 938, '30348538.0': 939, '30348672.0': 940, '30348698.0': 941, '30348746.0': 942, '30348747.0': 943, '30348788.0': 944, '30349000.0': 945, '30349079.0': 946, '30349114.0': 947, '30349271.0': 948, '30349286.0': 949, '30349303.0': 950, '30349328.0': 951, '30349338.0': 952, '30349352.0': 953, '30349515.0': 954, '30349545.0': 955, '30349574.0': 956, '30349579.0': 957, '30349625.0': 958, '30350017.0': 959, '30350036.0': 960, '30350038.0': 961, '30350104.0': 962, '30350135.0': 963, '30350235.0': 964, '30350294.0': 965, '30350537.0': 966, '30350560.0': 967, '30350564.0': 968, '30350566.0': 969, '30350630.0': 970, '30350826.0': 971, '30352577.0': 972, '30352779.0': 973, '30352936.0': 974, '30353112.0': 975, '30353306.0': 976, '30353464.0': 977, '30353610.0': 978, '30353703.0': 979, '30353798.0': 980, '30353818.0': 981, '30353927.0': 982, '30353979.0': 983, '30354048.0': 984, '30354074.0': 985, '30354128.0': 986, '30354136.0': 987, '30354176.0': 988, '30354180.0': 989, '30354181.0': 990, '30354186.0': 991, '30354197.0': 992, '30354198.0': 993, '30354200.0': 994, '30354217.0': 995, '30354218.0': 996, '30354376.0': 997, '30354392.0': 998, '30354406.0': 999, '30354470.0': 1000, '30354480.0': 1001, '30354487.0': 1002, '30354649.0': 1003, '30354711.0': 1004, '30354939.0': 1005, '30356490.0': 1006, '30356501.0': 1007, '30356502.0': 1008, '30356522.0': 1009, '30356538.0': 1010, '30356624.0': 1011, '30356683.0': 1012, '30356697.0': 1013, '30356715.0': 1014, '30356790.0': 1015, '30356793.0': 1016, '30356954.0': 1017, '30356969.0': 1018, '30357029.0': 1019, '30357129.0': 1020, '30357142.0': 1021, '30357143.0': 1022, '30357145.0': 1023, '30357253.0': 1024, '30357257.0': 1025, '30357258.0': 1026, '30357385.0': 1027, '30357456.0': 1028, '30357481.0': 1029, '30357496.0': 1030, '30357498.0': 1031, '30393345.0': 1032, '30393361.0': 1033, '30393401.0': 1034, '30393574.0': 1035, '30393605.0': 1036, '30393641.0': 1037, '30393818.0': 1038, '30393833.0': 1039, '30393881.0': 1040, '30393883.0': 1041, '30394008.0': 1042, '30394057.0': 1043, '30394097.0': 1044, '30394106.0': 1045, '30394113.0': 1046, '30394116.0': 1047, '30394121.0': 1048, '30394328.0': 1049, '30394336.0': 1050, '30394353.0': 1051, '30394378.0': 1052, '30394392.0': 1053, '30394409.0': 1054, '30394585.0': 1055, '30394629.0': 1056, '30394631.0': 1057, '30394753.0': 1058, '30394759.0': 1059, '30394817.0': 1060, '30394913.0': 1061, '30394923.0': 1062, '30395031.0': 1063, '30395094.0': 1064, '30395131.0': 1065, '30395425.0': 1066, '30395649.0': 1067, '30395689.0': 1068, '30395706.0': 1069, '30395861.0': 1070, '30397446.0': 1071, '30397478.0': 1072, '30397585.0': 1073, '30397632.0': 1074, '30397719.0': 1075, '30397849.0': 1076, '30397926.0': 1077, '30397927.0': 1078, '30398080.0': 1079, '30398091.0': 1080, '30398148.0': 1081, '30398153.0': 1082, '30398170.0': 1083, '30398176.0': 1084, '30398230.0': 1085, '30398602.0': 1086, '30398603.0': 1087, '30398934.0': 1088, '30398981.0': 1089, '30399623.0': 1090, '30399734.0': 1091, '30399736.0': 1092, '30399739.0': 1093, '30399766.0': 1094, '30399883.0': 1095, '30399897.0': 1096, '30399988.0': 1097, '30401748.0': 1098, '30401777.0': 1099, '30401940.0': 1100, '30401985.0': 1101, '30402024.0': 1102, '30402054.0': 1103, '30402201.0': 1104, '30402346.0': 1105, '30402363.0': 1106, '30402535.0': 1107, '30402545.0': 1108, '30402550.0': 1109, '30402585.0': 1110, '30402792.0': 1111, '30402966.0': 1112, '30402969.0': 1113, '30402971.0': 1114, '30403019.0': 1115, '30403047.0': 1116, '30403206.0': 1117, '30403209.0': 1118, '30403320.0': 1119, '30403335.0': 1120, '30403366.0': 1121, '30403368.0': 1122, '30403536.0': 1123, '30403562.0': 1124, '30403563.0': 1125, '30403578.0': 1126, '30403833.0': 1127, '30403847.0': 1128, '30403879.0': 1129, '30405904.0': 1130, '30405913.0': 1131, '30406097.0': 1132, '30406112.0': 1133, '30406116.0': 1134, '30406151.0': 1135, '30406183.0': 1136, '30406199.0': 1137, '30406343.0': 1138, '30406346.0': 1139, '30406347.0': 1140, '30406361.0': 1141, '30406384.0': 1142, '30406417.0': 1143, '30406438.0': 1144, '30406442.0': 1145, '30406628.0': 1146, '30406632.0': 1147, '30406633.0': 1148, '30406649.0': 1149, '30407066.0': 1150, '30407146.0': 1151, '30407168.0': 1152, '30407177.0': 1153, '30407184.0': 1154, '30407192.0': 1155, '30407307.0': 1156, '30407380.0': 1157, '30407456.0': 1158, '30407472.0': 1159, '30407481.0': 1160, '30407482.0': 1161, '30407558.0': 1162, '30407624.0': 1163, '30407721.0': 1164, '30407931.0': 1165, '30407962.0': 1166, '30408166.0': 1167, '30408185.0': 1168, 'unknown': 1169}\n"
     ]
    }
   ],
   "source": [
    "from sklearn.preprocessing import LabelEncoder\n",
    "\n",
    "columns_to_encode = ['id', 'status', 'item type', 'product_ref','material_ref','customer']\n",
    "label_encoders = {}\n",
    "\n",
    "for column in columns_to_encode:\n",
    "    df[column].fillna('unknown', inplace=True)  # Ensure NaNs are replaced consistently\n",
    "    df[column] = df[column].astype(str)  # Convert column to strings\n",
    "\n",
    "    label_encoders[column] = LabelEncoder()\n",
    "    df[column + '_encoded'] = label_encoders[column].fit_transform(df[column])\n",
    "\n",
    "    encoded_mapping = dict(zip(label_encoders[column].classes_, label_encoders[column].transform(label_encoders[column].classes_)))\n",
    "    print(f\"Encoded Mapping for {column}:\")\n",
    "    print(encoded_mapping)\n"
   ]
  },
  {
   "cell_type": "code",
   "execution_count": 35,
   "id": "bYCnTDKripAU",
   "metadata": {
    "colab": {
     "base_uri": "https://localhost:8080/"
    },
    "id": "bYCnTDKripAU",
    "outputId": "b24caac2-b3f1-4c79-8550-e8963379c04b"
   },
   "outputs": [
    {
     "data": {
      "text/plain": [
       "(0         167599\n",
       " 1          55577\n",
       " 2         159737\n",
       " 3         176555\n",
       " 4          55380\n",
       "            ...  \n",
       " 181668    157706\n",
       " 181669    116794\n",
       " 181670    103139\n",
       " 181671     87216\n",
       " 181672    122910\n",
       " Name: id_encoded, Length: 181673, dtype: int32,\n",
       " 0         7\n",
       " 1         7\n",
       " 2         7\n",
       " 3         7\n",
       " 4         7\n",
       "          ..\n",
       " 181668    7\n",
       " 181669    7\n",
       " 181670    7\n",
       " 181671    7\n",
       " 181672    7\n",
       " Name: status_encoded, Length: 181673, dtype: int32,\n",
       " 0         5\n",
       " 1         5\n",
       " 2         6\n",
       " 3         3\n",
       " 4         5\n",
       "          ..\n",
       " 181668    5\n",
       " 181669    5\n",
       " 181670    5\n",
       " 181671    5\n",
       " 181672    5\n",
       " Name: item type_encoded, Length: 181673, dtype: int32,\n",
       " 0         14\n",
       " 1         12\n",
       " 2         28\n",
       " 3         12\n",
       " 4         31\n",
       "           ..\n",
       " 181668     2\n",
       " 181669     2\n",
       " 181670     2\n",
       " 181671     2\n",
       " 181672     2\n",
       " Name: product_ref_encoded, Length: 181673, dtype: int32,\n",
       " 0         10445\n",
       " 1          1184\n",
       " 2         14749\n",
       " 3         10719\n",
       " 4          6976\n",
       "           ...  \n",
       " 181668     2004\n",
       " 181669     1966\n",
       " 181670     2200\n",
       " 181671     2037\n",
       " 181672     2258\n",
       " Name: material_ref_encoded, Length: 181673, dtype: int32)"
      ]
     },
     "execution_count": 35,
     "metadata": {},
     "output_type": "execute_result"
    }
   ],
   "source": [
    "df['id_encoded'],df['status_encoded'],df['item type_encoded'],df['product_ref_encoded'],df['material_ref_encoded']"
   ]
  },
  {
   "cell_type": "code",
   "execution_count": 36,
   "id": "RfQ2ZC8q5xHb",
   "metadata": {
    "id": "RfQ2ZC8q5xHb"
   },
   "outputs": [],
   "source": [
    "numeric_cols=df.select_dtypes(include=[np.number]).columns\n",
    "df[numeric_cols]=df[numeric_cols].fillna(df[numeric_cols].mean())"
   ]
  },
  {
   "cell_type": "code",
   "execution_count": 37,
   "id": "TUJMx2yl7hdL",
   "metadata": {
    "id": "TUJMx2yl7hdL"
   },
   "outputs": [],
   "source": [
    "non_numeric_cols=df.columns.difference(numeric_cols)\n",
    "df[non_numeric_cols]=df[non_numeric_cols].fillna(df.mode().iloc[0])"
   ]
  },
  {
   "cell_type": "code",
   "execution_count": 38,
   "id": "Ltn6njyu9ljf",
   "metadata": {
    "id": "Ltn6njyu9ljf"
   },
   "outputs": [],
   "source": [
    "df.fillna(0,inplace=True)"
   ]
  },
  {
   "cell_type": "markdown",
   "id": "_SpXagqnh3F8",
   "metadata": {
    "id": "_SpXagqnh3F8"
   },
   "source": []
  },
  {
   "cell_type": "code",
   "execution_count": 39,
   "id": "3e022efb",
   "metadata": {
    "colab": {
     "base_uri": "https://localhost:8080/"
    },
    "id": "3e022efb",
    "outputId": "9eea188d-2754-4abd-f707-55c168770d0d"
   },
   "outputs": [
    {
     "name": "stdout",
     "output_type": "stream",
     "text": [
      "id                      0\n",
      "item_date               0\n",
      "quantity tons           0\n",
      "customer                0\n",
      "country                 0\n",
      "status                  0\n",
      "item type               0\n",
      "application             0\n",
      "thickness               0\n",
      "width                   0\n",
      "material_ref            0\n",
      "product_ref             0\n",
      "delivery date           0\n",
      "selling_price           0\n",
      "id_encoded              0\n",
      "status_encoded          0\n",
      "item type_encoded       0\n",
      "product_ref_encoded     0\n",
      "material_ref_encoded    0\n",
      "customer_encoded        0\n",
      "dtype: int64\n"
     ]
    }
   ],
   "source": [
    "null_values = df.isnull()\n",
    "\n",
    "# Count total null values in each column\n",
    "total_null_per_column = null_values.sum()\n",
    "\n",
    "# Display the result\n",
    "print(total_null_per_column)"
   ]
  },
  {
   "cell_type": "code",
   "execution_count": 40,
   "id": "98e8c437",
   "metadata": {
    "colab": {
     "base_uri": "https://localhost:8080/"
    },
    "id": "98e8c437",
    "outputId": "9f5b143f-e149-46a1-ba8c-e2f4bd570793"
   },
   "outputs": [
    {
     "name": "stdout",
     "output_type": "stream",
     "text": [
      "<class 'pandas.core.frame.DataFrame'>\n",
      "RangeIndex: 181673 entries, 0 to 181672\n",
      "Data columns (total 20 columns):\n",
      " #   Column                Non-Null Count   Dtype         \n",
      "---  ------                --------------   -----         \n",
      " 0   id                    181673 non-null  object        \n",
      " 1   item_date             181673 non-null  datetime64[ns]\n",
      " 2   quantity tons         181673 non-null  float64       \n",
      " 3   customer              181673 non-null  object        \n",
      " 4   country               181673 non-null  float64       \n",
      " 5   status                181673 non-null  object        \n",
      " 6   item type             181673 non-null  object        \n",
      " 7   application           181673 non-null  float64       \n",
      " 8   thickness             181673 non-null  float64       \n",
      " 9   width                 181673 non-null  float64       \n",
      " 10  material_ref          181673 non-null  object        \n",
      " 11  product_ref           181673 non-null  object        \n",
      " 12  delivery date         181673 non-null  datetime64[ns]\n",
      " 13  selling_price         181673 non-null  float64       \n",
      " 14  id_encoded            181673 non-null  int32         \n",
      " 15  status_encoded        181673 non-null  int32         \n",
      " 16  item type_encoded     181673 non-null  int32         \n",
      " 17  product_ref_encoded   181673 non-null  int32         \n",
      " 18  material_ref_encoded  181673 non-null  int32         \n",
      " 19  customer_encoded      181673 non-null  int32         \n",
      "dtypes: datetime64[ns](2), float64(6), int32(6), object(6)\n",
      "memory usage: 23.6+ MB\n"
     ]
    }
   ],
   "source": [
    "df.info()"
   ]
  },
  {
   "cell_type": "code",
   "execution_count": 41,
   "id": "06d1b41c",
   "metadata": {
    "colab": {
     "base_uri": "https://localhost:8080/"
    },
    "id": "06d1b41c",
    "outputId": "034fc286-a604-4d5b-ed06-dfeb044c9628"
   },
   "outputs": [
    {
     "name": "stdout",
     "output_type": "stream",
     "text": [
      "181672\n",
      "9796\n"
     ]
    }
   ],
   "source": [
    "print(df['quantity tons'].nunique())\n",
    "print(df['selling_price'].nunique())"
   ]
  },
  {
   "cell_type": "code",
   "execution_count": 42,
   "id": "cy5WUKlbB5SG",
   "metadata": {
    "colab": {
     "base_uri": "https://localhost:8080/",
     "height": 338
    },
    "id": "cy5WUKlbB5SG",
    "outputId": "0792e8a4-fd72-4624-c462-9363312476b3"
   },
   "outputs": [
    {
     "data": {
      "text/html": [
       "<div>\n",
       "<style scoped>\n",
       "    .dataframe tbody tr th:only-of-type {\n",
       "        vertical-align: middle;\n",
       "    }\n",
       "\n",
       "    .dataframe tbody tr th {\n",
       "        vertical-align: top;\n",
       "    }\n",
       "\n",
       "    .dataframe thead th {\n",
       "        text-align: right;\n",
       "    }\n",
       "</style>\n",
       "<table border=\"1\" class=\"dataframe\">\n",
       "  <thead>\n",
       "    <tr style=\"text-align: right;\">\n",
       "      <th></th>\n",
       "      <th>item_date</th>\n",
       "      <th>quantity tons</th>\n",
       "      <th>country</th>\n",
       "      <th>application</th>\n",
       "      <th>thickness</th>\n",
       "      <th>width</th>\n",
       "      <th>delivery date</th>\n",
       "      <th>selling_price</th>\n",
       "      <th>id_encoded</th>\n",
       "      <th>status_encoded</th>\n",
       "      <th>item type_encoded</th>\n",
       "      <th>product_ref_encoded</th>\n",
       "      <th>material_ref_encoded</th>\n",
       "      <th>customer_encoded</th>\n",
       "    </tr>\n",
       "  </thead>\n",
       "  <tbody>\n",
       "    <tr>\n",
       "      <th>count</th>\n",
       "      <td>181673</td>\n",
       "      <td>1.816730e+05</td>\n",
       "      <td>181673.000000</td>\n",
       "      <td>181673.000000</td>\n",
       "      <td>181673.000000</td>\n",
       "      <td>181673.000000</td>\n",
       "      <td>181673</td>\n",
       "      <td>1.816730e+05</td>\n",
       "      <td>181673.000000</td>\n",
       "      <td>181673.000000</td>\n",
       "      <td>181673.000000</td>\n",
       "      <td>181673.000000</td>\n",
       "      <td>181673.000000</td>\n",
       "      <td>181673.000000</td>\n",
       "    </tr>\n",
       "    <tr>\n",
       "      <th>mean</th>\n",
       "      <td>2020-11-26 22:57:05.323521024</td>\n",
       "      <td>5.874969e+03</td>\n",
       "      <td>44.893022</td>\n",
       "      <td>25.615809</td>\n",
       "      <td>2.564827</td>\n",
       "      <td>1295.286724</td>\n",
       "      <td>2021-01-25 22:43:50.629757696</td>\n",
       "      <td>1.918036e+03</td>\n",
       "      <td>90835.999994</td>\n",
       "      <td>5.131869</td>\n",
       "      <td>4.133036</td>\n",
       "      <td>19.317059</td>\n",
       "      <td>12292.074750</td>\n",
       "      <td>409.425011</td>\n",
       "    </tr>\n",
       "    <tr>\n",
       "      <th>min</th>\n",
       "      <td>2020-07-02 00:00:00</td>\n",
       "      <td>-1.800000e+01</td>\n",
       "      <td>25.000000</td>\n",
       "      <td>2.000000</td>\n",
       "      <td>0.180000</td>\n",
       "      <td>1.000000</td>\n",
       "      <td>2019-04-01 00:00:00</td>\n",
       "      <td>-1.160000e+03</td>\n",
       "      <td>0.000000</td>\n",
       "      <td>0.000000</td>\n",
       "      <td>0.000000</td>\n",
       "      <td>0.000000</td>\n",
       "      <td>0.000000</td>\n",
       "      <td>0.000000</td>\n",
       "    </tr>\n",
       "    <tr>\n",
       "      <th>25%</th>\n",
       "      <td>2020-09-29 00:00:00</td>\n",
       "      <td>1.097067e+01</td>\n",
       "      <td>26.000000</td>\n",
       "      <td>10.000000</td>\n",
       "      <td>0.700000</td>\n",
       "      <td>1180.000000</td>\n",
       "      <td>2020-11-01 00:00:00</td>\n",
       "      <td>6.690000e+02</td>\n",
       "      <td>45418.000000</td>\n",
       "      <td>2.000000</td>\n",
       "      <td>3.000000</td>\n",
       "      <td>12.000000</td>\n",
       "      <td>8751.000000</td>\n",
       "      <td>150.000000</td>\n",
       "    </tr>\n",
       "    <tr>\n",
       "      <th>50%</th>\n",
       "      <td>2020-11-30 00:00:00</td>\n",
       "      <td>3.036500e+01</td>\n",
       "      <td>30.000000</td>\n",
       "      <td>15.000000</td>\n",
       "      <td>1.500000</td>\n",
       "      <td>1250.000000</td>\n",
       "      <td>2021-01-01 00:00:00</td>\n",
       "      <td>8.120000e+02</td>\n",
       "      <td>90836.000000</td>\n",
       "      <td>7.000000</td>\n",
       "      <td>5.000000</td>\n",
       "      <td>25.000000</td>\n",
       "      <td>14893.000000</td>\n",
       "      <td>312.000000</td>\n",
       "    </tr>\n",
       "    <tr>\n",
       "      <th>75%</th>\n",
       "      <td>2021-02-03 00:00:00</td>\n",
       "      <td>6.716145e+01</td>\n",
       "      <td>78.000000</td>\n",
       "      <td>41.000000</td>\n",
       "      <td>3.000000</td>\n",
       "      <td>1500.000000</td>\n",
       "      <td>2021-04-01 00:00:00</td>\n",
       "      <td>9.530000e+02</td>\n",
       "      <td>136254.000000</td>\n",
       "      <td>7.000000</td>\n",
       "      <td>5.000000</td>\n",
       "      <td>28.000000</td>\n",
       "      <td>16553.000000</td>\n",
       "      <td>654.000000</td>\n",
       "    </tr>\n",
       "    <tr>\n",
       "      <th>max</th>\n",
       "      <td>2021-04-01 00:00:00</td>\n",
       "      <td>1.000000e+09</td>\n",
       "      <td>113.000000</td>\n",
       "      <td>99.000000</td>\n",
       "      <td>2500.000000</td>\n",
       "      <td>2990.000000</td>\n",
       "      <td>2022-01-01 00:00:00</td>\n",
       "      <td>1.000010e+08</td>\n",
       "      <td>181671.000000</td>\n",
       "      <td>9.000000</td>\n",
       "      <td>6.000000</td>\n",
       "      <td>32.000000</td>\n",
       "      <td>16563.000000</td>\n",
       "      <td>1169.000000</td>\n",
       "    </tr>\n",
       "    <tr>\n",
       "      <th>std</th>\n",
       "      <td>NaN</td>\n",
       "      <td>2.349075e+06</td>\n",
       "      <td>24.402334</td>\n",
       "      <td>17.753002</td>\n",
       "      <td>6.572303</td>\n",
       "      <td>261.631754</td>\n",
       "      <td>NaN</td>\n",
       "      <td>3.317947e+05</td>\n",
       "      <td>52444.622055</td>\n",
       "      <td>2.644863</td>\n",
       "      <td>1.055230</td>\n",
       "      <td>10.454250</td>\n",
       "      <td>5024.418461</td>\n",
       "      <td>318.431479</td>\n",
       "    </tr>\n",
       "  </tbody>\n",
       "</table>\n",
       "</div>"
      ],
      "text/plain": [
       "                           item_date  quantity tons        country  \\\n",
       "count                         181673   1.816730e+05  181673.000000   \n",
       "mean   2020-11-26 22:57:05.323521024   5.874969e+03      44.893022   \n",
       "min              2020-07-02 00:00:00  -1.800000e+01      25.000000   \n",
       "25%              2020-09-29 00:00:00   1.097067e+01      26.000000   \n",
       "50%              2020-11-30 00:00:00   3.036500e+01      30.000000   \n",
       "75%              2021-02-03 00:00:00   6.716145e+01      78.000000   \n",
       "max              2021-04-01 00:00:00   1.000000e+09     113.000000   \n",
       "std                              NaN   2.349075e+06      24.402334   \n",
       "\n",
       "         application      thickness          width  \\\n",
       "count  181673.000000  181673.000000  181673.000000   \n",
       "mean       25.615809       2.564827    1295.286724   \n",
       "min         2.000000       0.180000       1.000000   \n",
       "25%        10.000000       0.700000    1180.000000   \n",
       "50%        15.000000       1.500000    1250.000000   \n",
       "75%        41.000000       3.000000    1500.000000   \n",
       "max        99.000000    2500.000000    2990.000000   \n",
       "std        17.753002       6.572303     261.631754   \n",
       "\n",
       "                       delivery date  selling_price     id_encoded  \\\n",
       "count                         181673   1.816730e+05  181673.000000   \n",
       "mean   2021-01-25 22:43:50.629757696   1.918036e+03   90835.999994   \n",
       "min              2019-04-01 00:00:00  -1.160000e+03       0.000000   \n",
       "25%              2020-11-01 00:00:00   6.690000e+02   45418.000000   \n",
       "50%              2021-01-01 00:00:00   8.120000e+02   90836.000000   \n",
       "75%              2021-04-01 00:00:00   9.530000e+02  136254.000000   \n",
       "max              2022-01-01 00:00:00   1.000010e+08  181671.000000   \n",
       "std                              NaN   3.317947e+05   52444.622055   \n",
       "\n",
       "       status_encoded  item type_encoded  product_ref_encoded  \\\n",
       "count   181673.000000      181673.000000        181673.000000   \n",
       "mean         5.131869           4.133036            19.317059   \n",
       "min          0.000000           0.000000             0.000000   \n",
       "25%          2.000000           3.000000            12.000000   \n",
       "50%          7.000000           5.000000            25.000000   \n",
       "75%          7.000000           5.000000            28.000000   \n",
       "max          9.000000           6.000000            32.000000   \n",
       "std          2.644863           1.055230            10.454250   \n",
       "\n",
       "       material_ref_encoded  customer_encoded  \n",
       "count         181673.000000     181673.000000  \n",
       "mean           12292.074750        409.425011  \n",
       "min                0.000000          0.000000  \n",
       "25%             8751.000000        150.000000  \n",
       "50%            14893.000000        312.000000  \n",
       "75%            16553.000000        654.000000  \n",
       "max            16563.000000       1169.000000  \n",
       "std             5024.418461        318.431479  "
      ]
     },
     "execution_count": 42,
     "metadata": {},
     "output_type": "execute_result"
    }
   ],
   "source": [
    "df.describe()"
   ]
  },
  {
   "cell_type": "code",
   "execution_count": 43,
   "id": "a7d1db2a",
   "metadata": {
    "colab": {
     "base_uri": "https://localhost:8080/"
    },
    "id": "a7d1db2a",
    "outputId": "d3e1701b-1594-4ddf-e041-f8f6fd4c8766"
   },
   "outputs": [],
   "source": [
    "import pandas as pd\n",
    "from sklearn.ensemble import IsolationForest\n",
    "df['quantity tons']=pd.to_numeric(df['quantity tons'],errors='coerce')\n",
    "df=df.dropna(subset=['quantity tons'])\n",
    "iso_forest=IsolationForest(contamination=0.1,random_state=42)\n",
    "df['outlier_flag']=iso_forest.fit_predict(df[['quantity tons','selling_price']])\n",
    "df_no_outliers=df[df['outlier_flag']!=-1].drop('outlier_flag',axis=1)"
   ]
  },
  {
   "cell_type": "code",
   "execution_count": 44,
   "id": "8c6f301b",
   "metadata": {
    "colab": {
     "base_uri": "https://localhost:8080/",
     "height": 930
    },
    "id": "8c6f301b",
    "outputId": "143c2185-2a60-47d8-c957-594fd58bab82"
   },
   "outputs": [
    {
     "data": {
      "text/html": [
       "<div>\n",
       "<style scoped>\n",
       "    .dataframe tbody tr th:only-of-type {\n",
       "        vertical-align: middle;\n",
       "    }\n",
       "\n",
       "    .dataframe tbody tr th {\n",
       "        vertical-align: top;\n",
       "    }\n",
       "\n",
       "    .dataframe thead th {\n",
       "        text-align: right;\n",
       "    }\n",
       "</style>\n",
       "<table border=\"1\" class=\"dataframe\">\n",
       "  <thead>\n",
       "    <tr style=\"text-align: right;\">\n",
       "      <th></th>\n",
       "      <th>id</th>\n",
       "      <th>item_date</th>\n",
       "      <th>quantity tons</th>\n",
       "      <th>customer</th>\n",
       "      <th>country</th>\n",
       "      <th>status</th>\n",
       "      <th>item type</th>\n",
       "      <th>application</th>\n",
       "      <th>thickness</th>\n",
       "      <th>width</th>\n",
       "      <th>material_ref</th>\n",
       "      <th>product_ref</th>\n",
       "      <th>delivery date</th>\n",
       "      <th>selling_price</th>\n",
       "      <th>id_encoded</th>\n",
       "      <th>status_encoded</th>\n",
       "      <th>item type_encoded</th>\n",
       "      <th>product_ref_encoded</th>\n",
       "      <th>material_ref_encoded</th>\n",
       "      <th>customer_encoded</th>\n",
       "    </tr>\n",
       "  </thead>\n",
       "  <tbody>\n",
       "    <tr>\n",
       "      <th>0</th>\n",
       "      <td>EC06F063-9DF0-440C-8764-0B0C05A4F6AE</td>\n",
       "      <td>2021-04-01</td>\n",
       "      <td>54.151139</td>\n",
       "      <td>30156308.0</td>\n",
       "      <td>28.0</td>\n",
       "      <td>Won</td>\n",
       "      <td>W</td>\n",
       "      <td>10.0</td>\n",
       "      <td>2.00</td>\n",
       "      <td>1500.0</td>\n",
       "      <td>DEQ1 S460MC</td>\n",
       "      <td>1670798778</td>\n",
       "      <td>2021-07-01</td>\n",
       "      <td>854.0</td>\n",
       "      <td>167599</td>\n",
       "      <td>7</td>\n",
       "      <td>5</td>\n",
       "      <td>14</td>\n",
       "      <td>10445</td>\n",
       "      <td>52</td>\n",
       "    </tr>\n",
       "    <tr>\n",
       "      <th>3</th>\n",
       "      <td>F8D507A0-9C62-4EFE-831E-33E1DA53BB50</td>\n",
       "      <td>2021-04-01</td>\n",
       "      <td>202.411065</td>\n",
       "      <td>30349574.0</td>\n",
       "      <td>32.0</td>\n",
       "      <td>Won</td>\n",
       "      <td>S</td>\n",
       "      <td>59.0</td>\n",
       "      <td>2.30</td>\n",
       "      <td>1317.0</td>\n",
       "      <td>DX51D+ZM310MAO 2.3X1317</td>\n",
       "      <td>1668701718</td>\n",
       "      <td>2021-01-01</td>\n",
       "      <td>768.0</td>\n",
       "      <td>176555</td>\n",
       "      <td>7</td>\n",
       "      <td>3</td>\n",
       "      <td>12</td>\n",
       "      <td>10719</td>\n",
       "      <td>956</td>\n",
       "    </tr>\n",
       "    <tr>\n",
       "      <th>5</th>\n",
       "      <td>FE372230-29B1-4A29-BB73-CB9D3078C286</td>\n",
       "      <td>2021-04-01</td>\n",
       "      <td>225.790676</td>\n",
       "      <td>30202938.0</td>\n",
       "      <td>25.0</td>\n",
       "      <td>Won</td>\n",
       "      <td>W</td>\n",
       "      <td>41.0</td>\n",
       "      <td>1.50</td>\n",
       "      <td>1265.0</td>\n",
       "      <td>0000000000000000000000000000000000102325</td>\n",
       "      <td>1668701718</td>\n",
       "      <td>2021-04-01</td>\n",
       "      <td>983.0</td>\n",
       "      <td>180395</td>\n",
       "      <td>7</td>\n",
       "      <td>5</td>\n",
       "      <td>12</td>\n",
       "      <td>1026</td>\n",
       "      <td>289</td>\n",
       "    </tr>\n",
       "    <tr>\n",
       "      <th>7</th>\n",
       "      <td>AA3F18A2-A7D6-43DE-8644-F0632AE2CB68</td>\n",
       "      <td>2021-04-01</td>\n",
       "      <td>113.387124</td>\n",
       "      <td>30342192.0</td>\n",
       "      <td>32.0</td>\n",
       "      <td>Won</td>\n",
       "      <td>W</td>\n",
       "      <td>41.0</td>\n",
       "      <td>0.68</td>\n",
       "      <td>1220.0</td>\n",
       "      <td>0000000000000000000000000000000001000944</td>\n",
       "      <td>611993</td>\n",
       "      <td>2021-01-01</td>\n",
       "      <td>931.0</td>\n",
       "      <td>120843</td>\n",
       "      <td>7</td>\n",
       "      <td>5</td>\n",
       "      <td>25</td>\n",
       "      <td>2021</td>\n",
       "      <td>897</td>\n",
       "    </tr>\n",
       "    <tr>\n",
       "      <th>11</th>\n",
       "      <td>CA076845-2EDE-4C02-95BE-6C7B842026E8</td>\n",
       "      <td>2021-04-01</td>\n",
       "      <td>113.995666</td>\n",
       "      <td>30342192.0</td>\n",
       "      <td>32.0</td>\n",
       "      <td>Won</td>\n",
       "      <td>W</td>\n",
       "      <td>41.0</td>\n",
       "      <td>0.55</td>\n",
       "      <td>1220.0</td>\n",
       "      <td>0000000000000000000000000000000001000063</td>\n",
       "      <td>611993</td>\n",
       "      <td>2021-01-01</td>\n",
       "      <td>954.0</td>\n",
       "      <td>143462</td>\n",
       "      <td>7</td>\n",
       "      <td>5</td>\n",
       "      <td>25</td>\n",
       "      <td>1938</td>\n",
       "      <td>897</td>\n",
       "    </tr>\n",
       "    <tr>\n",
       "      <th>...</th>\n",
       "      <td>...</td>\n",
       "      <td>...</td>\n",
       "      <td>...</td>\n",
       "      <td>...</td>\n",
       "      <td>...</td>\n",
       "      <td>...</td>\n",
       "      <td>...</td>\n",
       "      <td>...</td>\n",
       "      <td>...</td>\n",
       "      <td>...</td>\n",
       "      <td>...</td>\n",
       "      <td>...</td>\n",
       "      <td>...</td>\n",
       "      <td>...</td>\n",
       "      <td>...</td>\n",
       "      <td>...</td>\n",
       "      <td>...</td>\n",
       "      <td>...</td>\n",
       "      <td>...</td>\n",
       "      <td>...</td>\n",
       "    </tr>\n",
       "    <tr>\n",
       "      <th>181666</th>\n",
       "      <td>C01DE4E8-BC5F-42AD-B35F-8FCBEE34C6ED</td>\n",
       "      <td>2020-07-02</td>\n",
       "      <td>82.123794</td>\n",
       "      <td>30200854.0</td>\n",
       "      <td>25.0</td>\n",
       "      <td>Won</td>\n",
       "      <td>W</td>\n",
       "      <td>41.0</td>\n",
       "      <td>1.18</td>\n",
       "      <td>1220.0</td>\n",
       "      <td>0000000000000000000000000000000001000812</td>\n",
       "      <td>164141591</td>\n",
       "      <td>2020-07-01</td>\n",
       "      <td>590.0</td>\n",
       "      <td>136497</td>\n",
       "      <td>7</td>\n",
       "      <td>5</td>\n",
       "      <td>2</td>\n",
       "      <td>2006</td>\n",
       "      <td>224</td>\n",
       "    </tr>\n",
       "    <tr>\n",
       "      <th>181667</th>\n",
       "      <td>0B812591-B501-4F34-859A-B06381FAEB44</td>\n",
       "      <td>2020-07-02</td>\n",
       "      <td>106.783299</td>\n",
       "      <td>30200854.0</td>\n",
       "      <td>25.0</td>\n",
       "      <td>Won</td>\n",
       "      <td>W</td>\n",
       "      <td>41.0</td>\n",
       "      <td>0.96</td>\n",
       "      <td>1240.0</td>\n",
       "      <td>0000000000000000000000000000000001000222</td>\n",
       "      <td>164141591</td>\n",
       "      <td>2020-07-01</td>\n",
       "      <td>602.0</td>\n",
       "      <td>8083</td>\n",
       "      <td>7</td>\n",
       "      <td>5</td>\n",
       "      <td>2</td>\n",
       "      <td>1962</td>\n",
       "      <td>224</td>\n",
       "    </tr>\n",
       "    <tr>\n",
       "      <th>181668</th>\n",
       "      <td>DE633116-D1DF-4846-982E-55EFC3658A76</td>\n",
       "      <td>2020-07-02</td>\n",
       "      <td>102.482422</td>\n",
       "      <td>30200854.0</td>\n",
       "      <td>25.0</td>\n",
       "      <td>Won</td>\n",
       "      <td>W</td>\n",
       "      <td>41.0</td>\n",
       "      <td>0.96</td>\n",
       "      <td>1220.0</td>\n",
       "      <td>0000000000000000000000000000000001000777</td>\n",
       "      <td>164141591</td>\n",
       "      <td>2020-07-01</td>\n",
       "      <td>591.0</td>\n",
       "      <td>157706</td>\n",
       "      <td>7</td>\n",
       "      <td>5</td>\n",
       "      <td>2</td>\n",
       "      <td>2004</td>\n",
       "      <td>224</td>\n",
       "    </tr>\n",
       "    <tr>\n",
       "      <th>181669</th>\n",
       "      <td>A48374B1-E6DB-45F2-889A-1F9C27C099EB</td>\n",
       "      <td>2020-07-02</td>\n",
       "      <td>208.086469</td>\n",
       "      <td>30200854.0</td>\n",
       "      <td>25.0</td>\n",
       "      <td>Won</td>\n",
       "      <td>W</td>\n",
       "      <td>41.0</td>\n",
       "      <td>0.95</td>\n",
       "      <td>1500.0</td>\n",
       "      <td>0000000000000000000000000000000001000227</td>\n",
       "      <td>164141591</td>\n",
       "      <td>2020-07-01</td>\n",
       "      <td>589.0</td>\n",
       "      <td>116794</td>\n",
       "      <td>7</td>\n",
       "      <td>5</td>\n",
       "      <td>2</td>\n",
       "      <td>1966</td>\n",
       "      <td>224</td>\n",
       "    </tr>\n",
       "    <tr>\n",
       "      <th>181670</th>\n",
       "      <td>91643238-5C7B-4237-9A5F-63AE3D35F320</td>\n",
       "      <td>2020-07-02</td>\n",
       "      <td>4.235594</td>\n",
       "      <td>30200854.0</td>\n",
       "      <td>25.0</td>\n",
       "      <td>Won</td>\n",
       "      <td>W</td>\n",
       "      <td>41.0</td>\n",
       "      <td>0.71</td>\n",
       "      <td>1250.0</td>\n",
       "      <td>0000000000000000000000000000000001004216</td>\n",
       "      <td>164141591</td>\n",
       "      <td>2020-07-01</td>\n",
       "      <td>619.0</td>\n",
       "      <td>103139</td>\n",
       "      <td>7</td>\n",
       "      <td>5</td>\n",
       "      <td>2</td>\n",
       "      <td>2200</td>\n",
       "      <td>224</td>\n",
       "    </tr>\n",
       "  </tbody>\n",
       "</table>\n",
       "<p>163505 rows × 20 columns</p>\n",
       "</div>"
      ],
      "text/plain": [
       "                                          id  item_date  quantity tons  \\\n",
       "0       EC06F063-9DF0-440C-8764-0B0C05A4F6AE 2021-04-01      54.151139   \n",
       "3       F8D507A0-9C62-4EFE-831E-33E1DA53BB50 2021-04-01     202.411065   \n",
       "5       FE372230-29B1-4A29-BB73-CB9D3078C286 2021-04-01     225.790676   \n",
       "7       AA3F18A2-A7D6-43DE-8644-F0632AE2CB68 2021-04-01     113.387124   \n",
       "11      CA076845-2EDE-4C02-95BE-6C7B842026E8 2021-04-01     113.995666   \n",
       "...                                      ...        ...            ...   \n",
       "181666  C01DE4E8-BC5F-42AD-B35F-8FCBEE34C6ED 2020-07-02      82.123794   \n",
       "181667  0B812591-B501-4F34-859A-B06381FAEB44 2020-07-02     106.783299   \n",
       "181668  DE633116-D1DF-4846-982E-55EFC3658A76 2020-07-02     102.482422   \n",
       "181669  A48374B1-E6DB-45F2-889A-1F9C27C099EB 2020-07-02     208.086469   \n",
       "181670  91643238-5C7B-4237-9A5F-63AE3D35F320 2020-07-02       4.235594   \n",
       "\n",
       "          customer  country status item type  application  thickness   width  \\\n",
       "0       30156308.0     28.0    Won         W         10.0       2.00  1500.0   \n",
       "3       30349574.0     32.0    Won         S         59.0       2.30  1317.0   \n",
       "5       30202938.0     25.0    Won         W         41.0       1.50  1265.0   \n",
       "7       30342192.0     32.0    Won         W         41.0       0.68  1220.0   \n",
       "11      30342192.0     32.0    Won         W         41.0       0.55  1220.0   \n",
       "...            ...      ...    ...       ...          ...        ...     ...   \n",
       "181666  30200854.0     25.0    Won         W         41.0       1.18  1220.0   \n",
       "181667  30200854.0     25.0    Won         W         41.0       0.96  1240.0   \n",
       "181668  30200854.0     25.0    Won         W         41.0       0.96  1220.0   \n",
       "181669  30200854.0     25.0    Won         W         41.0       0.95  1500.0   \n",
       "181670  30200854.0     25.0    Won         W         41.0       0.71  1250.0   \n",
       "\n",
       "                                    material_ref product_ref delivery date  \\\n",
       "0                                    DEQ1 S460MC  1670798778    2021-07-01   \n",
       "3                        DX51D+ZM310MAO 2.3X1317  1668701718    2021-01-01   \n",
       "5       0000000000000000000000000000000000102325  1668701718    2021-04-01   \n",
       "7       0000000000000000000000000000000001000944      611993    2021-01-01   \n",
       "11      0000000000000000000000000000000001000063      611993    2021-01-01   \n",
       "...                                          ...         ...           ...   \n",
       "181666  0000000000000000000000000000000001000812   164141591    2020-07-01   \n",
       "181667  0000000000000000000000000000000001000222   164141591    2020-07-01   \n",
       "181668  0000000000000000000000000000000001000777   164141591    2020-07-01   \n",
       "181669  0000000000000000000000000000000001000227   164141591    2020-07-01   \n",
       "181670  0000000000000000000000000000000001004216   164141591    2020-07-01   \n",
       "\n",
       "        selling_price  id_encoded  status_encoded  item type_encoded  \\\n",
       "0               854.0      167599               7                  5   \n",
       "3               768.0      176555               7                  3   \n",
       "5               983.0      180395               7                  5   \n",
       "7               931.0      120843               7                  5   \n",
       "11              954.0      143462               7                  5   \n",
       "...               ...         ...             ...                ...   \n",
       "181666          590.0      136497               7                  5   \n",
       "181667          602.0        8083               7                  5   \n",
       "181668          591.0      157706               7                  5   \n",
       "181669          589.0      116794               7                  5   \n",
       "181670          619.0      103139               7                  5   \n",
       "\n",
       "        product_ref_encoded  material_ref_encoded  customer_encoded  \n",
       "0                        14                 10445                52  \n",
       "3                        12                 10719               956  \n",
       "5                        12                  1026               289  \n",
       "7                        25                  2021               897  \n",
       "11                       25                  1938               897  \n",
       "...                     ...                   ...               ...  \n",
       "181666                    2                  2006               224  \n",
       "181667                    2                  1962               224  \n",
       "181668                    2                  2004               224  \n",
       "181669                    2                  1966               224  \n",
       "181670                    2                  2200               224  \n",
       "\n",
       "[163505 rows x 20 columns]"
      ]
     },
     "execution_count": 44,
     "metadata": {},
     "output_type": "execute_result"
    }
   ],
   "source": [
    "df_no_outliers"
   ]
  },
  {
   "cell_type": "code",
   "execution_count": 45,
   "id": "04d2f472",
   "metadata": {
    "colab": {
     "base_uri": "https://localhost:8080/",
     "height": 338
    },
    "id": "04d2f472",
    "outputId": "9bb6894f-f611-4015-b3fe-013cd2bf8263",
    "scrolled": true
   },
   "outputs": [
    {
     "data": {
      "text/html": [
       "<div>\n",
       "<style scoped>\n",
       "    .dataframe tbody tr th:only-of-type {\n",
       "        vertical-align: middle;\n",
       "    }\n",
       "\n",
       "    .dataframe tbody tr th {\n",
       "        vertical-align: top;\n",
       "    }\n",
       "\n",
       "    .dataframe thead th {\n",
       "        text-align: right;\n",
       "    }\n",
       "</style>\n",
       "<table border=\"1\" class=\"dataframe\">\n",
       "  <thead>\n",
       "    <tr style=\"text-align: right;\">\n",
       "      <th></th>\n",
       "      <th>item_date</th>\n",
       "      <th>quantity tons</th>\n",
       "      <th>country</th>\n",
       "      <th>application</th>\n",
       "      <th>thickness</th>\n",
       "      <th>width</th>\n",
       "      <th>delivery date</th>\n",
       "      <th>selling_price</th>\n",
       "      <th>id_encoded</th>\n",
       "      <th>status_encoded</th>\n",
       "      <th>item type_encoded</th>\n",
       "      <th>product_ref_encoded</th>\n",
       "      <th>material_ref_encoded</th>\n",
       "      <th>customer_encoded</th>\n",
       "    </tr>\n",
       "  </thead>\n",
       "  <tbody>\n",
       "    <tr>\n",
       "      <th>count</th>\n",
       "      <td>163505</td>\n",
       "      <td>163505.000000</td>\n",
       "      <td>163505.000000</td>\n",
       "      <td>163505.000000</td>\n",
       "      <td>163505.000000</td>\n",
       "      <td>163505.000000</td>\n",
       "      <td>163505</td>\n",
       "      <td>163505.000000</td>\n",
       "      <td>163505.000000</td>\n",
       "      <td>163505.000000</td>\n",
       "      <td>163505.000000</td>\n",
       "      <td>163505.000000</td>\n",
       "      <td>163505.000000</td>\n",
       "      <td>163505.000000</td>\n",
       "    </tr>\n",
       "    <tr>\n",
       "      <th>mean</th>\n",
       "      <td>2020-11-25 18:18:25.595547136</td>\n",
       "      <td>45.499257</td>\n",
       "      <td>45.110432</td>\n",
       "      <td>25.077703</td>\n",
       "      <td>2.591775</td>\n",
       "      <td>1298.786495</td>\n",
       "      <td>2021-01-24 16:14:11.643680512</td>\n",
       "      <td>823.651671</td>\n",
       "      <td>90882.988716</td>\n",
       "      <td>5.211455</td>\n",
       "      <td>4.167188</td>\n",
       "      <td>19.128326</td>\n",
       "      <td>12305.676469</td>\n",
       "      <td>407.458818</td>\n",
       "    </tr>\n",
       "    <tr>\n",
       "      <th>min</th>\n",
       "      <td>2020-07-02 00:00:00</td>\n",
       "      <td>-18.000000</td>\n",
       "      <td>25.000000</td>\n",
       "      <td>2.000000</td>\n",
       "      <td>0.180000</td>\n",
       "      <td>1.000000</td>\n",
       "      <td>2019-04-01 00:00:00</td>\n",
       "      <td>420.000000</td>\n",
       "      <td>0.000000</td>\n",
       "      <td>1.000000</td>\n",
       "      <td>0.000000</td>\n",
       "      <td>0.000000</td>\n",
       "      <td>0.000000</td>\n",
       "      <td>0.000000</td>\n",
       "    </tr>\n",
       "    <tr>\n",
       "      <th>25%</th>\n",
       "      <td>2020-09-29 00:00:00</td>\n",
       "      <td>10.207167</td>\n",
       "      <td>26.000000</td>\n",
       "      <td>10.000000</td>\n",
       "      <td>0.740000</td>\n",
       "      <td>1180.000000</td>\n",
       "      <td>2020-11-01 00:00:00</td>\n",
       "      <td>679.000000</td>\n",
       "      <td>45524.000000</td>\n",
       "      <td>2.000000</td>\n",
       "      <td>3.000000</td>\n",
       "      <td>12.000000</td>\n",
       "      <td>8795.000000</td>\n",
       "      <td>150.000000</td>\n",
       "    </tr>\n",
       "    <tr>\n",
       "      <th>50%</th>\n",
       "      <td>2020-11-27 00:00:00</td>\n",
       "      <td>28.812808</td>\n",
       "      <td>30.000000</td>\n",
       "      <td>15.000000</td>\n",
       "      <td>1.500000</td>\n",
       "      <td>1250.000000</td>\n",
       "      <td>2021-01-01 00:00:00</td>\n",
       "      <td>815.000000</td>\n",
       "      <td>90902.000000</td>\n",
       "      <td>7.000000</td>\n",
       "      <td>5.000000</td>\n",
       "      <td>25.000000</td>\n",
       "      <td>14919.000000</td>\n",
       "      <td>313.000000</td>\n",
       "    </tr>\n",
       "    <tr>\n",
       "      <th>75%</th>\n",
       "      <td>2021-02-01 00:00:00</td>\n",
       "      <td>56.373404</td>\n",
       "      <td>78.000000</td>\n",
       "      <td>41.000000</td>\n",
       "      <td>3.000000</td>\n",
       "      <td>1500.000000</td>\n",
       "      <td>2021-04-01 00:00:00</td>\n",
       "      <td>948.000000</td>\n",
       "      <td>136294.000000</td>\n",
       "      <td>7.000000</td>\n",
       "      <td>5.000000</td>\n",
       "      <td>28.000000</td>\n",
       "      <td>16553.000000</td>\n",
       "      <td>640.000000</td>\n",
       "    </tr>\n",
       "    <tr>\n",
       "      <th>max</th>\n",
       "      <td>2021-04-01 00:00:00</td>\n",
       "      <td>335.867083</td>\n",
       "      <td>113.000000</td>\n",
       "      <td>99.000000</td>\n",
       "      <td>400.000000</td>\n",
       "      <td>2990.000000</td>\n",
       "      <td>2021-11-01 00:00:00</td>\n",
       "      <td>1371.340000</td>\n",
       "      <td>181671.000000</td>\n",
       "      <td>9.000000</td>\n",
       "      <td>6.000000</td>\n",
       "      <td>32.000000</td>\n",
       "      <td>16563.000000</td>\n",
       "      <td>1169.000000</td>\n",
       "    </tr>\n",
       "    <tr>\n",
       "      <th>std</th>\n",
       "      <td>NaN</td>\n",
       "      <td>52.164119</td>\n",
       "      <td>24.487252</td>\n",
       "      <td>17.657885</td>\n",
       "      <td>2.989911</td>\n",
       "      <td>263.077569</td>\n",
       "      <td>NaN</td>\n",
       "      <td>181.439191</td>\n",
       "      <td>52430.409462</td>\n",
       "      <td>2.586829</td>\n",
       "      <td>1.034498</td>\n",
       "      <td>10.520344</td>\n",
       "      <td>5025.552193</td>\n",
       "      <td>315.775576</td>\n",
       "    </tr>\n",
       "  </tbody>\n",
       "</table>\n",
       "</div>"
      ],
      "text/plain": [
       "                           item_date  quantity tons        country  \\\n",
       "count                         163505  163505.000000  163505.000000   \n",
       "mean   2020-11-25 18:18:25.595547136      45.499257      45.110432   \n",
       "min              2020-07-02 00:00:00     -18.000000      25.000000   \n",
       "25%              2020-09-29 00:00:00      10.207167      26.000000   \n",
       "50%              2020-11-27 00:00:00      28.812808      30.000000   \n",
       "75%              2021-02-01 00:00:00      56.373404      78.000000   \n",
       "max              2021-04-01 00:00:00     335.867083     113.000000   \n",
       "std                              NaN      52.164119      24.487252   \n",
       "\n",
       "         application      thickness          width  \\\n",
       "count  163505.000000  163505.000000  163505.000000   \n",
       "mean       25.077703       2.591775    1298.786495   \n",
       "min         2.000000       0.180000       1.000000   \n",
       "25%        10.000000       0.740000    1180.000000   \n",
       "50%        15.000000       1.500000    1250.000000   \n",
       "75%        41.000000       3.000000    1500.000000   \n",
       "max        99.000000     400.000000    2990.000000   \n",
       "std        17.657885       2.989911     263.077569   \n",
       "\n",
       "                       delivery date  selling_price     id_encoded  \\\n",
       "count                         163505  163505.000000  163505.000000   \n",
       "mean   2021-01-24 16:14:11.643680512     823.651671   90882.988716   \n",
       "min              2019-04-01 00:00:00     420.000000       0.000000   \n",
       "25%              2020-11-01 00:00:00     679.000000   45524.000000   \n",
       "50%              2021-01-01 00:00:00     815.000000   90902.000000   \n",
       "75%              2021-04-01 00:00:00     948.000000  136294.000000   \n",
       "max              2021-11-01 00:00:00    1371.340000  181671.000000   \n",
       "std                              NaN     181.439191   52430.409462   \n",
       "\n",
       "       status_encoded  item type_encoded  product_ref_encoded  \\\n",
       "count   163505.000000      163505.000000        163505.000000   \n",
       "mean         5.211455           4.167188            19.128326   \n",
       "min          1.000000           0.000000             0.000000   \n",
       "25%          2.000000           3.000000            12.000000   \n",
       "50%          7.000000           5.000000            25.000000   \n",
       "75%          7.000000           5.000000            28.000000   \n",
       "max          9.000000           6.000000            32.000000   \n",
       "std          2.586829           1.034498            10.520344   \n",
       "\n",
       "       material_ref_encoded  customer_encoded  \n",
       "count         163505.000000     163505.000000  \n",
       "mean           12305.676469        407.458818  \n",
       "min                0.000000          0.000000  \n",
       "25%             8795.000000        150.000000  \n",
       "50%            14919.000000        313.000000  \n",
       "75%            16553.000000        640.000000  \n",
       "max            16563.000000       1169.000000  \n",
       "std             5025.552193        315.775576  "
      ]
     },
     "execution_count": 45,
     "metadata": {},
     "output_type": "execute_result"
    }
   ],
   "source": [
    "df_no_outliers.describe()"
   ]
  },
  {
   "cell_type": "code",
   "execution_count": 46,
   "id": "91163902",
   "metadata": {
    "colab": {
     "base_uri": "https://localhost:8080/"
    },
    "id": "91163902",
    "outputId": "75adb49d-67e7-4154-b199-7121d3617522"
   },
   "outputs": [],
   "source": [
    "import pandas as pd\n",
    "from sklearn.ensemble import IsolationForest\n",
    "\n",
    "# Assuming df is your DataFrame\n",
    "df['quantity tons'] = pd.to_numeric(df['quantity tons'], errors='coerce')\n",
    "df.loc[:, 'quantity tons'] = df['quantity tons'].dropna()\n",
    "\n",
    "# Apply Isolation Forest for 'quantity tons'\n",
    "iso_forest_quantity = IsolationForest(contamination=0.1, random_state=42)\n",
    "df.loc[:, 'outlier_flag_quantity'] = iso_forest_quantity.fit_predict(df[['quantity tons', 'selling_price']])\n",
    "\n",
    "# Create a new DataFrame excluding rows with 'quantity tons' outliers\n",
    "df_no_outliers_quantity = df[df['outlier_flag_quantity'] != -1].drop('outlier_flag_quantity', axis=1)\n",
    "\n",
    "# Filter 'thickness' to keep only values less than 100\n",
    "df_non_outliers_thickness = df[df['thickness'] < 100].copy()  # Make a copy to avoid SettingWithCopyWarning\n",
    "\n",
    "# Apply Isolation Forest for 'thickness' on values less than 100\n",
    "iso_forest_thickness = IsolationForest(contamination=0.1, random_state=42)\n",
    "df_non_outliers_thickness.loc[:, 'outlier_flag_thickness'] = iso_forest_thickness.fit_predict(df_non_outliers_thickness[['thickness', 'selling_price']])\n",
    "\n",
    "# Create a new DataFrame excluding rows with 'thickness' outliers\n",
    "df_no_outliers_thickness = df_non_outliers_thickness[df_non_outliers_thickness['outlier_flag_thickness'] != -1].drop('outlier_flag_thickness', axis=1)\n",
    "\n",
    "# Apply Isolation Forest for 'width' with adjusted parameters\n",
    "width_mean = df['width'].mean()\n",
    "width_std = df['width'].std()\n",
    "contamination_width = min(0.1, (df['width'] > (width_mean + 3 * width_std)).mean())\n",
    "\n",
    "iso_forest_width = IsolationForest(contamination=contamination_width, random_state=42)\n",
    "df.loc[:, 'outlier_flag_width'] = iso_forest_width.fit_predict(df[['width', 'selling_price']])\n",
    "\n",
    "# Create a new DataFrame excluding rows with 'width' outliers\n",
    "df_no_outliers_width = df[df['outlier_flag_width'] != -1].drop('outlier_flag_width', axis=1)\n",
    "\n",
    "# Concatenate the three DataFrames into a single DataFrame\n",
    "df_combined = pd.concat([df_no_outliers_quantity, df_no_outliers_thickness, df_no_outliers_width], ignore_index=True)\n"
   ]
  },
  {
   "cell_type": "code",
   "execution_count": 47,
   "id": "cfb672ce",
   "metadata": {
    "colab": {
     "base_uri": "https://localhost:8080/",
     "height": 338
    },
    "id": "cfb672ce",
    "outputId": "2d8b62b9-ab83-4e6f-b6ee-ad205d0728e0",
    "scrolled": true
   },
   "outputs": [
    {
     "data": {
      "text/html": [
       "<div>\n",
       "<style scoped>\n",
       "    .dataframe tbody tr th:only-of-type {\n",
       "        vertical-align: middle;\n",
       "    }\n",
       "\n",
       "    .dataframe tbody tr th {\n",
       "        vertical-align: top;\n",
       "    }\n",
       "\n",
       "    .dataframe thead th {\n",
       "        text-align: right;\n",
       "    }\n",
       "</style>\n",
       "<table border=\"1\" class=\"dataframe\">\n",
       "  <thead>\n",
       "    <tr style=\"text-align: right;\">\n",
       "      <th></th>\n",
       "      <th>item_date</th>\n",
       "      <th>quantity tons</th>\n",
       "      <th>country</th>\n",
       "      <th>application</th>\n",
       "      <th>thickness</th>\n",
       "      <th>width</th>\n",
       "      <th>delivery date</th>\n",
       "      <th>selling_price</th>\n",
       "      <th>id_encoded</th>\n",
       "      <th>status_encoded</th>\n",
       "      <th>item type_encoded</th>\n",
       "      <th>product_ref_encoded</th>\n",
       "      <th>material_ref_encoded</th>\n",
       "      <th>customer_encoded</th>\n",
       "      <th>outlier_flag</th>\n",
       "      <th>outlier_flag_quantity</th>\n",
       "    </tr>\n",
       "  </thead>\n",
       "  <tbody>\n",
       "    <tr>\n",
       "      <th>count</th>\n",
       "      <td>508474</td>\n",
       "      <td>5.084740e+05</td>\n",
       "      <td>508474.000000</td>\n",
       "      <td>508474.000000</td>\n",
       "      <td>508474.000000</td>\n",
       "      <td>508474.000000</td>\n",
       "      <td>508474</td>\n",
       "      <td>5.084740e+05</td>\n",
       "      <td>508474.000000</td>\n",
       "      <td>508474.000000</td>\n",
       "      <td>508474.000000</td>\n",
       "      <td>508474.000000</td>\n",
       "      <td>508474.000000</td>\n",
       "      <td>508474.000000</td>\n",
       "      <td>508474.000000</td>\n",
       "      <td>344969.000000</td>\n",
       "    </tr>\n",
       "    <tr>\n",
       "      <th>mean</th>\n",
       "      <td>2020-11-26 09:28:02.592226304</td>\n",
       "      <td>4.209358e+03</td>\n",
       "      <td>44.978138</td>\n",
       "      <td>25.463008</td>\n",
       "      <td>2.395735</td>\n",
       "      <td>1292.223957</td>\n",
       "      <td>2021-01-25 02:06:42.059496192</td>\n",
       "      <td>1.216637e+03</td>\n",
       "      <td>90843.845361</td>\n",
       "      <td>5.207678</td>\n",
       "      <td>4.148041</td>\n",
       "      <td>19.035850</td>\n",
       "      <td>12278.436970</td>\n",
       "      <td>405.806960</td>\n",
       "      <td>0.885851</td>\n",
       "      <td>0.831747</td>\n",
       "    </tr>\n",
       "    <tr>\n",
       "      <th>min</th>\n",
       "      <td>2020-07-02 00:00:00</td>\n",
       "      <td>-1.800000e+01</td>\n",
       "      <td>25.000000</td>\n",
       "      <td>2.000000</td>\n",
       "      <td>0.180000</td>\n",
       "      <td>1.000000</td>\n",
       "      <td>2019-04-01 00:00:00</td>\n",
       "      <td>-1.160000e+03</td>\n",
       "      <td>0.000000</td>\n",
       "      <td>0.000000</td>\n",
       "      <td>0.000000</td>\n",
       "      <td>0.000000</td>\n",
       "      <td>0.000000</td>\n",
       "      <td>0.000000</td>\n",
       "      <td>-1.000000</td>\n",
       "      <td>-1.000000</td>\n",
       "    </tr>\n",
       "    <tr>\n",
       "      <th>25%</th>\n",
       "      <td>2020-09-29 00:00:00</td>\n",
       "      <td>1.072057e+01</td>\n",
       "      <td>26.000000</td>\n",
       "      <td>10.000000</td>\n",
       "      <td>0.700000</td>\n",
       "      <td>1175.000000</td>\n",
       "      <td>2020-11-01 00:00:00</td>\n",
       "      <td>6.770000e+02</td>\n",
       "      <td>45457.000000</td>\n",
       "      <td>2.000000</td>\n",
       "      <td>3.000000</td>\n",
       "      <td>12.000000</td>\n",
       "      <td>8751.000000</td>\n",
       "      <td>150.000000</td>\n",
       "      <td>1.000000</td>\n",
       "      <td>1.000000</td>\n",
       "    </tr>\n",
       "    <tr>\n",
       "      <th>50%</th>\n",
       "      <td>2020-11-30 00:00:00</td>\n",
       "      <td>2.983710e+01</td>\n",
       "      <td>30.000000</td>\n",
       "      <td>15.000000</td>\n",
       "      <td>1.500000</td>\n",
       "      <td>1250.000000</td>\n",
       "      <td>2021-01-01 00:00:00</td>\n",
       "      <td>8.150000e+02</td>\n",
       "      <td>90864.500000</td>\n",
       "      <td>7.000000</td>\n",
       "      <td>5.000000</td>\n",
       "      <td>25.000000</td>\n",
       "      <td>14866.000000</td>\n",
       "      <td>311.000000</td>\n",
       "      <td>1.000000</td>\n",
       "      <td>1.000000</td>\n",
       "    </tr>\n",
       "    <tr>\n",
       "      <th>75%</th>\n",
       "      <td>2021-02-02 00:00:00</td>\n",
       "      <td>6.137929e+01</td>\n",
       "      <td>78.000000</td>\n",
       "      <td>41.000000</td>\n",
       "      <td>3.000000</td>\n",
       "      <td>1500.000000</td>\n",
       "      <td>2021-04-01 00:00:00</td>\n",
       "      <td>9.520000e+02</td>\n",
       "      <td>136255.750000</td>\n",
       "      <td>7.000000</td>\n",
       "      <td>5.000000</td>\n",
       "      <td>28.000000</td>\n",
       "      <td>16553.000000</td>\n",
       "      <td>637.000000</td>\n",
       "      <td>1.000000</td>\n",
       "      <td>1.000000</td>\n",
       "    </tr>\n",
       "    <tr>\n",
       "      <th>max</th>\n",
       "      <td>2021-04-01 00:00:00</td>\n",
       "      <td>1.000000e+09</td>\n",
       "      <td>113.000000</td>\n",
       "      <td>99.000000</td>\n",
       "      <td>2500.000000</td>\n",
       "      <td>2990.000000</td>\n",
       "      <td>2022-01-01 00:00:00</td>\n",
       "      <td>1.000010e+08</td>\n",
       "      <td>181671.000000</td>\n",
       "      <td>9.000000</td>\n",
       "      <td>6.000000</td>\n",
       "      <td>32.000000</td>\n",
       "      <td>16563.000000</td>\n",
       "      <td>1169.000000</td>\n",
       "      <td>1.000000</td>\n",
       "      <td>1.000000</td>\n",
       "    </tr>\n",
       "    <tr>\n",
       "      <th>std</th>\n",
       "      <td>NaN</td>\n",
       "      <td>1.985739e+06</td>\n",
       "      <td>24.440112</td>\n",
       "      <td>17.727767</td>\n",
       "      <td>4.391665</td>\n",
       "      <td>257.989983</td>\n",
       "      <td>NaN</td>\n",
       "      <td>1.983267e+05</td>\n",
       "      <td>52438.371105</td>\n",
       "      <td>2.595768</td>\n",
       "      <td>1.048074</td>\n",
       "      <td>10.493926</td>\n",
       "      <td>5023.297846</td>\n",
       "      <td>315.999469</td>\n",
       "      <td>0.463971</td>\n",
       "      <td>0.555155</td>\n",
       "    </tr>\n",
       "  </tbody>\n",
       "</table>\n",
       "</div>"
      ],
      "text/plain": [
       "                           item_date  quantity tons        country  \\\n",
       "count                         508474   5.084740e+05  508474.000000   \n",
       "mean   2020-11-26 09:28:02.592226304   4.209358e+03      44.978138   \n",
       "min              2020-07-02 00:00:00  -1.800000e+01      25.000000   \n",
       "25%              2020-09-29 00:00:00   1.072057e+01      26.000000   \n",
       "50%              2020-11-30 00:00:00   2.983710e+01      30.000000   \n",
       "75%              2021-02-02 00:00:00   6.137929e+01      78.000000   \n",
       "max              2021-04-01 00:00:00   1.000000e+09     113.000000   \n",
       "std                              NaN   1.985739e+06      24.440112   \n",
       "\n",
       "         application      thickness          width  \\\n",
       "count  508474.000000  508474.000000  508474.000000   \n",
       "mean       25.463008       2.395735    1292.223957   \n",
       "min         2.000000       0.180000       1.000000   \n",
       "25%        10.000000       0.700000    1175.000000   \n",
       "50%        15.000000       1.500000    1250.000000   \n",
       "75%        41.000000       3.000000    1500.000000   \n",
       "max        99.000000    2500.000000    2990.000000   \n",
       "std        17.727767       4.391665     257.989983   \n",
       "\n",
       "                       delivery date  selling_price     id_encoded  \\\n",
       "count                         508474   5.084740e+05  508474.000000   \n",
       "mean   2021-01-25 02:06:42.059496192   1.216637e+03   90843.845361   \n",
       "min              2019-04-01 00:00:00  -1.160000e+03       0.000000   \n",
       "25%              2020-11-01 00:00:00   6.770000e+02   45457.000000   \n",
       "50%              2021-01-01 00:00:00   8.150000e+02   90864.500000   \n",
       "75%              2021-04-01 00:00:00   9.520000e+02  136255.750000   \n",
       "max              2022-01-01 00:00:00   1.000010e+08  181671.000000   \n",
       "std                              NaN   1.983267e+05   52438.371105   \n",
       "\n",
       "       status_encoded  item type_encoded  product_ref_encoded  \\\n",
       "count   508474.000000      508474.000000        508474.000000   \n",
       "mean         5.207678           4.148041            19.035850   \n",
       "min          0.000000           0.000000             0.000000   \n",
       "25%          2.000000           3.000000            12.000000   \n",
       "50%          7.000000           5.000000            25.000000   \n",
       "75%          7.000000           5.000000            28.000000   \n",
       "max          9.000000           6.000000            32.000000   \n",
       "std          2.595768           1.048074            10.493926   \n",
       "\n",
       "       material_ref_encoded  customer_encoded   outlier_flag  \\\n",
       "count         508474.000000     508474.000000  508474.000000   \n",
       "mean           12278.436970        405.806960       0.885851   \n",
       "min                0.000000          0.000000      -1.000000   \n",
       "25%             8751.000000        150.000000       1.000000   \n",
       "50%            14866.000000        311.000000       1.000000   \n",
       "75%            16553.000000        637.000000       1.000000   \n",
       "max            16563.000000       1169.000000       1.000000   \n",
       "std             5023.297846        315.999469       0.463971   \n",
       "\n",
       "       outlier_flag_quantity  \n",
       "count          344969.000000  \n",
       "mean                0.831747  \n",
       "min                -1.000000  \n",
       "25%                 1.000000  \n",
       "50%                 1.000000  \n",
       "75%                 1.000000  \n",
       "max                 1.000000  \n",
       "std                 0.555155  "
      ]
     },
     "execution_count": 47,
     "metadata": {},
     "output_type": "execute_result"
    }
   ],
   "source": [
    "df_combined.describe()"
   ]
  },
  {
   "cell_type": "code",
   "execution_count": 48,
   "id": "d9cee979",
   "metadata": {
    "id": "d9cee979"
   },
   "outputs": [],
   "source": [
    "df_combined['thickness'] = df_combined['thickness'].clip(upper=10)"
   ]
  },
  {
   "cell_type": "code",
   "execution_count": 49,
   "id": "82861a59",
   "metadata": {
    "colab": {
     "base_uri": "https://localhost:8080/"
    },
    "id": "82861a59",
    "outputId": "3429055c-aa5f-4f03-b9bf-dbe9375e1b45"
   },
   "outputs": [
    {
     "data": {
      "text/plain": [
       "count    508474.000000\n",
       "mean          2.321058\n",
       "std           2.227077\n",
       "min           0.180000\n",
       "25%           0.700000\n",
       "50%           1.500000\n",
       "75%           3.000000\n",
       "max          10.000000\n",
       "Name: thickness, dtype: float64"
      ]
     },
     "execution_count": 49,
     "metadata": {},
     "output_type": "execute_result"
    }
   ],
   "source": [
    "df_combined['thickness'].describe()"
   ]
  },
  {
   "cell_type": "code",
   "execution_count": 50,
   "id": "1f74abfa",
   "metadata": {
    "id": "1f74abfa"
   },
   "outputs": [],
   "source": [
    "df_combined['width']=df_combined['width'].clip(lower=100)"
   ]
  },
  {
   "cell_type": "code",
   "execution_count": 51,
   "id": "062d42bf",
   "metadata": {
    "colab": {
     "base_uri": "https://localhost:8080/"
    },
    "id": "062d42bf",
    "outputId": "ad5973ff-befb-4d03-af75-59aa98ce7b0a"
   },
   "outputs": [
    {
     "data": {
      "text/plain": [
       "count    508474.000000\n",
       "mean       1292.227047\n",
       "std         257.975398\n",
       "min         100.000000\n",
       "25%        1175.000000\n",
       "50%        1250.000000\n",
       "75%        1500.000000\n",
       "max        2990.000000\n",
       "Name: width, dtype: float64"
      ]
     },
     "execution_count": 51,
     "metadata": {},
     "output_type": "execute_result"
    }
   ],
   "source": [
    "df_combined['width'].describe()"
   ]
  },
  {
   "cell_type": "code",
   "execution_count": 52,
   "id": "9ffa24e5",
   "metadata": {
    "colab": {
     "base_uri": "https://localhost:8080/",
     "height": 338
    },
    "id": "9ffa24e5",
    "outputId": "fae52f87-6fca-44f6-9598-496025d152ec"
   },
   "outputs": [
    {
     "data": {
      "text/html": [
       "<div>\n",
       "<style scoped>\n",
       "    .dataframe tbody tr th:only-of-type {\n",
       "        vertical-align: middle;\n",
       "    }\n",
       "\n",
       "    .dataframe tbody tr th {\n",
       "        vertical-align: top;\n",
       "    }\n",
       "\n",
       "    .dataframe thead th {\n",
       "        text-align: right;\n",
       "    }\n",
       "</style>\n",
       "<table border=\"1\" class=\"dataframe\">\n",
       "  <thead>\n",
       "    <tr style=\"text-align: right;\">\n",
       "      <th></th>\n",
       "      <th>item_date</th>\n",
       "      <th>quantity tons</th>\n",
       "      <th>country</th>\n",
       "      <th>application</th>\n",
       "      <th>thickness</th>\n",
       "      <th>width</th>\n",
       "      <th>delivery date</th>\n",
       "      <th>selling_price</th>\n",
       "      <th>id_encoded</th>\n",
       "      <th>status_encoded</th>\n",
       "      <th>item type_encoded</th>\n",
       "      <th>product_ref_encoded</th>\n",
       "      <th>material_ref_encoded</th>\n",
       "      <th>customer_encoded</th>\n",
       "      <th>outlier_flag</th>\n",
       "      <th>outlier_flag_quantity</th>\n",
       "    </tr>\n",
       "  </thead>\n",
       "  <tbody>\n",
       "    <tr>\n",
       "      <th>count</th>\n",
       "      <td>508474</td>\n",
       "      <td>5.084740e+05</td>\n",
       "      <td>508474.000000</td>\n",
       "      <td>508474.000000</td>\n",
       "      <td>508474.000000</td>\n",
       "      <td>508474.000000</td>\n",
       "      <td>508474</td>\n",
       "      <td>5.084740e+05</td>\n",
       "      <td>508474.000000</td>\n",
       "      <td>508474.000000</td>\n",
       "      <td>508474.000000</td>\n",
       "      <td>508474.000000</td>\n",
       "      <td>508474.000000</td>\n",
       "      <td>508474.000000</td>\n",
       "      <td>508474.000000</td>\n",
       "      <td>344969.000000</td>\n",
       "    </tr>\n",
       "    <tr>\n",
       "      <th>mean</th>\n",
       "      <td>2020-11-26 09:28:02.592226304</td>\n",
       "      <td>4.209358e+03</td>\n",
       "      <td>44.978138</td>\n",
       "      <td>25.463008</td>\n",
       "      <td>2.321058</td>\n",
       "      <td>1292.227047</td>\n",
       "      <td>2021-01-25 02:06:42.059496192</td>\n",
       "      <td>1.216637e+03</td>\n",
       "      <td>90843.845361</td>\n",
       "      <td>5.207678</td>\n",
       "      <td>4.148041</td>\n",
       "      <td>19.035850</td>\n",
       "      <td>12278.436970</td>\n",
       "      <td>405.806960</td>\n",
       "      <td>0.885851</td>\n",
       "      <td>0.831747</td>\n",
       "    </tr>\n",
       "    <tr>\n",
       "      <th>min</th>\n",
       "      <td>2020-07-02 00:00:00</td>\n",
       "      <td>-1.800000e+01</td>\n",
       "      <td>25.000000</td>\n",
       "      <td>2.000000</td>\n",
       "      <td>0.180000</td>\n",
       "      <td>100.000000</td>\n",
       "      <td>2019-04-01 00:00:00</td>\n",
       "      <td>-1.160000e+03</td>\n",
       "      <td>0.000000</td>\n",
       "      <td>0.000000</td>\n",
       "      <td>0.000000</td>\n",
       "      <td>0.000000</td>\n",
       "      <td>0.000000</td>\n",
       "      <td>0.000000</td>\n",
       "      <td>-1.000000</td>\n",
       "      <td>-1.000000</td>\n",
       "    </tr>\n",
       "    <tr>\n",
       "      <th>25%</th>\n",
       "      <td>2020-09-29 00:00:00</td>\n",
       "      <td>1.072057e+01</td>\n",
       "      <td>26.000000</td>\n",
       "      <td>10.000000</td>\n",
       "      <td>0.700000</td>\n",
       "      <td>1175.000000</td>\n",
       "      <td>2020-11-01 00:00:00</td>\n",
       "      <td>6.770000e+02</td>\n",
       "      <td>45457.000000</td>\n",
       "      <td>2.000000</td>\n",
       "      <td>3.000000</td>\n",
       "      <td>12.000000</td>\n",
       "      <td>8751.000000</td>\n",
       "      <td>150.000000</td>\n",
       "      <td>1.000000</td>\n",
       "      <td>1.000000</td>\n",
       "    </tr>\n",
       "    <tr>\n",
       "      <th>50%</th>\n",
       "      <td>2020-11-30 00:00:00</td>\n",
       "      <td>2.983710e+01</td>\n",
       "      <td>30.000000</td>\n",
       "      <td>15.000000</td>\n",
       "      <td>1.500000</td>\n",
       "      <td>1250.000000</td>\n",
       "      <td>2021-01-01 00:00:00</td>\n",
       "      <td>8.150000e+02</td>\n",
       "      <td>90864.500000</td>\n",
       "      <td>7.000000</td>\n",
       "      <td>5.000000</td>\n",
       "      <td>25.000000</td>\n",
       "      <td>14866.000000</td>\n",
       "      <td>311.000000</td>\n",
       "      <td>1.000000</td>\n",
       "      <td>1.000000</td>\n",
       "    </tr>\n",
       "    <tr>\n",
       "      <th>75%</th>\n",
       "      <td>2021-02-02 00:00:00</td>\n",
       "      <td>6.137929e+01</td>\n",
       "      <td>78.000000</td>\n",
       "      <td>41.000000</td>\n",
       "      <td>3.000000</td>\n",
       "      <td>1500.000000</td>\n",
       "      <td>2021-04-01 00:00:00</td>\n",
       "      <td>9.520000e+02</td>\n",
       "      <td>136255.750000</td>\n",
       "      <td>7.000000</td>\n",
       "      <td>5.000000</td>\n",
       "      <td>28.000000</td>\n",
       "      <td>16553.000000</td>\n",
       "      <td>637.000000</td>\n",
       "      <td>1.000000</td>\n",
       "      <td>1.000000</td>\n",
       "    </tr>\n",
       "    <tr>\n",
       "      <th>max</th>\n",
       "      <td>2021-04-01 00:00:00</td>\n",
       "      <td>1.000000e+09</td>\n",
       "      <td>113.000000</td>\n",
       "      <td>99.000000</td>\n",
       "      <td>10.000000</td>\n",
       "      <td>2990.000000</td>\n",
       "      <td>2022-01-01 00:00:00</td>\n",
       "      <td>1.000010e+08</td>\n",
       "      <td>181671.000000</td>\n",
       "      <td>9.000000</td>\n",
       "      <td>6.000000</td>\n",
       "      <td>32.000000</td>\n",
       "      <td>16563.000000</td>\n",
       "      <td>1169.000000</td>\n",
       "      <td>1.000000</td>\n",
       "      <td>1.000000</td>\n",
       "    </tr>\n",
       "    <tr>\n",
       "      <th>std</th>\n",
       "      <td>NaN</td>\n",
       "      <td>1.985739e+06</td>\n",
       "      <td>24.440112</td>\n",
       "      <td>17.727767</td>\n",
       "      <td>2.227077</td>\n",
       "      <td>257.975398</td>\n",
       "      <td>NaN</td>\n",
       "      <td>1.983267e+05</td>\n",
       "      <td>52438.371105</td>\n",
       "      <td>2.595768</td>\n",
       "      <td>1.048074</td>\n",
       "      <td>10.493926</td>\n",
       "      <td>5023.297846</td>\n",
       "      <td>315.999469</td>\n",
       "      <td>0.463971</td>\n",
       "      <td>0.555155</td>\n",
       "    </tr>\n",
       "  </tbody>\n",
       "</table>\n",
       "</div>"
      ],
      "text/plain": [
       "                           item_date  quantity tons        country  \\\n",
       "count                         508474   5.084740e+05  508474.000000   \n",
       "mean   2020-11-26 09:28:02.592226304   4.209358e+03      44.978138   \n",
       "min              2020-07-02 00:00:00  -1.800000e+01      25.000000   \n",
       "25%              2020-09-29 00:00:00   1.072057e+01      26.000000   \n",
       "50%              2020-11-30 00:00:00   2.983710e+01      30.000000   \n",
       "75%              2021-02-02 00:00:00   6.137929e+01      78.000000   \n",
       "max              2021-04-01 00:00:00   1.000000e+09     113.000000   \n",
       "std                              NaN   1.985739e+06      24.440112   \n",
       "\n",
       "         application      thickness          width  \\\n",
       "count  508474.000000  508474.000000  508474.000000   \n",
       "mean       25.463008       2.321058    1292.227047   \n",
       "min         2.000000       0.180000     100.000000   \n",
       "25%        10.000000       0.700000    1175.000000   \n",
       "50%        15.000000       1.500000    1250.000000   \n",
       "75%        41.000000       3.000000    1500.000000   \n",
       "max        99.000000      10.000000    2990.000000   \n",
       "std        17.727767       2.227077     257.975398   \n",
       "\n",
       "                       delivery date  selling_price     id_encoded  \\\n",
       "count                         508474   5.084740e+05  508474.000000   \n",
       "mean   2021-01-25 02:06:42.059496192   1.216637e+03   90843.845361   \n",
       "min              2019-04-01 00:00:00  -1.160000e+03       0.000000   \n",
       "25%              2020-11-01 00:00:00   6.770000e+02   45457.000000   \n",
       "50%              2021-01-01 00:00:00   8.150000e+02   90864.500000   \n",
       "75%              2021-04-01 00:00:00   9.520000e+02  136255.750000   \n",
       "max              2022-01-01 00:00:00   1.000010e+08  181671.000000   \n",
       "std                              NaN   1.983267e+05   52438.371105   \n",
       "\n",
       "       status_encoded  item type_encoded  product_ref_encoded  \\\n",
       "count   508474.000000      508474.000000        508474.000000   \n",
       "mean         5.207678           4.148041            19.035850   \n",
       "min          0.000000           0.000000             0.000000   \n",
       "25%          2.000000           3.000000            12.000000   \n",
       "50%          7.000000           5.000000            25.000000   \n",
       "75%          7.000000           5.000000            28.000000   \n",
       "max          9.000000           6.000000            32.000000   \n",
       "std          2.595768           1.048074            10.493926   \n",
       "\n",
       "       material_ref_encoded  customer_encoded   outlier_flag  \\\n",
       "count         508474.000000     508474.000000  508474.000000   \n",
       "mean           12278.436970        405.806960       0.885851   \n",
       "min                0.000000          0.000000      -1.000000   \n",
       "25%             8751.000000        150.000000       1.000000   \n",
       "50%            14866.000000        311.000000       1.000000   \n",
       "75%            16553.000000        637.000000       1.000000   \n",
       "max            16563.000000       1169.000000       1.000000   \n",
       "std             5023.297846        315.999469       0.463971   \n",
       "\n",
       "       outlier_flag_quantity  \n",
       "count          344969.000000  \n",
       "mean                0.831747  \n",
       "min                -1.000000  \n",
       "25%                 1.000000  \n",
       "50%                 1.000000  \n",
       "75%                 1.000000  \n",
       "max                 1.000000  \n",
       "std                 0.555155  "
      ]
     },
     "execution_count": 52,
     "metadata": {},
     "output_type": "execute_result"
    }
   ],
   "source": [
    "df_combined.describe()"
   ]
  },
  {
   "cell_type": "code",
   "execution_count": 53,
   "id": "e20f0016",
   "metadata": {
    "colab": {
     "base_uri": "https://localhost:8080/",
     "height": 472
    },
    "id": "e20f0016",
    "outputId": "d5c96018-c666-4d47-c522-c6f8a43f1207"
   },
   "outputs": [
    {
     "data": {
      "image/png": "[encoded data removed]",
      "text/plain": [
       "<Figure size 640x480 with 1 Axes>"
      ]
     },
     "metadata": {},
     "output_type": "display_data"
    }
   ],
   "source": [
    "import matplotlib.pyplot as plt\n",
    "\n",
    "# Assuming df_combined is your combined DataFrame\n",
    "selling_price = df_combined['selling_price']\n",
    "thickness = df_combined['thickness']\n",
    "\n",
    "# Scatter plot\n",
    "plt.scatter(selling_price, thickness, alpha=0.5)\n",
    "plt.xlabel('Selling Price')\n",
    "plt.ylabel('Thickness')\n",
    "plt.title('Thickness vs Selling Price')\n",
    "plt.show()\n"
   ]
  },
  {
   "cell_type": "code",
   "execution_count": 54,
   "id": "ec88f80e",
   "metadata": {
    "colab": {
     "base_uri": "https://localhost:8080/",
     "height": 472
    },
    "id": "ec88f80e",
    "outputId": "01804c4a-12fb-4eb6-89df-d25cc43c1520"
   },
   "outputs": [
    {
     "data": {
      "image/png": "[encoded data removed]",
      "text/plain": [
       "<Figure size 640x480 with 1 Axes>"
      ]
     },
     "metadata": {},
     "output_type": "display_data"
    }
   ],
   "source": [
    "import matplotlib.pyplot as plt\n",
    "selling_price=df_combined['selling_price']\n",
    "width=df_combined['thickness']\n",
    "plt.plot(selling_price,width)\n",
    "plt.xlabel('thickness')\n",
    "plt.ylabel('width')\n",
    "plt.title('width vs selling_price')\n",
    "plt.show()"
   ]
  },
  {
   "cell_type": "code",
   "execution_count": 55,
   "id": "ad9c56ea",
   "metadata": {
    "colab": {
     "base_uri": "https://localhost:8080/",
     "height": 947
    },
    "id": "ad9c56ea",
    "outputId": "4264d8f5-a0bc-4c6a-b7c5-1044ab547980"
   },
   "outputs": [
    {
     "data": {
      "text/html": [
       "<div>\n",
       "<style scoped>\n",
       "    .dataframe tbody tr th:only-of-type {\n",
       "        vertical-align: middle;\n",
       "    }\n",
       "\n",
       "    .dataframe tbody tr th {\n",
       "        vertical-align: top;\n",
       "    }\n",
       "\n",
       "    .dataframe thead th {\n",
       "        text-align: right;\n",
       "    }\n",
       "</style>\n",
       "<table border=\"1\" class=\"dataframe\">\n",
       "  <thead>\n",
       "    <tr style=\"text-align: right;\">\n",
       "      <th></th>\n",
       "      <th>id</th>\n",
       "      <th>item_date</th>\n",
       "      <th>quantity tons</th>\n",
       "      <th>customer</th>\n",
       "      <th>country</th>\n",
       "      <th>status</th>\n",
       "      <th>item type</th>\n",
       "      <th>application</th>\n",
       "      <th>thickness</th>\n",
       "      <th>width</th>\n",
       "      <th>...</th>\n",
       "      <th>selling_price</th>\n",
       "      <th>id_encoded</th>\n",
       "      <th>status_encoded</th>\n",
       "      <th>item type_encoded</th>\n",
       "      <th>product_ref_encoded</th>\n",
       "      <th>material_ref_encoded</th>\n",
       "      <th>customer_encoded</th>\n",
       "      <th>outlier_flag</th>\n",
       "      <th>outlier_flag_quantity</th>\n",
       "      <th>outlier_flag_width</th>\n",
       "    </tr>\n",
       "  </thead>\n",
       "  <tbody>\n",
       "    <tr>\n",
       "      <th>0</th>\n",
       "      <td>EC06F063-9DF0-440C-8764-0B0C05A4F6AE</td>\n",
       "      <td>2021-04-01</td>\n",
       "      <td>54.151139</td>\n",
       "      <td>30156308.0</td>\n",
       "      <td>28.0</td>\n",
       "      <td>Won</td>\n",
       "      <td>W</td>\n",
       "      <td>10.0</td>\n",
       "      <td>2.00</td>\n",
       "      <td>1500.0</td>\n",
       "      <td>...</td>\n",
       "      <td>854.00</td>\n",
       "      <td>167599</td>\n",
       "      <td>7</td>\n",
       "      <td>5</td>\n",
       "      <td>14</td>\n",
       "      <td>10445</td>\n",
       "      <td>52</td>\n",
       "      <td>1</td>\n",
       "      <td>1</td>\n",
       "      <td>1</td>\n",
       "    </tr>\n",
       "    <tr>\n",
       "      <th>1</th>\n",
       "      <td>4E5F4B3D-DDDF-499D-AFDE-A3227EC49425</td>\n",
       "      <td>2021-04-01</td>\n",
       "      <td>768.024839</td>\n",
       "      <td>30202938.0</td>\n",
       "      <td>25.0</td>\n",
       "      <td>Won</td>\n",
       "      <td>W</td>\n",
       "      <td>41.0</td>\n",
       "      <td>0.80</td>\n",
       "      <td>1210.0</td>\n",
       "      <td>...</td>\n",
       "      <td>1047.00</td>\n",
       "      <td>55577</td>\n",
       "      <td>7</td>\n",
       "      <td>5</td>\n",
       "      <td>12</td>\n",
       "      <td>1184</td>\n",
       "      <td>289</td>\n",
       "      <td>-1</td>\n",
       "      <td>-1</td>\n",
       "      <td>1</td>\n",
       "    </tr>\n",
       "    <tr>\n",
       "      <th>2</th>\n",
       "      <td>E140FF1B-2407-4C02-A0DD-780A093B1158</td>\n",
       "      <td>2021-04-01</td>\n",
       "      <td>386.127949</td>\n",
       "      <td>30153963.0</td>\n",
       "      <td>30.0</td>\n",
       "      <td>Won</td>\n",
       "      <td>WI</td>\n",
       "      <td>28.0</td>\n",
       "      <td>0.38</td>\n",
       "      <td>952.0</td>\n",
       "      <td>...</td>\n",
       "      <td>644.33</td>\n",
       "      <td>159737</td>\n",
       "      <td>7</td>\n",
       "      <td>6</td>\n",
       "      <td>28</td>\n",
       "      <td>14749</td>\n",
       "      <td>40</td>\n",
       "      <td>-1</td>\n",
       "      <td>-1</td>\n",
       "      <td>1</td>\n",
       "    </tr>\n",
       "    <tr>\n",
       "      <th>3</th>\n",
       "      <td>F8D507A0-9C62-4EFE-831E-33E1DA53BB50</td>\n",
       "      <td>2021-04-01</td>\n",
       "      <td>202.411065</td>\n",
       "      <td>30349574.0</td>\n",
       "      <td>32.0</td>\n",
       "      <td>Won</td>\n",
       "      <td>S</td>\n",
       "      <td>59.0</td>\n",
       "      <td>2.30</td>\n",
       "      <td>1317.0</td>\n",
       "      <td>...</td>\n",
       "      <td>768.00</td>\n",
       "      <td>176555</td>\n",
       "      <td>7</td>\n",
       "      <td>3</td>\n",
       "      <td>12</td>\n",
       "      <td>10719</td>\n",
       "      <td>956</td>\n",
       "      <td>1</td>\n",
       "      <td>1</td>\n",
       "      <td>1</td>\n",
       "    </tr>\n",
       "    <tr>\n",
       "      <th>4</th>\n",
       "      <td>4E1C4E78-152B-430A-8094-ADD889C9D0AD</td>\n",
       "      <td>2021-04-01</td>\n",
       "      <td>785.526262</td>\n",
       "      <td>30211560.0</td>\n",
       "      <td>28.0</td>\n",
       "      <td>Won</td>\n",
       "      <td>W</td>\n",
       "      <td>10.0</td>\n",
       "      <td>4.00</td>\n",
       "      <td>2000.0</td>\n",
       "      <td>...</td>\n",
       "      <td>577.00</td>\n",
       "      <td>55380</td>\n",
       "      <td>7</td>\n",
       "      <td>5</td>\n",
       "      <td>31</td>\n",
       "      <td>6976</td>\n",
       "      <td>398</td>\n",
       "      <td>-1</td>\n",
       "      <td>-1</td>\n",
       "      <td>1</td>\n",
       "    </tr>\n",
       "    <tr>\n",
       "      <th>...</th>\n",
       "      <td>...</td>\n",
       "      <td>...</td>\n",
       "      <td>...</td>\n",
       "      <td>...</td>\n",
       "      <td>...</td>\n",
       "      <td>...</td>\n",
       "      <td>...</td>\n",
       "      <td>...</td>\n",
       "      <td>...</td>\n",
       "      <td>...</td>\n",
       "      <td>...</td>\n",
       "      <td>...</td>\n",
       "      <td>...</td>\n",
       "      <td>...</td>\n",
       "      <td>...</td>\n",
       "      <td>...</td>\n",
       "      <td>...</td>\n",
       "      <td>...</td>\n",
       "      <td>...</td>\n",
       "      <td>...</td>\n",
       "      <td>...</td>\n",
       "    </tr>\n",
       "    <tr>\n",
       "      <th>181668</th>\n",
       "      <td>DE633116-D1DF-4846-982E-55EFC3658A76</td>\n",
       "      <td>2020-07-02</td>\n",
       "      <td>102.482422</td>\n",
       "      <td>30200854.0</td>\n",
       "      <td>25.0</td>\n",
       "      <td>Won</td>\n",
       "      <td>W</td>\n",
       "      <td>41.0</td>\n",
       "      <td>0.96</td>\n",
       "      <td>1220.0</td>\n",
       "      <td>...</td>\n",
       "      <td>591.00</td>\n",
       "      <td>157706</td>\n",
       "      <td>7</td>\n",
       "      <td>5</td>\n",
       "      <td>2</td>\n",
       "      <td>2004</td>\n",
       "      <td>224</td>\n",
       "      <td>1</td>\n",
       "      <td>1</td>\n",
       "      <td>1</td>\n",
       "    </tr>\n",
       "    <tr>\n",
       "      <th>181669</th>\n",
       "      <td>A48374B1-E6DB-45F2-889A-1F9C27C099EB</td>\n",
       "      <td>2020-07-02</td>\n",
       "      <td>208.086469</td>\n",
       "      <td>30200854.0</td>\n",
       "      <td>25.0</td>\n",
       "      <td>Won</td>\n",
       "      <td>W</td>\n",
       "      <td>41.0</td>\n",
       "      <td>0.95</td>\n",
       "      <td>1500.0</td>\n",
       "      <td>...</td>\n",
       "      <td>589.00</td>\n",
       "      <td>116794</td>\n",
       "      <td>7</td>\n",
       "      <td>5</td>\n",
       "      <td>2</td>\n",
       "      <td>1966</td>\n",
       "      <td>224</td>\n",
       "      <td>1</td>\n",
       "      <td>1</td>\n",
       "      <td>1</td>\n",
       "    </tr>\n",
       "    <tr>\n",
       "      <th>181670</th>\n",
       "      <td>91643238-5C7B-4237-9A5F-63AE3D35F320</td>\n",
       "      <td>2020-07-02</td>\n",
       "      <td>4.235594</td>\n",
       "      <td>30200854.0</td>\n",
       "      <td>25.0</td>\n",
       "      <td>Won</td>\n",
       "      <td>W</td>\n",
       "      <td>41.0</td>\n",
       "      <td>0.71</td>\n",
       "      <td>1250.0</td>\n",
       "      <td>...</td>\n",
       "      <td>619.00</td>\n",
       "      <td>103139</td>\n",
       "      <td>7</td>\n",
       "      <td>5</td>\n",
       "      <td>2</td>\n",
       "      <td>2200</td>\n",
       "      <td>224</td>\n",
       "      <td>1</td>\n",
       "      <td>1</td>\n",
       "      <td>1</td>\n",
       "    </tr>\n",
       "    <tr>\n",
       "      <th>181671</th>\n",
       "      <td>7AFFD323-01D9-4E15-B80D-7D1B03498FC8</td>\n",
       "      <td>2020-07-02</td>\n",
       "      <td>5874.969101</td>\n",
       "      <td>30200854.0</td>\n",
       "      <td>25.0</td>\n",
       "      <td>Won</td>\n",
       "      <td>W</td>\n",
       "      <td>41.0</td>\n",
       "      <td>0.85</td>\n",
       "      <td>1250.0</td>\n",
       "      <td>...</td>\n",
       "      <td>601.00</td>\n",
       "      <td>87216</td>\n",
       "      <td>7</td>\n",
       "      <td>5</td>\n",
       "      <td>2</td>\n",
       "      <td>2037</td>\n",
       "      <td>224</td>\n",
       "      <td>-1</td>\n",
       "      <td>-1</td>\n",
       "      <td>1</td>\n",
       "    </tr>\n",
       "    <tr>\n",
       "      <th>181672</th>\n",
       "      <td>AD0CA853-AE3C-4B2F-9FBB-8B0B965F84BC</td>\n",
       "      <td>2020-07-02</td>\n",
       "      <td>406.686538</td>\n",
       "      <td>30200854.0</td>\n",
       "      <td>25.0</td>\n",
       "      <td>Won</td>\n",
       "      <td>W</td>\n",
       "      <td>41.0</td>\n",
       "      <td>0.71</td>\n",
       "      <td>1240.0</td>\n",
       "      <td>...</td>\n",
       "      <td>607.00</td>\n",
       "      <td>122910</td>\n",
       "      <td>7</td>\n",
       "      <td>5</td>\n",
       "      <td>2</td>\n",
       "      <td>2258</td>\n",
       "      <td>224</td>\n",
       "      <td>-1</td>\n",
       "      <td>-1</td>\n",
       "      <td>1</td>\n",
       "    </tr>\n",
       "  </tbody>\n",
       "</table>\n",
       "<p>181673 rows × 23 columns</p>\n",
       "</div>"
      ],
      "text/plain": [
       "                                          id  item_date  quantity tons  \\\n",
       "0       EC06F063-9DF0-440C-8764-0B0C05A4F6AE 2021-04-01      54.151139   \n",
       "1       4E5F4B3D-DDDF-499D-AFDE-A3227EC49425 2021-04-01     768.024839   \n",
       "2       E140FF1B-2407-4C02-A0DD-780A093B1158 2021-04-01     386.127949   \n",
       "3       F8D507A0-9C62-4EFE-831E-33E1DA53BB50 2021-04-01     202.411065   \n",
       "4       4E1C4E78-152B-430A-8094-ADD889C9D0AD 2021-04-01     785.526262   \n",
       "...                                      ...        ...            ...   \n",
       "181668  DE633116-D1DF-4846-982E-55EFC3658A76 2020-07-02     102.482422   \n",
       "181669  A48374B1-E6DB-45F2-889A-1F9C27C099EB 2020-07-02     208.086469   \n",
       "181670  91643238-5C7B-4237-9A5F-63AE3D35F320 2020-07-02       4.235594   \n",
       "181671  7AFFD323-01D9-4E15-B80D-7D1B03498FC8 2020-07-02    5874.969101   \n",
       "181672  AD0CA853-AE3C-4B2F-9FBB-8B0B965F84BC 2020-07-02     406.686538   \n",
       "\n",
       "          customer  country status item type  application  thickness   width  \\\n",
       "0       30156308.0     28.0    Won         W         10.0       2.00  1500.0   \n",
       "1       30202938.0     25.0    Won         W         41.0       0.80  1210.0   \n",
       "2       30153963.0     30.0    Won        WI         28.0       0.38   952.0   \n",
       "3       30349574.0     32.0    Won         S         59.0       2.30  1317.0   \n",
       "4       30211560.0     28.0    Won         W         10.0       4.00  2000.0   \n",
       "...            ...      ...    ...       ...          ...        ...     ...   \n",
       "181668  30200854.0     25.0    Won         W         41.0       0.96  1220.0   \n",
       "181669  30200854.0     25.0    Won         W         41.0       0.95  1500.0   \n",
       "181670  30200854.0     25.0    Won         W         41.0       0.71  1250.0   \n",
       "181671  30200854.0     25.0    Won         W         41.0       0.85  1250.0   \n",
       "181672  30200854.0     25.0    Won         W         41.0       0.71  1240.0   \n",
       "\n",
       "        ... selling_price id_encoded status_encoded  item type_encoded  \\\n",
       "0       ...        854.00     167599              7                  5   \n",
       "1       ...       1047.00      55577              7                  5   \n",
       "2       ...        644.33     159737              7                  6   \n",
       "3       ...        768.00     176555              7                  3   \n",
       "4       ...        577.00      55380              7                  5   \n",
       "...     ...           ...        ...            ...                ...   \n",
       "181668  ...        591.00     157706              7                  5   \n",
       "181669  ...        589.00     116794              7                  5   \n",
       "181670  ...        619.00     103139              7                  5   \n",
       "181671  ...        601.00      87216              7                  5   \n",
       "181672  ...        607.00     122910              7                  5   \n",
       "\n",
       "        product_ref_encoded  material_ref_encoded  customer_encoded  \\\n",
       "0                        14                 10445                52   \n",
       "1                        12                  1184               289   \n",
       "2                        28                 14749                40   \n",
       "3                        12                 10719               956   \n",
       "4                        31                  6976               398   \n",
       "...                     ...                   ...               ...   \n",
       "181668                    2                  2004               224   \n",
       "181669                    2                  1966               224   \n",
       "181670                    2                  2200               224   \n",
       "181671                    2                  2037               224   \n",
       "181672                    2                  2258               224   \n",
       "\n",
       "        outlier_flag  outlier_flag_quantity  outlier_flag_width  \n",
       "0                  1                      1                   1  \n",
       "1                 -1                     -1                   1  \n",
       "2                 -1                     -1                   1  \n",
       "3                  1                      1                   1  \n",
       "4                 -1                     -1                   1  \n",
       "...              ...                    ...                 ...  \n",
       "181668             1                      1                   1  \n",
       "181669             1                      1                   1  \n",
       "181670             1                      1                   1  \n",
       "181671            -1                     -1                   1  \n",
       "181672            -1                     -1                   1  \n",
       "\n",
       "[181673 rows x 23 columns]"
      ]
     },
     "execution_count": 55,
     "metadata": {},
     "output_type": "execute_result"
    }
   ],
   "source": [
    "df"
   ]
  },
  {
   "cell_type": "code",
   "execution_count": 56,
   "id": "U2m0kJHMHNIV",
   "metadata": {
    "id": "U2m0kJHMHNIV"
   },
   "outputs": [],
   "source": [
    "df['delivery_period']=(df['delivery date']-df['item_date']).dt.days"
   ]
  },
  {
   "cell_type": "code",
   "execution_count": 57,
   "id": "1gSunxchHoh3",
   "metadata": {
    "colab": {
     "base_uri": "https://localhost:8080/"
    },
    "id": "1gSunxchHoh3",
    "outputId": "45506bb9-7c78-409f-eae6-8a534dde6f95"
   },
   "outputs": [
    {
     "data": {
      "text/plain": [
       "count    181673.000000\n",
       "mean         59.990802\n",
       "std          46.814758\n",
       "min        -689.000000\n",
       "25%          28.000000\n",
       "50%          59.000000\n",
       "75%          97.000000\n",
       "max         448.000000\n",
       "Name: delivery_period, dtype: float64"
      ]
     },
     "execution_count": 57,
     "metadata": {},
     "output_type": "execute_result"
    }
   ],
   "source": [
    "df['delivery_period'].describe()"
   ]
  },
  {
   "cell_type": "code",
   "execution_count": 58,
   "id": "5ZUYq21NVcCV",
   "metadata": {
    "colab": {
     "base_uri": "https://localhost:8080/"
    },
    "id": "5ZUYq21NVcCV",
    "outputId": "a6e1a122-88d7-4233-ef2d-7d80cbb79e49"
   },
   "outputs": [
    {
     "name": "stdout",
     "output_type": "stream",
     "text": [
      "Percentage of Negative values in delivery_period:8.866479884187523\n"
     ]
    }
   ],
   "source": [
    "total_rows=len(df)\n",
    "total_negative_values=len(df[df['delivery_period']<0])\n",
    "Percentage_of_negative_values=(total_negative_values/total_rows)*100\n",
    "print(f\"Percentage of Negative values in delivery_period:{Percentage_of_negative_values}\")"
   ]
  },
  {
   "cell_type": "code",
   "execution_count": 59,
   "id": "NlcjnewITtUn",
   "metadata": {
    "colab": {
     "base_uri": "https://localhost:8080/"
    },
    "id": "NlcjnewITtUn",
    "outputId": "af1e7183-8f43-4386-b12a-98d2a4e274af"
   },
   "outputs": [
    {
     "data": {
      "text/plain": [
       "16108"
      ]
     },
     "execution_count": 59,
     "metadata": {},
     "output_type": "execute_result"
    }
   ],
   "source": [
    "len(df[df['delivery_period']<0])"
   ]
  },
  {
   "cell_type": "code",
   "execution_count": 60,
   "id": "x-JCuC7tfmtt",
   "metadata": {
    "colab": {
     "base_uri": "https://localhost:8080/"
    },
    "id": "x-JCuC7tfmtt",
    "outputId": "5cd214dc-96ce-4e45-9fc8-0f1ff3449c15"
   },
   "outputs": [
    {
     "name": "stdout",
     "output_type": "stream",
     "text": [
      "The percentage of outlier values in delivery_period column is: 0.57%\n"
     ]
    }
   ],
   "source": [
    "import numpy as np\n",
    "Q1=df['delivery_period'].quantile(0.25)\n",
    "Q2=df['delivery_period'].quantile(0.75)\n",
    "\n",
    "# Define the upper and lower bounds to identify outliers\n",
    "IQR=Q2-Q1\n",
    "lower_bound=Q1-1.5 *IQR\n",
    "upper_bound=Q2+1.5 *IQR\n",
    "\n",
    "# Identify and remove rows with delivery_period values outside the bounds (considered outliers)\n",
    "outliers=df[(df['delivery_period']< lower_bound)  | (df['delivery_period']> upper_bound)]\n",
    "cleaned_df= df[~((df['delivery_period']< lower_bound)  | (df['delivery_period']> upper_bound))]\n",
    "\n",
    "#percentage calculation\n",
    "percentage_outliers =(len(outliers)/ len(df))*100\n",
    "\n",
    "print(f\"The percentage of outlier values in delivery_period column is: {percentage_outliers:.2f}%\")\n",
    "\n",
    "\n"
   ]
  },
  {
   "cell_type": "code",
   "execution_count": 61,
   "id": "WDNNxuiqhd3A",
   "metadata": {
    "colab": {
     "base_uri": "https://localhost:8080/",
     "height": 338
    },
    "id": "WDNNxuiqhd3A",
    "outputId": "1d638834-b24b-4697-a5e0-638c6ae2eee3"
   },
   "outputs": [
    {
     "data": {
      "text/html": [
       "<div>\n",
       "<style scoped>\n",
       "    .dataframe tbody tr th:only-of-type {\n",
       "        vertical-align: middle;\n",
       "    }\n",
       "\n",
       "    .dataframe tbody tr th {\n",
       "        vertical-align: top;\n",
       "    }\n",
       "\n",
       "    .dataframe thead th {\n",
       "        text-align: right;\n",
       "    }\n",
       "</style>\n",
       "<table border=\"1\" class=\"dataframe\">\n",
       "  <thead>\n",
       "    <tr style=\"text-align: right;\">\n",
       "      <th></th>\n",
       "      <th>item_date</th>\n",
       "      <th>quantity tons</th>\n",
       "      <th>country</th>\n",
       "      <th>application</th>\n",
       "      <th>thickness</th>\n",
       "      <th>width</th>\n",
       "      <th>delivery date</th>\n",
       "      <th>selling_price</th>\n",
       "      <th>id_encoded</th>\n",
       "      <th>status_encoded</th>\n",
       "      <th>item type_encoded</th>\n",
       "      <th>product_ref_encoded</th>\n",
       "      <th>material_ref_encoded</th>\n",
       "      <th>customer_encoded</th>\n",
       "      <th>outlier_flag</th>\n",
       "      <th>outlier_flag_quantity</th>\n",
       "      <th>outlier_flag_width</th>\n",
       "      <th>delivery_period</th>\n",
       "    </tr>\n",
       "  </thead>\n",
       "  <tbody>\n",
       "    <tr>\n",
       "      <th>count</th>\n",
       "      <td>181673</td>\n",
       "      <td>1.816730e+05</td>\n",
       "      <td>181673.000000</td>\n",
       "      <td>181673.000000</td>\n",
       "      <td>181673.000000</td>\n",
       "      <td>181673.000000</td>\n",
       "      <td>181673</td>\n",
       "      <td>1.816730e+05</td>\n",
       "      <td>181673.000000</td>\n",
       "      <td>181673.000000</td>\n",
       "      <td>181673.000000</td>\n",
       "      <td>181673.000000</td>\n",
       "      <td>181673.000000</td>\n",
       "      <td>181673.000000</td>\n",
       "      <td>181673.000000</td>\n",
       "      <td>181673.000000</td>\n",
       "      <td>181673.000000</td>\n",
       "      <td>181673.000000</td>\n",
       "    </tr>\n",
       "    <tr>\n",
       "      <th>mean</th>\n",
       "      <td>2020-11-26 22:57:05.323521024</td>\n",
       "      <td>5.874969e+03</td>\n",
       "      <td>44.893022</td>\n",
       "      <td>25.615809</td>\n",
       "      <td>2.564827</td>\n",
       "      <td>1295.286724</td>\n",
       "      <td>2021-01-25 22:43:50.629757696</td>\n",
       "      <td>1.918036e+03</td>\n",
       "      <td>90835.999994</td>\n",
       "      <td>5.131869</td>\n",
       "      <td>4.133036</td>\n",
       "      <td>19.317059</td>\n",
       "      <td>12292.074750</td>\n",
       "      <td>409.425011</td>\n",
       "      <td>0.799992</td>\n",
       "      <td>0.799992</td>\n",
       "      <td>0.997710</td>\n",
       "      <td>59.990802</td>\n",
       "    </tr>\n",
       "    <tr>\n",
       "      <th>min</th>\n",
       "      <td>2020-07-02 00:00:00</td>\n",
       "      <td>-1.800000e+01</td>\n",
       "      <td>25.000000</td>\n",
       "      <td>2.000000</td>\n",
       "      <td>0.180000</td>\n",
       "      <td>1.000000</td>\n",
       "      <td>2019-04-01 00:00:00</td>\n",
       "      <td>-1.160000e+03</td>\n",
       "      <td>0.000000</td>\n",
       "      <td>0.000000</td>\n",
       "      <td>0.000000</td>\n",
       "      <td>0.000000</td>\n",
       "      <td>0.000000</td>\n",
       "      <td>0.000000</td>\n",
       "      <td>-1.000000</td>\n",
       "      <td>-1.000000</td>\n",
       "      <td>-1.000000</td>\n",
       "      <td>-689.000000</td>\n",
       "    </tr>\n",
       "    <tr>\n",
       "      <th>25%</th>\n",
       "      <td>2020-09-29 00:00:00</td>\n",
       "      <td>1.097067e+01</td>\n",
       "      <td>26.000000</td>\n",
       "      <td>10.000000</td>\n",
       "      <td>0.700000</td>\n",
       "      <td>1180.000000</td>\n",
       "      <td>2020-11-01 00:00:00</td>\n",
       "      <td>6.690000e+02</td>\n",
       "      <td>45418.000000</td>\n",
       "      <td>2.000000</td>\n",
       "      <td>3.000000</td>\n",
       "      <td>12.000000</td>\n",
       "      <td>8751.000000</td>\n",
       "      <td>150.000000</td>\n",
       "      <td>1.000000</td>\n",
       "      <td>1.000000</td>\n",
       "      <td>1.000000</td>\n",
       "      <td>28.000000</td>\n",
       "    </tr>\n",
       "    <tr>\n",
       "      <th>50%</th>\n",
       "      <td>2020-11-30 00:00:00</td>\n",
       "      <td>3.036500e+01</td>\n",
       "      <td>30.000000</td>\n",
       "      <td>15.000000</td>\n",
       "      <td>1.500000</td>\n",
       "      <td>1250.000000</td>\n",
       "      <td>2021-01-01 00:00:00</td>\n",
       "      <td>8.120000e+02</td>\n",
       "      <td>90836.000000</td>\n",
       "      <td>7.000000</td>\n",
       "      <td>5.000000</td>\n",
       "      <td>25.000000</td>\n",
       "      <td>14893.000000</td>\n",
       "      <td>312.000000</td>\n",
       "      <td>1.000000</td>\n",
       "      <td>1.000000</td>\n",
       "      <td>1.000000</td>\n",
       "      <td>59.000000</td>\n",
       "    </tr>\n",
       "    <tr>\n",
       "      <th>75%</th>\n",
       "      <td>2021-02-03 00:00:00</td>\n",
       "      <td>6.716145e+01</td>\n",
       "      <td>78.000000</td>\n",
       "      <td>41.000000</td>\n",
       "      <td>3.000000</td>\n",
       "      <td>1500.000000</td>\n",
       "      <td>2021-04-01 00:00:00</td>\n",
       "      <td>9.530000e+02</td>\n",
       "      <td>136254.000000</td>\n",
       "      <td>7.000000</td>\n",
       "      <td>5.000000</td>\n",
       "      <td>28.000000</td>\n",
       "      <td>16553.000000</td>\n",
       "      <td>654.000000</td>\n",
       "      <td>1.000000</td>\n",
       "      <td>1.000000</td>\n",
       "      <td>1.000000</td>\n",
       "      <td>97.000000</td>\n",
       "    </tr>\n",
       "    <tr>\n",
       "      <th>max</th>\n",
       "      <td>2021-04-01 00:00:00</td>\n",
       "      <td>1.000000e+09</td>\n",
       "      <td>113.000000</td>\n",
       "      <td>99.000000</td>\n",
       "      <td>2500.000000</td>\n",
       "      <td>2990.000000</td>\n",
       "      <td>2022-01-01 00:00:00</td>\n",
       "      <td>1.000010e+08</td>\n",
       "      <td>181671.000000</td>\n",
       "      <td>9.000000</td>\n",
       "      <td>6.000000</td>\n",
       "      <td>32.000000</td>\n",
       "      <td>16563.000000</td>\n",
       "      <td>1169.000000</td>\n",
       "      <td>1.000000</td>\n",
       "      <td>1.000000</td>\n",
       "      <td>1.000000</td>\n",
       "      <td>448.000000</td>\n",
       "    </tr>\n",
       "    <tr>\n",
       "      <th>std</th>\n",
       "      <td>NaN</td>\n",
       "      <td>2.349075e+06</td>\n",
       "      <td>24.402334</td>\n",
       "      <td>17.753002</td>\n",
       "      <td>6.572303</td>\n",
       "      <td>261.631754</td>\n",
       "      <td>NaN</td>\n",
       "      <td>3.317947e+05</td>\n",
       "      <td>52444.622055</td>\n",
       "      <td>2.644863</td>\n",
       "      <td>1.055230</td>\n",
       "      <td>10.454250</td>\n",
       "      <td>5024.418461</td>\n",
       "      <td>318.431479</td>\n",
       "      <td>0.600012</td>\n",
       "      <td>0.600012</td>\n",
       "      <td>0.067635</td>\n",
       "      <td>46.814758</td>\n",
       "    </tr>\n",
       "  </tbody>\n",
       "</table>\n",
       "</div>"
      ],
      "text/plain": [
       "                           item_date  quantity tons        country  \\\n",
       "count                         181673   1.816730e+05  181673.000000   \n",
       "mean   2020-11-26 22:57:05.323521024   5.874969e+03      44.893022   \n",
       "min              2020-07-02 00:00:00  -1.800000e+01      25.000000   \n",
       "25%              2020-09-29 00:00:00   1.097067e+01      26.000000   \n",
       "50%              2020-11-30 00:00:00   3.036500e+01      30.000000   \n",
       "75%              2021-02-03 00:00:00   6.716145e+01      78.000000   \n",
       "max              2021-04-01 00:00:00   1.000000e+09     113.000000   \n",
       "std                              NaN   2.349075e+06      24.402334   \n",
       "\n",
       "         application      thickness          width  \\\n",
       "count  181673.000000  181673.000000  181673.000000   \n",
       "mean       25.615809       2.564827    1295.286724   \n",
       "min         2.000000       0.180000       1.000000   \n",
       "25%        10.000000       0.700000    1180.000000   \n",
       "50%        15.000000       1.500000    1250.000000   \n",
       "75%        41.000000       3.000000    1500.000000   \n",
       "max        99.000000    2500.000000    2990.000000   \n",
       "std        17.753002       6.572303     261.631754   \n",
       "\n",
       "                       delivery date  selling_price     id_encoded  \\\n",
       "count                         181673   1.816730e+05  181673.000000   \n",
       "mean   2021-01-25 22:43:50.629757696   1.918036e+03   90835.999994   \n",
       "min              2019-04-01 00:00:00  -1.160000e+03       0.000000   \n",
       "25%              2020-11-01 00:00:00   6.690000e+02   45418.000000   \n",
       "50%              2021-01-01 00:00:00   8.120000e+02   90836.000000   \n",
       "75%              2021-04-01 00:00:00   9.530000e+02  136254.000000   \n",
       "max              2022-01-01 00:00:00   1.000010e+08  181671.000000   \n",
       "std                              NaN   3.317947e+05   52444.622055   \n",
       "\n",
       "       status_encoded  item type_encoded  product_ref_encoded  \\\n",
       "count   181673.000000      181673.000000        181673.000000   \n",
       "mean         5.131869           4.133036            19.317059   \n",
       "min          0.000000           0.000000             0.000000   \n",
       "25%          2.000000           3.000000            12.000000   \n",
       "50%          7.000000           5.000000            25.000000   \n",
       "75%          7.000000           5.000000            28.000000   \n",
       "max          9.000000           6.000000            32.000000   \n",
       "std          2.644863           1.055230            10.454250   \n",
       "\n",
       "       material_ref_encoded  customer_encoded   outlier_flag  \\\n",
       "count         181673.000000     181673.000000  181673.000000   \n",
       "mean           12292.074750        409.425011       0.799992   \n",
       "min                0.000000          0.000000      -1.000000   \n",
       "25%             8751.000000        150.000000       1.000000   \n",
       "50%            14893.000000        312.000000       1.000000   \n",
       "75%            16553.000000        654.000000       1.000000   \n",
       "max            16563.000000       1169.000000       1.000000   \n",
       "std             5024.418461        318.431479       0.600012   \n",
       "\n",
       "       outlier_flag_quantity  outlier_flag_width  delivery_period  \n",
       "count          181673.000000       181673.000000    181673.000000  \n",
       "mean                0.799992            0.997710        59.990802  \n",
       "min                -1.000000           -1.000000      -689.000000  \n",
       "25%                 1.000000            1.000000        28.000000  \n",
       "50%                 1.000000            1.000000        59.000000  \n",
       "75%                 1.000000            1.000000        97.000000  \n",
       "max                 1.000000            1.000000       448.000000  \n",
       "std                 0.600012            0.067635        46.814758  "
      ]
     },
     "execution_count": 61,
     "metadata": {},
     "output_type": "execute_result"
    }
   ],
   "source": [
    "df.describe()"
   ]
  },
  {
   "cell_type": "code",
   "execution_count": 62,
   "id": "Y4qKltBnpYhD",
   "metadata": {
    "colab": {
     "base_uri": "https://localhost:8080/"
    },
    "id": "Y4qKltBnpYhD",
    "outputId": "2a4da650-178e-4627-a2cc-595adca3e1ea"
   },
   "outputs": [
    {
     "data": {
      "text/plain": [
       "country\n",
       "78.000000     32084\n",
       "26.000000     27516\n",
       "25.000000     23362\n",
       "27.000000     21511\n",
       "32.000000     18658\n",
       "28.000000     15824\n",
       "84.000000     12776\n",
       "77.000000      9714\n",
       "30.000000      8702\n",
       "39.000000      3731\n",
       "79.000000      2742\n",
       "38.000000      1712\n",
       "40.000000      1683\n",
       "80.000000       819\n",
       "113.000000      714\n",
       "89.000000        92\n",
       "44.893022        28\n",
       "107.000000        5\n",
       "Name: count, dtype: int64"
      ]
     },
     "execution_count": 62,
     "metadata": {},
     "output_type": "execute_result"
    }
   ],
   "source": [
    "df['country'].value_counts()"
   ]
  },
  {
   "cell_type": "code",
   "execution_count": 63,
   "id": "HCk6hD2jpuS-",
   "metadata": {
    "colab": {
     "base_uri": "https://localhost:8080/"
    },
    "id": "HCk6hD2jpuS-",
    "outputId": "b20e4278-120c-4c1e-f818-8dc9ab13a1e4"
   },
   "outputs": [
    {
     "data": {
      "text/plain": [
       "application\n",
       "10.000000    77544\n",
       "41.000000    46261\n",
       "15.000000    20772\n",
       "59.000000     8927\n",
       "42.000000     5858\n",
       "56.000000     4846\n",
       "29.000000     1937\n",
       "27.000000     1784\n",
       "26.000000     1650\n",
       "28.000000     1591\n",
       "40.000000     1576\n",
       "25.000000     1498\n",
       "79.000000     1422\n",
       "22.000000     1023\n",
       "20.000000      768\n",
       "66.000000      718\n",
       "3.000000       657\n",
       "38.000000      511\n",
       "58.000000      447\n",
       "4.000000       286\n",
       "39.000000      267\n",
       "65.000000      247\n",
       "67.000000      221\n",
       "68.000000      181\n",
       "99.000000      146\n",
       "19.000000      143\n",
       "69.000000      122\n",
       "5.000000       110\n",
       "70.000000      102\n",
       "2.000000        34\n",
       "25.615809       24\n",
       "Name: count, dtype: int64"
      ]
     },
     "execution_count": 63,
     "metadata": {},
     "output_type": "execute_result"
    }
   ],
   "source": [
    "df['application'].value_counts()"
   ]
  },
  {
   "cell_type": "markdown",
   "id": "x_K_KOL0hiCp",
   "metadata": {
    "id": "x_K_KOL0hiCp"
   },
   "source": []
  },
  {
   "cell_type": "code",
   "execution_count": 64,
   "id": "X8Pgsd0CFc1U",
   "metadata": {
    "colab": {
     "base_uri": "https://localhost:8080/"
    },
    "id": "X8Pgsd0CFc1U",
    "outputId": "4edb7e4f-a43d-454e-f5ae-6fb6595a7377"
   },
   "outputs": [
    {
     "data": {
      "text/plain": [
       "Index(['id', 'item_date', 'quantity tons', 'customer', 'country', 'status',\n",
       "       'item type', 'application', 'thickness', 'width', 'material_ref',\n",
       "       'product_ref', 'delivery date', 'selling_price', 'id_encoded',\n",
       "       'status_encoded', 'item type_encoded', 'product_ref_encoded',\n",
       "       'material_ref_encoded', 'customer_encoded', 'outlier_flag',\n",
       "       'outlier_flag_quantity', 'outlier_flag_width', 'delivery_period'],\n",
       "      dtype='object')"
      ]
     },
     "execution_count": 64,
     "metadata": {},
     "output_type": "execute_result"
    }
   ],
   "source": [
    "df.columns"
   ]
  },
  {
   "cell_type": "code",
   "execution_count": 65,
   "id": "fH-RYONeUCGJ",
   "metadata": {
    "colab": {
     "base_uri": "https://localhost:8080/"
    },
    "id": "fH-RYONeUCGJ",
    "outputId": "c8464392-7448-4fb3-8f3c-173d92b35749"
   },
   "outputs": [
    {
     "data": {
      "text/plain": [
       "count    1.816730e+05\n",
       "mean     1.918036e+03\n",
       "std      3.317947e+05\n",
       "min     -1.160000e+03\n",
       "25%      6.690000e+02\n",
       "50%      8.120000e+02\n",
       "75%      9.530000e+02\n",
       "max      1.000010e+08\n",
       "Name: selling_price, dtype: float64"
      ]
     },
     "execution_count": 65,
     "metadata": {},
     "output_type": "execute_result"
    }
   ],
   "source": [
    "df['selling_price'].describe()\n"
   ]
  },
  {
   "cell_type": "code",
   "execution_count": 66,
   "id": "zwWDsnOGofqF",
   "metadata": {
    "colab": {
     "base_uri": "https://localhost:8080/"
    },
    "id": "zwWDsnOGofqF",
    "outputId": "892d92ad-326a-4d3a-f61f-e23465f02939"
   },
   "outputs": [
    {
     "name": "stderr",
     "output_type": "stream",
     "text": [
      "C:\\Users\\Admin\\AppData\\Local\\Temp\\ipykernel_8016\\765250911.py:6: SettingWithCopyWarning: \n",
      "A value is trying to be set on a copy of a slice from a DataFrame\n",
      "\n",
      "See the caveats in the documentation: https://pandas.pydata.org/pandas-docs/stable/user_guide/indexing.html#returning-a-view-versus-a-copy\n",
      "  df['selling_price'].fillna(median_price,inplace=True)\n",
      "C:\\Users\\Admin\\AppData\\Local\\Temp\\ipykernel_8016\\765250911.py:7: SettingWithCopyWarning: \n",
      "A value is trying to be set on a copy of a slice from a DataFrame\n",
      "\n",
      "See the caveats in the documentation: https://pandas.pydata.org/pandas-docs/stable/user_guide/indexing.html#returning-a-view-versus-a-copy\n",
      "  df['selling_price'].fillna(median_price,inplace=True)\n",
      "C:\\Users\\Admin\\AppData\\Local\\Temp\\ipykernel_8016\\765250911.py:8: SettingWithCopyWarning: \n",
      "A value is trying to be set on a copy of a slice from a DataFrame.\n",
      "Try using .loc[row_indexer,col_indexer] = value instead\n",
      "\n",
      "See the caveats in the documentation: https://pandas.pydata.org/pandas-docs/stable/user_guide/indexing.html#returning-a-view-versus-a-copy\n",
      "  df['selling_price']=pd.to_numeric(df['selling_price'])\n"
     ]
    }
   ],
   "source": [
    "df=df[df['selling_price'] >=0]\n",
    "mean_price=df['selling_price'].mean()\n",
    "std_price=df['selling_price'].std()\n",
    "upper_limit =mean_price+3*std_price\n",
    "median_price=df['selling_price'].median()\n",
    "df['selling_price'].fillna(median_price,inplace=True)\n",
    "df['selling_price'].fillna(median_price,inplace=True)\n",
    "df['selling_price']=pd.to_numeric(df['selling_price'])"
   ]
  },
  {
   "cell_type": "code",
   "execution_count": 67,
   "id": "x-ChkpcAsi5n",
   "metadata": {
    "colab": {
     "base_uri": "https://localhost:8080/"
    },
    "id": "x-ChkpcAsi5n",
    "outputId": "71d94765-c9b5-4402-8aa4-f6397efc449e"
   },
   "outputs": [
    {
     "data": {
      "text/plain": [
       "count    1.816680e+05\n",
       "mean     1.918103e+03\n",
       "std      3.317993e+05\n",
       "min      0.000000e+00\n",
       "25%      6.690000e+02\n",
       "50%      8.120000e+02\n",
       "75%      9.530000e+02\n",
       "max      1.000010e+08\n",
       "Name: selling_price, dtype: float64"
      ]
     },
     "execution_count": 67,
     "metadata": {},
     "output_type": "execute_result"
    }
   ],
   "source": [
    "df['selling_price'].describe()"
   ]
  },
  {
   "cell_type": "code",
   "execution_count": 68,
   "id": "Kb1xGkbvWcyw",
   "metadata": {
    "colab": {
     "base_uri": "https://localhost:8080/"
    },
    "id": "Kb1xGkbvWcyw",
    "outputId": "cc2cb4ef-bc6f-408b-dfe5-08ee12bab610"
   },
   "outputs": [
    {
     "data": {
      "text/plain": [
       "36192     1.000010e+08\n",
       "10228     1.000009e+08\n",
       "123570    8.123614e+04\n",
       "124547    1.091300e+04\n",
       "159869    8.791000e+03\n",
       "              ...     \n",
       "40773     1.847000e+03\n",
       "145898    1.846000e+03\n",
       "2145      1.844000e+03\n",
       "75254     1.844000e+03\n",
       "2149      1.838000e+03\n",
       "Name: selling_price, Length: 100, dtype: float64"
      ]
     },
     "execution_count": 68,
     "metadata": {},
     "output_type": "execute_result"
    }
   ],
   "source": [
    "df['selling_price'].nlargest(100)"
   ]
  },
  {
   "cell_type": "code",
   "execution_count": 69,
   "id": "Kk0A2GFDXNyZ",
   "metadata": {
    "colab": {
     "base_uri": "https://localhost:8080/"
    },
    "id": "Kk0A2GFDXNyZ",
    "outputId": "530ef3f5-ec0a-43d7-f9c9-37effd74bbf8"
   },
   "outputs": [
    {
     "name": "stderr",
     "output_type": "stream",
     "text": [
      "C:\\Users\\Admin\\AppData\\Local\\Temp\\ipykernel_8016\\141762443.py:5: SettingWithCopyWarning: \n",
      "A value is trying to be set on a copy of a slice from a DataFrame.\n",
      "Try using .loc[row_indexer,col_indexer] = value instead\n",
      "\n",
      "See the caveats in the documentation: https://pandas.pydata.org/pandas-docs/stable/user_guide/indexing.html#returning-a-view-versus-a-copy\n",
      "  df['selling_price'] = df[(df['selling_price'] >= minimum_price) & (df['selling_price'] <= maximum_price)]['selling_price']\n"
     ]
    }
   ],
   "source": [
    "minimum_price = 10\n",
    "maximum_price = 1850\n",
    "\n",
    "# Filtering the 'selling_price' column based on the specified range\n",
    "df['selling_price'] = df[(df['selling_price'] >= minimum_price) & (df['selling_price'] <= maximum_price)]['selling_price']\n"
   ]
  },
  {
   "cell_type": "code",
   "execution_count": 70,
   "id": "QXutfoLRAo0C",
   "metadata": {
    "colab": {
     "base_uri": "https://localhost:8080/"
    },
    "id": "QXutfoLRAo0C",
    "outputId": "114ebec3-a740-45cd-f181-3cd30e659885"
   },
   "outputs": [
    {
     "data": {
      "text/plain": [
       "105402     10.0\n",
       "973        11.0\n",
       "1787       11.0\n",
       "1791       11.0\n",
       "1803       11.0\n",
       "          ...  \n",
       "2108      174.0\n",
       "105279    250.0\n",
       "172368    396.0\n",
       "173783    396.0\n",
       "173787    396.0\n",
       "Name: selling_price, Length: 3147, dtype: float64"
      ]
     },
     "execution_count": 70,
     "metadata": {},
     "output_type": "execute_result"
    }
   ],
   "source": [
    "smallest=df['selling_price']\n",
    "smallest.nsmallest(3147)"
   ]
  },
  {
   "cell_type": "code",
   "execution_count": 71,
   "id": "woIzOrt7DYrK",
   "metadata": {
    "colab": {
     "base_uri": "https://localhost:8080/"
    },
    "id": "woIzOrt7DYrK",
    "outputId": "d7f92ea3-7d3b-4a19-bbbe-c66521b3dd68"
   },
   "outputs": [
    {
     "data": {
      "text/plain": [
       "count    181571.000000\n",
       "mean        815.910380\n",
       "std         224.421067\n",
       "min          10.000000\n",
       "25%         669.000000\n",
       "50%         812.000000\n",
       "75%         953.000000\n",
       "max        1847.000000\n",
       "Name: selling_price, dtype: float64"
      ]
     },
     "execution_count": 71,
     "metadata": {},
     "output_type": "execute_result"
    }
   ],
   "source": [
    "df['selling_price'].describe()"
   ]
  },
  {
   "cell_type": "code",
   "execution_count": 72,
   "id": "CAv_5jMGtC57",
   "metadata": {
    "colab": {
     "base_uri": "https://localhost:8080/",
     "height": 450
    },
    "id": "CAv_5jMGtC57",
    "outputId": "dc7f9b3b-e3c5-4f5d-d07f-4f80d78cf673"
   },
   "outputs": [
    {
     "name": "stderr",
     "output_type": "stream",
     "text": [
      "D:\\Anaconda\\Lib\\site-packages\\seaborn\\_oldcore.py:1498: FutureWarning: is_categorical_dtype is deprecated and will be removed in a future version. Use isinstance(dtype, CategoricalDtype) instead\n",
      "  if pd.api.types.is_categorical_dtype(vector):\n"
     ]
    },
    {
     "data": {
      "image/png": "[encoded data removed]",
      "text/plain": [
       "<Figure size 640x480 with 1 Axes>"
      ]
     },
     "metadata": {},
     "output_type": "display_data"
    }
   ],
   "source": [
    "import seaborn as sns\n",
    "import matplotlib.pyplot as plt\n",
    "\n",
    "sns.boxplot(x=df['selling_price'])\n",
    "plt.show()\n"
   ]
  },
  {
   "cell_type": "code",
   "execution_count": 73,
   "id": "Aqj5FsAbD-QT",
   "metadata": {
    "colab": {
     "base_uri": "https://localhost:8080/"
    },
    "id": "Aqj5FsAbD-QT",
    "outputId": "70b4d824-6d8f-4e16-ef98-833eed5151de"
   },
   "outputs": [
    {
     "data": {
      "text/plain": [
       "97"
      ]
     },
     "execution_count": 73,
     "metadata": {},
     "output_type": "execute_result"
    }
   ],
   "source": [
    "df['selling_price'].isnull().sum()"
   ]
  },
  {
   "cell_type": "code",
   "execution_count": 74,
   "id": "KaBFPRLmEI2l",
   "metadata": {
    "colab": {
     "base_uri": "https://localhost:8080/"
    },
    "id": "KaBFPRLmEI2l",
    "outputId": "2c461131-1003-450a-c4b0-c41bf8451ed3"
   },
   "outputs": [
    {
     "name": "stderr",
     "output_type": "stream",
     "text": [
      "C:\\Users\\Admin\\AppData\\Local\\Temp\\ipykernel_8016\\870249433.py:2: SettingWithCopyWarning: \n",
      "A value is trying to be set on a copy of a slice from a DataFrame\n",
      "\n",
      "See the caveats in the documentation: https://pandas.pydata.org/pandas-docs/stable/user_guide/indexing.html#returning-a-view-versus-a-copy\n",
      "  df['selling_price'].fillna(mean_selling_price, inplace=True)\n"
     ]
    }
   ],
   "source": [
    "mean_selling_price =df['selling_price'].mean()\n",
    "df['selling_price'].fillna(mean_selling_price, inplace=True)"
   ]
  },
  {
   "cell_type": "code",
   "execution_count": 75,
   "id": "ciKzgnkiRqh8",
   "metadata": {
    "colab": {
     "base_uri": "https://localhost:8080/"
    },
    "id": "ciKzgnkiRqh8",
    "outputId": "44f9ee36-5024-4855-9669-d989a30d42a7"
   },
   "outputs": [
    {
     "data": {
      "text/plain": [
       "count    181668.000000\n",
       "mean        815.910380\n",
       "std         224.361145\n",
       "min          10.000000\n",
       "25%         669.000000\n",
       "50%         812.000000\n",
       "75%         953.000000\n",
       "max        1847.000000\n",
       "Name: selling_price, dtype: float64"
      ]
     },
     "execution_count": 75,
     "metadata": {},
     "output_type": "execute_result"
    }
   ],
   "source": [
    "df['selling_price'].describe()"
   ]
  },
  {
   "cell_type": "code",
   "execution_count": 76,
   "id": "6U-fdFwUTPLR",
   "metadata": {
    "colab": {
     "base_uri": "https://localhost:8080/"
    },
    "id": "6U-fdFwUTPLR",
    "outputId": "5655de19-07c9-4aed-e26f-27c79b7a1c3c"
   },
   "outputs": [
    {
     "data": {
      "text/plain": [
       "652       1847.0\n",
       "40773     1847.0\n",
       "145898    1846.0\n",
       "2145      1844.0\n",
       "75254     1844.0\n",
       "2149      1838.0\n",
       "2137      1836.0\n",
       "658       1833.0\n",
       "156816    1828.0\n",
       "2139      1825.0\n",
       "415       1824.0\n",
       "40774     1822.0\n",
       "2147      1814.0\n",
       "48623     1812.0\n",
       "140594    1810.0\n",
       "654       1804.0\n",
       "9268      1802.0\n",
       "1176      1801.0\n",
       "40772     1795.0\n",
       "1198      1794.0\n",
       "44987     1790.0\n",
       "70510     1786.0\n",
       "70502     1785.0\n",
       "18525     1784.0\n",
       "175594    1781.0\n",
       "24464     1778.0\n",
       "24456     1776.0\n",
       "62000     1772.0\n",
       "50789     1770.0\n",
       "18527     1765.0\n",
       "659       1760.0\n",
       "52060     1754.0\n",
       "51112     1753.0\n",
       "96454     1753.0\n",
       "36571     1752.0\n",
       "7237      1749.0\n",
       "45084     1749.0\n",
       "7233      1747.0\n",
       "2107      1746.0\n",
       "58757     1746.0\n",
       "131906    1744.0\n",
       "2127      1742.0\n",
       "2115      1741.0\n",
       "96220     1740.0\n",
       "409       1739.0\n",
       "2131      1739.0\n",
       "2135      1737.0\n",
       "2151      1737.0\n",
       "2141      1736.0\n",
       "2119      1734.0\n",
       "Name: selling_price, dtype: float64"
      ]
     },
     "execution_count": 76,
     "metadata": {},
     "output_type": "execute_result"
    }
   ],
   "source": [
    "df['selling_price'].nlargest(50)"
   ]
  },
  {
   "cell_type": "code",
   "execution_count": 77,
   "id": "59e975da",
   "metadata": {},
   "outputs": [],
   "source": [
    "df.to_csv(r\"C:\\Users\\Admin\\Downloads\\IndustryCopperCleaned.csv\", index=False)"
   ]
  },
  {
   "cell_type": "code",
   "execution_count": null,
   "id": "dff9bfd8",
   "metadata": {},
   "outputs": [],
   "source": []
  },
  {
   "cell_type": "code",
   "execution_count": null,
   "id": "ZcREs1qzL2ld",
   "metadata": {
    "colab": {
     "background_save": true
    },
    "id": "ZcREs1qzL2ld",
    "outputId": "2eb6fb70-2c49-4be8-bb4b-55c210b32f49"
   },
   "outputs": [
    {
     "name": "stdout",
     "output_type": "stream",
     "text": [
      "Decision Tree Metrics:\n",
      "MAE: 68.27\n",
      "MSE: 20856.91\n",
      "RMSE: 144.42\n",
      "R-squared: 0.59\n",
      "\n",
      "Random Forest Metrics:\n",
      "MAE: 58.60\n",
      "MSE: 11293.79\n",
      "RMSE: 106.27\n",
      "R-squared: 0.78\n",
      "\n",
      "XGBoost Metrics:\n",
      "MAE: 90.27\n",
      "MSE: 18635.74\n",
      "RMSE: 136.51\n",
      "R-squared: 0.63\n",
      "\n",
      "SVM Metrics:\n",
      "MAE: 170.97\n",
      "MSE: 50828.16\n",
      "RMSE: 225.45\n",
      "R-squared: -0.00\n",
      "\n"
     ]
    }
   ],
   "source": [
    "from sklearn.model_selection import train_test_split\n",
    "from sklearn.tree import DecisionTreeRegressor\n",
    "from sklearn.ensemble import RandomForestRegressor\n",
    "from xgboost import XGBRegressor\n",
    "from sklearn.svm import SVR\n",
    "from sklearn.metrics import mean_absolute_error, mean_squared_error, r2_score\n",
    "from math import sqrt\n",
    "\n",
    "# Assuming 'df' is your DataFrame and 'X', 'Y' are specified as per your column selection\n",
    "numerical_columns = [\n",
    "    'quantity tons','thickness', 'width','product_ref_encoded',\n",
    "    'delivery_period', 'material_ref_encoded',]\n",
    "\n",
    "X = df[numerical_columns]  # Features\n",
    "Y = df['selling_price']\n",
    "\n",
    "# Splitting the data into train and test sets\n",
    "X_train, X_test, Y_train, Y_test = train_test_split(X, Y, test_size=0.2, random_state=42)\n",
    "\n",
    "# Decision Tree Regressor\n",
    "dt_regressor = DecisionTreeRegressor()\n",
    "dt_regressor.fit(X_train, Y_train)\n",
    "dt_pred = dt_regressor.predict(X_test)\n",
    "\n",
    "# Random Forest Regressor\n",
    "rf_regressor = RandomForestRegressor()\n",
    "rf_regressor.fit(X_train, Y_train)\n",
    "rf_pred = rf_regressor.predict(X_test)\n",
    "\n",
    "# XGBoost Regressor\n",
    "xgb_regressor = XGBRegressor()\n",
    "xgb_regressor.fit(X_train, Y_train)\n",
    "xgb_pred = xgb_regressor.predict(X_test)\n",
    "\n",
    "# SVM Regressor\n",
    "svm_regressor = SVR()\n",
    "svm_regressor.fit(X_train, Y_train)\n",
    "svm_pred = svm_regressor.predict(X_test)\n",
    "\n",
    "# Evaluating the models\n",
    "def evaluate_model(name, true_values, predicted_values):\n",
    "    mae = mean_absolute_error(true_values, predicted_values)\n",
    "    mse = mean_squared_error(true_values, predicted_values)\n",
    "    rmse = sqrt(mse)\n",
    "    r2 = r2_score(true_values, predicted_values)\n",
    "    print(f\"{name} Metrics:\")\n",
    "    print(f\"MAE: {mae:.2f}\")\n",
    "    print(f\"MSE: {mse:.2f}\")\n",
    "    print(f\"RMSE: {rmse:.2f}\")\n",
    "    print(f\"R-squared: {r2:.2f}\")\n",
    "    print(\"\")\n",
    "\n",
    "evaluate_model(\"Decision Tree\", Y_test, dt_pred)\n",
    "evaluate_model(\"Random Forest\", Y_test, rf_pred)\n",
    "evaluate_model(\"XGBoost\", Y_test, xgb_pred)\n",
    "evaluate_model(\"SVM\", Y_test, svm_pred)\n"
   ]
  },
  {
   "cell_type": "code",
   "execution_count": null,
   "id": "ZMrospD3MWm4",
   "metadata": {
    "colab": {
     "background_save": true
    },
    "id": "ZMrospD3MWm4",
    "outputId": "bea03829-b075-4cd3-e00d-7077d6b20744"
   },
   "outputs": [
    {
     "data": {
      "text/plain": [
       "Index(['id', 'item_date', 'quantity tons', 'customer', 'country', 'status',\n",
       "       'item type', 'application', 'thickness', 'width', 'material_ref',\n",
       "       'product_ref', 'delivery date', 'selling_price', 'id_encoded',\n",
       "       'status_encoded', 'item type_encoded', 'product_ref_encoded',\n",
       "       'material_ref_encoded', 'customer_encoded', 'outlier_flag',\n",
       "       'outlier_flag_quantity', 'outlier_flag_width', 'delivery_period'],\n",
       "      dtype='object')"
      ]
     },
     "execution_count": 79,
     "metadata": {},
     "output_type": "execute_result"
    }
   ],
   "source": [
    "df.columns"
   ]
  },
  {
   "cell_type": "code",
   "execution_count": null,
   "id": "Z_keeTcEFaF0",
   "metadata": {
    "id": "Z_keeTcEFaF0"
   },
   "outputs": [],
   "source": [
    "from sklearn.model_selection import train_test_split\n",
    "from sklearn.tree import DecisionTreeRegressor\n",
    "from sklearn.ensemble import RandomForestRegressor\n",
    "from xgboost import XGBRegressor\n",
    "from sklearn.svm import SVR\n",
    "from sklearn.metrics import mean_absolute_error, mean_squared_error, r2_score\n",
    "from math import sqrt\n",
    "\n",
    "# Assuming 'df' is your DataFrame and 'X', 'Y' are specified as per your column selection\n",
    "numerical_columns = [\n",
    "    'quantity tons', 'country', 'application', 'thickness', 'width',\n",
    "    'id_encoded', 'status_encoded', 'item type_encoded', 'product_ref_encoded',\n",
    "    'delivery_period', 'material_ref_encoded', 'customer_encoded'\n",
    "]\n",
    "\n",
    "X = df[numerical_columns]  # Features\n",
    "Y = df['selling_price']\n",
    "\n",
    "# Splitting the data into train and test sets\n",
    "X_train, X_test, Y_train, Y_test = train_test_split(X, Y, test_size=0.2, random_state=42)\n",
    "\n",
    "# Decision Tree Regressor\n",
    "dt_regressor = DecisionTreeRegressor()\n",
    "dt_regressor.fit(X_train, Y_train)\n",
    "dt_pred = dt_regressor.predict(X_test)\n",
    "\n",
    "# Random Forest Regressor\n",
    "rf_regressor = RandomForestRegressor()\n",
    "rf_regressor.fit(X_train, Y_train)\n",
    "rf_pred = rf_regressor.predict(X_test)\n",
    "\n",
    "# XGBoost Regressor\n",
    "xgb_regressor = XGBRegressor()\n",
    "xgb_regressor.fit(X_train, Y_train)\n",
    "xgb_pred = xgb_regressor.predict(X_test)\n",
    "\n",
    "# SVM Regressor\n",
    "svm_regressor = SVR()\n",
    "svm_regressor.fit(X_train, Y_train)\n",
    "svm_pred = svm_regressor.predict(X_test)\n",
    "\n",
    "# Evaluating the models\n",
    "def evaluate_model(name, true_values, predicted_values):\n",
    "    mae = mean_absolute_error(true_values, predicted_values)\n",
    "    mse = mean_squared_error(true_values, predicted_values)\n",
    "    rmse = sqrt(mse)\n",
    "    r2 = r2_score(true_values, predicted_values)\n",
    "    print(f\"{name} Metrics:\")\n",
    "    print(f\"MAE: {mae:.2f}\")\n",
    "    print(f\"MSE: {mse:.2f}\")\n",
    "    print(f\"RMSE: {rmse:.2f}\")\n",
    "    print(f\"R-squared: {r2:.2f}\")\n",
    "    print(\"\")\n",
    "\n",
    "evaluate_model(\"Decision Tree\", Y_test, dt_pred)\n",
    "evaluate_model(\"Random Forest\", Y_test, rf_pred)\n",
    "evaluate_model(\"XGBoost\", Y_test, xgb_pred)\n",
    "evaluate_model(\"SVM\", Y_test, svm_pred)\n"
   ]
  },
  {
   "cell_type": "code",
   "execution_count": null,
   "id": "WiXgP_5S-dND",
   "metadata": {
    "id": "WiXgP_5S-dND"
   },
   "outputs": [],
   "source": [
    "import matplotlib.pyplot as plt\n",
    "import numpy as np\n",
    "from sklearn.metrics import r2_score\n",
    "\n",
    "def plot_with_regression(name, true_values, predicted_values):\n",
    "    plt.figure(figsize=(10, 8))  # Increase the size of the plot\n",
    "\n",
    "    plt.scatter(true_values, predicted_values, alpha=0.5, label='Actual vs Predicted')\n",
    "    plt.title(f\"{name} - True vs Predicted\")\n",
    "    plt.xlabel(\"True Values\")\n",
    "    plt.ylabel(\"Predicted Values\")\n",
    "\n",
    "    # Plotting the regression line\n",
    "    regression_line = np.polyfit(true_values, predicted_values, 1)\n",
    "    plt.plot(true_values, np.polyval(regression_line, true_values), color='red', label='Regression Line')\n",
    "\n",
    "    # Adjusting the scale of X and Y axes\n",
    "    x_min, x_max = min(true_values), max(true_values)\n",
    "    y_min, y_max = min(predicted_values), max(predicted_values)\n",
    "\n",
    "    x_margin = (x_max - x_min) * 0.1  # Add 10% margin to the x-axis\n",
    "    y_margin = (y_max - y_min) * 0.1  # Add 10% margin to the y-axis\n",
    "\n",
    "    plt.xlim(x_min - x_margin, x_max + x_margin)\n",
    "    plt.ylim(y_min - y_margin, y_max + y_margin)\n",
    "\n",
    "    plt.legend()\n",
    "    plt.show()\n",
    "\n",
    "\n",
    "# Plotting for each model\n",
    "plot_with_regression(\"Decision Tree\", Y_test, dt_pred)\n",
    "plot_with_regression(\"Random Forest\", Y_test, rf_pred)\n",
    "plot_with_regression(\"XGBoost\", Y_test, xgb_pred)\n",
    "plot_with_regression(\"SVM\", Y_test, svm_pred)\n",
    "\n"
   ]
  },
  {
   "cell_type": "code",
   "execution_count": null,
   "id": "Mrn9dw5G3aCk",
   "metadata": {
    "id": "Mrn9dw5G3aCk"
   },
   "outputs": [],
   "source": [
    "from sklearn.model_selection import GridSearchCV\n",
    "\n",
    "param_grid ={\n",
    "    'max_depth':[5,10,15],\n",
    "    'min_samples_split':[2,5,10],\n",
    "    'min_samples_leaf':[1,2,4]\n",
    "}\n",
    "\n",
    "dt_regressor =DecisionTreeRegressor()\n",
    "grid_search=plt.GridSearchCV(dt_regressor,param_grid,cv=5,scoring='neg_mean_squared_error')\n",
    "grid_search.fit(X_train,Y_train)\n",
    "best_params=grid_search.best_params_\n",
    "best_model =grid_search.best_estimator_\n",
    "best_model.fit(X_train,Y_train)"
   ]
  },
  {
   "cell_type": "code",
   "execution_count": null,
   "id": "HDoZbBaKqgrK",
   "metadata": {
    "id": "HDoZbBaKqgrK"
   },
   "outputs": [],
   "source": [
    "df.info()"
   ]
  },
  {
   "cell_type": "code",
   "execution_count": null,
   "id": "sHPhO52tEaBN",
   "metadata": {
    "id": "sHPhO52tEaBN"
   },
   "outputs": [],
   "source": [
    "from sklearn.ensemble import RandomForestRegressor\n",
    "import matplotlib.pyplot as plt\n",
    "\n",
    "# Initialize Random Forest Regressor\n",
    "rf_regressor = RandomForestRegressor()\n",
    "rf_regressor.fit(X_train, Y_train)\n",
    "\n",
    "# Get feature importances\n",
    "importances = rf_regressor.feature_importances_\n",
    "feature_names = X_train.columns\n",
    "\n",
    "# Sort feature importances in descending order\n",
    "indices = np.argsort(importances)[::-1]\n",
    "\n",
    "# Plotting the feature importances\n",
    "plt.figure(figsize=(10, 6))\n",
    "plt.title(\"Feature Importances\")\n",
    "plt.bar(range(X_train.shape[1]), importances[indices], align=\"center\")\n",
    "plt.xticks(range(X_train.shape[1]), feature_names[indices], rotation=90)\n",
    "plt.tight_layout()\n",
    "plt.show()"
   ]
  },
  {
   "cell_type": "code",
   "execution_count": null,
   "id": "y3Q1sd4qEaME",
   "metadata": {
    "id": "y3Q1sd4qEaME"
   },
   "outputs": [],
   "source": [
    "from sklearn.model_selection import GridSearchCV\n",
    "\n",
    "# Define the parameter grid for the DecisionTreeRegressor\n",
    "param_grid = {\n",
    "    'max_depth': [5, 10, 15],\n",
    "    'min_samples_split': [2, 5, 10],\n",
    "    'min_samples_leaf': [1, 2, 4]\n",
    "}\n",
    "\n",
    "# Initialize the DecisionTreeRegressor\n",
    "dt_regressor = DecisionTreeRegressor()\n",
    "\n",
    "# Perform GridSearchCV\n",
    "grid_search = GridSearchCV(dt_regressor, param_grid, cv=5, scoring='neg_mean_squared_error')\n",
    "grid_search.fit(X_train, Y_train)\n",
    "\n",
    "# Get the best parameters and refit the model\n",
    "best_params = grid_search.best_params_\n",
    "best_model = grid_search.best_estimator_\n",
    "best_model.fit(X_train, Y_train)\n"
   ]
  },
  {
   "cell_type": "code",
   "execution_count": null,
   "id": "zPbSBOEeEaVv",
   "metadata": {
    "id": "zPbSBOEeEaVv"
   },
   "outputs": [],
   "source": [
    "from sklearn.ensemble import RandomForestRegressor\n",
    "import matplotlib.pyplot as plt\n",
    "\n",
    "# Initialize Random Forest Regressor\n",
    "rf_regressor = RandomForestRegressor()\n",
    "rf_regressor.fit(X_train, Y_train)\n",
    "\n",
    "# Get feature importances\n",
    "importances = rf_regressor.feature_importances_\n",
    "feature_names = X_train.columns\n",
    "\n",
    "# Sort feature importances in descending order\n",
    "indices = np.argsort(importances)[::-1]\n",
    "\n",
    "# Plotting the feature importances\n",
    "plt.figure(figsize=(10, 6))\n",
    "plt.title(\"Feature Importances\")\n",
    "plt.bar(range(X_train.shape[1]), importances[indices], align=\"center\")\n",
    "plt.xticks(range(X_train.shape[1]), feature_names[indices], rotation=90)\n",
    "plt.tight_layout()\n",
    "plt.show()\n"
   ]
  },
  {
   "cell_type": "code",
   "execution_count": null,
   "id": "rXgwXSdpEahS",
   "metadata": {
    "id": "rXgwXSdpEahS"
   },
   "outputs": [],
   "source": []
  },
  {
   "cell_type": "code",
   "execution_count": null,
   "id": "wVIakDliEatK",
   "metadata": {
    "id": "wVIakDliEatK"
   },
   "outputs": [],
   "source": []
  }
 ],
 "metadata": {
  "colab": {
   "provenance": []
  },
  "kernelspec": {
   "display_name": "Python 3 (ipykernel)",
   "language": "python",
   "name": "python3"
  },
  "language_info": {
   "codemirror_mode": {
    "name": "ipython",
    "version": 3
   },
   "file_extension": ".py",
   "mimetype": "text/x-python",
   "name": "python",
   "nbconvert_exporter": "python",
   "pygments_lexer": "ipython3",
   "version": "3.11.5"
  }
 },
 "nbformat": 4,
 "nbformat_minor": 5
}
